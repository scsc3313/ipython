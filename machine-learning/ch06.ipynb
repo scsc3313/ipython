{
 "metadata": {
  "name": "",
  "signature": "sha256:52d8c5fd81c8295eb4eae998078f801ff12218867508561564088cb989f2548f"
 },
 "nbformat": 3,
 "nbformat_minor": 0,
 "worksheets": [
  {
   "cells": [
    {
     "cell_type": "markdown",
     "metadata": {},
     "source": [
      "twitter\ubb38\uc11c \uac00\uc838\uc640\uc11c \uac10\uc131 \ubd84\uc11d \ud558\uae30 "
     ]
    },
    {
     "cell_type": "markdown",
     "metadata": {},
     "source": [
      "1. twitter \uc218\uc9d1\uae30 \uc124\uc815 \n"
     ]
    },
    {
     "cell_type": "markdown",
     "metadata": {},
     "source": [
      "dev.twitter.com/apps/new \uc811\uc18d, \uc5b4\ud50c\ub9ac\ucf00\uc774\uc158 \uc0dd\uc131"
     ]
    },
    {
     "cell_type": "markdown",
     "metadata": {},
     "source": [
      "\uc5b4\ud50c\ub9ac\ucf00\uc774\uc158 \uc0dd\uc131 \ud6c4, Consumer Key, Consumer Secret, Access TOken Key, Access Token Secret \uc0dd\uc131.|\n",
      "\ud574\ub2f9 \ub0b4\uc6a9\uc740 \ub2e4\uc74c \"twitterauth.py\"\uc5d0 \ud574\ub2f9 \ub0b4\uc6a9\uc744 \uc218\uc815 "
     ]
    },
    {
     "cell_type": "code",
     "collapsed": false,
     "input": [
      "%load twitterauth.py"
     ],
     "language": "python",
     "metadata": {},
     "outputs": [],
     "prompt_number": 7
    },
    {
     "cell_type": "code",
     "collapsed": false,
     "input": [
      "# This code is supporting material for the book\n",
      "# Building Machine Learning Systems with Python\n",
      "# by Willi Richert and Luis Pedro Coelho\n",
      "# published by PACKT Publishing\n",
      "#\n",
      "# It is made available under the MIT License\n",
      "\n",
      "import sys\n",
      "\n",
      "CONSUMER_KEY = u'GcRkL0gdhohaKsn0FqQLWEp8y'\n",
      "CONSUMER_SECRET = u'Nbfq73KPq27u5Js0IxqQMrJz2ntuZMJmGyayz3fQhycFRhh1YV'\n",
      "\n",
      "ACCESS_TOKEN_KEY = u'50568370-23CcdsyaeI2vK5QuGlRn1IlQHjD1Aubm2yfjTTAPz'\n",
      "ACCESS_TOKEN_SECRET = u'kJ9dbaSTlVPdlK3VBtBD0sds4vLe5VjSHBydaw93LpcZ0'\n",
      "\n",
      "if CONSUMER_KEY is None or CONSUMER_SECRET is None or ACCESS_TOKEN_KEY is None or ACCESS_TOKEN_SECRET is None:\n",
      "    print(\"\"\"\\\n",
      "When doing last code sanity checks for the book, Twitter\n",
      "was using the API 1.0, which did not require authentication.\n",
      "With its switch to version 1.1, this has now changed.\n",
      "\n",
      "It seems that you don't have already created your personal Twitter\n",
      "access keys and tokens. Please do so at\n",
      "https://dev.twitter.com/docs/auth/tokens-devtwittercom\n",
      "and paste the keys/secrets into twitterauth.py\n",
      "\n",
      "Sorry for the inconvenience,\n",
      "The authors.\"\"\")\n",
      "\n",
      "    sys.exit(1)\n"
     ],
     "language": "python",
     "metadata": {},
     "outputs": [],
     "prompt_number": 9
    },
    {
     "cell_type": "code",
     "collapsed": false,
     "input": [
      "import os \n",
      "os.chdir(\"/home/python/notebook_root/build_machine_learning_system_with_python/data/ch06\") \n",
      "!ls -al "
     ],
     "language": "python",
     "metadata": {},
     "outputs": [
      {
       "output_type": "stream",
       "stream": "stdout",
       "text": [
        "\ud569\uacc4 72\r\n",
        "drwxr-xr-x  3 root root  4096 12\uc6d4  1 20:47 .\r\n",
        "drwxr-xr-x 15 root root  4096 12\uc6d4  1 20:56 ..\r\n",
        "-rw-r--r--  1 root root  3955 12\uc6d4  1 20:47 01_start.py\r\n",
        "-rw-r--r--  1 root root  5484 12\uc6d4  1 20:47 02_tuning.py\r\n",
        "-rw-r--r--  1 root root  5972 12\uc6d4  1 20:47 03_clean.py\r\n",
        "-rw-r--r--  1 root root 10125 12\uc6d4  1 20:47 04_sent.py\r\n",
        "-rw-r--r--  1 root root  1023 12\uc6d4  1 20:47 README.md\r\n",
        "drwxr-xr-x  2 root root  4096 12\uc6d4  1 20:47 data\r\n",
        "-rw-r--r--  1 root root  9264 12\uc6d4  1 20:47 install.py\r\n",
        "-rw-r--r--  1 root root   897 12\uc6d4  1 20:47 twitterauth.py\r\n",
        "-rw-r--r--  1 root root  6937 12\uc6d4  1 20:47 utils.py\r\n"
       ]
      }
     ],
     "prompt_number": 1
    },
    {
     "cell_type": "code",
     "collapsed": false,
     "input": [
      "%load install.py"
     ],
     "language": "python",
     "metadata": {},
     "outputs": [],
     "prompt_number": 3
    },
    {
     "cell_type": "code",
     "collapsed": false,
     "input": [
      "# This code is supporting material for the book\n",
      "# Building Machine Learning Systems with Python\n",
      "# by Willi Richert and Luis Pedro Coelho\n",
      "# published by PACKT Publishing\n",
      "#\n",
      "# It is made available under the MIT License\n",
      "\n",
      "#\n",
      "# Sanders-Twitter Sentiment Corpus Install Script\n",
      "# Version 0.1\n",
      "#\n",
      "# Pulls tweet data from Twitter because ToS prevents distributing it directly.\n",
      "#\n",
      "#   - Niek Sanders\n",
      "#     njs@sananalytics.com\n",
      "#     October 20, 2011\n",
      "#\n",
      "#\n",
      "\n",
      "# In Sanders' original form, the code was using Twitter API 1.0.\n",
      "# Now that Twitter moved to 1.1, we had to make a few changes.\n",
      "# Cf. twitterauth.py for the details.\n",
      "\n",
      "# Regarding rate limiting, please check\n",
      "# https://dev.twitter.com/rest/public/rate-limiting\n",
      "\n",
      "import sys\n",
      "import csv\n",
      "import json\n",
      "import os\n",
      "import time\n",
      "\n",
      "try:\n",
      "    import twitter\n",
      "except ImportError:\n",
      "    print(\"\"\"\\\n",
      "You need to ...\n",
      "    pip install twitter\n",
      "If pip is not found you might have to install it using easy_install.\n",
      "If it does not work on your system, you might want to follow instructions\n",
      "at https://github.com/sixohsix/twitter, most likely:\n",
      "  $ git clone https://github.com/sixohsix/twitter\n",
      "  $ cd twitter\n",
      "  $ sudo python setup.py install\n",
      "\"\"\")\n",
      "\n",
      "    sys.exit(1)\n",
      "\n",
      "from twitterauth import CONSUMER_KEY, CONSUMER_SECRET, ACCESS_TOKEN_KEY, ACCESS_TOKEN_SECRET\n",
      "api = twitter.Twitter(auth=twitter.OAuth(consumer_key=CONSUMER_KEY, consumer_secret=CONSUMER_SECRET,\n",
      "                                         token=ACCESS_TOKEN_KEY, token_secret=ACCESS_TOKEN_SECRET))\n",
      "\n",
      "DATA_PATH = \"data\"\n",
      "\n",
      "# for some reasons TWeets disappear. In this file we collect those\n",
      "MISSING_ID_FILE = os.path.join(DATA_PATH, \"missing.tsv\")\n",
      "NOT_AUTHORIZED_ID_FILE = os.path.join(DATA_PATH, \"not_authorized.tsv\")\n",
      "\n",
      "\n",
      "def get_user_params(DATA_PATH):\n",
      "\n",
      "    user_params = {}\n",
      "\n",
      "    # get user input params\n",
      "    user_params['inList'] = os.path.join(DATA_PATH, 'corpus.csv')\n",
      "    user_params['outList'] = os.path.join(DATA_PATH, 'full-corpus.csv')\n",
      "    user_params['rawDir'] = os.path.join(DATA_PATH, 'rawdata/')\n",
      "\n",
      "    # apply defaults\n",
      "    if user_params['inList'] == '':\n",
      "        user_params['inList'] = './corpus.csv'\n",
      "    if user_params['outList'] == '':\n",
      "        user_params['outList'] = './full-corpus.csv'\n",
      "    if user_params['rawDir'] == '':\n",
      "        user_params['rawDir'] = './rawdata/'\n",
      "\n",
      "    return user_params\n",
      "\n",
      "\n",
      "def dump_user_params(user_params):\n",
      "\n",
      "    # dump user params for confirmation\n",
      "    print('Input:    ' + user_params['inList'])\n",
      "    print('Output:   ' + user_params['outList'])\n",
      "    print('Raw data: ' + user_params['rawDir'])\n",
      "\n",
      "\n",
      "def read_total_list(in_filename):\n",
      "\n",
      "    # read total fetch list csv\n",
      "    fp = open(in_filename, 'rt')\n",
      "    reader = csv.reader(fp, delimiter=',', quotechar='\"')\n",
      "\n",
      "    if os.path.exists(MISSING_ID_FILE):\n",
      "        missing_ids = [line.strip()\n",
      "                       for line in open(MISSING_ID_FILE, \"r\").readlines()]\n",
      "    else:\n",
      "        missing_ids = []\n",
      "\n",
      "    if os.path.exists(NOT_AUTHORIZED_ID_FILE):\n",
      "        not_authed_ids = [line.strip()\n",
      "                          for line in open(NOT_AUTHORIZED_ID_FILE, \"r\").readlines()]\n",
      "    else:\n",
      "        not_authed_ids = []\n",
      "\n",
      "    print(\"We will skip %i tweets that are not available or visible any more on twitter\" % (\n",
      "        len(missing_ids) + len(not_authed_ids)))\n",
      "\n",
      "    ignore_ids = set(missing_ids + not_authed_ids)\n",
      "    total_list = []\n",
      "\n",
      "    for row in reader:\n",
      "        if row[2] not in ignore_ids:\n",
      "            total_list.append(row)\n",
      "\n",
      "    return total_list\n",
      "\n",
      "\n",
      "def purge_already_fetched(fetch_list, raw_dir):\n",
      "\n",
      "    # list of tweet ids that still need downloading\n",
      "    rem_list = []\n",
      "    count_done = 0\n",
      "\n",
      "    # check each tweet to see if we have it\n",
      "    for item in fetch_list:\n",
      "\n",
      "        # check if json file exists\n",
      "        tweet_file = os.path.join(raw_dir, item[2] + '.json')\n",
      "        if os.path.exists(tweet_file):\n",
      "\n",
      "            # attempt to parse json file\n",
      "            try:\n",
      "                parse_tweet_json(tweet_file)\n",
      "                count_done += 1\n",
      "            except RuntimeError:\n",
      "                print(\"Error parsing\", item)\n",
      "                rem_list.append(item)\n",
      "        else:\n",
      "            rem_list.append(item)\n",
      "\n",
      "    print(\"We have already downloaded %i tweets.\" % count_done)\n",
      "\n",
      "    return rem_list\n",
      "\n",
      "\n",
      "def download_tweets(fetch_list, raw_dir):\n",
      "\n",
      "    # ensure raw data directory exists\n",
      "    if not os.path.exists(raw_dir):\n",
      "        os.mkdir(raw_dir)\n",
      "\n",
      "    # download tweets\n",
      "    for idx in range(0, len(fetch_list)):\n",
      "        # current item\n",
      "        item = fetch_list[idx]\n",
      "        print(item)\n",
      "\n",
      "        print('--> downloading tweet #%s (%d of %d)' %\n",
      "              (item[2], idx + 1, len(fetch_list)))\n",
      "\n",
      "        try:\n",
      "            #import pdb;pdb.set_trace()\n",
      "            response = api.statuses.show(_id=item[2])\n",
      "\n",
      "            if response.rate_limit_remaining <= 0:\n",
      "                wait_seconds = response.rate_limit_reset - time.time()\n",
      "                print(\"Rate limiting requests us to wait %f seconds\" %\n",
      "                      wait_seconds)\n",
      "                time.sleep(wait_seconds+5)\n",
      "\n",
      "        except twitter.TwitterError as e:\n",
      "            fatal = True\n",
      "            print(e)\n",
      "            for m in json.loads(e.response_data.decode())['errors']:\n",
      "                if m['code'] == 34:\n",
      "                    print(\"Tweet missing: \", item)\n",
      "                    with open(MISSING_ID_FILE, \"at\") as f:\n",
      "                        f.write(item[2] + \"\\n\")\n",
      "\n",
      "                    fatal = False\n",
      "                    break\n",
      "                elif m['code'] == 63:\n",
      "                    print(\"User of tweet '%s' has been suspended.\" % item)\n",
      "                    with open(MISSING_ID_FILE, \"at\") as f:\n",
      "                        f.write(item[2] + \"\\n\")\n",
      "\n",
      "                    fatal = False\n",
      "                    break\n",
      "                elif m['code'] == 88:\n",
      "                    print(\"Rate limit exceeded.\")\n",
      "                    fatal = True\n",
      "                    break\n",
      "                elif m['code'] == 179:\n",
      "                    print(\"Not authorized to view this tweet.\")\n",
      "                    with open(NOT_AUTHORIZED_ID_FILE, \"at\") as f:\n",
      "                        f.write(item[2] + \"\\n\")\n",
      "                    fatal = False\n",
      "                    break\n",
      "\n",
      "            if fatal:\n",
      "                raise\n",
      "            else:\n",
      "                continue\n",
      "\n",
      "        with open(raw_dir + item[2] + '.json', \"wt\") as f:\n",
      "            f.write(json.dumps(dict(response)) + \"\\n\")\n",
      "\n",
      "    return\n",
      "\n",
      "\n",
      "def parse_tweet_json(filename):\n",
      "\n",
      "    # read tweet\n",
      "    fp = open(filename, 'r')\n",
      "\n",
      "    # parse json\n",
      "    try:\n",
      "        tweet_json = json.load(fp)\n",
      "    except ValueError as e:\n",
      "        print(e)\n",
      "        raise RuntimeError('error parsing json')\n",
      "\n",
      "    # look for twitter api error msgs\n",
      "    if 'error' in tweet_json or 'errors' in tweet_json:\n",
      "        raise RuntimeError('error in downloaded tweet')\n",
      "\n",
      "    # extract creation date and tweet text\n",
      "    return [tweet_json['created_at'], tweet_json['text']]\n",
      "\n",
      "\n",
      "def build_output_corpus(out_filename, raw_dir, total_list):\n",
      "\n",
      "    # open csv output file\n",
      "    fp = open(out_filename, 'wb')\n",
      "    writer = csv.writer(fp, delimiter=',', quotechar='\"', escapechar='\\\\',\n",
      "                        quoting=csv.QUOTE_ALL)\n",
      "\n",
      "    # write header row\n",
      "    writer.writerow(\n",
      "        ['Topic', 'Sentiment', 'TweetId', 'TweetDate', 'TweetText'])\n",
      "\n",
      "    # parse all downloaded tweets\n",
      "    missing_count = 0\n",
      "    for item in total_list:\n",
      "\n",
      "        # ensure tweet exists\n",
      "        if os.path.exists(raw_dir + item[2] + '.json'):\n",
      "\n",
      "            try:\n",
      "                # parse tweet\n",
      "                parsed_tweet = parse_tweet_json(raw_dir + item[2] + '.json')\n",
      "                full_row = item + parsed_tweet\n",
      "\n",
      "                # character encoding for output\n",
      "                for i in range(0, len(full_row)):\n",
      "                    full_row[i] = full_row[i].encode(\"utf-8\")\n",
      "\n",
      "                # write csv row\n",
      "                writer.writerow(full_row)\n",
      "\n",
      "            except RuntimeError:\n",
      "                print('--> bad data in tweet #' + item[2])\n",
      "                missing_count += 1\n",
      "\n",
      "        else:\n",
      "            print('--> missing tweet #' + item[2])\n",
      "            missing_count += 1\n",
      "\n",
      "    # indicate success\n",
      "    if missing_count == 0:\n",
      "        print('\\nSuccessfully downloaded corpus!')\n",
      "        print('Output in: ' + out_filename + '\\n')\n",
      "    else:\n",
      "        print('\\nMissing %d of %d tweets!' % (missing_count, len(total_list)))\n",
      "        print('Partial output in: ' + out_filename + '\\n')\n",
      "\n",
      "    return\n",
      "\n",
      "\n",
      "def main():\n",
      "    # get user parameters\n",
      "    user_params = get_user_params(DATA_PATH)\n",
      "    print(user_params)\n",
      "    dump_user_params(user_params)\n",
      "\n",
      "    # get fetch list\n",
      "    total_list = read_total_list(user_params['inList'])\n",
      "\n",
      "    # remove already fetched or missing tweets\n",
      "    fetch_list = purge_already_fetched(total_list, user_params['rawDir'])\n",
      "    print(\"Fetching %i tweets...\" % len(fetch_list))\n",
      "\n",
      "    if fetch_list:\n",
      "        # start fetching data from twitter\n",
      "        download_tweets(fetch_list, user_params['rawDir'])\n",
      "\n",
      "        # second pass for any failed downloads\n",
      "        fetch_list = purge_already_fetched(total_list, user_params['rawDir'])\n",
      "        if fetch_list:\n",
      "            print('\\nStarting second pass to retry %i failed downloads...' %\n",
      "                  len(fetch_list))\n",
      "            download_tweets(fetch_list, user_params['rawDir'])\n",
      "    else:\n",
      "        print(\"Nothing to fetch any more.\")\n",
      "\n",
      "    # build output corpus\n",
      "    build_output_corpus(user_params['outList'], user_params['rawDir'],\n",
      "                        total_list)\n",
      "\n",
      "\n",
      "if __name__ == '__main__':\n",
      "    main()\n"
     ],
     "language": "python",
     "metadata": {},
     "outputs": [
      {
       "output_type": "stream",
       "stream": "stdout",
       "text": [
        "{'rawDir': 'data/rawdata/', 'inList': 'data/corpus.csv', 'outList': 'data/full-corpus.csv'}\n",
        "Input:    data/corpus.csv\n",
        "Output:   data/full-corpus.csv\n",
        "Raw data: data/rawdata/\n",
        "We will skip 1107 tweets that are not available or visible any more on twitter\n",
        "We have already downloaded 0 tweets.\n",
        "Fetching 4784 tweets...\n",
        "['apple', 'positive', '126415614616154112']\n",
        "--> downloading tweet #126415614616154112 (1 of 4784)\n",
        "['apple', 'positive', '126404574230740992']"
       ]
      },
      {
       "output_type": "stream",
       "stream": "stdout",
       "text": [
        "\n",
        "--> downloading tweet #126404574230740992 (2 of 4784)\n",
        "['apple', 'positive', '126402758403305474']"
       ]
      },
      {
       "output_type": "stream",
       "stream": "stdout",
       "text": [
        "\n",
        "--> downloading tweet #126402758403305474 (3 of 4784)\n",
        "['apple', 'positive', '126397179614068736']"
       ]
      },
      {
       "output_type": "stream",
       "stream": "stdout",
       "text": [
        "\n",
        "--> downloading tweet #126397179614068736 (4 of 4784)\n",
        "['apple', 'positive', '126395626979196928']"
       ]
      },
      {
       "output_type": "stream",
       "stream": "stdout",
       "text": [
        "\n",
        "--> downloading tweet #126395626979196928 (5 of 4784)\n",
        "['apple', 'positive', '126394830791254016']"
       ]
      },
      {
       "output_type": "stream",
       "stream": "stdout",
       "text": [
        "\n",
        "--> downloading tweet #126394830791254016 (6 of 4784)\n",
        "Twitter sent status 404 for URL: 1.1/statuses/show.json using parameters: (id=126394830791254016&oauth_consumer_key=GcRkL0gdhohaKsn0FqQLWEp8y&oauth_nonce=14419235663843390156&oauth_signature_method=HMAC-SHA1&oauth_timestamp=1422168851&oauth_token=50568370-23CcdsyaeI2vK5QuGlRn1IlQHjD1Aubm2yfjTTAPz&oauth_version=1.0&oauth_signature=Zl3iINLfdtF1hv37oaiZCzGr8G8%3D)\n",
        "details: {\"errors\":[{\"message\":\"Sorry, that page does not exist\",\"code\":34}]}"
       ]
      },
      {
       "output_type": "stream",
       "stream": "stdout",
       "text": [
        "\n",
        "('Tweet missing: ', ['apple', 'positive', '126394830791254016'])\n",
        "['apple', 'positive', '126379685453119488']\n",
        "--> downloading tweet #126379685453119488 (7 of 4784)\n",
        "['apple', 'positive', '126377656416612353']"
       ]
      },
      {
       "output_type": "stream",
       "stream": "stdout",
       "text": [
        "\n",
        "--> downloading tweet #126377656416612353 (8 of 4784)\n",
        "['apple', 'positive', '126373779483004928']"
       ]
      },
      {
       "output_type": "stream",
       "stream": "stdout",
       "text": [
        "\n",
        "--> downloading tweet #126373779483004928 (9 of 4784)\n",
        "['apple', 'positive', '126366353757179904']"
       ]
      },
      {
       "output_type": "stream",
       "stream": "stdout",
       "text": [
        "\n",
        "--> downloading tweet #126366353757179904 (10 of 4784)\n",
        "['apple', 'positive', '126365858481188864']"
       ]
      },
      {
       "output_type": "stream",
       "stream": "stdout",
       "text": [
        "\n",
        "--> downloading tweet #126365858481188864 (11 of 4784)\n",
        "['apple', 'positive', '126360935509135362']"
       ]
      },
      {
       "output_type": "stream",
       "stream": "stdout",
       "text": [
        "\n",
        "--> downloading tweet #126360935509135362 (12 of 4784)\n",
        "['apple', 'positive', '126360398885687296']"
       ]
      },
      {
       "output_type": "stream",
       "stream": "stdout",
       "text": [
        "\n",
        "--> downloading tweet #126360398885687296 (13 of 4784)\n",
        "['apple', 'positive', '126358340220616704']"
       ]
      },
      {
       "output_type": "stream",
       "stream": "stdout",
       "text": [
        "\n",
        "--> downloading tweet #126358340220616704 (14 of 4784)\n",
        "['apple', 'positive', '126357982685569024']"
       ]
      },
      {
       "output_type": "stream",
       "stream": "stdout",
       "text": [
        "\n",
        "--> downloading tweet #126357982685569024 (15 of 4784)\n",
        "['apple', 'positive', '126352268705538048']"
       ]
      },
      {
       "output_type": "stream",
       "stream": "stdout",
       "text": [
        "\n",
        "--> downloading tweet #126352268705538048 (16 of 4784)\n",
        "['apple', 'positive', '126350302113824769']"
       ]
      },
      {
       "output_type": "stream",
       "stream": "stdout",
       "text": [
        "\n",
        "--> downloading tweet #126350302113824769 (17 of 4784)\n",
        "Twitter sent status 403 for URL: 1.1/statuses/show.json using parameters: (id=126350302113824769&oauth_consumer_key=GcRkL0gdhohaKsn0FqQLWEp8y&oauth_nonce=13178040682828235317&oauth_signature_method=HMAC-SHA1&oauth_timestamp=1422168866&oauth_token=50568370-23CcdsyaeI2vK5QuGlRn1IlQHjD1Aubm2yfjTTAPz&oauth_version=1.0&oauth_signature=1aSCjn1z98Cnr8L2TFngG%2BDKwvM%3D)\n",
        "details: {\"errors\":[{\"code\":179,\"message\":\"Sorry, you are not authorized to see this status.\"}]}"
       ]
      },
      {
       "output_type": "stream",
       "stream": "stdout",
       "text": [
        "\n",
        "Not authorized to view this tweet.\n",
        "['apple', 'positive', '126349695676203009']\n",
        "--> downloading tweet #126349695676203009 (18 of 4784)\n",
        "['apple', 'positive', '126342268603998208']"
       ]
      },
      {
       "output_type": "stream",
       "stream": "stdout",
       "text": [
        "\n",
        "--> downloading tweet #126342268603998208 (19 of 4784)\n",
        "['apple', 'positive', '126325800080392193']"
       ]
      },
      {
       "output_type": "stream",
       "stream": "stdout",
       "text": [
        "\n",
        "--> downloading tweet #126325800080392193 (20 of 4784)\n",
        "['apple', 'positive', '126324177501302784']"
       ]
      },
      {
       "output_type": "stream",
       "stream": "stdout",
       "text": [
        "\n",
        "--> downloading tweet #126324177501302784 (21 of 4784)\n",
        "['apple', 'positive', '126323785145126912']"
       ]
      },
      {
       "output_type": "stream",
       "stream": "stdout",
       "text": [
        "\n",
        "--> downloading tweet #126323785145126912 (22 of 4784)\n",
        "Twitter sent status 403 for URL: 1.1/statuses/show.json using parameters: (id=126323785145126912&oauth_consumer_key=GcRkL0gdhohaKsn0FqQLWEp8y&oauth_nonce=10824427085360961426&oauth_signature_method=HMAC-SHA1&oauth_timestamp=1422168874&oauth_token=50568370-23CcdsyaeI2vK5QuGlRn1IlQHjD1Aubm2yfjTTAPz&oauth_version=1.0&oauth_signature=zVLFA2XXd%2BSjYUGBuIIgLgrtI0U%3D)\n",
        "details: {\"errors\":[{\"code\":63,\"message\":\"User has been suspended.\"}]}"
       ]
      },
      {
       "output_type": "stream",
       "stream": "stdout",
       "text": [
        "\n",
        "User of tweet '['apple', 'positive', '126323785145126912']' has been suspended.\n",
        "['apple', 'positive', '126322063332999169']\n",
        "--> downloading tweet #126322063332999169 (23 of 4784)\n",
        "['apple', 'positive', '126319186141130752']"
       ]
      },
      {
       "output_type": "stream",
       "stream": "stdout",
       "text": [
        "\n",
        "--> downloading tweet #126319186141130752 (24 of 4784)\n",
        "Twitter sent status 404 for URL: 1.1/statuses/show.json using parameters: (id=126319186141130752&oauth_consumer_key=GcRkL0gdhohaKsn0FqQLWEp8y&oauth_nonce=1634690667310181097&oauth_signature_method=HMAC-SHA1&oauth_timestamp=1422168877&oauth_token=50568370-23CcdsyaeI2vK5QuGlRn1IlQHjD1Aubm2yfjTTAPz&oauth_version=1.0&oauth_signature=brZr3wiOdeyj7dszUrRO2zisSrM%3D)\n",
        "details: {\"errors\":[{\"message\":\"Sorry, that page does not exist\",\"code\":34}]}"
       ]
      },
      {
       "output_type": "stream",
       "stream": "stdout",
       "text": [
        "\n",
        "('Tweet missing: ', ['apple', 'positive', '126319186141130752'])\n",
        "['apple', 'positive', '126318009647235072']\n",
        "--> downloading tweet #126318009647235072 (25 of 4784)\n",
        "['apple', 'positive', '126315223060709376']"
       ]
      },
      {
       "output_type": "stream",
       "stream": "stdout",
       "text": [
        "\n",
        "--> downloading tweet #126315223060709376 (26 of 4784)\n",
        "['apple', 'positive', '126315011600678913']"
       ]
      },
      {
       "output_type": "stream",
       "stream": "stdout",
       "text": [
        "\n",
        "--> downloading tweet #126315011600678913 (27 of 4784)\n",
        "['apple', 'positive', '126314687116750849']"
       ]
      },
      {
       "output_type": "stream",
       "stream": "stdout",
       "text": [
        "\n",
        "--> downloading tweet #126314687116750849 (28 of 4784)\n",
        "['apple', 'positive', '126311981564178432']"
       ]
      },
      {
       "output_type": "stream",
       "stream": "stdout",
       "text": [
        "\n",
        "--> downloading tweet #126311981564178432 (29 of 4784)\n",
        "['apple', 'positive', '126307801046847488']"
       ]
      },
      {
       "output_type": "stream",
       "stream": "stdout",
       "text": [
        "\n",
        "--> downloading tweet #126307801046847488 (30 of 4784)\n",
        "['apple', 'positive', '126302673820594176']"
       ]
      },
      {
       "output_type": "stream",
       "stream": "stdout",
       "text": [
        "\n",
        "--> downloading tweet #126302673820594176 (31 of 4784)\n",
        "['apple', 'positive', '126301956951117826']"
       ]
      },
      {
       "output_type": "stream",
       "stream": "stdout",
       "text": [
        "\n",
        "--> downloading tweet #126301956951117826 (32 of 4784)\n",
        "['apple', 'positive', '126287654093471745']"
       ]
      },
      {
       "output_type": "stream",
       "stream": "stdout",
       "text": [
        "\n",
        "--> downloading tweet #126287654093471745 (33 of 4784)\n",
        "['apple', 'positive', '126284506360578049']"
       ]
      },
      {
       "output_type": "stream",
       "stream": "stdout",
       "text": [
        "\n",
        "--> downloading tweet #126284506360578049 (34 of 4784)\n",
        "['apple', 'positive', '126263834968211456']"
       ]
      },
      {
       "output_type": "stream",
       "stream": "stdout",
       "text": [
        "\n",
        "--> downloading tweet #126263834968211456 (35 of 4784)\n",
        "['apple', 'positive', '126256230397259776']"
       ]
      },
      {
       "output_type": "stream",
       "stream": "stdout",
       "text": [
        "\n",
        "--> downloading tweet #126256230397259776 (36 of 4784)\n",
        "['apple', 'positive', '126195522691280896']"
       ]
      },
      {
       "output_type": "stream",
       "stream": "stdout",
       "text": [
        "\n",
        "--> downloading tweet #126195522691280896 (37 of 4784)\n",
        "['apple', 'positive', '126183339945234432']"
       ]
      },
      {
       "output_type": "stream",
       "stream": "stdout",
       "text": [
        "\n",
        "--> downloading tweet #126183339945234432 (38 of 4784)\n",
        "['apple', 'positive', '126180209501286400']"
       ]
      },
      {
       "output_type": "stream",
       "stream": "stdout",
       "text": [
        "\n",
        "--> downloading tweet #126180209501286400 (39 of 4784)\n",
        "['apple', 'positive', '126164430546403328']"
       ]
      },
      {
       "output_type": "stream",
       "stream": "stdout",
       "text": [
        "\n",
        "--> downloading tweet #126164430546403328 (40 of 4784)\n",
        "['apple', 'positive', '126148685737361408']"
       ]
      },
      {
       "output_type": "stream",
       "stream": "stdout",
       "text": [
        "\n",
        "--> downloading tweet #126148685737361408 (41 of 4784)\n",
        "Twitter sent status 403 for URL: 1.1/statuses/show.json using parameters: (id=126148685737361408&oauth_consumer_key=GcRkL0gdhohaKsn0FqQLWEp8y&oauth_nonce=9041488455282543509&oauth_signature_method=HMAC-SHA1&oauth_timestamp=1422168901&oauth_token=50568370-23CcdsyaeI2vK5QuGlRn1IlQHjD1Aubm2yfjTTAPz&oauth_version=1.0&oauth_signature=Wap1xuDA628HFjF1P2A0F1jR%2ByQ%3D)\n",
        "details: {\"errors\":[{\"code\":179,\"message\":\"Sorry, you are not authorized to see this status.\"}]}"
       ]
      },
      {
       "output_type": "stream",
       "stream": "stdout",
       "text": [
        "\n",
        "Not authorized to view this tweet.\n",
        "['apple', 'positive', '126140794078892033']\n",
        "--> downloading tweet #126140794078892033 (42 of 4784)\n",
        "['apple', 'positive', '126134400466419712']"
       ]
      },
      {
       "output_type": "stream",
       "stream": "stdout",
       "text": [
        "\n",
        "--> downloading tweet #126134400466419712 (43 of 4784)\n",
        "['apple', 'positive', '126130991365500928']"
       ]
      },
      {
       "output_type": "stream",
       "stream": "stdout",
       "text": [
        "\n",
        "--> downloading tweet #126130991365500928 (44 of 4784)\n",
        "Twitter sent status 403 for URL: 1.1/statuses/show.json using parameters: (id=126130991365500928&oauth_consumer_key=GcRkL0gdhohaKsn0FqQLWEp8y&oauth_nonce=11864289780453787564&oauth_signature_method=HMAC-SHA1&oauth_timestamp=1422168906&oauth_token=50568370-23CcdsyaeI2vK5QuGlRn1IlQHjD1Aubm2yfjTTAPz&oauth_version=1.0&oauth_signature=YJXbSl71cIxlVWinTkZXnb%2BBv%2B0%3D)\n",
        "details: {\"errors\":[{\"code\":179,\"message\":\"Sorry, you are not authorized to see this status.\"}]}"
       ]
      },
      {
       "output_type": "stream",
       "stream": "stdout",
       "text": [
        "\n",
        "Not authorized to view this tweet.\n",
        "['apple', 'positive', '126116898051076096']\n",
        "--> downloading tweet #126116898051076096 (45 of 4784)\n",
        "['apple', 'positive', '126116614495154176']"
       ]
      },
      {
       "output_type": "stream",
       "stream": "stdout",
       "text": [
        "\n",
        "--> downloading tweet #126116614495154176 (46 of 4784)\n",
        "['apple', 'positive', '126112836219973632']"
       ]
      },
      {
       "output_type": "stream",
       "stream": "stdout",
       "text": [
        "\n",
        "--> downloading tweet #126112836219973632 (47 of 4784)\n",
        "['apple', 'positive', '126107965991297024']"
       ]
      },
      {
       "output_type": "stream",
       "stream": "stdout",
       "text": [
        "\n",
        "--> downloading tweet #126107965991297024 (48 of 4784)\n",
        "['apple', 'positive', '126104732426186752']"
       ]
      },
      {
       "output_type": "stream",
       "stream": "stdout",
       "text": [
        "\n",
        "--> downloading tweet #126104732426186752 (49 of 4784)\n",
        "['apple', 'positive', '126097426493878272']"
       ]
      },
      {
       "output_type": "stream",
       "stream": "stdout",
       "text": [
        "\n",
        "--> downloading tweet #126097426493878272 (50 of 4784)\n",
        "['apple', 'positive', '126095744531832832']"
       ]
      },
      {
       "output_type": "stream",
       "stream": "stdout",
       "text": [
        "\n",
        "--> downloading tweet #126095744531832832 (51 of 4784)\n",
        "['apple', 'positive', '126084907343691776']"
       ]
      },
      {
       "output_type": "stream",
       "stream": "stdout",
       "text": [
        "\n",
        "--> downloading tweet #126084907343691776 (52 of 4784)\n",
        "['apple', 'positive', '126076238375817216']"
       ]
      },
      {
       "output_type": "stream",
       "stream": "stdout",
       "text": [
        "\n",
        "--> downloading tweet #126076238375817216 (53 of 4784)\n",
        "['apple', 'positive', '126075534894571520']"
       ]
      },
      {
       "output_type": "stream",
       "stream": "stdout",
       "text": [
        "\n",
        "--> downloading tweet #126075534894571520 (54 of 4784)\n",
        "['apple', 'positive', '126064519943426048']"
       ]
      },
      {
       "output_type": "stream",
       "stream": "stdout",
       "text": [
        "\n",
        "--> downloading tweet #126064519943426048 (55 of 4784)\n",
        "['apple', 'positive', '126063569660936193']"
       ]
      },
      {
       "output_type": "stream",
       "stream": "stdout",
       "text": [
        "\n",
        "--> downloading tweet #126063569660936193 (56 of 4784)\n",
        "Twitter sent status 404 for URL: 1.1/statuses/show.json using parameters: (id=126063569660936193&oauth_consumer_key=GcRkL0gdhohaKsn0FqQLWEp8y&oauth_nonce=8314924398343136659&oauth_signature_method=HMAC-SHA1&oauth_timestamp=1422168923&oauth_token=50568370-23CcdsyaeI2vK5QuGlRn1IlQHjD1Aubm2yfjTTAPz&oauth_version=1.0&oauth_signature=bwdC0dPkLrf545BPMqkh4%2BC%2FLXk%3D)\n",
        "details: {\"errors\":[{\"message\":\"Sorry, that page does not exist\",\"code\":34}]}"
       ]
      },
      {
       "output_type": "stream",
       "stream": "stdout",
       "text": [
        "\n",
        "('Tweet missing: ', ['apple', 'positive', '126063569660936193'])\n",
        "['apple', 'positive', '126063358037340161']\n",
        "--> downloading tweet #126063358037340161 (57 of 4784)\n",
        "Twitter sent status 403 for URL: 1.1/statuses/show.json using parameters: (id=126063358037340161&oauth_consumer_key=GcRkL0gdhohaKsn0FqQLWEp8y&oauth_nonce=15016311833028563049&oauth_signature_method=HMAC-SHA1&oauth_timestamp=1422168924&oauth_token=50568370-23CcdsyaeI2vK5QuGlRn1IlQHjD1Aubm2yfjTTAPz&oauth_version=1.0&oauth_signature=2mZgF9uOtzj%2Fhq4ae5iRvHxdQpw%3D)\n",
        "details: {\"errors\":[{\"code\":179,\"message\":\"Sorry, you are not authorized to see this status.\"}]}"
       ]
      },
      {
       "output_type": "stream",
       "stream": "stdout",
       "text": [
        "\n",
        "Not authorized to view this tweet.\n",
        "['apple', 'positive', '126059405941809152']\n",
        "--> downloading tweet #126059405941809152 (58 of 4784)\n",
        "['apple', 'positive', '126057030996852737']"
       ]
      },
      {
       "output_type": "stream",
       "stream": "stdout",
       "text": [
        "\n",
        "--> downloading tweet #126057030996852737 (59 of 4784)\n",
        "['apple', 'positive', '126040352237961217']"
       ]
      },
      {
       "output_type": "stream",
       "stream": "stdout",
       "text": [
        "\n",
        "--> downloading tweet #126040352237961217 (60 of 4784)\n",
        "Twitter sent status 403 for URL: 1.1/statuses/show.json using parameters: (id=126040352237961217&oauth_consumer_key=GcRkL0gdhohaKsn0FqQLWEp8y&oauth_nonce=15198978529495675726&oauth_signature_method=HMAC-SHA1&oauth_timestamp=1422168929&oauth_token=50568370-23CcdsyaeI2vK5QuGlRn1IlQHjD1Aubm2yfjTTAPz&oauth_version=1.0&oauth_signature=q2%2B%2B0HocNy%2BNukbHRrxE2HA6u0Y%3D)\n",
        "details: {\"errors\":[{\"code\":179,\"message\":\"Sorry, you are not authorized to see this status.\"}]}"
       ]
      },
      {
       "output_type": "stream",
       "stream": "stdout",
       "text": [
        "\n",
        "Not authorized to view this tweet.\n",
        "['apple', 'positive', '126040074595999746']\n",
        "--> downloading tweet #126040074595999746 (61 of 4784)\n",
        "['apple', 'positive', '126034495991328768']"
       ]
      },
      {
       "output_type": "stream",
       "stream": "stdout",
       "text": [
        "\n",
        "--> downloading tweet #126034495991328768 (62 of 4784)\n",
        "['apple', 'positive', '126026756623831041']"
       ]
      },
      {
       "output_type": "stream",
       "stream": "stdout",
       "text": [
        "\n",
        "--> downloading tweet #126026756623831041 (63 of 4784)\n",
        "['apple', 'positive', '126019393460244481']"
       ]
      },
      {
       "output_type": "stream",
       "stream": "stdout",
       "text": [
        "\n",
        "--> downloading tweet #126019393460244481 (64 of 4784)\n",
        "['apple', 'positive', '126009748020658177']"
       ]
      },
      {
       "output_type": "stream",
       "stream": "stdout",
       "text": [
        "\n",
        "--> downloading tweet #126009748020658177 (65 of 4784)\n",
        "['apple', 'positive', '126008369562652672']"
       ]
      },
      {
       "output_type": "stream",
       "stream": "stdout",
       "text": [
        "\n",
        "--> downloading tweet #126008369562652672 (66 of 4784)\n",
        "Twitter sent status 403 for URL: 1.1/statuses/show.json using parameters: (id=126008369562652672&oauth_consumer_key=GcRkL0gdhohaKsn0FqQLWEp8y&oauth_nonce=2945979867481464292&oauth_signature_method=HMAC-SHA1&oauth_timestamp=1422168937&oauth_token=50568370-23CcdsyaeI2vK5QuGlRn1IlQHjD1Aubm2yfjTTAPz&oauth_version=1.0&oauth_signature=he%2BWM3%2BiJTmthK8Vq3SfrUVBFUs%3D)\n",
        "details: {\"errors\":[{\"code\":179,\"message\":\"Sorry, you are not authorized to see this status.\"}]}"
       ]
      },
      {
       "output_type": "stream",
       "stream": "stdout",
       "text": [
        "\n",
        "Not authorized to view this tweet.\n",
        "['apple', 'positive', '126002597063696384']\n",
        "--> downloading tweet #126002597063696384 (67 of 4784)\n",
        "['apple', 'positive', '125999676972470272']"
       ]
      },
      {
       "output_type": "stream",
       "stream": "stdout",
       "text": [
        "\n",
        "--> downloading tweet #125999676972470272 (68 of 4784)\n",
        "['apple', 'positive', '125995158679461888']"
       ]
      },
      {
       "output_type": "stream",
       "stream": "stdout",
       "text": [
        "\n",
        "--> downloading tweet #125995158679461888 (69 of 4784)\n",
        "Twitter sent status 403 for URL: 1.1/statuses/show.json using parameters: (id=125995158679461888&oauth_consumer_key=GcRkL0gdhohaKsn0FqQLWEp8y&oauth_nonce=7109479327695662526&oauth_signature_method=HMAC-SHA1&oauth_timestamp=1422168942&oauth_token=50568370-23CcdsyaeI2vK5QuGlRn1IlQHjD1Aubm2yfjTTAPz&oauth_version=1.0&oauth_signature=awj%2FuqjUH964EMuXUNm6bywKdNI%3D)\n",
        "details: {\"errors\":[{\"code\":179,\"message\":\"Sorry, you are not authorized to see this status.\"}]}"
       ]
      },
      {
       "output_type": "stream",
       "stream": "stdout",
       "text": [
        "\n",
        "Not authorized to view this tweet.\n",
        "['apple', 'positive', '125978568726560768']\n",
        "--> downloading tweet #125978568726560768 (70 of 4784)\n",
        "['apple', 'positive', '125974505385500672']"
       ]
      },
      {
       "output_type": "stream",
       "stream": "stdout",
       "text": [
        "\n",
        "--> downloading tweet #125974505385500672 (71 of 4784)\n",
        "['apple', 'positive', '125960325437722624']"
       ]
      },
      {
       "output_type": "stream",
       "stream": "stdout",
       "text": [
        "\n",
        "--> downloading tweet #125960325437722624 (72 of 4784)\n",
        "['apple', 'positive', '125959059957485569']"
       ]
      },
      {
       "output_type": "stream",
       "stream": "stdout",
       "text": [
        "\n",
        "--> downloading tweet #125959059957485569 (73 of 4784)\n",
        "['apple', 'positive', '125947912306954240']"
       ]
      },
      {
       "output_type": "stream",
       "stream": "stdout",
       "text": [
        "\n",
        "--> downloading tweet #125947912306954240 (74 of 4784)\n",
        "['apple', 'positive', '125947232359948288']"
       ]
      },
      {
       "output_type": "stream",
       "stream": "stdout",
       "text": [
        "\n",
        "--> downloading tweet #125947232359948288 (75 of 4784)\n",
        "Twitter sent status 404 for URL: 1.1/statuses/show.json using parameters: (id=125947232359948288&oauth_consumer_key=GcRkL0gdhohaKsn0FqQLWEp8y&oauth_nonce=1655722067992920338&oauth_signature_method=HMAC-SHA1&oauth_timestamp=1422168950&oauth_token=50568370-23CcdsyaeI2vK5QuGlRn1IlQHjD1Aubm2yfjTTAPz&oauth_version=1.0&oauth_signature=MtzL%2BY0OVopdeeHbA369HZANlXk%3D)\n",
        "details: {\"errors\":[{\"message\":\"Sorry, that page does not exist\",\"code\":34}]}"
       ]
      },
      {
       "output_type": "stream",
       "stream": "stdout",
       "text": [
        "\n",
        "('Tweet missing: ', ['apple', 'positive', '125947232359948288'])\n",
        "['apple', 'positive', '125943290288803841']\n",
        "--> downloading tweet #125943290288803841 (76 of 4784)\n",
        "Twitter sent status 404 for URL: 1.1/statuses/show.json using parameters: (id=125943290288803841&oauth_consumer_key=GcRkL0gdhohaKsn0FqQLWEp8y&oauth_nonce=14712505118660181678&oauth_signature_method=HMAC-SHA1&oauth_timestamp=1422168952&oauth_token=50568370-23CcdsyaeI2vK5QuGlRn1IlQHjD1Aubm2yfjTTAPz&oauth_version=1.0&oauth_signature=VP0%2B5YAjfjgwlZxSjk9z7fASD7o%3D)\n",
        "details: {\"errors\":[{\"message\":\"Sorry, that page does not exist\",\"code\":34}]}"
       ]
      },
      {
       "output_type": "stream",
       "stream": "stdout",
       "text": [
        "\n",
        "('Tweet missing: ', ['apple', 'positive', '125943290288803841'])\n",
        "['apple', 'positive', '125940394566483968']\n",
        "--> downloading tweet #125940394566483968 (77 of 4784)\n",
        "['apple', 'positive', '125925618486489088']"
       ]
      },
      {
       "output_type": "stream",
       "stream": "stdout",
       "text": [
        "\n",
        "--> downloading tweet #125925618486489088 (78 of 4784)\n",
        "['apple', 'positive', '125924446430183425']"
       ]
      },
      {
       "output_type": "stream",
       "stream": "stdout",
       "text": [
        "\n",
        "--> downloading tweet #125924446430183425 (79 of 4784)\n",
        "['apple', 'positive', '125922999651139584']"
       ]
      },
      {
       "output_type": "stream",
       "stream": "stdout",
       "text": [
        "\n",
        "--> downloading tweet #125922999651139584 (80 of 4784)\n",
        "['apple', 'positive', '125902301931126785']"
       ]
      },
      {
       "output_type": "stream",
       "stream": "stdout",
       "text": [
        "\n",
        "--> downloading tweet #125902301931126785 (81 of 4784)\n",
        "['apple', 'positive', '125901202591461376']"
       ]
      },
      {
       "output_type": "stream",
       "stream": "stdout",
       "text": [
        "\n",
        "--> downloading tweet #125901202591461376 (82 of 4784)\n",
        "['apple', 'positive', '125900497327636480']"
       ]
      },
      {
       "output_type": "stream",
       "stream": "stdout",
       "text": [
        "\n",
        "--> downloading tweet #125900497327636480 (83 of 4784)\n",
        "['apple', 'positive', '125850288488841217']"
       ]
      },
      {
       "output_type": "stream",
       "stream": "stdout",
       "text": [
        "\n",
        "--> downloading tweet #125850288488841217 (84 of 4784)\n",
        "['apple', 'positive', '125840039031738368']"
       ]
      },
      {
       "output_type": "stream",
       "stream": "stdout",
       "text": [
        "\n",
        "--> downloading tweet #125840039031738368 (85 of 4784)\n",
        "['apple', 'positive', '125794931439702016']"
       ]
      },
      {
       "output_type": "stream",
       "stream": "stdout",
       "text": [
        "\n",
        "--> downloading tweet #125794931439702016 (86 of 4784)\n",
        "['apple', 'positive', '125728717942161408']"
       ]
      },
      {
       "output_type": "stream",
       "stream": "stdout",
       "text": [
        "\n",
        "--> downloading tweet #125728717942161408 (87 of 4784)\n",
        "['apple', 'positive', '125727629012770816']"
       ]
      },
      {
       "output_type": "stream",
       "stream": "stdout",
       "text": [
        "\n",
        "--> downloading tweet #125727629012770816 (88 of 4784)\n",
        "Twitter sent status 403 for URL: 1.1/statuses/show.json using parameters: (id=125727629012770816&oauth_consumer_key=GcRkL0gdhohaKsn0FqQLWEp8y&oauth_nonce=504875527854540228&oauth_signature_method=HMAC-SHA1&oauth_timestamp=1422168969&oauth_token=50568370-23CcdsyaeI2vK5QuGlRn1IlQHjD1Aubm2yfjTTAPz&oauth_version=1.0&oauth_signature=orYswrza8tKEuqzUnu%2BvNQTLTHU%3D)\n",
        "details: {\"errors\":[{\"code\":179,\"message\":\"Sorry, you are not authorized to see this status.\"}]}"
       ]
      },
      {
       "output_type": "stream",
       "stream": "stdout",
       "text": [
        "\n",
        "Not authorized to view this tweet.\n",
        "['apple', 'positive', '125722746100531200']\n",
        "--> downloading tweet #125722746100531200 (89 of 4784)\n",
        "['apple', 'positive', '125717622728818688']"
       ]
      },
      {
       "output_type": "stream",
       "stream": "stdout",
       "text": [
        "\n",
        "--> downloading tweet #125717622728818688 (90 of 4784)\n",
        "['apple', 'positive', '125714253452812288']"
       ]
      },
      {
       "output_type": "stream",
       "stream": "stdout",
       "text": [
        "\n",
        "--> downloading tweet #125714253452812288 (91 of 4784)\n",
        "['apple', 'positive', '125713935344214016']"
       ]
      },
      {
       "output_type": "stream",
       "stream": "stdout",
       "text": [
        "\n",
        "--> downloading tweet #125713935344214016 (92 of 4784)\n",
        "['apple', 'positive', '125712433087123456']"
       ]
      },
      {
       "output_type": "stream",
       "stream": "stdout",
       "text": [
        "\n",
        "--> downloading tweet #125712433087123456 (93 of 4784)\n",
        "['apple', 'positive', '125708639607599104']"
       ]
      },
      {
       "output_type": "stream",
       "stream": "stdout",
       "text": [
        "\n",
        "--> downloading tweet #125708639607599104 (94 of 4784)\n",
        "['apple', 'positive', '125706813583798274']"
       ]
      },
      {
       "output_type": "stream",
       "stream": "stdout",
       "text": [
        "\n",
        "--> downloading tweet #125706813583798274 (95 of 4784)\n",
        "['apple', 'positive', '125701161926930433']"
       ]
      },
      {
       "output_type": "stream",
       "stream": "stdout",
       "text": [
        "\n",
        "--> downloading tweet #125701161926930433 (96 of 4784)\n",
        "['apple', 'positive', '125699573799845888']"
       ]
      },
      {
       "output_type": "stream",
       "stream": "stdout",
       "text": [
        "\n",
        "--> downloading tweet #125699573799845888 (97 of 4784)\n",
        "['apple', 'positive', '125681742760771584']"
       ]
      },
      {
       "output_type": "stream",
       "stream": "stdout",
       "text": [
        "\n",
        "--> downloading tweet #125681742760771584 (98 of 4784)\n",
        "['apple', 'positive', '125680049478316032']"
       ]
      },
      {
       "output_type": "stream",
       "stream": "stdout",
       "text": [
        "\n",
        "--> downloading tweet #125680049478316032 (99 of 4784)\n",
        "['apple', 'positive', '125677424565424128']"
       ]
      },
      {
       "output_type": "stream",
       "stream": "stdout",
       "text": [
        "\n",
        "--> downloading tweet #125677424565424128 (100 of 4784)\n",
        "['apple', 'positive', '125667241978114048']"
       ]
      },
      {
       "output_type": "stream",
       "stream": "stdout",
       "text": [
        "\n",
        "--> downloading tweet #125667241978114048 (101 of 4784)\n",
        "['apple', 'positive', '125664375364255744']"
       ]
      },
      {
       "output_type": "stream",
       "stream": "stdout",
       "text": [
        "\n",
        "--> downloading tweet #125664375364255744 (102 of 4784)\n",
        "['apple', 'positive', '125662399217930240']"
       ]
      },
      {
       "output_type": "stream",
       "stream": "stdout",
       "text": [
        "\n",
        "--> downloading tweet #125662399217930240 (103 of 4784)\n",
        "['apple', 'positive', '125652668080336896']"
       ]
      },
      {
       "output_type": "stream",
       "stream": "stdout",
       "text": [
        "\n",
        "--> downloading tweet #125652668080336896 (104 of 4784)\n",
        "['apple', 'positive', '125648027045199873']"
       ]
      },
      {
       "output_type": "stream",
       "stream": "stdout",
       "text": [
        "\n",
        "--> downloading tweet #125648027045199873 (105 of 4784)\n",
        "['apple', 'positive', '125645258003464192']"
       ]
      },
      {
       "output_type": "stream",
       "stream": "stdout",
       "text": [
        "\n",
        "--> downloading tweet #125645258003464192 (106 of 4784)\n",
        "['apple', 'positive', '125643107260829697']"
       ]
      },
      {
       "output_type": "stream",
       "stream": "stdout",
       "text": [
        "\n",
        "--> downloading tweet #125643107260829697 (107 of 4784)\n",
        "['apple', 'positive', '125633677597229056']"
       ]
      },
      {
       "output_type": "stream",
       "stream": "stdout",
       "text": [
        "\n",
        "--> downloading tweet #125633677597229056 (108 of 4784)\n",
        "['apple', 'positive', '125628199269961729']"
       ]
      },
      {
       "output_type": "stream",
       "stream": "stdout",
       "text": [
        "\n",
        "--> downloading tweet #125628199269961729 (109 of 4784)\n",
        "['apple', 'positive', '125623745284018176']"
       ]
      },
      {
       "output_type": "stream",
       "stream": "stdout",
       "text": [
        "\n",
        "--> downloading tweet #125623745284018176 (110 of 4784)\n",
        "['apple', 'positive', '125618466353983488']"
       ]
      },
      {
       "output_type": "stream",
       "stream": "stdout",
       "text": [
        "\n",
        "--> downloading tweet #125618466353983488 (111 of 4784)\n",
        "['apple', 'positive', '125610372727193601']"
       ]
      },
      {
       "output_type": "stream",
       "stream": "stdout",
       "text": [
        "\n",
        "--> downloading tweet #125610372727193601 (112 of 4784)\n",
        "['apple', 'positive', '125608381431025664']"
       ]
      },
      {
       "output_type": "stream",
       "stream": "stdout",
       "text": [
        "\n",
        "--> downloading tweet #125608381431025664 (113 of 4784)\n",
        "['apple', 'positive', '125596541028282369']"
       ]
      },
      {
       "output_type": "stream",
       "stream": "stdout",
       "text": [
        "\n",
        "--> downloading tweet #125596541028282369 (114 of 4784)\n",
        "['apple', 'positive', '125585606100267008']"
       ]
      },
      {
       "output_type": "stream",
       "stream": "stdout",
       "text": [
        "\n",
        "--> downloading tweet #125585606100267008 (115 of 4784)\n",
        "['apple', 'positive', '125562428200202240']"
       ]
      },
      {
       "output_type": "stream",
       "stream": "stdout",
       "text": [
        "\n",
        "--> downloading tweet #125562428200202240 (116 of 4784)\n",
        "['apple', 'positive', '125561950376701952']"
       ]
      },
      {
       "output_type": "stream",
       "stream": "stdout",
       "text": [
        "\n",
        "--> downloading tweet #125561950376701952 (117 of 4784)\n",
        "['apple', 'positive', '125550135911518209']"
       ]
      },
      {
       "output_type": "stream",
       "stream": "stdout",
       "text": [
        "\n",
        "--> downloading tweet #125550135911518209 (118 of 4784)\n",
        "['apple', 'positive', '125547297072357376']"
       ]
      },
      {
       "output_type": "stream",
       "stream": "stdout",
       "text": [
        "\n",
        "--> downloading tweet #125547297072357376 (119 of 4784)\n",
        "['apple', 'positive', '125539788546781185']"
       ]
      },
      {
       "output_type": "stream",
       "stream": "stdout",
       "text": [
        "\n",
        "--> downloading tweet #125539788546781185 (120 of 4784)\n",
        "['apple', 'positive', '125537993942515712']"
       ]
      },
      {
       "output_type": "stream",
       "stream": "stdout",
       "text": [
        "\n",
        "--> downloading tweet #125537993942515712 (121 of 4784)\n",
        "['apple', 'positive', '125537578974851072']"
       ]
      },
      {
       "output_type": "stream",
       "stream": "stdout",
       "text": [
        "\n",
        "--> downloading tweet #125537578974851072 (122 of 4784)\n",
        "['apple', 'positive', '125524107386302465']"
       ]
      },
      {
       "output_type": "stream",
       "stream": "stdout",
       "text": [
        "\n",
        "--> downloading tweet #125524107386302465 (123 of 4784)\n",
        "['apple', 'positive', '125523414298533888']"
       ]
      },
      {
       "output_type": "stream",
       "stream": "stdout",
       "text": [
        "\n",
        "--> downloading tweet #125523414298533888 (124 of 4784)\n",
        "['apple', 'positive', '125501576952553472']"
       ]
      },
      {
       "output_type": "stream",
       "stream": "stdout",
       "text": [
        "\n",
        "--> downloading tweet #125501576952553472 (125 of 4784)\n",
        "['apple', 'positive', '125501281753251840']"
       ]
      },
      {
       "output_type": "stream",
       "stream": "stdout",
       "text": [
        "\n",
        "--> downloading tweet #125501281753251840 (126 of 4784)\n",
        "['apple', 'positive', '125495491701125120']"
       ]
      },
      {
       "output_type": "stream",
       "stream": "stdout",
       "text": [
        "\n",
        "--> downloading tweet #125495491701125120 (127 of 4784)\n",
        "['apple', 'positive', '125459338524499969']"
       ]
      },
      {
       "output_type": "stream",
       "stream": "stdout",
       "text": [
        "\n",
        "--> downloading tweet #125459338524499969 (128 of 4784)\n",
        "['apple', 'positive', '125455260801179648']"
       ]
      },
      {
       "output_type": "stream",
       "stream": "stdout",
       "text": [
        "\n",
        "--> downloading tweet #125455260801179648 (129 of 4784)\n",
        "['apple', 'positive', '125423290767507456']"
       ]
      },
      {
       "output_type": "stream",
       "stream": "stdout",
       "text": [
        "\n",
        "--> downloading tweet #125423290767507456 (130 of 4784)\n",
        "['apple', 'positive', '125416879035658240']"
       ]
      },
      {
       "output_type": "stream",
       "stream": "stdout",
       "text": [
        "\n",
        "--> downloading tweet #125416879035658240 (131 of 4784)\n",
        "['apple', 'positive', '125407532893224962']"
       ]
      },
      {
       "output_type": "stream",
       "stream": "stdout",
       "text": [
        "\n",
        "--> downloading tweet #125407532893224962 (132 of 4784)\n",
        "['apple', 'positive', '125402412147146752']"
       ]
      },
      {
       "output_type": "stream",
       "stream": "stdout",
       "text": [
        "\n",
        "--> downloading tweet #125402412147146752 (133 of 4784)\n",
        "['apple', 'positive', '125393816470568961']"
       ]
      },
      {
       "output_type": "stream",
       "stream": "stdout",
       "text": [
        "\n",
        "--> downloading tweet #125393816470568961 (134 of 4784)\n",
        "['apple', 'positive', '125374540107886593']"
       ]
      },
      {
       "output_type": "stream",
       "stream": "stdout",
       "text": [
        "\n",
        "--> downloading tweet #125374540107886593 (135 of 4784)\n",
        "['apple', 'positive', '125356807626559488']"
       ]
      },
      {
       "output_type": "stream",
       "stream": "stdout",
       "text": [
        "\n",
        "--> downloading tweet #125356807626559488 (136 of 4784)\n",
        "['apple', 'positive', '125343429289984000']"
       ]
      },
      {
       "output_type": "stream",
       "stream": "stdout",
       "text": [
        "\n",
        "--> downloading tweet #125343429289984000 (137 of 4784)\n",
        "['apple', 'positive', '125338216411828224']"
       ]
      },
      {
       "output_type": "stream",
       "stream": "stdout",
       "text": [
        "\n",
        "--> downloading tweet #125338216411828224 (138 of 4784)\n",
        "['apple', 'positive', '125333598197911552']"
       ]
      },
      {
       "output_type": "stream",
       "stream": "stdout",
       "text": [
        "\n",
        "--> downloading tweet #125333598197911552 (139 of 4784)\n",
        "['apple', 'positive', '125319163366473728']"
       ]
      },
      {
       "output_type": "stream",
       "stream": "stdout",
       "text": [
        "\n",
        "--> downloading tweet #125319163366473728 (140 of 4784)\n",
        "['apple', 'positive', '125313088160411649']"
       ]
      },
      {
       "output_type": "stream",
       "stream": "stdout",
       "text": [
        "\n",
        "--> downloading tweet #125313088160411649 (141 of 4784)\n",
        "['apple', 'positive', '125309946723188736']"
       ]
      },
      {
       "output_type": "stream",
       "stream": "stdout",
       "text": [
        "\n",
        "--> downloading tweet #125309946723188736 (142 of 4784)\n",
        "['apple', 'positive', '125281706327552001']"
       ]
      },
      {
       "output_type": "stream",
       "stream": "stdout",
       "text": [
        "\n",
        "--> downloading tweet #125281706327552001 (143 of 4784)\n",
        "Twitter sent status 403 for URL: 1.1/statuses/show.json using parameters: (id=125281706327552001&oauth_consumer_key=GcRkL0gdhohaKsn0FqQLWEp8y&oauth_nonce=8186522430922344663&oauth_signature_method=HMAC-SHA1&oauth_timestamp=1422169049&oauth_token=50568370-23CcdsyaeI2vK5QuGlRn1IlQHjD1Aubm2yfjTTAPz&oauth_version=1.0&oauth_signature=E2LvDD5%2Bm9mlVfkTcBb1moU5PSI%3D)\n",
        "details: {\"errors\":[{\"code\":179,\"message\":\"Sorry, you are not authorized to see this status.\"}]}"
       ]
      },
      {
       "output_type": "stream",
       "stream": "stdout",
       "text": [
        "\n",
        "Not authorized to view this tweet.\n",
        "['apple', 'positive', '125279987254300672']\n",
        "--> downloading tweet #125279987254300672 (144 of 4784)\n",
        "['apple', 'positive', '125256305647693825']"
       ]
      },
      {
       "output_type": "stream",
       "stream": "stdout",
       "text": [
        "\n",
        "--> downloading tweet #125256305647693825 (145 of 4784)\n",
        "['apple', 'positive', '125252188065902592']"
       ]
      },
      {
       "output_type": "stream",
       "stream": "stdout",
       "text": [
        "\n",
        "--> downloading tweet #125252188065902592 (146 of 4784)\n",
        "['apple', 'positive', '125243911538098176']"
       ]
      },
      {
       "output_type": "stream",
       "stream": "stdout",
       "text": [
        "\n",
        "--> downloading tweet #125243911538098176 (147 of 4784)\n",
        "Twitter sent status 404 for URL: 1.1/statuses/show.json using parameters: (id=125243911538098176&oauth_consumer_key=GcRkL0gdhohaKsn0FqQLWEp8y&oauth_nonce=8684288590633720502&oauth_signature_method=HMAC-SHA1&oauth_timestamp=1422169055&oauth_token=50568370-23CcdsyaeI2vK5QuGlRn1IlQHjD1Aubm2yfjTTAPz&oauth_version=1.0&oauth_signature=Z3BpuX3b%2FP2PLaQG2KqJoGEyPf4%3D)\n",
        "details: {\"errors\":[{\"message\":\"Sorry, that page does not exist\",\"code\":34}]}"
       ]
      },
      {
       "output_type": "stream",
       "stream": "stdout",
       "text": [
        "\n",
        "('Tweet missing: ', ['apple', 'positive', '125243911538098176'])\n",
        "['apple', 'positive', '125238977417580544']\n",
        "--> downloading tweet #125238977417580544 (148 of 4784)\n",
        "['apple', 'positive', '125238017299451905']"
       ]
      },
      {
       "output_type": "stream",
       "stream": "stdout",
       "text": [
        "\n",
        "--> downloading tweet #125238017299451905 (149 of 4784)\n",
        "['apple', 'positive', '125165176772247552']"
       ]
      },
      {
       "output_type": "stream",
       "stream": "stdout",
       "text": [
        "\n",
        "--> downloading tweet #125165176772247552 (150 of 4784)\n",
        "['apple', 'negative', '126418790706712576']"
       ]
      },
      {
       "output_type": "stream",
       "stream": "stdout",
       "text": [
        "\n",
        "--> downloading tweet #126418790706712576 (151 of 4784)\n",
        "['apple', 'negative', '126417285559762944']"
       ]
      },
      {
       "output_type": "stream",
       "stream": "stdout",
       "text": [
        "\n",
        "--> downloading tweet #126417285559762944 (152 of 4784)\n",
        "['apple', 'negative', '126416915664084992']"
       ]
      },
      {
       "output_type": "stream",
       "stream": "stdout",
       "text": [
        "\n",
        "--> downloading tweet #126416915664084992 (153 of 4784)\n",
        "['apple', 'negative', '126416109212680192']"
       ]
      },
      {
       "output_type": "stream",
       "stream": "stdout",
       "text": [
        "\n",
        "--> downloading tweet #126416109212680192 (154 of 4784)\n",
        "['apple', 'negative', '126411162622496768']"
       ]
      },
      {
       "output_type": "stream",
       "stream": "stdout",
       "text": [
        "\n",
        "--> downloading tweet #126411162622496768 (155 of 4784)\n",
        "['apple', 'negative', '126410591949697024']"
       ]
      },
      {
       "output_type": "stream",
       "stream": "stdout",
       "text": [
        "\n",
        "--> downloading tweet #126410591949697024 (156 of 4784)\n",
        "['apple', 'negative', '126409696553861121']"
       ]
      },
      {
       "output_type": "stream",
       "stream": "stdout",
       "text": [
        "\n",
        "--> downloading tweet #126409696553861121 (157 of 4784)\n",
        "['apple', 'negative', '126408864387182593']"
       ]
      },
      {
       "output_type": "stream",
       "stream": "stdout",
       "text": [
        "\n",
        "--> downloading tweet #126408864387182593 (158 of 4784)\n",
        "['apple', 'negative', '126408052525105153']"
       ]
      },
      {
       "output_type": "stream",
       "stream": "stdout",
       "text": [
        "\n",
        "--> downloading tweet #126408052525105153 (159 of 4784)\n",
        "['apple', 'negative', '126407767132078082']"
       ]
      },
      {
       "output_type": "stream",
       "stream": "stdout",
       "text": [
        "\n",
        "--> downloading tweet #126407767132078082 (160 of 4784)\n",
        "['apple', 'negative', '126405405667627008']"
       ]
      },
      {
       "output_type": "stream",
       "stream": "stdout",
       "text": [
        "\n",
        "--> downloading tweet #126405405667627008 (161 of 4784)\n",
        "['apple', 'negative', '126405185630253056']"
       ]
      },
      {
       "output_type": "stream",
       "stream": "stdout",
       "text": [
        "\n",
        "--> downloading tweet #126405185630253056 (162 of 4784)\n",
        "['apple', 'negative', '126405040809312256']"
       ]
      },
      {
       "output_type": "stream",
       "stream": "stdout",
       "text": [
        "\n",
        "--> downloading tweet #126405040809312256 (163 of 4784)\n",
        "['apple', 'negative', '126400637930979329']"
       ]
      },
      {
       "output_type": "stream",
       "stream": "stdout",
       "text": [
        "\n",
        "--> downloading tweet #126400637930979329 (164 of 4784)\n",
        "Twitter sent status 403 for URL: 1.1/statuses/show.json using parameters: (id=126400637930979329&oauth_consumer_key=GcRkL0gdhohaKsn0FqQLWEp8y&oauth_nonce=14965661987583288116&oauth_signature_method=HMAC-SHA1&oauth_timestamp=1422169079&oauth_token=50568370-23CcdsyaeI2vK5QuGlRn1IlQHjD1Aubm2yfjTTAPz&oauth_version=1.0&oauth_signature=QxNgYiet%2FI9DtkIRwO%2BPRkvOj0w%3D)\n",
        "details: {\"errors\":[{\"code\":179,\"message\":\"Sorry, you are not authorized to see this status.\"}]}"
       ]
      },
      {
       "output_type": "stream",
       "stream": "stdout",
       "text": [
        "\n",
        "Not authorized to view this tweet.\n",
        "['apple', 'negative', '126394680903614465']\n",
        "--> downloading tweet #126394680903614465 (165 of 4784)\n",
        "['apple', 'negative', '126393717421645825']"
       ]
      },
      {
       "output_type": "stream",
       "stream": "stdout",
       "text": [
        "\n",
        "--> downloading tweet #126393717421645825 (166 of 4784)\n",
        "['apple', 'negative', '126393204550537216']"
       ]
      },
      {
       "output_type": "stream",
       "stream": "stdout",
       "text": [
        "\n",
        "--> downloading tweet #126393204550537216 (167 of 4784)\n",
        "['apple', 'negative', '126392402083708928']"
       ]
      },
      {
       "output_type": "stream",
       "stream": "stdout",
       "text": [
        "\n",
        "--> downloading tweet #126392402083708928 (168 of 4784)\n",
        "['apple', 'negative', '126391082308206593']"
       ]
      },
      {
       "output_type": "stream",
       "stream": "stdout",
       "text": [
        "\n",
        "--> downloading tweet #126391082308206593 (169 of 4784)\n",
        "Twitter sent status 403 for URL: 1.1/statuses/show.json using parameters: (id=126391082308206593&oauth_consumer_key=GcRkL0gdhohaKsn0FqQLWEp8y&oauth_nonce=8438321059682765105&oauth_signature_method=HMAC-SHA1&oauth_timestamp=1422169086&oauth_token=50568370-23CcdsyaeI2vK5QuGlRn1IlQHjD1Aubm2yfjTTAPz&oauth_version=1.0&oauth_signature=RX%2BzYK24dlgAaF8wbDJGd7dlF90%3D)\n",
        "details: {\"errors\":[{\"code\":179,\"message\":\"Sorry, you are not authorized to see this status.\"}]}"
       ]
      },
      {
       "output_type": "stream",
       "stream": "stdout",
       "text": [
        "\n",
        "Not authorized to view this tweet.\n",
        "['apple', 'negative', '126389218284015616']\n",
        "--> downloading tweet #126389218284015616 (170 of 4784)\n",
        "['apple', 'negative', '126388194194362369']"
       ]
      },
      {
       "output_type": "stream",
       "stream": "stdout",
       "text": [
        "\n",
        "--> downloading tweet #126388194194362369 (171 of 4784)\n",
        "['apple', 'negative', '126388023725268992']"
       ]
      },
      {
       "output_type": "stream",
       "stream": "stdout",
       "text": [
        "\n",
        "--> downloading tweet #126388023725268992 (172 of 4784)\n",
        "['apple', 'negative', '126385036441296896']"
       ]
      },
      {
       "output_type": "stream",
       "stream": "stdout",
       "text": [
        "\n",
        "--> downloading tweet #126385036441296896 (173 of 4784)\n",
        "['apple', 'negative', '126382959711358976']"
       ]
      },
      {
       "output_type": "stream",
       "stream": "stdout",
       "text": [
        "\n",
        "--> downloading tweet #126382959711358976 (174 of 4784)\n",
        "['apple', 'negative', '126382051661328385']"
       ]
      },
      {
       "output_type": "stream",
       "stream": "stdout",
       "text": [
        "\n",
        "--> downloading tweet #126382051661328385 (175 of 4784)\n",
        "['apple', 'negative', '126381519513194497']"
       ]
      },
      {
       "output_type": "stream",
       "stream": "stdout",
       "text": [
        "\n",
        "--> downloading tweet #126381519513194497 (176 of 4784)\n",
        "['apple', 'negative', '126380588822298625']"
       ]
      },
      {
       "output_type": "stream",
       "stream": "stdout",
       "text": [
        "\n",
        "--> downloading tweet #126380588822298625 (177 of 4784)\n",
        "['apple', 'negative', '126380553464315904']"
       ]
      },
      {
       "output_type": "stream",
       "stream": "stdout",
       "text": [
        "\n",
        "--> downloading tweet #126380553464315904 (178 of 4784)\n",
        "['apple', 'negative', '126377298650861568']"
       ]
      },
      {
       "output_type": "stream",
       "stream": "stdout",
       "text": [
        "\n",
        "--> downloading tweet #126377298650861568 (179 of 4784)\n",
        "['apple', 'negative', '126375381249966080']"
       ]
      },
      {
       "output_type": "stream",
       "stream": "stdout",
       "text": [
        "\n",
        "--> downloading tweet #126375381249966080 (180 of 4784)\n",
        "Rate limiting requests us to wait 640.859477 seconds"
       ]
      },
      {
       "output_type": "stream",
       "stream": "stdout",
       "text": [
        "\n",
        "['apple', 'negative', '126372694118768640']"
       ]
      },
      {
       "output_type": "stream",
       "stream": "stdout",
       "text": [
        "\n",
        "--> downloading tweet #126372694118768640 (181 of 4784)\n",
        "['apple', 'negative', '126372040696541184']"
       ]
      },
      {
       "output_type": "stream",
       "stream": "stdout",
       "text": [
        "\n",
        "--> downloading tweet #126372040696541184 (182 of 4784)\n",
        "['apple', 'negative', '126363154837020672']"
       ]
      },
      {
       "output_type": "stream",
       "stream": "stdout",
       "text": [
        "\n",
        "--> downloading tweet #126363154837020672 (183 of 4784)\n",
        "['apple', 'negative', '126361483432038400']"
       ]
      },
      {
       "output_type": "stream",
       "stream": "stdout",
       "text": [
        "\n",
        "--> downloading tweet #126361483432038400 (184 of 4784)\n",
        "['apple', 'negative', '126358781633368064']"
       ]
      },
      {
       "output_type": "stream",
       "stream": "stdout",
       "text": [
        "\n",
        "--> downloading tweet #126358781633368064 (185 of 4784)\n",
        "['apple', 'negative', '126358301393956866']"
       ]
      },
      {
       "output_type": "stream",
       "stream": "stdout",
       "text": [
        "\n",
        "--> downloading tweet #126358301393956866 (186 of 4784)\n",
        "['apple', 'negative', '126358272084152320']"
       ]
      },
      {
       "output_type": "stream",
       "stream": "stdout",
       "text": [
        "\n",
        "--> downloading tweet #126358272084152320 (187 of 4784)\n",
        "['apple', 'negative', '126357580741226496']"
       ]
      },
      {
       "output_type": "stream",
       "stream": "stdout",
       "text": [
        "\n",
        "--> downloading tweet #126357580741226496 (188 of 4784)\n",
        "['apple', 'negative', '126357227727626240']"
       ]
      },
      {
       "output_type": "stream",
       "stream": "stdout",
       "text": [
        "\n",
        "--> downloading tweet #126357227727626240 (189 of 4784)\n",
        "['apple', 'negative', '126354628999778305']"
       ]
      },
      {
       "output_type": "stream",
       "stream": "stdout",
       "text": [
        "\n",
        "--> downloading tweet #126354628999778305 (190 of 4784)\n",
        "['apple', 'negative', '126351972948393984']"
       ]
      },
      {
       "output_type": "stream",
       "stream": "stdout",
       "text": [
        "\n",
        "--> downloading tweet #126351972948393984 (191 of 4784)\n",
        "['apple', 'negative', '126348169826148352']"
       ]
      },
      {
       "output_type": "stream",
       "stream": "stdout",
       "text": [
        "\n",
        "--> downloading tweet #126348169826148352 (192 of 4784)\n",
        "['apple', 'negative', '126344426854416385']"
       ]
      },
      {
       "output_type": "stream",
       "stream": "stdout",
       "text": [
        "\n",
        "--> downloading tweet #126344426854416385 (193 of 4784)\n",
        "['apple', 'negative', '126343931117047808']"
       ]
      },
      {
       "output_type": "stream",
       "stream": "stdout",
       "text": [
        "\n",
        "--> downloading tweet #126343931117047808 (194 of 4784)\n",
        "['apple', 'negative', '126343679785959424']"
       ]
      },
      {
       "output_type": "stream",
       "stream": "stdout",
       "text": [
        "\n",
        "--> downloading tweet #126343679785959424 (195 of 4784)\n",
        "['apple', 'negative', '126343214805426176']"
       ]
      },
      {
       "output_type": "stream",
       "stream": "stdout",
       "text": [
        "\n",
        "--> downloading tweet #126343214805426176 (196 of 4784)\n",
        "['apple', 'negative', '126334597431697408']"
       ]
      },
      {
       "output_type": "stream",
       "stream": "stdout",
       "text": [
        "\n",
        "--> downloading tweet #126334597431697408 (197 of 4784)\n",
        "['apple', 'negative', '126334188583530496']"
       ]
      },
      {
       "output_type": "stream",
       "stream": "stdout",
       "text": [
        "\n",
        "--> downloading tweet #126334188583530496 (198 of 4784)\n",
        "['apple', 'negative', '126331480233353216']"
       ]
      },
      {
       "output_type": "stream",
       "stream": "stdout",
       "text": [
        "\n",
        "--> downloading tweet #126331480233353216 (199 of 4784)\n",
        "['apple', 'negative', '126331327271284736']"
       ]
      },
      {
       "output_type": "stream",
       "stream": "stdout",
       "text": [
        "\n",
        "--> downloading tweet #126331327271284736 (200 of 4784)\n",
        "['apple', 'negative', '126327808803880960']"
       ]
      },
      {
       "output_type": "stream",
       "stream": "stdout",
       "text": [
        "\n",
        "--> downloading tweet #126327808803880960 (201 of 4784)\n",
        "['apple', 'negative', '126324573384871936']"
       ]
      },
      {
       "output_type": "stream",
       "stream": "stdout",
       "text": [
        "\n",
        "--> downloading tweet #126324573384871936 (202 of 4784)\n",
        "['apple', 'negative', '126324389741473792']"
       ]
      },
      {
       "output_type": "stream",
       "stream": "stdout",
       "text": [
        "\n",
        "--> downloading tweet #126324389741473792 (203 of 4784)\n",
        "['apple', 'negative', '126324077513293824']"
       ]
      },
      {
       "output_type": "stream",
       "stream": "stdout",
       "text": [
        "\n",
        "--> downloading tweet #126324077513293824 (204 of 4784)\n",
        "['apple', 'negative', '126321169468100609']"
       ]
      },
      {
       "output_type": "stream",
       "stream": "stdout",
       "text": [
        "\n",
        "--> downloading tweet #126321169468100609 (205 of 4784)\n",
        "['apple', 'negative', '126320033369563138']"
       ]
      },
      {
       "output_type": "stream",
       "stream": "stdout",
       "text": [
        "\n",
        "--> downloading tweet #126320033369563138 (206 of 4784)\n",
        "['apple', 'negative', '126310645443461121']"
       ]
      },
      {
       "output_type": "stream",
       "stream": "stdout",
       "text": [
        "\n",
        "--> downloading tweet #126310645443461121 (207 of 4784)\n",
        "['apple', 'negative', '126309616391950336']"
       ]
      },
      {
       "output_type": "stream",
       "stream": "stdout",
       "text": [
        "\n",
        "--> downloading tweet #126309616391950336 (208 of 4784)\n",
        "['apple', 'negative', '126307071984545793']"
       ]
      },
      {
       "output_type": "stream",
       "stream": "stdout",
       "text": [
        "\n",
        "--> downloading tweet #126307071984545793 (209 of 4784)\n",
        "['apple', 'negative', '126302386644975616']"
       ]
      },
      {
       "output_type": "stream",
       "stream": "stdout",
       "text": [
        "\n",
        "--> downloading tweet #126302386644975616 (210 of 4784)\n",
        "['apple', 'negative', '126299379832336384']"
       ]
      },
      {
       "output_type": "stream",
       "stream": "stdout",
       "text": [
        "\n",
        "--> downloading tweet #126299379832336384 (211 of 4784)\n",
        "['apple', 'negative', '126297326565330944']"
       ]
      },
      {
       "output_type": "stream",
       "stream": "stdout",
       "text": [
        "\n",
        "--> downloading tweet #126297326565330944 (212 of 4784)\n",
        "['apple', 'negative', '126292335540699136']"
       ]
      },
      {
       "output_type": "stream",
       "stream": "stdout",
       "text": [
        "\n",
        "--> downloading tweet #126292335540699136 (213 of 4784)\n",
        "['apple', 'negative', '126286814578348032']"
       ]
      },
      {
       "output_type": "stream",
       "stream": "stdout",
       "text": [
        "\n",
        "--> downloading tweet #126286814578348032 (214 of 4784)\n",
        "['apple', 'negative', '126283602571964416']"
       ]
      },
      {
       "output_type": "stream",
       "stream": "stdout",
       "text": [
        "\n",
        "--> downloading tweet #126283602571964416 (215 of 4784)\n",
        "['apple', 'negative', '126281019476291585']"
       ]
      },
      {
       "output_type": "stream",
       "stream": "stdout",
       "text": [
        "\n",
        "--> downloading tweet #126281019476291585 (216 of 4784)\n",
        "['apple', 'negative', '126280555980529664']"
       ]
      },
      {
       "output_type": "stream",
       "stream": "stdout",
       "text": [
        "\n",
        "--> downloading tweet #126280555980529664 (217 of 4784)\n",
        "['apple', 'negative', '126279811151831042']"
       ]
      },
      {
       "output_type": "stream",
       "stream": "stdout",
       "text": [
        "\n",
        "--> downloading tweet #126279811151831042 (218 of 4784)\n",
        "['apple', 'negative', '126258214412091392']"
       ]
      },
      {
       "output_type": "stream",
       "stream": "stdout",
       "text": [
        "\n",
        "--> downloading tweet #126258214412091392 (219 of 4784)\n",
        "['apple', 'negative', '126257645282799616']"
       ]
      },
      {
       "output_type": "stream",
       "stream": "stdout",
       "text": [
        "\n",
        "--> downloading tweet #126257645282799616 (220 of 4784)\n",
        "['apple', 'negative', '126251052667375616']"
       ]
      },
      {
       "output_type": "stream",
       "stream": "stdout",
       "text": [
        "\n",
        "--> downloading tweet #126251052667375616 (221 of 4784)\n",
        "['apple', 'negative', '126247557339947008']"
       ]
      },
      {
       "output_type": "stream",
       "stream": "stdout",
       "text": [
        "\n",
        "--> downloading tweet #126247557339947008 (222 of 4784)\n",
        "['apple', 'negative', '126243680129523712']"
       ]
      },
      {
       "output_type": "stream",
       "stream": "stdout",
       "text": [
        "\n",
        "--> downloading tweet #126243680129523712 (223 of 4784)\n",
        "['apple', 'negative', '126240605419487232']"
       ]
      },
      {
       "output_type": "stream",
       "stream": "stdout",
       "text": [
        "\n",
        "--> downloading tweet #126240605419487232 (224 of 4784)\n",
        "['apple', 'negative', '126238223537152001']"
       ]
      },
      {
       "output_type": "stream",
       "stream": "stdout",
       "text": [
        "\n",
        "--> downloading tweet #126238223537152001 (225 of 4784)\n",
        "['apple', 'negative', '126221894126022656']"
       ]
      },
      {
       "output_type": "stream",
       "stream": "stdout",
       "text": [
        "\n",
        "--> downloading tweet #126221894126022656 (226 of 4784)\n",
        "['apple', 'negative', '126189036644728832']"
       ]
      },
      {
       "output_type": "stream",
       "stream": "stdout",
       "text": [
        "\n",
        "--> downloading tweet #126189036644728832 (227 of 4784)\n",
        "['apple', 'negative', '126188946974720000']"
       ]
      },
      {
       "output_type": "stream",
       "stream": "stdout",
       "text": [
        "\n",
        "--> downloading tweet #126188946974720000 (228 of 4784)\n",
        "['apple', 'negative', '126188717902802944']"
       ]
      },
      {
       "output_type": "stream",
       "stream": "stdout",
       "text": [
        "\n",
        "--> downloading tweet #126188717902802944 (229 of 4784)\n",
        "['apple', 'negative', '126188686453907457']"
       ]
      },
      {
       "output_type": "stream",
       "stream": "stdout",
       "text": [
        "\n",
        "--> downloading tweet #126188686453907457 (230 of 4784)\n",
        "['apple', 'negative', '126182880123695104']"
       ]
      },
      {
       "output_type": "stream",
       "stream": "stdout",
       "text": [
        "\n",
        "--> downloading tweet #126182880123695104 (231 of 4784)\n",
        "Twitter sent status 404 for URL: 1.1/statuses/show.json using parameters: (id=126182880123695104&oauth_consumer_key=GcRkL0gdhohaKsn0FqQLWEp8y&oauth_nonce=13388457365964653150&oauth_signature_method=HMAC-SHA1&oauth_timestamp=1422169822&oauth_token=50568370-23CcdsyaeI2vK5QuGlRn1IlQHjD1Aubm2yfjTTAPz&oauth_version=1.0&oauth_signature=2N0fDuUPBld%2FzlzzzkEAMrfdYgE%3D)\n",
        "details: {\"errors\":[{\"message\":\"Sorry, that page does not exist\",\"code\":34}]}"
       ]
      },
      {
       "output_type": "stream",
       "stream": "stdout",
       "text": [
        "\n",
        "('Tweet missing: ', ['apple', 'negative', '126182880123695104'])\n",
        "['apple', 'negative', '126167083334643713']\n",
        "--> downloading tweet #126167083334643713 (232 of 4784)\n",
        "['apple', 'negative', '126163315499081728']"
       ]
      },
      {
       "output_type": "stream",
       "stream": "stdout",
       "text": [
        "\n",
        "--> downloading tweet #126163315499081728 (233 of 4784)\n",
        "['apple', 'negative', '126163250172801024']"
       ]
      },
      {
       "output_type": "stream",
       "stream": "stdout",
       "text": [
        "\n",
        "--> downloading tweet #126163250172801024 (234 of 4784)\n",
        "['apple', 'negative', '126158846375903233']"
       ]
      },
      {
       "output_type": "stream",
       "stream": "stdout",
       "text": [
        "\n",
        "--> downloading tweet #126158846375903233 (235 of 4784)\n",
        "['apple', 'negative', '126155291288023040']"
       ]
      },
      {
       "output_type": "stream",
       "stream": "stdout",
       "text": [
        "\n",
        "--> downloading tweet #126155291288023040 (236 of 4784)\n",
        "['apple', 'negative', '126150581558591488']"
       ]
      },
      {
       "output_type": "stream",
       "stream": "stdout",
       "text": [
        "\n",
        "--> downloading tweet #126150581558591488 (237 of 4784)\n",
        "['apple', 'negative', '126148955217203200']"
       ]
      },
      {
       "output_type": "stream",
       "stream": "stdout",
       "text": [
        "\n",
        "--> downloading tweet #126148955217203200 (238 of 4784)\n",
        "Twitter sent status 404 for URL: 1.1/statuses/show.json using parameters: (id=126148955217203200&oauth_consumer_key=GcRkL0gdhohaKsn0FqQLWEp8y&oauth_nonce=11317322485684594391&oauth_signature_method=HMAC-SHA1&oauth_timestamp=1422169832&oauth_token=50568370-23CcdsyaeI2vK5QuGlRn1IlQHjD1Aubm2yfjTTAPz&oauth_version=1.0&oauth_signature=pWHgOEd%2BPoKY3eJRzrzn%2Fik7Pew%3D)\n",
        "details: {\"errors\":[{\"message\":\"Sorry, that page does not exist\",\"code\":34}]}"
       ]
      },
      {
       "output_type": "stream",
       "stream": "stdout",
       "text": [
        "\n",
        "('Tweet missing: ', ['apple', 'negative', '126148955217203200'])\n",
        "['apple', 'negative', '126148565302128640']\n",
        "--> downloading tweet #126148565302128640 (239 of 4784)\n",
        "Twitter sent status 404 for URL: 1.1/statuses/show.json using parameters: (id=126148565302128640&oauth_consumer_key=GcRkL0gdhohaKsn0FqQLWEp8y&oauth_nonce=5571397524341298397&oauth_signature_method=HMAC-SHA1&oauth_timestamp=1422169834&oauth_token=50568370-23CcdsyaeI2vK5QuGlRn1IlQHjD1Aubm2yfjTTAPz&oauth_version=1.0&oauth_signature=LU3lHnbR3AfSQjBGkQ%2FZ28nHeM8%3D)\n",
        "details: {\"errors\":[{\"message\":\"Sorry, that page does not exist\",\"code\":34}]}"
       ]
      },
      {
       "output_type": "stream",
       "stream": "stdout",
       "text": [
        "\n",
        "('Tweet missing: ', ['apple', 'negative', '126148565302128640'])\n",
        "['apple', 'negative', '126143926523539457']\n",
        "--> downloading tweet #126143926523539457 (240 of 4784)\n",
        "['apple', 'negative', '126141380409036800']"
       ]
      },
      {
       "output_type": "stream",
       "stream": "stdout",
       "text": [
        "\n",
        "--> downloading tweet #126141380409036800 (241 of 4784)\n",
        "['apple', 'negative', '126141077131497472']"
       ]
      },
      {
       "output_type": "stream",
       "stream": "stdout",
       "text": [
        "\n",
        "--> downloading tweet #126141077131497472 (242 of 4784)\n",
        "['apple', 'negative', '126132919117938689']"
       ]
      },
      {
       "output_type": "stream",
       "stream": "stdout",
       "text": [
        "\n",
        "--> downloading tweet #126132919117938689 (243 of 4784)\n",
        "['apple', 'negative', '126131535211536384']"
       ]
      },
      {
       "output_type": "stream",
       "stream": "stdout",
       "text": [
        "\n",
        "--> downloading tweet #126131535211536384 (244 of 4784)\n",
        "['apple', 'negative', '126129938247061504']"
       ]
      },
      {
       "output_type": "stream",
       "stream": "stdout",
       "text": [
        "\n",
        "--> downloading tweet #126129938247061504 (245 of 4784)\n",
        "Twitter sent status 403 for URL: 1.1/statuses/show.json using parameters: (id=126129938247061504&oauth_consumer_key=GcRkL0gdhohaKsn0FqQLWEp8y&oauth_nonce=980821873322406883&oauth_signature_method=HMAC-SHA1&oauth_timestamp=1422169842&oauth_token=50568370-23CcdsyaeI2vK5QuGlRn1IlQHjD1Aubm2yfjTTAPz&oauth_version=1.0&oauth_signature=wCIyZ%2FmZImZ%2BNB9mhU6N5intlIU%3D)\n",
        "details: {\"errors\":[{\"code\":179,\"message\":\"Sorry, you are not authorized to see this status.\"}]}"
       ]
      },
      {
       "output_type": "stream",
       "stream": "stdout",
       "text": [
        "\n",
        "Not authorized to view this tweet.\n",
        "['apple', 'negative', '126129582326816769']\n",
        "--> downloading tweet #126129582326816769 (246 of 4784)\n",
        "['apple', 'negative', '126128599030956032']"
       ]
      },
      {
       "output_type": "stream",
       "stream": "stdout",
       "text": [
        "\n",
        "--> downloading tweet #126128599030956032 (247 of 4784)\n",
        "['apple', 'negative', '126127465155403777']"
       ]
      },
      {
       "output_type": "stream",
       "stream": "stdout",
       "text": [
        "\n",
        "--> downloading tweet #126127465155403777 (248 of 4784)\n",
        "['apple', 'negative', '126118222746497025']"
       ]
      },
      {
       "output_type": "stream",
       "stream": "stdout",
       "text": [
        "\n",
        "--> downloading tweet #126118222746497025 (249 of 4784)\n",
        "['apple', 'negative', '126106964420857857']"
       ]
      },
      {
       "output_type": "stream",
       "stream": "stdout",
       "text": [
        "\n",
        "--> downloading tweet #126106964420857857 (250 of 4784)\n",
        "['apple', 'negative', '126099775417364480']"
       ]
      },
      {
       "output_type": "stream",
       "stream": "stdout",
       "text": [
        "\n",
        "--> downloading tweet #126099775417364480 (251 of 4784)\n",
        "['apple', 'negative', '126096173198082048']"
       ]
      },
      {
       "output_type": "stream",
       "stream": "stdout",
       "text": [
        "\n",
        "--> downloading tweet #126096173198082048 (252 of 4784)\n",
        "['apple', 'negative', '126094194312876032']"
       ]
      },
      {
       "output_type": "stream",
       "stream": "stdout",
       "text": [
        "\n",
        "--> downloading tweet #126094194312876032 (253 of 4784)\n",
        "['apple', 'negative', '126089287660863488']"
       ]
      },
      {
       "output_type": "stream",
       "stream": "stdout",
       "text": [
        "\n",
        "--> downloading tweet #126089287660863488 (254 of 4784)\n",
        "['apple', 'negative', '126088404084588546']"
       ]
      },
      {
       "output_type": "stream",
       "stream": "stdout",
       "text": [
        "\n",
        "--> downloading tweet #126088404084588546 (255 of 4784)\n",
        "['apple', 'negative', '126085893353250816']"
       ]
      },
      {
       "output_type": "stream",
       "stream": "stdout",
       "text": [
        "\n",
        "--> downloading tweet #126085893353250816 (256 of 4784)\n",
        "['apple', 'negative', '126084068298334208']"
       ]
      },
      {
       "output_type": "stream",
       "stream": "stdout",
       "text": [
        "\n",
        "--> downloading tweet #126084068298334208 (257 of 4784)\n",
        "['apple', 'negative', '126082123743502336']"
       ]
      },
      {
       "output_type": "stream",
       "stream": "stdout",
       "text": [
        "\n",
        "--> downloading tweet #126082123743502336 (258 of 4784)\n",
        "['apple', 'negative', '126079672386723840']"
       ]
      },
      {
       "output_type": "stream",
       "stream": "stdout",
       "text": [
        "\n",
        "--> downloading tweet #126079672386723840 (259 of 4784)\n",
        "['apple', 'negative', '126075115686465536']"
       ]
      },
      {
       "output_type": "stream",
       "stream": "stdout",
       "text": [
        "\n",
        "--> downloading tweet #126075115686465536 (260 of 4784)\n",
        "['apple', 'negative', '126073520504569858']"
       ]
      },
      {
       "output_type": "stream",
       "stream": "stdout",
       "text": [
        "\n",
        "--> downloading tweet #126073520504569858 (261 of 4784)\n",
        "['apple', 'negative', '126072901144281088']"
       ]
      },
      {
       "output_type": "stream",
       "stream": "stdout",
       "text": [
        "\n",
        "--> downloading tweet #126072901144281088 (262 of 4784)\n",
        "['apple', 'negative', '126069614181486593']"
       ]
      },
      {
       "output_type": "stream",
       "stream": "stdout",
       "text": [
        "\n",
        "--> downloading tweet #126069614181486593 (263 of 4784)\n",
        "['apple', 'negative', '126068917012668416']"
       ]
      },
      {
       "output_type": "stream",
       "stream": "stdout",
       "text": [
        "\n",
        "--> downloading tweet #126068917012668416 (264 of 4784)\n",
        "['apple', 'negative', '126063215842037760']"
       ]
      },
      {
       "output_type": "stream",
       "stream": "stdout",
       "text": [
        "\n",
        "--> downloading tweet #126063215842037760 (265 of 4784)\n",
        "['apple', 'negative', '126054048972537856']"
       ]
      },
      {
       "output_type": "stream",
       "stream": "stdout",
       "text": [
        "\n",
        "--> downloading tweet #126054048972537856 (266 of 4784)\n",
        "['apple', 'negative', '126053722966069248']"
       ]
      },
      {
       "output_type": "stream",
       "stream": "stdout",
       "text": [
        "\n",
        "--> downloading tweet #126053722966069248 (267 of 4784)\n",
        "['apple', 'negative', '126050114518261760']"
       ]
      },
      {
       "output_type": "stream",
       "stream": "stdout",
       "text": [
        "\n",
        "--> downloading tweet #126050114518261760 (268 of 4784)\n",
        "['apple', 'negative', '126044756320075776']"
       ]
      },
      {
       "output_type": "stream",
       "stream": "stdout",
       "text": [
        "\n",
        "--> downloading tweet #126044756320075776 (269 of 4784)\n",
        "['apple', 'negative', '126044425964109824']"
       ]
      },
      {
       "output_type": "stream",
       "stream": "stdout",
       "text": [
        "\n",
        "--> downloading tweet #126044425964109824 (270 of 4784)\n",
        "['apple', 'negative', '126037831301869568']"
       ]
      },
      {
       "output_type": "stream",
       "stream": "stdout",
       "text": [
        "\n",
        "--> downloading tweet #126037831301869568 (271 of 4784)\n",
        "['apple', 'negative', '126036793970786304']"
       ]
      },
      {
       "output_type": "stream",
       "stream": "stdout",
       "text": [
        "\n",
        "--> downloading tweet #126036793970786304 (272 of 4784)\n",
        "['apple', 'negative', '126034507475337216']"
       ]
      },
      {
       "output_type": "stream",
       "stream": "stdout",
       "text": [
        "\n",
        "--> downloading tweet #126034507475337216 (273 of 4784)\n",
        "['apple', 'negative', '126031969166434304']"
       ]
      },
      {
       "output_type": "stream",
       "stream": "stdout",
       "text": [
        "\n",
        "--> downloading tweet #126031969166434304 (274 of 4784)\n",
        "['apple', 'negative', '126030936084189184']"
       ]
      },
      {
       "output_type": "stream",
       "stream": "stdout",
       "text": [
        "\n",
        "--> downloading tweet #126030936084189184 (275 of 4784)\n",
        "['apple', 'negative', '126029733325582336']"
       ]
      },
      {
       "output_type": "stream",
       "stream": "stdout",
       "text": [
        "\n",
        "--> downloading tweet #126029733325582336 (276 of 4784)\n",
        "['apple', 'negative', '126021108641181696']"
       ]
      },
      {
       "output_type": "stream",
       "stream": "stdout",
       "text": [
        "\n",
        "--> downloading tweet #126021108641181696 (277 of 4784)\n",
        "['apple', 'negative', '126018120983904256']"
       ]
      },
      {
       "output_type": "stream",
       "stream": "stdout",
       "text": [
        "\n",
        "--> downloading tweet #126018120983904256 (278 of 4784)\n",
        "['apple', 'negative', '126016585348558848']"
       ]
      },
      {
       "output_type": "stream",
       "stream": "stdout",
       "text": [
        "\n",
        "--> downloading tweet #126016585348558848 (279 of 4784)\n",
        "['apple', 'negative', '126014999444467712']"
       ]
      },
      {
       "output_type": "stream",
       "stream": "stdout",
       "text": [
        "\n",
        "--> downloading tweet #126014999444467712 (280 of 4784)\n",
        "['apple', 'negative', '126014540721827840']"
       ]
      },
      {
       "output_type": "stream",
       "stream": "stdout",
       "text": [
        "\n",
        "--> downloading tweet #126014540721827840 (281 of 4784)\n",
        "['apple', 'negative', '126012822936231936']"
       ]
      },
      {
       "output_type": "stream",
       "stream": "stdout",
       "text": [
        "\n",
        "--> downloading tweet #126012822936231936 (282 of 4784)\n",
        "['apple', 'negative', '126008913400303616']"
       ]
      },
      {
       "output_type": "stream",
       "stream": "stdout",
       "text": [
        "\n",
        "--> downloading tweet #126008913400303616 (283 of 4784)\n",
        "['apple', 'negative', '126006966312108032']"
       ]
      },
      {
       "output_type": "stream",
       "stream": "stdout",
       "text": [
        "\n",
        "--> downloading tweet #126006966312108032 (284 of 4784)\n",
        "['apple', 'negative', '126006116168642560']"
       ]
      },
      {
       "output_type": "stream",
       "stream": "stdout",
       "text": [
        "\n",
        "--> downloading tweet #126006116168642560 (285 of 4784)\n",
        "['apple', 'negative', '126003967552524288']"
       ]
      },
      {
       "output_type": "stream",
       "stream": "stdout",
       "text": [
        "\n",
        "--> downloading tweet #126003967552524288 (286 of 4784)\n",
        "['apple', 'negative', '126001775626031105']"
       ]
      },
      {
       "output_type": "stream",
       "stream": "stdout",
       "text": [
        "\n",
        "--> downloading tweet #126001775626031105 (287 of 4784)\n",
        "['apple', 'negative', '126001635162992640']"
       ]
      },
      {
       "output_type": "stream",
       "stream": "stdout",
       "text": [
        "\n",
        "--> downloading tweet #126001635162992640 (288 of 4784)\n",
        "['apple', 'negative', '125999655011098624']"
       ]
      },
      {
       "output_type": "stream",
       "stream": "stdout",
       "text": [
        "\n",
        "--> downloading tweet #125999655011098624 (289 of 4784)\n",
        "['apple', 'negative', '125996379913986048']"
       ]
      },
      {
       "output_type": "stream",
       "stream": "stdout",
       "text": [
        "\n",
        "--> downloading tweet #125996379913986048 (290 of 4784)\n",
        "['apple', 'negative', '125995264325599233']"
       ]
      },
      {
       "output_type": "stream",
       "stream": "stdout",
       "text": [
        "\n",
        "--> downloading tweet #125995264325599233 (291 of 4784)\n",
        "['apple', 'negative', '125994965183635456']"
       ]
      },
      {
       "output_type": "stream",
       "stream": "stdout",
       "text": [
        "\n",
        "--> downloading tweet #125994965183635456 (292 of 4784)\n",
        "['apple', 'negative', '125994596336533504']"
       ]
      },
      {
       "output_type": "stream",
       "stream": "stdout",
       "text": [
        "\n",
        "--> downloading tweet #125994596336533504 (293 of 4784)\n",
        "['apple', 'negative', '125989051101741056']"
       ]
      },
      {
       "output_type": "stream",
       "stream": "stdout",
       "text": [
        "\n",
        "--> downloading tweet #125989051101741056 (294 of 4784)\n",
        "['apple', 'negative', '125987979784224770']"
       ]
      },
      {
       "output_type": "stream",
       "stream": "stdout",
       "text": [
        "\n",
        "--> downloading tweet #125987979784224770 (295 of 4784)\n",
        "['apple', 'negative', '125987439692099584']"
       ]
      },
      {
       "output_type": "stream",
       "stream": "stdout",
       "text": [
        "\n",
        "--> downloading tweet #125987439692099584 (296 of 4784)\n",
        "['apple', 'negative', '125982320917364736']"
       ]
      },
      {
       "output_type": "stream",
       "stream": "stdout",
       "text": [
        "\n",
        "--> downloading tweet #125982320917364736 (297 of 4784)\n",
        "['apple', 'negative', '125980659415138304']"
       ]
      },
      {
       "output_type": "stream",
       "stream": "stdout",
       "text": [
        "\n",
        "--> downloading tweet #125980659415138304 (298 of 4784)\n",
        "['apple', 'negative', '125978454146551808']"
       ]
      },
      {
       "output_type": "stream",
       "stream": "stdout",
       "text": [
        "\n",
        "--> downloading tweet #125978454146551808 (299 of 4784)\n",
        "['apple', 'negative', '125976113657823232']"
       ]
      },
      {
       "output_type": "stream",
       "stream": "stdout",
       "text": [
        "\n",
        "--> downloading tweet #125976113657823232 (300 of 4784)\n",
        "['apple', 'negative', '125974886006005760']"
       ]
      },
      {
       "output_type": "stream",
       "stream": "stdout",
       "text": [
        "\n",
        "--> downloading tweet #125974886006005760 (301 of 4784)\n",
        "['apple', 'negative', '125974351035117568']"
       ]
      },
      {
       "output_type": "stream",
       "stream": "stdout",
       "text": [
        "\n",
        "--> downloading tweet #125974351035117568 (302 of 4784)\n",
        "['apple', 'negative', '125973390283653120']"
       ]
      },
      {
       "output_type": "stream",
       "stream": "stdout",
       "text": [
        "\n",
        "--> downloading tweet #125973390283653120 (303 of 4784)\n",
        "['apple', 'negative', '125969932285513728']"
       ]
      },
      {
       "output_type": "stream",
       "stream": "stdout",
       "text": [
        "\n",
        "--> downloading tweet #125969932285513728 (304 of 4784)\n",
        "['apple', 'negative', '125966385259098112']"
       ]
      },
      {
       "output_type": "stream",
       "stream": "stdout",
       "text": [
        "\n",
        "--> downloading tweet #125966385259098112 (305 of 4784)\n",
        "['apple', 'negative', '125965988146585601']"
       ]
      },
      {
       "output_type": "stream",
       "stream": "stdout",
       "text": [
        "\n",
        "--> downloading tweet #125965988146585601 (306 of 4784)\n",
        "['apple', 'negative', '125965853769478144']"
       ]
      },
      {
       "output_type": "stream",
       "stream": "stdout",
       "text": [
        "\n",
        "--> downloading tweet #125965853769478144 (307 of 4784)\n",
        "['apple', 'negative', '125964314220830722']"
       ]
      },
      {
       "output_type": "stream",
       "stream": "stdout",
       "text": [
        "\n",
        "--> downloading tweet #125964314220830722 (308 of 4784)\n",
        "['apple', 'negative', '125963262733991936']"
       ]
      },
      {
       "output_type": "stream",
       "stream": "stdout",
       "text": [
        "\n",
        "--> downloading tweet #125963262733991936 (309 of 4784)\n",
        "['apple', 'negative', '125961999791308800']"
       ]
      },
      {
       "output_type": "stream",
       "stream": "stdout",
       "text": [
        "\n",
        "--> downloading tweet #125961999791308800 (310 of 4784)\n",
        "['apple', 'negative', '125961793926475776']"
       ]
      },
      {
       "output_type": "stream",
       "stream": "stdout",
       "text": [
        "\n",
        "--> downloading tweet #125961793926475776 (311 of 4784)\n",
        "['apple', 'negative', '125960026891362304']"
       ]
      },
      {
       "output_type": "stream",
       "stream": "stdout",
       "text": [
        "\n",
        "--> downloading tweet #125960026891362304 (312 of 4784)\n",
        "['apple', 'negative', '125958961269702656']"
       ]
      },
      {
       "output_type": "stream",
       "stream": "stdout",
       "text": [
        "\n",
        "--> downloading tweet #125958961269702656 (313 of 4784)\n",
        "['apple', 'negative', '125958368773943296']"
       ]
      },
      {
       "output_type": "stream",
       "stream": "stdout",
       "text": [
        "\n",
        "--> downloading tweet #125958368773943296 (314 of 4784)\n",
        "['apple', 'negative', '125956505768960000']"
       ]
      },
      {
       "output_type": "stream",
       "stream": "stdout",
       "text": [
        "\n",
        "--> downloading tweet #125956505768960000 (315 of 4784)\n",
        "['apple', 'negative', '125956403574747137']"
       ]
      },
      {
       "output_type": "stream",
       "stream": "stdout",
       "text": [
        "\n",
        "--> downloading tweet #125956403574747137 (316 of 4784)\n",
        "['apple', 'negative', '125956319344721920']"
       ]
      },
      {
       "output_type": "stream",
       "stream": "stdout",
       "text": [
        "\n",
        "--> downloading tweet #125956319344721920 (317 of 4784)\n",
        "['apple', 'negative', '125953600861126656']"
       ]
      },
      {
       "output_type": "stream",
       "stream": "stdout",
       "text": [
        "\n",
        "--> downloading tweet #125953600861126656 (318 of 4784)\n",
        "['apple', 'negative', '125950557310562305']"
       ]
      },
      {
       "output_type": "stream",
       "stream": "stdout",
       "text": [
        "\n",
        "--> downloading tweet #125950557310562305 (319 of 4784)\n",
        "['apple', 'negative', '125945821240885248']"
       ]
      },
      {
       "output_type": "stream",
       "stream": "stdout",
       "text": [
        "\n",
        "--> downloading tweet #125945821240885248 (320 of 4784)\n",
        "['apple', 'negative', '125943204943114240']"
       ]
      },
      {
       "output_type": "stream",
       "stream": "stdout",
       "text": [
        "\n",
        "--> downloading tweet #125943204943114240 (321 of 4784)\n",
        "['apple', 'negative', '125937228328341504']"
       ]
      },
      {
       "output_type": "stream",
       "stream": "stdout",
       "text": [
        "\n",
        "--> downloading tweet #125937228328341504 (322 of 4784)\n",
        "['apple', 'negative', '125930406125117440']"
       ]
      },
      {
       "output_type": "stream",
       "stream": "stdout",
       "text": [
        "\n",
        "--> downloading tweet #125930406125117440 (323 of 4784)\n",
        "['apple', 'negative', '125929899071516676']"
       ]
      },
      {
       "output_type": "stream",
       "stream": "stdout",
       "text": [
        "\n",
        "--> downloading tweet #125929899071516676 (324 of 4784)\n",
        "['apple', 'negative', '125929395264299009']"
       ]
      },
      {
       "output_type": "stream",
       "stream": "stdout",
       "text": [
        "\n",
        "--> downloading tweet #125929395264299009 (325 of 4784)\n",
        "['apple', 'negative', '125920912171216896']"
       ]
      },
      {
       "output_type": "stream",
       "stream": "stdout",
       "text": [
        "\n",
        "--> downloading tweet #125920912171216896 (326 of 4784)\n",
        "['apple', 'negative', '125876542600519681']"
       ]
      },
      {
       "output_type": "stream",
       "stream": "stdout",
       "text": [
        "\n",
        "--> downloading tweet #125876542600519681 (327 of 4784)\n",
        "['apple', 'negative', '125863232249405440']"
       ]
      },
      {
       "output_type": "stream",
       "stream": "stdout",
       "text": [
        "\n",
        "--> downloading tweet #125863232249405440 (328 of 4784)\n",
        "['apple', 'negative', '125846659182764032']"
       ]
      },
      {
       "output_type": "stream",
       "stream": "stdout",
       "text": [
        "\n",
        "--> downloading tweet #125846659182764032 (329 of 4784)\n",
        "['apple', 'negative', '125845538926112768']"
       ]
      },
      {
       "output_type": "stream",
       "stream": "stdout",
       "text": [
        "\n",
        "--> downloading tweet #125845538926112768 (330 of 4784)\n",
        "['apple', 'negative', '125826259048607744']"
       ]
      },
      {
       "output_type": "stream",
       "stream": "stdout",
       "text": [
        "\n",
        "--> downloading tweet #125826259048607744 (331 of 4784)\n",
        "['apple', 'negative', '125824148579692544']"
       ]
      },
      {
       "output_type": "stream",
       "stream": "stdout",
       "text": [
        "\n",
        "--> downloading tweet #125824148579692544 (332 of 4784)\n",
        "['apple', 'negative', '125822115155947520']"
       ]
      },
      {
       "output_type": "stream",
       "stream": "stdout",
       "text": [
        "\n",
        "--> downloading tweet #125822115155947520 (333 of 4784)\n",
        "['apple', 'negative', '125819194049699840']"
       ]
      },
      {
       "output_type": "stream",
       "stream": "stdout",
       "text": [
        "\n",
        "--> downloading tweet #125819194049699840 (334 of 4784)\n",
        "['apple', 'negative', '125815370513793024']"
       ]
      },
      {
       "output_type": "stream",
       "stream": "stdout",
       "text": [
        "\n",
        "--> downloading tweet #125815370513793024 (335 of 4784)\n",
        "['apple', 'negative', '125807830363156480']"
       ]
      },
      {
       "output_type": "stream",
       "stream": "stdout",
       "text": [
        "\n",
        "--> downloading tweet #125807830363156480 (336 of 4784)\n",
        "['apple', 'negative', '125806568389361664']"
       ]
      },
      {
       "output_type": "stream",
       "stream": "stdout",
       "text": [
        "\n",
        "--> downloading tweet #125806568389361664 (337 of 4784)\n",
        "['apple', 'negative', '125806240138928128']"
       ]
      },
      {
       "output_type": "stream",
       "stream": "stdout",
       "text": [
        "\n",
        "--> downloading tweet #125806240138928128 (338 of 4784)\n",
        "['apple', 'negative', '125794703819030528']"
       ]
      },
      {
       "output_type": "stream",
       "stream": "stdout",
       "text": [
        "\n",
        "--> downloading tweet #125794703819030528 (339 of 4784)\n",
        "['apple', 'negative', '125731810733867011']"
       ]
      },
      {
       "output_type": "stream",
       "stream": "stdout",
       "text": [
        "\n",
        "--> downloading tweet #125731810733867011 (340 of 4784)\n",
        "['apple', 'negative', '125729727653756928']"
       ]
      },
      {
       "output_type": "stream",
       "stream": "stdout",
       "text": [
        "\n",
        "--> downloading tweet #125729727653756928 (341 of 4784)\n",
        "['apple', 'negative', '125722107710672896']"
       ]
      },
      {
       "output_type": "stream",
       "stream": "stdout",
       "text": [
        "\n",
        "--> downloading tweet #125722107710672896 (342 of 4784)\n",
        "['apple', 'negative', '125717447276904448']"
       ]
      },
      {
       "output_type": "stream",
       "stream": "stdout",
       "text": [
        "\n",
        "--> downloading tweet #125717447276904448 (343 of 4784)\n",
        "['apple', 'negative', '125717161531551744']"
       ]
      },
      {
       "output_type": "stream",
       "stream": "stdout",
       "text": [
        "\n",
        "--> downloading tweet #125717161531551744 (344 of 4784)\n",
        "['apple', 'negative', '125713100782575616']"
       ]
      },
      {
       "output_type": "stream",
       "stream": "stdout",
       "text": [
        "\n",
        "--> downloading tweet #125713100782575616 (345 of 4784)\n",
        "['apple', 'negative', '125712104253702146']"
       ]
      },
      {
       "output_type": "stream",
       "stream": "stdout",
       "text": [
        "\n",
        "--> downloading tweet #125712104253702146 (346 of 4784)\n",
        "['apple', 'negative', '125710089716899840']"
       ]
      },
      {
       "output_type": "stream",
       "stream": "stdout",
       "text": [
        "\n",
        "--> downloading tweet #125710089716899840 (347 of 4784)\n",
        "['apple', 'negative', '125708348237680640']"
       ]
      },
      {
       "output_type": "stream",
       "stream": "stdout",
       "text": [
        "\n",
        "--> downloading tweet #125708348237680640 (348 of 4784)\n",
        "['apple', 'negative', '125706246056706049']"
       ]
      },
      {
       "output_type": "stream",
       "stream": "stdout",
       "text": [
        "\n",
        "--> downloading tweet #125706246056706049 (349 of 4784)\n",
        "['apple', 'negative', '125701785540235264']"
       ]
      },
      {
       "output_type": "stream",
       "stream": "stdout",
       "text": [
        "\n",
        "--> downloading tweet #125701785540235264 (350 of 4784)\n",
        "['apple', 'negative', '125691072398639104']"
       ]
      },
      {
       "output_type": "stream",
       "stream": "stdout",
       "text": [
        "\n",
        "--> downloading tweet #125691072398639104 (351 of 4784)\n",
        "['apple', 'negative', '125689691927351296']"
       ]
      },
      {
       "output_type": "stream",
       "stream": "stdout",
       "text": [
        "\n",
        "--> downloading tweet #125689691927351296 (352 of 4784)\n",
        "['apple', 'negative', '125681125376000000']"
       ]
      },
      {
       "output_type": "stream",
       "stream": "stdout",
       "text": [
        "\n",
        "--> downloading tweet #125681125376000000 (353 of 4784)\n",
        "['apple', 'negative', '125679166015283203']"
       ]
      },
      {
       "output_type": "stream",
       "stream": "stdout",
       "text": [
        "\n",
        "--> downloading tweet #125679166015283203 (354 of 4784)\n",
        "['apple', 'negative', '125665094561574913']"
       ]
      },
      {
       "output_type": "stream",
       "stream": "stdout",
       "text": [
        "\n",
        "--> downloading tweet #125665094561574913 (355 of 4784)\n",
        "['apple', 'negative', '125664507757461504']"
       ]
      },
      {
       "output_type": "stream",
       "stream": "stdout",
       "text": [
        "\n",
        "--> downloading tweet #125664507757461504 (356 of 4784)\n",
        "['apple', 'negative', '125663477573500930']"
       ]
      },
      {
       "output_type": "stream",
       "stream": "stdout",
       "text": [
        "\n",
        "--> downloading tweet #125663477573500930 (357 of 4784)\n",
        "['apple', 'negative', '125661140939321344']"
       ]
      },
      {
       "output_type": "stream",
       "stream": "stdout",
       "text": [
        "\n",
        "--> downloading tweet #125661140939321344 (358 of 4784)\n",
        "['apple', 'negative', '125657359841361920']"
       ]
      },
      {
       "output_type": "stream",
       "stream": "stdout",
       "text": [
        "\n",
        "--> downloading tweet #125657359841361920 (359 of 4784)\n",
        "['apple', 'negative', '125656559190683651']"
       ]
      },
      {
       "output_type": "stream",
       "stream": "stdout",
       "text": [
        "\n",
        "--> downloading tweet #125656559190683651 (360 of 4784)\n",
        "Rate limiting requests us to wait 634.907754 seconds"
       ]
      },
      {
       "output_type": "stream",
       "stream": "stdout",
       "text": [
        "\n",
        "['apple', 'negative', '125654540455378945']"
       ]
      },
      {
       "output_type": "stream",
       "stream": "stdout",
       "text": [
        "\n",
        "--> downloading tweet #125654540455378945 (361 of 4784)\n",
        "['apple', 'negative', '125651769261965312']"
       ]
      },
      {
       "output_type": "stream",
       "stream": "stdout",
       "text": [
        "\n",
        "--> downloading tweet #125651769261965312 (362 of 4784)\n",
        "['apple', 'negative', '125649285667749889']"
       ]
      },
      {
       "output_type": "stream",
       "stream": "stdout",
       "text": [
        "\n",
        "--> downloading tweet #125649285667749889 (363 of 4784)\n",
        "['apple', 'negative', '125645811903250432']"
       ]
      },
      {
       "output_type": "stream",
       "stream": "stdout",
       "text": [
        "\n",
        "--> downloading tweet #125645811903250432 (364 of 4784)\n",
        "['apple', 'negative', '125643054190305280']"
       ]
      },
      {
       "output_type": "stream",
       "stream": "stdout",
       "text": [
        "\n",
        "--> downloading tweet #125643054190305280 (365 of 4784)\n",
        "['apple', 'negative', '125642742977138689']"
       ]
      },
      {
       "output_type": "stream",
       "stream": "stdout",
       "text": [
        "\n",
        "--> downloading tweet #125642742977138689 (366 of 4784)\n",
        "['apple', 'negative', '125641051531784192']"
       ]
      },
      {
       "output_type": "stream",
       "stream": "stdout",
       "text": [
        "\n",
        "--> downloading tweet #125641051531784192 (367 of 4784)\n",
        "['apple', 'negative', '125639217090011136']"
       ]
      },
      {
       "output_type": "stream",
       "stream": "stdout",
       "text": [
        "\n",
        "--> downloading tweet #125639217090011136 (368 of 4784)\n",
        "['apple', 'negative', '125633065878958080']"
       ]
      },
      {
       "output_type": "stream",
       "stream": "stdout",
       "text": [
        "\n",
        "--> downloading tweet #125633065878958080 (369 of 4784)\n",
        "['apple', 'negative', '125631239364427776']"
       ]
      },
      {
       "output_type": "stream",
       "stream": "stdout",
       "text": [
        "\n",
        "--> downloading tweet #125631239364427776 (370 of 4784)\n",
        "['apple', 'negative', '125626166492147713']"
       ]
      },
      {
       "output_type": "stream",
       "stream": "stdout",
       "text": [
        "\n",
        "--> downloading tweet #125626166492147713 (371 of 4784)\n",
        "['apple', 'negative', '125621144148639744']"
       ]
      },
      {
       "output_type": "stream",
       "stream": "stdout",
       "text": [
        "\n",
        "--> downloading tweet #125621144148639744 (372 of 4784)\n",
        "['apple', 'negative', '125607492356018176']"
       ]
      },
      {
       "output_type": "stream",
       "stream": "stdout",
       "text": [
        "\n",
        "--> downloading tweet #125607492356018176 (373 of 4784)\n",
        "Twitter sent status 403 for URL: 1.1/statuses/show.json using parameters: (id=125607492356018176&oauth_consumer_key=GcRkL0gdhohaKsn0FqQLWEp8y&oauth_nonce=2749058271401035630&oauth_signature_method=HMAC-SHA1&oauth_timestamp=1422170673&oauth_token=50568370-23CcdsyaeI2vK5QuGlRn1IlQHjD1Aubm2yfjTTAPz&oauth_version=1.0&oauth_signature=vZfgSBg4QSK4aqw0nUFfJZV%2F0wk%3D)\n",
        "details: {\"errors\":[{\"code\":179,\"message\":\"Sorry, you are not authorized to see this status.\"}]}"
       ]
      },
      {
       "output_type": "stream",
       "stream": "stdout",
       "text": [
        "\n",
        "Not authorized to view this tweet.\n",
        "['apple', 'negative', '125603435440644098']\n",
        "--> downloading tweet #125603435440644098 (374 of 4784)\n",
        "['apple', 'negative', '125601235985367041']"
       ]
      },
      {
       "output_type": "stream",
       "stream": "stdout",
       "text": [
        "\n",
        "--> downloading tweet #125601235985367041 (375 of 4784)\n",
        "['apple', 'negative', '125599423131697154']"
       ]
      },
      {
       "output_type": "stream",
       "stream": "stdout",
       "text": [
        "\n",
        "--> downloading tweet #125599423131697154 (376 of 4784)\n",
        "['apple', 'negative', '125598450090917888']"
       ]
      },
      {
       "output_type": "stream",
       "stream": "stdout",
       "text": [
        "\n",
        "--> downloading tweet #125598450090917888 (377 of 4784)\n",
        "['apple', 'negative', '125588202286366721']"
       ]
      },
      {
       "output_type": "stream",
       "stream": "stdout",
       "text": [
        "\n",
        "--> downloading tweet #125588202286366721 (378 of 4784)\n",
        "['apple', 'negative', '125586348064247808']"
       ]
      },
      {
       "output_type": "stream",
       "stream": "stdout",
       "text": [
        "\n",
        "--> downloading tweet #125586348064247808 (379 of 4784)\n",
        "['apple', 'negative', '125583385895768064']"
       ]
      },
      {
       "output_type": "stream",
       "stream": "stdout",
       "text": [
        "\n",
        "--> downloading tweet #125583385895768064 (380 of 4784)\n",
        "['apple', 'negative', '125556679571025920']"
       ]
      },
      {
       "output_type": "stream",
       "stream": "stdout",
       "text": [
        "\n",
        "--> downloading tweet #125556679571025920 (381 of 4784)\n",
        "['apple', 'negative', '125544764203466752']"
       ]
      },
      {
       "output_type": "stream",
       "stream": "stdout",
       "text": [
        "\n",
        "--> downloading tweet #125544764203466752 (382 of 4784)\n",
        "['apple', 'negative', '125533730222784512']"
       ]
      },
      {
       "output_type": "stream",
       "stream": "stdout",
       "text": [
        "\n",
        "--> downloading tweet #125533730222784512 (383 of 4784)\n",
        "['apple', 'negative', '125521682894041088']"
       ]
      },
      {
       "output_type": "stream",
       "stream": "stdout",
       "text": [
        "\n",
        "--> downloading tweet #125521682894041088 (384 of 4784)\n",
        "['apple', 'negative', '125510333078048768']"
       ]
      },
      {
       "output_type": "stream",
       "stream": "stdout",
       "text": [
        "\n",
        "--> downloading tweet #125510333078048768 (385 of 4784)\n",
        "['apple', 'negative', '125476730067615744']"
       ]
      },
      {
       "output_type": "stream",
       "stream": "stdout",
       "text": [
        "\n",
        "--> downloading tweet #125476730067615744 (386 of 4784)\n",
        "Twitter sent status 403 for URL: 1.1/statuses/show.json using parameters: (id=125476730067615744&oauth_consumer_key=GcRkL0gdhohaKsn0FqQLWEp8y&oauth_nonce=13636554990000237178&oauth_signature_method=HMAC-SHA1&oauth_timestamp=1422170692&oauth_token=50568370-23CcdsyaeI2vK5QuGlRn1IlQHjD1Aubm2yfjTTAPz&oauth_version=1.0&oauth_signature=S0lnU6lzEyzYiFFPKdW0SFwwG4A%3D)\n",
        "details: {\"errors\":[{\"code\":179,\"message\":\"Sorry, you are not authorized to see this status.\"}]}"
       ]
      },
      {
       "output_type": "stream",
       "stream": "stdout",
       "text": [
        "\n",
        "Not authorized to view this tweet.\n",
        "['apple', 'negative', '125471372485992448']\n",
        "--> downloading tweet #125471372485992448 (387 of 4784)\n",
        "['apple', 'negative', '125464229577891840']"
       ]
      },
      {
       "output_type": "stream",
       "stream": "stdout",
       "text": [
        "\n",
        "--> downloading tweet #125464229577891840 (388 of 4784)\n",
        "['apple', 'negative', '125458395800154112']"
       ]
      },
      {
       "output_type": "stream",
       "stream": "stdout",
       "text": [
        "\n",
        "--> downloading tweet #125458395800154112 (389 of 4784)\n",
        "['apple', 'negative', '125442137302110208']"
       ]
      },
      {
       "output_type": "stream",
       "stream": "stdout",
       "text": [
        "\n",
        "--> downloading tweet #125442137302110208 (390 of 4784)\n",
        "['apple', 'negative', '125441478951575552']"
       ]
      },
      {
       "output_type": "stream",
       "stream": "stdout",
       "text": [
        "\n",
        "--> downloading tweet #125441478951575552 (391 of 4784)\n",
        "['apple', 'negative', '125408962215555072']"
       ]
      },
      {
       "output_type": "stream",
       "stream": "stdout",
       "text": [
        "\n",
        "--> downloading tweet #125408962215555072 (392 of 4784)\n",
        "['apple', 'negative', '125408737296003072']"
       ]
      },
      {
       "output_type": "stream",
       "stream": "stdout",
       "text": [
        "\n",
        "--> downloading tweet #125408737296003072 (393 of 4784)\n",
        "['apple', 'negative', '125408701166256128']"
       ]
      },
      {
       "output_type": "stream",
       "stream": "stdout",
       "text": [
        "\n",
        "--> downloading tweet #125408701166256128 (394 of 4784)\n",
        "['apple', 'negative', '125407447383937025']"
       ]
      },
      {
       "output_type": "stream",
       "stream": "stdout",
       "text": [
        "\n",
        "--> downloading tweet #125407447383937025 (395 of 4784)\n",
        "['apple', 'negative', '125406743923671040']"
       ]
      },
      {
       "output_type": "stream",
       "stream": "stdout",
       "text": [
        "\n",
        "--> downloading tweet #125406743923671040 (396 of 4784)\n",
        "['apple', 'negative', '125405260650000384']"
       ]
      },
      {
       "output_type": "stream",
       "stream": "stdout",
       "text": [
        "\n",
        "--> downloading tweet #125405260650000384 (397 of 4784)\n",
        "['apple', 'negative', '125405005493706752']"
       ]
      },
      {
       "output_type": "stream",
       "stream": "stdout",
       "text": [
        "\n",
        "--> downloading tweet #125405005493706752 (398 of 4784)\n",
        "['apple', 'negative', '125404317669785600']"
       ]
      },
      {
       "output_type": "stream",
       "stream": "stdout",
       "text": [
        "\n",
        "--> downloading tweet #125404317669785600 (399 of 4784)\n",
        "['apple', 'negative', '125399780527570944']"
       ]
      },
      {
       "output_type": "stream",
       "stream": "stdout",
       "text": [
        "\n",
        "--> downloading tweet #125399780527570944 (400 of 4784)\n",
        "['apple', 'negative', '125394863255588864']"
       ]
      },
      {
       "output_type": "stream",
       "stream": "stdout",
       "text": [
        "\n",
        "--> downloading tweet #125394863255588864 (401 of 4784)\n",
        "['apple', 'negative', '125394746452619265']"
       ]
      },
      {
       "output_type": "stream",
       "stream": "stdout",
       "text": [
        "\n",
        "--> downloading tweet #125394746452619265 (402 of 4784)\n",
        "['apple', 'negative', '125394663573172224']"
       ]
      },
      {
       "output_type": "stream",
       "stream": "stdout",
       "text": [
        "\n",
        "--> downloading tweet #125394663573172224 (403 of 4784)\n",
        "['apple', 'negative', '125369698840887297']"
       ]
      },
      {
       "output_type": "stream",
       "stream": "stdout",
       "text": [
        "\n",
        "--> downloading tweet #125369698840887297 (404 of 4784)\n",
        "Twitter sent status 403 for URL: 1.1/statuses/show.json using parameters: (id=125369698840887297&oauth_consumer_key=GcRkL0gdhohaKsn0FqQLWEp8y&oauth_nonce=15675481092626808504&oauth_signature_method=HMAC-SHA1&oauth_timestamp=1422170718&oauth_token=50568370-23CcdsyaeI2vK5QuGlRn1IlQHjD1Aubm2yfjTTAPz&oauth_version=1.0&oauth_signature=1YQrQtYOkt6x8gWJ5sK4VFj356A%3D)\n",
        "details: {\"errors\":[{\"code\":179,\"message\":\"Sorry, you are not authorized to see this status.\"}]}"
       ]
      },
      {
       "output_type": "stream",
       "stream": "stdout",
       "text": [
        "\n",
        "Not authorized to view this tweet.\n",
        "['apple', 'negative', '125365852487942145']\n",
        "--> downloading tweet #125365852487942145 (405 of 4784)\n",
        "['apple', 'negative', '125365814579826688']"
       ]
      },
      {
       "output_type": "stream",
       "stream": "stdout",
       "text": [
        "\n",
        "--> downloading tweet #125365814579826688 (406 of 4784)\n",
        "['apple', 'negative', '125365581170999296']"
       ]
      },
      {
       "output_type": "stream",
       "stream": "stdout",
       "text": [
        "\n",
        "--> downloading tweet #125365581170999296 (407 of 4784)\n",
        "['apple', 'negative', '125355869859876864']"
       ]
      },
      {
       "output_type": "stream",
       "stream": "stdout",
       "text": [
        "\n",
        "--> downloading tweet #125355869859876864 (408 of 4784)\n",
        "['apple', 'negative', '125346783390990337']"
       ]
      },
      {
       "output_type": "stream",
       "stream": "stdout",
       "text": [
        "\n",
        "--> downloading tweet #125346783390990337 (409 of 4784)\n",
        "Twitter sent status 403 for URL: 1.1/statuses/show.json using parameters: (id=125346783390990337&oauth_consumer_key=GcRkL0gdhohaKsn0FqQLWEp8y&oauth_nonce=16833135242934542047&oauth_signature_method=HMAC-SHA1&oauth_timestamp=1422170725&oauth_token=50568370-23CcdsyaeI2vK5QuGlRn1IlQHjD1Aubm2yfjTTAPz&oauth_version=1.0&oauth_signature=dR4gUQIvtrPW1nwHEmzpVVV8I5Y%3D)\n",
        "details: {\"errors\":[{\"code\":179,\"message\":\"Sorry, you are not authorized to see this status.\"}]}"
       ]
      },
      {
       "output_type": "stream",
       "stream": "stdout",
       "text": [
        "\n",
        "Not authorized to view this tweet.\n",
        "['apple', 'negative', '125341902739484672']\n",
        "--> downloading tweet #125341902739484672 (410 of 4784)\n",
        "['apple', 'negative', '125341804857008128']"
       ]
      },
      {
       "output_type": "stream",
       "stream": "stdout",
       "text": [
        "\n",
        "--> downloading tweet #125341804857008128 (411 of 4784)\n",
        "['apple', 'negative', '125338210158125056']"
       ]
      },
      {
       "output_type": "stream",
       "stream": "stdout",
       "text": [
        "\n",
        "--> downloading tweet #125338210158125056 (412 of 4784)\n",
        "['apple', 'negative', '125336335656558592']"
       ]
      },
      {
       "output_type": "stream",
       "stream": "stdout",
       "text": [
        "\n",
        "--> downloading tweet #125336335656558592 (413 of 4784)\n",
        "['apple', 'negative', '125334948017213441']"
       ]
      },
      {
       "output_type": "stream",
       "stream": "stdout",
       "text": [
        "\n",
        "--> downloading tweet #125334948017213441 (414 of 4784)\n",
        "['apple', 'negative', '125333948556521472']"
       ]
      },
      {
       "output_type": "stream",
       "stream": "stdout",
       "text": [
        "\n",
        "--> downloading tweet #125333948556521472 (415 of 4784)\n",
        "['apple', 'negative', '125330038248849408']"
       ]
      },
      {
       "output_type": "stream",
       "stream": "stdout",
       "text": [
        "\n",
        "--> downloading tweet #125330038248849408 (416 of 4784)\n",
        "['apple', 'negative', '125329867674886144']"
       ]
      },
      {
       "output_type": "stream",
       "stream": "stdout",
       "text": [
        "\n",
        "--> downloading tweet #125329867674886144 (417 of 4784)\n",
        "['apple', 'negative', '125327896066785280']"
       ]
      },
      {
       "output_type": "stream",
       "stream": "stdout",
       "text": [
        "\n",
        "--> downloading tweet #125327896066785280 (418 of 4784)\n",
        "['apple', 'negative', '125313086465904641']"
       ]
      },
      {
       "output_type": "stream",
       "stream": "stdout",
       "text": [
        "\n",
        "--> downloading tweet #125313086465904641 (419 of 4784)\n",
        "['apple', 'negative', '125311989751877632']"
       ]
      },
      {
       "output_type": "stream",
       "stream": "stdout",
       "text": [
        "\n",
        "--> downloading tweet #125311989751877632 (420 of 4784)\n",
        "['apple', 'negative', '125309975881977857']"
       ]
      },
      {
       "output_type": "stream",
       "stream": "stdout",
       "text": [
        "\n",
        "--> downloading tweet #125309975881977857 (421 of 4784)\n",
        "['apple', 'negative', '125309448108519424']"
       ]
      },
      {
       "output_type": "stream",
       "stream": "stdout",
       "text": [
        "\n",
        "--> downloading tweet #125309448108519424 (422 of 4784)\n",
        "['apple', 'negative', '125307394640199680']"
       ]
      },
      {
       "output_type": "stream",
       "stream": "stdout",
       "text": [
        "\n",
        "--> downloading tweet #125307394640199680 (423 of 4784)\n",
        "['apple', 'negative', '125305396842856448']"
       ]
      },
      {
       "output_type": "stream",
       "stream": "stdout",
       "text": [
        "\n",
        "--> downloading tweet #125305396842856448 (424 of 4784)\n",
        "['apple', 'negative', '125303217214062592']"
       ]
      },
      {
       "output_type": "stream",
       "stream": "stdout",
       "text": [
        "\n",
        "--> downloading tweet #125303217214062592 (425 of 4784)\n",
        "['apple', 'negative', '125302079752384512']"
       ]
      },
      {
       "output_type": "stream",
       "stream": "stdout",
       "text": [
        "\n",
        "--> downloading tweet #125302079752384512 (426 of 4784)\n",
        "['apple', 'negative', '125301860256063488']"
       ]
      },
      {
       "output_type": "stream",
       "stream": "stdout",
       "text": [
        "\n",
        "--> downloading tweet #125301860256063488 (427 of 4784)\n",
        "['apple', 'negative', '125301393560047616']"
       ]
      },
      {
       "output_type": "stream",
       "stream": "stdout",
       "text": [
        "\n",
        "--> downloading tweet #125301393560047616 (428 of 4784)\n",
        "['apple', 'negative', '125301265700892672']"
       ]
      },
      {
       "output_type": "stream",
       "stream": "stdout",
       "text": [
        "\n",
        "--> downloading tweet #125301265700892672 (429 of 4784)\n",
        "['apple', 'negative', '125277260872822786']"
       ]
      },
      {
       "output_type": "stream",
       "stream": "stdout",
       "text": [
        "\n",
        "--> downloading tweet #125277260872822786 (430 of 4784)\n",
        "['apple', 'negative', '125276004817190914']"
       ]
      },
      {
       "output_type": "stream",
       "stream": "stdout",
       "text": [
        "\n",
        "--> downloading tweet #125276004817190914 (431 of 4784)\n",
        "['apple', 'negative', '125269239207706624']"
       ]
      },
      {
       "output_type": "stream",
       "stream": "stdout",
       "text": [
        "\n",
        "--> downloading tweet #125269239207706624 (432 of 4784)\n",
        "['apple', 'negative', '125269161327865856']"
       ]
      },
      {
       "output_type": "stream",
       "stream": "stdout",
       "text": [
        "\n",
        "--> downloading tweet #125269161327865856 (433 of 4784)\n",
        "['apple', 'negative', '125267178336419840']"
       ]
      },
      {
       "output_type": "stream",
       "stream": "stdout",
       "text": [
        "\n",
        "--> downloading tweet #125267178336419840 (434 of 4784)\n",
        "['apple', 'negative', '125265721281351680']"
       ]
      },
      {
       "output_type": "stream",
       "stream": "stdout",
       "text": [
        "\n",
        "--> downloading tweet #125265721281351680 (435 of 4784)\n",
        "['apple', 'negative', '125261285083447296']"
       ]
      },
      {
       "output_type": "stream",
       "stream": "stdout",
       "text": [
        "\n",
        "--> downloading tweet #125261285083447296 (436 of 4784)\n",
        "['apple', 'negative', '125247130762883072']"
       ]
      },
      {
       "output_type": "stream",
       "stream": "stdout",
       "text": [
        "\n",
        "--> downloading tweet #125247130762883072 (437 of 4784)\n",
        "['apple', 'negative', '125245780192792576']"
       ]
      },
      {
       "output_type": "stream",
       "stream": "stdout",
       "text": [
        "\n",
        "--> downloading tweet #125245780192792576 (438 of 4784)\n",
        "['apple', 'negative', '125245104859529216']"
       ]
      },
      {
       "output_type": "stream",
       "stream": "stdout",
       "text": [
        "\n",
        "--> downloading tweet #125245104859529216 (439 of 4784)\n",
        "['apple', 'negative', '125236708403970048']"
       ]
      },
      {
       "output_type": "stream",
       "stream": "stdout",
       "text": [
        "\n",
        "--> downloading tweet #125236708403970048 (440 of 4784)\n",
        "['apple', 'negative', '125236166151774208']"
       ]
      },
      {
       "output_type": "stream",
       "stream": "stdout",
       "text": [
        "\n",
        "--> downloading tweet #125236166151774208 (441 of 4784)\n",
        "['apple', 'negative', '125232266849947648']"
       ]
      },
      {
       "output_type": "stream",
       "stream": "stdout",
       "text": [
        "\n",
        "--> downloading tweet #125232266849947648 (442 of 4784)\n",
        "Twitter sent status 404 for URL: 1.1/statuses/show.json using parameters: (id=125232266849947648&oauth_consumer_key=GcRkL0gdhohaKsn0FqQLWEp8y&oauth_nonce=11846356095762281739&oauth_signature_method=HMAC-SHA1&oauth_timestamp=1422170773&oauth_token=50568370-23CcdsyaeI2vK5QuGlRn1IlQHjD1Aubm2yfjTTAPz&oauth_version=1.0&oauth_signature=4oSqGeEv9Lmxw5ez5K2C7LM%2F954%3D)\n",
        "details: {\"errors\":[{\"message\":\"Sorry, that page does not exist\",\"code\":34}]}"
       ]
      },
      {
       "output_type": "stream",
       "stream": "stdout",
       "text": [
        "\n",
        "('Tweet missing: ', ['apple', 'negative', '125232266849947648'])\n",
        "['apple', 'negative', '125230743990444032']\n",
        "--> downloading tweet #125230743990444032 (443 of 4784)\n",
        "['apple', 'negative', '125230107580317696']"
       ]
      },
      {
       "output_type": "stream",
       "stream": "stdout",
       "text": [
        "\n",
        "--> downloading tweet #125230107580317696 (444 of 4784)\n",
        "['apple', 'negative', '125227837438435328']"
       ]
      },
      {
       "output_type": "stream",
       "stream": "stdout",
       "text": [
        "\n",
        "--> downloading tweet #125227837438435328 (445 of 4784)\n",
        "['apple', 'negative', '125224588253741056']"
       ]
      },
      {
       "output_type": "stream",
       "stream": "stdout",
       "text": [
        "\n",
        "--> downloading tweet #125224588253741056 (446 of 4784)\n",
        "['apple', 'negative', '125223685194915840']"
       ]
      },
      {
       "output_type": "stream",
       "stream": "stdout",
       "text": [
        "\n",
        "--> downloading tweet #125223685194915840 (447 of 4784)\n",
        "['apple', 'negative', '125202037293064192']"
       ]
      },
      {
       "output_type": "stream",
       "stream": "stdout",
       "text": [
        "\n",
        "--> downloading tweet #125202037293064192 (448 of 4784)\n",
        "['apple', 'negative', '125129328446017536']"
       ]
      },
      {
       "output_type": "stream",
       "stream": "stdout",
       "text": [
        "\n",
        "--> downloading tweet #125129328446017536 (449 of 4784)\n",
        "['apple', 'neutral', '126417484017451009']"
       ]
      },
      {
       "output_type": "stream",
       "stream": "stdout",
       "text": [
        "\n",
        "--> downloading tweet #126417484017451009 (450 of 4784)\n",
        "['apple', 'neutral', '126415742177513472']"
       ]
      },
      {
       "output_type": "stream",
       "stream": "stdout",
       "text": [
        "\n",
        "--> downloading tweet #126415742177513472 (451 of 4784)\n",
        "['apple', 'neutral', '126415618625912832']"
       ]
      },
      {
       "output_type": "stream",
       "stream": "stdout",
       "text": [
        "\n",
        "--> downloading tweet #126415618625912832 (452 of 4784)\n",
        "['apple', 'neutral', '126414657836687362']"
       ]
      },
      {
       "output_type": "stream",
       "stream": "stdout",
       "text": [
        "\n",
        "--> downloading tweet #126414657836687362 (453 of 4784)\n",
        "['apple', 'neutral', '126410146703351808']"
       ]
      },
      {
       "output_type": "stream",
       "stream": "stdout",
       "text": [
        "\n",
        "--> downloading tweet #126410146703351808 (454 of 4784)\n",
        "['apple', 'neutral', '126409984836763648']"
       ]
      },
      {
       "output_type": "stream",
       "stream": "stdout",
       "text": [
        "\n",
        "--> downloading tweet #126409984836763648 (455 of 4784)\n",
        "['apple', 'neutral', '126407959495442432']"
       ]
      },
      {
       "output_type": "stream",
       "stream": "stdout",
       "text": [
        "\n",
        "--> downloading tweet #126407959495442432 (456 of 4784)\n",
        "['apple', 'neutral', '126407672521162753']"
       ]
      },
      {
       "output_type": "stream",
       "stream": "stdout",
       "text": [
        "\n",
        "--> downloading tweet #126407672521162753 (457 of 4784)\n",
        "['apple', 'neutral', '126407511531192320']"
       ]
      },
      {
       "output_type": "stream",
       "stream": "stdout",
       "text": [
        "\n",
        "--> downloading tweet #126407511531192320 (458 of 4784)\n",
        "['apple', 'neutral', '126405911697817600']"
       ]
      },
      {
       "output_type": "stream",
       "stream": "stdout",
       "text": [
        "\n",
        "--> downloading tweet #126405911697817600 (459 of 4784)\n",
        "['apple', 'neutral', '126405821482532864']"
       ]
      },
      {
       "output_type": "stream",
       "stream": "stdout",
       "text": [
        "\n",
        "--> downloading tweet #126405821482532864 (460 of 4784)\n",
        "['apple', 'neutral', '126405160934178816']"
       ]
      },
      {
       "output_type": "stream",
       "stream": "stdout",
       "text": [
        "\n",
        "--> downloading tweet #126405160934178816 (461 of 4784)\n",
        "['apple', 'neutral', '126403530838913024']"
       ]
      },
      {
       "output_type": "stream",
       "stream": "stdout",
       "text": [
        "\n",
        "--> downloading tweet #126403530838913024 (462 of 4784)\n",
        "['apple', 'neutral', '126401882766839811']"
       ]
      },
      {
       "output_type": "stream",
       "stream": "stdout",
       "text": [
        "\n",
        "--> downloading tweet #126401882766839811 (463 of 4784)\n",
        "['apple', 'neutral', '126400491067416576']"
       ]
      },
      {
       "output_type": "stream",
       "stream": "stdout",
       "text": [
        "\n",
        "--> downloading tweet #126400491067416576 (464 of 4784)\n",
        "['apple', 'neutral', '126393452324855808']"
       ]
      },
      {
       "output_type": "stream",
       "stream": "stdout",
       "text": [
        "\n",
        "--> downloading tweet #126393452324855808 (465 of 4784)\n",
        "['apple', 'neutral', '126389413054910464']"
       ]
      },
      {
       "output_type": "stream",
       "stream": "stdout",
       "text": [
        "\n",
        "--> downloading tweet #126389413054910464 (466 of 4784)\n",
        "['apple', 'neutral', '126387460463788032']"
       ]
      },
      {
       "output_type": "stream",
       "stream": "stdout",
       "text": [
        "\n",
        "--> downloading tweet #126387460463788032 (467 of 4784)\n",
        "['apple', 'neutral', '126384526925639681']"
       ]
      },
      {
       "output_type": "stream",
       "stream": "stdout",
       "text": [
        "\n",
        "--> downloading tweet #126384526925639681 (468 of 4784)\n",
        "['apple', 'neutral', '126383125059211265']"
       ]
      },
      {
       "output_type": "stream",
       "stream": "stdout",
       "text": [
        "\n",
        "--> downloading tweet #126383125059211265 (469 of 4784)\n",
        "['apple', 'neutral', '126381578975842304']"
       ]
      },
      {
       "output_type": "stream",
       "stream": "stdout",
       "text": [
        "\n",
        "--> downloading tweet #126381578975842304 (470 of 4784)\n",
        "['apple', 'neutral', '126379730827083776']"
       ]
      },
      {
       "output_type": "stream",
       "stream": "stdout",
       "text": [
        "\n",
        "--> downloading tweet #126379730827083776 (471 of 4784)\n",
        "['apple', 'neutral', '126377120023842816']"
       ]
      },
      {
       "output_type": "stream",
       "stream": "stdout",
       "text": [
        "\n",
        "--> downloading tweet #126377120023842816 (472 of 4784)\n",
        "['apple', 'neutral', '126375024595705856']"
       ]
      },
      {
       "output_type": "stream",
       "stream": "stdout",
       "text": [
        "\n",
        "--> downloading tweet #126375024595705856 (473 of 4784)\n",
        "['apple', 'neutral', '126374630377275392']"
       ]
      },
      {
       "output_type": "stream",
       "stream": "stdout",
       "text": [
        "\n",
        "--> downloading tweet #126374630377275392 (474 of 4784)\n",
        "['apple', 'neutral', '126370776013213697']"
       ]
      },
      {
       "output_type": "stream",
       "stream": "stdout",
       "text": [
        "\n",
        "--> downloading tweet #126370776013213697 (475 of 4784)\n",
        "['apple', 'neutral', '126368680459251712']"
       ]
      },
      {
       "output_type": "stream",
       "stream": "stdout",
       "text": [
        "\n",
        "--> downloading tweet #126368680459251712 (476 of 4784)\n",
        "['apple', 'neutral', '126368285259350017']"
       ]
      },
      {
       "output_type": "stream",
       "stream": "stdout",
       "text": [
        "\n",
        "--> downloading tweet #126368285259350017 (477 of 4784)\n",
        "['apple', 'neutral', '126368127524159488']"
       ]
      },
      {
       "output_type": "stream",
       "stream": "stdout",
       "text": [
        "\n",
        "--> downloading tweet #126368127524159488 (478 of 4784)\n",
        "['apple', 'neutral', '126364189097865216']"
       ]
      },
      {
       "output_type": "stream",
       "stream": "stdout",
       "text": [
        "\n",
        "--> downloading tweet #126364189097865216 (479 of 4784)\n",
        "['apple', 'neutral', '126362867778859008']"
       ]
      },
      {
       "output_type": "stream",
       "stream": "stdout",
       "text": [
        "\n",
        "--> downloading tweet #126362867778859008 (480 of 4784)\n",
        "Twitter sent status 404 for URL: 1.1/statuses/show.json using parameters: (id=126362867778859008&oauth_consumer_key=GcRkL0gdhohaKsn0FqQLWEp8y&oauth_nonce=1476286110572365173&oauth_signature_method=HMAC-SHA1&oauth_timestamp=1422170828&oauth_token=50568370-23CcdsyaeI2vK5QuGlRn1IlQHjD1Aubm2yfjTTAPz&oauth_version=1.0&oauth_signature=a9FV%2FfA69g5hONoyYjbkI6lxtYc%3D)\n",
        "details: {\"errors\":[{\"message\":\"Sorry, that page does not exist\",\"code\":34}]}"
       ]
      },
      {
       "output_type": "stream",
       "stream": "stdout",
       "text": [
        "\n",
        "('Tweet missing: ', ['apple', 'neutral', '126362867778859008'])\n",
        "['apple', 'neutral', '126360821419884544']\n",
        "--> downloading tweet #126360821419884544 (481 of 4784)\n",
        "['apple', 'neutral', '126360182308618240']"
       ]
      },
      {
       "output_type": "stream",
       "stream": "stdout",
       "text": [
        "\n",
        "--> downloading tweet #126360182308618240 (482 of 4784)\n",
        "['apple', 'neutral', '126358012343492608']"
       ]
      },
      {
       "output_type": "stream",
       "stream": "stdout",
       "text": [
        "\n",
        "--> downloading tweet #126358012343492608 (483 of 4784)\n",
        "['apple', 'neutral', '126357527196741632']"
       ]
      },
      {
       "output_type": "stream",
       "stream": "stdout",
       "text": [
        "\n",
        "--> downloading tweet #126357527196741632 (484 of 4784)\n",
        "['apple', 'neutral', '126353359962775552']"
       ]
      },
      {
       "output_type": "stream",
       "stream": "stdout",
       "text": [
        "\n",
        "--> downloading tweet #126353359962775552 (485 of 4784)\n",
        "['apple', 'neutral', '126351669029126144']"
       ]
      },
      {
       "output_type": "stream",
       "stream": "stdout",
       "text": [
        "\n",
        "--> downloading tweet #126351669029126144 (486 of 4784)\n",
        "['apple', 'neutral', '126348857071239168']"
       ]
      },
      {
       "output_type": "stream",
       "stream": "stdout",
       "text": [
        "\n",
        "--> downloading tweet #126348857071239168 (487 of 4784)\n",
        "['apple', 'neutral', '126347890196103168']"
       ]
      },
      {
       "output_type": "stream",
       "stream": "stdout",
       "text": [
        "\n",
        "--> downloading tweet #126347890196103168 (488 of 4784)\n",
        "['apple', 'neutral', '126346633721032705']"
       ]
      },
      {
       "output_type": "stream",
       "stream": "stdout",
       "text": [
        "\n",
        "--> downloading tweet #126346633721032705 (489 of 4784)\n",
        "['apple', 'neutral', '126346584068861952']"
       ]
      },
      {
       "output_type": "stream",
       "stream": "stdout",
       "text": [
        "\n",
        "--> downloading tweet #126346584068861952 (490 of 4784)\n",
        "['apple', 'neutral', '126343124174901248']"
       ]
      },
      {
       "output_type": "stream",
       "stream": "stdout",
       "text": [
        "\n",
        "--> downloading tweet #126343124174901248 (491 of 4784)\n",
        "Twitter sent status 403 for URL: 1.1/statuses/show.json using parameters: (id=126343124174901248&oauth_consumer_key=GcRkL0gdhohaKsn0FqQLWEp8y&oauth_nonce=1149080946449841989&oauth_signature_method=HMAC-SHA1&oauth_timestamp=1422170844&oauth_token=50568370-23CcdsyaeI2vK5QuGlRn1IlQHjD1Aubm2yfjTTAPz&oauth_version=1.0&oauth_signature=40Ef1VTkoNY%2Fl8TEvhKAiCrZwfU%3D)\n",
        "details: {\"errors\":[{\"code\":179,\"message\":\"Sorry, you are not authorized to see this status.\"}]}"
       ]
      },
      {
       "output_type": "stream",
       "stream": "stdout",
       "text": [
        "\n",
        "Not authorized to view this tweet.\n",
        "['apple', 'neutral', '126336867477094400']\n",
        "--> downloading tweet #126336867477094400 (492 of 4784)\n",
        "['apple', 'neutral', '126336687382081536']"
       ]
      },
      {
       "output_type": "stream",
       "stream": "stdout",
       "text": [
        "\n",
        "--> downloading tweet #126336687382081536 (493 of 4784)\n",
        "['apple', 'neutral', '126331354718801921']"
       ]
      },
      {
       "output_type": "stream",
       "stream": "stdout",
       "text": [
        "\n",
        "--> downloading tweet #126331354718801921 (494 of 4784)\n",
        "['apple', 'neutral', '126330974270271488']"
       ]
      },
      {
       "output_type": "stream",
       "stream": "stdout",
       "text": [
        "\n",
        "--> downloading tweet #126330974270271488 (495 of 4784)\n",
        "['apple', 'neutral', '126330155441467392']"
       ]
      },
      {
       "output_type": "stream",
       "stream": "stdout",
       "text": [
        "\n",
        "--> downloading tweet #126330155441467392 (496 of 4784)\n",
        "['apple', 'neutral', '126329109759524865']"
       ]
      },
      {
       "output_type": "stream",
       "stream": "stdout",
       "text": [
        "\n",
        "--> downloading tweet #126329109759524865 (497 of 4784)\n",
        "['apple', 'neutral', '126328424624160768']"
       ]
      },
      {
       "output_type": "stream",
       "stream": "stdout",
       "text": [
        "\n",
        "--> downloading tweet #126328424624160768 (498 of 4784)\n",
        "['apple', 'neutral', '126326886354784256']"
       ]
      },
      {
       "output_type": "stream",
       "stream": "stdout",
       "text": [
        "\n",
        "--> downloading tweet #126326886354784256 (499 of 4784)\n",
        "['apple', 'neutral', '126325069281624064']"
       ]
      },
      {
       "output_type": "stream",
       "stream": "stdout",
       "text": [
        "\n",
        "--> downloading tweet #126325069281624064 (500 of 4784)\n",
        "['apple', 'neutral', '126324621279641601']"
       ]
      },
      {
       "output_type": "stream",
       "stream": "stdout",
       "text": [
        "\n",
        "--> downloading tweet #126324621279641601 (501 of 4784)\n",
        "['apple', 'neutral', '126324256236765185']"
       ]
      },
      {
       "output_type": "stream",
       "stream": "stdout",
       "text": [
        "\n",
        "--> downloading tweet #126324256236765185 (502 of 4784)\n",
        "['apple', 'neutral', '126323574989520896']"
       ]
      },
      {
       "output_type": "stream",
       "stream": "stdout",
       "text": [
        "\n",
        "--> downloading tweet #126323574989520896 (503 of 4784)\n",
        "['apple', 'neutral', '126323533696614402']"
       ]
      },
      {
       "output_type": "stream",
       "stream": "stdout",
       "text": [
        "\n",
        "--> downloading tweet #126323533696614402 (504 of 4784)\n",
        "['apple', 'neutral', '126321197062426624']"
       ]
      },
      {
       "output_type": "stream",
       "stream": "stdout",
       "text": [
        "\n",
        "--> downloading tweet #126321197062426624 (505 of 4784)\n",
        "['apple', 'neutral', '126320247379730432']"
       ]
      },
      {
       "output_type": "stream",
       "stream": "stdout",
       "text": [
        "\n",
        "--> downloading tweet #126320247379730432 (506 of 4784)\n",
        "['apple', 'neutral', '126320076063379456']"
       ]
      },
      {
       "output_type": "stream",
       "stream": "stdout",
       "text": [
        "\n",
        "--> downloading tweet #126320076063379456 (507 of 4784)\n",
        "['apple', 'neutral', '126318553031917569']"
       ]
      },
      {
       "output_type": "stream",
       "stream": "stdout",
       "text": [
        "\n",
        "--> downloading tweet #126318553031917569 (508 of 4784)\n",
        "['apple', 'neutral', '126316594971422720']"
       ]
      },
      {
       "output_type": "stream",
       "stream": "stdout",
       "text": [
        "\n",
        "--> downloading tweet #126316594971422720 (509 of 4784)\n",
        "['apple', 'neutral', '126316179429134336']"
       ]
      },
      {
       "output_type": "stream",
       "stream": "stdout",
       "text": [
        "\n",
        "--> downloading tweet #126316179429134336 (510 of 4784)\n",
        "['apple', 'neutral', '126315088641658881']"
       ]
      },
      {
       "output_type": "stream",
       "stream": "stdout",
       "text": [
        "\n",
        "--> downloading tweet #126315088641658881 (511 of 4784)\n",
        "['apple', 'neutral', '126311681126187008']"
       ]
      },
      {
       "output_type": "stream",
       "stream": "stdout",
       "text": [
        "\n",
        "--> downloading tweet #126311681126187008 (512 of 4784)\n",
        "['apple', 'neutral', '126311223343058946']"
       ]
      },
      {
       "output_type": "stream",
       "stream": "stdout",
       "text": [
        "\n",
        "--> downloading tweet #126311223343058946 (513 of 4784)\n",
        "['apple', 'neutral', '126309939961536513']"
       ]
      },
      {
       "output_type": "stream",
       "stream": "stdout",
       "text": [
        "\n",
        "--> downloading tweet #126309939961536513 (514 of 4784)\n",
        "['apple', 'neutral', '126308556294205441']"
       ]
      },
      {
       "output_type": "stream",
       "stream": "stdout",
       "text": [
        "\n",
        "--> downloading tweet #126308556294205441 (515 of 4784)\n",
        "['apple', 'neutral', '126302918797312000']"
       ]
      },
      {
       "output_type": "stream",
       "stream": "stdout",
       "text": [
        "\n",
        "--> downloading tweet #126302918797312000 (516 of 4784)\n",
        "['apple', 'neutral', '126302719882444801']"
       ]
      },
      {
       "output_type": "stream",
       "stream": "stdout",
       "text": [
        "\n",
        "--> downloading tweet #126302719882444801 (517 of 4784)\n",
        "['apple', 'neutral', '126301989486342145']"
       ]
      },
      {
       "output_type": "stream",
       "stream": "stdout",
       "text": [
        "\n",
        "--> downloading tweet #126301989486342145 (518 of 4784)\n",
        "['apple', 'neutral', '126301301511426049']"
       ]
      },
      {
       "output_type": "stream",
       "stream": "stdout",
       "text": [
        "\n",
        "--> downloading tweet #126301301511426049 (519 of 4784)\n",
        "['apple', 'neutral', '126300596633481216']"
       ]
      },
      {
       "output_type": "stream",
       "stream": "stdout",
       "text": [
        "\n",
        "--> downloading tweet #126300596633481216 (520 of 4784)\n",
        "['apple', 'neutral', '126300304600866816']"
       ]
      },
      {
       "output_type": "stream",
       "stream": "stdout",
       "text": [
        "\n",
        "--> downloading tweet #126300304600866816 (521 of 4784)\n",
        "['apple', 'neutral', '126294550535872512']"
       ]
      },
      {
       "output_type": "stream",
       "stream": "stdout",
       "text": [
        "\n",
        "--> downloading tweet #126294550535872512 (522 of 4784)\n",
        "['apple', 'neutral', '126294304628019201']"
       ]
      },
      {
       "output_type": "stream",
       "stream": "stdout",
       "text": [
        "\n",
        "--> downloading tweet #126294304628019201 (523 of 4784)\n",
        "['apple', 'neutral', '126293879166205952']"
       ]
      },
      {
       "output_type": "stream",
       "stream": "stdout",
       "text": [
        "\n",
        "--> downloading tweet #126293879166205952 (524 of 4784)\n",
        "['apple', 'neutral', '126292279009882113']"
       ]
      },
      {
       "output_type": "stream",
       "stream": "stdout",
       "text": [
        "\n",
        "--> downloading tweet #126292279009882113 (525 of 4784)\n",
        "['apple', 'neutral', '126292109727768576']"
       ]
      },
      {
       "output_type": "stream",
       "stream": "stdout",
       "text": [
        "\n",
        "--> downloading tweet #126292109727768576 (526 of 4784)\n",
        "['apple', 'neutral', '126291860305100801']"
       ]
      },
      {
       "output_type": "stream",
       "stream": "stdout",
       "text": [
        "\n",
        "--> downloading tweet #126291860305100801 (527 of 4784)\n",
        "['apple', 'neutral', '126290154737504256']"
       ]
      },
      {
       "output_type": "stream",
       "stream": "stdout",
       "text": [
        "\n",
        "--> downloading tweet #126290154737504256 (528 of 4784)\n",
        "['apple', 'neutral', '126289716097196032']"
       ]
      },
      {
       "output_type": "stream",
       "stream": "stdout",
       "text": [
        "\n",
        "--> downloading tweet #126289716097196032 (529 of 4784)\n",
        "['apple', 'neutral', '126283761754185728']"
       ]
      },
      {
       "output_type": "stream",
       "stream": "stdout",
       "text": [
        "\n",
        "--> downloading tweet #126283761754185728 (530 of 4784)\n",
        "['apple', 'neutral', '126283639959990274']"
       ]
      },
      {
       "output_type": "stream",
       "stream": "stdout",
       "text": [
        "\n",
        "--> downloading tweet #126283639959990274 (531 of 4784)\n",
        "Twitter sent status 404 for URL: 1.1/statuses/show.json using parameters: (id=126283639959990274&oauth_consumer_key=GcRkL0gdhohaKsn0FqQLWEp8y&oauth_nonce=16553701346107208405&oauth_signature_method=HMAC-SHA1&oauth_timestamp=1422170903&oauth_token=50568370-23CcdsyaeI2vK5QuGlRn1IlQHjD1Aubm2yfjTTAPz&oauth_version=1.0&oauth_signature=5c%2FpfI7ogSkE15jj1iMoxAlTrV0%3D)\n",
        "details: {\"errors\":[{\"message\":\"Sorry, that page does not exist\",\"code\":34}]}"
       ]
      },
      {
       "output_type": "stream",
       "stream": "stdout",
       "text": [
        "\n",
        "('Tweet missing: ', ['apple', 'neutral', '126283639959990274'])\n",
        "['apple', 'neutral', '126283441657495552']\n",
        "--> downloading tweet #126283441657495552 (532 of 4784)\n",
        "['apple', 'neutral', '126283440457912320']"
       ]
      },
      {
       "output_type": "stream",
       "stream": "stdout",
       "text": [
        "\n",
        "--> downloading tweet #126283440457912320 (533 of 4784)\n",
        "['apple', 'neutral', '126283024278110208']"
       ]
      },
      {
       "output_type": "stream",
       "stream": "stdout",
       "text": [
        "\n",
        "--> downloading tweet #126283024278110208 (534 of 4784)\n",
        "['apple', 'neutral', '126281432644595713']"
       ]
      },
      {
       "output_type": "stream",
       "stream": "stdout",
       "text": [
        "\n",
        "--> downloading tweet #126281432644595713 (535 of 4784)\n",
        "['apple', 'neutral', '126280507729260544']"
       ]
      },
      {
       "output_type": "stream",
       "stream": "stdout",
       "text": [
        "\n",
        "--> downloading tweet #126280507729260544 (536 of 4784)\n",
        "['apple', 'neutral', '126279672433614848']"
       ]
      },
      {
       "output_type": "stream",
       "stream": "stdout",
       "text": [
        "\n",
        "--> downloading tweet #126279672433614848 (537 of 4784)\n",
        "['apple', 'neutral', '126277810431074304']"
       ]
      },
      {
       "output_type": "stream",
       "stream": "stdout",
       "text": [
        "\n",
        "--> downloading tweet #126277810431074304 (538 of 4784)\n",
        "['apple', 'neutral', '126272713332506624']"
       ]
      },
      {
       "output_type": "stream",
       "stream": "stdout",
       "text": [
        "\n",
        "--> downloading tweet #126272713332506624 (539 of 4784)\n",
        "['apple', 'neutral', '126267746739699713']"
       ]
      },
      {
       "output_type": "stream",
       "stream": "stdout",
       "text": [
        "\n",
        "--> downloading tweet #126267746739699713 (540 of 4784)\n",
        "Rate limiting requests us to wait 639.412934 seconds"
       ]
      },
      {
       "output_type": "stream",
       "stream": "stdout",
       "text": [
        "\n",
        "['apple', 'neutral', '126257394622808064']"
       ]
      },
      {
       "output_type": "stream",
       "stream": "stdout",
       "text": [
        "\n",
        "--> downloading tweet #126257394622808064 (541 of 4784)\n",
        "['apple', 'neutral', '126243528832593920']"
       ]
      },
      {
       "output_type": "stream",
       "stream": "stdout",
       "text": [
        "\n",
        "--> downloading tweet #126243528832593920 (542 of 4784)\n",
        "['apple', 'neutral', '126232037492404224']"
       ]
      },
      {
       "output_type": "stream",
       "stream": "stdout",
       "text": [
        "\n",
        "--> downloading tweet #126232037492404224 (543 of 4784)\n",
        "['apple', 'neutral', '126225922159427584']"
       ]
      },
      {
       "output_type": "stream",
       "stream": "stdout",
       "text": [
        "\n",
        "--> downloading tweet #126225922159427584 (544 of 4784)\n",
        "Twitter sent status 403 for URL: 1.1/statuses/show.json using parameters: (id=126225922159427584&oauth_consumer_key=GcRkL0gdhohaKsn0FqQLWEp8y&oauth_nonce=316754311493941898&oauth_signature_method=HMAC-SHA1&oauth_timestamp=1422171566&oauth_token=50568370-23CcdsyaeI2vK5QuGlRn1IlQHjD1Aubm2yfjTTAPz&oauth_version=1.0&oauth_signature=3To9X1NMM6kH44STxKLlrJu96h4%3D)\n",
        "details: {\"errors\":[{\"code\":179,\"message\":\"Sorry, you are not authorized to see this status.\"}]}"
       ]
      },
      {
       "output_type": "stream",
       "stream": "stdout",
       "text": [
        "\n",
        "Not authorized to view this tweet.\n",
        "['apple', 'neutral', '126219340214304768']\n",
        "--> downloading tweet #126219340214304768 (545 of 4784)\n",
        "Twitter sent status 403 for URL: 1.1/statuses/show.json using parameters: (id=126219340214304768&oauth_consumer_key=GcRkL0gdhohaKsn0FqQLWEp8y&oauth_nonce=11460777772436446020&oauth_signature_method=HMAC-SHA1&oauth_timestamp=1422171568&oauth_token=50568370-23CcdsyaeI2vK5QuGlRn1IlQHjD1Aubm2yfjTTAPz&oauth_version=1.0&oauth_signature=8Ng7KeYnpDYqFodVx36VJh3xrwM%3D)\n",
        "details: {\"errors\":[{\"code\":179,\"message\":\"Sorry, you are not authorized to see this status.\"}]}"
       ]
      },
      {
       "output_type": "stream",
       "stream": "stdout",
       "text": [
        "\n",
        "Not authorized to view this tweet.\n",
        "['apple', 'neutral', '126218596786511873']\n",
        "--> downloading tweet #126218596786511873 (546 of 4784)\n",
        "['apple', 'neutral', '126217194173501441']"
       ]
      },
      {
       "output_type": "stream",
       "stream": "stdout",
       "text": [
        "\n",
        "--> downloading tweet #126217194173501441 (547 of 4784)\n",
        "['apple', 'neutral', '126213965817708544']"
       ]
      },
      {
       "output_type": "stream",
       "stream": "stdout",
       "text": [
        "\n",
        "--> downloading tweet #126213965817708544 (548 of 4784)\n",
        "['apple', 'neutral', '126211975595311104']"
       ]
      },
      {
       "output_type": "stream",
       "stream": "stdout",
       "text": [
        "\n",
        "--> downloading tweet #126211975595311104 (549 of 4784)\n",
        "['apple', 'neutral', '126209902241787904']"
       ]
      },
      {
       "output_type": "stream",
       "stream": "stdout",
       "text": [
        "\n",
        "--> downloading tweet #126209902241787904 (550 of 4784)\n",
        "['apple', 'neutral', '126205800359280640']"
       ]
      },
      {
       "output_type": "stream",
       "stream": "stdout",
       "text": [
        "\n",
        "--> downloading tweet #126205800359280640 (551 of 4784)\n",
        "['apple', 'neutral', '126201991125929984']"
       ]
      },
      {
       "output_type": "stream",
       "stream": "stdout",
       "text": [
        "\n",
        "--> downloading tweet #126201991125929984 (552 of 4784)\n",
        "['apple', 'neutral', '126197405015220225']"
       ]
      },
      {
       "output_type": "stream",
       "stream": "stdout",
       "text": [
        "\n",
        "--> downloading tweet #126197405015220225 (553 of 4784)\n",
        "['apple', 'neutral', '126185114173583360']"
       ]
      },
      {
       "output_type": "stream",
       "stream": "stdout",
       "text": [
        "\n",
        "--> downloading tweet #126185114173583360 (554 of 4784)\n",
        "['apple', 'neutral', '126177221571395584']"
       ]
      },
      {
       "output_type": "stream",
       "stream": "stdout",
       "text": [
        "\n",
        "--> downloading tweet #126177221571395584 (555 of 4784)\n",
        "['apple', 'neutral', '126171911523794944']"
       ]
      },
      {
       "output_type": "stream",
       "stream": "stdout",
       "text": [
        "\n",
        "--> downloading tweet #126171911523794944 (556 of 4784)\n",
        "['apple', 'neutral', '126165547154018304']"
       ]
      },
      {
       "output_type": "stream",
       "stream": "stdout",
       "text": [
        "\n",
        "--> downloading tweet #126165547154018304 (557 of 4784)\n",
        "['apple', 'neutral', '126163403063570432']"
       ]
      },
      {
       "output_type": "stream",
       "stream": "stdout",
       "text": [
        "\n",
        "--> downloading tweet #126163403063570432 (558 of 4784)\n",
        "['apple', 'neutral', '126157019072835584']"
       ]
      },
      {
       "output_type": "stream",
       "stream": "stdout",
       "text": [
        "\n",
        "--> downloading tweet #126157019072835584 (559 of 4784)\n",
        "['apple', 'neutral', '126149567036137473']"
       ]
      },
      {
       "output_type": "stream",
       "stream": "stdout",
       "text": [
        "\n",
        "--> downloading tweet #126149567036137473 (560 of 4784)\n",
        "['apple', 'neutral', '126148184358653954']"
       ]
      },
      {
       "output_type": "stream",
       "stream": "stdout",
       "text": [
        "\n",
        "--> downloading tweet #126148184358653954 (561 of 4784)\n",
        "['apple', 'neutral', '126146495396319232']"
       ]
      },
      {
       "output_type": "stream",
       "stream": "stdout",
       "text": [
        "\n",
        "--> downloading tweet #126146495396319232 (562 of 4784)\n",
        "['apple', 'neutral', '126141631291326464']"
       ]
      },
      {
       "output_type": "stream",
       "stream": "stdout",
       "text": [
        "\n",
        "--> downloading tweet #126141631291326464 (563 of 4784)\n",
        "['apple', 'neutral', '126141628372090880']"
       ]
      },
      {
       "output_type": "stream",
       "stream": "stdout",
       "text": [
        "\n",
        "--> downloading tweet #126141628372090880 (564 of 4784)\n",
        "['apple', 'neutral', '126141580682854400']"
       ]
      },
      {
       "output_type": "stream",
       "stream": "stdout",
       "text": [
        "\n",
        "--> downloading tweet #126141580682854400 (565 of 4784)\n",
        "['apple', 'neutral', '126141157146238976']"
       ]
      },
      {
       "output_type": "stream",
       "stream": "stdout",
       "text": [
        "\n",
        "--> downloading tweet #126141157146238976 (566 of 4784)\n",
        "['apple', 'neutral', '126134865887363072']"
       ]
      },
      {
       "output_type": "stream",
       "stream": "stdout",
       "text": [
        "\n",
        "--> downloading tweet #126134865887363072 (567 of 4784)\n",
        "['apple', 'neutral', '126130171404230656']"
       ]
      },
      {
       "output_type": "stream",
       "stream": "stdout",
       "text": [
        "\n",
        "--> downloading tweet #126130171404230656 (568 of 4784)\n",
        "['apple', 'neutral', '126125830094061568']"
       ]
      },
      {
       "output_type": "stream",
       "stream": "stdout",
       "text": [
        "\n",
        "--> downloading tweet #126125830094061568 (569 of 4784)\n",
        "['apple', 'neutral', '126125182405447680']"
       ]
      },
      {
       "output_type": "stream",
       "stream": "stdout",
       "text": [
        "\n",
        "--> downloading tweet #126125182405447680 (570 of 4784)\n",
        "['apple', 'neutral', '126124917992341504']"
       ]
      },
      {
       "output_type": "stream",
       "stream": "stdout",
       "text": [
        "\n",
        "--> downloading tweet #126124917992341504 (571 of 4784)\n",
        "['apple', 'neutral', '126122372775415808']"
       ]
      },
      {
       "output_type": "stream",
       "stream": "stdout",
       "text": [
        "\n",
        "--> downloading tweet #126122372775415808 (572 of 4784)\n",
        "['apple', 'neutral', '126118389591711744']"
       ]
      },
      {
       "output_type": "stream",
       "stream": "stdout",
       "text": [
        "\n",
        "--> downloading tweet #126118389591711744 (573 of 4784)\n",
        "['apple', 'neutral', '126113944891949056']"
       ]
      },
      {
       "output_type": "stream",
       "stream": "stdout",
       "text": [
        "\n",
        "--> downloading tweet #126113944891949056 (574 of 4784)\n",
        "['apple', 'neutral', '126110863550717952']"
       ]
      },
      {
       "output_type": "stream",
       "stream": "stdout",
       "text": [
        "\n",
        "--> downloading tweet #126110863550717952 (575 of 4784)\n",
        "['apple', 'neutral', '126110374549405696']"
       ]
      },
      {
       "output_type": "stream",
       "stream": "stdout",
       "text": [
        "\n",
        "--> downloading tweet #126110374549405696 (576 of 4784)\n",
        "['apple', 'neutral', '126109969912311810']"
       ]
      },
      {
       "output_type": "stream",
       "stream": "stdout",
       "text": [
        "\n",
        "--> downloading tweet #126109969912311810 (577 of 4784)\n",
        "['apple', 'neutral', '126107127231152129']"
       ]
      },
      {
       "output_type": "stream",
       "stream": "stdout",
       "text": [
        "\n",
        "--> downloading tweet #126107127231152129 (578 of 4784)\n",
        "['apple', 'neutral', '126106914684796928']"
       ]
      },
      {
       "output_type": "stream",
       "stream": "stdout",
       "text": [
        "\n",
        "--> downloading tweet #126106914684796928 (579 of 4784)\n",
        "['apple', 'neutral', '126105236229193728']"
       ]
      },
      {
       "output_type": "stream",
       "stream": "stdout",
       "text": [
        "\n",
        "--> downloading tweet #126105236229193728 (580 of 4784)\n",
        "['apple', 'neutral', '126105175294357505']"
       ]
      },
      {
       "output_type": "stream",
       "stream": "stdout",
       "text": [
        "\n",
        "--> downloading tweet #126105175294357505 (581 of 4784)\n",
        "['apple', 'neutral', '126104490511319041']"
       ]
      },
      {
       "output_type": "stream",
       "stream": "stdout",
       "text": [
        "\n",
        "--> downloading tweet #126104490511319041 (582 of 4784)\n",
        "['apple', 'neutral', '126104322999197696']"
       ]
      },
      {
       "output_type": "stream",
       "stream": "stdout",
       "text": [
        "\n",
        "--> downloading tweet #126104322999197696 (583 of 4784)\n",
        "['apple', 'neutral', '126104244402126848']"
       ]
      },
      {
       "output_type": "stream",
       "stream": "stdout",
       "text": [
        "\n",
        "--> downloading tweet #126104244402126848 (584 of 4784)\n",
        "['apple', 'neutral', '126102037057388544']"
       ]
      },
      {
       "output_type": "stream",
       "stream": "stdout",
       "text": [
        "\n",
        "--> downloading tweet #126102037057388544 (585 of 4784)\n",
        "['apple', 'neutral', '126098699196698624']"
       ]
      },
      {
       "output_type": "stream",
       "stream": "stdout",
       "text": [
        "\n",
        "--> downloading tweet #126098699196698624 (586 of 4784)\n",
        "['apple', 'neutral', '126095965391298560']"
       ]
      },
      {
       "output_type": "stream",
       "stream": "stdout",
       "text": [
        "\n",
        "--> downloading tweet #126095965391298560 (587 of 4784)\n",
        "['apple', 'neutral', '126094392183357443']"
       ]
      },
      {
       "output_type": "stream",
       "stream": "stdout",
       "text": [
        "\n",
        "--> downloading tweet #126094392183357443 (588 of 4784)\n",
        "['apple', 'neutral', '126094029015355392']"
       ]
      },
      {
       "output_type": "stream",
       "stream": "stdout",
       "text": [
        "\n",
        "--> downloading tweet #126094029015355392 (589 of 4784)\n",
        "['apple', 'neutral', '126094027140513792']"
       ]
      },
      {
       "output_type": "stream",
       "stream": "stdout",
       "text": [
        "\n",
        "--> downloading tweet #126094027140513792 (590 of 4784)\n",
        "['apple', 'neutral', '126091878469869568']"
       ]
      },
      {
       "output_type": "stream",
       "stream": "stdout",
       "text": [
        "\n",
        "--> downloading tweet #126091878469869568 (591 of 4784)\n",
        "['apple', 'neutral', '126089815136538624']"
       ]
      },
      {
       "output_type": "stream",
       "stream": "stdout",
       "text": [
        "\n",
        "--> downloading tweet #126089815136538624 (592 of 4784)\n",
        "['apple', 'neutral', '126089347639427072']"
       ]
      },
      {
       "output_type": "stream",
       "stream": "stdout",
       "text": [
        "\n",
        "--> downloading tweet #126089347639427072 (593 of 4784)\n",
        "['apple', 'neutral', '126087892580827137']"
       ]
      },
      {
       "output_type": "stream",
       "stream": "stdout",
       "text": [
        "\n",
        "--> downloading tweet #126087892580827137 (594 of 4784)\n",
        "['apple', 'neutral', '126086553415057408']"
       ]
      },
      {
       "output_type": "stream",
       "stream": "stdout",
       "text": [
        "\n",
        "--> downloading tweet #126086553415057408 (595 of 4784)\n",
        "['apple', 'neutral', '126079649959772160']"
       ]
      },
      {
       "output_type": "stream",
       "stream": "stdout",
       "text": [
        "\n",
        "--> downloading tweet #126079649959772160 (596 of 4784)\n",
        "['apple', 'neutral', '126078565346312192']"
       ]
      },
      {
       "output_type": "stream",
       "stream": "stdout",
       "text": [
        "\n",
        "--> downloading tweet #126078565346312192 (597 of 4784)\n",
        "['apple', 'neutral', '126073142107045888']"
       ]
      },
      {
       "output_type": "stream",
       "stream": "stdout",
       "text": [
        "\n",
        "--> downloading tweet #126073142107045888 (598 of 4784)\n",
        "['apple', 'neutral', '126072051118260225']"
       ]
      },
      {
       "output_type": "stream",
       "stream": "stdout",
       "text": [
        "\n",
        "--> downloading tweet #126072051118260225 (599 of 4784)\n",
        "['apple', 'neutral', '126071173640499200']"
       ]
      },
      {
       "output_type": "stream",
       "stream": "stdout",
       "text": [
        "\n",
        "--> downloading tweet #126071173640499200 (600 of 4784)\n",
        "['apple', 'neutral', '126068964685135872']"
       ]
      },
      {
       "output_type": "stream",
       "stream": "stdout",
       "text": [
        "\n",
        "--> downloading tweet #126068964685135872 (601 of 4784)\n",
        "['apple', 'neutral', '126066994008162305']"
       ]
      },
      {
       "output_type": "stream",
       "stream": "stdout",
       "text": [
        "\n",
        "--> downloading tweet #126066994008162305 (602 of 4784)\n",
        "['apple', 'neutral', '126066452787773443']"
       ]
      },
      {
       "output_type": "stream",
       "stream": "stdout",
       "text": [
        "\n",
        "--> downloading tweet #126066452787773443 (603 of 4784)\n",
        "['apple', 'neutral', '126065983138955265']"
       ]
      },
      {
       "output_type": "stream",
       "stream": "stdout",
       "text": [
        "\n",
        "--> downloading tweet #126065983138955265 (604 of 4784)\n",
        "Twitter sent status 404 for URL: 1.1/statuses/show.json using parameters: (id=126065983138955265&oauth_consumer_key=GcRkL0gdhohaKsn0FqQLWEp8y&oauth_nonce=6288778989100295669&oauth_signature_method=HMAC-SHA1&oauth_timestamp=1422171653&oauth_token=50568370-23CcdsyaeI2vK5QuGlRn1IlQHjD1Aubm2yfjTTAPz&oauth_version=1.0&oauth_signature=6rNP3PizzLBDZOj7bfCCoQcUzpg%3D)\n",
        "details: {\"errors\":[{\"message\":\"Sorry, that page does not exist\",\"code\":34}]}"
       ]
      },
      {
       "output_type": "stream",
       "stream": "stdout",
       "text": [
        "\n",
        "('Tweet missing: ', ['apple', 'neutral', '126065983138955265'])\n",
        "['apple', 'neutral', '126065529684369408']\n",
        "--> downloading tweet #126065529684369408 (605 of 4784)\n",
        "['apple', 'neutral', '126061182720278528']"
       ]
      },
      {
       "output_type": "stream",
       "stream": "stdout",
       "text": [
        "\n",
        "--> downloading tweet #126061182720278528 (606 of 4784)\n",
        "['apple', 'neutral', '126057389333020672']"
       ]
      },
      {
       "output_type": "stream",
       "stream": "stdout",
       "text": [
        "\n",
        "--> downloading tweet #126057389333020672 (607 of 4784)\n",
        "['apple', 'neutral', '126056940060155904']"
       ]
      },
      {
       "output_type": "stream",
       "stream": "stdout",
       "text": [
        "\n",
        "--> downloading tweet #126056940060155904 (608 of 4784)\n",
        "['apple', 'neutral', '126055880394420224']"
       ]
      },
      {
       "output_type": "stream",
       "stream": "stdout",
       "text": [
        "\n",
        "--> downloading tweet #126055880394420224 (609 of 4784)\n",
        "['apple', 'neutral', '126054998080622593']"
       ]
      },
      {
       "output_type": "stream",
       "stream": "stdout",
       "text": [
        "\n",
        "--> downloading tweet #126054998080622593 (610 of 4784)\n",
        "['apple', 'neutral', '126054145617694720']"
       ]
      },
      {
       "output_type": "stream",
       "stream": "stdout",
       "text": [
        "\n",
        "--> downloading tweet #126054145617694720 (611 of 4784)\n",
        "['apple', 'neutral', '126052649475915776']"
       ]
      },
      {
       "output_type": "stream",
       "stream": "stdout",
       "text": [
        "\n",
        "--> downloading tweet #126052649475915776 (612 of 4784)\n",
        "['apple', 'neutral', '126051375422504961']"
       ]
      },
      {
       "output_type": "stream",
       "stream": "stdout",
       "text": [
        "\n",
        "--> downloading tweet #126051375422504961 (613 of 4784)\n",
        "['apple', 'neutral', '126049560878526464']"
       ]
      },
      {
       "output_type": "stream",
       "stream": "stdout",
       "text": [
        "\n",
        "--> downloading tweet #126049560878526464 (614 of 4784)\n",
        "['apple', 'neutral', '126044055644807169']"
       ]
      },
      {
       "output_type": "stream",
       "stream": "stdout",
       "text": [
        "\n",
        "--> downloading tweet #126044055644807169 (615 of 4784)\n",
        "['apple', 'neutral', '126042506717704192']"
       ]
      },
      {
       "output_type": "stream",
       "stream": "stdout",
       "text": [
        "\n",
        "--> downloading tweet #126042506717704192 (616 of 4784)\n",
        "['apple', 'neutral', '126041773356232704']"
       ]
      },
      {
       "output_type": "stream",
       "stream": "stdout",
       "text": [
        "\n",
        "--> downloading tweet #126041773356232704 (617 of 4784)\n",
        "['apple', 'neutral', '126041570876203009']"
       ]
      },
      {
       "output_type": "stream",
       "stream": "stdout",
       "text": [
        "\n",
        "--> downloading tweet #126041570876203009 (618 of 4784)\n",
        "['apple', 'neutral', '126040050441011200']"
       ]
      },
      {
       "output_type": "stream",
       "stream": "stdout",
       "text": [
        "\n",
        "--> downloading tweet #126040050441011200 (619 of 4784)\n",
        "['apple', 'neutral', '126039521853845504']"
       ]
      },
      {
       "output_type": "stream",
       "stream": "stdout",
       "text": [
        "\n",
        "--> downloading tweet #126039521853845504 (620 of 4784)\n",
        "['apple', 'neutral', '126031463647944704']"
       ]
      },
      {
       "output_type": "stream",
       "stream": "stdout",
       "text": [
        "\n",
        "--> downloading tweet #126031463647944704 (621 of 4784)\n",
        "['apple', 'neutral', '126030091892432896']"
       ]
      },
      {
       "output_type": "stream",
       "stream": "stdout",
       "text": [
        "\n",
        "--> downloading tweet #126030091892432896 (622 of 4784)\n",
        "['apple', 'neutral', '126022527578406912']"
       ]
      },
      {
       "output_type": "stream",
       "stream": "stdout",
       "text": [
        "\n",
        "--> downloading tweet #126022527578406912 (623 of 4784)\n",
        "['apple', 'neutral', '126019432194650113']"
       ]
      },
      {
       "output_type": "stream",
       "stream": "stdout",
       "text": [
        "\n",
        "--> downloading tweet #126019432194650113 (624 of 4784)\n",
        "['apple', 'neutral', '126018538531061760']"
       ]
      },
      {
       "output_type": "stream",
       "stream": "stdout",
       "text": [
        "\n",
        "--> downloading tweet #126018538531061760 (625 of 4784)\n",
        "['apple', 'neutral', '126017643747606528']"
       ]
      },
      {
       "output_type": "stream",
       "stream": "stdout",
       "text": [
        "\n",
        "--> downloading tweet #126017643747606528 (626 of 4784)\n",
        "['apple', 'neutral', '126016494701256704']"
       ]
      },
      {
       "output_type": "stream",
       "stream": "stdout",
       "text": [
        "\n",
        "--> downloading tweet #126016494701256704 (627 of 4784)\n",
        "['apple', 'neutral', '126016405085757440']"
       ]
      },
      {
       "output_type": "stream",
       "stream": "stdout",
       "text": [
        "\n",
        "--> downloading tweet #126016405085757440 (628 of 4784)\n",
        "['apple', 'neutral', '126014643826208768']"
       ]
      },
      {
       "output_type": "stream",
       "stream": "stdout",
       "text": [
        "\n",
        "--> downloading tweet #126014643826208768 (629 of 4784)\n",
        "['apple', 'neutral', '126014277814468608']"
       ]
      },
      {
       "output_type": "stream",
       "stream": "stdout",
       "text": [
        "\n",
        "--> downloading tweet #126014277814468608 (630 of 4784)\n",
        "Twitter sent status 404 for URL: 1.1/statuses/show.json using parameters: (id=126014277814468608&oauth_consumer_key=GcRkL0gdhohaKsn0FqQLWEp8y&oauth_nonce=5102990890359144928&oauth_signature_method=HMAC-SHA1&oauth_timestamp=1422171691&oauth_token=50568370-23CcdsyaeI2vK5QuGlRn1IlQHjD1Aubm2yfjTTAPz&oauth_version=1.0&oauth_signature=bpcxAuP4jXOAqsTBoZJ2oC6VPdo%3D)\n",
        "details: {\"errors\":[{\"message\":\"Sorry, that page does not exist\",\"code\":34}]}"
       ]
      },
      {
       "output_type": "stream",
       "stream": "stdout",
       "text": [
        "\n",
        "('Tweet missing: ', ['apple', 'neutral', '126014277814468608'])\n",
        "['apple', 'neutral', '126014214467895297']\n",
        "--> downloading tweet #126014214467895297 (631 of 4784)\n",
        "['apple', 'neutral', '126014102379302912']"
       ]
      },
      {
       "output_type": "stream",
       "stream": "stdout",
       "text": [
        "\n",
        "--> downloading tweet #126014102379302912 (632 of 4784)\n",
        "['apple', 'neutral', '126013626426466304']"
       ]
      },
      {
       "output_type": "stream",
       "stream": "stdout",
       "text": [
        "\n",
        "--> downloading tweet #126013626426466304 (633 of 4784)\n",
        "['apple', 'neutral', '126012833128390656']"
       ]
      },
      {
       "output_type": "stream",
       "stream": "stdout",
       "text": [
        "\n",
        "--> downloading tweet #126012833128390656 (634 of 4784)\n",
        "Twitter sent status 403 for URL: 1.1/statuses/show.json using parameters: (id=126012833128390656&oauth_consumer_key=GcRkL0gdhohaKsn0FqQLWEp8y&oauth_nonce=6607868872926661933&oauth_signature_method=HMAC-SHA1&oauth_timestamp=1422171697&oauth_token=50568370-23CcdsyaeI2vK5QuGlRn1IlQHjD1Aubm2yfjTTAPz&oauth_version=1.0&oauth_signature=rmRIhJUHXr2MXLah0ppxXvREcZM%3D)\n",
        "details: {\"errors\":[{\"code\":179,\"message\":\"Sorry, you are not authorized to see this status.\"}]}"
       ]
      },
      {
       "output_type": "stream",
       "stream": "stdout",
       "text": [
        "\n",
        "Not authorized to view this tweet.\n",
        "['apple', 'neutral', '126012515019784192']\n",
        "--> downloading tweet #126012515019784192 (635 of 4784)\n",
        "['apple', 'neutral', '126012034545496065']"
       ]
      },
      {
       "output_type": "stream",
       "stream": "stdout",
       "text": [
        "\n",
        "--> downloading tweet #126012034545496065 (636 of 4784)\n",
        "['apple', 'neutral', '126012004312956928']"
       ]
      },
      {
       "output_type": "stream",
       "stream": "stdout",
       "text": [
        "\n",
        "--> downloading tweet #126012004312956928 (637 of 4784)\n",
        "['apple', 'neutral', '126011120694726656']"
       ]
      },
      {
       "output_type": "stream",
       "stream": "stdout",
       "text": [
        "\n",
        "--> downloading tweet #126011120694726656 (638 of 4784)\n",
        "['apple', 'neutral', '126010471202566144']"
       ]
      },
      {
       "output_type": "stream",
       "stream": "stdout",
       "text": [
        "\n",
        "--> downloading tweet #126010471202566144 (639 of 4784)\n",
        "Twitter sent status 404 for URL: 1.1/statuses/show.json using parameters: (id=126010471202566144&oauth_consumer_key=GcRkL0gdhohaKsn0FqQLWEp8y&oauth_nonce=4014585573630463967&oauth_signature_method=HMAC-SHA1&oauth_timestamp=1422171704&oauth_token=50568370-23CcdsyaeI2vK5QuGlRn1IlQHjD1Aubm2yfjTTAPz&oauth_version=1.0&oauth_signature=kPm2D7K%2FXr21rnBLMzfG8h7uZjI%3D)\n",
        "details: {\"errors\":[{\"message\":\"Sorry, that page does not exist\",\"code\":34}]}"
       ]
      },
      {
       "output_type": "stream",
       "stream": "stdout",
       "text": [
        "\n",
        "('Tweet missing: ', ['apple', 'neutral', '126010471202566144'])\n",
        "['apple', 'neutral', '126009386022879232']\n",
        "--> downloading tweet #126009386022879232 (640 of 4784)\n",
        "Twitter sent status 403 for URL: 1.1/statuses/show.json using parameters: (id=126009386022879232&oauth_consumer_key=GcRkL0gdhohaKsn0FqQLWEp8y&oauth_nonce=15043824807246468574&oauth_signature_method=HMAC-SHA1&oauth_timestamp=1422171706&oauth_token=50568370-23CcdsyaeI2vK5QuGlRn1IlQHjD1Aubm2yfjTTAPz&oauth_version=1.0&oauth_signature=B4hy8lldzLNtf2TbV0M5brr4Hvc%3D)\n",
        "details: {\"errors\":[{\"code\":179,\"message\":\"Sorry, you are not authorized to see this status.\"}]}"
       ]
      },
      {
       "output_type": "stream",
       "stream": "stdout",
       "text": [
        "\n",
        "Not authorized to view this tweet.\n",
        "['apple', 'neutral', '126008776322064384']\n",
        "--> downloading tweet #126008776322064384 (641 of 4784)\n",
        "['apple', 'neutral', '126007705600135168']"
       ]
      },
      {
       "output_type": "stream",
       "stream": "stdout",
       "text": [
        "\n",
        "--> downloading tweet #126007705600135168 (642 of 4784)\n",
        "['apple', 'neutral', '126006572420833282']"
       ]
      },
      {
       "output_type": "stream",
       "stream": "stdout",
       "text": [
        "\n",
        "--> downloading tweet #126006572420833282 (643 of 4784)\n",
        "['apple', 'neutral', '126006349959135232']"
       ]
      },
      {
       "output_type": "stream",
       "stream": "stdout",
       "text": [
        "\n",
        "--> downloading tweet #126006349959135232 (644 of 4784)\n",
        "['apple', 'neutral', '126004552557273088']"
       ]
      },
      {
       "output_type": "stream",
       "stream": "stdout",
       "text": [
        "\n",
        "--> downloading tweet #126004552557273088 (645 of 4784)\n",
        "['apple', 'neutral', '126003746135224320']"
       ]
      },
      {
       "output_type": "stream",
       "stream": "stdout",
       "text": [
        "\n",
        "--> downloading tweet #126003746135224320 (646 of 4784)\n",
        "['apple', 'neutral', '126003567315255296']"
       ]
      },
      {
       "output_type": "stream",
       "stream": "stdout",
       "text": [
        "\n",
        "--> downloading tweet #126003567315255296 (647 of 4784)\n",
        "['apple', 'neutral', '126001989309054976']"
       ]
      },
      {
       "output_type": "stream",
       "stream": "stdout",
       "text": [
        "\n",
        "--> downloading tweet #126001989309054976 (648 of 4784)\n",
        "['apple', 'neutral', '126001758853009409']"
       ]
      },
      {
       "output_type": "stream",
       "stream": "stdout",
       "text": [
        "\n",
        "--> downloading tweet #126001758853009409 (649 of 4784)\n",
        "['apple', 'neutral', '126000843798491136']"
       ]
      },
      {
       "output_type": "stream",
       "stream": "stdout",
       "text": [
        "\n",
        "--> downloading tweet #126000843798491136 (650 of 4784)\n",
        "['apple', 'neutral', '125999022908510209']"
       ]
      },
      {
       "output_type": "stream",
       "stream": "stdout",
       "text": [
        "\n",
        "--> downloading tweet #125999022908510209 (651 of 4784)\n",
        "['apple', 'neutral', '125996330500890624']"
       ]
      },
      {
       "output_type": "stream",
       "stream": "stdout",
       "text": [
        "\n",
        "--> downloading tweet #125996330500890624 (652 of 4784)\n",
        "['apple', 'neutral', '125994518989385729']"
       ]
      },
      {
       "output_type": "stream",
       "stream": "stdout",
       "text": [
        "\n",
        "--> downloading tweet #125994518989385729 (653 of 4784)\n",
        "['apple', 'neutral', '125993702782025729']"
       ]
      },
      {
       "output_type": "stream",
       "stream": "stdout",
       "text": [
        "\n",
        "--> downloading tweet #125993702782025729 (654 of 4784)\n",
        "['apple', 'neutral', '125993105722839040']"
       ]
      },
      {
       "output_type": "stream",
       "stream": "stdout",
       "text": [
        "\n",
        "--> downloading tweet #125993105722839040 (655 of 4784)\n",
        "['apple', 'neutral', '125992838910586880']"
       ]
      },
      {
       "output_type": "stream",
       "stream": "stdout",
       "text": [
        "\n",
        "--> downloading tweet #125992838910586880 (656 of 4784)\n",
        "['apple', 'neutral', '125991449455104000']"
       ]
      },
      {
       "output_type": "stream",
       "stream": "stdout",
       "text": [
        "\n",
        "--> downloading tweet #125991449455104000 (657 of 4784)\n",
        "['apple', 'neutral', '125990236743405568']"
       ]
      },
      {
       "output_type": "stream",
       "stream": "stdout",
       "text": [
        "\n",
        "--> downloading tweet #125990236743405568 (658 of 4784)\n",
        "['apple', 'neutral', '125990217801940992']"
       ]
      },
      {
       "output_type": "stream",
       "stream": "stdout",
       "text": [
        "\n",
        "--> downloading tweet #125990217801940992 (659 of 4784)\n",
        "['apple', 'neutral', '125989605634879488']"
       ]
      },
      {
       "output_type": "stream",
       "stream": "stdout",
       "text": [
        "\n",
        "--> downloading tweet #125989605634879488 (660 of 4784)\n",
        "['apple', 'neutral', '125989196132388864']"
       ]
      },
      {
       "output_type": "stream",
       "stream": "stdout",
       "text": [
        "\n",
        "--> downloading tweet #125989196132388864 (661 of 4784)\n",
        "['apple', 'neutral', '125989009091592192']"
       ]
      },
      {
       "output_type": "stream",
       "stream": "stdout",
       "text": [
        "\n",
        "--> downloading tweet #125989009091592192 (662 of 4784)\n",
        "['apple', 'neutral', '125988775548559360']"
       ]
      },
      {
       "output_type": "stream",
       "stream": "stdout",
       "text": [
        "\n",
        "--> downloading tweet #125988775548559360 (663 of 4784)\n",
        "['apple', 'neutral', '125984350989860864']"
       ]
      },
      {
       "output_type": "stream",
       "stream": "stdout",
       "text": [
        "\n",
        "--> downloading tweet #125984350989860864 (664 of 4784)\n",
        "['apple', 'neutral', '125983179877253120']"
       ]
      },
      {
       "output_type": "stream",
       "stream": "stdout",
       "text": [
        "\n",
        "--> downloading tweet #125983179877253120 (665 of 4784)\n",
        "['apple', 'neutral', '125980918220464128']"
       ]
      },
      {
       "output_type": "stream",
       "stream": "stdout",
       "text": [
        "\n",
        "--> downloading tweet #125980918220464128 (666 of 4784)\n",
        "['apple', 'neutral', '125980676653723648']"
       ]
      },
      {
       "output_type": "stream",
       "stream": "stdout",
       "text": [
        "\n",
        "--> downloading tweet #125980676653723648 (667 of 4784)\n",
        "['apple', 'neutral', '125979228452818944']"
       ]
      },
      {
       "output_type": "stream",
       "stream": "stdout",
       "text": [
        "\n",
        "--> downloading tweet #125979228452818944 (668 of 4784)\n",
        "['apple', 'neutral', '125978290367381504']"
       ]
      },
      {
       "output_type": "stream",
       "stream": "stdout",
       "text": [
        "\n",
        "--> downloading tweet #125978290367381504 (669 of 4784)\n",
        "['apple', 'neutral', '125975779447291904']"
       ]
      },
      {
       "output_type": "stream",
       "stream": "stdout",
       "text": [
        "\n",
        "--> downloading tweet #125975779447291904 (670 of 4784)\n",
        "['apple', 'neutral', '125974955983769603']"
       ]
      },
      {
       "output_type": "stream",
       "stream": "stdout",
       "text": [
        "\n",
        "--> downloading tweet #125974955983769603 (671 of 4784)\n",
        "['apple', 'neutral', '125972882240188416']"
       ]
      },
      {
       "output_type": "stream",
       "stream": "stdout",
       "text": [
        "\n",
        "--> downloading tweet #125972882240188416 (672 of 4784)\n",
        "['apple', 'neutral', '125969677997453312']"
       ]
      },
      {
       "output_type": "stream",
       "stream": "stdout",
       "text": [
        "\n",
        "--> downloading tweet #125969677997453312 (673 of 4784)\n",
        "['apple', 'neutral', '125969128514260992']"
       ]
      },
      {
       "output_type": "stream",
       "stream": "stdout",
       "text": [
        "\n",
        "--> downloading tweet #125969128514260992 (674 of 4784)\n",
        "['apple', 'neutral', '125967560171720704']"
       ]
      },
      {
       "output_type": "stream",
       "stream": "stdout",
       "text": [
        "\n",
        "--> downloading tweet #125967560171720704 (675 of 4784)\n",
        "['apple', 'neutral', '125967126912712705']"
       ]
      },
      {
       "output_type": "stream",
       "stream": "stdout",
       "text": [
        "\n",
        "--> downloading tweet #125967126912712705 (676 of 4784)\n",
        "['apple', 'neutral', '125965569659895808']"
       ]
      },
      {
       "output_type": "stream",
       "stream": "stdout",
       "text": [
        "\n",
        "--> downloading tweet #125965569659895808 (677 of 4784)\n",
        "['apple', 'neutral', '125963773176582144']"
       ]
      },
      {
       "output_type": "stream",
       "stream": "stdout",
       "text": [
        "\n",
        "--> downloading tweet #125963773176582144 (678 of 4784)\n",
        "['apple', 'neutral', '125962667541270528']"
       ]
      },
      {
       "output_type": "stream",
       "stream": "stdout",
       "text": [
        "\n",
        "--> downloading tweet #125962667541270528 (679 of 4784)\n",
        "['apple', 'neutral', '125962608519036928']"
       ]
      },
      {
       "output_type": "stream",
       "stream": "stdout",
       "text": [
        "\n",
        "--> downloading tweet #125962608519036928 (680 of 4784)\n",
        "['apple', 'neutral', '125961033348153345']"
       ]
      },
      {
       "output_type": "stream",
       "stream": "stdout",
       "text": [
        "\n",
        "--> downloading tweet #125961033348153345 (681 of 4784)\n",
        "['apple', 'neutral', '125960438981734400']"
       ]
      },
      {
       "output_type": "stream",
       "stream": "stdout",
       "text": [
        "\n",
        "--> downloading tweet #125960438981734400 (682 of 4784)\n",
        "['apple', 'neutral', '125958525708021760']"
       ]
      },
      {
       "output_type": "stream",
       "stream": "stdout",
       "text": [
        "\n",
        "--> downloading tweet #125958525708021760 (683 of 4784)\n",
        "['apple', 'neutral', '125958117086347264']"
       ]
      },
      {
       "output_type": "stream",
       "stream": "stdout",
       "text": [
        "\n",
        "--> downloading tweet #125958117086347264 (684 of 4784)\n",
        "['apple', 'neutral', '125957965109932032']"
       ]
      },
      {
       "output_type": "stream",
       "stream": "stdout",
       "text": [
        "\n",
        "--> downloading tweet #125957965109932032 (685 of 4784)\n",
        "['apple', 'neutral', '125951303770845185']"
       ]
      },
      {
       "output_type": "stream",
       "stream": "stdout",
       "text": [
        "\n",
        "--> downloading tweet #125951303770845185 (686 of 4784)\n",
        "['apple', 'neutral', '125950941349421057']"
       ]
      },
      {
       "output_type": "stream",
       "stream": "stdout",
       "text": [
        "\n",
        "--> downloading tweet #125950941349421057 (687 of 4784)\n",
        "['apple', 'neutral', '125950505389273090']"
       ]
      },
      {
       "output_type": "stream",
       "stream": "stdout",
       "text": [
        "\n",
        "--> downloading tweet #125950505389273090 (688 of 4784)\n",
        "['apple', 'neutral', '125948450620702720']"
       ]
      },
      {
       "output_type": "stream",
       "stream": "stdout",
       "text": [
        "\n",
        "--> downloading tweet #125948450620702720 (689 of 4784)\n",
        "['apple', 'neutral', '125944856504827904']"
       ]
      },
      {
       "output_type": "stream",
       "stream": "stdout",
       "text": [
        "\n",
        "--> downloading tweet #125944856504827904 (690 of 4784)\n",
        "['apple', 'neutral', '125944293671182336']"
       ]
      },
      {
       "output_type": "stream",
       "stream": "stdout",
       "text": [
        "\n",
        "--> downloading tweet #125944293671182336 (691 of 4784)\n",
        "['apple', 'neutral', '125943115449253888']"
       ]
      },
      {
       "output_type": "stream",
       "stream": "stdout",
       "text": [
        "\n",
        "--> downloading tweet #125943115449253888 (692 of 4784)\n",
        "['apple', 'neutral', '125943078837161984']"
       ]
      },
      {
       "output_type": "stream",
       "stream": "stdout",
       "text": [
        "\n",
        "--> downloading tweet #125943078837161984 (693 of 4784)\n",
        "['apple', 'neutral', '125943020767019008']"
       ]
      },
      {
       "output_type": "stream",
       "stream": "stdout",
       "text": [
        "\n",
        "--> downloading tweet #125943020767019008 (694 of 4784)\n",
        "['apple', 'neutral', '125940398915977217']"
       ]
      },
      {
       "output_type": "stream",
       "stream": "stdout",
       "text": [
        "\n",
        "--> downloading tweet #125940398915977217 (695 of 4784)\n",
        "['apple', 'neutral', '125940300987371521']"
       ]
      },
      {
       "output_type": "stream",
       "stream": "stdout",
       "text": [
        "\n",
        "--> downloading tweet #125940300987371521 (696 of 4784)\n",
        "['apple', 'neutral', '125939862078619648']"
       ]
      },
      {
       "output_type": "stream",
       "stream": "stdout",
       "text": [
        "\n",
        "--> downloading tweet #125939862078619648 (697 of 4784)\n",
        "['apple', 'neutral', '125939833775460352']"
       ]
      },
      {
       "output_type": "stream",
       "stream": "stdout",
       "text": [
        "\n",
        "--> downloading tweet #125939833775460352 (698 of 4784)\n",
        "['apple', 'neutral', '125938918540574720']"
       ]
      },
      {
       "output_type": "stream",
       "stream": "stdout",
       "text": [
        "\n",
        "--> downloading tweet #125938918540574720 (699 of 4784)\n",
        "['apple', 'neutral', '125938325151432706']"
       ]
      },
      {
       "output_type": "stream",
       "stream": "stdout",
       "text": [
        "\n",
        "--> downloading tweet #125938325151432706 (700 of 4784)\n",
        "['apple', 'neutral', '125936985796919296']"
       ]
      },
      {
       "output_type": "stream",
       "stream": "stdout",
       "text": [
        "\n",
        "--> downloading tweet #125936985796919296 (701 of 4784)\n",
        "['apple', 'neutral', '125936323273048065']"
       ]
      },
      {
       "output_type": "stream",
       "stream": "stdout",
       "text": [
        "\n",
        "--> downloading tweet #125936323273048065 (702 of 4784)\n",
        "['apple', 'neutral', '125935636300570624']"
       ]
      },
      {
       "output_type": "stream",
       "stream": "stdout",
       "text": [
        "\n",
        "--> downloading tweet #125935636300570624 (703 of 4784)\n",
        "['apple', 'neutral', '125935627056324609']"
       ]
      },
      {
       "output_type": "stream",
       "stream": "stdout",
       "text": [
        "\n",
        "--> downloading tweet #125935627056324609 (704 of 4784)\n",
        "['apple', 'neutral', '125935503752171520']"
       ]
      },
      {
       "output_type": "stream",
       "stream": "stdout",
       "text": [
        "\n",
        "--> downloading tweet #125935503752171520 (705 of 4784)\n",
        "['apple', 'neutral', '125935314878476289']"
       ]
      },
      {
       "output_type": "stream",
       "stream": "stdout",
       "text": [
        "\n",
        "--> downloading tweet #125935314878476289 (706 of 4784)\n",
        "['apple', 'neutral', '125933630613766144']"
       ]
      },
      {
       "output_type": "stream",
       "stream": "stdout",
       "text": [
        "\n",
        "--> downloading tweet #125933630613766144 (707 of 4784)\n",
        "['apple', 'neutral', '125930342891790337']"
       ]
      },
      {
       "output_type": "stream",
       "stream": "stdout",
       "text": [
        "\n",
        "--> downloading tweet #125930342891790337 (708 of 4784)\n",
        "Twitter sent status 404 for URL: 1.1/statuses/show.json using parameters: (id=125930342891790337&oauth_consumer_key=GcRkL0gdhohaKsn0FqQLWEp8y&oauth_nonce=3630456550751073749&oauth_signature_method=HMAC-SHA1&oauth_timestamp=1422171807&oauth_token=50568370-23CcdsyaeI2vK5QuGlRn1IlQHjD1Aubm2yfjTTAPz&oauth_version=1.0&oauth_signature=wTL1ew4R6%2FTCy%2Bt9T4exzNKeCPc%3D)\n",
        "details: {\"errors\":[{\"message\":\"Sorry, that page does not exist\",\"code\":34}]}"
       ]
      },
      {
       "output_type": "stream",
       "stream": "stdout",
       "text": [
        "\n",
        "('Tweet missing: ', ['apple', 'neutral', '125930342891790337'])\n",
        "['apple', 'neutral', '125930143066759169']\n",
        "--> downloading tweet #125930143066759169 (709 of 4784)\n",
        "['apple', 'neutral', '125930002607906816']"
       ]
      },
      {
       "output_type": "stream",
       "stream": "stdout",
       "text": [
        "\n",
        "--> downloading tweet #125930002607906816 (710 of 4784)\n",
        "['apple', 'neutral', '125927540249473024']"
       ]
      },
      {
       "output_type": "stream",
       "stream": "stdout",
       "text": [
        "\n",
        "--> downloading tweet #125927540249473024 (711 of 4784)\n",
        "['apple', 'neutral', '125927536847880192']"
       ]
      },
      {
       "output_type": "stream",
       "stream": "stdout",
       "text": [
        "\n",
        "--> downloading tweet #125927536847880192 (712 of 4784)\n",
        "['apple', 'neutral', '125927533614084097']"
       ]
      },
      {
       "output_type": "stream",
       "stream": "stdout",
       "text": [
        "\n",
        "--> downloading tweet #125927533614084097 (713 of 4784)\n",
        "['apple', 'neutral', '125927530761953281']"
       ]
      },
      {
       "output_type": "stream",
       "stream": "stdout",
       "text": [
        "\n",
        "--> downloading tweet #125927530761953281 (714 of 4784)\n",
        "['apple', 'neutral', '125927399010467840']"
       ]
      },
      {
       "output_type": "stream",
       "stream": "stdout",
       "text": [
        "\n",
        "--> downloading tweet #125927399010467840 (715 of 4784)\n",
        "['apple', 'neutral', '125927174514540544']"
       ]
      },
      {
       "output_type": "stream",
       "stream": "stdout",
       "text": [
        "\n",
        "--> downloading tweet #125927174514540544 (716 of 4784)\n",
        "['apple', 'neutral', '125927032185044992']"
       ]
      },
      {
       "output_type": "stream",
       "stream": "stdout",
       "text": [
        "\n",
        "--> downloading tweet #125927032185044992 (717 of 4784)\n",
        "['apple', 'neutral', '125926624930693121']"
       ]
      },
      {
       "output_type": "stream",
       "stream": "stdout",
       "text": [
        "\n",
        "--> downloading tweet #125926624930693121 (718 of 4784)\n",
        "['apple', 'neutral', '125922989844856833']"
       ]
      },
      {
       "output_type": "stream",
       "stream": "stdout",
       "text": [
        "\n",
        "--> downloading tweet #125922989844856833 (719 of 4784)\n",
        "['apple', 'neutral', '125922500839342080']"
       ]
      },
      {
       "output_type": "stream",
       "stream": "stdout",
       "text": [
        "\n",
        "--> downloading tweet #125922500839342080 (720 of 4784)\n",
        "Twitter sent status 404 for URL: 1.1/statuses/show.json using parameters: (id=125922500839342080&oauth_consumer_key=GcRkL0gdhohaKsn0FqQLWEp8y&oauth_nonce=17971050497914776261&oauth_signature_method=HMAC-SHA1&oauth_timestamp=1422171824&oauth_token=50568370-23CcdsyaeI2vK5QuGlRn1IlQHjD1Aubm2yfjTTAPz&oauth_version=1.0&oauth_signature=lFbEU%2FhSBSIOcMx%2FaV%2FEkWsjErQ%3D)\n",
        "details: {\"errors\":[{\"message\":\"Sorry, that page does not exist\",\"code\":34}]}"
       ]
      },
      {
       "output_type": "stream",
       "stream": "stdout",
       "text": [
        "\n",
        "('Tweet missing: ', ['apple', 'neutral', '125922500839342080'])\n",
        "['apple', 'neutral', '125922174648324096']\n",
        "--> downloading tweet #125922174648324096 (721 of 4784)\n",
        "Twitter sent status 429 for URL: 1.1/statuses/show.json using parameters: (id=125922174648324096&oauth_consumer_key=GcRkL0gdhohaKsn0FqQLWEp8y&oauth_nonce=2479945985998707104&oauth_signature_method=HMAC-SHA1&oauth_timestamp=1422171826&oauth_token=50568370-23CcdsyaeI2vK5QuGlRn1IlQHjD1Aubm2yfjTTAPz&oauth_version=1.0&oauth_signature=cgedAlP%2FEWFC2ItVYmy8MZjIS44%3D)\n",
        "details: {\"errors\":[{\"message\":\"Rate limit exceeded\",\"code\":88}]}"
       ]
      },
      {
       "output_type": "stream",
       "stream": "stdout",
       "text": [
        "\n",
        "Rate limit exceeded.\n"
       ]
      },
      {
       "ename": "TwitterHTTPError",
       "evalue": "Twitter sent status 429 for URL: 1.1/statuses/show.json using parameters: (id=125922174648324096&oauth_consumer_key=GcRkL0gdhohaKsn0FqQLWEp8y&oauth_nonce=2479945985998707104&oauth_signature_method=HMAC-SHA1&oauth_timestamp=1422171826&oauth_token=50568370-23CcdsyaeI2vK5QuGlRn1IlQHjD1Aubm2yfjTTAPz&oauth_version=1.0&oauth_signature=cgedAlP%2FEWFC2ItVYmy8MZjIS44%3D)\ndetails: {\"errors\":[{\"message\":\"Rate limit exceeded\",\"code\":88}]}",
       "output_type": "pyerr",
       "traceback": [
        "\u001b[1;31m---------------------------------------------------------------------------\u001b[0m\n\u001b[1;31mTwitterHTTPError\u001b[0m                          Traceback (most recent call last)",
        "\u001b[1;32m<ipython-input-12-deea02f71866>\u001b[0m in \u001b[0;36m<module>\u001b[1;34m()\u001b[0m\n\u001b[0;32m    310\u001b[0m \u001b[1;33m\u001b[0m\u001b[0m\n\u001b[0;32m    311\u001b[0m \u001b[1;32mif\u001b[0m \u001b[0m__name__\u001b[0m \u001b[1;33m==\u001b[0m \u001b[1;34m'__main__'\u001b[0m\u001b[1;33m:\u001b[0m\u001b[1;33m\u001b[0m\u001b[0m\n\u001b[1;32m--> 312\u001b[1;33m     \u001b[0mmain\u001b[0m\u001b[1;33m(\u001b[0m\u001b[1;33m)\u001b[0m\u001b[1;33m\u001b[0m\u001b[0m\n\u001b[0m",
        "\u001b[1;32m<ipython-input-12-deea02f71866>\u001b[0m in \u001b[0;36mmain\u001b[1;34m()\u001b[0m\n\u001b[0;32m    293\u001b[0m     \u001b[1;32mif\u001b[0m \u001b[0mfetch_list\u001b[0m\u001b[1;33m:\u001b[0m\u001b[1;33m\u001b[0m\u001b[0m\n\u001b[0;32m    294\u001b[0m         \u001b[1;31m# start fetching data from twitter\u001b[0m\u001b[1;33m\u001b[0m\u001b[1;33m\u001b[0m\u001b[0m\n\u001b[1;32m--> 295\u001b[1;33m         \u001b[0mdownload_tweets\u001b[0m\u001b[1;33m(\u001b[0m\u001b[0mfetch_list\u001b[0m\u001b[1;33m,\u001b[0m \u001b[0muser_params\u001b[0m\u001b[1;33m[\u001b[0m\u001b[1;34m'rawDir'\u001b[0m\u001b[1;33m]\u001b[0m\u001b[1;33m)\u001b[0m\u001b[1;33m\u001b[0m\u001b[0m\n\u001b[0m\u001b[0;32m    296\u001b[0m \u001b[1;33m\u001b[0m\u001b[0m\n\u001b[0;32m    297\u001b[0m         \u001b[1;31m# second pass for any failed downloads\u001b[0m\u001b[1;33m\u001b[0m\u001b[1;33m\u001b[0m\u001b[0m\n",
        "\u001b[1;32m<ipython-input-12-deea02f71866>\u001b[0m in \u001b[0;36mdownload_tweets\u001b[1;34m(fetch_list, raw_dir)\u001b[0m\n\u001b[0;32m    161\u001b[0m         \u001b[1;32mtry\u001b[0m\u001b[1;33m:\u001b[0m\u001b[1;33m\u001b[0m\u001b[0m\n\u001b[0;32m    162\u001b[0m             \u001b[1;31m#import pdb;pdb.set_trace()\u001b[0m\u001b[1;33m\u001b[0m\u001b[1;33m\u001b[0m\u001b[0m\n\u001b[1;32m--> 163\u001b[1;33m             \u001b[0mresponse\u001b[0m \u001b[1;33m=\u001b[0m \u001b[0mapi\u001b[0m\u001b[1;33m.\u001b[0m\u001b[0mstatuses\u001b[0m\u001b[1;33m.\u001b[0m\u001b[0mshow\u001b[0m\u001b[1;33m(\u001b[0m\u001b[0m_id\u001b[0m\u001b[1;33m=\u001b[0m\u001b[0mitem\u001b[0m\u001b[1;33m[\u001b[0m\u001b[1;36m2\u001b[0m\u001b[1;33m]\u001b[0m\u001b[1;33m)\u001b[0m\u001b[1;33m\u001b[0m\u001b[0m\n\u001b[0m\u001b[0;32m    164\u001b[0m \u001b[1;33m\u001b[0m\u001b[0m\n\u001b[0;32m    165\u001b[0m             \u001b[1;32mif\u001b[0m \u001b[0mresponse\u001b[0m\u001b[1;33m.\u001b[0m\u001b[0mrate_limit_remaining\u001b[0m \u001b[1;33m<=\u001b[0m \u001b[1;36m0\u001b[0m\u001b[1;33m:\u001b[0m\u001b[1;33m\u001b[0m\u001b[0m\n",
        "\u001b[1;32m/usr/lib/python2.7/site-packages/twitter/api.pyc\u001b[0m in \u001b[0;36m__call__\u001b[1;34m(self, **kwargs)\u001b[0m\n\u001b[0;32m    264\u001b[0m \u001b[1;33m\u001b[0m\u001b[0m\n\u001b[0;32m    265\u001b[0m         \u001b[0mreq\u001b[0m \u001b[1;33m=\u001b[0m \u001b[0murllib_request\u001b[0m\u001b[1;33m.\u001b[0m\u001b[0mRequest\u001b[0m\u001b[1;33m(\u001b[0m\u001b[0muriBase\u001b[0m\u001b[1;33m,\u001b[0m \u001b[0mbody\u001b[0m\u001b[1;33m,\u001b[0m \u001b[0mheaders\u001b[0m\u001b[1;33m)\u001b[0m\u001b[1;33m\u001b[0m\u001b[0m\n\u001b[1;32m--> 266\u001b[1;33m         \u001b[1;32mreturn\u001b[0m \u001b[0mself\u001b[0m\u001b[1;33m.\u001b[0m\u001b[0m_handle_response\u001b[0m\u001b[1;33m(\u001b[0m\u001b[0mreq\u001b[0m\u001b[1;33m,\u001b[0m \u001b[0muri\u001b[0m\u001b[1;33m,\u001b[0m \u001b[0marg_data\u001b[0m\u001b[1;33m,\u001b[0m \u001b[0m_timeout\u001b[0m\u001b[1;33m)\u001b[0m\u001b[1;33m\u001b[0m\u001b[0m\n\u001b[0m\u001b[0;32m    267\u001b[0m \u001b[1;33m\u001b[0m\u001b[0m\n\u001b[0;32m    268\u001b[0m     \u001b[1;32mdef\u001b[0m \u001b[0m_handle_response\u001b[0m\u001b[1;33m(\u001b[0m\u001b[0mself\u001b[0m\u001b[1;33m,\u001b[0m \u001b[0mreq\u001b[0m\u001b[1;33m,\u001b[0m \u001b[0muri\u001b[0m\u001b[1;33m,\u001b[0m \u001b[0marg_data\u001b[0m\u001b[1;33m,\u001b[0m \u001b[0m_timeout\u001b[0m\u001b[1;33m=\u001b[0m\u001b[0mNone\u001b[0m\u001b[1;33m)\u001b[0m\u001b[1;33m:\u001b[0m\u001b[1;33m\u001b[0m\u001b[0m\n",
        "\u001b[1;32m/usr/lib/python2.7/site-packages/twitter/api.pyc\u001b[0m in \u001b[0;36m_handle_response\u001b[1;34m(self, req, uri, arg_data, _timeout)\u001b[0m\n\u001b[0;32m    297\u001b[0m                 \u001b[1;32mreturn\u001b[0m \u001b[1;33m[\u001b[0m\u001b[1;33m]\u001b[0m\u001b[1;33m\u001b[0m\u001b[0m\n\u001b[0;32m    298\u001b[0m             \u001b[1;32melse\u001b[0m\u001b[1;33m:\u001b[0m\u001b[1;33m\u001b[0m\u001b[0m\n\u001b[1;32m--> 299\u001b[1;33m                 \u001b[1;32mraise\u001b[0m \u001b[0mTwitterHTTPError\u001b[0m\u001b[1;33m(\u001b[0m\u001b[0me\u001b[0m\u001b[1;33m,\u001b[0m \u001b[0muri\u001b[0m\u001b[1;33m,\u001b[0m \u001b[0mself\u001b[0m\u001b[1;33m.\u001b[0m\u001b[0mformat\u001b[0m\u001b[1;33m,\u001b[0m \u001b[0marg_data\u001b[0m\u001b[1;33m)\u001b[0m\u001b[1;33m\u001b[0m\u001b[0m\n\u001b[0m\u001b[0;32m    300\u001b[0m \u001b[1;33m\u001b[0m\u001b[0m\n\u001b[0;32m    301\u001b[0m \u001b[1;33m\u001b[0m\u001b[0m\n",
        "\u001b[1;31mTwitterHTTPError\u001b[0m: Twitter sent status 429 for URL: 1.1/statuses/show.json using parameters: (id=125922174648324096&oauth_consumer_key=GcRkL0gdhohaKsn0FqQLWEp8y&oauth_nonce=2479945985998707104&oauth_signature_method=HMAC-SHA1&oauth_timestamp=1422171826&oauth_token=50568370-23CcdsyaeI2vK5QuGlRn1IlQHjD1Aubm2yfjTTAPz&oauth_version=1.0&oauth_signature=cgedAlP%2FEWFC2ItVYmy8MZjIS44%3D)\ndetails: {\"errors\":[{\"message\":\"Rate limit exceeded\",\"code\":88}]}"
       ]
      }
     ],
     "prompt_number": 12
    },
    {
     "cell_type": "code",
     "collapsed": false,
     "input": [
      "%load 01_start.py"
     ],
     "language": "python",
     "metadata": {},
     "outputs": [],
     "prompt_number": 2
    },
    {
     "cell_type": "code",
     "collapsed": false,
     "input": [
      "# This code is supporting material for the book\n",
      "# Building Machine Learning Systems with Python\n",
      "# by Willi Richert and Luis Pedro Coelho\n",
      "# published by PACKT Publishing\n",
      "#\n",
      "# It is made available under the MIT License\n",
      "\n",
      "#\n",
      "# This script trains multinomial Naive Bayes on the tweet corpus\n",
      "# to find two different results:\n",
      "# - How well can we distinguis positive from negative tweets?\n",
      "# - How well can we detect whether a tweet contains sentiment at all?\n",
      "#\n",
      "\n",
      "import time\n",
      "start_time = time.time()\n",
      "\n",
      "import numpy as np\n",
      "\n",
      "from sklearn.metrics import precision_recall_curve, roc_curve, auc\n",
      "from sklearn.cross_validation import ShuffleSplit\n",
      "\n",
      "from utils import plot_pr\n",
      "from utils import load_sanders_data\n",
      "from utils import tweak_labels\n",
      "\n",
      "from sklearn.feature_extraction.text import TfidfVectorizer\n",
      "from sklearn.pipeline import Pipeline\n",
      "\n",
      "from sklearn.naive_bayes import MultinomialNB\n",
      "\n",
      "\n",
      "def create_ngram_model():\n",
      "    tfidf_ngrams = TfidfVectorizer(ngram_range=(1, 3),\n",
      "                                   analyzer=\"word\", binary=False)\n",
      "    clf = MultinomialNB()\n",
      "    pipeline = Pipeline([('vect', tfidf_ngrams), ('clf', clf)])\n",
      "    return pipeline\n",
      "\n",
      "\n",
      "def train_model(clf_factory, X, Y, name=\"NB ngram\", plot=False):\n",
      "    cv = ShuffleSplit(\n",
      "        n=len(X), n_iter=10, test_size=0.3, random_state=0)\n",
      "\n",
      "    train_errors = []\n",
      "    test_errors = []\n",
      "\n",
      "    scores = []\n",
      "    pr_scores = []\n",
      "    precisions, recalls, thresholds = [], [], []\n",
      "\n",
      "    for train, test in cv:\n",
      "        X_train, y_train = X[train], Y[train]\n",
      "        X_test, y_test = X[test], Y[test]\n",
      "\n",
      "        clf = clf_factory()\n",
      "        clf.fit(X_train, y_train)\n",
      "\n",
      "        train_score = clf.score(X_train, y_train)\n",
      "        test_score = clf.score(X_test, y_test)\n",
      "\n",
      "        train_errors.append(1 - train_score)\n",
      "        test_errors.append(1 - test_score)\n",
      "\n",
      "        scores.append(test_score)\n",
      "        proba = clf.predict_proba(X_test)\n",
      "\n",
      "        fpr, tpr, roc_thresholds = roc_curve(y_test, proba[:, 1])\n",
      "        precision, recall, pr_thresholds = precision_recall_curve(\n",
      "            y_test, proba[:, 1])\n",
      "\n",
      "        pr_scores.append(auc(recall, precision))\n",
      "        precisions.append(precision)\n",
      "        recalls.append(recall)\n",
      "        thresholds.append(pr_thresholds)\n",
      "\n",
      "    scores_to_sort = pr_scores\n",
      "    median = np.argsort(scores_to_sort)[len(scores_to_sort) / 2]\n",
      "\n",
      "    if plot:\n",
      "        plot_pr(pr_scores[median], name, \"01\", precisions[median],\n",
      "                recalls[median], label=name)\n",
      "\n",
      "        summary = (np.mean(scores), np.std(scores),\n",
      "                   np.mean(pr_scores), np.std(pr_scores))\n",
      "        print(\"%.3f\\t%.3f\\t%.3f\\t%.3f\\t\" % summary)\n",
      "\n",
      "    return np.mean(train_errors), np.mean(test_errors)\n",
      "\n",
      "\n",
      "def print_incorrect(clf, X, Y):\n",
      "    Y_hat = clf.predict(X)\n",
      "    wrong_idx = Y_hat != Y\n",
      "    X_wrong = X[wrong_idx]\n",
      "    Y_wrong = Y[wrong_idx]\n",
      "    Y_hat_wrong = Y_hat[wrong_idx]\n",
      "    for idx in range(len(X_wrong)):\n",
      "        print(\"clf.predict('%s')=%i instead of %i\" %\n",
      "              (X_wrong[idx], Y_hat_wrong[idx], Y_wrong[idx]))\n",
      "\n",
      "\n",
      "if __name__ == \"__main__\":\n",
      "    X_orig, Y_orig = load_sanders_data()\n",
      "    classes = np.unique(Y_orig)\n",
      "    for c in classes:\n",
      "        print(\"#%s: %i\" % (c, sum(Y_orig == c)))\n",
      "\n",
      "    print(\"== Pos vs. neg ==\")\n",
      "    pos_neg = np.logical_or(Y_orig == \"positive\", Y_orig == \"negative\")\n",
      "    X = X_orig[pos_neg]\n",
      "    Y = Y_orig[pos_neg]\n",
      "    Y = tweak_labels(Y, [\"positive\"])\n",
      "\n",
      "    train_model(create_ngram_model, X, Y, name=\"pos vs neg\", plot=True)\n",
      "\n",
      "    print(\"== Pos/neg vs. irrelevant/neutral ==\")\n",
      "    X = X_orig\n",
      "    Y = tweak_labels(Y_orig, [\"positive\", \"negative\"])\n",
      "    train_model(create_ngram_model, X, Y, name=\"sent vs rest\", plot=True)\n",
      "\n",
      "    print(\"== Pos vs. rest ==\")\n",
      "    X = X_orig\n",
      "    Y = tweak_labels(Y_orig, [\"positive\"])\n",
      "    train_model(create_ngram_model, X, Y, name=\"pos vs rest\", plot=True)\n",
      "\n",
      "    print(\"== Neg vs. rest ==\")\n",
      "    X = X_orig\n",
      "    Y = tweak_labels(Y_orig, [\"negative\"])\n",
      "    train_model(create_ngram_model, X, Y, name=\"neg vs rest\", plot=True)\n",
      "\n",
      "    print(\"time spent:\", time.time() - start_time)\n"
     ],
     "language": "python",
     "metadata": {},
     "outputs": []
    },
    {
     "cell_type": "code",
     "collapsed": false,
     "input": [],
     "language": "python",
     "metadata": {},
     "outputs": []
    }
   ],
   "metadata": {}
  }
 ]
}