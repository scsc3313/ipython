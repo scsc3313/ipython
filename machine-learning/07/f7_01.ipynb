{
 "metadata": {
  "name": "",
  "signature": "sha256:a242ef04bd3ec462d616f16b9e4f83b6d783aefd1c257b24d651ac5fbc9d6974"
 },
 "nbformat": 3,
 "nbformat_minor": 0,
 "worksheets": [
  {
   "cells": [
    {
     "cell_type": "heading",
     "level": 1,
     "metadata": {},
     "source": [
      "Numpy"
     ]
    },
    {
     "cell_type": "markdown",
     "metadata": {},
     "source": [
      "- Numpy(Numerical Python\uc758 \uc904\uc784\ub9d0), \uacfc\ud559\uacc4\uc0b0\uc6a9 \ud30c\uc6b4\ub370\uc774\uc158 \ud328\ud0a4\uc9c0\n",
      "- \ube60\ub974\uace0 \ud6a8\uc728\uc801\uc778 \ub2e4\ucc28\uc6d0 \ubc30\uc5f4 \uac1d\uccb4 ndarray\n",
      "- \ubc30\uc5f4 \uc6d0\uc18c\ub97c \ub2e4\ub8e8\uac70\ub098 \ubc30\uc5f4 \uac04\uc758 \uc218\ud559 \uacc4\uc0b0\uc744 \uc218\ud589\ud558\ub294 \ud568\uc218\n",
      "- \ub514\uc2a4\ud06c\ub85c\ubd80\ud130 \ubc30\uc5f4 \uae30\ubc18\uc758 \ub370\uc774\ud130\ub97c \uc77d\uac70\ub098 \uc4f8 \uc218 \uc788\ub294 \ub3c4\uad6c\n",
      "- \uc120\ud615\ub300\uc218 \uacc4\uc0b0, \ud478\ub9ac\uc5d0 \ubcc0\ud658, \ub09c\uc218 \ubc1c\uc0dd\uae30\n",
      "- \ud30c\uc774\uc36c\uacfc C, C++ \uadf8\ub9ac\uace0 \ud3ec\ud2b8\ub780 \ucf54\ub4dc \ud1b5\ud569 \ub3c4\uad6c\n",
      "- \ub370\uc774\ud130\ubd84\uc11d\uc5d0\uc11c\ub294 \uc54c\uace0\ub9ac\uc998\uc5d0 \uc0ac\uc6a9\ud560 \ub370\uc774\ud130 \ucee8\ud14c\uc774\ub108\uc758 \uc5ed\ud560\n",
      "- NumPy \ubc30\uc5f4\uc740 \ud30c\uc774\uc36c \uae30\ubcf8 \uc790\ub8cc \uad6c\uc870\ubcf4\ub2e4 \ud6e8\uc52c \ud6a8\uc728\uc801\uc778 \ubc29\ubc95\uc73c\ub85c \ub370\uc774\ud130\ub97c \uc800\uc7a5\ud558\uace0 \ub2e4\ub8ec\ub2e4\n",
      "- <a href=\"http://nbviewer.ipython.org/github/re4lfl0w/ipython/blob/master/books/python_data_analysis/ch01_Preliminaries.ipynb\">http://nbviewer.ipython.org/github/re4lfl0w/ipython/blob/master/books/python_data_analysis/ch01_Preliminaries.ipynb</a>"
     ]
    },
    {
     "cell_type": "heading",
     "level": 1,
     "metadata": {},
     "source": [
      "sklearn (scikit-learn)"
     ]
    },
    {
     "cell_type": "markdown",
     "metadata": {},
     "source": [
      "- \uba38\uc2e0\ub7ec\ub2dd\uacfc \ub370\uc774\ud130\ub9c8\uc774\ub2dd\uc744 \uc704\ud55c \ud30c\uc774\uc36c \ubaa8\ub4c8\n",
      "- scikit-learn (formerly scikits.learn) is an open source machine learning library for the Python programming language.\n",
      "- It features various classification(\ubd84\ub958), regression(\ud68c\uadc0) and clustering(\uad70\uc9d1\ud654) algorithms including support vector machines, logistic regression(\ub85c\uc9c0\uc2a4\ud2f1 \ud68c\uadc0), naive Bayes, random forests, gradient(\uae30\uc6b8\uae30) boosting, k-means and DBSCAN, \n",
      "- and is designed to interoperate(\uc0c1\ud638\uc791\uc6a9\ud558\ub2e4) with the Python numerical and scientific libraries NumPy and SciPy\n",
      "- <a href=\"http://en.wikipedia.org/wiki/Scikit-learn\">http://en.wikipedia.org/wiki/Scikit-learn</a>"
     ]
    },
    {
     "cell_type": "code",
     "collapsed": false,
     "input": [
      "import numpy as np\n",
      "from sklearn.datasets import load_boston  # \ubcf4\uc2a4\ud134\uc758 \uc8fc\ud0dd\uac00\uaca9 \ub370\uc774\ud130\n",
      "boston = load_boston()\n",
      "\n",
      "print(boston)  #\ubcf4\uc2a4\ud134 \ub370\uc774\ud130 \ub0b4\uc6a9 "
     ],
     "language": "python",
     "metadata": {},
     "outputs": [
      {
       "output_type": "stream",
       "stream": "stdout",
       "text": [
        "{'data': array([[  6.32000000e-03,   1.80000000e+01,   2.31000000e+00, ...,\n",
        "          1.53000000e+01,   3.96900000e+02,   4.98000000e+00],\n",
        "       [  2.73100000e-02,   0.00000000e+00,   7.07000000e+00, ...,\n",
        "          1.78000000e+01,   3.96900000e+02,   9.14000000e+00],\n",
        "       [  2.72900000e-02,   0.00000000e+00,   7.07000000e+00, ...,\n",
        "          1.78000000e+01,   3.92830000e+02,   4.03000000e+00],\n",
        "       ..., \n",
        "       [  6.07600000e-02,   0.00000000e+00,   1.19300000e+01, ...,\n",
        "          2.10000000e+01,   3.96900000e+02,   5.64000000e+00],\n",
        "       [  1.09590000e-01,   0.00000000e+00,   1.19300000e+01, ...,\n",
        "          2.10000000e+01,   3.93450000e+02,   6.48000000e+00],\n",
        "       [  4.74100000e-02,   0.00000000e+00,   1.19300000e+01, ...,\n",
        "          2.10000000e+01,   3.96900000e+02,   7.88000000e+00]]), 'feature_names': array(['CRIM', 'ZN', 'INDUS', 'CHAS', 'NOX', 'RM', 'AGE', 'DIS', 'RAD',\n",
        "       'TAX', 'PTRATIO', 'B', 'LSTAT'], \n",
        "      dtype='|S7'), 'DESCR': \"Boston House Prices dataset\\n\\nNotes\\n------\\nData Set Characteristics:  \\n\\n    :Number of Instances: 506 \\n\\n    :Number of Attributes: 13 numeric/categorical predictive\\n    \\n    :Median Value (attribute 14) is usually the target\\n\\n    :Attribute Information (in order):\\n        - CRIM     per capita crime rate by town\\n        - ZN       proportion of residential land zoned for lots over 25,000 sq.ft.\\n        - INDUS    proportion of non-retail business acres per town\\n        - CHAS     Charles River dummy variable (= 1 if tract bounds river; 0 otherwise)\\n        - NOX      nitric oxides concentration (parts per 10 million)\\n        - RM       average number of rooms per dwelling\\n        - AGE      proportion of owner-occupied units built prior to 1940\\n        - DIS      weighted distances to five Boston employment centres\\n        - RAD      index of accessibility to radial highways\\n        - TAX      full-value property-tax rate per $10,000\\n        - PTRATIO  pupil-teacher ratio by town\\n        - B        1000(Bk - 0.63)^2 where Bk is the proportion of blacks by town\\n        - LSTAT    % lower status of the population\\n        - MEDV     Median value of owner-occupied homes in $1000's\\n\\n    :Missing Attribute Values: None\\n\\n    :Creator: Harrison, D. and Rubinfeld, D.L.\\n\\nThis is a copy of UCI ML housing dataset.\\nhttp://archive.ics.uci.edu/ml/datasets/Housing\\n\\n\\nThis dataset was taken from the StatLib library which is maintained at Carnegie Mellon University.\\n\\nThe Boston house-price data of Harrison, D. and Rubinfeld, D.L. 'Hedonic\\nprices and the demand for clean air', J. Environ. Economics & Management,\\nvol.5, 81-102, 1978.   Used in Belsley, Kuh & Welsch, 'Regression diagnostics\\n...', Wiley, 1980.   N.B. Various transformations are used in the table on\\npages 244-261 of the latter.\\n\\nThe Boston house-price data has been used in many machine learning papers that address regression\\nproblems.   \\n     \\n**References**\\n\\n   - Belsley, Kuh & Welsch, 'Regression diagnostics: Identifying Influential Data and Sources of Collinearity', Wiley, 1980. 244-261.\\n   - Quinlan,R. (1993). Combining Instance-Based and Model-Based Learning. In Proceedings on the Tenth International Conference of Machine Learning, 236-243, University of Massachusetts, Amherst. Morgan Kaufmann.\\n   - many more! (see http://archive.ics.uci.edu/ml/datasets/Housing)\\n\", 'target': array([ 24. ,  21.6,  34.7,  33.4,  36.2,  28.7,  22.9,  27.1,  16.5,\n",
        "        18.9,  15. ,  18.9,  21.7,  20.4,  18.2,  19.9,  23.1,  17.5,\n",
        "        20.2,  18.2,  13.6,  19.6,  15.2,  14.5,  15.6,  13.9,  16.6,\n",
        "        14.8,  18.4,  21. ,  12.7,  14.5,  13.2,  13.1,  13.5,  18.9,\n",
        "        20. ,  21. ,  24.7,  30.8,  34.9,  26.6,  25.3,  24.7,  21.2,\n",
        "        19.3,  20. ,  16.6,  14.4,  19.4,  19.7,  20.5,  25. ,  23.4,\n",
        "        18.9,  35.4,  24.7,  31.6,  23.3,  19.6,  18.7,  16. ,  22.2,\n",
        "        25. ,  33. ,  23.5,  19.4,  22. ,  17.4,  20.9,  24.2,  21.7,\n",
        "        22.8,  23.4,  24.1,  21.4,  20. ,  20.8,  21.2,  20.3,  28. ,\n",
        "        23.9,  24.8,  22.9,  23.9,  26.6,  22.5,  22.2,  23.6,  28.7,\n",
        "        22.6,  22. ,  22.9,  25. ,  20.6,  28.4,  21.4,  38.7,  43.8,\n",
        "        33.2,  27.5,  26.5,  18.6,  19.3,  20.1,  19.5,  19.5,  20.4,\n",
        "        19.8,  19.4,  21.7,  22.8,  18.8,  18.7,  18.5,  18.3,  21.2,\n",
        "        19.2,  20.4,  19.3,  22. ,  20.3,  20.5,  17.3,  18.8,  21.4,\n",
        "        15.7,  16.2,  18. ,  14.3,  19.2,  19.6,  23. ,  18.4,  15.6,\n",
        "        18.1,  17.4,  17.1,  13.3,  17.8,  14. ,  14.4,  13.4,  15.6,\n",
        "        11.8,  13.8,  15.6,  14.6,  17.8,  15.4,  21.5,  19.6,  15.3,\n",
        "        19.4,  17. ,  15.6,  13.1,  41.3,  24.3,  23.3,  27. ,  50. ,\n",
        "        50. ,  50. ,  22.7,  25. ,  50. ,  23.8,  23.8,  22.3,  17.4,\n",
        "        19.1,  23.1,  23.6,  22.6,  29.4,  23.2,  24.6,  29.9,  37.2,\n",
        "        39.8,  36.2,  37.9,  32.5,  26.4,  29.6,  50. ,  32. ,  29.8,\n",
        "        34.9,  37. ,  30.5,  36.4,  31.1,  29.1,  50. ,  33.3,  30.3,\n",
        "        34.6,  34.9,  32.9,  24.1,  42.3,  48.5,  50. ,  22.6,  24.4,\n",
        "        22.5,  24.4,  20. ,  21.7,  19.3,  22.4,  28.1,  23.7,  25. ,\n",
        "        23.3,  28.7,  21.5,  23. ,  26.7,  21.7,  27.5,  30.1,  44.8,\n",
        "        50. ,  37.6,  31.6,  46.7,  31.5,  24.3,  31.7,  41.7,  48.3,\n",
        "        29. ,  24. ,  25.1,  31.5,  23.7,  23.3,  22. ,  20.1,  22.2,\n",
        "        23.7,  17.6,  18.5,  24.3,  20.5,  24.5,  26.2,  24.4,  24.8,\n",
        "        29.6,  42.8,  21.9,  20.9,  44. ,  50. ,  36. ,  30.1,  33.8,\n",
        "        43.1,  48.8,  31. ,  36.5,  22.8,  30.7,  50. ,  43.5,  20.7,\n",
        "        21.1,  25.2,  24.4,  35.2,  32.4,  32. ,  33.2,  33.1,  29.1,\n",
        "        35.1,  45.4,  35.4,  46. ,  50. ,  32.2,  22. ,  20.1,  23.2,\n",
        "        22.3,  24.8,  28.5,  37.3,  27.9,  23.9,  21.7,  28.6,  27.1,\n",
        "        20.3,  22.5,  29. ,  24.8,  22. ,  26.4,  33.1,  36.1,  28.4,\n",
        "        33.4,  28.2,  22.8,  20.3,  16.1,  22.1,  19.4,  21.6,  23.8,\n",
        "        16.2,  17.8,  19.8,  23.1,  21. ,  23.8,  23.1,  20.4,  18.5,\n",
        "        25. ,  24.6,  23. ,  22.2,  19.3,  22.6,  19.8,  17.1,  19.4,\n",
        "        22.2,  20.7,  21.1,  19.5,  18.5,  20.6,  19. ,  18.7,  32.7,\n",
        "        16.5,  23.9,  31.2,  17.5,  17.2,  23.1,  24.5,  26.6,  22.9,\n",
        "        24.1,  18.6,  30.1,  18.2,  20.6,  17.8,  21.7,  22.7,  22.6,\n",
        "        25. ,  19.9,  20.8,  16.8,  21.9,  27.5,  21.9,  23.1,  50. ,\n",
        "        50. ,  50. ,  50. ,  50. ,  13.8,  13.8,  15. ,  13.9,  13.3,\n",
        "        13.1,  10.2,  10.4,  10.9,  11.3,  12.3,   8.8,   7.2,  10.5,\n",
        "         7.4,  10.2,  11.5,  15.1,  23.2,   9.7,  13.8,  12.7,  13.1,\n",
        "        12.5,   8.5,   5. ,   6.3,   5.6,   7.2,  12.1,   8.3,   8.5,\n",
        "         5. ,  11.9,  27.9,  17.2,  27.5,  15. ,  17.2,  17.9,  16.3,\n",
        "         7. ,   7.2,   7.5,  10.4,   8.8,   8.4,  16.7,  14.2,  20.8,\n",
        "        13.4,  11.7,   8.3,  10.2,  10.9,  11. ,   9.5,  14.5,  14.1,\n",
        "        16.1,  14.3,  11.7,  13.4,   9.6,   8.7,   8.4,  12.8,  10.5,\n",
        "        17.1,  18.4,  15.4,  10.8,  11.8,  14.9,  12.6,  14.1,  13. ,\n",
        "        13.4,  15.2,  16.1,  17.8,  14.9,  14.1,  12.7,  13.5,  14.9,\n",
        "        20. ,  16.4,  17.7,  19.5,  20.2,  21.4,  19.9,  19. ,  19.1,\n",
        "        19.1,  20.1,  19.9,  19.6,  23.2,  29.8,  13.8,  13.3,  16.7,\n",
        "        12. ,  14.6,  21.4,  23. ,  23.7,  25. ,  21.8,  20.6,  21.2,\n",
        "        19.1,  20.6,  15.2,   7. ,   8.1,  13.6,  20.1,  21.8,  24.5,\n",
        "        23.1,  19.7,  18.3,  21.2,  17.5,  16.8,  22.4,  20.6,  23.9,\n",
        "        22. ,  11.9])}\n"
       ]
      }
     ],
     "prompt_number": 4
    },
    {
     "cell_type": "code",
     "collapsed": false,
     "input": [
      "import numpy as np\n",
      "from sklearn.datasets import load_boston  # \ubcf4\uc2a4\ud134\uc758 \uc8fc\ud0dd\uac00\uaca9 \ub370\uc774\ud130\n",
      "boston = load_boston()\n",
      "\n",
      "print(boston.DESCR)  #\ubcf4\uc2a4\ud134 \ub370\uc774\ud130 \ub0b4\uc6a9 = DESCR (description : \uc124\uba85 )"
     ],
     "language": "python",
     "metadata": {},
     "outputs": [
      {
       "output_type": "stream",
       "stream": "stdout",
       "text": [
        "Boston House Prices dataset\n",
        "\n",
        "Notes\n",
        "------\n",
        "Data Set Characteristics:  \n",
        "\n",
        "    :Number of Instances: 506 \n",
        "\n",
        "    :Number of Attributes: 13 numeric/categorical predictive\n",
        "    \n",
        "    :Median Value (attribute 14) is usually the target\n",
        "\n",
        "    :Attribute Information (in order):\n",
        "        - CRIM     per capita crime rate by town\n",
        "        - ZN       proportion of residential land zoned for lots over 25,000 sq.ft.\n",
        "        - INDUS    proportion of non-retail business acres per town\n",
        "        - CHAS     Charles River dummy variable (= 1 if tract bounds river; 0 otherwise)\n",
        "        - NOX      nitric oxides concentration (parts per 10 million)\n",
        "        - RM       average number of rooms per dwelling\n",
        "        - AGE      proportion of owner-occupied units built prior to 1940\n",
        "        - DIS      weighted distances to five Boston employment centres\n",
        "        - RAD      index of accessibility to radial highways\n",
        "        - TAX      full-value property-tax rate per $10,000\n",
        "        - PTRATIO  pupil-teacher ratio by town\n",
        "        - B        1000(Bk - 0.63)^2 where Bk is the proportion of blacks by town\n",
        "        - LSTAT    % lower status of the population\n",
        "        - MEDV     Median value of owner-occupied homes in $1000's\n",
        "\n",
        "    :Missing Attribute Values: None\n",
        "\n",
        "    :Creator: Harrison, D. and Rubinfeld, D.L.\n",
        "\n",
        "This is a copy of UCI ML housing dataset.\n",
        "http://archive.ics.uci.edu/ml/datasets/Housing\n",
        "\n",
        "\n",
        "This dataset was taken from the StatLib library which is maintained at Carnegie Mellon University.\n",
        "\n",
        "The Boston house-price data of Harrison, D. and Rubinfeld, D.L. 'Hedonic\n",
        "prices and the demand for clean air', J. Environ. Economics & Management,\n",
        "vol.5, 81-102, 1978.   Used in Belsley, Kuh & Welsch, 'Regression diagnostics\n",
        "...', Wiley, 1980.   N.B. Various transformations are used in the table on\n",
        "pages 244-261 of the latter.\n",
        "\n",
        "The Boston house-price data has been used in many machine learning papers that address regression\n",
        "problems.   \n",
        "     \n",
        "**References**\n",
        "\n",
        "   - Belsley, Kuh & Welsch, 'Regression diagnostics: Identifying Influential Data and Sources of Collinearity', Wiley, 1980. 244-261.\n",
        "   - Quinlan,R. (1993). Combining Instance-Based and Model-Based Learning. In Proceedings on the Tenth International Conference of Machine Learning, 236-243, University of Massachusetts, Amherst. Morgan Kaufmann.\n",
        "   - many more! (see http://archive.ics.uci.edu/ml/datasets/Housing)\n",
        "\n"
       ]
      }
     ],
     "prompt_number": 6
    },
    {
     "cell_type": "code",
     "collapsed": false,
     "input": [
      "import numpy as np\n",
      "from sklearn.datasets import load_boston  # \ubcf4\uc2a4\ud134\uc758 \uc8fc\ud0dd\uac00\uaca9 \ub370\uc774\ud130\n",
      "boston = load_boston()\n",
      "\n",
      "print(boston.feature_names) # \ubcf4\uc2a4\ud134 \ub0b4\uc6a9 = feature_name (\ud2b9\uc131 \uc774\ub984)"
     ],
     "language": "python",
     "metadata": {},
     "outputs": [
      {
       "output_type": "stream",
       "stream": "stdout",
       "text": [
        "['CRIM' 'ZN' 'INDUS' 'CHAS' 'NOX' 'RM' 'AGE' 'DIS' 'RAD' 'TAX' 'PTRATIO'\n",
        " 'B' 'LSTAT']\n"
       ]
      }
     ],
     "prompt_number": 7
    },
    {
     "cell_type": "code",
     "collapsed": false,
     "input": [
      "import numpy as np\n",
      "from sklearn.datasets import load_boston  # \ubcf4\uc2a4\ud134\uc758 \uc8fc\ud0dd\uac00\uaca9 \ub370\uc774\ud130\n",
      "boston = load_boston()\n",
      "\n",
      "print(boston.data)  #\ubcf4\uc2a4\ud134 \ub370\uc774\ud130 \ub0b4\uc6a9 = data , \ud3c9\uade0 \ubc29 \uac2f\uc218 "
     ],
     "language": "python",
     "metadata": {},
     "outputs": [
      {
       "output_type": "stream",
       "stream": "stdout",
       "text": [
        "[[  6.32000000e-03   1.80000000e+01   2.31000000e+00 ...,   1.53000000e+01\n",
        "    3.96900000e+02   4.98000000e+00]\n",
        " [  2.73100000e-02   0.00000000e+00   7.07000000e+00 ...,   1.78000000e+01\n",
        "    3.96900000e+02   9.14000000e+00]\n",
        " [  2.72900000e-02   0.00000000e+00   7.07000000e+00 ...,   1.78000000e+01\n",
        "    3.92830000e+02   4.03000000e+00]\n",
        " ..., \n",
        " [  6.07600000e-02   0.00000000e+00   1.19300000e+01 ...,   2.10000000e+01\n",
        "    3.96900000e+02   5.64000000e+00]\n",
        " [  1.09590000e-01   0.00000000e+00   1.19300000e+01 ...,   2.10000000e+01\n",
        "    3.93450000e+02   6.48000000e+00]\n",
        " [  4.74100000e-02   0.00000000e+00   1.19300000e+01 ...,   2.10000000e+01\n",
        "    3.96900000e+02   7.88000000e+00]]\n"
       ]
      }
     ],
     "prompt_number": 2
    },
    {
     "cell_type": "code",
     "collapsed": false,
     "input": [
      "import numpy as np\n",
      "from sklearn.datasets import load_boston  # \ubcf4\uc2a4\ud134\uc758 \uc8fc\ud0dd\uac00\uaca9 \ub370\uc774\ud130\n",
      "boston = load_boston()\n",
      "\n",
      "print(boston.target)  #\ubcf4\uc2a4\ud134 \ub370\uc774\ud130 \ub0b4\uc6a9 = target (\ubcf4\uc2a4\ud134 \ud3c9\uade0\uc8fc\ud0dd\uac00\uaca9) "
     ],
     "language": "python",
     "metadata": {},
     "outputs": [
      {
       "output_type": "stream",
       "stream": "stdout",
       "text": [
        "[ 24.   21.6  34.7  33.4  36.2  28.7  22.9  27.1  16.5  18.9  15.   18.9\n",
        "  21.7  20.4  18.2  19.9  23.1  17.5  20.2  18.2  13.6  19.6  15.2  14.5\n",
        "  15.6  13.9  16.6  14.8  18.4  21.   12.7  14.5  13.2  13.1  13.5  18.9\n",
        "  20.   21.   24.7  30.8  34.9  26.6  25.3  24.7  21.2  19.3  20.   16.6\n",
        "  14.4  19.4  19.7  20.5  25.   23.4  18.9  35.4  24.7  31.6  23.3  19.6\n",
        "  18.7  16.   22.2  25.   33.   23.5  19.4  22.   17.4  20.9  24.2  21.7\n",
        "  22.8  23.4  24.1  21.4  20.   20.8  21.2  20.3  28.   23.9  24.8  22.9\n",
        "  23.9  26.6  22.5  22.2  23.6  28.7  22.6  22.   22.9  25.   20.6  28.4\n",
        "  21.4  38.7  43.8  33.2  27.5  26.5  18.6  19.3  20.1  19.5  19.5  20.4\n",
        "  19.8  19.4  21.7  22.8  18.8  18.7  18.5  18.3  21.2  19.2  20.4  19.3\n",
        "  22.   20.3  20.5  17.3  18.8  21.4  15.7  16.2  18.   14.3  19.2  19.6\n",
        "  23.   18.4  15.6  18.1  17.4  17.1  13.3  17.8  14.   14.4  13.4  15.6\n",
        "  11.8  13.8  15.6  14.6  17.8  15.4  21.5  19.6  15.3  19.4  17.   15.6\n",
        "  13.1  41.3  24.3  23.3  27.   50.   50.   50.   22.7  25.   50.   23.8\n",
        "  23.8  22.3  17.4  19.1  23.1  23.6  22.6  29.4  23.2  24.6  29.9  37.2\n",
        "  39.8  36.2  37.9  32.5  26.4  29.6  50.   32.   29.8  34.9  37.   30.5\n",
        "  36.4  31.1  29.1  50.   33.3  30.3  34.6  34.9  32.9  24.1  42.3  48.5\n",
        "  50.   22.6  24.4  22.5  24.4  20.   21.7  19.3  22.4  28.1  23.7  25.\n",
        "  23.3  28.7  21.5  23.   26.7  21.7  27.5  30.1  44.8  50.   37.6  31.6\n",
        "  46.7  31.5  24.3  31.7  41.7  48.3  29.   24.   25.1  31.5  23.7  23.3\n",
        "  22.   20.1  22.2  23.7  17.6  18.5  24.3  20.5  24.5  26.2  24.4  24.8\n",
        "  29.6  42.8  21.9  20.9  44.   50.   36.   30.1  33.8  43.1  48.8  31.\n",
        "  36.5  22.8  30.7  50.   43.5  20.7  21.1  25.2  24.4  35.2  32.4  32.\n",
        "  33.2  33.1  29.1  35.1  45.4  35.4  46.   50.   32.2  22.   20.1  23.2\n",
        "  22.3  24.8  28.5  37.3  27.9  23.9  21.7  28.6  27.1  20.3  22.5  29.\n",
        "  24.8  22.   26.4  33.1  36.1  28.4  33.4  28.2  22.8  20.3  16.1  22.1\n",
        "  19.4  21.6  23.8  16.2  17.8  19.8  23.1  21.   23.8  23.1  20.4  18.5\n",
        "  25.   24.6  23.   22.2  19.3  22.6  19.8  17.1  19.4  22.2  20.7  21.1\n",
        "  19.5  18.5  20.6  19.   18.7  32.7  16.5  23.9  31.2  17.5  17.2  23.1\n",
        "  24.5  26.6  22.9  24.1  18.6  30.1  18.2  20.6  17.8  21.7  22.7  22.6\n",
        "  25.   19.9  20.8  16.8  21.9  27.5  21.9  23.1  50.   50.   50.   50.\n",
        "  50.   13.8  13.8  15.   13.9  13.3  13.1  10.2  10.4  10.9  11.3  12.3\n",
        "   8.8   7.2  10.5   7.4  10.2  11.5  15.1  23.2   9.7  13.8  12.7  13.1\n",
        "  12.5   8.5   5.    6.3   5.6   7.2  12.1   8.3   8.5   5.   11.9  27.9\n",
        "  17.2  27.5  15.   17.2  17.9  16.3   7.    7.2   7.5  10.4   8.8   8.4\n",
        "  16.7  14.2  20.8  13.4  11.7   8.3  10.2  10.9  11.    9.5  14.5  14.1\n",
        "  16.1  14.3  11.7  13.4   9.6   8.7   8.4  12.8  10.5  17.1  18.4  15.4\n",
        "  10.8  11.8  14.9  12.6  14.1  13.   13.4  15.2  16.1  17.8  14.9  14.1\n",
        "  12.7  13.5  14.9  20.   16.4  17.7  19.5  20.2  21.4  19.9  19.   19.1\n",
        "  19.1  20.1  19.9  19.6  23.2  29.8  13.8  13.3  16.7  12.   14.6  21.4\n",
        "  23.   23.7  25.   21.8  20.6  21.2  19.1  20.6  15.2   7.    8.1  13.6\n",
        "  20.1  21.8  24.5  23.1  19.7  18.3  21.2  17.5  16.8  22.4  20.6  23.9\n",
        "  22.   11.9]\n"
       ]
      }
     ],
     "prompt_number": 3
    },
    {
     "cell_type": "heading",
     "level": 1,
     "metadata": {},
     "source": [
      "matplotlib"
     ]
    },
    {
     "cell_type": "markdown",
     "metadata": {},
     "source": [
      "- matplotlib\uc740 \ud50c\ub86f(\uadf8\ub798\ud504)\uc744 \uadf8\ub9b4 \ub54c \ub9ce\uc774 \uc4f0\uc774\ub294 \ud30c\uc774\uc36c \ub77c\uc774\ube0c\ub7ec\ub9ac\n",
      "- matplotlib \ud398\uc774\uc9c0 http://sourceforge.net/projects/matplotlib/"
     ]
    },
    {
     "cell_type": "heading",
     "level": 1,
     "metadata": {},
     "source": [
      "matplotlib.pyplot"
     ]
    },
    {
     "cell_type": "markdown",
     "metadata": {},
     "source": [
      "- Provides a MATLAB-like plotting framework\n",
      "- http://matplotlib.org/api/pyplot_api.html"
     ]
    },
    {
     "cell_type": "heading",
     "level": 1,
     "metadata": {},
     "source": [
      "matplotlib.pyplot.scatter()"
     ]
    },
    {
     "cell_type": "markdown",
     "metadata": {},
     "source": [
      "- matplotlib.pyplot.scatter(x, y, s=20, c=u'b', marker=u'o', cmap=None, norm=None, vmin=None, vmax=None, alpha=None, linewidths=None, verts=None, hold=None, **kwargs)\n",
      "- http://matplotlib.org/api/pyplot_api.html"
     ]
    },
    {
     "cell_type": "code",
     "collapsed": false,
     "input": [
      "import numpy as np\n",
      "from sklearn.datasets import load_boston  # \ubcf4\uc2a4\ud134\uc758 \uc8fc\ud0dd\uac00\uaca9 \ub370\uc774\ud130\n",
      "from matplotlib import pyplot as plt\n",
      "#import pylab as plt\n",
      "\n",
      "boston = load_boston()\n",
      "\n",
      "plt.scatter(boston.data[:,5], boston.target, color='r') #5\ubc88\uc9f8 \uc800\uc7a5\ub418\uc5b4 \uc788\ub294 \uc8fc\uac70\uc9c0\uc758 \ud3c9\uade0\uac12 \ubc29\uac2f\uc218, \ubc29\uac00\uaca9 \n",
      "plt.xlabel(\"RM\") # \ubc29\uc758 \uac2f\uc218 \n",
      "plt.ylabel(\"House Price\") # \uc8fc\ud0dd\uac00\uaca9\n",
      "plt.show()"
     ],
     "language": "python",
     "metadata": {},
     "outputs": [],
     "prompt_number": 28
    },
    {
     "cell_type": "markdown",
     "metadata": {},
     "source": [
      "<left><img src=\"img/figure_1.png\" width=\"500px\"></left>"
     ]
    },
    {
     "cell_type": "code",
     "collapsed": false,
     "input": [
      "import numpy as np\n",
      "from sklearn.datasets import load_boston  # \ubcf4\uc2a4\ud134\uc758 \uc8fc\ud0dd\uac00\uaca9 \ub370\uc774\ud130\n",
      "from matplotlib import pyplot as plt\n",
      "#import pylab as plt\n",
      "\n",
      "boston = load_boston()\n",
      "\n",
      "plt.scatter(boston.data[:,5], boston.target, color='r')\n",
      "plt.xlabel(\"RM\")\n",
      "plt.ylabel(\"House Price\")\n",
      "#plt.show()\n",
      "\n",
      "x = boston.data[:,5] # \uc8fc\uac70\uc9c0\uc758 \ud3c9\uade0 \ubc29 \uac2f\uc218 \n",
      "print(x)"
     ],
     "language": "python",
     "metadata": {},
     "outputs": [
      {
       "output_type": "stream",
       "stream": "stdout",
       "text": [
        "[ 6.575  6.421  7.185  6.998  7.147  6.43   6.012  6.172  5.631  6.004\n",
        "  6.377  6.009  5.889  5.949  6.096  5.834  5.935  5.99   5.456  5.727\n",
        "  5.57   5.965  6.142  5.813  5.924  5.599  5.813  6.047  6.495  6.674\n",
        "  5.713  6.072  5.95   5.701  6.096  5.933  5.841  5.85   5.966  6.595\n",
        "  7.024  6.77   6.169  6.211  6.069  5.682  5.786  6.03   5.399  5.602\n",
        "  5.963  6.115  6.511  5.998  5.888  7.249  6.383  6.816  6.145  5.927\n",
        "  5.741  5.966  6.456  6.762  7.104  6.29   5.787  5.878  5.594  5.885\n",
        "  6.417  5.961  6.065  6.245  6.273  6.286  6.279  6.14   6.232  5.874\n",
        "  6.727  6.619  6.302  6.167  6.389  6.63   6.015  6.121  7.007  7.079\n",
        "  6.417  6.405  6.442  6.211  6.249  6.625  6.163  8.069  7.82   7.416\n",
        "  6.727  6.781  6.405  6.137  6.167  5.851  5.836  6.127  6.474  6.229\n",
        "  6.195  6.715  5.913  6.092  6.254  5.928  6.176  6.021  5.872  5.731\n",
        "  5.87   6.004  5.961  5.856  5.879  5.986  5.613  5.693  6.431  5.637\n",
        "  6.458  6.326  6.372  5.822  5.757  6.335  5.942  6.454  5.857  6.151\n",
        "  6.174  5.019  5.403  5.468  4.903  6.13   5.628  4.926  5.186  5.597\n",
        "  6.122  5.404  5.012  5.709  6.129  6.152  5.272  6.943  6.066  6.51   6.25\n",
        "  7.489  7.802  8.375  5.854  6.101  7.929  5.877  6.319  6.402  5.875\n",
        "  5.88   5.572  6.416  5.859  6.546  6.02   6.315  6.86   6.98   7.765\n",
        "  6.144  7.155  6.563  5.604  6.153  7.831  6.782  6.556  7.185  6.951\n",
        "  6.739  7.178  6.8    6.604  7.875  7.287  7.107  7.274  6.975  7.135\n",
        "  6.162  7.61   7.853  8.034  5.891  6.326  5.783  6.064  5.344  5.96\n",
        "  5.404  5.807  6.375  5.412  6.182  5.888  6.642  5.951  6.373  6.951\n",
        "  6.164  6.879  6.618  8.266  8.725  8.04   7.163  7.686  6.552  5.981\n",
        "  7.412  8.337  8.247  6.726  6.086  6.631  7.358  6.481  6.606  6.897\n",
        "  6.095  6.358  6.393  5.593  5.605  6.108  6.226  6.433  6.718  6.487\n",
        "  6.438  6.957  8.259  6.108  5.876  7.454  8.704  7.333  6.842  7.203\n",
        "  7.52   8.398  7.327  7.206  5.56   7.014  8.297  7.47   5.92   5.856\n",
        "  6.24   6.538  7.691  6.758  6.854  7.267  6.826  6.482  6.812  7.82\n",
        "  6.968  7.645  7.923  7.088  6.453  6.23   6.209  6.315  6.565  6.861\n",
        "  7.148  6.63   6.127  6.009  6.678  6.549  5.79   6.345  7.041  6.871\n",
        "  6.59   6.495  6.982  7.236  6.616  7.42   6.849  6.635  5.972  4.973\n",
        "  6.122  6.023  6.266  6.567  5.705  5.914  5.782  6.382  6.113  6.426\n",
        "  6.376  6.041  5.708  6.415  6.431  6.312  6.083  5.868  6.333  6.144\n",
        "  5.706  6.031  6.316  6.31   6.037  5.869  5.895  6.059  5.985  5.968\n",
        "  7.241  6.54   6.696  6.874  6.014  5.898  6.516  6.635  6.939  6.49\n",
        "  6.579  5.884  6.728  5.663  5.936  6.212  6.395  6.127  6.112  6.398\n",
        "  6.251  5.362  5.803  8.78   3.561  4.963  3.863  4.97   6.683  7.016\n",
        "  6.216  5.875  4.906  4.138  7.313  6.649  6.794  6.38   6.223  6.968\n",
        "  6.545  5.536  5.52   4.368  5.277  4.652  5.     4.88   5.39   5.713\n",
        "  6.051  5.036  6.193  5.887  6.471  6.405  5.747  5.453  5.852  5.987\n",
        "  6.343  6.404  5.349  5.531  5.683  4.138  5.608  5.617  6.852  5.757\n",
        "  6.657  4.628  5.155  4.519  6.434  6.782  5.304  5.957  6.824  6.411\n",
        "  6.006  5.648  6.103  5.565  5.896  5.837  6.202  6.193  6.38   6.348\n",
        "  6.833  6.425  6.436  6.208  6.629  6.461  6.152  5.935  5.627  5.818\n",
        "  6.406  6.219  6.485  5.854  6.459  6.341  6.251  6.185  6.417  6.749\n",
        "  6.655  6.297  7.393  6.728  6.525  5.976  5.936  6.301  6.081  6.701\n",
        "  6.376  6.317  6.513  6.209  5.759  5.952  6.003  5.926  5.713  6.167\n",
        "  6.229  6.437  6.98   5.427  6.162  6.484  5.304  6.185  6.229  6.242\n",
        "  6.75   7.061  5.762  5.871  6.312  6.114  5.905  5.454  5.414  5.093\n",
        "  5.983  5.983  5.707  5.926  5.67   5.39   5.794  6.019  5.569  6.027\n",
        "  6.593  6.12   6.976  6.794  6.03 ]\n"
       ]
      }
     ],
     "prompt_number": 14
    },
    {
     "cell_type": "heading",
     "level": 1,
     "metadata": {},
     "source": [
      "numpy.np.array()"
     ]
    },
    {
     "cell_type": "markdown",
     "metadata": {},
     "source": [
      "- numpy\uc5d0\uc11c \ub2e4\ucc28\uc6d0\ubc30\uc5f4 \uc785\ub825\ud558\ub294 \ubc95\n",
      "- http://avredu.blog.me/140211736757\n",
      "- http://pyengine.blogspot.kr/2013/07/numpy-array.html?utm_source=feedburner&utm_medium=feed&utm_campaign=Feed:+Pythonengine+(PythonEngine)"
     ]
    },
    {
     "cell_type": "code",
     "collapsed": false,
     "input": [
      "import numpy as np\n",
      "from sklearn.datasets import load_boston  # \ubcf4\uc2a4\ud134\uc758 \uc8fc\ud0dd\uac00\uaca9 \ub370\uc774\ud130\n",
      "from matplotlib import pyplot as plt\n",
      "#import pylab as plt\n",
      "\n",
      "boston = load_boston()\n",
      "\n",
      "plt.scatter(boston.data[:,5], boston.target, color='r')\n",
      "plt.xlabel(\"RM\")\n",
      "plt.ylabel(\"House Price\")\n",
      "#plt.show()\n",
      "\n",
      "x = boston.data[:,5]\n",
      "x = np.array([[v] for v in x])  # x \ub97c 2\ucc28\uc6d0\uc73c\ub85c \ubcc0\ud658  \n",
      "print(x)"
     ],
     "language": "python",
     "metadata": {},
     "outputs": [
      {
       "output_type": "stream",
       "stream": "stdout",
       "text": [
        "[[ 6.575]\n",
        " [ 6.421]\n",
        " [ 7.185]\n",
        " [ 6.998]\n",
        " [ 7.147]\n",
        " [ 6.43 ]\n",
        " [ 6.012]\n",
        " [ 6.172]\n",
        " [ 5.631]\n",
        " [ 6.004]\n",
        " [ 6.377]\n",
        " [ 6.009]\n",
        " [ 5.889]\n",
        " [ 5.949]\n",
        " [ 6.096]\n",
        " [ 5.834]\n",
        " [ 5.935]\n",
        " [ 5.99 ]\n",
        " [ 5.456]\n",
        " [ 5.727]\n",
        " [ 5.57 ]\n",
        " [ 5.965]\n",
        " [ 6.142]\n",
        " [ 5.813]\n",
        " [ 5.924]\n",
        " [ 5.599]\n",
        " [ 5.813]\n",
        " [ 6.047]\n",
        " [ 6.495]\n",
        " [ 6.674]\n",
        " [ 5.713]\n",
        " [ 6.072]\n",
        " [ 5.95 ]\n",
        " [ 5.39 ]\n",
        " [ 5.794]\n",
        " [ 6.019]\n",
        " [ 5.569]\n",
        " [ 6.027]\n",
        " [ 6.593]\n",
        " [ 6.12 ]\n",
        " [ 6.976]\n",
        " [ 6.794]\n",
        " [ 6.03 ]]\n"
       ]
      }
     ],
     "prompt_number": 23
    },
    {
     "cell_type": "code",
     "collapsed": false,
     "input": [
      "import numpy as np\n",
      "from sklearn.datasets import load_boston  # \ubcf4\uc2a4\ud134\uc758 \uc8fc\ud0dd\uac00\uaca9 \ub370\uc774\ud130\n",
      "from matplotlib import pyplot as plt\n",
      "#import pylab as plt\n",
      "\n",
      "boston = load_boston()\n",
      "\n",
      "plt.scatter(boston.data[:,5], boston.target, color='r')\n",
      "plt.xlabel(\"RM\")\n",
      "plt.ylabel(\"House Price\")\n",
      "#plt.show()\n",
      "\n",
      "x = boston.data[:,5]\n",
      "x = np.array([[v] for v in x])  # \ubc29\uac2f\uc218 \n",
      "\n",
      "y = boston.target   # \ubc29\uac00\uaca9 \n",
      "print(y)"
     ],
     "language": "python",
     "metadata": {},
     "outputs": [
      {
       "output_type": "stream",
       "stream": "stdout",
       "text": [
        "[ 24.   21.6  34.7  33.4  36.2  28.7  22.9  27.1  16.5  18.9  15.   18.9\n",
        "  21.7  20.4  18.2  19.9  23.1  17.5  20.2  18.2  13.6  19.6  15.2  14.5\n",
        "  15.6  13.9  16.6  14.8  18.4  21.   12.7  14.5  13.2  13.1  13.5  18.9\n",
        "  20.   21.   24.7  30.8  34.9  26.6  25.3  24.7  21.2  19.3  20.   16.6\n",
        "  14.4  19.4  19.7  20.5  25.   23.4  18.9  35.4  24.7  31.6  23.3  19.6\n",
        "  18.7  16.   22.2  25.   33.   23.5  19.4  22.   17.4  20.9  24.2  21.7\n",
        "  22.8  23.4  24.1  21.4  20.   20.8  21.2  20.3  28.   23.9  24.8  22.9\n",
        "  23.9  26.6  22.5  22.2  23.6  28.7  22.6  22.   22.9  25.   20.6  28.4\n",
        "  21.4  38.7  43.8  33.2  27.5  26.5  18.6  19.3  20.1  19.5  19.5  20.4\n",
        "  19.8  19.4  21.7  22.8  18.8  18.7  18.5  18.3  21.2  19.2  20.4  19.3\n",
        "  22.   20.3  20.5  17.3  18.8  21.4  15.7  16.2  18.   14.3  19.2  19.6\n",
        "  23.   18.4  15.6  18.1  17.4  17.1  13.3  17.8  14.   14.4  13.4  15.6\n",
        "  11.8  13.8  15.6  14.6  17.8  15.4  21.5  19.6  15.3  19.4  17.   15.6\n",
        "  13.1  41.3  24.3  23.3  27.   50.   50.   50.   22.7  25.   50.   23.8\n",
        "  23.8  22.3  17.4  19.1  23.1  23.6  22.6  29.4  23.2  24.6  29.9  37.2\n",
        "  39.8  36.2  37.9  32.5  26.4  29.6  50.   32.   29.8  34.9  37.   30.5\n",
        "  36.4  31.1  29.1  50.   33.3  30.3  34.6  34.9  32.9  24.1  42.3  48.5\n",
        "  50.   22.6  24.4  22.5  24.4  20.   21.7  19.3  22.4  28.1  23.7  25.\n",
        "  23.3  28.7  21.5  23.   26.7  21.7  27.5  30.1  44.8  50.   37.6  31.6\n",
        "  46.7  31.5  24.3  31.7  41.7  48.3  29.   24.   25.1  31.5  23.7  23.3\n",
        "  22.   20.1  22.2  23.7  17.6  18.5  24.3  20.5  24.5  26.2  24.4  24.8\n",
        "  29.6  42.8  21.9  20.9  44.   50.   36.   30.1  33.8  43.1  48.8  31.\n",
        "  36.5  22.8  30.7  50.   43.5  20.7  21.1  25.2  24.4  35.2  32.4  32.\n",
        "  33.2  33.1  29.1  35.1  45.4  35.4  46.   50.   32.2  22.   20.1  23.2\n",
        "  22.3  24.8  28.5  37.3  27.9  23.9  21.7  28.6  27.1  20.3  22.5  29.\n",
        "  24.8  22.   26.4  33.1  36.1  28.4  33.4  28.2  22.8  20.3  16.1  22.1\n",
        "  19.4  21.6  23.8  16.2  17.8  19.8  23.1  21.   23.8  23.1  20.4  18.5\n",
        "  25.   24.6  23.   22.2  19.3  22.6  19.8  17.1  19.4  22.2  20.7  21.1\n",
        "  19.5  18.5  20.6  19.   18.7  32.7  16.5  23.9  31.2  17.5  17.2  23.1\n",
        "  24.5  26.6  22.9  24.1  18.6  30.1  18.2  20.6  17.8  21.7  22.7  22.6\n",
        "  25.   19.9  20.8  16.8  21.9  27.5  21.9  23.1  50.   50.   50.   50.\n",
        "  50.   13.8  13.8  15.   13.9  13.3  13.1  10.2  10.4  10.9  11.3  12.3\n",
        "   8.8   7.2  10.5   7.4  10.2  11.5  15.1  23.2   9.7  13.8  12.7  13.1\n",
        "  12.5   8.5   5.    6.3   5.6   7.2  12.1   8.3   8.5   5.   11.9  27.9\n",
        "  17.2  27.5  15.   17.2  17.9  16.3   7.    7.2   7.5  10.4   8.8   8.4\n",
        "  16.7  14.2  20.8  13.4  11.7   8.3  10.2  10.9  11.    9.5  14.5  14.1\n",
        "  16.1  14.3  11.7  13.4   9.6   8.7   8.4  12.8  10.5  17.1  18.4  15.4\n",
        "  10.8  11.8  14.9  12.6  14.1  13.   13.4  15.2  16.1  17.8  14.9  14.1\n",
        "  12.7  13.5  14.9  20.   16.4  17.7  19.5  20.2  21.4  19.9  19.   19.1\n",
        "  19.1  20.1  19.9  19.6  23.2  29.8  13.8  13.3  16.7  12.   14.6  21.4\n",
        "  23.   23.7  25.   21.8  20.6  21.2  19.1  20.6  15.2   7.    8.1  13.6\n",
        "  20.1  21.8  24.5  23.1  19.7  18.3  21.2  17.5  16.8  22.4  20.6  23.9\n",
        "  22.   11.9]\n"
       ]
      }
     ],
     "prompt_number": 17
    },
    {
     "cell_type": "heading",
     "level": 1,
     "metadata": {},
     "source": [
      "numpy.linalg   (\uc120\ud615\ub300\uc218)"
     ]
    },
    {
     "cell_type": "markdown",
     "metadata": {},
     "source": [
      "- http://docs.scipy.org/doc/numpy/reference/routines.linalg.html"
     ]
    },
    {
     "cell_type": "heading",
     "level": 1,
     "metadata": {},
     "source": [
      "numpy.linalg.lstsq()"
     ]
    },
    {
     "cell_type": "markdown",
     "metadata": {},
     "source": [
      "- \ud45c\uc900 \ucd5c\uc18c \uc81c\uacf1 (standard least squars) , \ucd1d \uc81c\uacf1 \uc624\ucc28 \ubc18\ud658\n",
      "- linalg.lstsq(a, b[, rcond])\t         Return the least-squares solution to a linear matrix equation.\n",
      "- http://docs.scipy.org/doc/numpy/reference/routines.linalg.html   [Solving equations(\ubc29\uc815\uc2dd) and inverting(\uac70\uafb8\ub85c\ud558\ub2e4) matrices]\n",
      "- http://docs.scipy.org/doc/numpy/reference/generated/numpy.linalg.lstsq.html#numpy.linalg.lstsq"
     ]
    },
    {
     "cell_type": "code",
     "collapsed": false,
     "input": [
      "import numpy as np\n",
      "from sklearn.datasets import load_boston  # \ubcf4\uc2a4\ud134\uc758 \uc8fc\ud0dd\uac00\uaca9 \ub370\uc774\ud130\n",
      "from matplotlib import pyplot as plt\n",
      "#import pylab as plt\n",
      "\n",
      "boston = load_boston()\n",
      "\n",
      "plt.scatter(boston.data[:,5], boston.target, color='r')\n",
      "plt.xlabel(\"RM\")\n",
      "plt.ylabel(\"House Price\")\n",
      "#plt.show()\n",
      "\n",
      "x = boston.data[:,5]\n",
      "x = np.array([[v] for v in x])\n",
      "\n",
      "y = boston.target\n",
      "\n",
      "slope,_,_,_ = np.linalg.lstsq(x,y) # \ud45c\uc900 \ucd5c\uc18c \uc81c\uacf1 \n",
      "print(slope)"
     ],
     "language": "python",
     "metadata": {},
     "outputs": [
      {
       "output_type": "stream",
       "stream": "stdout",
       "text": [
        "[ 3.6533504]\n"
       ]
      }
     ],
     "prompt_number": 22
    },
    {
     "cell_type": "code",
     "collapsed": false,
     "input": [
      "import numpy as np\n",
      "from sklearn.datasets import load_boston  # \ubcf4\uc2a4\ud134\uc758 \uc8fc\ud0dd\uac00\uaca9 \ub370\uc774\ud130\n",
      "from matplotlib import pyplot as plt\n",
      "#import pylab as plt\n",
      "\n",
      "boston = load_boston()\n",
      "\n",
      "plt.scatter(boston.data[:,5], boston.target, color='r')\n",
      "plt.xlabel(\"RM\")\n",
      "plt.ylabel(\"House Price\")\n",
      "#plt.show()\n",
      "\n",
      "x = boston.data[:,5]\n",
      "x = np.array([[v] for v in x])\n",
      "\n",
      "y = boston.target\n",
      "\n",
      "slope,total_error,_,_ = np.linalg.lstsq(x,y) # \ud45c\uc900 \ucd5c\uc18c \uc81c\uacf1 \n",
      "rmse = np.sqrt(total_error[0]/len(x)) # \ud3c9\uade0\uc624\ucc28 = \ucd1d \uc81c\uacf1 \uc624\ucc28 / x\uc758 \uac2f\uc218 \n",
      "\n",
      "print(rmse) # \ud3c9\uade0 \uc81c\uacf1\uadfc \uc624\ucc28 RMSE (root mean squared error)\n"
     ],
     "language": "python",
     "metadata": {},
     "outputs": [
      {
       "output_type": "stream",
       "stream": "stdout",
       "text": [
        "7.64268509309\n"
       ]
      }
     ],
     "prompt_number": 6
    },
    {
     "cell_type": "code",
     "collapsed": false,
     "input": [
      "#!/usr/bin/python\n",
      "# -*- coding: UTF-8 -*-\n",
      "import numpy as np\n",
      "from sklearn.datasets import load_boston  # \ubcf4\uc2a4\ud134\uc758 \uc8fc\ud0dd\uac00\uaca9 \ub370\uc774\ud130\n",
      "from matplotlib import pyplot as plt\n",
      "#import pylab as plt\n",
      "\n",
      "boston = load_boston()\n",
      "\n",
      "plt.scatter(boston.data[:,5], boston.target, color='r')\n",
      "plt.xlabel(\"RM\")\n",
      "plt.ylabel(\"House Price\")\n",
      "#plt.show()\n",
      "\n",
      "x = boston.data[:,5]\n",
      "x = np.array([[v] for v in x])\n",
      "\n",
      "y = boston.target\n",
      "\n",
      "slope,total_error,_,_ = np.linalg.lstsq(x,y) # \ud45c\uc900 \ucd5c\uc18c \uc81c\uacf1 \n",
      "rmse = np.sqrt(total_error[0]/len(x)) # \ud3c9\uade0\uc624\ucc28 = \ucd1d \uc81c\uacf1 \uc624\ucc28 / x\uc758 \uac2f\uc218 \n",
      "\n",
      "#print(rmse) # \ud3c9\uade0 \uc81c\uacf1\uadfc \uc624\ucc28 RMSE (root mean squared error)\n",
      "\n",
      "plt.plot([0,boston.data[:,5].max()+1],[0,slope*(boston.data[:,5].max()+1)], '-', lw=4)\n",
      "plt.show()"
     ],
     "language": "python",
     "metadata": {},
     "outputs": []
    },
    {
     "cell_type": "markdown",
     "metadata": {},
     "source": [
      "<center><img src=\"img/page185-1.png\" width=\"500px\"></center>"
     ]
    },
    {
     "cell_type": "markdown",
     "metadata": {},
     "source": [
      "- \ub370\uc774\ud130(\uc810)\uc640 \uc801\ud569\ud654(\uc120)\uc758 \ud45c\ud604\n",
      "- 1\ucc28\uc6d0 \ubaa8\ub378(\uc9c1\uc120\ubaa8\ub378)\uc740 \uc8fc\ud0dd\uac00\uaca9\uc740 \ubc29\uc758 \uac2f\uc218\uc5d0 \ube44\ub840"
     ]
    },
    {
     "cell_type": "code",
     "collapsed": false,
     "input": [
      "import numpy as np\n",
      "from sklearn.datasets import load_boston  # \ubcf4\uc2a4\ud134\uc758 \uc8fc\ud0dd\uac00\uaca9 \ub370\uc774\ud130\n",
      "from matplotlib import pyplot as plt\n",
      "#import pylab as plt\n",
      "\n",
      "boston = load_boston()\n",
      "\n",
      "plt.scatter(boston.data[:,5], boston.target, color='r')\n",
      "plt.xlabel(\"RM\")\n",
      "plt.ylabel(\"House Price\")\n",
      "#plt.show()\n",
      "\n",
      "x = boston.data[:,5]\n",
      "x = np.array([[v,1] for v in x]) # [v]\ub300\uc2e0\uc5d0 [v,1] \uc744 \uc0ac\uc6a9\ud55c\ub2e4\n",
      "\n",
      "print(x)\n"
     ],
     "language": "python",
     "metadata": {},
     "outputs": [
      {
       "output_type": "stream",
       "stream": "stdout",
       "text": [
        "[[ 6.575  1.   ]\n",
        " [ 6.421  1.   ]\n",
        " [ 7.185  1.   ]\n",
        " ..., \n",
        " [ 6.976  1.   ]\n",
        " [ 6.794  1.   ]\n",
        " [ 6.03   1.   ]]\n"
       ]
      }
     ],
     "prompt_number": 29
    },
    {
     "cell_type": "markdown",
     "metadata": {},
     "source": [
      "- \ubc29\uc758 \uac2f\uc218\uc758 \ubc30\uc218\uc778 \uac00\uaca9\uc5d0 \ud3b8\ud5a5(bias)\uc744 \ub354\ud558\uae30 \uc704\ud574 \uacf5\ud1b5\uc801\uc778 \ub2e8\uacc4\ub294 \ud3b8\ud5a5 \ud56d\uc744 \uc774\uc804 \ud45c\ud604\uc2dd\uc5d0 \ub354\ud55c\ub2e4 (\ud3b8\ud5a5: \uce68\uc2e4\uc774 \uc5c6\ub294 \uc544\ud30c\ud2b8\uc758 \uae30\ubcf8 \uac00\uaca9)\n",
      "- \uad6c\ud604 \ud3b8\ubc95\uc73c\ub85c x\uc758 \ubaa8\ub4e0 \uc6d0\uc18c\uc5d0 1\uc744 \ub354\ud55c\ub2e4 "
     ]
    },
    {
     "cell_type": "code",
     "collapsed": false,
     "input": [
      "# \ud3b8\ud56d\ucd94\uac00 page 186\n",
      "import numpy as np\n",
      "from sklearn.datasets import load_boston  # \ubcf4\uc2a4\ud134\uc758 \uc8fc\ud0dd\uac00\uaca9 \ub370\uc774\ud130\n",
      "from matplotlib import pyplot as plt\n",
      "#import pylab as plt\n",
      "\n",
      "boston = load_boston()\n",
      "\n",
      "plt.scatter(boston.data[:,5], boston.target, color='r')\n",
      "plt.xlabel(\"RM\")\n",
      "plt.ylabel(\"House Price\")\n",
      "#plt.show()\n",
      "\n",
      "x = boston.data[:,5]\n",
      "x = np.array([[v,1] for v in x]) # [v]\ub300\uc2e0\uc5d0 [v,1] \uc744 \uc0ac\uc6a9\ud55c\ub2e4\n",
      "\n",
      "y = boston.target\n",
      "\n",
      "(slope,bias),total_error,_,_ = np.linalg.lstsq(x,y)  # total_error \uac01\uc694\uc18c\uc758 \uc624\ucc28\ub97c \uad6c\ud558\uace0 \uc81c\uacf1\ud55c \ub4a4, \ucd1d \uc81c\uacf1 \uc624\ucc28 \ubc18\ud658 \n",
      "rmse = np.sqrt(total_error[0]/len(x)) # \ud3c9\uade0\uc624\ucc28 = \ucd1d \uc81c\uacf1 \uc624\ucc28 / x\uc758 \uac2f\uc218 \n",
      "\n",
      "print(rmse) # \ud3c9\uade0 \uc81c\uacf1\uadfc \uc624\ucc28 RMSE (root mean squared error) , \uc774\uc804 : 7.64268509309\n"
     ],
     "language": "python",
     "metadata": {},
     "outputs": [
      {
       "output_type": "stream",
       "stream": "stdout",
       "text": [
        "6.60307138922\n"
       ]
      }
     ],
     "prompt_number": 30
    },
    {
     "cell_type": "code",
     "collapsed": false,
     "input": [
      "#!/usr/bin/python\n",
      "# -*- coding: UTF-8 -*-\n",
      "# page 186\n",
      "import numpy as np\n",
      "from sklearn.datasets import load_boston  # \ubcf4\uc2a4\ud134\uc758 \uc8fc\ud0dd\uac00\uaca9 \ub370\uc774\ud130\n",
      "from matplotlib import pyplot as plt\n",
      "#import pylab as plt\n",
      "\n",
      "boston = load_boston()\n",
      "\n",
      "plt.scatter(boston.data[:,5], boston.target, color='r')\n",
      "plt.xlabel(\"RM\")\n",
      "plt.ylabel(\"House Price\")\n",
      "#plt.show()\n",
      "\n",
      "x = boston.data[:,5]\n",
      "xmin = x.min()\n",
      "xmax = x.max()\n",
      "x = np.array([[v,1] for v in x]) # [v]\ub300\uc2e0\uc5d0 [v,1] \uc744 \uc0ac\uc6a9\ud55c\ub2e4\n",
      "\n",
      "y = boston.target\n",
      "\n",
      "(slope,bias),total_error,_,_ = np.linalg.lstsq(x,y)\n",
      "\n",
      "plt.plot([xmin,xmax],[slope*xmin+bias,slope*xmax+bias], '-', lw=4)\n",
      "plt.show()\n",
      "\n",
      "rmse = np.sqrt(total_error[0]/len(x))\n",
      "print(rmse)\n"
     ],
     "language": "python",
     "metadata": {},
     "outputs": []
    },
    {
     "cell_type": "markdown",
     "metadata": {},
     "source": [
      "<center><img src=\"img/page186_1.png\" width=\"500px\"></center>"
     ]
    },
    {
     "cell_type": "heading",
     "level": 1,
     "metadata": {},
     "source": [
      "\ud3c9\uade0 \uc81c\uacf1\uadfc \uc624\ucc28\uc640 \uc608\uce21 (page 187)"
     ]
    },
    {
     "cell_type": "markdown",
     "metadata": {},
     "source": [
      "- \ud3c9\uade0 \uc81c\uacf1\uadfc \uc624\ucc28\ub294 \uadfc\uc0ac\uc801\uc73c\ub85c \ud45c\uc900 \ud3b8\ucc28\uc5d0 \ub300\uc751\ub41c\ub2e4\n",
      "- \ub300\ubd80\ubd84 \ub370\uc774\ud130\ub294 \ud3c9\uade0\uc73c\ub85c\ubd80\ud130 \ud45c\uc900 \ud3b8\ucc28\uac00 \uac70\uc758 2\uc774\ubbc0\ub85c, \uac1c\ub7b5\uc801\uc778 \uc2e0\ub8b0 \uad6c\uac04(confident interval)\uc744 \uc5bb\uae30 \uc704\ud574 RMSE(\ud3c9\uade0 \uc81c\uacf1\uadfc \uc624\ucc28)\ub97c 2\ubc30\ub85c \ud560 \uc218 \uc788\ub2e4 \n",
      "- \uc774\ub294 \uc624\ud30c\uac00 \uc815\uaddc \ubd84\ud3ec\ub77c\uba74 \uc644\ubcbd\ud788 \uc720\ud6a8\ud558\uc9c0\ub9cc, \uadf8\ub807\uc9c0 \uc54a\ub2e4\uace0 \ud574\ub3c4 \ub300\ub7b5\uc801\uc73c\ub85c \ub9de\ub294\ub2e4"
     ]
    },
    {
     "cell_type": "heading",
     "level": 1,
     "metadata": {},
     "source": [
      "\ub2e4\ucc28\uc6d0 \ud68c\uadc0 numpy.concetenate()"
     ]
    },
    {
     "cell_type": "markdown",
     "metadata": {},
     "source": [
      "- \uc774\uc804 \uc608\uce21\uc744 \uc704\ud574 \ubc29\uc758 \uac2f\uc218\ub77c\ub294 1\uac1c\uc758 \ubcc0\uc218\ub9cc \uc0ac\uc6a9( boston.data[:,5] )\n",
      "- \ubaa8\ub4e0 \ub370\uc774\ud130 \uc0ac\uc6a9 (boston.data)\n",
      "- http://docs.scipy.org/doc/numpy/reference/generated/numpy.concatenate.html"
     ]
    },
    {
     "cell_type": "code",
     "collapsed": false,
     "input": [
      "#\ub2e4\ucc28\uc6d0 \ud68c\uadc0 page 187\n",
      "import numpy as np\n",
      "from sklearn.datasets import load_boston  # \ubcf4\uc2a4\ud134\uc758 \uc8fc\ud0dd\uac00\uaca9 \ub370\uc774\ud130\n",
      "from matplotlib import pyplot as plt\n",
      "#import pylab as plt\n",
      "\n",
      "boston = load_boston()\n",
      "\n",
      "plt.scatter(boston.data[:,5], boston.target, color='r')\n",
      "plt.xlabel(\"RM\")\n",
      "plt.ylabel(\"House Price\")\n",
      "\n",
      "#x = boston.data # \ubaa8\ub4e0 \ub370\uc774\ud130\n",
      "x = np.array([np.concatenate((v,[1])) for v in boston.data])  # ((v,[1])) \uad04\ud638 2\uac1c \n",
      "\n",
      "print(x)"
     ],
     "language": "python",
     "metadata": {},
     "outputs": [
      {
       "output_type": "stream",
       "stream": "stdout",
       "text": [
        "[[  6.32000000e-03   1.80000000e+01   2.31000000e+00 ...,   3.96900000e+02\n",
        "    4.98000000e+00   1.00000000e+00]\n",
        " [  2.73100000e-02   0.00000000e+00   7.07000000e+00 ...,   3.96900000e+02\n",
        "    9.14000000e+00   1.00000000e+00]\n",
        " [  2.72900000e-02   0.00000000e+00   7.07000000e+00 ...,   3.92830000e+02\n",
        "    4.03000000e+00   1.00000000e+00]\n",
        " ..., \n",
        " [  6.07600000e-02   0.00000000e+00   1.19300000e+01 ...,   3.96900000e+02\n",
        "    5.64000000e+00   1.00000000e+00]\n",
        " [  1.09590000e-01   0.00000000e+00   1.19300000e+01 ...,   3.93450000e+02\n",
        "    6.48000000e+00   1.00000000e+00]\n",
        " [  4.74100000e-02   0.00000000e+00   1.19300000e+01 ...,   3.96900000e+02\n",
        "    7.88000000e+00   1.00000000e+00]]\n"
       ]
      }
     ],
     "prompt_number": 6
    },
    {
     "cell_type": "code",
     "collapsed": false,
     "input": [
      "import numpy as np\n",
      "from sklearn.datasets import load_boston  # \ubcf4\uc2a4\ud134\uc758 \uc8fc\ud0dd\uac00\uaca9 \ub370\uc774\ud130\n",
      "from matplotlib import pyplot as plt\n",
      "#import pylab as plt\n",
      "\n",
      "boston = load_boston()\n",
      "\n",
      "plt.scatter(boston.data[:,5], boston.target, color='r')\n",
      "plt.xlabel(\"RM\")\n",
      "plt.ylabel(\"House Price\")\n",
      "\n",
      "#x = boston.data # \ubaa8\ub4e0 \ub370\uc774\ud130\n",
      "x = np.array([np.concatenate((v,[1])) for v in boston.data])  # ((v,[1])) \uad04\ud638 2\uac1c \n",
      "y = boston.target\n",
      "s,total_error,_,_ = np.linalg.lstsq(x,y)\n",
      "rmse = np.sqrt(total_error[0]/len(x)) # \ud3c9\uade0\uc624\ucc28 = \ucd1d \uc81c\uacf1 \uc624\ucc28 / x\uc758 \uac2f\uc218 \n",
      "\n",
      "print(rmse)  # \ucc98\uc74c 7.64268509309 , \ub2e4\uc74c(bias) 6.60307138922 "
     ],
     "language": "python",
     "metadata": {},
     "outputs": [
      {
       "output_type": "stream",
       "stream": "stdout",
       "text": [
        "4.67950630064\n"
       ]
      }
     ],
     "prompt_number": 5
    },
    {
     "cell_type": "code",
     "collapsed": false,
     "input": [
      "#!/usr/bin/python\n",
      "# -*- coding: UTF-8 -*-\n",
      "# page 187\n",
      "import numpy as np\n",
      "from sklearn.datasets import load_boston  # \ubcf4\uc2a4\ud134\uc758 \uc8fc\ud0dd\uac00\uaca9 \ub370\uc774\ud130\n",
      "from matplotlib import pyplot as plt\n",
      "#import pylab as plt\n",
      "\n",
      "boston = load_boston()\n",
      "\n",
      "#plt.scatter(boston.data[:,5], boston.target, color='r')\n",
      "#plt.xlabel(\"RM\")\n",
      "#plt.ylabel(\"House Price\")\n",
      "#plt.show()\n",
      "\n",
      "x = np.array([np.concatenate((v,[1])) for v in boston.data])  # ((v,[1])) \uad04\ud638 2\uac1c \n",
      "y = boston.target\n",
      "\n",
      "slope,total_error,_,_ = np.linalg.lstsq(x,y)\n",
      "\n",
      "rmse = np.sqrt(total_error[0]/len(x))\n",
      "print(rmse) \n",
      "\n",
      "plt.plot(np.dot(x,slope), boston.target, 'ro')\n",
      "plt.plot([0,50] ,[0,50], 'g-')\n",
      "plt.xlabel('predicted')\n",
      "plt.ylabel('real')\n",
      "plt.show()\n",
      "           "
     ],
     "language": "python",
     "metadata": {},
     "outputs": []
    },
    {
     "cell_type": "markdown",
     "metadata": {},
     "source": [
      "<center><img src=\"img/page187.png\" width=\"500px\"></center>"
     ]
    },
    {
     "cell_type": "heading",
     "level": 1,
     "metadata": {},
     "source": [
      "\ud68c\uadc0\ub97c \uc704\ud55c \uad50\ucc28 \uac80\uc99d (page 187)"
     ]
    },
    {
     "cell_type": "markdown",
     "metadata": {},
     "source": [
      "- \uc608\uce21 \uacb0\uacfc\uc5d0 \ub300\ud55c \uad50\ucc28 \uac80\uc99d\uc758 \uc911\uc694\uc131\n",
      "- \uc77c\ubc18 \ucd5c\uc18c \uc81c\uacf1(OLS Ordinary Least Squares) -> Scikit-learn \uc758 \uc120\ud615 \ud68c\uadc0 \ud074\ub798\uc2a4 "
     ]
    },
    {
     "cell_type": "heading",
     "level": 1,
     "metadata": {},
     "source": [
      "sklearn.linear_model.LinearRegression (page 188-1)"
     ]
    },
    {
     "cell_type": "markdown",
     "metadata": {},
     "source": [
      "- LinearRegression() \ud30c\ub77c\ubbf8\ud130 fit_intercept \n",
      "- fit()\n",
      "- predict()\n",
      "- http://scikit-learn.org/stable/modules/generated/sklearn.linear_model.LinearRegression.html"
     ]
    },
    {
     "cell_type": "code",
     "collapsed": false,
     "input": [
      "#!/usr/bin/python\n",
      "# -*- coding: UTF-8 -*-\n",
      "# page 188-1\n",
      "import numpy as np\n",
      "from sklearn.datasets import load_boston  # \ubcf4\uc2a4\ud134\uc758 \uc8fc\ud0dd\uac00\uaca9 \ub370\uc774\ud130\n",
      "from sklearn.linear_model import LinearRegression\n",
      "\n",
      "boston = load_boston()\n",
      "\n",
      "x = np.array([np.concatenate((v,[1])) for v in boston.data])   \n",
      "y = boston.target\n",
      "\n",
      "lr = LinearRegression(fit_intercept=True)  # \ud3b8\ud5a5 \ud56d\uc744 \ucd94\uac00 \uc704\ud574 fit_intercept\ub97c True \n",
      "lr.fit(x,y)\n",
      "\n",
      "p = map(lr.predict, x)\n",
      "print(p)"
     ],
     "language": "python",
     "metadata": {},
     "outputs": [
      {
       "output_type": "stream",
       "stream": "stdout",
       "text": [
        "[30.008212692344621, 25.029860603818872, 30.570231695891643, 28.608140549202183, 27.942882319320411, 25.259400479377966, 23.004339941026394, 19.534755802206508, 11.51696539148351, 18.919814830982912, 18.995826599303985, 21.589708537230077, 20.905348512348191, 19.55535930674359, 19.283795700376359, 19.300001744404764, 20.52889993497401, 16.909674898646209, 16.170674106083961, 18.407816357002023, 12.52040454469757, 17.671045654953822, 15.829348906953467, 13.803683172471594, 15.677081383419115, 13.379164499389148, 15.462588290847137, 14.698636070512478, 19.545185119156553, 20.87309945384068, 11.448068252640908, 18.059004122012851, 8.7884166608373064, 14.278823185818954, 13.690971317486326, 23.817554688219708, 22.342162852092354, 23.111232035368225, 22.914941565513931, 31.358262156677029, 34.214853851251277, 28.020713197805406, 25.206465719600388, 24.611928505081508, 22.94438953217319, 22.101509452341212, 20.424674174499131, 18.036140221183654, 9.1017619808964163, 17.208565708264913, 21.282593718053761, 23.976212484958978, 27.658535207872475, 24.052108797043001, 15.359891319499951, 31.148170025657073, 24.858787464295112, 33.110171106910478, 21.774580356022284, 21.085267388778952, 17.872035375138378, 18.508813814468521, 23.987980898297977, 22.549440982623253, 23.370684025028773, 30.365575842322087, 25.534073324284495, 21.117585038468825, 17.424682231873234, 20.789308603516481, 25.203491743535103, 21.744905948636053, 24.562756115913373, 24.044795191528884, 25.509115704536221, 23.970767582161038, 22.948235189431585, 23.361060946047886, 21.264325488889433, 22.434537595949664, 28.406999367148373, 26.99734716039513, 26.038072460603054, 25.061521247735016, 24.785861303958043, 27.792918891627, 22.169270725822475, 25.896856635363179, 30.677715217992077, 30.832258860274123, 27.121273537287994, 27.415978251894359, 28.945647798488835, 29.086680032038039, 27.045017264660263, 28.625067051606877, 24.730382184304233, 35.780623783018889, 35.112695149880942, 32.251154678501109, 24.579467855460983, 25.593862148819667, 19.76439137381595, 20.31157116725803, 21.435363501684584, 18.539719683219918, 17.185726113907496, 20.749349494014591, 22.64791345585941, 19.770009770971335, 20.647453492995623, 26.526526910072171, 20.774405543958146, 20.715464323550602, 25.17461484098795, 20.427365203822486, 23.378625212899944, 23.694541450427693, 20.332022386479299, 20.793781392182481, 21.920244141311564, 22.474320058503064, 20.558846351966121, 16.363007643809208, 20.563421113029925, 22.485704543080402, 14.61264838843729, 15.180260696352999, 18.938284432588812, 14.057495497818209, 20.036519590338496, 19.413062879641522, 20.064010335656732, 15.76005772132007, 13.247715772050292, 17.261677290418319, 15.877596722216165, 19.361451043855816, 13.81270813845908, 16.447829342880897, 13.565111010595501, 3.9834397409420319, 14.592412069108963, 12.145030927836395, 8.7240710758660249, 12.008156585670573, 15.803085862626325, 8.5096392934435947, 9.7096551228127232, 14.798480672912525, 20.83598096158925, 18.300170132802975, 20.125752670765415, 17.27585680619735, 22.359979920343264, 20.079851835550407, 13.599037440531891, 33.266352214417431, 29.039383786299677, 25.566945288004209, 32.717321641524236, 36.781113881110379, 40.566155330112743, 41.85122271435695, 24.798756844669313, 25.377154499326203, 37.206621854559586, 23.082446076714135, 26.403268342127703, 26.656474326219751, 22.55412919171556, 24.297094799792369, 22.980248019722225, 29.074883888737144, 26.526200662204339, 30.723512254687556, 25.618353591220576, 29.142032828538497, 31.436906344554782, 32.923293800155818, 34.720964871910162, 27.767927334869334, 33.889928992022504, 30.997258045066708, 22.721242884694426, 24.765676829883915, 35.881317188866163, 33.426962421302761, 32.415136248715804, 34.516118183202614, 30.760576658778273, 30.29169892748677, 32.920402211821298, 32.114599121211427, 31.561333848230159, 40.8427460343907, 36.130463425610415, 32.666392705998234, 34.705586469871172, 30.092762280212153, 30.641397236824297, 29.291897044112797, 37.070626228172202, 42.028796113610611, 43.185827223984212, 22.692388797721904, 23.684205692273192, 17.85435295287369, 23.495438565829744, 17.008724184981517, 22.395350659519483, 17.061522433502375, 22.741068242208236, 25.219742523171242, 11.106011606044984, 24.51300616706925, 26.607490258269792, 28.358024435102685, 24.918604575058353, 29.692549506092558, 33.184927550593933, 23.771455228784312, 32.140865078413384, 29.748023621859836, 38.366056319129427, 39.807164584701241, 37.583625456745274, 32.397697035307644, 35.450482572931172, 31.234464806544651, 24.484783211694115, 33.286157230769312, 38.043681635397448, 37.157372670446485, 31.712974689028876, 25.26658017464576, 30.101515000418548, 32.718976554594519, 28.427353758986179, 28.429991681043283, 27.291321497180224, 23.744466705654741, 24.118789410416845, 27.402412087402794, 16.32993574855114, 13.396952134661063, 20.016555805799971, 19.862059038309273, 21.286046038760492, 24.077964818138717, 24.206037924094591, 25.042015337797302, 24.917090968076657, 29.937629752573176, 23.97709054140747, 21.699319690388293, 37.510513813075299, 43.294593573605283, 36.481214265332106, 34.991297014288897, 34.808657287701124, 37.162963742817922, 40.9823638040452, 34.44211690739872, 35.831780677553986, 28.249136468609699, 31.220223118379593, 40.832562017307652, 39.317688078149288, 25.710994243502242, 22.303448784677819, 27.205513409099794, 28.513863519851814, 35.474941222679014, 36.111106471236624, 33.800048069322209, 35.61141950833224, 34.843117423071938, 30.353593229776017, 35.312602620230798, 38.796848080087003, 34.332965412039179, 40.34038635959304, 44.673399227722285, 31.595547296018992, 27.359946418780471, 20.0952059622939, 27.045185236730688, 27.216743972439559, 26.911052257384075, 33.436029793735273, 34.402287854721862, 31.833741807947717, 25.824160348558998, 24.43687139364593, 28.46348890875241, 27.36916175797753, 19.54441877655637, 29.11480678915478, 31.908526989886923, 30.773251834040241, 28.943083504363162, 28.881081062840433, 32.798767944025926, 33.203569486761701, 30.765685457216886, 35.558434848775484, 32.707254359867775, 28.647598612745274, 23.593884388429711, 18.546155801287689, 26.884290235032495, 23.284854418806859, 25.550022009836074, 25.4833732275223, 20.543437687268728, 17.614063837139145, 18.376279327299233, 24.291875938828994, 21.325720195247662, 24.888261312979054, 24.871430486143787, 22.87255605275913, 19.454023398540134, 25.11948741227971, 24.668163741964264, 23.682096563324684, 19.339517250225221, 21.176360408655842, 24.253065877079337, 21.593111966815201, 19.987666674727759, 23.34079583734998, 22.139739585180095, 21.553491962937898, 20.618088678727979, 20.160757095718747, 19.284554664110079, 22.165939190846586, 21.24893735289109, 21.429854558745717, 30.328745231141063, 22.049153962887793, 27.706101248913463, 28.545950040076974, 16.546570630555976, 14.782782612413847, 25.273367717625128, 27.540880535833672, 22.146334672503386, 20.460812057607544, 20.544723324706382, 16.88194390880988, 25.400669556457814, 14.32299546873671, 16.592740301905017, 19.632245966643818, 22.711730202681071, 22.199469491661194, 19.198915098602789, 22.660910193434965, 18.920593743309311, 18.227153592610591, 20.224443861053455, 37.479460986088554, 14.291725830816073, 15.536971480579872, 10.828258169066075, 23.811349869394412, 32.647871629196267, 34.611634007877612, 24.94604102395526, 26.002597244201414, 6.1208572825190508, 0.78021126495223569, 25.311373002270912, 17.734659141741304, 20.225932822471563, 15.838348605721432, 16.837424005325662, 14.431236081836772, 18.476477729246824, 13.424279334504128, 13.056778235264233, 3.2764648500891553, 8.0593646728990329, 6.1390311373355075, 5.6227121261486275, 6.4493515374468764, 14.205974507459796, 17.210226712661068, 17.290350654407263, 9.8906435147423295, 20.219722221958879, 17.945110515917968, 20.30017588452678, 19.287903175343899, 16.333000084071049, 6.5684366211120064, 10.875415771468724, 11.887040974381165, 17.810989286113735, 18.254610663142813, 12.992827069448875, 7.3931905331258001, 8.2560956143740292, 8.0789997118177332, 19.98563715131769, 13.696517442812468, 19.835114119777465, 15.234537804615144, 16.931124190049555, 1.6934740632774208, 11.81116262921212, -4.2830093419215487, 9.5500784360207049, 13.326355212506741, 6.8835107716424702, 6.1682741718064449, 14.569332345987366, 19.592929315287098, 18.115168596059483, 18.520119872224399, 13.137074572062968, 14.596626012437088, 9.8923748990089173, 16.319980484721231, 14.067503009749498, 14.2257356771375, 13.007522506880782, 18.132775466923867, 18.666454961627785, 21.502837953395478, 17.000393790017455, 15.939266017125522, 13.329527160057992, 14.489492108908681, 8.7836673082025456, 4.8300317049753367, 13.06115528123637, 12.711014724343162, 17.288762403966253, 18.734249061399854, 18.052710131505865, 11.498556118530921, 13.008415122983134, 17.669755765539101, 18.123422937865055, 17.515032307220704, 17.213072033212903, 16.482385430652716, 19.400797373504933, 18.573929513968093, 22.478331859045635, 15.241798355479062, 15.783276086572201, 12.6485377753962, 12.841210489223482, 17.171736609675225, 18.509068577852698, 19.028038742212647, 20.164417730516337, 19.769753351684251, 22.426149366013544, 20.317503138036273, 17.876188371345666, 14.339134098153462, 16.937156030869218, 16.987166294491555, 18.594317013031592, 20.163951545939298, 22.977435459783827, 22.451106388590087, 25.570720702135148, 16.390911115821325, 16.097654269546808, 20.528356890807807, 11.542904504798681, 19.203874824235584, 21.868206028383955, 23.47052203174977, 27.100344940155601, 28.570648131571268, 21.083988102339216, 19.449052902199401, 22.21892209598289, 19.654230661968423, 21.324670996235259, 11.862313638505462, 8.2226059222278565, 3.6582516843343953, 13.762759507002983, 15.937809442913391, 20.627300965903842, 20.610354427959081, 16.880480350077598, 14.010172437519177, 19.108255341625014, 21.297207409460317, 18.455242173551266, 20.46764235051393, 23.532617285111101, 22.378697978108583, 27.629342467286961, 26.1298384382698, 22.348702685915846]\n"
       ]
      }
     ],
     "prompt_number": 1
    },
    {
     "cell_type": "heading",
     "level": 1,
     "metadata": {},
     "source": [
      "\ubd84\ub958\ub97c \uc704\ud55c \ud559\uc2b5\uacfc \uc608\uce21 (page 188-1)"
     ]
    },
    {
     "cell_type": "markdown",
     "metadata": {},
     "source": [
      "- \ud6c8\ub828 \ub370\uc774\ud130\uc758 \ud3c9\uade0 \uc81c\uacf1\uadfc \uc624\ucc28 \uacc4\uc0b0\n",
      "- \uc774\uc804\uacfc \uac19\uc740 \uc624\ucc28\uac12 "
     ]
    },
    {
     "cell_type": "code",
     "collapsed": false,
     "input": [
      "#!/usr/bin/python\n",
      "# -*- coding: UTF-8 -*-\n",
      "# page 188-1\n",
      "import numpy as np\n",
      "from sklearn.datasets import load_boston  # \ubcf4\uc2a4\ud134\uc758 \uc8fc\ud0dd\uac00\uaca9 \ub370\uc774\ud130\n",
      "from sklearn.linear_model import LinearRegression\n",
      "\n",
      "boston = load_boston()\n",
      "\n",
      "x = np.array([np.concatenate((v,[1])) for v in boston.data])   \n",
      "y = boston.target\n",
      "\n",
      "lr = LinearRegression(fit_intercept=True)\n",
      "lr.fit(x,y)\n",
      "\n",
      "p = map(lr.predict, x)\n",
      "e=p-y\n",
      "\n",
      "total_error = np.sum(e*e)  #\uc81c\uacf1\uc758 \ud569 \n",
      "rmse_train = np.sqrt(total_error/len(p)) \n",
      "\n",
      "print('RMSE on training: {}'.format(rmse_train))"
     ],
     "language": "python",
     "metadata": {},
     "outputs": [
      {
       "output_type": "stream",
       "stream": "stdout",
       "text": [
        "RMSE on training: 4.67950630064\n"
       ]
      }
     ],
     "prompt_number": 2
    },
    {
     "cell_type": "heading",
     "level": 1,
     "metadata": {},
     "source": [
      "sklearn.cross_validation.KFold (page 188-2)"
     ]
    },
    {
     "cell_type": "markdown",
     "metadata": {},
     "source": [
      "- KFold \ud074\ub798\uc2a4\ub97c \uc0ac\uc6a9\ud574 10\uc911\ucca9 \uad50\ucc28 \uac80\uc99d \ubc18\ubcf5\n",
      "- \uc120\ud615 \ud68c\uadc0\uc758 \uc77c\ubc18\ud654 \ub2a5\ub825\uc744 \ud14c\uc2a4\ud2b8 \n",
      "- http://scikit-learn.org/0.11/modules/generated/sklearn.cross_validation.KFold.html"
     ]
    },
    {
     "cell_type": "code",
     "collapsed": false,
     "input": [
      "#!/usr/bin/python\n",
      "# -*- coding: UTF-8 -*-\n",
      "# page 188-2\n",
      "import numpy as np\n",
      "from sklearn.datasets import load_boston  # \ubcf4\uc2a4\ud134\uc758 \uc8fc\ud0dd\uac00\uaca9 \ub370\uc774\ud130\n",
      "from sklearn.linear_model import LinearRegression\n",
      "from sklearn.cross_validation import KFold\n",
      "\n",
      "boston = load_boston()\n",
      "\n",
      "x = np.array([np.concatenate((v,[1])) for v in boston.data])   \n",
      "y = boston.target\n",
      "\n",
      "lr = LinearRegression(fit_intercept=True)\n",
      "#lr.fit(x,y)\n",
      "\n",
      "#p = map(lr.predict, x)\n",
      "#e=p-y\n",
      "\n",
      "#total_error = np.sum(e*e)  #\uc81c\uacf1\uc758 \ud569 \n",
      "#rmse_train = np.sqrt(total_error/len(p)) \n",
      "\n",
      "#print('RMSE on training: {}'.format(rmse_train))\n",
      "\n",
      "# 10\uc911\ucca9 \uad50\ucc28 \uac80\uc99d\uc744 \ubc18\ubcf5 \n",
      "kf=KFold(len(x), n_folds=10)\n",
      "err = 0 \n",
      "for train, test in kf:\n",
      "    lr.fit(x[train] , y[train])\n",
      "    p = map(lr.predict, x[test])\n",
      "    e = p-y[test]\n",
      "    err += np.sum(e*e)\n",
      "    print('err',err)\n",
      "    \n",
      "rmse_10cv = np.sqrt(err/len(x))\n",
      "print\n",
      "print('RMSE on 10-fold CV: {}'.format(rmse_10cv)) # \uad50\ucc28\uac80\uc99d\uc5d0\uc11c\uc758 \ucd94\uce21\uac12 "
     ],
     "language": "python",
     "metadata": {},
     "outputs": [
      {
       "output_type": "stream",
       "stream": "stdout",
       "text": [
        "('err', 474.36659005423587)\n",
        "('err', 1197.1428608382907)\n",
        "('err', 1916.5647467928852)\n",
        "('err', 3711.4992568175244)\n",
        "('err', 5339.6614715347923)\n",
        "('err', 6352.4468552647159)\n",
        "('err', 6850.3428553982167)\n",
        "('err', 15276.88045914581)\n",
        "('err', 16957.776375847981)\n",
        "('err', 17506.103534187045)\n",
        "\n",
        "RMSE on 10-fold CV: 5.88192507243\n"
       ]
      }
     ],
     "prompt_number": 6
    },
    {
     "cell_type": "heading",
     "level": 1,
     "metadata": {},
     "source": [
      "\ubc8c\uc810\ud654 \ud68c\uadc0 (page 189)"
     ]
    },
    {
     "cell_type": "markdown",
     "metadata": {},
     "source": [
      "- \ubc8c\uc810\ud654 : \ub9e4\uac1c\ubcc0\uc218 \uac12\uc5d0 \ub300\ud55c \uacfc\uc789\uc5d0 \ubc8c\uc810(\ud37c\ub110\ud2f0)\uc744 \uc900\ub2e4\ub294 \uc758\ubbf8 \n",
      "- \uacfc\uc801\ud569\ud654\uac00 \ub420 \uc218 \uc788\ub294 \ud6c8\ub828 \ub370\uc774\ud130\uc5d0 \ub300\ud574 \ucd5c\uc801\ud654\ub41c \uc801\ud569\uc131\uc744 \ubc18\ud658 \n",
      "- \ud3b8\ud5a5- \ubcc0\ud654\ub7c9 \uade0\ud615(tradeoff)\uc758 \ub610\ub2e4\ub978 \uc608 \n",
      "- \ud3b8\ud5a5(bias)\uc744 \ucd94\uac00\ud588\uae30 \ub54c\ubb38\uc5d0 \ud6c8\ub828 \ub370\uc774\ud130\uc5d0\uc11c \uc801\ud569\ud654\ub294 \uc798 \ub418\uc9c0 \uc54a\uc74c\n",
      "- \ubcc0\ud654\ub7c9(variance)\uc744 \uc904\uc774\uace0 \uacfc\uc801\ud569\ud654\ub97c \ud53c\ud558\ub294 \uacbd\ud5a5 \n",
      "- \uc704\uc758 2\uc758 \uade0\ud615\uc73c\ub85c \uc804\uccb4\uc801\uc778 \uacb0\uacfc\ub294 \uc880 \ub354 \ub098\uc740 \ubc29\ud5a5\uc73c\ub85c \uc77c\ubc18\ud654\ub41c\ub2e4 "
     ]
    },
    {
     "cell_type": "heading",
     "level": 1,
     "metadata": {},
     "source": [
      "L1\uacfc L2 \ubc8c\uce59"
     ]
    },
    {
     "cell_type": "markdown",
     "metadata": {},
     "source": [
      "- L1 \ubc8c\uce59 : \uacc4\uc218\uc758 \uc808\ub300\uac12\uc758 \ud569\uc73c\ub85c \ud68c\uadc0\uc5d0 \ubc8c\uc810\uc744 \ubd80\uc5ec\ud55c\ub2e4\n",
      "- L2 \ubc8c\uce59 : \uc81c\uacf1\uc758 \ud569\uc73c\ub85c \ubc8c\uc810\uc744 \uc900\ub2e4 "
     ]
    },
    {
     "cell_type": "heading",
     "level": 1,
     "metadata": {},
     "source": [
      "OLS \ucd5c\uc801\ud654"
     ]
    },
    {
     "cell_type": "markdown",
     "metadata": {},
     "source": [
      "<center><img src=\"img/page189-1.png\" width=\"500px\"></center>"
     ]
    },
    {
     "cell_type": "heading",
     "level": 1,
     "metadata": {},
     "source": [
      "L1 \ubc8c\uc810 \ucd94\uac00"
     ]
    },
    {
     "cell_type": "markdown",
     "metadata": {},
     "source": [
      "- \uc2e4\uc81c \ubaa9\ud45c y\uc640 \ucd5c\uc18c \uc81c\uacf1 \uac70\ub9ac\uc778 \ubca1\ud130 b\ub97c \uad6c\ud55c\ub2e4\n",
      "- L1 \ubc8c\uc810 \ucd94\uac00 \uc774\ud6c4 \ub2e4\uc2dc \ucd5c\uc801\ud654\n",
      "<center><img src=\"img/page189-2.png\" width=\"500px\"></center>"
     ]
    },
    {
     "cell_type": "heading",
     "level": 1,
     "metadata": {},
     "source": [
      "L2 \ubc8c\uc810 \ucd94\uac00"
     ]
    },
    {
     "cell_type": "markdown",
     "metadata": {},
     "source": [
      "- \uc624\ucc28\ub97c \uc791\uac8c \ub9cc\ub4dc\ub294 \ub3d9\uc2dc\uc5d0 \uc0c1\uc218\ub3c4 \uc791\uac8c \ub9cc\ub4e4\uace0\uc790 \ud55c\ub2e4 \n",
      "- L2 \ubc8c\uc810 \ucd94\uac00 \uc774\ud6c4 \ub2e4\uc2dc \ucd5c\uc801\ud654\n",
      "- \uc808\ub300\uac12 \ub300\uc2e0 \uc0c1\uc218\uc758 \uc81c\uacf1\uc744 \ubc8c\uc810\uc73c\ub85c \ubd80\uc5ec\ud558\ub098 \uacb0\uacfc\uc758 \ucc28\uc774\ub294 \ub9e4\uc6b0 \ud06c\ub2e4\n",
      "<center><img src=\"img/page189-3.png\" width=\"500px\"></center>"
     ]
    },
    {
     "cell_type": "heading",
     "level": 1,
     "metadata": {},
     "source": [
      "\ub9ac\uc9c0, \ub77c\uc18c, \uc77c\ub798\uc2a4\ud2f1 (page 190)"
     ]
    },
    {
     "cell_type": "markdown",
     "metadata": {},
     "source": [
      "- \ub77c\uc18c(Lasso) \ubaa8\ub378 : L1 \ubc8c\uc810\ud654 \ubaa8\ub378 (\uacc4\uc218\uc758 \uc808\ub300\uac12\uc758 \ud569\uc73c\ub85c \ud68c\uadc0\uc5d0 \ubc8c\uc810)\n",
      "- \ub9ac\uc9c0(Ridge) \ubaa8\ub378 : L2 \ubc8c\uc810\ud654 \ubaa8\ub378 (\uc81c\uacf1\uc758 \ud569\uc73c\ub85c \ubc8c\uc810)\n",
      "- \uc77c\ub798\uc2a4\ud2f1 \ub137(Elastic net) \ubaa8\ub378 : \ub77c\uc18c(\uc808\ub300\uac12) + \ub9ac\uc9c0(\uc81c\uacf1\uac12) "
     ]
    },
    {
     "cell_type": "markdown",
     "metadata": {},
     "source": [
      "- \ub77c\uc18c, \ub9ac\uc9c0\uc758 2\ubaa8\ub378\uc740 \ubc8c\uc810\uc744 \ubd80\uacfc\ud558\uc9c0 \uc54a\ub294 \ud68c\uadc0\ubcf4\ub2e4 \uc791\uc740 \uacc4\uc218\ub97c \ub9cc\ub4e0\ub2e4\n",
      "- \ub77c\uc18c\ub294 0\uc774 \ub418\ub294 \uacc4\uc218\ub97c \ub9cc\ub4dc\ub294 \ucd94\uac00\uc801\uc778 \ud2b9\uc131\uc774 \uc788\ub2e4 \n",
      "- \uc704\uc758 \ud2b9\uc131\uc740 \ucd5c\uc885 \ubaa8\ub378\uc774 \uc785\ub825 \uc18d\uc131\uc758 \uc77c\ubd80\ub97c \uc0ac\uc6a9\ud558\uc9c0 \uc54a\ub294\ub2e4\ub294 \uc758\ubbf8 : \ubaa8\ub378 \ud76c\uc18c(sparse)\n",
      "- \uc704\uc758 \ubaa8\ub378\uc740 \ud558\ub098\uc758 \ub2e8\uacc4\uc5d0\uc11c \uc18d\uc131\uc120\ud0dd(feature selection)\uacfc \ud68c\uadc0(regression)\uc744 \ubaa8\ub450 \uc218\ud589\ud558\ub294 \ud2b9\uc131  "
     ]
    },
    {
     "cell_type": "markdown",
     "metadata": {},
     "source": [
      "- \uc5b4\ub5a0\ud55c \ubc8c\uce59\uc744 \ubd80\uc5ec\ud558\ub354\ub77d\ub3c4 \uac00\uc911\uce58 \ub78c\ub2e4()\ub97c \ucd94\uac00\ud574 \uc6d0\ud558\ub294 \ub9cc\ud07c \uc870\uc815\ud560 \uc218 \uc788\ub2e4\n",
      "- \ub78c\ub2e4\uac00 0\uc5d0 \uac00\uae5d\ub2e4\uba74 OLS\uc640 \ub9e4\uc6b0 \uc720\uc0ac\ud574\uc9c4\ub2e4 \n",
      "- \ub78c\ub2e4\uac00 \ud074 \uacbd\uc6b0 OLS\uc640 \ub9e4\uc6b0 \ub2e4\ub978 \ubaa8\ub378\uc774 \ub41c\ub2e4 "
     ]
    },
    {
     "cell_type": "heading",
     "level": 1,
     "metadata": {},
     "source": [
      "Scikit-learn\uc5d0\uc11c \uc77c\ub798\uc2a4\ud2f1 \ub137 \uc0ac\uc6a9 (page 190)"
     ]
    },
    {
     "cell_type": "code",
     "collapsed": false,
     "input": [
      "#!/usr/bin/python\n",
      "# -*- coding: UTF-8 -*-\n",
      "# page 190\n",
      "import numpy as np\n",
      "from sklearn.datasets import load_boston  # \ubcf4\uc2a4\ud134\uc758 \uc8fc\ud0dd\uac00\uaca9 \ub370\uc774\ud130\n",
      "from sklearn.linear_model import ElasticNet #LinearRegression\n",
      "from sklearn.cross_validation import KFold\n",
      "\n",
      "boston = load_boston()\n",
      "\n",
      "x = np.array([np.concatenate((v,[1])) for v in boston.data])   \n",
      "y = boston.target\n",
      "\n",
      "#lr = LinearRegression(fit_intercept=True)\n",
      "lr = ElasticNet(fit_intercept=True, alpha=0.5)  # \uc77c\ub798\uc2a4\ud2f1 \ub137 \uc0ac\uc6a9 \n",
      "lr.fit(x,y)\n",
      "\n",
      "p = map(lr.predict, x)\n",
      "e=p-y\n",
      "\n",
      "total_error = np.sum(e*e)  #\uc81c\uacf1\uc758 \ud569 \n",
      "rmse_train = np.sqrt(total_error/len(p)) \n",
      "\n",
      "print('RMSE on training(\ud6c8\ub828\uc624\ucc28): {}'.format(rmse_train))\n",
      "\n",
      "# 10\uc911\ucca9 \uad50\ucc28 \uac80\uc99d\uc744 \ubc18\ubcf5 \n",
      "kf=KFold(len(x), n_folds=10)\n",
      "err = 0 \n",
      "for train, test in kf:\n",
      "    lr.fit(x[train] , y[train])\n",
      "    p = map(lr.predict, x[test])\n",
      "    e = p-y[test]\n",
      "    err += np.sum(e*e)\n",
      "    \n",
      "rmse_10cv = np.sqrt(err/len(x))\n",
      "print('RMSE on 10-fold CV (\uad50\ucc28\uac80\uc99d\uc624\ucc28): {}'.format(rmse_10cv))"
     ],
     "language": "python",
     "metadata": {},
     "outputs": [
      {
       "output_type": "stream",
       "stream": "stdout",
       "text": [
        "RMSE on training(\ud6c8\ub828\uc624\ucc28): 4.98547427243\n",
        "RMSE on 10-fold CV (\uad50\ucc28\uac80\uc99d\uc624\ucc28): 5.47790646659\n"
       ]
      }
     ],
     "prompt_number": 8
    },
    {
     "cell_type": "markdown",
     "metadata": {},
     "source": [
      "<center><img src=\"img/page191.png\" width=\"500px\"></center>"
     ]
    },
    {
     "cell_type": "heading",
     "level": 1,
     "metadata": {},
     "source": [
      "P\uac00 N\ubcf4\ub2e4 \ud070 \uc2dc\ub098\ub9ac\uc624 (page 191)"
     ]
    },
    {
     "cell_type": "markdown",
     "metadata": {},
     "source": [
      "- P(\uc18d\uc131\uc758 \uac2f\uc218)\uac00 N(\uc608\uc81c\uc758 \uac2f\uc218)\ubcf4\ub2e4 \ud070 \uacbd\uc6b0 \n",
      "- 1990\ub144 \ub300 \ucd08, \ucd08\uae30 \uc0dd\ubb3c \uc758\ud559 \uc601\uc5ed, \uc6f9\uc758 \uc601\uc5ed"
     ]
    },
    {
     "cell_type": "heading",
     "level": 1,
     "metadata": {},
     "source": [
      "\ud14d\uc2a4\ud2b8 \uc9d1\ud569 (\uc6f9) - (pae 192)"
     ]
    },
    {
     "cell_type": "markdown",
     "metadata": {},
     "source": [
      "- \uc785\ub825\uc774 \ud14d\uc2a4\ud2b8 \uc9d1\ud569\uc774\ub77c\uba74 \uc0ac\uc804\uc5d0 \uc788\ub294 \uac00\ub2a5\ud55c \ub2e8\uc5b4\ub97c \uc18d\uc131\uc73c\ub85c \uace0\ub824\ud558\uace0 \ud68c\uadc0\ud55c\ub2e4\n",
      "- \uc601\uc5b4\ub2e8\uc5b4 : 20,000\ub2e8\uc5b4 (\uc5b4\uadfc\ud654\ud558\uace0 \uacf5\ud1b5\ub2e8\uc5b4 \uace0\ub824, \ub2e8\uc5b4\ub97c \uadf8\ub300\ub85c \uc720\uc9c0\ud558\uba74 10\ubc30 \uc774\uc0c1 \uc99d\uac00)\n",
      "- \ubb38\uc7a5, \ubb38\uad6c \ub4f1 \uc218\ucc9c\uac1c\uc758 \uc608\uc81c\uac00 \uc788\ub2e4\uba74 \uc608\uc81c\ubcf4\ub2e4 \uc18d\uc131\uc774 \ud6e8\uc52c \ub354 \ub9ce\ub2e4"
     ]
    },
    {
     "cell_type": "markdown",
     "metadata": {},
     "source": [
      "- \uc18d\uc131\uc758 \uac1c\uc218\uac00 \uc608\uc81c\uc758 \uac1c\uc218\ubcf4\ub2e4 \ud074 \uacbd\uc6b0 : \ud6c8\ub828 \ub370\uc774\ud130\uc5d0 \ub300\ud55c \uc644\ubcbd\ud55c \uc801\ud569\ud654\uac00 \uac00\ub2a5 ( \ud6c8\ub828 \uc624\ucc28\uac00 0\uc778 \ud68c\uadc0 \uacc4\uc218 \uc9d1\ud569 \uac00\ub2a5)\n",
      "- \ud6c8\ub828 \uc624\ucc28\uac00 0\uc774\ub77c\uace0 \ud574\uc11c, \ubaa8\ub378\uc774 \uc77c\ubc18\ud654\uac00 \uc798 \ub410\ub2e4\ub294 \uac83\uc740 \uc544\ub2c8\ub2e4"
     ]
    },
    {
     "cell_type": "heading",
     "level": 1,
     "metadata": {},
     "source": [
      "\ud14d\uc2a4\ud2b8 \uae30\ubc18\uc758 \uc608\uc81c (page 192)"
     ]
    },
    {
     "cell_type": "markdown",
     "metadata": {},
     "source": [
      "- \uce74\ub124\uae30 \uba5c\ub860 \ub300\ud559\uad50 \ub178\uc544 \uc2a4\ubbf8\uc2a4Noah Smith \uad50\uc218\uc758 \uc5f0\uad6c \uadf8\ub8f9 \uc218\ud589\n",
      "- \ubbf8\uad6d SEC(Securities and Exchange Commission)\uc758 \ud68c\uc0ac \ud30c\uc77c\uc778 'K-10 \ub9ac\ud3ec\ud2b8'\ub77c\uace0 \ubd88\ub9ac\ub294 \ub9c8\uc774\ub2dd\uc744 \uae30\ubc18\n",
      "- \uc704\uc758 \ud30c\uc77c\ub9c1\uc740 \uc0c1\uc7a5\ub41c \ubaa8\ub4e0 \ud68c\uc0ac\ub97c \ubc95\uc801\uc73c\ub85c \uad00\ub9ac\ud558\uc5d0 \ub454\ub2e4 \n",
      "- \ubaa9\uc801 : \uacf5\uacf5 \uc815\ubcf4\uc5d0 \uae30\ubc18\ud574 \ud68c\uc0ac \uc8fc\uc2dd\uc758 \ubbf8\ub798 \ubcc0\ub3d9\uc131\uc774 \ubb34\uc5c7\uc778\uc9c0 \uc608\uce21\ud558\ub294 \uac83\uc744 \ubaa9\uc801 \n",
      "- \ud6c8\ub828 \ub370\uc774\ud130 : \uacfc\uac70\uc5d0 \uc77c\uc5b4\ub09c \uc77c\uc5d0 \ub300\ud55c \uc5ed\uc0ac\uc801 \ub370\uc774\ud130\ub97c \uc0ac\uc6a9 \n",
      "- \uc0ac\uc6a9 \uac00\ub2a5\ud55c \uc608\uc81c : 16,087\uac1c , \uc18d\uc131\uc740 \ub2e8\uc5b4\uc5d0 \ud574\ub2f9, \ucd1d\ud569\uc774 150,360\uac1c\ub85c \uc774\ubbf8 \uc804\ucc98\ub9ac \n",
      "- \ub370\uc774\ud130\uc14b\uc740 SVMLight \ud3ec\ub9f7 (SVM - Support Vector Machine)"
     ]
    },
    {
     "cell_type": "heading",
     "level": 1,
     "metadata": {},
     "source": [
      "SVM \uc758 \ud2b9\uc131 (Support Vector Machine)"
     ]
    },
    {
     "cell_type": "markdown",
     "metadata": {},
     "source": [
      "- \uae30\uc874\uc758 \ubc29\ubc95\ub4e4\uc740 \ubd84\ub958\ud558\ub294 \uc624\ub958\uc728\uc744 \ucd5c\uc18c\ud654\ud558\ub824\ub294 \ubaa9\uc801\uc73c\ub85c \uc124\uacc4\ub418\uc5c8\ub2e4.\n",
      "- \uc5ec\ubc31\uc774\ub77c\ub294 \uac1c\ub150\uc744 \ubd84\ub958\uae30 \uc124\uacc4\uc5d0 \ub3c4\uc785\ud558\uace0, \ub450 \ubd84\ub958 \uc0ac\uc774\uc5d0 \uc874\uc7ac\ud558\ub294 \uc5ec\ubc31\uc744 \ucd5c\ub300\ud654\ud558\uc5ec \uc77c\ubc18\ud654 \ub2a5\ub825\uc744 \uadf9\ub300\ud654\ud55c\ub2e4\n",
      "- SVM\uc758 \ubaa9\uc801\uc740 \ub6f0\uc5b4\ub09c \uc77c\ubc18\ud654 \ub2a5\ub825\uc744 \ud655\ubcf4\ud558\ub294 \uac83\n",
      "- \uae30\ubcf8 \ubd84\ub958 \uc54c\uace0\ub9ac\uc998\uc740 \uc5ec\ubc31\uc774\ub77c\ub294 \uac1c\ub150\uc744 \uc81c\ub300\ub85c \uc0ac\uc6a9\ud558\uc9c0 \ubabb\ud558\uc600\ub2e4 \n",
      "- \ub7ec\uc2dc\uc544 \uacfc\ud559\uc790 Valdimir Vapnik\uc774 1970\ub144\ub300 \ud6c4\ubc18\uc5d0 \uc81c\uc548\ud558\uc600\uc73c\ub098 \ub2f9\uc2dc\uc5d0\ub294 \ud06c\uac8c \uc8fc\ubaa9\ubc1b\uc9c0 \ubabb\ud588\ub2e4 \n",
      "- 1990\ub144\ub300 \ud544\uae30 \uc22b\uc790 \uc778\uc2dd\uac19\uc740 \uc2e4\uc6a9\uc801\uc778 \uc751\uc6a9\uc5d0 \uc6b0\uc218\ud55c \uc77c\ubc18\ud654 \ub2a5\ub825\uc774 \uc785\uc99d\ub418\uc5b4 \uc8fc\ubaa9\ubc1b\uae30 \uc2dc\uc791\ud588\ub2e4"
     ]
    },
    {
     "cell_type": "markdown",
     "metadata": {},
     "source": [
      "<center><img src=\"img/page192-2.png\" width=\"300px\"></center>"
     ]
    },
    {
     "cell_type": "markdown",
     "metadata": {},
     "source": [
      "- \ubd84\ub958\uae30 1)\uc740 3\uac1c w1 \uc0d8\ud50c\uc744 \ud2c0\ub9ac\uac8c \ubd84\ub958\ud55c\ub2e4 \n",
      "- \ud559\uc2b5 \uc54c\uace0\ub9ac\uc998\uc740 \ucd08\uae30\uac12 1)\uc744 \uac00\uc9c0\uace0 \uc624\ub958\ub97c \uc904\uc5ec\uac00\ub294 \uacfc\uc815\uc744 \ubc18\ubcf5\ud558\uc5ec 2) \ub610\ub294 3)\uacfc \uac19\uc740 \uc9c1\uc120\uc744 \ucc3e\uc544\uac08 \uac83\uc774\ub2e4\n",
      "- \uc774 \uc0c1\ud669\uc5d0\uc11c \ub9cc\uc77c 2)\uc5d0 \ub3c4\ub2ec\ud558\uba74 \uac70\uae30\uc5d0\uc11c \uba48\ucd98\ub2e4 (\uc624\ub958 \ud568\uc218\uac00 0\uc758 \uac12\uc744 \uac16\uac8c \ub418\uae30 \ub54c\ubb38)\n",
      "- \ud6c8\ub828\uc9d1\ud569\uc758 \uc785\uc7a5\uc5d0\uc11c 2)\uc640 3)\uc740 \ub458\ub2e4 \uc624\ub958\uac00 0\uc774\ubbc0\ub85c \uac19\uc740 \uc131\ub2a5\uc758 \ubd84\ub958\uae30\uc774\ub2e4\n",
      "- \ud558\uc9c0\ub9cc \ubd84\ub958\uae30\ub97c \ub9cc\ub4dc\ub294 \ubaa9\uc801\uc740 \ubbf8\ub798\uc5d0 \ubc1c\uc0dd\ud560 \ubbf8\uc9c0\uc758 \ud328\ud134\uc744 \ubd84\ub958\ud558\uae30 \uc704\ud568\uc774\ub2e4\n",
      "- \ubbf8\uc9c0\uc758 \ud328\ud134\uc744 \uc5bc\ub9c8\ub098 \uc798 \ubd84\ub958\ud558\ub290\ub0d0\ub97c \ub530\uc9c0\ub294 \ucc99\ub3c4\uc778 \uc77c\ubc18\ud654(generalization)\uc758 \ub2a5\ub825\uc73c\ub85c \ubcf4\uba74 2)\uc640 3)\uc740 \uac19\uc9c0 \uc54a\ub2e4\n",
      "- 2)\ub294 \ubd80\ub958 w1\uc5d0\uc11c \ubc1c\uc0dd\ud558\ub294 \ud328\ud134\uc5d0\uc11c \uc57d\uac04\uc758 \ubcc0\ud615\uc774 \ubc1c\uc0dd\ud558\uba74 \uacb0\uc815\uc9c1\uc120\uc744 \ub118\uc5b4 w2\ub85c \uc624\ubd84\ub958\ub420 \uac00\ub2a5\uc131\uc774 \ub192\ub2e4\n",
      "- \ud558\uc9c0\ub9cc \uacb0\uc815 \uc9c1\uc120 3)\uc740 \ub450 \ubd80\ub958 \ubaa8\ub450\uc5d0 \ub300\ud574 \uc5ec\ubc31(margin)\uc774 \ucee4\uc11c \uc6ec\ub9cc\ud55c \ubcc0\ud615\uc740 \uc624\ubd84\ub958\ub85c \uc774\uc5b4\uc9c0\uc9c0 \uc54a\ub294\ub2e4\n",
      "- 3)\uc774 2)\ubcf4\ub2e4 \uc77c\ubc18\ud654 \ub2a5\ub825\uc774 \ub6f0\uc5b4\ub098\uace0 \uacb0\uad6d \ubd84\ub958\uae30 \ud488\uc9c8\uba74\uc5d0\uc11c \uc88b\ub2e4 \n",
      "- \ucc38\uace0 : \ud328\ud134\uc778\uc2dd(\uc624\uc77c\uc11d) "
     ]
    },
    {
     "cell_type": "code",
     "collapsed": false,
     "input": [
      "#!/usr/bin/python\n",
      "# -*- coding: UTF-8 -*-\n",
      "# page 192\n",
      "import numpy as np\n",
      "from sklearn.datasets import load_svmlight_file\n",
      "data,target = load_svmlight_file('E2006.train')\n",
      "print(data)  # data \ud76c\uc18c \ub9e4\ud2b8\ub9ad\uc2a4 : \ub300\ubd80\ubd84\uc774 0\uc774\uae30 \ub54c\ubb38\uc5d0 0\uc774 \uc544\ub2cc \uc5d4\ud2b8\ub9ac\ub9cc \uba54\ubaa8\ub9ac\uc5d0 \uc800\uc7a5 "
     ],
     "language": "python",
     "metadata": {},
     "outputs": [
      {
       "output_type": "stream",
       "stream": "stdout",
       "text": [
        "  (0, 0)\t-3.48505410345\n",
        "  (0, 3)\t0.000414247954635\n",
        "  (0, 4)\t4.80030318863e-08\n",
        "  (0, 9)\t1.63291530309e-06\n",
        "  (0, 11)\t5.76072195038e-07\n",
        "  (0, 12)\t0.000455725155895\n",
        "  (0, 13)\t0.000335280688338\n",
        "  (0, 14)\t0.000150050866676\n",
        "  (0, 15)\t1.68031503898e-06\n",
        "  (0, 16)\t9.90264078161e-05\n",
        "  (0, 17)\t8.52252555529e-05\n",
        "  (0, 18)\t0.000137149620243\n",
        "  (0, 19)\t8.64108292556e-07\n",
        "  (0, 20)\t0.000321546763679\n",
        "  (0, 23)\t0.000382221105612\n",
        "  (0, 25)\t7.40306599594e-05\n",
        "  (0, 26)\t7.78689360604e-05\n",
        "  (0, 27)\t0.00027536911065\n",
        "  (0, 29)\t0.000311278562034\n",
        "  (0, 30)\t2.55250031089e-05\n",
        "  (0, 31)\t0.000528868711772\n",
        "  (0, 32)\t4.84173520933e-05\n",
        "  (0, 33)\t4.10541590796e-05\n",
        "  (0, 34)\t0.000408771225385\n",
        "  (0, 35)\t0.000795847618707\n",
        "  :\t:\n",
        "  (16086, 118806)\t0.000474162101405\n",
        "  (16086, 118809)\t0.00856067420818\n",
        "  (16086, 118826)\t0.00420368450694\n",
        "  (16086, 131832)\t0.00111739160478\n",
        "  (16086, 131905)\t0.00389774479847\n",
        "  (16086, 150289)\t0.0161993605926\n",
        "  (16086, 150291)\t0.00593976555062\n",
        "  (16086, 150297)\t0.000585076095695\n",
        "  (16086, 150305)\t0.00161993605926\n",
        "  (16086, 150319)\t0.00117015219139\n",
        "  (16086, 150325)\t0.000585076095695\n",
        "  (16086, 150341)\t0.00117015219139\n",
        "  (16086, 150343)\t0.00292538047847\n",
        "  (16086, 150344)\t0.000585076095695\n",
        "  (16086, 150345)\t0.000585076095695\n",
        "  (16086, 150346)\t0.000585076095695\n",
        "  (16086, 150348)\t0.000585076095695\n",
        "  (16086, 150352)\t0.00126034700994\n",
        "  (16086, 150353)\t0.00063017350497\n",
        "  (16086, 150354)\t0.00063017350497\n",
        "  (16086, 150355)\t0.00063017350497\n",
        "  (16086, 150356)\t0.00063017350497\n",
        "  (16086, 150357)\t0.00063017350497\n",
        "  (16086, 150358)\t0.00063017350497\n",
        "  (16086, 150359)\t0.00063017350497\n"
       ]
      }
     ],
     "prompt_number": 1
    },
    {
     "cell_type": "code",
     "collapsed": false,
     "input": [
      "#!/usr/bin/python\n",
      "# -*- coding: UTF-8 -*-\n",
      "# page 193\n",
      "import numpy as np\n",
      "from sklearn.datasets import load_svmlight_file\n",
      "data,target = load_svmlight_file('E2006.train')\n",
      "print(target)  # \ub2e8\uc21c\ud788 1\ucc28\uc6d0 \ubca1\ud130 "
     ],
     "language": "python",
     "metadata": {},
     "outputs": [
      {
       "output_type": "stream",
       "stream": "stdout",
       "text": [
        "[-3.58943963 -3.52663816 -3.68987995 ..., -3.45833933 -3.76274561\n",
        " -3.62727649]\n"
       ]
      }
     ],
     "prompt_number": 2
    },
    {
     "cell_type": "code",
     "collapsed": false,
     "input": [
      "#!/usr/bin/python\n",
      "# -*- coding: UTF-8 -*-\n",
      "# page 193\n",
      "import numpy as np\n",
      "from sklearn.datasets import load_svmlight_file\n",
      "data,target = load_svmlight_file('E2006.train')\n",
      "\n",
      "print('Min target value:{}'.format(target.min()))   # \ucd5c\uc18c \n",
      "print('Max target value:{}'.format(target.max()))   # \ucd5c\ub300 \n",
      "print('Mean target value:{}'.format(target.mean()))  # \ud3c9\uade0 \n",
      "print('Std target value:{}'.format(target.std()))  # \ud45c\uc900\ud3b8\ucc28 "
     ],
     "language": "python",
     "metadata": {},
     "outputs": [
      {
       "output_type": "stream",
       "stream": "stdout",
       "text": [
        "Min target value:-7.89957807347\n",
        "Max target value:-0.51940952694\n",
        "Mean target value:-3.51405313669\n",
        "Std target value:0.632278353911\n"
       ]
      }
     ],
     "prompt_number": 3
    },
    {
     "cell_type": "code",
     "collapsed": false,
     "input": [
      "#!/usr/bin/python\n",
      "# -*- coding: UTF-8 -*-\n",
      "# page 193_2\n",
      "import numpy as np\n",
      "from sklearn.linear_model import LinearRegression\n",
      "from sklearn.datasets import load_svmlight_file\n",
      "data,target = load_svmlight_file('E2006.train')\n",
      "print(target)"
     ],
     "language": "python",
     "metadata": {},
     "outputs": [
      {
       "output_type": "stream",
       "stream": "stdout",
       "text": [
        "[-3.58943963 -3.52663816 -3.68987995 ..., -3.45833933 -3.76274561\n",
        " -3.62727649]\n"
       ]
      }
     ],
     "prompt_number": 1
    },
    {
     "cell_type": "code",
     "collapsed": false,
     "input": [
      "#!/usr/bin/python\n",
      "# -*- coding: UTF-8 -*-\n",
      "import numpy as np\n",
      "from sklearn.linear_model import LinearRegression\n",
      "from sklearn.datasets import load_svmlight_file\n",
      "data,target = load_svmlight_file('E2006.train')\n",
      "#print(target)\n",
      "\n",
      "lr = LinearRegression(fit_intercept=True)\n",
      "lr.fit(data,target)\n",
      "\n",
      "p = np.array(map(lr.predict, data))\n",
      "print(p)"
     ],
     "language": "python",
     "metadata": {},
     "outputs": []
    },
    {
     "cell_type": "markdown",
     "metadata": {},
     "source": [
      "[[-3.58958389]\n",
      "\n",
      " [-3.52625643]\n",
      " \n",
      " [-3.69048942]\n",
      " \n",
      " ..., \n",
      " \n",
      " [-3.45815738]\n",
      " \n",
      " [-3.76216531]\n",
      " \n",
      " [-3.62751994]]"
     ]
    },
    {
     "cell_type": "code",
     "collapsed": false,
     "input": [
      "#!/usr/bin/python\n",
      "# -*- coding: UTF-8 -*-\n",
      "import numpy as np\n",
      "from sklearn.linear_model import LinearRegression\n",
      "from sklearn.datasets import load_svmlight_file\n",
      "data,target = load_svmlight_file('E2006.train')\n",
      "#print(target)\n",
      "\n",
      "lr = LinearRegression(fit_intercept=True)\n",
      "lr.fit(data,target)\n",
      "\n",
      "p = np.array(map(lr.predict, data))\n",
      "#print(p)\n",
      "\n",
      "p = p.ravel()  #p\ub294 (1,16087) \ub9e4\ud2b8\ub9ad\uc2a4, \uc774\ub97c 1\ucc28\uc6d0\uc73c\ub85c \ub9cc\ub4e0\ub2e4 \n",
      "print(p)"
     ],
     "language": "python",
     "metadata": {},
     "outputs": []
    },
    {
     "cell_type": "markdown",
     "metadata": {},
     "source": [
      "[-3.58958389 -3.52625643 -3.69048942 ..., -3.45815738 -3.76216531\n",
      " -3.62751994]"
     ]
    },
    {
     "cell_type": "code",
     "collapsed": false,
     "input": [
      "#!/usr/bin/python\n",
      "# -*- coding: UTF-8 -*-\n",
      "import numpy as np\n",
      "from sklearn.linear_model import LinearRegression\n",
      "from sklearn.datasets import load_svmlight_file\n",
      "data,target = load_svmlight_file('E2006.train')\n",
      "#print(target)\n",
      "\n",
      "lr = LinearRegression(fit_intercept=True)\n",
      "lr.fit(data,target)\n",
      "\n",
      "p = np.array(map(lr.predict, data))\n",
      "#print(p)\n",
      "\n",
      "p = p.ravel()  #p\ub294 (1,16087) \ub9e4\ud2b8\ub9ad\uc2a4, \uc774\ub97c 1\ucc28\uc6d0\uc73c\ub85c \ub9cc\ub4e0\ub2e4 \n",
      "#print(p)\n",
      "\n",
      "e=p-target # e: \uc624\ucc28\ub2e4 : \uc608\uce21\uac12\uacfc \uc2e4\uc81c \uac12\uc758 \ucc28\uc774 \n",
      "print(e)"
     ],
     "language": "python",
     "metadata": {},
     "outputs": []
    },
    {
     "cell_type": "markdown",
     "metadata": {},
     "source": [
      "[-0.00014425  0.00038174 -0.00060947 ...,  0.00018194  0.0005803\n",
      " -0.00024346]"
     ]
    },
    {
     "cell_type": "code",
     "collapsed": false,
     "input": [
      "#!/usr/bin/python\n",
      "# -*- coding: UTF-8 -*-\n",
      "import numpy as np\n",
      "from sklearn.linear_model import LinearRegression\n",
      "from sklearn.datasets import load_svmlight_file\n",
      "data,target = load_svmlight_file('E2006.train')\n",
      "#print(target)\n",
      "\n",
      "lr = LinearRegression(fit_intercept=True)\n",
      "lr.fit(data,target)\n",
      "\n",
      "p = np.array(map(lr.predict, data))\n",
      "#print(p)\n",
      "\n",
      "p = p.ravel()  #p\ub294 (1,16087) \ub9e4\ud2b8\ub9ad\uc2a4, \uc774\ub97c 1\ucc28\uc6d0\uc73c\ub85c \ub9cc\ub4e0\ub2e4 \n",
      "#print(p)\n",
      "\n",
      "e=p-target # e: \uc624\ucc28\ub2e4 : \uc608\uce21\uac12\uacfc \uc2e4\uc81c \uac12\uc758 \ucc28\uc774 \n",
      "#print(e)\n",
      "\n",
      "total_sq_error = np.sum(e*e)  #\uc81c\uacf1\uc758 \ud569 \n",
      "rmse_train = np.sqrt(total_sq_error/len(p)) \n",
      "\n",
      "print('RMSE on training(\ud6c8\ub828\uc624\ucc28): {}'.format(rmse_train))  # \uac70\uc758 0\uc5d0 \uac00\uae5d\uac8c \ub098\uc628\ub2e4 "
     ],
     "language": "python",
     "metadata": {},
     "outputs": []
    },
    {
     "cell_type": "markdown",
     "metadata": {},
     "source": [
      "RMSE on training(\ud6c8\ub828\uc624\ucc28): 0.00237866684485"
     ]
    },
    {
     "cell_type": "heading",
     "level": 1,
     "metadata": {},
     "source": [
      "\ud6c8\ub828 \uc624\ucc28\uc640 \uc77c\ubc18\ud654 \uc624\ucc28 (page 194)"
     ]
    },
    {
     "cell_type": "markdown",
     "metadata": {},
     "source": [
      "- \uc18d\uc131\uc758 \uac1c\uc218\uac00 \uc608\uc81c\uc758 \uac1c\uc218\ubcf4\ub2e4 \ub9ce\uc744 \ub54c, \n",
      "- OLS(\uc77c\ubc18 \ucd5c\uc18c \uc81c\uacf1)\uc740 \ud56d\uc0c1 \ud6c8\ub828 \uc624\ucc28\uac00 0\uc774\uc9c0\ub9cc,\n",
      "- \ud558\uc9c0\ub9cc \uc77c\ubc18\ud654 \uad00\uc810\uc5d0\uc11c \uc798 \uc791\ub3d9\ud55c\ub2e4\uace0 \ub9d0\ud560 \uc218 \uc5c6\ub2e4\n",
      "- \ud6c8\ub828 \uc624\ucc28\uac00 0 \uc774\ub354\ub77c\ub3c4 \uc544\ubb34 \uc4f8\ubaa8\uc5c6\ub294 \ubaa8\ub378\uc774 \ub9cc\ub4e4\uc5b4\uc9c8 \uc218\ub3c4 \uc788\ub2e4 "
     ]
    },
    {
     "cell_type": "heading",
     "level": 1,
     "metadata": {},
     "source": [
      "\ud559\uc2b5\uae30\ubc95\uc5d0\uc11c \ub9e4\uac1c\ubcc0\uc218 \uc124\uc815\ud558\uae30 (page 194) "
     ]
    },
    {
     "cell_type": "markdown",
     "metadata": {},
     "source": [
      "- \uc77c\ubc18\uc801\uc778 \ud574\uacb0\uc740 \uad50\ucc28 \uac80\uc99d\n",
      "- \uac00\ub2a5\ud55c \uac12\uc744 \uc124\uc815\ud558\uace0 \uad50\ucc28 \uac80\uc99d\uc744 \uc0ac\uc6a9\ud558\uace0, \uac00\uc7a5 \uc88b\uc740 \uac12\uc744 \uace0\ub978\ub2e4 \n",
      "- \uc774\ub7ec\ud55c \uc218\ud589\uc740 \uc880 \ub354 \uacc4\uc0b0\uc801\uc778\uc9c0\ub9cc (10\uc911\ucca9\uc744 \uc0ac\uc6a9\ud558\uba74 10\ubc30\uac00 \ub41c\ub2e4) \ud56d\uc0c1 \uc801\uc6a9\ud560 \uc218 \uc788\uace0, \ud3b8\ud5a5\uc801\uc774\uc9c0 \uc54a\ub2e4 "
     ]
    },
    {
     "cell_type": "heading",
     "level": 1,
     "metadata": {},
     "source": [
      "\uc601\ub9ac\ud55c \ubc29\ubc95\uc73c\ub85c \ud558\uc774\ud37c \ub9e4\uac1c\ubcc0\uc218 \uc124\uc815 (page 194)"
     ]
    },
    {
     "cell_type": "markdown",
     "metadata": {},
     "source": [
      "- \uc774\uc804 \uc608\uc81c\uc5d0\uc11c \ubc8c\uce59 \ub9e4\uac1c \ubcc0\uc218\ub97c 1\ub85c \uc124\uc815\ud588\ub2e4 , 2\ub610\ub294 50, 200, 20,000,000(2\ucc9c\ub9cc) \ub85c\ub3c4 \uc124\uc815 \uac00\ub2a5 \n",
      "- \ub2f9\uc5f0\ud788 \uacb0\uacfc\ub294 \ub9e4\ubc88 \ub2e4\ub974\ub2e4. \n",
      "- \uc9c0\ub098\uce58\uac8c \ud070 \uac12\uc744 \uc124\uc815\ud55c\ub2e4\uba74 \uacfc\uc18c\uc801\ud569\ud654\ub418\uc5b4, \uadf9\ub2e8\uc801\uc778 \uacbd\uc6b0 \ubaa8\ub4e0 \uacc4\uc218\ub97c 0\uc73c\ub85c \ubc18\ud658\ud558\uac8c \ub41c\ub2e4 \n",
      "- \ub108\ubb34 \uc791\uc740 \uac12\uc744 \uc124\uc815\ud574 \uacfc\uc801\ud569\ud654\uac00 \ub418\uba74, \uc77c\ubc18\ud654\uac00 \uc5c9\ub9dd\uc778 OLS \uc640 \ub9e4\uc6b0 \uac00\uae4c\uc6cc\uc9c4\ub2e4 "
     ]
    },
    {
     "cell_type": "heading",
     "level": 1,
     "metadata": {},
     "source": [
      "\uc77c\ubc18\ud654 \uce21\uc815\uc744 \uc704\ud55c 2\ub2e8\uacc4\uc758 \uad50\ucc28 \uac80\uc99d(page 194)"
     ]
    },
    {
     "cell_type": "markdown",
     "metadata": {},
     "source": [
      "- 1\ub2e8\uacc4 : \uc77c\ubc18\ud654\uc5d0 \ub300\ud55c \uce21\uc815\n",
      "- 2\ub2e8\uacc4 : \uad1c\ucc2e\uc740 \ub9e4\uac1c \ubcc0\uc218\ub97c \uad6c\ud558\ub294 \uac83 \n",
      "- ex) 2\ub2e8\uacc4 \n",
      "- 10\uc911\ucca9\uc73c\ub85c \ub370\uc774\ud130\ub97c \uc790\ub978\ub2e4\n",
      "- 1\ubc88\uc9f8 \uc911\ucca9\uc744 \ub450\uace0 \ub098\uba38\uc9c0 \uc544\ud649 \uc911\ucca9\uc73c\ub85c \ud559\uc2b5\ud55c\ub2e4\n",
      "- \ub9e4\uac1c\ubcc0\uc218\ub97c \uace0\ub974\uae30 \uc704\ud574 \ub2e4\uc2dc \uc774 \ub370\uc774\ud130\ub97c 10 \uc911\ucca9\uc73c\ub85c \ub098\ub208\ub2e4 \n",
      "- \uc77c\ub2e8 \ub9e4\uac1c\ubcc0\uc218\ub97c \uc124\uc815\ud558\uace0 1\ubc88\uc9f8 \uc911\ucca9\uc744 \ud14c\uc2a4\ud2b8\ud558\uace0, \uc544\ud649 \uc911\ucca9\uc744 \ub300\ud574 \ubc18\ubcf5\ud574\uc11c \ud14c\uc2a4\ud2b8\ud55c\ub2e4 "
     ]
    },
    {
     "cell_type": "markdown",
     "metadata": {},
     "source": [
      "<center><img src=\"img/page195.png\" width=\"500px\"></center>"
     ]
    },
    {
     "cell_type": "markdown",
     "metadata": {},
     "source": [
      "- 5\uac1c\uc758 \uc678\ubd80 \uc911\ucca9 \n",
      "- 5\uac1c\uc758 \ub0b4\ubd80 \uc911\ucca9\n",
      "- \uc678\ubd80\uc640 \ub0b4\ubd80 \uc911\ucca9 \uac1c\uc218\uac00 \uac19\uc744 \ud544\uc694\ub294 \uc5c6\ub2e4\n",
      "- \ub370\uc774\ud130\ub97c \uacc4\uc18d \ub098\ub208\ub2e4\uba74 \uc5b4\ub5a4 \uc218\ub97c \uc0ac\uc6a9\ud574\ub3c4 \ubb34\ubc29\ud558\ub2e4"
     ]
    },
    {
     "cell_type": "markdown",
     "metadata": {},
     "source": [
      "- \uc774 \uc791\uc5c5\uc740 \ub9ce\uc740 \uacc4\uc0b0\uc744 \uc720\ubc1c\ud55c\ub2e4\n",
      "- \ubaa8\ub378\uc5d0 \ub300\ud55c \uc5b4\ub5a4 \uacb0\uc815\uc744 \ub0b4\ub9ac\uae30 \uc704\ud574 \ub370\uc774\ud130 \uc870\uac01\uc744 \uc0ac\uc6a9\ud55c\ub2e4\uba74(\ub9e4\uac1c\ubcc0\uc218 \uc124\uc815 \ud3ec\ud568) \ub370\uc774\ud130\ub294 \uc624\uc5fc\ub418\uace0(\uc0ac\uc6a9\uac00\uce58\uac00 \ub5a8\uc5b4\uc9c0\uace0) \ubaa8\ub378\uc758 \uc77c\ubc18\ud654 \ub2a5\ub825\uc744 \ud14c\uc2a4\ud2b8\ud558\ub294 \ub370 \ub354 \uc774\uc0c1 \uc0ac\uc6a9\ud560 \uc218 \uc5c6\ub2e4 \n",
      "- \uad50\ucc28 \uac80\uc99d\uc744 \uc815\ud655\ud788 \uc218\ud589\ud558\uc9c0 \ubabb\ud558\uae30 \ub54c\ubb38\uc5d0, \ub300\ubd80\ubd84\uc758 \uae30\uacc4 \ud559\uc2b5 \uc0ac\uc6a9\uc790\ub294 \ud798\ub4e4\uc5b4\uc9c0\uace0 \uc2dc\uc2a4\ud15c\uc758 \uc791\ub3d9\uc744 \uacfc\uce21\uc815\ud558\ub294 \uacbd\uc6b0\uac00 \uc788\ub2e4 \n",
      "- scikite-learn\uc758 \ub3c4\uc6c0 \n",
      "- \ub0b4\ubd80 \ub9e4\uac1c \ubcc0\uc218 \uad50\ucc28 \uac80\uc99d \uccb4\ud06c LassCV, RidgeCV, ElasticNetCV"
     ]
    },
    {
     "cell_type": "code",
     "collapsed": false,
     "input": [
      "#!/usr/bin/python\n",
      "# -*- coding: UTF-8 -*-\n",
      "# page 195\n",
      "import numpy as np\n",
      "from sklearn.datasets import load_svmlight_file\n",
      "from sklearn.linear_model import ElasticNetCV  \n",
      "from sklearn.cross_validation import KFold\n",
      "\n",
      "data,target = load_svmlight_file('E2006.train')\n",
      "\n",
      "met = ElasticNetCV(fit_intercept=True)\n",
      "\n",
      "# 10\uc911\ucca9 \uad50\ucc28 \uac80\uc99d\uc744 \ubc18\ubcf5 \n",
      "kf=KFold(len(target), n_folds=10)\n",
      "\n",
      "err =0 \n",
      "for train, test in kf:\n",
      "    met.fit(data[train] , target[train])\n",
      "    p = map(met.predict, data[test])\n",
      "    p = np.array(p).ravel()\n",
      "    err += np.dot(e,e)\n",
      "    \n",
      "rmse_10cv = np.sqrt(err/len(x))\n",
      "print('RMSE on 10-fold CV(\uad50\ucc28\uac80\uc99d\uc624\ucc28): {}'.format(rmse_10cv))"
     ],
     "language": "python",
     "metadata": {},
     "outputs": []
    },
    {
     "cell_type": "heading",
     "level": 1,
     "metadata": {},
     "source": [
      "\uc608\uce21\uacfc \ucd94\ucc9c\uc758 \ud3c9\uc810 (page 196)"
     ]
    },
    {
     "cell_type": "markdown",
     "metadata": {},
     "source": [
      "- \uc544\ub9c8\uc874\uc758 'X\ub97c \uad6c\ub9e4\ud55c \uace0\uac1d\uc740 Y\ub3c4 \uad6c\ub9e4\ud588\uc2b5\ub2c8\ub2e4' : 8\uc7a5 (\uc7a5\ubc14\uad6c\ub2c8 \ubd84\uc11d) \n",
      "- \ub137\ud50c\ub9ac\uc2a4\uc758 \uc601\ud654\uc5d0 \ud3c9\uc810\uc744 \uc8fc\uae30 \n",
      "- \ub137\ud50c\ub9ac\uc2a4 \ud3c9\uc810 \uc608\uce21 \uc0ac\ub0b4 \uc54c\uace0\ub9ac\uc998 \ud5a5\uc0c1 \ub300\ud68c : \uc6b0\uc2b9\ud55c \uae30\uc220\uc740 -> \ub9ce\uc740 \uc804\ucc98\ub9ac + \uace0\uae09 \uae30\uacc4\ud559\uc2b5 \n",
      "- \uc2e4\uc138\uacc4\uc758 \uae30\uacc4\ud655\uc2b5 : \uc88b\uc740 \uacb0\uacfc\ub97c \uc704\ud574 \uc815\uaddc\ud654\ub294 \ubc18\ub4dc\uc2dc \ud544\uc694"
     ]
    },
    {
     "cell_type": "heading",
     "level": 1,
     "metadata": {},
     "source": [
      "\ubd84\ub958 \uc811\uadfc\ubc95\uc758 \ubb38\uc81c\uc810 - 5\uac1c \ubc94\uc8fc\ub85c \uad6c\ubcc4 (\ubcc4\uc810) (page 197)"
     ]
    },
    {
     "cell_type": "markdown",
     "metadata": {},
     "source": [
      "- \ud3c9\uc810\uc758 \uc624\ucc28\ub294 \ubaa8\ub450 \uac19\uc9c0 \uc54a\ub2e4 : \ubcc4 4\uac1c\uc9dc\ub9ac \uc601\ud654\ub97c \ubcc45\uac1c\uc9dc\ub9ac\ub85c \uc900 \uacbd\uc6b0, \ubcc4 1\uac1c\uc9dc\ub9ac\ub97c 5\uac1c\uc9dc\ub9ac\ub85c \uc900 \uac83\uc740 \uadf8 \uc2ec\uac01\uc131\uc774 \ub3d9\uc77c\ud558\uc9c0 \uc54a\ub2e4\n",
      "- \uc911\uac04 \uac12 : \uc785\ub825\uac12\uc774 \uc815\uc218\uac12\uc778\ub370 (\ubcc4 1\uac1c ~5\uac1c), \uc774\uc5d0 \ub300\ud55c \uc608\uce21\uac12\uc774 4.7\ub85c \ub098\uc624\ub354\ub77c\ub3c4 \uad1c\ucc2e\ub2e4 \n",
      "- \uc704\uc758 2\uac00\uc9c0 \ubb38\uc81c\ub54c\ubb38\uc5d0 \ubd84\ub958\ubcf4\ub2e4 \ud68c\uadc0 \ud504\ub808\uc784\uc6cc\ud06c\uac00 \uc880 \ub354 \ub098\uc740 \ubc29\ubc95"
     ]
    },
    {
     "cell_type": "heading",
     "level": 1,
     "metadata": {},
     "source": [
      "\uc0ac\uc6a9\uc790 \uc911\uc810 \ubaa8\ub378 (page 197)"
     ]
    },
    {
     "cell_type": "markdown",
     "metadata": {},
     "source": [
      "- \uc601\ud654 \uc911\uc810 \ubaa8\ub378 \ub610\ub294 \uc0ac\uc6a9\uc790 \uc911\uc810 \ub454 \ubaa8\ub378 \n",
      "- \uc0ac\uc6a9\uc790 \uc911\uc810 \ub454 \ubaa8\ub378 \uba3c\uc800 \uc791\uc131\n",
      "- \uac01 \uc0ac\uc6a9\uc790\uc5d0 \ub300\ud574\uc11c \uc601\ud654\ub97c \uc815\ud558\uace0, \ud0c0\uae43\ubcc0\uc218\ub85c\uc11c \ud3c9\uc810\uc744 \uac16\ub294\ub2e4\n",
      "- \uc785\ub825\uc740 \uc0ac\uc6a9\uc790\uc758 \ud3c9\uc810\n",
      "- \ub300\uc0c1 \uc0ac\uc6a9\uc790\uc640 \uc720\uc0ac\ud55c \uc0ac\uc6a9\uc790\uc5d0\uac8c \ub192\uc740 \uac12\uc744 \ubd80\uc5ec\n",
      "- (\ub610\ub294 \ub300\uc0c1 \uc0ac\uc6a9\uc790\uac00 \uc2eb\uc5b4\ud558\ub294 \uc601\ud654\ub97c \uc88b\uc544\ud558\ub294 \uc0ac\uc6a9\uc790\uc5d0\uac8c \uc74c\uc758 \uac12\uc744 \ubd80\uc5ec \ub4f1\uacfc \uac19\uc740 \ubc29\uc2dd)"
     ]
    },
    {
     "cell_type": "heading",
     "level": 1,
     "metadata": {},
     "source": [
      "\ub370\uc774\ud130 \ub85c\ub529 (page 198)"
     ]
    },
    {
     "cell_type": "markdown",
     "metadata": {},
     "source": [
      "- 1~5 \uae4c\uc9c0\uc758 \uc5d4\ud2f0\ud2f0\ub97c \uac00\uc9c4 \ud76c\uc18c \ub9e4\ud2b8\ub9ad\uc2a4 (\uc0ac\uc6a9\uc790\ub294 \ub300\ubd80\ubd84 \uc601\ud654 \ud3c9\uc810\uc744 \uc8fc\uc9c0 \uc54a\uc544\uc11c \ub300\ubd80\ubd84\uc758 \uc5d4\ud2f0\ud2f0\uac00 0 \uc774\ub2e4 )\n",
      "- \ub2e4\uc591\uc131\uc744 \uc704\ud55c \ud68c\uadc0\ubc29\ubc95\uc73c\ub85c LassCV \ud074\ub798\uc2a4 \uc0ac\uc6a9 \n",
      "- \uc0dd\uc131\uc790\uc5d0\uc11c \uba85\uc2dc\uc801\uc73c\ub85c alphas \uc14b\uc744 \uc804\ub2ec\ud558\ubbc0\ub85c, \ub0b4\ubd80 \uad50\ucc28 \uac80\uc99d\uc5d0\uc11c \uc0ac\uc6a9\ud560 \uac12\uc744 \uc81c\uc57d\ud560 \uc218 \uc788\ub2e4 \n",
      "- 0.125 \uc5d0\uc11c 2\ubc30\uc529 \uc99d\uac00\uc2dc\ucf1c 4\uae4c\uc9c0 "
     ]
    },
    {
     "cell_type": "code",
     "collapsed": false,
     "input": [
      "#!/usr/bin/python\n",
      "# -*- coding: UTF-8 -*-\n",
      "# page 198\n",
      "import numpy as np\n",
      "from sklearn.linear_model import LassoCV\n",
      "\n",
      "reg = LassoCV(fit_intercept=True, alphas=[.125, .25, .5, 1. ,2. ,4.])\n",
      "\n",
      "data = np.array([[int(tok) for tok in line.split('\\t')[:3]] for line in open('u.data')])\n",
      "\n",
      "print(data)"
     ],
     "language": "python",
     "metadata": {},
     "outputs": [
      {
       "output_type": "stream",
       "stream": "stdout",
       "text": [
        "[[ 196  242    3]\n",
        " [ 186  302    3]\n",
        " [  22  377    1]\n",
        " ..., \n",
        " [ 276 1090    1]\n",
        " [  13  225    2]\n",
        " [  12  203    3]]\n"
       ]
      }
     ],
     "prompt_number": 1
    },
    {
     "cell_type": "code",
     "collapsed": false,
     "input": [
      "#!/usr/bin/python\n",
      "# -*- coding: UTF-8 -*-\n",
      "# page 198\n",
      "import numpy as np\n",
      "from sklearn.linear_model import LassoCV\n",
      "\n",
      "reg = LassoCV(fit_intercept=True, alphas=[.125, .25, .5, 1. ,2. ,4.])\n",
      "\n",
      "data = np.array([[int(tok) for tok in line.split('\\t')[:3]] for line in open('u.data')])\n",
      "values = data[:,2]\n",
      "\n",
      "print(values)"
     ],
     "language": "python",
     "metadata": {},
     "outputs": [
      {
       "output_type": "stream",
       "stream": "stdout",
       "text": [
        "[3 3 1 ..., 1 2 3]\n"
       ]
      }
     ],
     "prompt_number": 3
    },
    {
     "cell_type": "code",
     "collapsed": false,
     "input": [
      "#!/usr/bin/python\n",
      "# -*- coding: UTF-8 -*-\n",
      "# page 198\n",
      "import numpy as np\n",
      "from sklearn.linear_model import LassoCV\n",
      "from scipy import sparse\n",
      "\n",
      "reg = LassoCV(fit_intercept=True, alphas=[.125, .25, .5, 1. ,2. ,4.])\n",
      "\n",
      "data = np.array([[int(tok) for tok in line.split('\\t')[:3]] for line in open('u.data')])\n",
      "\n",
      "#print(data)\n",
      "\n",
      "ij = data[:, :2]\n",
      "print(ij)"
     ],
     "language": "python",
     "metadata": {},
     "outputs": [
      {
       "output_type": "stream",
       "stream": "stdout",
       "text": [
        "[[ 196  242]\n",
        " [ 186  302]\n",
        " [  22  377]\n",
        " ..., \n",
        " [ 276 1090]\n",
        " [  13  225]\n",
        " [  12  203]]\n"
       ]
      }
     ],
     "prompt_number": 2
    },
    {
     "cell_type": "heading",
     "level": 1,
     "metadata": {},
     "source": [
      "scipy.sparse"
     ]
    },
    {
     "cell_type": "markdown",
     "metadata": {},
     "source": [
      "- \ud76c\uc18c \ub9e4\ud2b8\ub9ad\uc2a4(\ud589\ub82c) : \ud589\ub82c\uac12\uc774 \ub300\ubd80\ubd84 0\uc778 \ud589\ub82c\n",
      "- http://ko.wikipedia.org/wiki/%ED%9D%AC%EC%86%8C%ED%96%89%EB%A0%AC\n",
      "- http://docs.scipy.org/doc/scipy/reference/sparse.html\n",
      "- scipy.sparse.csc_matrics()\n",
      "- http://docs.scipy.org/doc/scipy/reference/generated/scipy.sparse.csc_matrix.html#scipy.sparse.csc_matrix"
     ]
    },
    {
     "cell_type": "code",
     "collapsed": false,
     "input": [
      "#!/usr/bin/python\n",
      "# -*- coding: UTF-8 -*-\n",
      "# page 198\n",
      "import numpy as np\n",
      "from sklearn.linear_model import LassoCV\n",
      "from scipy import sparse\n",
      "\n",
      "# \ub0b4\ubd80 \uad50\ucc28 \uac80\uc99d\uc5d0\uc11c \uc0ac\uc6a9\ud560 \uac12\uc744 \uc81c\uc57d : 0.125\uc5d0\uc11c 2\ubc30\uc529 \uc99d\uac00\uc2dc\ucf1c 4\uae4c\uc9c0\n",
      "reg = LassoCV(fit_intercept=True, alphas=[.125, .25, .5, 1. ,2. ,4.])\n",
      "\n",
      "data = np.array([[int(tok) for tok in line.split('\\t')[:3]] for line in open('u.data')])\n",
      "#print(data)\n",
      "\n",
      "values = data[:, 2]\n",
      "#print(values)\n",
      "\n",
      "ij = data[:, :2]\n",
      "ij -=1  # original data is in 1-based system\n",
      "\n",
      "reviews = sparse.csc_matrix((values, ij.T)).astype(float) # \ud76c\uc18c\ub9e4\ud2b8\ub9ad\uc2a4, \uc0ac\uc6a9\uc790\uc5d0 \ub300\ud55c \ud3c9\uc810 \uc815\ubcf4 \n",
      "print(reviews)"
     ],
     "language": "python",
     "metadata": {},
     "outputs": [
      {
       "output_type": "stream",
       "stream": "stdout",
       "text": [
        "  (0, 0)\t5.0\n",
        "  (1, 0)\t4.0\n",
        "  (4, 0)\t4.0\n",
        "  (5, 0)\t4.0\n",
        "  (9, 0)\t4.0\n",
        "  (12, 0)\t3.0\n",
        "  (14, 0)\t1.0\n",
        "  (15, 0)\t5.0\n",
        "  (16, 0)\t4.0\n",
        "  (17, 0)\t5.0\n",
        "  (19, 0)\t3.0\n",
        "  (20, 0)\t5.0\n",
        "  (22, 0)\t5.0\n",
        "  (24, 0)\t5.0\n",
        "  (25, 0)\t3.0\n",
        "  (37, 0)\t5.0\n",
        "  (40, 0)\t4.0\n",
        "  (41, 0)\t5.0\n",
        "  (42, 0)\t5.0\n",
        "  (43, 0)\t4.0\n",
        "  (44, 0)\t5.0\n",
        "  (48, 0)\t2.0\n",
        "  (53, 0)\t4.0\n",
        "  (55, 0)\t4.0\n",
        "  (56, 0)\t5.0\n",
        "  :\t:\n",
        "  (781, 1661)\t4.0\n",
        "  (781, 1662)\t2.0\n",
        "  (781, 1663)\t4.0\n",
        "  (838, 1663)\t1.0\n",
        "  (869, 1663)\t4.0\n",
        "  (879, 1663)\t4.0\n",
        "  (781, 1664)\t2.0\n",
        "  (781, 1665)\t2.0\n",
        "  (781, 1666)\t3.0\n",
        "  (781, 1667)\t3.0\n",
        "  (781, 1668)\t2.0\n",
        "  (781, 1669)\t3.0\n",
        "  (786, 1670)\t1.0\n",
        "  (827, 1671)\t2.0\n",
        "  (895, 1671)\t2.0\n",
        "  (834, 1672)\t3.0\n",
        "  (839, 1673)\t4.0\n",
        "  (850, 1674)\t3.0\n",
        "  (850, 1675)\t2.0\n",
        "  (853, 1676)\t3.0\n",
        "  (862, 1677)\t1.0\n",
        "  (862, 1678)\t3.0\n",
        "  (862, 1679)\t2.0\n",
        "  (895, 1680)\t3.0\n",
        "  (915, 1681)\t3.0\n"
       ]
      }
     ],
     "prompt_number": 4
    },
    {
     "cell_type": "code",
     "collapsed": false,
     "input": [
      "#!/usr/bin/python\n",
      "# -*- coding: UTF-8 -*-\n",
      "# page 198\n",
      "import numpy as np\n",
      "from sklearn.linear_model import LassoCV\n",
      "from scipy import sparse\n",
      "\n",
      "# \ub0b4\ubd80 \uad50\ucc28 \uac80\uc99d\uc5d0\uc11c \uc0ac\uc6a9\ud560 \uac12\uc744 \uc81c\uc57d : 0.125\uc5d0\uc11c 2\ubc30\uc529 \uc99d\uac00\uc2dc\ucf1c 4\uae4c\uc9c0\n",
      "reg = LassoCV(fit_intercept=True, alphas=[.125, .25, .5, 1. ,2. ,4.])\n",
      "\n",
      "data = np.array([[int(tok) for tok in line.split('\\t')[:3]] for line in open('u.data')])\n",
      "#print(data)\n",
      "\n",
      "values = data[:, 2]\n",
      "#print(values)\n",
      "\n",
      "ij = data[:, :2]\n",
      "ij -=1  # original data is in 1-based system\n",
      "\n",
      "reviews = sparse.csc_matrix((values, ij.T)).astype(float) #\uc0ac\uc6a9\uc790\uc5d0 \ub300\ud55c \ud3c9\uc810 \uc815\ubcf4 \n",
      "#print(reviews)\n",
      "\n",
      "print(reviews.shape[0]) #\uc0ac\uc6a9\uc790 \uc778\uc6d0 \n"
     ],
     "language": "python",
     "metadata": {},
     "outputs": [
      {
       "output_type": "stream",
       "stream": "stdout",
       "text": [
        "943\n"
       ]
      }
     ],
     "prompt_number": 5
    }
   ],
   "metadata": {}
  }
 ]
}