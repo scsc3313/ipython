{
 "metadata": {
  "name": "",
  "signature": "sha256:d90fbbda50bcb432602935474b5d8c6a805abc750f5b3b1476db246d018a8aa9"
 },
 "nbformat": 3,
 "nbformat_minor": 0,
 "worksheets": [
  {
   "cells": [
    {
     "cell_type": "code",
     "collapsed": false,
     "input": [
      "import os \n",
      "os.chdir(\"/home/python/notebook_root/build_machine_learning_system_with_python/data/ch01\") \n",
      "%load performance_test.py"
     ],
     "language": "python",
     "metadata": {},
     "outputs": [],
     "prompt_number": 2
    },
    {
     "cell_type": "code",
     "collapsed": false,
     "input": [
      "# This code is supporting material for the book\n",
      "# Building Machine Learning Systems with Python\n",
      "# by Willi Richert and Luis Pedro Coelho\n",
      "# published by PACKT Publishing\n",
      "#\n",
      "# It is made available under the MIT License\n",
      "\n",
      "\n",
      "import timeit\n",
      "\n",
      "normal_py_sec = timeit.timeit('sum(x*x for x in range(1000))',\n",
      "                              number=10000)\n",
      "naive_np_sec = timeit.timeit('sum(na*na)',\n",
      "                             setup=\"import numpy as np; na=np.arange(1000)\",\n",
      "                             number=10000)\n",
      "good_np_sec = timeit.timeit('na.dot(na)',\n",
      "                            setup=\"import numpy as np; na=np.arange(1000)\",\n",
      "                            number=10000)\n",
      "\n",
      "print(\"Normal Python: %f sec\" % normal_py_sec)\n",
      "print(\"Naive NumPy: %f sec\" % naive_np_sec)\n",
      "print(\"Good NumPy: %f sec\" % good_np_sec)\n"
     ],
     "language": "python",
     "metadata": {},
     "outputs": [
      {
       "output_type": "stream",
       "stream": "stdout",
       "text": [
        "Normal Python: 0.624526 sec\n",
        "Naive NumPy: 0.757719 sec\n",
        "Good NumPy: 0.013395 sec\n"
       ]
      }
     ],
     "prompt_number": 4
    },
    {
     "cell_type": "code",
     "collapsed": false,
     "input": [],
     "language": "python",
     "metadata": {},
     "outputs": []
    }
   ],
   "metadata": {}
  }
 ]
}