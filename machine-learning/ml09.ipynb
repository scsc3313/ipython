{
 "metadata": {
  "name": "",
  "signature": "sha256:8ada5821d2819a9f92fd713b522315c46a5aa5bf2735280026ea2bb6d6dfa69b"
 },
 "nbformat": 3,
 "nbformat_minor": 0,
 "worksheets": [
  {
   "cells": [
    {
     "cell_type": "heading",
     "level": 1,
     "metadata": {},
     "source": [
      "9. \ubd84\ub958 \u2162 : \uc74c\uc545 \uc7a5\ub974 \ubd84\ub958"
     ]
    },
    {
     "cell_type": "heading",
     "level": 3,
     "metadata": {},
     "source": [
      "\n",
      " - \uc74c\uc545\uc758 \uc218\uce58\ud654\uac00 \ud544\uc694"
     ]
    },
    {
     "cell_type": "heading",
     "level": 2,
     "metadata": {},
     "source": [
      "\u25a0 \uc74c\uc545 \ub370\uc774\ud130 \uac00\uc838\uc624\uae30"
     ]
    },
    {
     "cell_type": "heading",
     "level": 3,
     "metadata": {},
     "source": [
      "GTZAN \ub370\uc774\ud130\uc14b : \ucd1d 10\uac1c\uc758 \uc7a5\ub974 \uc911 \uc7ac\uc988, \ud074\ub798\uc2dd, \ucee8\ud2b8\ub9ac, \ud31d, \ub85d, \uba54\ud0c8 \uc758 6\uac00\uc9c0\ub9cc \uc0ac\uc6a9"
     ]
    },
    {
     "cell_type": "heading",
     "level": 3,
     "metadata": {},
     "source": [
      "                    (\uac01 \uc7a5\ub974\ubcc4 30\ucd08 \ubd84\ub7c9\uc758 100\uace1 \ud3ec\ud568 - \uac01 \ud2b8\ub799\uc740 WAV\ud615\ud0dc\uc758 22,050 Hz \ubaa8\ub178\ub85c \ub179\uc74c.)"
     ]
    },
    {
     "cell_type": "heading",
     "level": 4,
     "metadata": {},
     "source": [
      "Hz : \uc9c4\ub3d9\uc218\uc758 \ub2e8\uc704. 1\ucd08\uc5d0 x \ubc88 \uc9c4\ub3d9"
     ]
    },
    {
     "cell_type": "heading",
     "level": 4,
     "metadata": {},
     "source": [
      "\uc778\uac04\uc758 \uac00\uccad \uc8fc\ud30c\uc218 : 20 ~ 20000 Hz"
     ]
    },
    {
     "cell_type": "heading",
     "level": 4,
     "metadata": {},
     "source": [
      "\uc9c4\ud3ed : \uc74c\uc758 \uc138\uae30 / \uc9c4\ub3d9\uc218 : \uc74c\uc758 \ub192\ub0ae\uc774"
     ]
    },
    {
     "cell_type": "heading",
     "level": 3,
     "metadata": {},
     "source": [
      " * \ub370\uc774\ud130\uc14b url : http://opihi.cs.uvic.ca/sound/genres.tar.gz\n"
     ]
    },
    {
     "cell_type": "heading",
     "level": 3,
     "metadata": {},
     "source": [
      " * \ubcc0\ud658\ud234 : http://sox.sourceforge.net  ( SOund eXchange )"
     ]
    },
    {
     "cell_type": "heading",
     "level": 3,
     "metadata": {},
     "source": [
      "\u2193 .au \ub370\uc774\ud130\ub97c .wav \ub85c \ubcc0\ud658"
     ]
    },
    {
     "cell_type": "code",
     "collapsed": false,
     "input": [
      "SOX_DIR=\"C:/Program Files (x86)/sox-14-4-1\"\n",
      "ML09_DIR=\"D:/ml/\"\n",
      "GENRE_DIR=ML09_DIR+\"genres/\""
     ],
     "language": "python",
     "metadata": {},
     "outputs": [],
     "prompt_number": 44
    },
    {
     "cell_type": "code",
     "collapsed": false,
     "input": [
      "import os\n",
      "os.chdir(SOX_DIR)\n",
      "for base, dirs, files in os.walk(GENRE_DIR):\n",
      "    for f in files:\n",
      "        name, ext = os.path.splitext(f)\n",
      "        if ext == '.au':\n",
      "            s=os.path.abspath(os.path.join(base, f))\n",
      "            d=os.path.abspath(os.path.join(base, name+'.wav'))\n",
      "            os.system('sox %s %s' % (s,d))"
     ],
     "language": "python",
     "metadata": {},
     "outputs": [],
     "prompt_number": 25
    },
    {
     "cell_type": "heading",
     "level": 2,
     "metadata": {},
     "source": [
      "\u25a0 \uc74c\uc545 \uc0b4\ud3b4\ubcf4\uae30\n"
     ]
    },
    {
     "cell_type": "heading",
     "level": 3,
     "metadata": {},
     "source": [
      "\n",
      "\uc2a4\ud399\ud2b8\ub7fc : \ub178\ub798\uac00 \uc5b4\ub5a4\uc9c0 \uac04\ud3b8\ud558\uac8c \ud655\uc778\ud558\ub294 \ubc29\ubc95  -> \ub178\ub798\uc758 \uc9c4\ub3d9\uc218\ub97c \uc2dc\uac01\uc801\uc73c\ub85c \ud45c\ud604\n",
      " "
     ]
    },
    {
     "cell_type": "heading",
     "level": 3,
     "metadata": {},
     "source": [
      "x\ucd95 : \uc2dc\uac04  /  y\ucd95 : \uc9c4\ub3d9\uc218\uc758 \uac15\ub3c4  "
     ]
    },
    {
     "cell_type": "code",
     "collapsed": false,
     "input": [
      "import os\n",
      "import scipy.io.wavfile\n",
      "from matplotlib.pyplot import specgram\n",
      "os.chdir(GENRE_DIR)\n",
      "sample_rate, X = scipy.io.wavfile.read('jazz/jazz.00007.wav')\n",
      "print sample_rate, X.shape\n",
      "specgram(X, Fs=sample_rate, xextent=(0,30))"
     ],
     "language": "python",
     "metadata": {},
     "outputs": [
      {
       "output_type": "stream",
       "stream": "stdout",
       "text": [
        "22050 (661794,)\n"
       ]
      },
      {
       "metadata": {},
       "output_type": "pyout",
       "prompt_number": 42,
       "text": [
        "(array([[  4.21650444e+01,   4.44423143e+02,   9.38354259e+03, ...,\n",
        "           4.05406674e+04,   2.08987543e+03,   1.57696359e+04],\n",
        "        [  1.18792058e+03,   3.12257421e+03,   1.59968148e+04, ...,\n",
        "           1.62159705e+05,   7.46602215e+04,   9.08246588e+04],\n",
        "        [  8.70333654e+02,   1.82624532e+03,   8.45597875e+03, ...,\n",
        "           9.32497544e+04,   5.07102805e+04,   7.16832200e+04],\n",
        "        ..., \n",
        "        [  2.75266682e-06,   4.36714635e-06,   1.68473253e-07, ...,\n",
        "           7.69276055e-06,   4.44421398e-06,   1.91952354e-05],\n",
        "        [  6.93509396e-07,   3.99167413e-06,   1.01247135e-06, ...,\n",
        "           5.91304494e-06,   1.26021482e-06,   7.89831659e-06],\n",
        "        [  1.91954138e-07,   1.83182871e-06,   7.49200870e-07, ...,\n",
        "           2.00052930e-06,   1.71137567e-07,   3.87225633e-08]]),\n",
        " array([     0.       ,     86.1328125,    172.265625 ,    258.3984375,\n",
        "           344.53125  ,    430.6640625,    516.796875 ,    602.9296875,\n",
        "           689.0625   ,    775.1953125,    861.328125 ,    947.4609375,\n",
        "          1033.59375  ,   1119.7265625,   1205.859375 ,   1291.9921875,\n",
        "          1378.125    ,   1464.2578125,   1550.390625 ,   1636.5234375,\n",
        "          1722.65625  ,   1808.7890625,   1894.921875 ,   1981.0546875,\n",
        "          2067.1875   ,   2153.3203125,   2239.453125 ,   2325.5859375,\n",
        "          2411.71875  ,   2497.8515625,   2583.984375 ,   2670.1171875,\n",
        "          2756.25     ,   2842.3828125,   2928.515625 ,   3014.6484375,\n",
        "          3100.78125  ,   3186.9140625,   3273.046875 ,   3359.1796875,\n",
        "          3445.3125   ,   3531.4453125,   3617.578125 ,   3703.7109375,\n",
        "          3789.84375  ,   3875.9765625,   3962.109375 ,   4048.2421875,\n",
        "          4134.375    ,   4220.5078125,   4306.640625 ,   4392.7734375,\n",
        "          4478.90625  ,   4565.0390625,   4651.171875 ,   4737.3046875,\n",
        "          4823.4375   ,   4909.5703125,   4995.703125 ,   5081.8359375,\n",
        "          5167.96875  ,   5254.1015625,   5340.234375 ,   5426.3671875,\n",
        "          5512.5      ,   5598.6328125,   5684.765625 ,   5770.8984375,\n",
        "          5857.03125  ,   5943.1640625,   6029.296875 ,   6115.4296875,\n",
        "          6201.5625   ,   6287.6953125,   6373.828125 ,   6459.9609375,\n",
        "          6546.09375  ,   6632.2265625,   6718.359375 ,   6804.4921875,\n",
        "          6890.625    ,   6976.7578125,   7062.890625 ,   7149.0234375,\n",
        "          7235.15625  ,   7321.2890625,   7407.421875 ,   7493.5546875,\n",
        "          7579.6875   ,   7665.8203125,   7751.953125 ,   7838.0859375,\n",
        "          7924.21875  ,   8010.3515625,   8096.484375 ,   8182.6171875,\n",
        "          8268.75     ,   8354.8828125,   8441.015625 ,   8527.1484375,\n",
        "          8613.28125  ,   8699.4140625,   8785.546875 ,   8871.6796875,\n",
        "          8957.8125   ,   9043.9453125,   9130.078125 ,   9216.2109375,\n",
        "          9302.34375  ,   9388.4765625,   9474.609375 ,   9560.7421875,\n",
        "          9646.875    ,   9733.0078125,   9819.140625 ,   9905.2734375,\n",
        "          9991.40625  ,  10077.5390625,  10163.671875 ,  10249.8046875,\n",
        "         10335.9375   ,  10422.0703125,  10508.203125 ,  10594.3359375,\n",
        "         10680.46875  ,  10766.6015625,  10852.734375 ,  10938.8671875,\n",
        "         11025.       ]),\n",
        " array([  5.80498866e-03,   1.16099773e-02,   1.74149660e-02, ...,\n",
        "          2.99943764e+01,   3.00001814e+01,   3.00059864e+01]),\n",
        " <matplotlib.image.AxesImage at 0x83cfdb0>)"
       ]
      },
      {
       "metadata": {},
       "output_type": "display_data",
       "png": "[encoded data removed]",
       "text": [
        "<matplotlib.figure.Figure at 0x84c5090>"
       ]
      }
     ],
     "prompt_number": 42
    },
    {
     "cell_type": "code",
     "collapsed": false,
     "input": [
      "from IPython.display import Image\n",
      "Image(filename=ML09_DIR+\"specgram.jpg\")"
     ],
     "language": "python",
     "metadata": {},
     "outputs": [
      {
       "jpeg": "[encoded data removed]",
       "metadata": {},
       "output_type": "pyout",
       "prompt_number": 45,
       "text": [
        "<IPython.core.display.Image at 0x6a30550>"
       ]
      }
     ],
     "prompt_number": 45
    },
    {
     "cell_type": "heading",
     "level": 3,
     "metadata": {},
     "source": [
      "classical \uacfc metal \uc740 \uc0c1\ub300\uc801\uc73c\ub85c \ub2e4\ub978 \uc7a5\ub974\ubcf4\ub2e4 \uad6c\ubcc4\uc774 \uc26c\uc6cc\ubcf4\uc778\ub2e4."
     ]
    },
    {
     "cell_type": "heading",
     "level": 3,
     "metadata": {},
     "source": [
      "- \uc74c\uc545\uc744 \uc0ac\uc778 \uace1\uc120 \uc694\uc18c\ub85c \ubd84\ud574\ud558\uae30"
     ]
    },
    {
     "cell_type": "heading",
     "level": 5,
     "metadata": {},
     "source": [
      "\ud478\ub9ac\uc5d0 \uae09\uc218 : \uc77c\uc815 \uc8fc\uae30\ub97c \uac16\ub294 \ud568\uc218\ub97c \uc0ac\uc778\uacfc \ucf54\uc0ac\uc778\uc758 \ud569\uc73c\ub85c \ud45c\ud604"
     ]
    },
    {
     "cell_type": "heading",
     "level": 5,
     "metadata": {},
     "source": [
      "\ud478\ub9ac\uc5d0 \ubcc0\ud658 : \uc8fc\uae30\ud568\uc218 \ub610\ub294 \ube44\uc8fc\uae30\ud568\uc218\uc5d0 \ub300\ud55c \uc5f0\uc18d \uc2dc\uac04 \ub610\ub294 \uacf5\uac04 \ud568\uc218\ub97c \uc5f0\uc18d \uc8fc\ud30c\uc218\uc5d0 \ub300\ud55c \ud568\uc218\ub85c \ubcc0\ud658"
     ]
    },
    {
     "cell_type": "heading",
     "level": 5,
     "metadata": {},
     "source": [
      "\uc774\uc0b0 \ud478\ub9ac\uc5d0 \ubcc0\ud658 : \uc774\uc0b0\uc801\uc778 \uc785\ub825 \uc2e0\ud638\uc5d0 \ub300\ud55c \ud478\ub9ac\uc5d0 \ubcc0\ud658"
     ]
    },
    {
     "cell_type": "heading",
     "level": 5,
     "metadata": {},
     "source": [
      "\uace0\uc18d \ud478\ub9ac\uc5d0 \ubcc0\ud658 : \uc774\uc0b0 \ud478\ub9ac\uc5d0 \ubcc0\ud658\uc744 \ube60\ub974\uac8c \uc218\ud589\ud560 \uc218 \uc788\ub294 \ubcc0\ud658 \ubc29\ubc95"
     ]
    },
    {
     "cell_type": "heading",
     "level": 4,
     "metadata": {},
     "source": [
      "-  \uc6d0\uc2dc \uc0d8\ud50c\uc744 \uc77d\uc5b4\uc640 \uac1c\ubcc4 \uc9c4\ub3d9\uc218 \uac15\ub3c4\ub97c FFT(Fast Fourier Transform)\uc744 \ud1b5\ud574 \ucd94\ucd9c"
     ]
    },
    {
     "cell_type": "code",
     "collapsed": false,
     "input": [
      "import os\n",
      "os.chdir(SOX_DIR)\n",
      "os.system('sox --null -r 22050 '+ML09_DIR+'sine_a.wav synth 0.2 sine 400')\n",
      "os.system('sox --null -r 22050 '+ML09_DIR+'sine_b.wav synth 0.2 sine 3000')"
     ],
     "language": "python",
     "metadata": {},
     "outputs": [
      {
       "metadata": {},
       "output_type": "pyout",
       "prompt_number": 46,
       "text": [
        "0"
       ]
      }
     ],
     "prompt_number": 46
    },
    {
     "cell_type": "code",
     "collapsed": false,
     "input": [
      "os.system('sox --combine mix --volume 1 '+ML09_DIR+'sine_b.wav --volume 0.5 '+ML09_DIR+'sine_a.wav '+ML09_DIR+'sine_mix.wav')"
     ],
     "language": "python",
     "metadata": {},
     "outputs": [
      {
       "metadata": {},
       "output_type": "pyout",
       "prompt_number": 47,
       "text": [
        "0"
       ]
      }
     ],
     "prompt_number": 47
    },
    {
     "cell_type": "code",
     "collapsed": false,
     "input": [
      "import numpy as np\n",
      "import scipy.io.wavfile\n",
      "import matplotlib.pyplot as plt\n",
      "\n",
      "desc=\"400Hz sine wave\"\n",
      "wav_filename=ML09_DIR+\"sine_a.wav\"\n",
      "plt.clf()\n",
      "plt.figure(num=None, figsize=(6, 4))\n",
      "sample_rate, X = scipy.io.wavfile.read(wav_filename)\n",
      "spectrum = np.fft.fft(X)\n",
      "print X.shape, sample_rate\n",
      "freq = np.fft.fftfreq(len(X), 1.0 / sample_rate)\n",
      "print freq, freq.shape\n",
      "plt.subplot(211)\n",
      "num_samples = 200.0\n",
      "plt.xlim(0, num_samples / sample_rate)\n",
      "plt.xlabel(\"time [s]\")\n",
      "plt.title(desc or wav_filename)\n",
      "plt.plot(np.arange(num_samples) / sample_rate, X[:num_samples])\n",
      "plt.grid(True)\n",
      "\n",
      "plt.subplot(212)\n",
      "plt.xlim(0, 5000)\n",
      "plt.xlabel(\"frequency [Hz]\")\n",
      "plt.xticks(np.arange(5) * 1000)\n",
      "if desc:\n",
      "    desc = desc.strip()\n",
      "    fft_desc = desc[0].lower() + desc[1:]\n",
      "else:\n",
      "    fft_desc = wav_filename\n",
      "plt.title(\"FFT of %s\" % fft_desc)\n",
      "print freq, abs(spectrum)\n",
      "plt.plot(freq, abs(spectrum), linewidth=5)\n",
      "plt.grid(True)\n",
      "plt.tight_layout()\n",
      "\n",
      "plt.show()"
     ],
     "language": "python",
     "metadata": {},
     "outputs": [
      {
       "output_type": "stream",
       "stream": "stdout",
       "text": [
        "(4410,) 22050\n",
        "[  0.   5.  10. ..., -15. -10.  -5.] (4410,)\n",
        "[  0.   5.  10. ..., -15. -10.  -5.]"
       ]
      },
      {
       "output_type": "stream",
       "stream": "stdout",
       "text": [
        " [ 16571364.          16571364.68220747  16571366.72815324 ...,\n",
        "  16571370.13589554  16571366.72810019  16571364.68220747]\n"
       ]
      },
      {
       "metadata": {},
       "output_type": "display_data",
       "text": [
        "<matplotlib.figure.Figure at 0x1e5b3990>"
       ]
      },
      {
       "metadata": {},
       "output_type": "display_data",
       "png": "[encoded data removed]",
       "text": [
        "<matplotlib.figure.Figure at 0x1e5b37f0>"
       ]
      }
     ],
     "prompt_number": 58
    },
    {
     "cell_type": "code",
     "collapsed": false,
     "input": [
      "import numpy as np\n",
      "import scipy.io.wavfile\n",
      "import matplotlib.pyplot as plt\n",
      "\n",
      "desc=\"3000Hz sine wave\"\n",
      "wav_filename=ML09_DIR+\"sine_b.wav\"\n",
      "plt.clf()\n",
      "plt.figure(num=None, figsize=(6, 4))\n",
      "sample_rate, X = scipy.io.wavfile.read(wav_filename)\n",
      "spectrum = np.fft.fft(X)\n",
      "freq = np.fft.fftfreq(len(X), 1.0 / sample_rate)\n",
      "plt.subplot(211)\n",
      "num_samples = 200.0\n",
      "plt.xlim(0, num_samples / sample_rate)\n",
      "plt.xlabel(\"time [s]\")\n",
      "plt.title(desc or wav_filename)\n",
      "plt.plot(np.arange(num_samples) / sample_rate, X[:num_samples])\n",
      "plt.grid(True)\n",
      "\n",
      "plt.subplot(212)\n",
      "plt.xlim(0, 5000)\n",
      "plt.xlabel(\"frequency [Hz]\")\n",
      "plt.xticks(np.arange(5) * 1000)\n",
      "if desc:\n",
      "    desc = desc.strip()\n",
      "    fft_desc = desc[0].lower() + desc[1:]\n",
      "else:\n",
      "    fft_desc = wav_filename\n",
      "plt.title(\"FFT of %s\" % fft_desc)\n",
      "plt.plot(freq, abs(spectrum), linewidth=5)\n",
      "plt.grid(True)\n",
      "plt.tight_layout()\n",
      "\n",
      "plt.show()"
     ],
     "language": "python",
     "metadata": {},
     "outputs": [
      {
       "metadata": {},
       "output_type": "display_data",
       "text": [
        "<matplotlib.figure.Figure at 0x6a1fb30>"
       ]
      },
      {
       "metadata": {},
       "output_type": "display_data",
       "png": "[encoded data removed]",
       "text": [
        "<matplotlib.figure.Figure at 0x1e5d7910>"
       ]
      }
     ],
     "prompt_number": 59
    },
    {
     "cell_type": "code",
     "collapsed": false,
     "input": [
      "import numpy as np\n",
      "import scipy.io.wavfile\n",
      "import matplotlib.pyplot as plt\n",
      "\n",
      "desc=\"mixed sine wave\"\n",
      "wav_filename=ML09_DIR+\"sine_mix.wav\"\n",
      "plt.clf()\n",
      "plt.figure(num=None, figsize=(6, 4))\n",
      "sample_rate, X = scipy.io.wavfile.read(wav_filename)\n",
      "spectrum = np.fft.fft(X)\n",
      "freq = np.fft.fftfreq(len(X), 1.0 / sample_rate)\n",
      "plt.subplot(211)\n",
      "num_samples = 200.0\n",
      "plt.xlim(0, num_samples / sample_rate)\n",
      "plt.xlabel(\"time [s]\")\n",
      "plt.title(desc or wav_filename)\n",
      "plt.plot(np.arange(num_samples) / sample_rate, X[:num_samples])\n",
      "plt.grid(True)\n",
      "\n",
      "plt.subplot(212)\n",
      "plt.xlim(0, 5000)\n",
      "plt.xlabel(\"frequency [Hz]\")\n",
      "plt.xticks(np.arange(5) * 1000)\n",
      "if desc:\n",
      "    desc = desc.strip()\n",
      "    fft_desc = desc[0].lower() + desc[1:]\n",
      "else:\n",
      "    fft_desc = wav_filename\n",
      "plt.title(\"FFT of %s\" % fft_desc)\n",
      "plt.plot(freq, abs(spectrum), linewidth=5)\n",
      "plt.grid(True)\n",
      "plt.tight_layout()\n",
      "\n",
      "plt.show()"
     ],
     "language": "python",
     "metadata": {},
     "outputs": [
      {
       "metadata": {},
       "output_type": "display_data",
       "text": [
        "<matplotlib.figure.Figure at 0x1e2ed630>"
       ]
      },
      {
       "metadata": {},
       "output_type": "display_data",
       "png": "[encoded data removed]",
       "text": [
        "<matplotlib.figure.Figure at 0x6ff1950>"
       ]
      }
     ],
     "prompt_number": 60
    },
    {
     "cell_type": "code",
     "collapsed": false,
     "input": [
      "import numpy as np\n",
      "import scipy.io.wavfile\n",
      "import matplotlib.pyplot as plt\n",
      "\n",
      "desc=\"jazz.00007  wave\"\n",
      "wav_filename=GENRE_DIR+\"/jazz/jazz.00007.wav\"\n",
      "plt.clf()\n",
      "plt.figure(num=None, figsize=(6, 4))\n",
      "sample_rate, X = scipy.io.wavfile.read(wav_filename)\n",
      "spectrum = np.fft.fft(X)\n",
      "freq = np.fft.fftfreq(len(X), 1.0 / sample_rate)\n",
      "plt.subplot(211)\n",
      "num_samples = 200.0\n",
      "plt.xlim(0, num_samples / sample_rate)\n",
      "plt.xlabel(\"time [s]\")\n",
      "plt.title(desc or wav_filename)\n",
      "plt.plot(np.arange(num_samples) / sample_rate, X[:num_samples])\n",
      "plt.grid(True)\n",
      "\n",
      "plt.subplot(212)\n",
      "plt.xlim(0, 5000)\n",
      "plt.xlabel(\"frequency [Hz]\")\n",
      "plt.xticks(np.arange(5) * 1000)\n",
      "if desc:\n",
      "    desc = desc.strip()\n",
      "    fft_desc = desc[0].lower() + desc[1:]\n",
      "else:\n",
      "    fft_desc = wav_filename\n",
      "plt.title(\"FFT of %s\" % fft_desc)\n",
      "plt.plot(freq, abs(spectrum), linewidth=5)\n",
      "plt.grid(True)\n",
      "plt.tight_layout()\n",
      "\n",
      "plt.show()"
     ],
     "language": "python",
     "metadata": {},
     "outputs": [
      {
       "metadata": {},
       "output_type": "display_data",
       "text": [
        "<matplotlib.figure.Figure at 0x8a26f10>"
       ]
      },
      {
       "metadata": {},
       "output_type": "display_data",
       "png": "[encoded data removed]",
       "text": [
        "<matplotlib.figure.Figure at 0x1e492ff0>"
       ]
      }
     ],
     "prompt_number": 62
    },
    {
     "cell_type": "heading",
     "level": 2,
     "metadata": {},
     "source": [
      "\u25a0 FFT\ub97c \uc0ac\uc6a9\ud574 \uccab \ubc88\uc9f8 \ubd84\ub958\uae30 \ub9cc\ub4e4\uae30"
     ]
    },
    {
     "cell_type": "heading",
     "level": 3,
     "metadata": {},
     "source": [
      "wav \ud30c\uc77c \ub300\uc2e0 fft \uc694\uc18c\uc758 feature \uc0dd\uc131"
     ]
    },
    {
     "cell_type": "code",
     "collapsed": false,
     "input": [
      "import sys\n",
      "import os\n",
      "import glob\n",
      "\n",
      "import numpy as np\n",
      "import scipy\n",
      "import scipy.io.wavfile\n",
      "\n",
      "def write_fft(fft_features, fn):\n",
      "    \"\"\"\n",
      "    Write the FFT features to separate files to speed up processing.\n",
      "    \"\"\"\n",
      "    base_fn, ext = os.path.splitext(fn)\n",
      "    #print  base_fn, ext\n",
      "    data_fn = base_fn + \".fft\"\n",
      "    #print  data_fn\n",
      "    np.save(data_fn, fft_features)\n",
      "    print(\"Written %s\" %data_fn)\n",
      "\n",
      "\n",
      "def create_fft(fn):\n",
      "    sample_rate, X = scipy.io.wavfile.read(fn)\n",
      "\n",
      "    fft_features = abs(scipy.fft(X)[:1000])\n",
      "    write_fft(fft_features, fn)\n",
      "\n",
      "genre_list = [\"classical\", \"jazz\", \"country\", \"pop\", \"rock\", \"metal\"]\n",
      "for genre in genre_list:\n",
      "    for fn in glob.glob(os.path.join(GENRE_DIR+genre, \"*.wav\")):\n",
      "        create_fft(fn)"
     ],
     "language": "python",
     "metadata": {},
     "outputs": [
      {
       "output_type": "stream",
       "stream": "stdout",
       "text": [
        "Written D:/ml/genres/classical\\classical.00000.fft\n",
        "Written D:/ml/genres/classical\\classical.00001.fft"
       ]
      },
      {
       "output_type": "stream",
       "stream": "stdout",
       "text": [
        "\n",
        "Written D:/ml/genres/classical\\classical.00002.fft"
       ]
      },
      {
       "output_type": "stream",
       "stream": "stdout",
       "text": [
        "\n",
        "Written D:/ml/genres/classical\\classical.00003.fft"
       ]
      },
      {
       "output_type": "stream",
       "stream": "stdout",
       "text": [
        "\n",
        "Written D:/ml/genres/classical\\classical.00004.fft"
       ]
      },
      {
       "output_type": "stream",
       "stream": "stdout",
       "text": [
        "\n",
        "Written D:/ml/genres/classical\\classical.00005.fft"
       ]
      },
      {
       "output_type": "stream",
       "stream": "stdout",
       "text": [
        "\n",
        "Written D:/ml/genres/classical\\classical.00006.fft"
       ]
      },
      {
       "output_type": "stream",
       "stream": "stdout",
       "text": [
        "\n",
        "Written D:/ml/genres/classical\\classical.00007.fft"
       ]
      },
      {
       "output_type": "stream",
       "stream": "stdout",
       "text": [
        "\n",
        "Written D:/ml/genres/classical\\classical.00008.fft"
       ]
      },
      {
       "output_type": "stream",
       "stream": "stdout",
       "text": [
        "\n",
        "Written D:/ml/genres/classical\\classical.00009.fft"
       ]
      },
      {
       "output_type": "stream",
       "stream": "stdout",
       "text": [
        "\n",
        "Written D:/ml/genres/classical\\classical.00010.fft"
       ]
      },
      {
       "output_type": "stream",
       "stream": "stdout",
       "text": [
        "\n",
        "Written D:/ml/genres/classical\\classical.00011.fft"
       ]
      },
      {
       "output_type": "stream",
       "stream": "stdout",
       "text": [
        "\n",
        "Written D:/ml/genres/classical\\classical.00012.fft"
       ]
      },
      {
       "output_type": "stream",
       "stream": "stdout",
       "text": [
        "\n",
        "Written D:/ml/genres/classical\\classical.00013.fft"
       ]
      },
      {
       "output_type": "stream",
       "stream": "stdout",
       "text": [
        "\n",
        "Written D:/ml/genres/classical\\classical.00014.fft"
       ]
      },
      {
       "output_type": "stream",
       "stream": "stdout",
       "text": [
        "\n",
        "Written D:/ml/genres/classical\\classical.00015.fft"
       ]
      },
      {
       "output_type": "stream",
       "stream": "stdout",
       "text": [
        "\n",
        "Written D:/ml/genres/classical\\classical.00016.fft"
       ]
      },
      {
       "output_type": "stream",
       "stream": "stdout",
       "text": [
        "\n",
        "Written D:/ml/genres/classical\\classical.00017.fft"
       ]
      },
      {
       "output_type": "stream",
       "stream": "stdout",
       "text": [
        "\n",
        "Written D:/ml/genres/classical\\classical.00018.fft"
       ]
      },
      {
       "output_type": "stream",
       "stream": "stdout",
       "text": [
        "\n",
        "Written D:/ml/genres/classical\\classical.00019.fft"
       ]
      },
      {
       "output_type": "stream",
       "stream": "stdout",
       "text": [
        "\n",
        "Written D:/ml/genres/classical\\classical.00020.fft"
       ]
      },
      {
       "output_type": "stream",
       "stream": "stdout",
       "text": [
        "\n",
        "Written D:/ml/genres/classical\\classical.00021.fft"
       ]
      },
      {
       "output_type": "stream",
       "stream": "stdout",
       "text": [
        "\n",
        "Written D:/ml/genres/classical\\classical.00022.fft"
       ]
      },
      {
       "output_type": "stream",
       "stream": "stdout",
       "text": [
        "\n",
        "Written D:/ml/genres/classical\\classical.00023.fft"
       ]
      },
      {
       "output_type": "stream",
       "stream": "stdout",
       "text": [
        "\n",
        "Written D:/ml/genres/classical\\classical.00024.fft"
       ]
      },
      {
       "output_type": "stream",
       "stream": "stdout",
       "text": [
        "\n",
        "Written D:/ml/genres/classical\\classical.00025.fft"
       ]
      },
      {
       "output_type": "stream",
       "stream": "stdout",
       "text": [
        "\n",
        "Written D:/ml/genres/classical\\classical.00026.fft"
       ]
      },
      {
       "output_type": "stream",
       "stream": "stdout",
       "text": [
        "\n",
        "Written D:/ml/genres/classical\\classical.00027.fft"
       ]
      },
      {
       "output_type": "stream",
       "stream": "stdout",
       "text": [
        "\n",
        "Written D:/ml/genres/classical\\classical.00028.fft"
       ]
      },
      {
       "output_type": "stream",
       "stream": "stdout",
       "text": [
        "\n",
        "Written D:/ml/genres/classical\\classical.00029.fft"
       ]
      },
      {
       "output_type": "stream",
       "stream": "stdout",
       "text": [
        "\n",
        "Written D:/ml/genres/classical\\classical.00030.fft"
       ]
      },
      {
       "output_type": "stream",
       "stream": "stdout",
       "text": [
        "\n",
        "Written D:/ml/genres/classical\\classical.00031.fft"
       ]
      },
      {
       "output_type": "stream",
       "stream": "stdout",
       "text": [
        "\n",
        "Written D:/ml/genres/classical\\classical.00032.fft"
       ]
      },
      {
       "output_type": "stream",
       "stream": "stdout",
       "text": [
        "\n",
        "Written D:/ml/genres/classical\\classical.00033.fft"
       ]
      },
      {
       "output_type": "stream",
       "stream": "stdout",
       "text": [
        "\n",
        "Written D:/ml/genres/classical\\classical.00034.fft"
       ]
      },
      {
       "output_type": "stream",
       "stream": "stdout",
       "text": [
        "\n",
        "Written D:/ml/genres/classical\\classical.00035.fft"
       ]
      },
      {
       "output_type": "stream",
       "stream": "stdout",
       "text": [
        "\n",
        "Written D:/ml/genres/classical\\classical.00036.fft"
       ]
      },
      {
       "output_type": "stream",
       "stream": "stdout",
       "text": [
        "\n",
        "Written D:/ml/genres/classical\\classical.00037.fft"
       ]
      },
      {
       "output_type": "stream",
       "stream": "stdout",
       "text": [
        "\n",
        "Written D:/ml/genres/classical\\classical.00038.fft"
       ]
      },
      {
       "output_type": "stream",
       "stream": "stdout",
       "text": [
        "\n",
        "Written D:/ml/genres/classical\\classical.00039.fft"
       ]
      },
      {
       "output_type": "stream",
       "stream": "stdout",
       "text": [
        "\n",
        "Written D:/ml/genres/classical\\classical.00040.fft"
       ]
      },
      {
       "output_type": "stream",
       "stream": "stdout",
       "text": [
        "\n",
        "Written D:/ml/genres/classical\\classical.00041.fft"
       ]
      },
      {
       "output_type": "stream",
       "stream": "stdout",
       "text": [
        "\n",
        "Written D:/ml/genres/classical\\classical.00042.fft"
       ]
      },
      {
       "output_type": "stream",
       "stream": "stdout",
       "text": [
        "\n",
        "Written D:/ml/genres/classical\\classical.00043.fft"
       ]
      },
      {
       "output_type": "stream",
       "stream": "stdout",
       "text": [
        "\n",
        "Written D:/ml/genres/classical\\classical.00044.fft"
       ]
      },
      {
       "output_type": "stream",
       "stream": "stdout",
       "text": [
        "\n",
        "Written D:/ml/genres/classical\\classical.00045.fft"
       ]
      },
      {
       "output_type": "stream",
       "stream": "stdout",
       "text": [
        "\n",
        "Written D:/ml/genres/classical\\classical.00046.fft"
       ]
      },
      {
       "output_type": "stream",
       "stream": "stdout",
       "text": [
        "\n",
        "Written D:/ml/genres/classical\\classical.00047.fft"
       ]
      },
      {
       "output_type": "stream",
       "stream": "stdout",
       "text": [
        "\n",
        "Written D:/ml/genres/classical\\classical.00048.fft"
       ]
      },
      {
       "output_type": "stream",
       "stream": "stdout",
       "text": [
        "\n",
        "Written D:/ml/genres/classical\\classical.00049.fft"
       ]
      },
      {
       "output_type": "stream",
       "stream": "stdout",
       "text": [
        "\n",
        "Written D:/ml/genres/classical\\classical.00050.fft"
       ]
      },
      {
       "output_type": "stream",
       "stream": "stdout",
       "text": [
        "\n",
        "Written D:/ml/genres/classical\\classical.00051.fft"
       ]
      },
      {
       "output_type": "stream",
       "stream": "stdout",
       "text": [
        "\n",
        "Written D:/ml/genres/classical\\classical.00052.fft"
       ]
      },
      {
       "output_type": "stream",
       "stream": "stdout",
       "text": [
        "\n",
        "Written D:/ml/genres/classical\\classical.00053.fft"
       ]
      },
      {
       "output_type": "stream",
       "stream": "stdout",
       "text": [
        "\n",
        "Written D:/ml/genres/classical\\classical.00054.fft"
       ]
      },
      {
       "output_type": "stream",
       "stream": "stdout",
       "text": [
        "\n",
        "Written D:/ml/genres/classical\\classical.00055.fft"
       ]
      },
      {
       "output_type": "stream",
       "stream": "stdout",
       "text": [
        "\n",
        "Written D:/ml/genres/classical\\classical.00056.fft"
       ]
      },
      {
       "output_type": "stream",
       "stream": "stdout",
       "text": [
        "\n",
        "Written D:/ml/genres/classical\\classical.00057.fft"
       ]
      },
      {
       "output_type": "stream",
       "stream": "stdout",
       "text": [
        "\n",
        "Written D:/ml/genres/classical\\classical.00058.fft"
       ]
      },
      {
       "output_type": "stream",
       "stream": "stdout",
       "text": [
        "\n",
        "Written D:/ml/genres/classical\\classical.00059.fft"
       ]
      },
      {
       "output_type": "stream",
       "stream": "stdout",
       "text": [
        "\n",
        "Written D:/ml/genres/classical\\classical.00060.fft"
       ]
      },
      {
       "output_type": "stream",
       "stream": "stdout",
       "text": [
        "\n",
        "Written D:/ml/genres/classical\\classical.00061.fft"
       ]
      },
      {
       "output_type": "stream",
       "stream": "stdout",
       "text": [
        "\n",
        "Written D:/ml/genres/classical\\classical.00062.fft"
       ]
      },
      {
       "output_type": "stream",
       "stream": "stdout",
       "text": [
        "\n",
        "Written D:/ml/genres/classical\\classical.00063.fft"
       ]
      },
      {
       "output_type": "stream",
       "stream": "stdout",
       "text": [
        "\n",
        "Written D:/ml/genres/classical\\classical.00064.fft"
       ]
      },
      {
       "output_type": "stream",
       "stream": "stdout",
       "text": [
        "\n",
        "Written D:/ml/genres/classical\\classical.00065.fft"
       ]
      },
      {
       "output_type": "stream",
       "stream": "stdout",
       "text": [
        "\n",
        "Written D:/ml/genres/classical\\classical.00066.fft"
       ]
      },
      {
       "output_type": "stream",
       "stream": "stdout",
       "text": [
        "\n",
        "Written D:/ml/genres/classical\\classical.00067.fft"
       ]
      },
      {
       "output_type": "stream",
       "stream": "stdout",
       "text": [
        "\n",
        "Written D:/ml/genres/classical\\classical.00068.fft"
       ]
      },
      {
       "output_type": "stream",
       "stream": "stdout",
       "text": [
        "\n",
        "Written D:/ml/genres/classical\\classical.00069.fft"
       ]
      },
      {
       "output_type": "stream",
       "stream": "stdout",
       "text": [
        "\n",
        "Written D:/ml/genres/classical\\classical.00070.fft"
       ]
      },
      {
       "output_type": "stream",
       "stream": "stdout",
       "text": [
        "\n",
        "Written D:/ml/genres/classical\\classical.00071.fft"
       ]
      },
      {
       "output_type": "stream",
       "stream": "stdout",
       "text": [
        "\n",
        "Written D:/ml/genres/classical\\classical.00072.fft"
       ]
      },
      {
       "output_type": "stream",
       "stream": "stdout",
       "text": [
        "\n",
        "Written D:/ml/genres/classical\\classical.00073.fft"
       ]
      },
      {
       "output_type": "stream",
       "stream": "stdout",
       "text": [
        "\n",
        "Written D:/ml/genres/classical\\classical.00074.fft"
       ]
      },
      {
       "output_type": "stream",
       "stream": "stdout",
       "text": [
        "\n",
        "Written D:/ml/genres/classical\\classical.00075.fft"
       ]
      },
      {
       "output_type": "stream",
       "stream": "stdout",
       "text": [
        "\n",
        "Written D:/ml/genres/classical\\classical.00076.fft"
       ]
      },
      {
       "output_type": "stream",
       "stream": "stdout",
       "text": [
        "\n",
        "Written D:/ml/genres/classical\\classical.00077.fft"
       ]
      },
      {
       "output_type": "stream",
       "stream": "stdout",
       "text": [
        "\n",
        "Written D:/ml/genres/classical\\classical.00078.fft"
       ]
      },
      {
       "output_type": "stream",
       "stream": "stdout",
       "text": [
        "\n",
        "Written D:/ml/genres/classical\\classical.00079.fft"
       ]
      },
      {
       "output_type": "stream",
       "stream": "stdout",
       "text": [
        "\n",
        "Written D:/ml/genres/classical\\classical.00080.fft"
       ]
      },
      {
       "output_type": "stream",
       "stream": "stdout",
       "text": [
        "\n",
        "Written D:/ml/genres/classical\\classical.00081.fft"
       ]
      },
      {
       "output_type": "stream",
       "stream": "stdout",
       "text": [
        "\n",
        "Written D:/ml/genres/classical\\classical.00082.fft"
       ]
      },
      {
       "output_type": "stream",
       "stream": "stdout",
       "text": [
        "\n",
        "Written D:/ml/genres/classical\\classical.00083.fft"
       ]
      },
      {
       "output_type": "stream",
       "stream": "stdout",
       "text": [
        "\n",
        "Written D:/ml/genres/classical\\classical.00084.fft"
       ]
      },
      {
       "output_type": "stream",
       "stream": "stdout",
       "text": [
        "\n",
        "Written D:/ml/genres/classical\\classical.00085.fft"
       ]
      },
      {
       "output_type": "stream",
       "stream": "stdout",
       "text": [
        "\n",
        "Written D:/ml/genres/classical\\classical.00086.fft"
       ]
      },
      {
       "output_type": "stream",
       "stream": "stdout",
       "text": [
        "\n",
        "Written D:/ml/genres/classical\\classical.00087.fft"
       ]
      },
      {
       "output_type": "stream",
       "stream": "stdout",
       "text": [
        "\n",
        "Written D:/ml/genres/classical\\classical.00088.fft"
       ]
      },
      {
       "output_type": "stream",
       "stream": "stdout",
       "text": [
        "\n",
        "Written D:/ml/genres/classical\\classical.00089.fft"
       ]
      },
      {
       "output_type": "stream",
       "stream": "stdout",
       "text": [
        "\n",
        "Written D:/ml/genres/classical\\classical.00090.fft"
       ]
      },
      {
       "output_type": "stream",
       "stream": "stdout",
       "text": [
        "\n",
        "Written D:/ml/genres/classical\\classical.00091.fft"
       ]
      },
      {
       "output_type": "stream",
       "stream": "stdout",
       "text": [
        "\n",
        "Written D:/ml/genres/classical\\classical.00092.fft"
       ]
      },
      {
       "output_type": "stream",
       "stream": "stdout",
       "text": [
        "\n",
        "Written D:/ml/genres/classical\\classical.00093.fft"
       ]
      },
      {
       "output_type": "stream",
       "stream": "stdout",
       "text": [
        "\n",
        "Written D:/ml/genres/classical\\classical.00094.fft"
       ]
      },
      {
       "output_type": "stream",
       "stream": "stdout",
       "text": [
        "\n",
        "Written D:/ml/genres/classical\\classical.00095.fft"
       ]
      },
      {
       "output_type": "stream",
       "stream": "stdout",
       "text": [
        "\n",
        "Written D:/ml/genres/classical\\classical.00096.fft"
       ]
      },
      {
       "output_type": "stream",
       "stream": "stdout",
       "text": [
        "\n",
        "Written D:/ml/genres/classical\\classical.00097.fft"
       ]
      },
      {
       "output_type": "stream",
       "stream": "stdout",
       "text": [
        "\n",
        "Written D:/ml/genres/classical\\classical.00098.fft"
       ]
      },
      {
       "output_type": "stream",
       "stream": "stdout",
       "text": [
        "\n",
        "Written D:/ml/genres/classical\\classical.00099.fft"
       ]
      },
      {
       "output_type": "stream",
       "stream": "stdout",
       "text": [
        "\n",
        "Written D:/ml/genres/jazz\\jazz.00000.fft"
       ]
      },
      {
       "output_type": "stream",
       "stream": "stdout",
       "text": [
        "\n",
        "Written D:/ml/genres/jazz\\jazz.00001.fft"
       ]
      },
      {
       "output_type": "stream",
       "stream": "stdout",
       "text": [
        "\n",
        "Written D:/ml/genres/jazz\\jazz.00002.fft"
       ]
      },
      {
       "output_type": "stream",
       "stream": "stdout",
       "text": [
        "\n",
        "Written D:/ml/genres/jazz\\jazz.00003.fft"
       ]
      },
      {
       "output_type": "stream",
       "stream": "stdout",
       "text": [
        "\n",
        "Written D:/ml/genres/jazz\\jazz.00004.fft"
       ]
      },
      {
       "output_type": "stream",
       "stream": "stdout",
       "text": [
        "\n",
        "Written D:/ml/genres/jazz\\jazz.00005.fft"
       ]
      },
      {
       "output_type": "stream",
       "stream": "stdout",
       "text": [
        "\n",
        "Written D:/ml/genres/jazz\\jazz.00006.fft"
       ]
      },
      {
       "output_type": "stream",
       "stream": "stdout",
       "text": [
        "\n",
        "Written D:/ml/genres/jazz\\jazz.00007.fft"
       ]
      },
      {
       "output_type": "stream",
       "stream": "stdout",
       "text": [
        "\n",
        "Written D:/ml/genres/jazz\\jazz.00008.fft"
       ]
      },
      {
       "output_type": "stream",
       "stream": "stdout",
       "text": [
        "\n",
        "Written D:/ml/genres/jazz\\jazz.00009.fft"
       ]
      },
      {
       "output_type": "stream",
       "stream": "stdout",
       "text": [
        "\n",
        "Written D:/ml/genres/jazz\\jazz.00010.fft"
       ]
      },
      {
       "output_type": "stream",
       "stream": "stdout",
       "text": [
        "\n",
        "Written D:/ml/genres/jazz\\jazz.00011.fft"
       ]
      },
      {
       "output_type": "stream",
       "stream": "stdout",
       "text": [
        "\n",
        "Written D:/ml/genres/jazz\\jazz.00012.fft"
       ]
      },
      {
       "output_type": "stream",
       "stream": "stdout",
       "text": [
        "\n",
        "Written D:/ml/genres/jazz\\jazz.00013.fft"
       ]
      },
      {
       "output_type": "stream",
       "stream": "stdout",
       "text": [
        "\n",
        "Written D:/ml/genres/jazz\\jazz.00014.fft"
       ]
      },
      {
       "output_type": "stream",
       "stream": "stdout",
       "text": [
        "\n",
        "Written D:/ml/genres/jazz\\jazz.00015.fft"
       ]
      },
      {
       "output_type": "stream",
       "stream": "stdout",
       "text": [
        "\n",
        "Written D:/ml/genres/jazz\\jazz.00016.fft"
       ]
      },
      {
       "output_type": "stream",
       "stream": "stdout",
       "text": [
        "\n",
        "Written D:/ml/genres/jazz\\jazz.00017.fft"
       ]
      },
      {
       "output_type": "stream",
       "stream": "stdout",
       "text": [
        "\n",
        "Written D:/ml/genres/jazz\\jazz.00018.fft"
       ]
      },
      {
       "output_type": "stream",
       "stream": "stdout",
       "text": [
        "\n",
        "Written D:/ml/genres/jazz\\jazz.00019.fft"
       ]
      },
      {
       "output_type": "stream",
       "stream": "stdout",
       "text": [
        "\n",
        "Written D:/ml/genres/jazz\\jazz.00020.fft"
       ]
      },
      {
       "output_type": "stream",
       "stream": "stdout",
       "text": [
        "\n",
        "Written D:/ml/genres/jazz\\jazz.00021.fft"
       ]
      },
      {
       "output_type": "stream",
       "stream": "stdout",
       "text": [
        "\n",
        "Written D:/ml/genres/jazz\\jazz.00022.fft"
       ]
      },
      {
       "output_type": "stream",
       "stream": "stdout",
       "text": [
        "\n",
        "Written D:/ml/genres/jazz\\jazz.00023.fft"
       ]
      },
      {
       "output_type": "stream",
       "stream": "stdout",
       "text": [
        "\n",
        "Written D:/ml/genres/jazz\\jazz.00024.fft"
       ]
      },
      {
       "output_type": "stream",
       "stream": "stdout",
       "text": [
        "\n",
        "Written D:/ml/genres/jazz\\jazz.00025.fft"
       ]
      },
      {
       "output_type": "stream",
       "stream": "stdout",
       "text": [
        "\n",
        "Written D:/ml/genres/jazz\\jazz.00026.fft"
       ]
      },
      {
       "output_type": "stream",
       "stream": "stdout",
       "text": [
        "\n",
        "Written D:/ml/genres/jazz\\jazz.00027.fft"
       ]
      },
      {
       "output_type": "stream",
       "stream": "stdout",
       "text": [
        "\n",
        "Written D:/ml/genres/jazz\\jazz.00028.fft"
       ]
      },
      {
       "output_type": "stream",
       "stream": "stdout",
       "text": [
        "\n",
        "Written D:/ml/genres/jazz\\jazz.00029.fft"
       ]
      },
      {
       "output_type": "stream",
       "stream": "stdout",
       "text": [
        "\n",
        "Written D:/ml/genres/jazz\\jazz.00030.fft"
       ]
      },
      {
       "output_type": "stream",
       "stream": "stdout",
       "text": [
        "\n",
        "Written D:/ml/genres/jazz\\jazz.00031.fft"
       ]
      },
      {
       "output_type": "stream",
       "stream": "stdout",
       "text": [
        "\n",
        "Written D:/ml/genres/jazz\\jazz.00032.fft"
       ]
      },
      {
       "output_type": "stream",
       "stream": "stdout",
       "text": [
        "\n",
        "Written D:/ml/genres/jazz\\jazz.00033.fft"
       ]
      },
      {
       "output_type": "stream",
       "stream": "stdout",
       "text": [
        "\n",
        "Written D:/ml/genres/jazz\\jazz.00034.fft"
       ]
      },
      {
       "output_type": "stream",
       "stream": "stdout",
       "text": [
        "\n",
        "Written D:/ml/genres/jazz\\jazz.00035.fft"
       ]
      },
      {
       "output_type": "stream",
       "stream": "stdout",
       "text": [
        "\n",
        "Written D:/ml/genres/jazz\\jazz.00036.fft"
       ]
      },
      {
       "output_type": "stream",
       "stream": "stdout",
       "text": [
        "\n",
        "Written D:/ml/genres/jazz\\jazz.00037.fft"
       ]
      },
      {
       "output_type": "stream",
       "stream": "stdout",
       "text": [
        "\n",
        "Written D:/ml/genres/jazz\\jazz.00038.fft"
       ]
      },
      {
       "output_type": "stream",
       "stream": "stdout",
       "text": [
        "\n",
        "Written D:/ml/genres/jazz\\jazz.00039.fft"
       ]
      },
      {
       "output_type": "stream",
       "stream": "stdout",
       "text": [
        "\n",
        "Written D:/ml/genres/jazz\\jazz.00040.fft"
       ]
      },
      {
       "output_type": "stream",
       "stream": "stdout",
       "text": [
        "\n",
        "Written D:/ml/genres/jazz\\jazz.00041.fft"
       ]
      },
      {
       "output_type": "stream",
       "stream": "stdout",
       "text": [
        "\n",
        "Written D:/ml/genres/jazz\\jazz.00042.fft"
       ]
      },
      {
       "output_type": "stream",
       "stream": "stdout",
       "text": [
        "\n",
        "Written D:/ml/genres/jazz\\jazz.00043.fft"
       ]
      },
      {
       "output_type": "stream",
       "stream": "stdout",
       "text": [
        "\n",
        "Written D:/ml/genres/jazz\\jazz.00044.fft"
       ]
      },
      {
       "output_type": "stream",
       "stream": "stdout",
       "text": [
        "\n",
        "Written D:/ml/genres/jazz\\jazz.00045.fft"
       ]
      },
      {
       "output_type": "stream",
       "stream": "stdout",
       "text": [
        "\n",
        "Written D:/ml/genres/jazz\\jazz.00046.fft"
       ]
      },
      {
       "output_type": "stream",
       "stream": "stdout",
       "text": [
        "\n",
        "Written D:/ml/genres/jazz\\jazz.00047.fft"
       ]
      },
      {
       "output_type": "stream",
       "stream": "stdout",
       "text": [
        "\n",
        "Written D:/ml/genres/jazz\\jazz.00048.fft"
       ]
      },
      {
       "output_type": "stream",
       "stream": "stdout",
       "text": [
        "\n",
        "Written D:/ml/genres/jazz\\jazz.00049.fft"
       ]
      },
      {
       "output_type": "stream",
       "stream": "stdout",
       "text": [
        "\n",
        "Written D:/ml/genres/jazz\\jazz.00050.fft"
       ]
      },
      {
       "output_type": "stream",
       "stream": "stdout",
       "text": [
        "\n",
        "Written D:/ml/genres/jazz\\jazz.00051.fft"
       ]
      },
      {
       "output_type": "stream",
       "stream": "stdout",
       "text": [
        "\n",
        "Written D:/ml/genres/jazz\\jazz.00052.fft"
       ]
      },
      {
       "output_type": "stream",
       "stream": "stdout",
       "text": [
        "\n",
        "Written D:/ml/genres/jazz\\jazz.00053.fft"
       ]
      },
      {
       "output_type": "stream",
       "stream": "stdout",
       "text": [
        "\n",
        "Written D:/ml/genres/jazz\\jazz.00054.fft"
       ]
      },
      {
       "output_type": "stream",
       "stream": "stdout",
       "text": [
        "\n",
        "Written D:/ml/genres/jazz\\jazz.00055.fft"
       ]
      },
      {
       "output_type": "stream",
       "stream": "stdout",
       "text": [
        "\n",
        "Written D:/ml/genres/jazz\\jazz.00056.fft"
       ]
      },
      {
       "output_type": "stream",
       "stream": "stdout",
       "text": [
        "\n",
        "Written D:/ml/genres/jazz\\jazz.00057.fft"
       ]
      },
      {
       "output_type": "stream",
       "stream": "stdout",
       "text": [
        "\n",
        "Written D:/ml/genres/jazz\\jazz.00058.fft"
       ]
      },
      {
       "output_type": "stream",
       "stream": "stdout",
       "text": [
        "\n",
        "Written D:/ml/genres/jazz\\jazz.00059.fft"
       ]
      },
      {
       "output_type": "stream",
       "stream": "stdout",
       "text": [
        "\n",
        "Written D:/ml/genres/jazz\\jazz.00060.fft"
       ]
      },
      {
       "output_type": "stream",
       "stream": "stdout",
       "text": [
        "\n",
        "Written D:/ml/genres/jazz\\jazz.00061.fft"
       ]
      },
      {
       "output_type": "stream",
       "stream": "stdout",
       "text": [
        "\n",
        "Written D:/ml/genres/jazz\\jazz.00062.fft"
       ]
      },
      {
       "output_type": "stream",
       "stream": "stdout",
       "text": [
        "\n",
        "Written D:/ml/genres/jazz\\jazz.00063.fft"
       ]
      },
      {
       "output_type": "stream",
       "stream": "stdout",
       "text": [
        "\n",
        "Written D:/ml/genres/jazz\\jazz.00064.fft"
       ]
      },
      {
       "output_type": "stream",
       "stream": "stdout",
       "text": [
        "\n",
        "Written D:/ml/genres/jazz\\jazz.00065.fft"
       ]
      },
      {
       "output_type": "stream",
       "stream": "stdout",
       "text": [
        "\n",
        "Written D:/ml/genres/jazz\\jazz.00066.fft"
       ]
      },
      {
       "output_type": "stream",
       "stream": "stdout",
       "text": [
        "\n",
        "Written D:/ml/genres/jazz\\jazz.00067.fft"
       ]
      },
      {
       "output_type": "stream",
       "stream": "stdout",
       "text": [
        "\n",
        "Written D:/ml/genres/jazz\\jazz.00068.fft"
       ]
      },
      {
       "output_type": "stream",
       "stream": "stdout",
       "text": [
        "\n",
        "Written D:/ml/genres/jazz\\jazz.00069.fft"
       ]
      },
      {
       "output_type": "stream",
       "stream": "stdout",
       "text": [
        "\n",
        "Written D:/ml/genres/jazz\\jazz.00070.fft"
       ]
      },
      {
       "output_type": "stream",
       "stream": "stdout",
       "text": [
        "\n",
        "Written D:/ml/genres/jazz\\jazz.00071.fft"
       ]
      },
      {
       "output_type": "stream",
       "stream": "stdout",
       "text": [
        "\n",
        "Written D:/ml/genres/jazz\\jazz.00072.fft"
       ]
      },
      {
       "output_type": "stream",
       "stream": "stdout",
       "text": [
        "\n",
        "Written D:/ml/genres/jazz\\jazz.00073.fft"
       ]
      },
      {
       "output_type": "stream",
       "stream": "stdout",
       "text": [
        "\n",
        "Written D:/ml/genres/jazz\\jazz.00074.fft"
       ]
      },
      {
       "output_type": "stream",
       "stream": "stdout",
       "text": [
        "\n",
        "Written D:/ml/genres/jazz\\jazz.00075.fft"
       ]
      },
      {
       "output_type": "stream",
       "stream": "stdout",
       "text": [
        "\n",
        "Written D:/ml/genres/jazz\\jazz.00076.fft"
       ]
      },
      {
       "output_type": "stream",
       "stream": "stdout",
       "text": [
        "\n",
        "Written D:/ml/genres/jazz\\jazz.00077.fft"
       ]
      },
      {
       "output_type": "stream",
       "stream": "stdout",
       "text": [
        "\n",
        "Written D:/ml/genres/jazz\\jazz.00078.fft"
       ]
      },
      {
       "output_type": "stream",
       "stream": "stdout",
       "text": [
        "\n",
        "Written D:/ml/genres/jazz\\jazz.00079.fft"
       ]
      },
      {
       "output_type": "stream",
       "stream": "stdout",
       "text": [
        "\n",
        "Written D:/ml/genres/jazz\\jazz.00080.fft"
       ]
      },
      {
       "output_type": "stream",
       "stream": "stdout",
       "text": [
        "\n",
        "Written D:/ml/genres/jazz\\jazz.00081.fft"
       ]
      },
      {
       "output_type": "stream",
       "stream": "stdout",
       "text": [
        "\n",
        "Written D:/ml/genres/jazz\\jazz.00082.fft"
       ]
      },
      {
       "output_type": "stream",
       "stream": "stdout",
       "text": [
        "\n",
        "Written D:/ml/genres/jazz\\jazz.00083.fft"
       ]
      },
      {
       "output_type": "stream",
       "stream": "stdout",
       "text": [
        "\n",
        "Written D:/ml/genres/jazz\\jazz.00084.fft"
       ]
      },
      {
       "output_type": "stream",
       "stream": "stdout",
       "text": [
        "\n",
        "Written D:/ml/genres/jazz\\jazz.00085.fft"
       ]
      },
      {
       "output_type": "stream",
       "stream": "stdout",
       "text": [
        "\n",
        "Written D:/ml/genres/jazz\\jazz.00086.fft"
       ]
      },
      {
       "output_type": "stream",
       "stream": "stdout",
       "text": [
        "\n",
        "Written D:/ml/genres/jazz\\jazz.00087.fft"
       ]
      },
      {
       "output_type": "stream",
       "stream": "stdout",
       "text": [
        "\n",
        "Written D:/ml/genres/jazz\\jazz.00088.fft"
       ]
      },
      {
       "output_type": "stream",
       "stream": "stdout",
       "text": [
        "\n",
        "Written D:/ml/genres/jazz\\jazz.00089.fft"
       ]
      },
      {
       "output_type": "stream",
       "stream": "stdout",
       "text": [
        "\n",
        "Written D:/ml/genres/jazz\\jazz.00090.fft"
       ]
      },
      {
       "output_type": "stream",
       "stream": "stdout",
       "text": [
        "\n",
        "Written D:/ml/genres/jazz\\jazz.00091.fft"
       ]
      },
      {
       "output_type": "stream",
       "stream": "stdout",
       "text": [
        "\n",
        "Written D:/ml/genres/jazz\\jazz.00092.fft"
       ]
      },
      {
       "output_type": "stream",
       "stream": "stdout",
       "text": [
        "\n",
        "Written D:/ml/genres/jazz\\jazz.00093.fft"
       ]
      },
      {
       "output_type": "stream",
       "stream": "stdout",
       "text": [
        "\n",
        "Written D:/ml/genres/jazz\\jazz.00094.fft"
       ]
      },
      {
       "output_type": "stream",
       "stream": "stdout",
       "text": [
        "\n",
        "Written D:/ml/genres/jazz\\jazz.00095.fft"
       ]
      },
      {
       "output_type": "stream",
       "stream": "stdout",
       "text": [
        "\n",
        "Written D:/ml/genres/jazz\\jazz.00096.fft"
       ]
      },
      {
       "output_type": "stream",
       "stream": "stdout",
       "text": [
        "\n",
        "Written D:/ml/genres/jazz\\jazz.00097.fft"
       ]
      },
      {
       "output_type": "stream",
       "stream": "stdout",
       "text": [
        "\n",
        "Written D:/ml/genres/jazz\\jazz.00098.fft"
       ]
      },
      {
       "output_type": "stream",
       "stream": "stdout",
       "text": [
        "\n",
        "Written D:/ml/genres/jazz\\jazz.00099.fft"
       ]
      },
      {
       "output_type": "stream",
       "stream": "stdout",
       "text": [
        "\n",
        "Written D:/ml/genres/country\\country.00000.fft"
       ]
      },
      {
       "output_type": "stream",
       "stream": "stdout",
       "text": [
        "\n",
        "Written D:/ml/genres/country\\country.00001.fft"
       ]
      },
      {
       "output_type": "stream",
       "stream": "stdout",
       "text": [
        "\n",
        "Written D:/ml/genres/country\\country.00002.fft"
       ]
      },
      {
       "output_type": "stream",
       "stream": "stdout",
       "text": [
        "\n",
        "Written D:/ml/genres/country\\country.00003.fft"
       ]
      },
      {
       "output_type": "stream",
       "stream": "stdout",
       "text": [
        "\n",
        "Written D:/ml/genres/country\\country.00004.fft"
       ]
      },
      {
       "output_type": "stream",
       "stream": "stdout",
       "text": [
        "\n",
        "Written D:/ml/genres/country\\country.00005.fft"
       ]
      },
      {
       "output_type": "stream",
       "stream": "stdout",
       "text": [
        "\n",
        "Written D:/ml/genres/country\\country.00006.fft"
       ]
      },
      {
       "output_type": "stream",
       "stream": "stdout",
       "text": [
        "\n",
        "Written D:/ml/genres/country\\country.00007.fft"
       ]
      },
      {
       "output_type": "stream",
       "stream": "stdout",
       "text": [
        "\n",
        "Written D:/ml/genres/country\\country.00008.fft"
       ]
      },
      {
       "output_type": "stream",
       "stream": "stdout",
       "text": [
        "\n",
        "Written D:/ml/genres/country\\country.00009.fft"
       ]
      },
      {
       "output_type": "stream",
       "stream": "stdout",
       "text": [
        "\n",
        "Written D:/ml/genres/country\\country.00010.fft"
       ]
      },
      {
       "output_type": "stream",
       "stream": "stdout",
       "text": [
        "\n",
        "Written D:/ml/genres/country\\country.00011.fft"
       ]
      },
      {
       "output_type": "stream",
       "stream": "stdout",
       "text": [
        "\n",
        "Written D:/ml/genres/country\\country.00012.fft"
       ]
      },
      {
       "output_type": "stream",
       "stream": "stdout",
       "text": [
        "\n",
        "Written D:/ml/genres/country\\country.00013.fft"
       ]
      },
      {
       "output_type": "stream",
       "stream": "stdout",
       "text": [
        "\n",
        "Written D:/ml/genres/country\\country.00014.fft"
       ]
      },
      {
       "output_type": "stream",
       "stream": "stdout",
       "text": [
        "\n",
        "Written D:/ml/genres/country\\country.00015.fft"
       ]
      },
      {
       "output_type": "stream",
       "stream": "stdout",
       "text": [
        "\n",
        "Written D:/ml/genres/country\\country.00016.fft"
       ]
      },
      {
       "output_type": "stream",
       "stream": "stdout",
       "text": [
        "\n",
        "Written D:/ml/genres/country\\country.00017.fft"
       ]
      },
      {
       "output_type": "stream",
       "stream": "stdout",
       "text": [
        "\n",
        "Written D:/ml/genres/country\\country.00018.fft"
       ]
      },
      {
       "output_type": "stream",
       "stream": "stdout",
       "text": [
        "\n",
        "Written D:/ml/genres/country\\country.00019.fft"
       ]
      },
      {
       "output_type": "stream",
       "stream": "stdout",
       "text": [
        "\n",
        "Written D:/ml/genres/country\\country.00020.fft"
       ]
      },
      {
       "output_type": "stream",
       "stream": "stdout",
       "text": [
        "\n",
        "Written D:/ml/genres/country\\country.00021.fft"
       ]
      },
      {
       "output_type": "stream",
       "stream": "stdout",
       "text": [
        "\n",
        "Written D:/ml/genres/country\\country.00022.fft"
       ]
      },
      {
       "output_type": "stream",
       "stream": "stdout",
       "text": [
        "\n",
        "Written D:/ml/genres/country\\country.00023.fft"
       ]
      },
      {
       "output_type": "stream",
       "stream": "stdout",
       "text": [
        "\n",
        "Written D:/ml/genres/country\\country.00024.fft"
       ]
      },
      {
       "output_type": "stream",
       "stream": "stdout",
       "text": [
        "\n",
        "Written D:/ml/genres/country\\country.00025.fft"
       ]
      },
      {
       "output_type": "stream",
       "stream": "stdout",
       "text": [
        "\n",
        "Written D:/ml/genres/country\\country.00026.fft"
       ]
      },
      {
       "output_type": "stream",
       "stream": "stdout",
       "text": [
        "\n",
        "Written D:/ml/genres/country\\country.00027.fft"
       ]
      },
      {
       "output_type": "stream",
       "stream": "stdout",
       "text": [
        "\n",
        "Written D:/ml/genres/country\\country.00028.fft"
       ]
      },
      {
       "output_type": "stream",
       "stream": "stdout",
       "text": [
        "\n",
        "Written D:/ml/genres/country\\country.00029.fft"
       ]
      },
      {
       "output_type": "stream",
       "stream": "stdout",
       "text": [
        "\n",
        "Written D:/ml/genres/country\\country.00030.fft"
       ]
      },
      {
       "output_type": "stream",
       "stream": "stdout",
       "text": [
        "\n",
        "Written D:/ml/genres/country\\country.00031.fft"
       ]
      },
      {
       "output_type": "stream",
       "stream": "stdout",
       "text": [
        "\n",
        "Written D:/ml/genres/country\\country.00032.fft"
       ]
      },
      {
       "output_type": "stream",
       "stream": "stdout",
       "text": [
        "\n",
        "Written D:/ml/genres/country\\country.00033.fft"
       ]
      },
      {
       "output_type": "stream",
       "stream": "stdout",
       "text": [
        "\n",
        "Written D:/ml/genres/country\\country.00034.fft"
       ]
      },
      {
       "output_type": "stream",
       "stream": "stdout",
       "text": [
        "\n",
        "Written D:/ml/genres/country\\country.00035.fft"
       ]
      },
      {
       "output_type": "stream",
       "stream": "stdout",
       "text": [
        "\n",
        "Written D:/ml/genres/country\\country.00036.fft"
       ]
      },
      {
       "output_type": "stream",
       "stream": "stdout",
       "text": [
        "\n",
        "Written D:/ml/genres/country\\country.00037.fft"
       ]
      },
      {
       "output_type": "stream",
       "stream": "stdout",
       "text": [
        "\n",
        "Written D:/ml/genres/country\\country.00038.fft"
       ]
      },
      {
       "output_type": "stream",
       "stream": "stdout",
       "text": [
        "\n",
        "Written D:/ml/genres/country\\country.00039.fft"
       ]
      },
      {
       "output_type": "stream",
       "stream": "stdout",
       "text": [
        "\n",
        "Written D:/ml/genres/country\\country.00040.fft"
       ]
      },
      {
       "output_type": "stream",
       "stream": "stdout",
       "text": [
        "\n",
        "Written D:/ml/genres/country\\country.00041.fft"
       ]
      },
      {
       "output_type": "stream",
       "stream": "stdout",
       "text": [
        "\n",
        "Written D:/ml/genres/country\\country.00042.fft"
       ]
      },
      {
       "output_type": "stream",
       "stream": "stdout",
       "text": [
        "\n",
        "Written D:/ml/genres/country\\country.00043.fft"
       ]
      },
      {
       "output_type": "stream",
       "stream": "stdout",
       "text": [
        "\n",
        "Written D:/ml/genres/country\\country.00044.fft"
       ]
      },
      {
       "output_type": "stream",
       "stream": "stdout",
       "text": [
        "\n",
        "Written D:/ml/genres/country\\country.00045.fft"
       ]
      },
      {
       "output_type": "stream",
       "stream": "stdout",
       "text": [
        "\n",
        "Written D:/ml/genres/country\\country.00046.fft"
       ]
      },
      {
       "output_type": "stream",
       "stream": "stdout",
       "text": [
        "\n",
        "Written D:/ml/genres/country\\country.00047.fft"
       ]
      },
      {
       "output_type": "stream",
       "stream": "stdout",
       "text": [
        "\n",
        "Written D:/ml/genres/country\\country.00048.fft"
       ]
      },
      {
       "output_type": "stream",
       "stream": "stdout",
       "text": [
        "\n",
        "Written D:/ml/genres/country\\country.00049.fft"
       ]
      },
      {
       "output_type": "stream",
       "stream": "stdout",
       "text": [
        "\n",
        "Written D:/ml/genres/country\\country.00050.fft"
       ]
      },
      {
       "output_type": "stream",
       "stream": "stdout",
       "text": [
        "\n",
        "Written D:/ml/genres/country\\country.00051.fft"
       ]
      },
      {
       "output_type": "stream",
       "stream": "stdout",
       "text": [
        "\n",
        "Written D:/ml/genres/country\\country.00052.fft"
       ]
      },
      {
       "output_type": "stream",
       "stream": "stdout",
       "text": [
        "\n",
        "Written D:/ml/genres/country\\country.00053.fft"
       ]
      },
      {
       "output_type": "stream",
       "stream": "stdout",
       "text": [
        "\n",
        "Written D:/ml/genres/country\\country.00054.fft"
       ]
      },
      {
       "output_type": "stream",
       "stream": "stdout",
       "text": [
        "\n",
        "Written D:/ml/genres/country\\country.00055.fft"
       ]
      },
      {
       "output_type": "stream",
       "stream": "stdout",
       "text": [
        "\n",
        "Written D:/ml/genres/country\\country.00056.fft"
       ]
      },
      {
       "output_type": "stream",
       "stream": "stdout",
       "text": [
        "\n",
        "Written D:/ml/genres/country\\country.00057.fft"
       ]
      },
      {
       "output_type": "stream",
       "stream": "stdout",
       "text": [
        "\n",
        "Written D:/ml/genres/country\\country.00058.fft"
       ]
      },
      {
       "output_type": "stream",
       "stream": "stdout",
       "text": [
        "\n",
        "Written D:/ml/genres/country\\country.00059.fft"
       ]
      },
      {
       "output_type": "stream",
       "stream": "stdout",
       "text": [
        "\n",
        "Written D:/ml/genres/country\\country.00060.fft"
       ]
      },
      {
       "output_type": "stream",
       "stream": "stdout",
       "text": [
        "\n",
        "Written D:/ml/genres/country\\country.00061.fft"
       ]
      },
      {
       "output_type": "stream",
       "stream": "stdout",
       "text": [
        "\n",
        "Written D:/ml/genres/country\\country.00062.fft"
       ]
      },
      {
       "output_type": "stream",
       "stream": "stdout",
       "text": [
        "\n",
        "Written D:/ml/genres/country\\country.00063.fft"
       ]
      },
      {
       "output_type": "stream",
       "stream": "stdout",
       "text": [
        "\n",
        "Written D:/ml/genres/country\\country.00064.fft"
       ]
      },
      {
       "output_type": "stream",
       "stream": "stdout",
       "text": [
        "\n",
        "Written D:/ml/genres/country\\country.00065.fft"
       ]
      },
      {
       "output_type": "stream",
       "stream": "stdout",
       "text": [
        "\n",
        "Written D:/ml/genres/country\\country.00066.fft"
       ]
      },
      {
       "output_type": "stream",
       "stream": "stdout",
       "text": [
        "\n",
        "Written D:/ml/genres/country\\country.00067.fft"
       ]
      },
      {
       "output_type": "stream",
       "stream": "stdout",
       "text": [
        "\n",
        "Written D:/ml/genres/country\\country.00068.fft"
       ]
      },
      {
       "output_type": "stream",
       "stream": "stdout",
       "text": [
        "\n",
        "Written D:/ml/genres/country\\country.00069.fft"
       ]
      },
      {
       "output_type": "stream",
       "stream": "stdout",
       "text": [
        "\n",
        "Written D:/ml/genres/country\\country.00070.fft"
       ]
      },
      {
       "output_type": "stream",
       "stream": "stdout",
       "text": [
        "\n",
        "Written D:/ml/genres/country\\country.00071.fft"
       ]
      },
      {
       "output_type": "stream",
       "stream": "stdout",
       "text": [
        "\n",
        "Written D:/ml/genres/country\\country.00072.fft"
       ]
      },
      {
       "output_type": "stream",
       "stream": "stdout",
       "text": [
        "\n",
        "Written D:/ml/genres/country\\country.00073.fft"
       ]
      },
      {
       "output_type": "stream",
       "stream": "stdout",
       "text": [
        "\n",
        "Written D:/ml/genres/country\\country.00074.fft"
       ]
      },
      {
       "output_type": "stream",
       "stream": "stdout",
       "text": [
        "\n",
        "Written D:/ml/genres/country\\country.00075.fft"
       ]
      },
      {
       "output_type": "stream",
       "stream": "stdout",
       "text": [
        "\n",
        "Written D:/ml/genres/country\\country.00076.fft"
       ]
      },
      {
       "output_type": "stream",
       "stream": "stdout",
       "text": [
        "\n",
        "Written D:/ml/genres/country\\country.00077.fft"
       ]
      },
      {
       "output_type": "stream",
       "stream": "stdout",
       "text": [
        "\n",
        "Written D:/ml/genres/country\\country.00078.fft"
       ]
      },
      {
       "output_type": "stream",
       "stream": "stdout",
       "text": [
        "\n",
        "Written D:/ml/genres/country\\country.00079.fft"
       ]
      },
      {
       "output_type": "stream",
       "stream": "stdout",
       "text": [
        "\n",
        "Written D:/ml/genres/country\\country.00080.fft"
       ]
      },
      {
       "output_type": "stream",
       "stream": "stdout",
       "text": [
        "\n",
        "Written D:/ml/genres/country\\country.00081.fft"
       ]
      },
      {
       "output_type": "stream",
       "stream": "stdout",
       "text": [
        "\n",
        "Written D:/ml/genres/country\\country.00082.fft"
       ]
      },
      {
       "output_type": "stream",
       "stream": "stdout",
       "text": [
        "\n",
        "Written D:/ml/genres/country\\country.00083.fft"
       ]
      },
      {
       "output_type": "stream",
       "stream": "stdout",
       "text": [
        "\n",
        "Written D:/ml/genres/country\\country.00084.fft"
       ]
      },
      {
       "output_type": "stream",
       "stream": "stdout",
       "text": [
        "\n",
        "Written D:/ml/genres/country\\country.00085.fft"
       ]
      },
      {
       "output_type": "stream",
       "stream": "stdout",
       "text": [
        "\n",
        "Written D:/ml/genres/country\\country.00086.fft"
       ]
      },
      {
       "output_type": "stream",
       "stream": "stdout",
       "text": [
        "\n",
        "Written D:/ml/genres/country\\country.00087.fft"
       ]
      },
      {
       "output_type": "stream",
       "stream": "stdout",
       "text": [
        "\n",
        "Written D:/ml/genres/country\\country.00088.fft"
       ]
      },
      {
       "output_type": "stream",
       "stream": "stdout",
       "text": [
        "\n",
        "Written D:/ml/genres/country\\country.00089.fft"
       ]
      },
      {
       "output_type": "stream",
       "stream": "stdout",
       "text": [
        "\n",
        "Written D:/ml/genres/country\\country.00090.fft"
       ]
      },
      {
       "output_type": "stream",
       "stream": "stdout",
       "text": [
        "\n",
        "Written D:/ml/genres/country\\country.00091.fft"
       ]
      },
      {
       "output_type": "stream",
       "stream": "stdout",
       "text": [
        "\n",
        "Written D:/ml/genres/country\\country.00092.fft"
       ]
      },
      {
       "output_type": "stream",
       "stream": "stdout",
       "text": [
        "\n",
        "Written D:/ml/genres/country\\country.00093.fft"
       ]
      },
      {
       "output_type": "stream",
       "stream": "stdout",
       "text": [
        "\n",
        "Written D:/ml/genres/country\\country.00094.fft"
       ]
      },
      {
       "output_type": "stream",
       "stream": "stdout",
       "text": [
        "\n",
        "Written D:/ml/genres/country\\country.00095.fft"
       ]
      },
      {
       "output_type": "stream",
       "stream": "stdout",
       "text": [
        "\n",
        "Written D:/ml/genres/country\\country.00096.fft"
       ]
      },
      {
       "output_type": "stream",
       "stream": "stdout",
       "text": [
        "\n",
        "Written D:/ml/genres/country\\country.00097.fft"
       ]
      },
      {
       "output_type": "stream",
       "stream": "stdout",
       "text": [
        "\n",
        "Written D:/ml/genres/country\\country.00098.fft"
       ]
      },
      {
       "output_type": "stream",
       "stream": "stdout",
       "text": [
        "\n",
        "Written D:/ml/genres/country\\country.00099.fft"
       ]
      },
      {
       "output_type": "stream",
       "stream": "stdout",
       "text": [
        "\n",
        "Written D:/ml/genres/pop\\pop.00000.fft"
       ]
      },
      {
       "output_type": "stream",
       "stream": "stdout",
       "text": [
        "\n",
        "Written D:/ml/genres/pop\\pop.00001.fft"
       ]
      },
      {
       "output_type": "stream",
       "stream": "stdout",
       "text": [
        "\n",
        "Written D:/ml/genres/pop\\pop.00002.fft"
       ]
      },
      {
       "output_type": "stream",
       "stream": "stdout",
       "text": [
        "\n",
        "Written D:/ml/genres/pop\\pop.00003.fft"
       ]
      },
      {
       "output_type": "stream",
       "stream": "stdout",
       "text": [
        "\n",
        "Written D:/ml/genres/pop\\pop.00004.fft"
       ]
      },
      {
       "output_type": "stream",
       "stream": "stdout",
       "text": [
        "\n",
        "Written D:/ml/genres/pop\\pop.00005.fft"
       ]
      },
      {
       "output_type": "stream",
       "stream": "stdout",
       "text": [
        "\n",
        "Written D:/ml/genres/pop\\pop.00006.fft"
       ]
      },
      {
       "output_type": "stream",
       "stream": "stdout",
       "text": [
        "\n",
        "Written D:/ml/genres/pop\\pop.00007.fft"
       ]
      },
      {
       "output_type": "stream",
       "stream": "stdout",
       "text": [
        "\n",
        "Written D:/ml/genres/pop\\pop.00008.fft"
       ]
      },
      {
       "output_type": "stream",
       "stream": "stdout",
       "text": [
        "\n",
        "Written D:/ml/genres/pop\\pop.00009.fft"
       ]
      },
      {
       "output_type": "stream",
       "stream": "stdout",
       "text": [
        "\n",
        "Written D:/ml/genres/pop\\pop.00010.fft"
       ]
      },
      {
       "output_type": "stream",
       "stream": "stdout",
       "text": [
        "\n",
        "Written D:/ml/genres/pop\\pop.00011.fft"
       ]
      },
      {
       "output_type": "stream",
       "stream": "stdout",
       "text": [
        "\n",
        "Written D:/ml/genres/pop\\pop.00012.fft"
       ]
      },
      {
       "output_type": "stream",
       "stream": "stdout",
       "text": [
        "\n",
        "Written D:/ml/genres/pop\\pop.00013.fft"
       ]
      },
      {
       "output_type": "stream",
       "stream": "stdout",
       "text": [
        "\n",
        "Written D:/ml/genres/pop\\pop.00014.fft"
       ]
      },
      {
       "output_type": "stream",
       "stream": "stdout",
       "text": [
        "\n",
        "Written D:/ml/genres/pop\\pop.00015.fft"
       ]
      },
      {
       "output_type": "stream",
       "stream": "stdout",
       "text": [
        "\n",
        "Written D:/ml/genres/pop\\pop.00016.fft"
       ]
      },
      {
       "output_type": "stream",
       "stream": "stdout",
       "text": [
        "\n",
        "Written D:/ml/genres/pop\\pop.00017.fft"
       ]
      },
      {
       "output_type": "stream",
       "stream": "stdout",
       "text": [
        "\n",
        "Written D:/ml/genres/pop\\pop.00018.fft"
       ]
      },
      {
       "output_type": "stream",
       "stream": "stdout",
       "text": [
        "\n",
        "Written D:/ml/genres/pop\\pop.00019.fft"
       ]
      },
      {
       "output_type": "stream",
       "stream": "stdout",
       "text": [
        "\n",
        "Written D:/ml/genres/pop\\pop.00020.fft"
       ]
      },
      {
       "output_type": "stream",
       "stream": "stdout",
       "text": [
        "\n",
        "Written D:/ml/genres/pop\\pop.00021.fft"
       ]
      },
      {
       "output_type": "stream",
       "stream": "stdout",
       "text": [
        "\n",
        "Written D:/ml/genres/pop\\pop.00022.fft"
       ]
      },
      {
       "output_type": "stream",
       "stream": "stdout",
       "text": [
        "\n",
        "Written D:/ml/genres/pop\\pop.00023.fft"
       ]
      },
      {
       "output_type": "stream",
       "stream": "stdout",
       "text": [
        "\n",
        "Written D:/ml/genres/pop\\pop.00024.fft"
       ]
      },
      {
       "output_type": "stream",
       "stream": "stdout",
       "text": [
        "\n",
        "Written D:/ml/genres/pop\\pop.00025.fft"
       ]
      },
      {
       "output_type": "stream",
       "stream": "stdout",
       "text": [
        "\n",
        "Written D:/ml/genres/pop\\pop.00026.fft"
       ]
      },
      {
       "output_type": "stream",
       "stream": "stdout",
       "text": [
        "\n",
        "Written D:/ml/genres/pop\\pop.00027.fft"
       ]
      },
      {
       "output_type": "stream",
       "stream": "stdout",
       "text": [
        "\n",
        "Written D:/ml/genres/pop\\pop.00028.fft"
       ]
      },
      {
       "output_type": "stream",
       "stream": "stdout",
       "text": [
        "\n",
        "Written D:/ml/genres/pop\\pop.00029.fft"
       ]
      },
      {
       "output_type": "stream",
       "stream": "stdout",
       "text": [
        "\n",
        "Written D:/ml/genres/pop\\pop.00030.fft"
       ]
      },
      {
       "output_type": "stream",
       "stream": "stdout",
       "text": [
        "\n",
        "Written D:/ml/genres/pop\\pop.00031.fft"
       ]
      },
      {
       "output_type": "stream",
       "stream": "stdout",
       "text": [
        "\n",
        "Written D:/ml/genres/pop\\pop.00032.fft"
       ]
      },
      {
       "output_type": "stream",
       "stream": "stdout",
       "text": [
        "\n",
        "Written D:/ml/genres/pop\\pop.00033.fft"
       ]
      },
      {
       "output_type": "stream",
       "stream": "stdout",
       "text": [
        "\n",
        "Written D:/ml/genres/pop\\pop.00034.fft"
       ]
      },
      {
       "output_type": "stream",
       "stream": "stdout",
       "text": [
        "\n",
        "Written D:/ml/genres/pop\\pop.00035.fft"
       ]
      },
      {
       "output_type": "stream",
       "stream": "stdout",
       "text": [
        "\n",
        "Written D:/ml/genres/pop\\pop.00036.fft"
       ]
      },
      {
       "output_type": "stream",
       "stream": "stdout",
       "text": [
        "\n",
        "Written D:/ml/genres/pop\\pop.00037.fft"
       ]
      },
      {
       "output_type": "stream",
       "stream": "stdout",
       "text": [
        "\n",
        "Written D:/ml/genres/pop\\pop.00038.fft"
       ]
      },
      {
       "output_type": "stream",
       "stream": "stdout",
       "text": [
        "\n",
        "Written D:/ml/genres/pop\\pop.00039.fft"
       ]
      },
      {
       "output_type": "stream",
       "stream": "stdout",
       "text": [
        "\n",
        "Written D:/ml/genres/pop\\pop.00040.fft"
       ]
      },
      {
       "output_type": "stream",
       "stream": "stdout",
       "text": [
        "\n",
        "Written D:/ml/genres/pop\\pop.00041.fft"
       ]
      },
      {
       "output_type": "stream",
       "stream": "stdout",
       "text": [
        "\n",
        "Written D:/ml/genres/pop\\pop.00042.fft"
       ]
      },
      {
       "output_type": "stream",
       "stream": "stdout",
       "text": [
        "\n",
        "Written D:/ml/genres/pop\\pop.00043.fft"
       ]
      },
      {
       "output_type": "stream",
       "stream": "stdout",
       "text": [
        "\n",
        "Written D:/ml/genres/pop\\pop.00044.fft"
       ]
      },
      {
       "output_type": "stream",
       "stream": "stdout",
       "text": [
        "\n",
        "Written D:/ml/genres/pop\\pop.00045.fft"
       ]
      },
      {
       "output_type": "stream",
       "stream": "stdout",
       "text": [
        "\n",
        "Written D:/ml/genres/pop\\pop.00046.fft"
       ]
      },
      {
       "output_type": "stream",
       "stream": "stdout",
       "text": [
        "\n",
        "Written D:/ml/genres/pop\\pop.00047.fft"
       ]
      },
      {
       "output_type": "stream",
       "stream": "stdout",
       "text": [
        "\n",
        "Written D:/ml/genres/pop\\pop.00048.fft"
       ]
      },
      {
       "output_type": "stream",
       "stream": "stdout",
       "text": [
        "\n",
        "Written D:/ml/genres/pop\\pop.00049.fft"
       ]
      },
      {
       "output_type": "stream",
       "stream": "stdout",
       "text": [
        "\n",
        "Written D:/ml/genres/pop\\pop.00050.fft"
       ]
      },
      {
       "output_type": "stream",
       "stream": "stdout",
       "text": [
        "\n",
        "Written D:/ml/genres/pop\\pop.00051.fft"
       ]
      },
      {
       "output_type": "stream",
       "stream": "stdout",
       "text": [
        "\n",
        "Written D:/ml/genres/pop\\pop.00052.fft"
       ]
      },
      {
       "output_type": "stream",
       "stream": "stdout",
       "text": [
        "\n",
        "Written D:/ml/genres/pop\\pop.00053.fft"
       ]
      },
      {
       "output_type": "stream",
       "stream": "stdout",
       "text": [
        "\n",
        "Written D:/ml/genres/pop\\pop.00054.fft"
       ]
      },
      {
       "output_type": "stream",
       "stream": "stdout",
       "text": [
        "\n",
        "Written D:/ml/genres/pop\\pop.00055.fft"
       ]
      },
      {
       "output_type": "stream",
       "stream": "stdout",
       "text": [
        "\n",
        "Written D:/ml/genres/pop\\pop.00056.fft"
       ]
      },
      {
       "output_type": "stream",
       "stream": "stdout",
       "text": [
        "\n",
        "Written D:/ml/genres/pop\\pop.00057.fft"
       ]
      },
      {
       "output_type": "stream",
       "stream": "stdout",
       "text": [
        "\n",
        "Written D:/ml/genres/pop\\pop.00058.fft"
       ]
      },
      {
       "output_type": "stream",
       "stream": "stdout",
       "text": [
        "\n",
        "Written D:/ml/genres/pop\\pop.00059.fft"
       ]
      },
      {
       "output_type": "stream",
       "stream": "stdout",
       "text": [
        "\n",
        "Written D:/ml/genres/pop\\pop.00060.fft"
       ]
      },
      {
       "output_type": "stream",
       "stream": "stdout",
       "text": [
        "\n",
        "Written D:/ml/genres/pop\\pop.00061.fft"
       ]
      },
      {
       "output_type": "stream",
       "stream": "stdout",
       "text": [
        "\n",
        "Written D:/ml/genres/pop\\pop.00062.fft"
       ]
      },
      {
       "output_type": "stream",
       "stream": "stdout",
       "text": [
        "\n",
        "Written D:/ml/genres/pop\\pop.00063.fft"
       ]
      },
      {
       "output_type": "stream",
       "stream": "stdout",
       "text": [
        "\n",
        "Written D:/ml/genres/pop\\pop.00064.fft"
       ]
      },
      {
       "output_type": "stream",
       "stream": "stdout",
       "text": [
        "\n",
        "Written D:/ml/genres/pop\\pop.00065.fft"
       ]
      },
      {
       "output_type": "stream",
       "stream": "stdout",
       "text": [
        "\n",
        "Written D:/ml/genres/pop\\pop.00066.fft"
       ]
      },
      {
       "output_type": "stream",
       "stream": "stdout",
       "text": [
        "\n",
        "Written D:/ml/genres/pop\\pop.00067.fft"
       ]
      },
      {
       "output_type": "stream",
       "stream": "stdout",
       "text": [
        "\n",
        "Written D:/ml/genres/pop\\pop.00068.fft"
       ]
      },
      {
       "output_type": "stream",
       "stream": "stdout",
       "text": [
        "\n",
        "Written D:/ml/genres/pop\\pop.00069.fft"
       ]
      },
      {
       "output_type": "stream",
       "stream": "stdout",
       "text": [
        "\n",
        "Written D:/ml/genres/pop\\pop.00070.fft"
       ]
      },
      {
       "output_type": "stream",
       "stream": "stdout",
       "text": [
        "\n",
        "Written D:/ml/genres/pop\\pop.00071.fft"
       ]
      },
      {
       "output_type": "stream",
       "stream": "stdout",
       "text": [
        "\n",
        "Written D:/ml/genres/pop\\pop.00072.fft"
       ]
      },
      {
       "output_type": "stream",
       "stream": "stdout",
       "text": [
        "\n",
        "Written D:/ml/genres/pop\\pop.00073.fft"
       ]
      },
      {
       "output_type": "stream",
       "stream": "stdout",
       "text": [
        "\n",
        "Written D:/ml/genres/pop\\pop.00074.fft"
       ]
      },
      {
       "output_type": "stream",
       "stream": "stdout",
       "text": [
        "\n",
        "Written D:/ml/genres/pop\\pop.00075.fft"
       ]
      },
      {
       "output_type": "stream",
       "stream": "stdout",
       "text": [
        "\n",
        "Written D:/ml/genres/pop\\pop.00076.fft"
       ]
      },
      {
       "output_type": "stream",
       "stream": "stdout",
       "text": [
        "\n",
        "Written D:/ml/genres/pop\\pop.00077.fft"
       ]
      },
      {
       "output_type": "stream",
       "stream": "stdout",
       "text": [
        "\n",
        "Written D:/ml/genres/pop\\pop.00078.fft"
       ]
      },
      {
       "output_type": "stream",
       "stream": "stdout",
       "text": [
        "\n",
        "Written D:/ml/genres/pop\\pop.00079.fft"
       ]
      },
      {
       "output_type": "stream",
       "stream": "stdout",
       "text": [
        "\n",
        "Written D:/ml/genres/pop\\pop.00080.fft"
       ]
      },
      {
       "output_type": "stream",
       "stream": "stdout",
       "text": [
        "\n",
        "Written D:/ml/genres/pop\\pop.00081.fft"
       ]
      },
      {
       "output_type": "stream",
       "stream": "stdout",
       "text": [
        "\n",
        "Written D:/ml/genres/pop\\pop.00082.fft"
       ]
      },
      {
       "output_type": "stream",
       "stream": "stdout",
       "text": [
        "\n",
        "Written D:/ml/genres/pop\\pop.00083.fft"
       ]
      },
      {
       "output_type": "stream",
       "stream": "stdout",
       "text": [
        "\n",
        "Written D:/ml/genres/pop\\pop.00084.fft"
       ]
      },
      {
       "output_type": "stream",
       "stream": "stdout",
       "text": [
        "\n",
        "Written D:/ml/genres/pop\\pop.00085.fft"
       ]
      },
      {
       "output_type": "stream",
       "stream": "stdout",
       "text": [
        "\n",
        "Written D:/ml/genres/pop\\pop.00086.fft"
       ]
      },
      {
       "output_type": "stream",
       "stream": "stdout",
       "text": [
        "\n",
        "Written D:/ml/genres/pop\\pop.00087.fft"
       ]
      },
      {
       "output_type": "stream",
       "stream": "stdout",
       "text": [
        "\n",
        "Written D:/ml/genres/pop\\pop.00088.fft"
       ]
      },
      {
       "output_type": "stream",
       "stream": "stdout",
       "text": [
        "\n",
        "Written D:/ml/genres/pop\\pop.00089.fft"
       ]
      },
      {
       "output_type": "stream",
       "stream": "stdout",
       "text": [
        "\n",
        "Written D:/ml/genres/pop\\pop.00090.fft"
       ]
      },
      {
       "output_type": "stream",
       "stream": "stdout",
       "text": [
        "\n",
        "Written D:/ml/genres/pop\\pop.00091.fft"
       ]
      },
      {
       "output_type": "stream",
       "stream": "stdout",
       "text": [
        "\n",
        "Written D:/ml/genres/pop\\pop.00092.fft"
       ]
      },
      {
       "output_type": "stream",
       "stream": "stdout",
       "text": [
        "\n",
        "Written D:/ml/genres/pop\\pop.00093.fft"
       ]
      },
      {
       "output_type": "stream",
       "stream": "stdout",
       "text": [
        "\n",
        "Written D:/ml/genres/pop\\pop.00094.fft"
       ]
      },
      {
       "output_type": "stream",
       "stream": "stdout",
       "text": [
        "\n",
        "Written D:/ml/genres/pop\\pop.00095.fft"
       ]
      },
      {
       "output_type": "stream",
       "stream": "stdout",
       "text": [
        "\n",
        "Written D:/ml/genres/pop\\pop.00096.fft"
       ]
      },
      {
       "output_type": "stream",
       "stream": "stdout",
       "text": [
        "\n",
        "Written D:/ml/genres/pop\\pop.00097.fft"
       ]
      },
      {
       "output_type": "stream",
       "stream": "stdout",
       "text": [
        "\n",
        "Written D:/ml/genres/pop\\pop.00098.fft"
       ]
      },
      {
       "output_type": "stream",
       "stream": "stdout",
       "text": [
        "\n",
        "Written D:/ml/genres/pop\\pop.00099.fft"
       ]
      },
      {
       "output_type": "stream",
       "stream": "stdout",
       "text": [
        "\n",
        "Written D:/ml/genres/rock\\rock.00000.fft"
       ]
      },
      {
       "output_type": "stream",
       "stream": "stdout",
       "text": [
        "\n",
        "Written D:/ml/genres/rock\\rock.00001.fft"
       ]
      },
      {
       "output_type": "stream",
       "stream": "stdout",
       "text": [
        "\n",
        "Written D:/ml/genres/rock\\rock.00002.fft"
       ]
      },
      {
       "output_type": "stream",
       "stream": "stdout",
       "text": [
        "\n",
        "Written D:/ml/genres/rock\\rock.00003.fft"
       ]
      },
      {
       "output_type": "stream",
       "stream": "stdout",
       "text": [
        "\n",
        "Written D:/ml/genres/rock\\rock.00004.fft"
       ]
      },
      {
       "output_type": "stream",
       "stream": "stdout",
       "text": [
        "\n",
        "Written D:/ml/genres/rock\\rock.00005.fft"
       ]
      },
      {
       "output_type": "stream",
       "stream": "stdout",
       "text": [
        "\n",
        "Written D:/ml/genres/rock\\rock.00006.fft"
       ]
      },
      {
       "output_type": "stream",
       "stream": "stdout",
       "text": [
        "\n",
        "Written D:/ml/genres/rock\\rock.00007.fft"
       ]
      },
      {
       "output_type": "stream",
       "stream": "stdout",
       "text": [
        "\n",
        "Written D:/ml/genres/rock\\rock.00008.fft"
       ]
      },
      {
       "output_type": "stream",
       "stream": "stdout",
       "text": [
        "\n",
        "Written D:/ml/genres/rock\\rock.00009.fft"
       ]
      },
      {
       "output_type": "stream",
       "stream": "stdout",
       "text": [
        "\n",
        "Written D:/ml/genres/rock\\rock.00010.fft"
       ]
      },
      {
       "output_type": "stream",
       "stream": "stdout",
       "text": [
        "\n",
        "Written D:/ml/genres/rock\\rock.00011.fft"
       ]
      },
      {
       "output_type": "stream",
       "stream": "stdout",
       "text": [
        "\n",
        "Written D:/ml/genres/rock\\rock.00012.fft"
       ]
      },
      {
       "output_type": "stream",
       "stream": "stdout",
       "text": [
        "\n",
        "Written D:/ml/genres/rock\\rock.00013.fft"
       ]
      },
      {
       "output_type": "stream",
       "stream": "stdout",
       "text": [
        "\n",
        "Written D:/ml/genres/rock\\rock.00014.fft"
       ]
      },
      {
       "output_type": "stream",
       "stream": "stdout",
       "text": [
        "\n",
        "Written D:/ml/genres/rock\\rock.00015.fft"
       ]
      },
      {
       "output_type": "stream",
       "stream": "stdout",
       "text": [
        "\n",
        "Written D:/ml/genres/rock\\rock.00016.fft"
       ]
      },
      {
       "output_type": "stream",
       "stream": "stdout",
       "text": [
        "\n",
        "Written D:/ml/genres/rock\\rock.00017.fft"
       ]
      },
      {
       "output_type": "stream",
       "stream": "stdout",
       "text": [
        "\n",
        "Written D:/ml/genres/rock\\rock.00018.fft"
       ]
      },
      {
       "output_type": "stream",
       "stream": "stdout",
       "text": [
        "\n",
        "Written D:/ml/genres/rock\\rock.00019.fft"
       ]
      },
      {
       "output_type": "stream",
       "stream": "stdout",
       "text": [
        "\n",
        "Written D:/ml/genres/rock\\rock.00020.fft"
       ]
      },
      {
       "output_type": "stream",
       "stream": "stdout",
       "text": [
        "\n",
        "Written D:/ml/genres/rock\\rock.00021.fft"
       ]
      },
      {
       "output_type": "stream",
       "stream": "stdout",
       "text": [
        "\n",
        "Written D:/ml/genres/rock\\rock.00022.fft"
       ]
      },
      {
       "output_type": "stream",
       "stream": "stdout",
       "text": [
        "\n",
        "Written D:/ml/genres/rock\\rock.00023.fft"
       ]
      },
      {
       "output_type": "stream",
       "stream": "stdout",
       "text": [
        "\n",
        "Written D:/ml/genres/rock\\rock.00024.fft"
       ]
      },
      {
       "output_type": "stream",
       "stream": "stdout",
       "text": [
        "\n",
        "Written D:/ml/genres/rock\\rock.00025.fft"
       ]
      },
      {
       "output_type": "stream",
       "stream": "stdout",
       "text": [
        "\n",
        "Written D:/ml/genres/rock\\rock.00026.fft"
       ]
      },
      {
       "output_type": "stream",
       "stream": "stdout",
       "text": [
        "\n",
        "Written D:/ml/genres/rock\\rock.00027.fft"
       ]
      },
      {
       "output_type": "stream",
       "stream": "stdout",
       "text": [
        "\n",
        "Written D:/ml/genres/rock\\rock.00028.fft"
       ]
      },
      {
       "output_type": "stream",
       "stream": "stdout",
       "text": [
        "\n",
        "Written D:/ml/genres/rock\\rock.00029.fft"
       ]
      },
      {
       "output_type": "stream",
       "stream": "stdout",
       "text": [
        "\n",
        "Written D:/ml/genres/rock\\rock.00030.fft"
       ]
      },
      {
       "output_type": "stream",
       "stream": "stdout",
       "text": [
        "\n",
        "Written D:/ml/genres/rock\\rock.00031.fft"
       ]
      },
      {
       "output_type": "stream",
       "stream": "stdout",
       "text": [
        "\n",
        "Written D:/ml/genres/rock\\rock.00032.fft"
       ]
      },
      {
       "output_type": "stream",
       "stream": "stdout",
       "text": [
        "\n",
        "Written D:/ml/genres/rock\\rock.00033.fft"
       ]
      },
      {
       "output_type": "stream",
       "stream": "stdout",
       "text": [
        "\n",
        "Written D:/ml/genres/rock\\rock.00034.fft"
       ]
      },
      {
       "output_type": "stream",
       "stream": "stdout",
       "text": [
        "\n",
        "Written D:/ml/genres/rock\\rock.00035.fft"
       ]
      },
      {
       "output_type": "stream",
       "stream": "stdout",
       "text": [
        "\n",
        "Written D:/ml/genres/rock\\rock.00036.fft"
       ]
      },
      {
       "output_type": "stream",
       "stream": "stdout",
       "text": [
        "\n",
        "Written D:/ml/genres/rock\\rock.00037.fft"
       ]
      },
      {
       "output_type": "stream",
       "stream": "stdout",
       "text": [
        "\n",
        "Written D:/ml/genres/rock\\rock.00038.fft"
       ]
      },
      {
       "output_type": "stream",
       "stream": "stdout",
       "text": [
        "\n",
        "Written D:/ml/genres/rock\\rock.00039.fft"
       ]
      },
      {
       "output_type": "stream",
       "stream": "stdout",
       "text": [
        "\n",
        "Written D:/ml/genres/rock\\rock.00040.fft"
       ]
      },
      {
       "output_type": "stream",
       "stream": "stdout",
       "text": [
        "\n",
        "Written D:/ml/genres/rock\\rock.00041.fft"
       ]
      },
      {
       "output_type": "stream",
       "stream": "stdout",
       "text": [
        "\n",
        "Written D:/ml/genres/rock\\rock.00042.fft"
       ]
      },
      {
       "output_type": "stream",
       "stream": "stdout",
       "text": [
        "\n",
        "Written D:/ml/genres/rock\\rock.00043.fft"
       ]
      },
      {
       "output_type": "stream",
       "stream": "stdout",
       "text": [
        "\n",
        "Written D:/ml/genres/rock\\rock.00044.fft"
       ]
      },
      {
       "output_type": "stream",
       "stream": "stdout",
       "text": [
        "\n",
        "Written D:/ml/genres/rock\\rock.00045.fft"
       ]
      },
      {
       "output_type": "stream",
       "stream": "stdout",
       "text": [
        "\n",
        "Written D:/ml/genres/rock\\rock.00046.fft"
       ]
      },
      {
       "output_type": "stream",
       "stream": "stdout",
       "text": [
        "\n",
        "Written D:/ml/genres/rock\\rock.00047.fft"
       ]
      },
      {
       "output_type": "stream",
       "stream": "stdout",
       "text": [
        "\n",
        "Written D:/ml/genres/rock\\rock.00048.fft"
       ]
      },
      {
       "output_type": "stream",
       "stream": "stdout",
       "text": [
        "\n",
        "Written D:/ml/genres/rock\\rock.00049.fft"
       ]
      },
      {
       "output_type": "stream",
       "stream": "stdout",
       "text": [
        "\n",
        "Written D:/ml/genres/rock\\rock.00050.fft"
       ]
      },
      {
       "output_type": "stream",
       "stream": "stdout",
       "text": [
        "\n",
        "Written D:/ml/genres/rock\\rock.00051.fft"
       ]
      },
      {
       "output_type": "stream",
       "stream": "stdout",
       "text": [
        "\n",
        "Written D:/ml/genres/rock\\rock.00052.fft"
       ]
      },
      {
       "output_type": "stream",
       "stream": "stdout",
       "text": [
        "\n",
        "Written D:/ml/genres/rock\\rock.00053.fft"
       ]
      },
      {
       "output_type": "stream",
       "stream": "stdout",
       "text": [
        "\n",
        "Written D:/ml/genres/rock\\rock.00054.fft"
       ]
      },
      {
       "output_type": "stream",
       "stream": "stdout",
       "text": [
        "\n",
        "Written D:/ml/genres/rock\\rock.00055.fft"
       ]
      },
      {
       "output_type": "stream",
       "stream": "stdout",
       "text": [
        "\n",
        "Written D:/ml/genres/rock\\rock.00056.fft"
       ]
      },
      {
       "output_type": "stream",
       "stream": "stdout",
       "text": [
        "\n",
        "Written D:/ml/genres/rock\\rock.00057.fft"
       ]
      },
      {
       "output_type": "stream",
       "stream": "stdout",
       "text": [
        "\n",
        "Written D:/ml/genres/rock\\rock.00058.fft"
       ]
      },
      {
       "output_type": "stream",
       "stream": "stdout",
       "text": [
        "\n",
        "Written D:/ml/genres/rock\\rock.00059.fft"
       ]
      },
      {
       "output_type": "stream",
       "stream": "stdout",
       "text": [
        "\n",
        "Written D:/ml/genres/rock\\rock.00060.fft"
       ]
      },
      {
       "output_type": "stream",
       "stream": "stdout",
       "text": [
        "\n",
        "Written D:/ml/genres/rock\\rock.00061.fft"
       ]
      },
      {
       "output_type": "stream",
       "stream": "stdout",
       "text": [
        "\n",
        "Written D:/ml/genres/rock\\rock.00062.fft"
       ]
      },
      {
       "output_type": "stream",
       "stream": "stdout",
       "text": [
        "\n",
        "Written D:/ml/genres/rock\\rock.00063.fft"
       ]
      },
      {
       "output_type": "stream",
       "stream": "stdout",
       "text": [
        "\n",
        "Written D:/ml/genres/rock\\rock.00064.fft"
       ]
      },
      {
       "output_type": "stream",
       "stream": "stdout",
       "text": [
        "\n",
        "Written D:/ml/genres/rock\\rock.00065.fft"
       ]
      },
      {
       "output_type": "stream",
       "stream": "stdout",
       "text": [
        "\n",
        "Written D:/ml/genres/rock\\rock.00066.fft"
       ]
      },
      {
       "output_type": "stream",
       "stream": "stdout",
       "text": [
        "\n",
        "Written D:/ml/genres/rock\\rock.00067.fft"
       ]
      },
      {
       "output_type": "stream",
       "stream": "stdout",
       "text": [
        "\n",
        "Written D:/ml/genres/rock\\rock.00068.fft"
       ]
      },
      {
       "output_type": "stream",
       "stream": "stdout",
       "text": [
        "\n",
        "Written D:/ml/genres/rock\\rock.00069.fft"
       ]
      },
      {
       "output_type": "stream",
       "stream": "stdout",
       "text": [
        "\n",
        "Written D:/ml/genres/rock\\rock.00070.fft"
       ]
      },
      {
       "output_type": "stream",
       "stream": "stdout",
       "text": [
        "\n",
        "Written D:/ml/genres/rock\\rock.00071.fft"
       ]
      },
      {
       "output_type": "stream",
       "stream": "stdout",
       "text": [
        "\n",
        "Written D:/ml/genres/rock\\rock.00072.fft"
       ]
      },
      {
       "output_type": "stream",
       "stream": "stdout",
       "text": [
        "\n",
        "Written D:/ml/genres/rock\\rock.00073.fft"
       ]
      },
      {
       "output_type": "stream",
       "stream": "stdout",
       "text": [
        "\n",
        "Written D:/ml/genres/rock\\rock.00074.fft"
       ]
      },
      {
       "output_type": "stream",
       "stream": "stdout",
       "text": [
        "\n",
        "Written D:/ml/genres/rock\\rock.00075.fft"
       ]
      },
      {
       "output_type": "stream",
       "stream": "stdout",
       "text": [
        "\n",
        "Written D:/ml/genres/rock\\rock.00076.fft"
       ]
      },
      {
       "output_type": "stream",
       "stream": "stdout",
       "text": [
        "\n",
        "Written D:/ml/genres/rock\\rock.00077.fft"
       ]
      },
      {
       "output_type": "stream",
       "stream": "stdout",
       "text": [
        "\n",
        "Written D:/ml/genres/rock\\rock.00078.fft"
       ]
      },
      {
       "output_type": "stream",
       "stream": "stdout",
       "text": [
        "\n",
        "Written D:/ml/genres/rock\\rock.00079.fft"
       ]
      },
      {
       "output_type": "stream",
       "stream": "stdout",
       "text": [
        "\n",
        "Written D:/ml/genres/rock\\rock.00080.fft"
       ]
      },
      {
       "output_type": "stream",
       "stream": "stdout",
       "text": [
        "\n",
        "Written D:/ml/genres/rock\\rock.00081.fft"
       ]
      },
      {
       "output_type": "stream",
       "stream": "stdout",
       "text": [
        "\n",
        "Written D:/ml/genres/rock\\rock.00082.fft"
       ]
      },
      {
       "output_type": "stream",
       "stream": "stdout",
       "text": [
        "\n",
        "Written D:/ml/genres/rock\\rock.00083.fft"
       ]
      },
      {
       "output_type": "stream",
       "stream": "stdout",
       "text": [
        "\n",
        "Written D:/ml/genres/rock\\rock.00084.fft"
       ]
      },
      {
       "output_type": "stream",
       "stream": "stdout",
       "text": [
        "\n",
        "Written D:/ml/genres/rock\\rock.00085.fft"
       ]
      },
      {
       "output_type": "stream",
       "stream": "stdout",
       "text": [
        "\n",
        "Written D:/ml/genres/rock\\rock.00086.fft"
       ]
      },
      {
       "output_type": "stream",
       "stream": "stdout",
       "text": [
        "\n",
        "Written D:/ml/genres/rock\\rock.00087.fft"
       ]
      },
      {
       "output_type": "stream",
       "stream": "stdout",
       "text": [
        "\n",
        "Written D:/ml/genres/rock\\rock.00088.fft"
       ]
      },
      {
       "output_type": "stream",
       "stream": "stdout",
       "text": [
        "\n",
        "Written D:/ml/genres/rock\\rock.00089.fft"
       ]
      },
      {
       "output_type": "stream",
       "stream": "stdout",
       "text": [
        "\n",
        "Written D:/ml/genres/rock\\rock.00090.fft"
       ]
      },
      {
       "output_type": "stream",
       "stream": "stdout",
       "text": [
        "\n",
        "Written D:/ml/genres/rock\\rock.00091.fft"
       ]
      },
      {
       "output_type": "stream",
       "stream": "stdout",
       "text": [
        "\n",
        "Written D:/ml/genres/rock\\rock.00092.fft"
       ]
      },
      {
       "output_type": "stream",
       "stream": "stdout",
       "text": [
        "\n",
        "Written D:/ml/genres/rock\\rock.00093.fft"
       ]
      },
      {
       "output_type": "stream",
       "stream": "stdout",
       "text": [
        "\n",
        "Written D:/ml/genres/rock\\rock.00094.fft"
       ]
      },
      {
       "output_type": "stream",
       "stream": "stdout",
       "text": [
        "\n",
        "Written D:/ml/genres/rock\\rock.00095.fft"
       ]
      },
      {
       "output_type": "stream",
       "stream": "stdout",
       "text": [
        "\n",
        "Written D:/ml/genres/rock\\rock.00096.fft"
       ]
      },
      {
       "output_type": "stream",
       "stream": "stdout",
       "text": [
        "\n",
        "Written D:/ml/genres/rock\\rock.00097.fft"
       ]
      },
      {
       "output_type": "stream",
       "stream": "stdout",
       "text": [
        "\n",
        "Written D:/ml/genres/rock\\rock.00098.fft"
       ]
      },
      {
       "output_type": "stream",
       "stream": "stdout",
       "text": [
        "\n",
        "Written D:/ml/genres/rock\\rock.00099.fft"
       ]
      },
      {
       "output_type": "stream",
       "stream": "stdout",
       "text": [
        "\n",
        "Written D:/ml/genres/metal\\metal.00000.fft"
       ]
      },
      {
       "output_type": "stream",
       "stream": "stdout",
       "text": [
        "\n",
        "Written D:/ml/genres/metal\\metal.00001.fft"
       ]
      },
      {
       "output_type": "stream",
       "stream": "stdout",
       "text": [
        "\n",
        "Written D:/ml/genres/metal\\metal.00002.fft"
       ]
      },
      {
       "output_type": "stream",
       "stream": "stdout",
       "text": [
        "\n",
        "Written D:/ml/genres/metal\\metal.00003.fft"
       ]
      },
      {
       "output_type": "stream",
       "stream": "stdout",
       "text": [
        "\n",
        "Written D:/ml/genres/metal\\metal.00004.fft"
       ]
      },
      {
       "output_type": "stream",
       "stream": "stdout",
       "text": [
        "\n",
        "Written D:/ml/genres/metal\\metal.00005.fft"
       ]
      },
      {
       "output_type": "stream",
       "stream": "stdout",
       "text": [
        "\n",
        "Written D:/ml/genres/metal\\metal.00006.fft"
       ]
      },
      {
       "output_type": "stream",
       "stream": "stdout",
       "text": [
        "\n",
        "Written D:/ml/genres/metal\\metal.00007.fft"
       ]
      },
      {
       "output_type": "stream",
       "stream": "stdout",
       "text": [
        "\n",
        "Written D:/ml/genres/metal\\metal.00008.fft"
       ]
      },
      {
       "output_type": "stream",
       "stream": "stdout",
       "text": [
        "\n",
        "Written D:/ml/genres/metal\\metal.00009.fft"
       ]
      },
      {
       "output_type": "stream",
       "stream": "stdout",
       "text": [
        "\n",
        "Written D:/ml/genres/metal\\metal.00010.fft"
       ]
      },
      {
       "output_type": "stream",
       "stream": "stdout",
       "text": [
        "\n",
        "Written D:/ml/genres/metal\\metal.00011.fft"
       ]
      },
      {
       "output_type": "stream",
       "stream": "stdout",
       "text": [
        "\n",
        "Written D:/ml/genres/metal\\metal.00012.fft"
       ]
      },
      {
       "output_type": "stream",
       "stream": "stdout",
       "text": [
        "\n",
        "Written D:/ml/genres/metal\\metal.00013.fft"
       ]
      },
      {
       "output_type": "stream",
       "stream": "stdout",
       "text": [
        "\n",
        "Written D:/ml/genres/metal\\metal.00014.fft"
       ]
      },
      {
       "output_type": "stream",
       "stream": "stdout",
       "text": [
        "\n",
        "Written D:/ml/genres/metal\\metal.00015.fft"
       ]
      },
      {
       "output_type": "stream",
       "stream": "stdout",
       "text": [
        "\n",
        "Written D:/ml/genres/metal\\metal.00016.fft"
       ]
      },
      {
       "output_type": "stream",
       "stream": "stdout",
       "text": [
        "\n",
        "Written D:/ml/genres/metal\\metal.00017.fft"
       ]
      },
      {
       "output_type": "stream",
       "stream": "stdout",
       "text": [
        "\n",
        "Written D:/ml/genres/metal\\metal.00018.fft"
       ]
      },
      {
       "output_type": "stream",
       "stream": "stdout",
       "text": [
        "\n",
        "Written D:/ml/genres/metal\\metal.00019.fft"
       ]
      },
      {
       "output_type": "stream",
       "stream": "stdout",
       "text": [
        "\n",
        "Written D:/ml/genres/metal\\metal.00020.fft"
       ]
      },
      {
       "output_type": "stream",
       "stream": "stdout",
       "text": [
        "\n",
        "Written D:/ml/genres/metal\\metal.00021.fft"
       ]
      },
      {
       "output_type": "stream",
       "stream": "stdout",
       "text": [
        "\n",
        "Written D:/ml/genres/metal\\metal.00022.fft"
       ]
      },
      {
       "output_type": "stream",
       "stream": "stdout",
       "text": [
        "\n",
        "Written D:/ml/genres/metal\\metal.00023.fft"
       ]
      },
      {
       "output_type": "stream",
       "stream": "stdout",
       "text": [
        "\n",
        "Written D:/ml/genres/metal\\metal.00024.fft"
       ]
      },
      {
       "output_type": "stream",
       "stream": "stdout",
       "text": [
        "\n",
        "Written D:/ml/genres/metal\\metal.00025.fft"
       ]
      },
      {
       "output_type": "stream",
       "stream": "stdout",
       "text": [
        "\n",
        "Written D:/ml/genres/metal\\metal.00026.fft"
       ]
      },
      {
       "output_type": "stream",
       "stream": "stdout",
       "text": [
        "\n",
        "Written D:/ml/genres/metal\\metal.00027.fft"
       ]
      },
      {
       "output_type": "stream",
       "stream": "stdout",
       "text": [
        "\n",
        "Written D:/ml/genres/metal\\metal.00028.fft"
       ]
      },
      {
       "output_type": "stream",
       "stream": "stdout",
       "text": [
        "\n",
        "Written D:/ml/genres/metal\\metal.00029.fft"
       ]
      },
      {
       "output_type": "stream",
       "stream": "stdout",
       "text": [
        "\n",
        "Written D:/ml/genres/metal\\metal.00030.fft"
       ]
      },
      {
       "output_type": "stream",
       "stream": "stdout",
       "text": [
        "\n",
        "Written D:/ml/genres/metal\\metal.00031.fft"
       ]
      },
      {
       "output_type": "stream",
       "stream": "stdout",
       "text": [
        "\n",
        "Written D:/ml/genres/metal\\metal.00032.fft"
       ]
      },
      {
       "output_type": "stream",
       "stream": "stdout",
       "text": [
        "\n",
        "Written D:/ml/genres/metal\\metal.00033.fft"
       ]
      },
      {
       "output_type": "stream",
       "stream": "stdout",
       "text": [
        "\n",
        "Written D:/ml/genres/metal\\metal.00034.fft"
       ]
      },
      {
       "output_type": "stream",
       "stream": "stdout",
       "text": [
        "\n",
        "Written D:/ml/genres/metal\\metal.00035.fft"
       ]
      },
      {
       "output_type": "stream",
       "stream": "stdout",
       "text": [
        "\n",
        "Written D:/ml/genres/metal\\metal.00036.fft"
       ]
      },
      {
       "output_type": "stream",
       "stream": "stdout",
       "text": [
        "\n",
        "Written D:/ml/genres/metal\\metal.00037.fft"
       ]
      },
      {
       "output_type": "stream",
       "stream": "stdout",
       "text": [
        "\n",
        "Written D:/ml/genres/metal\\metal.00038.fft"
       ]
      },
      {
       "output_type": "stream",
       "stream": "stdout",
       "text": [
        "\n",
        "Written D:/ml/genres/metal\\metal.00039.fft"
       ]
      },
      {
       "output_type": "stream",
       "stream": "stdout",
       "text": [
        "\n",
        "Written D:/ml/genres/metal\\metal.00040.fft"
       ]
      },
      {
       "output_type": "stream",
       "stream": "stdout",
       "text": [
        "\n",
        "Written D:/ml/genres/metal\\metal.00041.fft"
       ]
      },
      {
       "output_type": "stream",
       "stream": "stdout",
       "text": [
        "\n",
        "Written D:/ml/genres/metal\\metal.00042.fft"
       ]
      },
      {
       "output_type": "stream",
       "stream": "stdout",
       "text": [
        "\n",
        "Written D:/ml/genres/metal\\metal.00043.fft"
       ]
      },
      {
       "output_type": "stream",
       "stream": "stdout",
       "text": [
        "\n",
        "Written D:/ml/genres/metal\\metal.00044.fft"
       ]
      },
      {
       "output_type": "stream",
       "stream": "stdout",
       "text": [
        "\n",
        "Written D:/ml/genres/metal\\metal.00045.fft"
       ]
      },
      {
       "output_type": "stream",
       "stream": "stdout",
       "text": [
        "\n",
        "Written D:/ml/genres/metal\\metal.00046.fft"
       ]
      },
      {
       "output_type": "stream",
       "stream": "stdout",
       "text": [
        "\n",
        "Written D:/ml/genres/metal\\metal.00047.fft"
       ]
      },
      {
       "output_type": "stream",
       "stream": "stdout",
       "text": [
        "\n",
        "Written D:/ml/genres/metal\\metal.00048.fft"
       ]
      },
      {
       "output_type": "stream",
       "stream": "stdout",
       "text": [
        "\n",
        "Written D:/ml/genres/metal\\metal.00049.fft"
       ]
      },
      {
       "output_type": "stream",
       "stream": "stdout",
       "text": [
        "\n",
        "Written D:/ml/genres/metal\\metal.00050.fft"
       ]
      },
      {
       "output_type": "stream",
       "stream": "stdout",
       "text": [
        "\n",
        "Written D:/ml/genres/metal\\metal.00051.fft"
       ]
      },
      {
       "output_type": "stream",
       "stream": "stdout",
       "text": [
        "\n",
        "Written D:/ml/genres/metal\\metal.00052.fft"
       ]
      },
      {
       "output_type": "stream",
       "stream": "stdout",
       "text": [
        "\n",
        "Written D:/ml/genres/metal\\metal.00053.fft"
       ]
      },
      {
       "output_type": "stream",
       "stream": "stdout",
       "text": [
        "\n",
        "Written D:/ml/genres/metal\\metal.00054.fft"
       ]
      },
      {
       "output_type": "stream",
       "stream": "stdout",
       "text": [
        "\n",
        "Written D:/ml/genres/metal\\metal.00055.fft"
       ]
      },
      {
       "output_type": "stream",
       "stream": "stdout",
       "text": [
        "\n",
        "Written D:/ml/genres/metal\\metal.00056.fft"
       ]
      },
      {
       "output_type": "stream",
       "stream": "stdout",
       "text": [
        "\n",
        "Written D:/ml/genres/metal\\metal.00057.fft"
       ]
      },
      {
       "output_type": "stream",
       "stream": "stdout",
       "text": [
        "\n",
        "Written D:/ml/genres/metal\\metal.00058.fft"
       ]
      },
      {
       "output_type": "stream",
       "stream": "stdout",
       "text": [
        "\n",
        "Written D:/ml/genres/metal\\metal.00059.fft"
       ]
      },
      {
       "output_type": "stream",
       "stream": "stdout",
       "text": [
        "\n",
        "Written D:/ml/genres/metal\\metal.00060.fft"
       ]
      },
      {
       "output_type": "stream",
       "stream": "stdout",
       "text": [
        "\n",
        "Written D:/ml/genres/metal\\metal.00061.fft"
       ]
      },
      {
       "output_type": "stream",
       "stream": "stdout",
       "text": [
        "\n",
        "Written D:/ml/genres/metal\\metal.00062.fft"
       ]
      },
      {
       "output_type": "stream",
       "stream": "stdout",
       "text": [
        "\n",
        "Written D:/ml/genres/metal\\metal.00063.fft"
       ]
      },
      {
       "output_type": "stream",
       "stream": "stdout",
       "text": [
        "\n",
        "Written D:/ml/genres/metal\\metal.00064.fft"
       ]
      },
      {
       "output_type": "stream",
       "stream": "stdout",
       "text": [
        "\n",
        "Written D:/ml/genres/metal\\metal.00065.fft"
       ]
      },
      {
       "output_type": "stream",
       "stream": "stdout",
       "text": [
        "\n",
        "Written D:/ml/genres/metal\\metal.00066.fft"
       ]
      },
      {
       "output_type": "stream",
       "stream": "stdout",
       "text": [
        "\n",
        "Written D:/ml/genres/metal\\metal.00067.fft"
       ]
      },
      {
       "output_type": "stream",
       "stream": "stdout",
       "text": [
        "\n",
        "Written D:/ml/genres/metal\\metal.00068.fft"
       ]
      },
      {
       "output_type": "stream",
       "stream": "stdout",
       "text": [
        "\n",
        "Written D:/ml/genres/metal\\metal.00069.fft"
       ]
      },
      {
       "output_type": "stream",
       "stream": "stdout",
       "text": [
        "\n",
        "Written D:/ml/genres/metal\\metal.00070.fft"
       ]
      },
      {
       "output_type": "stream",
       "stream": "stdout",
       "text": [
        "\n",
        "Written D:/ml/genres/metal\\metal.00071.fft"
       ]
      },
      {
       "output_type": "stream",
       "stream": "stdout",
       "text": [
        "\n",
        "Written D:/ml/genres/metal\\metal.00072.fft"
       ]
      },
      {
       "output_type": "stream",
       "stream": "stdout",
       "text": [
        "\n",
        "Written D:/ml/genres/metal\\metal.00073.fft"
       ]
      },
      {
       "output_type": "stream",
       "stream": "stdout",
       "text": [
        "\n",
        "Written D:/ml/genres/metal\\metal.00074.fft"
       ]
      },
      {
       "output_type": "stream",
       "stream": "stdout",
       "text": [
        "\n",
        "Written D:/ml/genres/metal\\metal.00075.fft"
       ]
      },
      {
       "output_type": "stream",
       "stream": "stdout",
       "text": [
        "\n",
        "Written D:/ml/genres/metal\\metal.00076.fft"
       ]
      },
      {
       "output_type": "stream",
       "stream": "stdout",
       "text": [
        "\n",
        "Written D:/ml/genres/metal\\metal.00077.fft"
       ]
      },
      {
       "output_type": "stream",
       "stream": "stdout",
       "text": [
        "\n",
        "Written D:/ml/genres/metal\\metal.00078.fft"
       ]
      },
      {
       "output_type": "stream",
       "stream": "stdout",
       "text": [
        "\n",
        "Written D:/ml/genres/metal\\metal.00079.fft"
       ]
      },
      {
       "output_type": "stream",
       "stream": "stdout",
       "text": [
        "\n",
        "Written D:/ml/genres/metal\\metal.00080.fft"
       ]
      },
      {
       "output_type": "stream",
       "stream": "stdout",
       "text": [
        "\n",
        "Written D:/ml/genres/metal\\metal.00081.fft"
       ]
      },
      {
       "output_type": "stream",
       "stream": "stdout",
       "text": [
        "\n",
        "Written D:/ml/genres/metal\\metal.00082.fft"
       ]
      },
      {
       "output_type": "stream",
       "stream": "stdout",
       "text": [
        "\n",
        "Written D:/ml/genres/metal\\metal.00083.fft"
       ]
      },
      {
       "output_type": "stream",
       "stream": "stdout",
       "text": [
        "\n",
        "Written D:/ml/genres/metal\\metal.00084.fft"
       ]
      },
      {
       "output_type": "stream",
       "stream": "stdout",
       "text": [
        "\n",
        "Written D:/ml/genres/metal\\metal.00085.fft"
       ]
      },
      {
       "output_type": "stream",
       "stream": "stdout",
       "text": [
        "\n",
        "Written D:/ml/genres/metal\\metal.00086.fft"
       ]
      },
      {
       "output_type": "stream",
       "stream": "stdout",
       "text": [
        "\n",
        "Written D:/ml/genres/metal\\metal.00087.fft"
       ]
      },
      {
       "output_type": "stream",
       "stream": "stdout",
       "text": [
        "\n",
        "Written D:/ml/genres/metal\\metal.00088.fft"
       ]
      },
      {
       "output_type": "stream",
       "stream": "stdout",
       "text": [
        "\n",
        "Written D:/ml/genres/metal\\metal.00089.fft"
       ]
      },
      {
       "output_type": "stream",
       "stream": "stdout",
       "text": [
        "\n",
        "Written D:/ml/genres/metal\\metal.00090.fft"
       ]
      },
      {
       "output_type": "stream",
       "stream": "stdout",
       "text": [
        "\n",
        "Written D:/ml/genres/metal\\metal.00091.fft"
       ]
      },
      {
       "output_type": "stream",
       "stream": "stdout",
       "text": [
        "\n",
        "Written D:/ml/genres/metal\\metal.00092.fft"
       ]
      },
      {
       "output_type": "stream",
       "stream": "stdout",
       "text": [
        "\n",
        "Written D:/ml/genres/metal\\metal.00093.fft"
       ]
      },
      {
       "output_type": "stream",
       "stream": "stdout",
       "text": [
        "\n",
        "Written D:/ml/genres/metal\\metal.00094.fft"
       ]
      },
      {
       "output_type": "stream",
       "stream": "stdout",
       "text": [
        "\n",
        "Written D:/ml/genres/metal\\metal.00095.fft"
       ]
      },
      {
       "output_type": "stream",
       "stream": "stdout",
       "text": [
        "\n",
        "Written D:/ml/genres/metal\\metal.00096.fft"
       ]
      },
      {
       "output_type": "stream",
       "stream": "stdout",
       "text": [
        "\n",
        "Written D:/ml/genres/metal\\metal.00097.fft"
       ]
      },
      {
       "output_type": "stream",
       "stream": "stdout",
       "text": [
        "\n",
        "Written D:/ml/genres/metal\\metal.00098.fft"
       ]
      },
      {
       "output_type": "stream",
       "stream": "stdout",
       "text": [
        "\n",
        "Written D:/ml/genres/metal\\metal.00099.fft"
       ]
      },
      {
       "output_type": "stream",
       "stream": "stdout",
       "text": [
        "\n"
       ]
      }
     ],
     "prompt_number": 63
    },
    {
     "cell_type": "heading",
     "level": 3,
     "metadata": {},
     "source": [
      "\ubd84\ub958\uae30 \ud6c8\ub828"
     ]
    },
    {
     "cell_type": "code",
     "collapsed": false,
     "input": [
      "import os\n",
      "os.chdir(ML09_DIR)\n",
      "% load utils.py"
     ],
     "language": "python",
     "metadata": {},
     "outputs": [],
     "prompt_number": 87
    },
    {
     "cell_type": "code",
     "collapsed": false,
     "input": [
      "# This code is supporting material for the book\n",
      "# Building Machine Learning Systems with Python\n",
      "# by Willi Richert and Luis Pedro Coelho\n",
      "# published by PACKT Publishing\n",
      "#\n",
      "# It is made available under the MIT License\n",
      "\n",
      "import os\n",
      "import sys\n",
      "\n",
      "from matplotlib import pylab\n",
      "import numpy as np\n",
      "\n",
      "DATA_DIR = os.path.join(\n",
      "    os.path.dirname(os.path.realpath(\"__file__\")), \"data\")\n",
      "\n",
      "CHART_DIR = os.path.join(\n",
      "    os.path.dirname(os.path.realpath(\"__file__\")), \"charts\")\n",
      "print DATA_DIR, CHART_DIR\n",
      "for d in [DATA_DIR, CHART_DIR]:\n",
      "    if not os.path.exists(d):\n",
      "        os.mkdir(d)\n",
      "\n",
      "# Put your directory to the different music genres here\n",
      "GENRE_DIR = \"D:/ml/genres\"\n",
      "GENRE_LIST = [\"classical\", \"jazz\", \"country\", \"pop\", \"rock\", \"metal\"]\n",
      "\n",
      "# Put your directory to the test dir here\n",
      "TEST_DIR = \"D:/ml/test\"\n",
      "\n",
      "if GENRE_DIR is None or TEST_DIR is None:\n",
      "    print(\"Please set GENRE_DIR and TEST_DIR in utils.py\")\n",
      "    sys.exit(1)\n",
      "\n",
      "\n",
      "def plot_confusion_matrix(cm, genre_list, name, title):\n",
      "    pylab.clf()\n",
      "    pylab.matshow(cm, fignum=False, cmap='Blues', vmin=0, vmax=1.0)\n",
      "    ax = pylab.axes()\n",
      "    ax.set_xticks(range(len(genre_list)))\n",
      "    ax.set_xticklabels(genre_list)\n",
      "    ax.xaxis.set_ticks_position(\"bottom\")\n",
      "    ax.set_yticks(range(len(genre_list)))\n",
      "    ax.set_yticklabels(genre_list)\n",
      "    pylab.title(title)\n",
      "    pylab.colorbar()\n",
      "    pylab.grid(False)\n",
      "    pylab.xlabel('Predicted class')\n",
      "    pylab.ylabel('True class')\n",
      "    pylab.show()\n",
      "    \n",
      "    \n",
      "def plot_pr(auc_score, name, precision, recall, label=None):\n",
      "    pylab.clf()\n",
      "    pylab.figure(num=None, figsize=(5, 4))\n",
      "    pylab.grid(True)\n",
      "    pylab.fill_between(recall, precision, alpha=0.5)\n",
      "    pylab.plot(recall, precision, lw=1)\n",
      "    pylab.xlim([0.0, 1.0])\n",
      "    pylab.ylim([0.0, 1.0])\n",
      "    pylab.xlabel('Recall')\n",
      "    pylab.ylabel('Precision')\n",
      "    pylab.title('P/R curve (AUC = %0.2f) / %s' % (auc_score, label))\n",
      "    filename = name.replace(\" \", \"_\")\n",
      "    pylab.savefig(\n",
      "        os.path.join(CHART_DIR, \"pr_\" + filename + \".png\"), bbox_inches=\"tight\")\n",
      "\n",
      "\n",
      "def plot_roc(auc_score, name, tpr, fpr, label=None):\n",
      "    pylab.clf()\n",
      "    pylab.figure(num=None, figsize=(5, 4))\n",
      "    pylab.grid(True)\n",
      "    pylab.plot([0, 1], [0, 1], 'k--')\n",
      "    pylab.plot(fpr, tpr)\n",
      "    pylab.fill_between(fpr, tpr, alpha=0.5)\n",
      "    pylab.xlim([0.0, 1.0])\n",
      "    pylab.ylim([0.0, 1.0])\n",
      "    pylab.xlabel('False Positive Rate')\n",
      "    pylab.ylabel('True Positive Rate')\n",
      "    pylab.title('ROC curve (AUC = %0.2f) / %s' %\n",
      "                (auc_score, label), verticalalignment=\"bottom\")\n",
      "    pylab.legend(loc=\"lower right\")\n",
      "    filename = name.replace(\" \", \"_\")\n",
      "    pylab.savefig(\n",
      "        os.path.join(CHART_DIR, \"roc_\" + filename + \".png\"), bbox_inches=\"tight\")\n",
      "\n",
      "\n",
      "def show_most_informative_features(vectorizer, clf, n=20):\n",
      "    c_f = sorted(zip(clf.coef_[0], vectorizer.get_feature_names()))\n",
      "    top = zip(c_f[:n], c_f[:-(n + 1):-1])\n",
      "    for (c1, f1), (c2, f2) in top:\n",
      "        print(\"\\t%.4f\\t%-15s\\t\\t%.4f\\t%-15s\" % (c1, f1, c2, f2))\n",
      "\n",
      "\n",
      "def plot_log():\n",
      "    pylab.clf()\n",
      "\n",
      "    x = np.arange(0.001, 1, 0.001)\n",
      "    y = np.log(x)\n",
      "\n",
      "    pylab.title('Relationship between probabilities and their logarithm')\n",
      "    pylab.plot(x, y)\n",
      "    pylab.grid(True)\n",
      "    pylab.xlabel('P')\n",
      "    pylab.ylabel('log(P)')\n",
      "    filename = 'log_probs.png'\n",
      "    pylab.savefig(os.path.join(CHART_DIR, filename), bbox_inches=\"tight\")\n",
      "\n",
      "\n",
      "def plot_feat_importance(feature_names, clf, name):\n",
      "    pylab.clf()\n",
      "    coef_ = clf.coef_\n",
      "    important = np.argsort(np.absolute(coef_.ravel()))\n",
      "    f_imp = feature_names[important]\n",
      "    coef = coef_.ravel()[important]\n",
      "    inds = np.argsort(coef)\n",
      "    f_imp = f_imp[inds]\n",
      "    coef = coef[inds]\n",
      "    xpos = np.array(range(len(coef)))\n",
      "    pylab.bar(xpos, coef, width=1)\n",
      "\n",
      "    pylab.title('Feature importance for %s' % (name))\n",
      "    ax = pylab.gca()\n",
      "    ax.set_xticks(np.arange(len(coef)))\n",
      "    labels = ax.set_xticklabels(f_imp)\n",
      "    for label in labels:\n",
      "        label.set_rotation(90)\n",
      "    filename = name.replace(\" \", \"_\")\n",
      "    pylab.savefig(os.path.join(\n",
      "        CHART_DIR, \"feat_imp_%s.png\" % filename), bbox_inches=\"tight\")\n",
      "\n",
      "\n",
      "def plot_feat_hist(data_name_list, filename=None):\n",
      "    pylab.clf()\n",
      "    num_rows = 1 + (len(data_name_list) - 1) / 2\n",
      "    num_cols = 1 if len(data_name_list) == 1 else 2\n",
      "    pylab.figure(figsize=(5 * num_cols, 4 * num_rows))\n",
      "\n",
      "    for i in range(num_rows):\n",
      "        for j in range(num_cols):\n",
      "            pylab.subplot(num_rows, num_cols, 1 + i * num_cols + j)\n",
      "            x, name = data_name_list[i * num_cols + j]\n",
      "            pylab.title(name)\n",
      "            pylab.xlabel('Value')\n",
      "            pylab.ylabel('Density')\n",
      "            # the histogram of the data\n",
      "            max_val = np.max(x)\n",
      "            if max_val <= 1.0:\n",
      "                bins = 50\n",
      "            elif max_val > 50:\n",
      "                bins = 50\n",
      "            else:\n",
      "                bins = max_val\n",
      "            n, bins, patches = pylab.hist(\n",
      "                x, bins=bins, normed=1, facecolor='green', alpha=0.75)\n",
      "\n",
      "            pylab.grid(True)\n",
      "\n",
      "    if not filename:\n",
      "        filename = \"feat_hist_%s.png\" % name\n",
      "\n",
      "    pylab.savefig(os.path.join(CHART_DIR, filename), bbox_inches=\"tight\")\n",
      "\n",
      "\n",
      "def plot_bias_variance(data_sizes, train_errors, test_errors, name):\n",
      "    pylab.clf()\n",
      "    pylab.ylim([0.0, 1.0])\n",
      "    pylab.xlabel('Data set size')\n",
      "    pylab.ylabel('Error')\n",
      "    pylab.title(\"Bias-Variance for '%s'\" % name)\n",
      "    pylab.plot(\n",
      "        data_sizes, train_errors, \"-\", data_sizes, test_errors, \"--\", lw=1)\n",
      "    pylab.legend([\"train error\", \"test error\"], loc=\"upper right\")\n",
      "    pylab.grid(True)\n",
      "    pylab.savefig(os.path.join(CHART_DIR, \"bv_\" + name + \".png\"))\n"
     ],
     "language": "python",
     "metadata": {},
     "outputs": [
      {
       "output_type": "stream",
       "stream": "stdout",
       "text": [
        "D:\\ml\\data D:\\ml\\charts\n"
       ]
      }
     ],
     "prompt_number": 88
    },
    {
     "cell_type": "code",
     "collapsed": false,
     "input": [
      "import os\n",
      "os.chdir(ML09_DIR)\n",
      "% load fft.py"
     ],
     "language": "python",
     "metadata": {},
     "outputs": [],
     "prompt_number": 67
    },
    {
     "cell_type": "code",
     "collapsed": false,
     "input": [
      "# This code is supporting material for the book\n",
      "# Building Machine Learning Systems with Python\n",
      "# by Willi Richert and Luis Pedro Coelho\n",
      "# published by PACKT Publishing\n",
      "#\n",
      "# It is made available under the MIT License\n",
      "\n",
      "import sys\n",
      "import os\n",
      "import glob\n",
      "\n",
      "import numpy as np\n",
      "import scipy\n",
      "import scipy.io.wavfile\n",
      "\n",
      "from utils import GENRE_DIR, CHART_DIR\n",
      "\n",
      "import matplotlib.pyplot as plt\n",
      "from matplotlib.ticker import EngFormatter\n",
      "\n",
      "\n",
      "def write_fft(fft_features, fn):\n",
      "    \"\"\"\n",
      "    Write the FFT features to separate files to speed up processing.\n",
      "    \"\"\"\n",
      "    base_fn, ext = os.path.splitext(fn)\n",
      "    data_fn = base_fn + \".fft\"\n",
      "\n",
      "    np.save(data_fn, fft_features)\n",
      "    print(\"Written \"%data_fn)\n",
      "\n",
      "\n",
      "def create_fft(fn):\n",
      "    sample_rate, X = scipy.io.wavfile.read(fn)\n",
      "\n",
      "    fft_features = abs(scipy.fft(X)[:1000])\n",
      "    write_fft(fft_features, fn)\n",
      "\n",
      "\n",
      "def read_fft(genre_list, base_dir=GENRE_DIR):\n",
      "    X = []\n",
      "    y = []\n",
      "    for label, genre in enumerate(genre_list):\n",
      "        genre_dir = os.path.join(base_dir, genre, \"*.fft.npy\")\n",
      "        file_list = glob.glob(genre_dir)\n",
      "        assert(file_list), genre_dir\n",
      "        for fn in file_list:\n",
      "            fft_features = np.load(fn)\n",
      "\n",
      "            X.append(fft_features[:1000])\n",
      "            y.append(label)\n",
      "\n",
      "    return np.array(X), np.array(y)\n",
      "\n",
      "\n",
      "def plot_wav_fft(wav_filename, desc=None):\n",
      "    plt.clf()\n",
      "    plt.figure(num=None, figsize=(6, 4))\n",
      "    sample_rate, X = scipy.io.wavfile.read(wav_filename)\n",
      "    spectrum = np.fft.fft(X)\n",
      "    freq = np.fft.fftfreq(len(X), 1.0 / sample_rate)\n",
      "\n",
      "    plt.subplot(211)\n",
      "    num_samples = 200.0\n",
      "    plt.xlim(0, num_samples / sample_rate)\n",
      "    plt.xlabel(\"time [s]\")\n",
      "    plt.title(desc or wav_filename)\n",
      "    plt.plot(np.arange(num_samples) / sample_rate, X[:num_samples])\n",
      "    plt.grid(True)\n",
      "\n",
      "    plt.subplot(212)\n",
      "    plt.xlim(0, 5000)\n",
      "    plt.xlabel(\"frequency [Hz]\")\n",
      "    plt.xticks(np.arange(5) * 1000)\n",
      "    if desc:\n",
      "        desc = desc.strip()\n",
      "        fft_desc = desc[0].lower() + desc[1:]\n",
      "    else:\n",
      "        fft_desc = wav_filename\n",
      "    plt.title(\"FFT of %s\" % fft_desc)\n",
      "    plt.plot(freq, abs(spectrum), linewidth=5)\n",
      "    plt.grid(True)\n",
      "\n",
      "    plt.tight_layout()\n",
      "\n",
      "    rel_filename = os.path.split(wav_filename)[1]\n",
      "    plt.savefig(\"%s_wav_fft.png\" % os.path.splitext(rel_filename)[0],\n",
      "                bbox_inches='tight')\n",
      "\n",
      "    plt.show()\n",
      "\n",
      "\n",
      "def plot_wav_fft_demo():\n",
      "    plot_wav_fft(\"sine_a.wav\", \"400Hz sine wave\")\n",
      "    plot_wav_fft(\"sine_b.wav\", \"3,000Hz sine wave\")\n",
      "    plot_wav_fft(\"sine_mix.wav\", \"Mixed sine wave\")\n",
      "\n",
      "\n",
      "def plot_specgram(ax, fn):\n",
      "    sample_rate, X = scipy.io.wavfile.read(fn)\n",
      "    ax.specgram(X, Fs=sample_rate, xextent=(0, 30))\n",
      "\n",
      "\n",
      "def plot_specgrams(base_dir=CHART_DIR):\n",
      "    \"\"\"\n",
      "    Plot a bunch of spectrograms of wav files in different genres\n",
      "    \"\"\"\n",
      "    plt.clf()\n",
      "    genres = [\"classical\", \"jazz\", \"country\", \"pop\", \"rock\", \"metal\"]\n",
      "    num_files = 3\n",
      "    f, axes = plt.subplots(len(genres), num_files)\n",
      "\n",
      "    for genre_idx, genre in enumerate(genres):\n",
      "        for idx, fn in enumerate(glob.glob(os.path.join(GENRE_DIR, genre, \"*.wav\"))):\n",
      "            if idx == num_files:\n",
      "                break\n",
      "            axis = axes[genre_idx, idx]\n",
      "            axis.yaxis.set_major_formatter(EngFormatter())\n",
      "            axis.set_title(\"%s song %i\" % (genre, idx + 1))\n",
      "            plot_specgram(axis, fn)\n",
      "\n",
      "    specgram_file = os.path.join(base_dir, \"Spectrogram_Genres.png\")\n",
      "    plt.savefig(specgram_file, bbox_inches=\"tight\")\n",
      "\n",
      "    plt.show()"
     ],
     "language": "python",
     "metadata": {},
     "outputs": [],
     "prompt_number": 69
    },
    {
     "cell_type": "code",
     "collapsed": false,
     "input": [
      "# This code is supporting material for the book\n",
      "# Building Machine Learning Systems with Python\n",
      "# by Willi Richert and Luis Pedro Coelho\n",
      "# published by PACKT Publishing\n",
      "#\n",
      "# It is made available under the MIT License\n",
      "\n",
      "import numpy as np\n",
      "from collections import defaultdict\n",
      "\n",
      "from sklearn.metrics import precision_recall_curve, roc_curve\n",
      "from sklearn.metrics import auc\n",
      "from sklearn.cross_validation import ShuffleSplit\n",
      "\n",
      "from sklearn.metrics import confusion_matrix\n",
      "\n",
      "from utils import plot_pr, plot_roc, plot_confusion_matrix, GENRE_LIST\n",
      "\n",
      "from fft import read_fft\n",
      "\n",
      "genre_list = GENRE_LIST\n",
      "\n",
      "\n",
      "def train_model(clf_factory, X, Y, name, plot=True):\n",
      "    labels = np.unique(Y)\n",
      "\n",
      "    cv = ShuffleSplit(\n",
      "        n=len(X), n_iter=1, test_size=0.3,  random_state=0)\n",
      "    print \"CV : \", cv\n",
      "    train_errors = []\n",
      "    test_errors = []\n",
      "\n",
      "    scores = []\n",
      "    pr_scores = defaultdict(list)\n",
      "    precisions, recalls, thresholds = defaultdict(\n",
      "        list), defaultdict(list), defaultdict(list)\n",
      "\n",
      "    roc_scores = defaultdict(list)\n",
      "    tprs = defaultdict(list)\n",
      "    fprs = defaultdict(list)\n",
      "\n",
      "    clfs = []  # just to later get the median\n",
      "\n",
      "    cms = []\n",
      "\n",
      "    for train, test in cv:\n",
      "        X_train, y_train = X[train], Y[train]\n",
      "        X_test, y_test = X[test], Y[test]\n",
      "\n",
      "        clf = clf_factory()\n",
      "        clf.fit(X_train, y_train)\n",
      "        clfs.append(clf)\n",
      "\n",
      "        train_score = clf.score(X_train, y_train)\n",
      "        test_score = clf.score(X_test, y_test)\n",
      "        scores.append(test_score)\n",
      "\n",
      "        train_errors.append(1 - train_score)\n",
      "        test_errors.append(1 - test_score)\n",
      "\n",
      "        y_pred = clf.predict(X_test)\n",
      "        cm = confusion_matrix(y_test, y_pred)\n",
      "        print cm\n",
      "        cms.append(cm)\n",
      "\n",
      "        for label in labels:\n",
      "            y_label_test = np.asarray(y_test == label, dtype=int)\n",
      "            proba = clf.predict_proba(X_test)\n",
      "            proba_label = proba[:, label]\n",
      "\n",
      "            precision, recall, pr_thresholds = precision_recall_curve(\n",
      "                y_label_test, proba_label)\n",
      "            pr_scores[label].append(auc(recall, precision))\n",
      "            precisions[label].append(precision)\n",
      "            recalls[label].append(recall)\n",
      "            thresholds[label].append(pr_thresholds)\n",
      "\n",
      "            fpr, tpr, roc_thresholds = roc_curve(y_label_test, proba_label)\n",
      "            roc_scores[label].append(auc(fpr, tpr))\n",
      "            tprs[label].append(tpr)\n",
      "            fprs[label].append(fpr)\n",
      "\n",
      "    if plot:\n",
      "        for label in labels:\n",
      "            print(\"Plotting %s\" % genre_list[label])\n",
      "            scores_to_sort = roc_scores[label]\n",
      "            median = np.argsort(scores_to_sort)[len(scores_to_sort) / 2]\n",
      "            print scores_to_sort, median\n",
      "            desc = \"%s %s\" % (name, genre_list[label])\n",
      "            plot_pr(pr_scores[label][median], desc, precisions[label][median],\n",
      "                    recalls[label][median], label='%s vs rest' % genre_list[label])\n",
      "            plot_roc(roc_scores[label][median], desc, tprs[label][median],\n",
      "                     fprs[label][median], label='%s vs rest' % genre_list[label])\n",
      "\n",
      "    all_pr_scores = np.asarray(pr_scores.values()).flatten()\n",
      "    summary = (np.mean(scores), np.std(scores),\n",
      "               np.mean(all_pr_scores), np.std(all_pr_scores))\n",
      "    print \"all_pr_scores:\", all_pr_scores, \"scores:\", scores\n",
      "    print(\"%.3f\\t%.3f\\t%.3f\\t%.3f\\t\" % summary)\n",
      "\n",
      "    print \"np.mean(train_errors), np.mean(test_errors), np.asarray(cms) : \", np.mean(train_errors), np.mean(test_errors), np.asarray(cms)\n",
      "    return np.mean(train_errors), np.mean(test_errors), np.asarray(cms)\n",
      "\n",
      "\n",
      "def create_model():\n",
      "    from sklearn.linear_model.logistic import LogisticRegression\n",
      "    clf = LogisticRegression()\n",
      "\n",
      "    return clf\n",
      "\n",
      "\n",
      "X, y = read_fft(genre_list)\n",
      "\n",
      "train_avg, test_avg, cms = train_model(create_model, X, y, \"Log Reg FFT\", plot=True)\n",
      "print \"cms : \", cms\n",
      "cm_avg = np.mean(cms, axis=0)    \n",
      "cm_norm = cm_avg / np.sum(cm_avg, axis=0)\n",
      "print \"cm_avg, cm_norm : \", cm_avg, cm_norm\n",
      "plot_confusion_matrix(cm_norm, genre_list, \"fft\", \"Confusion matrix of an FFT based classifier\")\n"
     ],
     "language": "python",
     "metadata": {},
     "outputs": [
      {
       "output_type": "stream",
       "stream": "stdout",
       "text": [
        "CV :  ShuffleSplit(600, n_iter=1, test_size=0.3, random_state=0)\n",
        "[[22  3  2  1  2  1]\n",
        " [ 6 11  5  0  2  0]\n",
        " [ 1  7  9  1 10  2]\n",
        " [ 2  4  7  8  6  4]\n",
        " [ 3  4  9  2 10  6]\n",
        " [ 2  3  3  0 12 10]]"
       ]
      },
      {
       "output_type": "stream",
       "stream": "stdout",
       "text": [
        "\n",
        "Plotting classical\n",
        "[0.87443169517211516] 0\n",
        "Plotting jazz"
       ]
      },
      {
       "output_type": "stream",
       "stream": "stdout",
       "text": [
        "\n",
        "[0.71434294871794868] 0\n",
        "Plotting country"
       ]
      },
      {
       "output_type": "stream",
       "stream": "stdout",
       "text": [
        "\n",
        "[0.65377777777777779] 0\n",
        "Plotting pop"
       ]
      },
      {
       "output_type": "stream",
       "stream": "stdout",
       "text": [
        "\n",
        "[0.5799956700584542] 0\n",
        "Plotting rock"
       ]
      },
      {
       "output_type": "stream",
       "stream": "stdout",
       "text": [
        "\n",
        "[0.56788879935535852] 0\n",
        "Plotting metal"
       ]
      },
      {
       "output_type": "stream",
       "stream": "stdout",
       "text": [
        "\n",
        "[0.62755555555555553] 0\n",
        "all_pr_scores:"
       ]
      },
      {
       "output_type": "stream",
       "stream": "stdout",
       "text": [
        " [ 0.57556124  0.29003581  0.24894743  0.36825227  0.24980143  0.33727443] scores: [0.3888888888888889]\n",
        "0.389\t0.000\t0.345\t0.112\t\n",
        "np.mean(train_errors), np.mean(test_errors), np.asarray(cms) :  0.00238095238095 0.611111111111 [[[22  3  2  1  2  1]\n",
        "  [ 6 11  5  0  2  0]\n",
        "  [ 1  7  9  1 10  2]\n",
        "  [ 2  4  7  8  6  4]\n",
        "  [ 3  4  9  2 10  6]\n",
        "  [ 2  3  3  0 12 10]]]\n",
        "cms :  [[[22  3  2  1  2  1]\n",
        "  [ 6 11  5  0  2  0]\n",
        "  [ 1  7  9  1 10  2]\n",
        "  [ 2  4  7  8  6  4]\n",
        "  [ 3  4  9  2 10  6]\n",
        "  [ 2  3  3  0 12 10]]]\n",
        "cm_avg, cm_norm :  [[ 22.   3.   2.   1.   2.   1.]\n",
        " [  6.  11.   5.   0.   2.   0.]\n",
        " [  1.   7.   9.   1.  10.   2.]\n",
        " [  2.   4.   7.   8.   6.   4.]\n",
        " [  3.   4.   9.   2.  10.   6.]\n",
        " [  2.   3.   3.   0.  12.  10.]] [[ 0.61111111  0.09375     0.05714286  0.08333333  0.04761905  0.04347826]\n",
        " [ 0.16666667  0.34375     0.14285714  0.          0.04761905  0.        ]\n",
        " [ 0.02777778  0.21875     0.25714286  0.08333333  0.23809524  0.08695652]\n",
        " [ 0.05555556  0.125       0.2         0.66666667  0.14285714  0.17391304]\n",
        " [ 0.08333333  0.125       0.25714286  0.16666667  0.23809524  0.26086957]\n",
        " [ 0.05555556  0.09375     0.08571429  0.          0.28571429  0.43478261]]\n"
       ]
      },
      {
       "metadata": {},
       "output_type": "display_data",
       "text": [
        "<matplotlib.figure.Figure at 0x1e5ffa90>"
       ]
      },
      {
       "metadata": {},
       "output_type": "display_data",
       "text": [
        "<matplotlib.figure.Figure at 0x1e5ffbb0>"
       ]
      },
      {
       "metadata": {},
       "output_type": "display_data",
       "text": [
        "<matplotlib.figure.Figure at 0x713b670>"
       ]
      },
      {
       "metadata": {},
       "output_type": "display_data",
       "text": [
        "<matplotlib.figure.Figure at 0x1e428910>"
       ]
      },
      {
       "metadata": {},
       "output_type": "display_data",
       "text": [
        "<matplotlib.figure.Figure at 0x83e2810>"
       ]
      },
      {
       "metadata": {},
       "output_type": "display_data",
       "text": [
        "<matplotlib.figure.Figure at 0x1e6c3d70>"
       ]
      },
      {
       "metadata": {},
       "output_type": "display_data",
       "text": [
        "<matplotlib.figure.Figure at 0x1eaa3930>"
       ]
      },
      {
       "metadata": {},
       "output_type": "display_data",
       "text": [
        "<matplotlib.figure.Figure at 0x7247950>"
       ]
      },
      {
       "metadata": {},
       "output_type": "display_data",
       "text": [
        "<matplotlib.figure.Figure at 0x1e61a710>"
       ]
      },
      {
       "metadata": {},
       "output_type": "display_data",
       "text": [
        "<matplotlib.figure.Figure at 0x1e612f30>"
       ]
      },
      {
       "metadata": {},
       "output_type": "display_data",
       "text": [
        "<matplotlib.figure.Figure at 0x8a2b490>"
       ]
      },
      {
       "metadata": {},
       "output_type": "display_data",
       "text": [
        "<matplotlib.figure.Figure at 0x8a2b0f0>"
       ]
      },
      {
       "metadata": {},
       "output_type": "display_data",
       "png": "[encoded data removed]",
       "text": [
        "<matplotlib.figure.Figure at 0x1e6c3490>"
       ]
      },
      {
       "ename": "AssertionError",
       "evalue": "",
       "output_type": "pyerr",
       "traceback": [
        "\u001b[1;31m---------------------------------------------------------------------------\u001b[0m\n\u001b[1;31mAssertionError\u001b[0m                            Traceback (most recent call last)",
        "\u001b[1;32m<ipython-input-90-dcc391e353c5>\u001b[0m in \u001b[0;36m<module>\u001b[1;34m()\u001b[0m\n\u001b[0;32m    117\u001b[0m \u001b[0mcm_norm\u001b[0m \u001b[1;33m=\u001b[0m \u001b[0mcm_avg\u001b[0m \u001b[1;33m/\u001b[0m \u001b[0mnp\u001b[0m\u001b[1;33m.\u001b[0m\u001b[0msum\u001b[0m\u001b[1;33m(\u001b[0m\u001b[0mcm_avg\u001b[0m\u001b[1;33m,\u001b[0m \u001b[0maxis\u001b[0m\u001b[1;33m=\u001b[0m\u001b[1;36m0\u001b[0m\u001b[1;33m)\u001b[0m\u001b[1;33m\u001b[0m\u001b[0m\n\u001b[0;32m    118\u001b[0m \u001b[1;32mprint\u001b[0m \u001b[1;34m\"cm_avg, cm_norm : \"\u001b[0m\u001b[1;33m,\u001b[0m \u001b[0mcm_avg\u001b[0m\u001b[1;33m,\u001b[0m \u001b[0mcm_norm\u001b[0m\u001b[1;33m\u001b[0m\u001b[0m\n\u001b[1;32m--> 119\u001b[1;33m \u001b[0mplot_confusion_matrix\u001b[0m\u001b[1;33m(\u001b[0m\u001b[0mcm_norm\u001b[0m\u001b[1;33m,\u001b[0m \u001b[0mgenre_list\u001b[0m\u001b[1;33m,\u001b[0m \u001b[1;34m\"fft\"\u001b[0m\u001b[1;33m,\u001b[0m \u001b[1;34m\"Confusion matrix of an FFT based classifier\"\u001b[0m\u001b[1;33m)\u001b[0m\u001b[1;33m\u001b[0m\u001b[0m\n\u001b[0m",
        "\u001b[1;32mD:\\ml\\utils.pyc\u001b[0m in \u001b[0;36mplot_confusion_matrix\u001b[1;34m(cm, genre_list, name, title)\u001b[0m\n\u001b[0;32m     52\u001b[0m \u001b[1;33m\u001b[0m\u001b[0m\n\u001b[0;32m     53\u001b[0m \u001b[1;32mdef\u001b[0m \u001b[0mplot_pr\u001b[0m\u001b[1;33m(\u001b[0m\u001b[0mauc_score\u001b[0m\u001b[1;33m,\u001b[0m \u001b[0mname\u001b[0m\u001b[1;33m,\u001b[0m \u001b[0mprecision\u001b[0m\u001b[1;33m,\u001b[0m \u001b[0mrecall\u001b[0m\u001b[1;33m,\u001b[0m \u001b[0mlabel\u001b[0m\u001b[1;33m=\u001b[0m\u001b[0mNone\u001b[0m\u001b[1;33m)\u001b[0m\u001b[1;33m:\u001b[0m\u001b[1;33m\u001b[0m\u001b[0m\n\u001b[1;32m---> 54\u001b[1;33m     \u001b[0mpylab\u001b[0m\u001b[1;33m.\u001b[0m\u001b[0mclf\u001b[0m\u001b[1;33m(\u001b[0m\u001b[1;33m)\u001b[0m\u001b[1;33m\u001b[0m\u001b[0m\n\u001b[0m\u001b[0;32m     55\u001b[0m     \u001b[0mpylab\u001b[0m\u001b[1;33m.\u001b[0m\u001b[0mfigure\u001b[0m\u001b[1;33m(\u001b[0m\u001b[0mnum\u001b[0m\u001b[1;33m=\u001b[0m\u001b[0mNone\u001b[0m\u001b[1;33m,\u001b[0m \u001b[0mfigsize\u001b[0m\u001b[1;33m=\u001b[0m\u001b[1;33m(\u001b[0m\u001b[1;36m5\u001b[0m\u001b[1;33m,\u001b[0m \u001b[1;36m4\u001b[0m\u001b[1;33m)\u001b[0m\u001b[1;33m)\u001b[0m\u001b[1;33m\u001b[0m\u001b[0m\n\u001b[0;32m     56\u001b[0m     \u001b[0mpylab\u001b[0m\u001b[1;33m.\u001b[0m\u001b[0mgrid\u001b[0m\u001b[1;33m(\u001b[0m\u001b[0mTrue\u001b[0m\u001b[1;33m)\u001b[0m\u001b[1;33m\u001b[0m\u001b[0m\n",
        "\u001b[1;32mC:\\Python27\\lib\\site-packages\\matplotlib\\pyplot.pyc\u001b[0m in \u001b[0;36msavefig\u001b[1;34m(*args, **kwargs)\u001b[0m\n\u001b[0;32m    575\u001b[0m \u001b[1;32mdef\u001b[0m \u001b[0msavefig\u001b[0m\u001b[1;33m(\u001b[0m\u001b[1;33m*\u001b[0m\u001b[0margs\u001b[0m\u001b[1;33m,\u001b[0m \u001b[1;33m**\u001b[0m\u001b[0mkwargs\u001b[0m\u001b[1;33m)\u001b[0m\u001b[1;33m:\u001b[0m\u001b[1;33m\u001b[0m\u001b[0m\n\u001b[0;32m    576\u001b[0m     \u001b[0mfig\u001b[0m \u001b[1;33m=\u001b[0m \u001b[0mgcf\u001b[0m\u001b[1;33m(\u001b[0m\u001b[1;33m)\u001b[0m\u001b[1;33m\u001b[0m\u001b[0m\n\u001b[1;32m--> 577\u001b[1;33m     \u001b[0mres\u001b[0m \u001b[1;33m=\u001b[0m \u001b[0mfig\u001b[0m\u001b[1;33m.\u001b[0m\u001b[0msavefig\u001b[0m\u001b[1;33m(\u001b[0m\u001b[1;33m*\u001b[0m\u001b[0margs\u001b[0m\u001b[1;33m,\u001b[0m \u001b[1;33m**\u001b[0m\u001b[0mkwargs\u001b[0m\u001b[1;33m)\u001b[0m\u001b[1;33m\u001b[0m\u001b[0m\n\u001b[0m\u001b[0;32m    578\u001b[0m     \u001b[0mdraw\u001b[0m\u001b[1;33m(\u001b[0m\u001b[1;33m)\u001b[0m   \u001b[1;31m# need this if 'transparent=True' to reset colors\u001b[0m\u001b[1;33m\u001b[0m\u001b[0m\n\u001b[0;32m    579\u001b[0m     \u001b[1;32mreturn\u001b[0m \u001b[0mres\u001b[0m\u001b[1;33m\u001b[0m\u001b[0m\n",
        "\u001b[1;32mC:\\Python27\\lib\\site-packages\\matplotlib\\figure.pyc\u001b[0m in \u001b[0;36msavefig\u001b[1;34m(self, *args, **kwargs)\u001b[0m\n\u001b[0;32m   1468\u001b[0m             \u001b[0mself\u001b[0m\u001b[1;33m.\u001b[0m\u001b[0mset_frameon\u001b[0m\u001b[1;33m(\u001b[0m\u001b[0mframeon\u001b[0m\u001b[1;33m)\u001b[0m\u001b[1;33m\u001b[0m\u001b[0m\n\u001b[0;32m   1469\u001b[0m \u001b[1;33m\u001b[0m\u001b[0m\n\u001b[1;32m-> 1470\u001b[1;33m         \u001b[0mself\u001b[0m\u001b[1;33m.\u001b[0m\u001b[0mcanvas\u001b[0m\u001b[1;33m.\u001b[0m\u001b[0mprint_figure\u001b[0m\u001b[1;33m(\u001b[0m\u001b[1;33m*\u001b[0m\u001b[0margs\u001b[0m\u001b[1;33m,\u001b[0m \u001b[1;33m**\u001b[0m\u001b[0mkwargs\u001b[0m\u001b[1;33m)\u001b[0m\u001b[1;33m\u001b[0m\u001b[0m\n\u001b[0m\u001b[0;32m   1471\u001b[0m \u001b[1;33m\u001b[0m\u001b[0m\n\u001b[0;32m   1472\u001b[0m         \u001b[1;32mif\u001b[0m \u001b[0mframeon\u001b[0m\u001b[1;33m:\u001b[0m\u001b[1;33m\u001b[0m\u001b[0m\n",
        "\u001b[1;32mC:\\Python27\\lib\\site-packages\\matplotlib\\backend_bases.pyc\u001b[0m in \u001b[0;36mprint_figure\u001b[1;34m(self, filename, dpi, facecolor, edgecolor, orientation, format, **kwargs)\u001b[0m\n\u001b[0;32m   2141\u001b[0m                     **kwargs)\n\u001b[0;32m   2142\u001b[0m                 \u001b[0mrenderer\u001b[0m \u001b[1;33m=\u001b[0m \u001b[0mself\u001b[0m\u001b[1;33m.\u001b[0m\u001b[0mfigure\u001b[0m\u001b[1;33m.\u001b[0m\u001b[0m_cachedRenderer\u001b[0m\u001b[1;33m\u001b[0m\u001b[0m\n\u001b[1;32m-> 2143\u001b[1;33m                 \u001b[0mbbox_inches\u001b[0m \u001b[1;33m=\u001b[0m \u001b[0mself\u001b[0m\u001b[1;33m.\u001b[0m\u001b[0mfigure\u001b[0m\u001b[1;33m.\u001b[0m\u001b[0mget_tightbbox\u001b[0m\u001b[1;33m(\u001b[0m\u001b[0mrenderer\u001b[0m\u001b[1;33m)\u001b[0m\u001b[1;33m\u001b[0m\u001b[0m\n\u001b[0m\u001b[0;32m   2144\u001b[0m \u001b[1;33m\u001b[0m\u001b[0m\n\u001b[0;32m   2145\u001b[0m                 \u001b[0mbbox_artists\u001b[0m \u001b[1;33m=\u001b[0m \u001b[0mkwargs\u001b[0m\u001b[1;33m.\u001b[0m\u001b[0mpop\u001b[0m\u001b[1;33m(\u001b[0m\u001b[1;34m\"bbox_extra_artists\"\u001b[0m\u001b[1;33m,\u001b[0m \u001b[0mNone\u001b[0m\u001b[1;33m)\u001b[0m\u001b[1;33m\u001b[0m\u001b[0m\n",
        "\u001b[1;32mC:\\Python27\\lib\\site-packages\\matplotlib\\figure.pyc\u001b[0m in \u001b[0;36mget_tightbbox\u001b[1;34m(self, renderer)\u001b[0m\n\u001b[0;32m   1611\u001b[0m                 \u001b[0mbb\u001b[0m\u001b[1;33m.\u001b[0m\u001b[0mappend\u001b[0m\u001b[1;33m(\u001b[0m\u001b[0max\u001b[0m\u001b[1;33m.\u001b[0m\u001b[0mget_tightbbox\u001b[0m\u001b[1;33m(\u001b[0m\u001b[0mrenderer\u001b[0m\u001b[1;33m)\u001b[0m\u001b[1;33m)\u001b[0m\u001b[1;33m\u001b[0m\u001b[0m\n\u001b[0;32m   1612\u001b[0m \u001b[1;33m\u001b[0m\u001b[0m\n\u001b[1;32m-> 1613\u001b[1;33m         \u001b[0m_bbox\u001b[0m \u001b[1;33m=\u001b[0m \u001b[0mBbox\u001b[0m\u001b[1;33m.\u001b[0m\u001b[0munion\u001b[0m\u001b[1;33m(\u001b[0m\u001b[1;33m[\u001b[0m\u001b[0mb\u001b[0m \u001b[1;32mfor\u001b[0m \u001b[0mb\u001b[0m \u001b[1;32min\u001b[0m \u001b[0mbb\u001b[0m \u001b[1;32mif\u001b[0m \u001b[0mb\u001b[0m\u001b[1;33m.\u001b[0m\u001b[0mwidth\u001b[0m \u001b[1;33m!=\u001b[0m \u001b[1;36m0\u001b[0m \u001b[1;32mor\u001b[0m \u001b[0mb\u001b[0m\u001b[1;33m.\u001b[0m\u001b[0mheight\u001b[0m \u001b[1;33m!=\u001b[0m \u001b[1;36m0\u001b[0m\u001b[1;33m]\u001b[0m\u001b[1;33m)\u001b[0m\u001b[1;33m\u001b[0m\u001b[0m\n\u001b[0m\u001b[0;32m   1614\u001b[0m \u001b[1;33m\u001b[0m\u001b[0m\n\u001b[0;32m   1615\u001b[0m         bbox_inches = TransformedBbox(_bbox,\n",
        "\u001b[1;32mC:\\Python27\\lib\\site-packages\\matplotlib\\transforms.pyc\u001b[0m in \u001b[0;36munion\u001b[1;34m(bboxes)\u001b[0m\n\u001b[0;32m    720\u001b[0m         \u001b[0mReturn\u001b[0m \u001b[0ma\u001b[0m \u001b[1;33m:\u001b[0m\u001b[1;32mclass\u001b[0m\u001b[1;33m:\u001b[0m\u001b[1;33m`\u001b[0m\u001b[0mBbox\u001b[0m\u001b[1;33m`\u001b[0m \u001b[0mthat\u001b[0m \u001b[0mcontains\u001b[0m \u001b[0mall\u001b[0m \u001b[0mof\u001b[0m \u001b[0mthe\u001b[0m \u001b[0mgiven\u001b[0m \u001b[0mbboxes\u001b[0m\u001b[1;33m.\u001b[0m\u001b[1;33m\u001b[0m\u001b[0m\n\u001b[0;32m    721\u001b[0m         \"\"\"\n\u001b[1;32m--> 722\u001b[1;33m         \u001b[1;32massert\u001b[0m\u001b[1;33m(\u001b[0m\u001b[0mlen\u001b[0m\u001b[1;33m(\u001b[0m\u001b[0mbboxes\u001b[0m\u001b[1;33m)\u001b[0m\u001b[1;33m)\u001b[0m\u001b[1;33m\u001b[0m\u001b[0m\n\u001b[0m\u001b[0;32m    723\u001b[0m \u001b[1;33m\u001b[0m\u001b[0m\n\u001b[0;32m    724\u001b[0m         \u001b[1;32mif\u001b[0m \u001b[0mlen\u001b[0m\u001b[1;33m(\u001b[0m\u001b[0mbboxes\u001b[0m\u001b[1;33m)\u001b[0m \u001b[1;33m==\u001b[0m \u001b[1;36m1\u001b[0m\u001b[1;33m:\u001b[0m\u001b[1;33m\u001b[0m\u001b[0m\n",
        "\u001b[1;31mAssertionError\u001b[0m: "
       ]
      },
      {
       "metadata": {},
       "output_type": "display_data",
       "text": [
        "<matplotlib.figure.Figure at 0x1e2e5e30>"
       ]
      }
     ],
     "prompt_number": 90
    },
    {
     "cell_type": "heading",
     "level": 3,
     "metadata": {},
     "source": [
      "\uccab \ubc88\uc9f8 \ud589\uc740 31\uac1c\uc758 \ub178\ub798\uc911 22\uac1c\ub294 \uc815\ud655\ud788 \ud074\ub798\uc2dd\uc73c\ub85c \ubd84\ub958\ud588\uace0 \ub098\uba38\uc9c0\ub294 \uc798\ubabb \ubd84\ub958 \ub418\uc5c8\uc74c\uc744,\n",
      "\ub450 \ubc88\uc9f8 \ud589\uc740 24\uac1c\uc758 \uc7ac\uc988 \ub178\ub798 \uc911\uc5d0\uc11c 11\uac1c\ub9cc\uc774 \uc62c\ubc14\ub974\uac8c \ubd84\ub958 \ub418\uc5c8\uc74c\uc744 \ub098\ud0c0\ub0b8\ub2e4.\n"
     ]
    },
    {
     "cell_type": "heading",
     "level": 2,
     "metadata": {},
     "source": [
      "classical, pop music \uc744 \uc81c\uc678\ud558\uace0 \ubd84\ub958\uac00 \uc798 \ub418\uc5c8\ub2e4\uace0 \ubcf4\uae30 \uc5b4\ub835\ub2e4"
     ]
    },
    {
     "cell_type": "heading",
     "level": 3,
     "metadata": {},
     "source": [
      "\ubd84\ub958 \uc131\ub2a5 \uce21\uc815 \uae30\ubc95"
     ]
    },
    {
     "cell_type": "code",
     "collapsed": false,
     "input": [
      "from IPython.display import Image\n",
      "Image(filename=ML09_DIR+'pr-roc.jpg')"
     ],
     "language": "python",
     "metadata": {},
     "outputs": [
      {
       "jpeg": "[encoded data removed]",
       "metadata": {},
       "output_type": "pyout",
       "prompt_number": 91,
       "text": [
        "<IPython.core.display.Image at 0x1e4c9490>"
       ]
      }
     ],
     "prompt_number": 91
    },
    {
     "cell_type": "heading",
     "level": 3,
     "metadata": {},
     "source": [
      "p-r curve \ub294 \ubd80\uc815\uc801\uc778 \ubc94\uc8fc\ubcf4\ub2e4 \uae0d\uc815\uc801\uc778 \ubc94\uc8fc\uc5d0 \ub354 \uad00\uc2ec\uc774 \uc788\ub294 \uc791\uc5c5\uc774\ub098 \uae0d\uc815\uc801\uc778 \uc608\uc81c\uc758 \uac1c\uc218\uac00 \ubd80\uc815\uc801\uc778 \uc608\uc81c\uc758 \uac1c\uc218\ubcf4\ub2e4 \ud6e8\uc52c \uc801\uc740 \uc791\uc5c5\uc5d0 \uc801\ud569"
     ]
    },
    {
     "cell_type": "heading",
     "level": 3,
     "metadata": {},
     "source": [
      "\uac01 \uc7a5\ub974\uc758 roc curve \ub97c \ubd24\uc744\ub54c \ud074\ub798\uc2dd \ub178\ub798\ub9cc \uc798 \ubd84\ub958\uac00 \ub418\uc5b4\uc788\uc74c\uc744 \ud655\uc778\uac00\ub2a5"
     ]
    },
    {
     "cell_type": "heading",
     "level": 2,
     "metadata": {},
     "source": [
      "\u25a0 \uba5c \uc8fc\ud30c\uc218 \ucea1\uc2a4\ud2b8\ub7f4 \uacc4\uc218\uc640 \ubd84\ub958 \uc131\ub2a5 \ud5a5\uc0c1"
     ]
    },
    {
     "cell_type": "heading",
     "level": 3,
     "metadata": {},
     "source": [
      "- FFT\ub294 \uc5ec\ub7ec \uc7a5\ub974\uc758 \ub178\ub798\uac00 \ud63c\uc7ac\ub41c \ub514\ub809\ud1a0\ub9ac\ub97c \uc7a5\ub974\ubcc4 \ub514\ub809\ud1a0\ub9ac\ub85c \uc815\ub9ac\ud560 \uc218 \uc788\ub294 \ubd84\ub958\uae30\ub97c \ub9cc\ub4e4\uae30\uc5d0\ub294 \ucda9\ubd84\uce58 \uc54a\uc74c."
     ]
    },
    {
     "cell_type": "heading",
     "level": 3,
     "metadata": {},
     "source": [
      "- \uc74c\uc131 \uc778\uc2dd\uc5d0\uc11c \ub300\ud45c\uc801\uc73c\ub85c \uc0ac\uc6a9\ub418\uace0 \uc788\ub294 MFC \uc801\uc6a9 ( MFC : \uc2e0\ud638 \uc2a4\ud399\ud2b8\ub7fc\uc758 \ub85c\uadf8 \ud478\ub9ac\uc5d0 \ubcc0\ud658\uc744 \ud1b5\ud574 \uacc4\uc0b0 )"
     ]
    },
    {
     "cell_type": "code",
     "collapsed": false,
     "input": [
      "from scikits.talkbox.features import mfcc\n",
      "sample_rate, X = scipy.io.wavfile.read(ML09_DIR+\"genres/classical/classical.00000.wav\")\n",
      "print X.shape, sample_rate\n",
      "ceps, mspec, spec = mfcc(X)\n",
      "print(ceps.shape, mspec.shape, spec.shape)"
     ],
     "language": "python",
     "metadata": {},
     "outputs": [
      {
       "output_type": "stream",
       "stream": "stdout",
       "text": [
        "(661794,) 22050\n",
        "((4135, 13), (4135, 40), (4135, 512))"
       ]
      },
      {
       "output_type": "stream",
       "stream": "stdout",
       "text": [
        "\n"
       ]
      }
     ],
     "prompt_number": 92
    },
    {
     "cell_type": "code",
     "collapsed": false,
     "input": [
      "# This code is supporting material for the book\n",
      "# Building Machine Learning Systems with Python\n",
      "# by Willi Richert and Luis Pedro Coelho\n",
      "# published by PACKT Publishing\n",
      "#\n",
      "# It is made available under the MIT License\n",
      "\n",
      "import os\n",
      "import glob\n",
      "import sys\n",
      "\n",
      "import numpy as np\n",
      "import scipy\n",
      "import scipy.io.wavfile\n",
      "from scikits.talkbox.features import mfcc\n",
      "\n",
      "from utils import GENRE_DIR\n",
      "\n",
      "\n",
      "def write_ceps(ceps, fn):\n",
      "    \"\"\"\n",
      "    Write the MFCC to separate files to speed up processing.\n",
      "    \"\"\"\n",
      "    base_fn, ext = os.path.splitext(fn)\n",
      "    data_fn = base_fn + \".ceps\"\n",
      "    np.save(data_fn, ceps)\n",
      "    print(\"Written %s\"%data_fn)\n",
      "\n",
      "\n",
      "def create_ceps(fn):\n",
      "    sample_rate, X = scipy.io.wavfile.read(fn)\n",
      "\n",
      "    ceps, mspec, spec = mfcc(X)\n",
      "    write_ceps(ceps, fn)\n",
      "\n",
      "\n",
      "def read_ceps(genre_list, base_dir=GENRE_DIR):\n",
      "    X = []\n",
      "    y = []\n",
      "    for label, genre in enumerate(genre_list):\n",
      "        for fn in glob.glob(os.path.join(base_dir, genre, \"*.ceps.npy\")):\n",
      "            ceps = np.load(fn)\n",
      "            num_ceps = len(ceps)\n",
      "            X.append(\n",
      "                np.mean(ceps[int(num_ceps / 10):int(num_ceps * 9 / 10)], axis=0))\n",
      "            y.append(label)\n",
      "\n",
      "    return np.array(X), np.array(y)\n",
      "\n",
      "genre_list = [\"classical\", \"jazz\", \"country\", \"pop\", \"rock\", \"metal\"]\n",
      "for genre in genre_list:\n",
      "        for fn in glob.glob(os.path.join(GENRE_DIR+\"/\"+genre, \"*.wav\")):\n",
      "            create_ceps(fn)\n"
     ],
     "language": "python",
     "metadata": {},
     "outputs": [
      {
       "output_type": "stream",
       "stream": "stdout",
       "text": [
        "Written D:/ml/genres/classical\\classical.00000.ceps\n",
        "Written D:/ml/genres/classical\\classical.00001.ceps"
       ]
      },
      {
       "output_type": "stream",
       "stream": "stdout",
       "text": [
        "\n",
        "Written D:/ml/genres/classical\\classical.00002.ceps"
       ]
      },
      {
       "output_type": "stream",
       "stream": "stdout",
       "text": [
        "\n",
        "Written D:/ml/genres/classical\\classical.00003.ceps"
       ]
      },
      {
       "output_type": "stream",
       "stream": "stdout",
       "text": [
        "\n",
        "Written D:/ml/genres/classical\\classical.00004.ceps"
       ]
      },
      {
       "output_type": "stream",
       "stream": "stdout",
       "text": [
        "\n",
        "Written D:/ml/genres/classical\\classical.00005.ceps"
       ]
      },
      {
       "output_type": "stream",
       "stream": "stdout",
       "text": [
        "\n",
        "Written D:/ml/genres/classical\\classical.00006.ceps"
       ]
      },
      {
       "output_type": "stream",
       "stream": "stdout",
       "text": [
        "\n",
        "Written D:/ml/genres/classical\\classical.00007.ceps"
       ]
      },
      {
       "output_type": "stream",
       "stream": "stdout",
       "text": [
        "\n",
        "Written D:/ml/genres/classical\\classical.00008.ceps"
       ]
      },
      {
       "output_type": "stream",
       "stream": "stdout",
       "text": [
        "\n",
        "Written D:/ml/genres/classical\\classical.00009.ceps"
       ]
      },
      {
       "output_type": "stream",
       "stream": "stdout",
       "text": [
        "\n",
        "Written D:/ml/genres/classical\\classical.00010.ceps"
       ]
      },
      {
       "output_type": "stream",
       "stream": "stdout",
       "text": [
        "\n",
        "Written D:/ml/genres/classical\\classical.00011.ceps"
       ]
      },
      {
       "output_type": "stream",
       "stream": "stdout",
       "text": [
        "\n",
        "Written D:/ml/genres/classical\\classical.00012.ceps"
       ]
      },
      {
       "output_type": "stream",
       "stream": "stdout",
       "text": [
        "\n",
        "Written D:/ml/genres/classical\\classical.00013.ceps"
       ]
      },
      {
       "output_type": "stream",
       "stream": "stdout",
       "text": [
        "\n",
        "Written D:/ml/genres/classical\\classical.00014.ceps"
       ]
      },
      {
       "output_type": "stream",
       "stream": "stdout",
       "text": [
        "\n",
        "Written D:/ml/genres/classical\\classical.00015.ceps"
       ]
      },
      {
       "output_type": "stream",
       "stream": "stdout",
       "text": [
        "\n",
        "Written D:/ml/genres/classical\\classical.00016.ceps"
       ]
      },
      {
       "output_type": "stream",
       "stream": "stdout",
       "text": [
        "\n",
        "Written D:/ml/genres/classical\\classical.00017.ceps"
       ]
      },
      {
       "output_type": "stream",
       "stream": "stdout",
       "text": [
        "\n",
        "Written D:/ml/genres/classical\\classical.00018.ceps"
       ]
      },
      {
       "output_type": "stream",
       "stream": "stdout",
       "text": [
        "\n",
        "Written D:/ml/genres/classical\\classical.00019.ceps"
       ]
      },
      {
       "output_type": "stream",
       "stream": "stdout",
       "text": [
        "\n",
        "Written D:/ml/genres/classical\\classical.00020.ceps"
       ]
      },
      {
       "output_type": "stream",
       "stream": "stdout",
       "text": [
        "\n",
        "Written D:/ml/genres/classical\\classical.00021.ceps"
       ]
      },
      {
       "output_type": "stream",
       "stream": "stdout",
       "text": [
        "\n",
        "Written D:/ml/genres/classical\\classical.00022.ceps"
       ]
      },
      {
       "output_type": "stream",
       "stream": "stdout",
       "text": [
        "\n",
        "Written D:/ml/genres/classical\\classical.00023.ceps"
       ]
      },
      {
       "output_type": "stream",
       "stream": "stdout",
       "text": [
        "\n",
        "Written D:/ml/genres/classical\\classical.00024.ceps"
       ]
      },
      {
       "output_type": "stream",
       "stream": "stdout",
       "text": [
        "\n",
        "Written D:/ml/genres/classical\\classical.00025.ceps"
       ]
      },
      {
       "output_type": "stream",
       "stream": "stdout",
       "text": [
        "\n",
        "Written D:/ml/genres/classical\\classical.00026.ceps"
       ]
      },
      {
       "output_type": "stream",
       "stream": "stdout",
       "text": [
        "\n",
        "Written D:/ml/genres/classical\\classical.00027.ceps"
       ]
      },
      {
       "output_type": "stream",
       "stream": "stdout",
       "text": [
        "\n",
        "Written D:/ml/genres/classical\\classical.00028.ceps"
       ]
      },
      {
       "output_type": "stream",
       "stream": "stdout",
       "text": [
        "\n",
        "Written D:/ml/genres/classical\\classical.00029.ceps"
       ]
      },
      {
       "output_type": "stream",
       "stream": "stdout",
       "text": [
        "\n",
        "Written D:/ml/genres/classical\\classical.00030.ceps"
       ]
      },
      {
       "output_type": "stream",
       "stream": "stdout",
       "text": [
        "\n",
        "Written D:/ml/genres/classical\\classical.00031.ceps"
       ]
      },
      {
       "output_type": "stream",
       "stream": "stdout",
       "text": [
        "\n",
        "Written D:/ml/genres/classical\\classical.00032.ceps"
       ]
      },
      {
       "output_type": "stream",
       "stream": "stdout",
       "text": [
        "\n",
        "Written D:/ml/genres/classical\\classical.00033.ceps"
       ]
      },
      {
       "output_type": "stream",
       "stream": "stdout",
       "text": [
        "\n",
        "Written D:/ml/genres/classical\\classical.00034.ceps"
       ]
      },
      {
       "output_type": "stream",
       "stream": "stdout",
       "text": [
        "\n",
        "Written D:/ml/genres/classical\\classical.00035.ceps"
       ]
      },
      {
       "output_type": "stream",
       "stream": "stdout",
       "text": [
        "\n",
        "Written D:/ml/genres/classical\\classical.00036.ceps"
       ]
      },
      {
       "output_type": "stream",
       "stream": "stdout",
       "text": [
        "\n",
        "Written D:/ml/genres/classical\\classical.00037.ceps"
       ]
      },
      {
       "output_type": "stream",
       "stream": "stdout",
       "text": [
        "\n",
        "Written D:/ml/genres/classical\\classical.00038.ceps"
       ]
      },
      {
       "output_type": "stream",
       "stream": "stdout",
       "text": [
        "\n",
        "Written D:/ml/genres/classical\\classical.00039.ceps"
       ]
      },
      {
       "output_type": "stream",
       "stream": "stdout",
       "text": [
        "\n",
        "Written D:/ml/genres/classical\\classical.00040.ceps"
       ]
      },
      {
       "output_type": "stream",
       "stream": "stdout",
       "text": [
        "\n",
        "Written D:/ml/genres/classical\\classical.00041.ceps"
       ]
      },
      {
       "output_type": "stream",
       "stream": "stdout",
       "text": [
        "\n",
        "Written D:/ml/genres/classical\\classical.00042.ceps"
       ]
      },
      {
       "output_type": "stream",
       "stream": "stdout",
       "text": [
        "\n",
        "Written D:/ml/genres/classical\\classical.00043.ceps"
       ]
      },
      {
       "output_type": "stream",
       "stream": "stdout",
       "text": [
        "\n",
        "Written D:/ml/genres/classical\\classical.00044.ceps"
       ]
      },
      {
       "output_type": "stream",
       "stream": "stdout",
       "text": [
        "\n",
        "Written D:/ml/genres/classical\\classical.00045.ceps"
       ]
      },
      {
       "output_type": "stream",
       "stream": "stdout",
       "text": [
        "\n",
        "Written D:/ml/genres/classical\\classical.00046.ceps"
       ]
      },
      {
       "output_type": "stream",
       "stream": "stdout",
       "text": [
        "\n",
        "Written D:/ml/genres/classical\\classical.00047.ceps"
       ]
      },
      {
       "output_type": "stream",
       "stream": "stdout",
       "text": [
        "\n",
        "Written D:/ml/genres/classical\\classical.00048.ceps"
       ]
      },
      {
       "output_type": "stream",
       "stream": "stdout",
       "text": [
        "\n",
        "Written D:/ml/genres/classical\\classical.00049.ceps"
       ]
      },
      {
       "output_type": "stream",
       "stream": "stdout",
       "text": [
        "\n",
        "Written D:/ml/genres/classical\\classical.00050.ceps"
       ]
      },
      {
       "output_type": "stream",
       "stream": "stdout",
       "text": [
        "\n",
        "Written D:/ml/genres/classical\\classical.00051.ceps"
       ]
      },
      {
       "output_type": "stream",
       "stream": "stdout",
       "text": [
        "\n",
        "Written D:/ml/genres/classical\\classical.00052.ceps"
       ]
      },
      {
       "output_type": "stream",
       "stream": "stdout",
       "text": [
        "\n",
        "Written D:/ml/genres/classical\\classical.00053.ceps"
       ]
      },
      {
       "output_type": "stream",
       "stream": "stdout",
       "text": [
        "\n",
        "Written D:/ml/genres/classical\\classical.00054.ceps"
       ]
      },
      {
       "output_type": "stream",
       "stream": "stdout",
       "text": [
        "\n",
        "Written D:/ml/genres/classical\\classical.00055.ceps"
       ]
      },
      {
       "output_type": "stream",
       "stream": "stdout",
       "text": [
        "\n",
        "Written D:/ml/genres/classical\\classical.00056.ceps"
       ]
      },
      {
       "output_type": "stream",
       "stream": "stdout",
       "text": [
        "\n",
        "Written D:/ml/genres/classical\\classical.00057.ceps"
       ]
      },
      {
       "output_type": "stream",
       "stream": "stdout",
       "text": [
        "\n",
        "Written D:/ml/genres/classical\\classical.00058.ceps"
       ]
      },
      {
       "output_type": "stream",
       "stream": "stdout",
       "text": [
        "\n",
        "Written D:/ml/genres/classical\\classical.00059.ceps"
       ]
      },
      {
       "output_type": "stream",
       "stream": "stdout",
       "text": [
        "\n",
        "Written D:/ml/genres/classical\\classical.00060.ceps"
       ]
      },
      {
       "output_type": "stream",
       "stream": "stdout",
       "text": [
        "\n",
        "Written D:/ml/genres/classical\\classical.00061.ceps"
       ]
      },
      {
       "output_type": "stream",
       "stream": "stdout",
       "text": [
        "\n",
        "Written D:/ml/genres/classical\\classical.00062.ceps"
       ]
      },
      {
       "output_type": "stream",
       "stream": "stdout",
       "text": [
        "\n",
        "Written D:/ml/genres/classical\\classical.00063.ceps"
       ]
      },
      {
       "output_type": "stream",
       "stream": "stdout",
       "text": [
        "\n",
        "Written D:/ml/genres/classical\\classical.00064.ceps"
       ]
      },
      {
       "output_type": "stream",
       "stream": "stdout",
       "text": [
        "\n",
        "Written D:/ml/genres/classical\\classical.00065.ceps"
       ]
      },
      {
       "output_type": "stream",
       "stream": "stdout",
       "text": [
        "\n",
        "Written D:/ml/genres/classical\\classical.00066.ceps"
       ]
      },
      {
       "output_type": "stream",
       "stream": "stdout",
       "text": [
        "\n",
        "Written D:/ml/genres/classical\\classical.00067.ceps"
       ]
      },
      {
       "output_type": "stream",
       "stream": "stdout",
       "text": [
        "\n",
        "Written D:/ml/genres/classical\\classical.00068.ceps"
       ]
      },
      {
       "output_type": "stream",
       "stream": "stdout",
       "text": [
        "\n",
        "Written D:/ml/genres/classical\\classical.00069.ceps"
       ]
      },
      {
       "output_type": "stream",
       "stream": "stdout",
       "text": [
        "\n",
        "Written D:/ml/genres/classical\\classical.00070.ceps"
       ]
      },
      {
       "output_type": "stream",
       "stream": "stdout",
       "text": [
        "\n",
        "Written D:/ml/genres/classical\\classical.00071.ceps"
       ]
      },
      {
       "output_type": "stream",
       "stream": "stdout",
       "text": [
        "\n",
        "Written D:/ml/genres/classical\\classical.00072.ceps"
       ]
      },
      {
       "output_type": "stream",
       "stream": "stdout",
       "text": [
        "\n",
        "Written D:/ml/genres/classical\\classical.00073.ceps"
       ]
      },
      {
       "output_type": "stream",
       "stream": "stdout",
       "text": [
        "\n",
        "Written D:/ml/genres/classical\\classical.00074.ceps"
       ]
      },
      {
       "output_type": "stream",
       "stream": "stdout",
       "text": [
        "\n",
        "Written D:/ml/genres/classical\\classical.00075.ceps"
       ]
      },
      {
       "output_type": "stream",
       "stream": "stdout",
       "text": [
        "\n",
        "Written D:/ml/genres/classical\\classical.00076.ceps"
       ]
      },
      {
       "output_type": "stream",
       "stream": "stdout",
       "text": [
        "\n",
        "Written D:/ml/genres/classical\\classical.00077.ceps"
       ]
      },
      {
       "output_type": "stream",
       "stream": "stdout",
       "text": [
        "\n",
        "Written D:/ml/genres/classical\\classical.00078.ceps"
       ]
      },
      {
       "output_type": "stream",
       "stream": "stdout",
       "text": [
        "\n",
        "Written D:/ml/genres/classical\\classical.00079.ceps"
       ]
      },
      {
       "output_type": "stream",
       "stream": "stdout",
       "text": [
        "\n",
        "Written D:/ml/genres/classical\\classical.00080.ceps"
       ]
      },
      {
       "output_type": "stream",
       "stream": "stdout",
       "text": [
        "\n",
        "Written D:/ml/genres/classical\\classical.00081.ceps"
       ]
      },
      {
       "output_type": "stream",
       "stream": "stdout",
       "text": [
        "\n",
        "Written D:/ml/genres/classical\\classical.00082.ceps"
       ]
      },
      {
       "output_type": "stream",
       "stream": "stdout",
       "text": [
        "\n",
        "Written D:/ml/genres/classical\\classical.00083.ceps"
       ]
      },
      {
       "output_type": "stream",
       "stream": "stdout",
       "text": [
        "\n",
        "Written D:/ml/genres/classical\\classical.00084.ceps"
       ]
      },
      {
       "output_type": "stream",
       "stream": "stdout",
       "text": [
        "\n",
        "Written D:/ml/genres/classical\\classical.00085.ceps"
       ]
      },
      {
       "output_type": "stream",
       "stream": "stdout",
       "text": [
        "\n",
        "Written D:/ml/genres/classical\\classical.00086.ceps"
       ]
      },
      {
       "output_type": "stream",
       "stream": "stdout",
       "text": [
        "\n",
        "Written D:/ml/genres/classical\\classical.00087.ceps"
       ]
      },
      {
       "output_type": "stream",
       "stream": "stdout",
       "text": [
        "\n",
        "Written D:/ml/genres/classical\\classical.00088.ceps"
       ]
      },
      {
       "output_type": "stream",
       "stream": "stdout",
       "text": [
        "\n",
        "Written D:/ml/genres/classical\\classical.00089.ceps"
       ]
      },
      {
       "output_type": "stream",
       "stream": "stdout",
       "text": [
        "\n",
        "Written D:/ml/genres/classical\\classical.00090.ceps"
       ]
      },
      {
       "output_type": "stream",
       "stream": "stdout",
       "text": [
        "\n",
        "Written D:/ml/genres/classical\\classical.00091.ceps"
       ]
      },
      {
       "output_type": "stream",
       "stream": "stdout",
       "text": [
        "\n",
        "Written D:/ml/genres/classical\\classical.00092.ceps"
       ]
      },
      {
       "output_type": "stream",
       "stream": "stdout",
       "text": [
        "\n",
        "Written D:/ml/genres/classical\\classical.00093.ceps"
       ]
      },
      {
       "output_type": "stream",
       "stream": "stdout",
       "text": [
        "\n",
        "Written D:/ml/genres/classical\\classical.00094.ceps"
       ]
      },
      {
       "output_type": "stream",
       "stream": "stdout",
       "text": [
        "\n",
        "Written D:/ml/genres/classical\\classical.00095.ceps"
       ]
      },
      {
       "output_type": "stream",
       "stream": "stdout",
       "text": [
        "\n",
        "Written D:/ml/genres/classical\\classical.00096.ceps"
       ]
      },
      {
       "output_type": "stream",
       "stream": "stdout",
       "text": [
        "\n",
        "Written D:/ml/genres/classical\\classical.00097.ceps"
       ]
      },
      {
       "output_type": "stream",
       "stream": "stdout",
       "text": [
        "\n",
        "Written D:/ml/genres/classical\\classical.00098.ceps"
       ]
      },
      {
       "output_type": "stream",
       "stream": "stdout",
       "text": [
        "\n",
        "Written D:/ml/genres/classical\\classical.00099.ceps"
       ]
      },
      {
       "output_type": "stream",
       "stream": "stdout",
       "text": [
        "\n",
        "Written D:/ml/genres/jazz\\jazz.00000.ceps"
       ]
      },
      {
       "output_type": "stream",
       "stream": "stdout",
       "text": [
        "\n",
        "Written D:/ml/genres/jazz\\jazz.00001.ceps"
       ]
      },
      {
       "output_type": "stream",
       "stream": "stdout",
       "text": [
        "\n",
        "Written D:/ml/genres/jazz\\jazz.00002.ceps"
       ]
      },
      {
       "output_type": "stream",
       "stream": "stdout",
       "text": [
        "\n",
        "Written D:/ml/genres/jazz\\jazz.00003.ceps"
       ]
      },
      {
       "output_type": "stream",
       "stream": "stdout",
       "text": [
        "\n",
        "Written D:/ml/genres/jazz\\jazz.00004.ceps"
       ]
      },
      {
       "output_type": "stream",
       "stream": "stdout",
       "text": [
        "\n",
        "Written D:/ml/genres/jazz\\jazz.00005.ceps"
       ]
      },
      {
       "output_type": "stream",
       "stream": "stdout",
       "text": [
        "\n",
        "Written D:/ml/genres/jazz\\jazz.00006.ceps"
       ]
      },
      {
       "output_type": "stream",
       "stream": "stdout",
       "text": [
        "\n",
        "Written D:/ml/genres/jazz\\jazz.00007.ceps"
       ]
      },
      {
       "output_type": "stream",
       "stream": "stdout",
       "text": [
        "\n",
        "Written D:/ml/genres/jazz\\jazz.00008.ceps"
       ]
      },
      {
       "output_type": "stream",
       "stream": "stdout",
       "text": [
        "\n",
        "Written D:/ml/genres/jazz\\jazz.00009.ceps"
       ]
      },
      {
       "output_type": "stream",
       "stream": "stdout",
       "text": [
        "\n",
        "Written D:/ml/genres/jazz\\jazz.00010.ceps"
       ]
      },
      {
       "output_type": "stream",
       "stream": "stdout",
       "text": [
        "\n",
        "Written D:/ml/genres/jazz\\jazz.00011.ceps"
       ]
      },
      {
       "output_type": "stream",
       "stream": "stdout",
       "text": [
        "\n",
        "Written D:/ml/genres/jazz\\jazz.00012.ceps"
       ]
      },
      {
       "output_type": "stream",
       "stream": "stdout",
       "text": [
        "\n",
        "Written D:/ml/genres/jazz\\jazz.00013.ceps"
       ]
      },
      {
       "output_type": "stream",
       "stream": "stdout",
       "text": [
        "\n",
        "Written D:/ml/genres/jazz\\jazz.00014.ceps"
       ]
      },
      {
       "output_type": "stream",
       "stream": "stdout",
       "text": [
        "\n",
        "Written D:/ml/genres/jazz\\jazz.00015.ceps"
       ]
      },
      {
       "output_type": "stream",
       "stream": "stdout",
       "text": [
        "\n",
        "Written D:/ml/genres/jazz\\jazz.00016.ceps"
       ]
      },
      {
       "output_type": "stream",
       "stream": "stdout",
       "text": [
        "\n",
        "Written D:/ml/genres/jazz\\jazz.00017.ceps"
       ]
      },
      {
       "output_type": "stream",
       "stream": "stdout",
       "text": [
        "\n",
        "Written D:/ml/genres/jazz\\jazz.00018.ceps"
       ]
      },
      {
       "output_type": "stream",
       "stream": "stdout",
       "text": [
        "\n",
        "Written D:/ml/genres/jazz\\jazz.00019.ceps"
       ]
      },
      {
       "output_type": "stream",
       "stream": "stdout",
       "text": [
        "\n",
        "Written D:/ml/genres/jazz\\jazz.00020.ceps"
       ]
      },
      {
       "output_type": "stream",
       "stream": "stdout",
       "text": [
        "\n",
        "Written D:/ml/genres/jazz\\jazz.00021.ceps"
       ]
      },
      {
       "output_type": "stream",
       "stream": "stdout",
       "text": [
        "\n",
        "Written D:/ml/genres/jazz\\jazz.00022.ceps"
       ]
      },
      {
       "output_type": "stream",
       "stream": "stdout",
       "text": [
        "\n",
        "Written D:/ml/genres/jazz\\jazz.00023.ceps"
       ]
      },
      {
       "output_type": "stream",
       "stream": "stdout",
       "text": [
        "\n",
        "Written D:/ml/genres/jazz\\jazz.00024.ceps"
       ]
      },
      {
       "output_type": "stream",
       "stream": "stdout",
       "text": [
        "\n",
        "Written D:/ml/genres/jazz\\jazz.00025.ceps"
       ]
      },
      {
       "output_type": "stream",
       "stream": "stdout",
       "text": [
        "\n",
        "Written D:/ml/genres/jazz\\jazz.00026.ceps"
       ]
      },
      {
       "output_type": "stream",
       "stream": "stdout",
       "text": [
        "\n",
        "Written D:/ml/genres/jazz\\jazz.00027.ceps"
       ]
      },
      {
       "output_type": "stream",
       "stream": "stdout",
       "text": [
        "\n",
        "Written D:/ml/genres/jazz\\jazz.00028.ceps"
       ]
      },
      {
       "output_type": "stream",
       "stream": "stdout",
       "text": [
        "\n",
        "Written D:/ml/genres/jazz\\jazz.00029.ceps"
       ]
      },
      {
       "output_type": "stream",
       "stream": "stdout",
       "text": [
        "\n",
        "Written D:/ml/genres/jazz\\jazz.00030.ceps"
       ]
      },
      {
       "output_type": "stream",
       "stream": "stdout",
       "text": [
        "\n",
        "Written D:/ml/genres/jazz\\jazz.00031.ceps"
       ]
      },
      {
       "output_type": "stream",
       "stream": "stdout",
       "text": [
        "\n",
        "Written D:/ml/genres/jazz\\jazz.00032.ceps"
       ]
      },
      {
       "output_type": "stream",
       "stream": "stdout",
       "text": [
        "\n",
        "Written D:/ml/genres/jazz\\jazz.00033.ceps"
       ]
      },
      {
       "output_type": "stream",
       "stream": "stdout",
       "text": [
        "\n",
        "Written D:/ml/genres/jazz\\jazz.00034.ceps"
       ]
      },
      {
       "output_type": "stream",
       "stream": "stdout",
       "text": [
        "\n",
        "Written D:/ml/genres/jazz\\jazz.00035.ceps"
       ]
      },
      {
       "output_type": "stream",
       "stream": "stdout",
       "text": [
        "\n",
        "Written D:/ml/genres/jazz\\jazz.00036.ceps"
       ]
      },
      {
       "output_type": "stream",
       "stream": "stdout",
       "text": [
        "\n",
        "Written D:/ml/genres/jazz\\jazz.00037.ceps"
       ]
      },
      {
       "output_type": "stream",
       "stream": "stdout",
       "text": [
        "\n",
        "Written D:/ml/genres/jazz\\jazz.00038.ceps"
       ]
      },
      {
       "output_type": "stream",
       "stream": "stdout",
       "text": [
        "\n",
        "Written D:/ml/genres/jazz\\jazz.00039.ceps"
       ]
      },
      {
       "output_type": "stream",
       "stream": "stdout",
       "text": [
        "\n",
        "Written D:/ml/genres/jazz\\jazz.00040.ceps"
       ]
      },
      {
       "output_type": "stream",
       "stream": "stdout",
       "text": [
        "\n",
        "Written D:/ml/genres/jazz\\jazz.00041.ceps"
       ]
      },
      {
       "output_type": "stream",
       "stream": "stdout",
       "text": [
        "\n",
        "Written D:/ml/genres/jazz\\jazz.00042.ceps"
       ]
      },
      {
       "output_type": "stream",
       "stream": "stdout",
       "text": [
        "\n",
        "Written D:/ml/genres/jazz\\jazz.00043.ceps"
       ]
      },
      {
       "output_type": "stream",
       "stream": "stdout",
       "text": [
        "\n",
        "Written D:/ml/genres/jazz\\jazz.00044.ceps"
       ]
      },
      {
       "output_type": "stream",
       "stream": "stdout",
       "text": [
        "\n",
        "Written D:/ml/genres/jazz\\jazz.00045.ceps"
       ]
      },
      {
       "output_type": "stream",
       "stream": "stdout",
       "text": [
        "\n",
        "Written D:/ml/genres/jazz\\jazz.00046.ceps"
       ]
      },
      {
       "output_type": "stream",
       "stream": "stdout",
       "text": [
        "\n",
        "Written D:/ml/genres/jazz\\jazz.00047.ceps"
       ]
      },
      {
       "output_type": "stream",
       "stream": "stdout",
       "text": [
        "\n",
        "Written D:/ml/genres/jazz\\jazz.00048.ceps"
       ]
      },
      {
       "output_type": "stream",
       "stream": "stdout",
       "text": [
        "\n",
        "Written D:/ml/genres/jazz\\jazz.00049.ceps"
       ]
      },
      {
       "output_type": "stream",
       "stream": "stdout",
       "text": [
        "\n",
        "Written D:/ml/genres/jazz\\jazz.00050.ceps"
       ]
      },
      {
       "output_type": "stream",
       "stream": "stdout",
       "text": [
        "\n",
        "Written D:/ml/genres/jazz\\jazz.00051.ceps"
       ]
      },
      {
       "output_type": "stream",
       "stream": "stdout",
       "text": [
        "\n",
        "Written D:/ml/genres/jazz\\jazz.00052.ceps"
       ]
      },
      {
       "output_type": "stream",
       "stream": "stdout",
       "text": [
        "\n",
        "Written D:/ml/genres/jazz\\jazz.00053.ceps"
       ]
      },
      {
       "output_type": "stream",
       "stream": "stdout",
       "text": [
        "\n",
        "Written D:/ml/genres/jazz\\jazz.00054.ceps"
       ]
      },
      {
       "output_type": "stream",
       "stream": "stdout",
       "text": [
        "\n",
        "Written D:/ml/genres/jazz\\jazz.00055.ceps"
       ]
      },
      {
       "output_type": "stream",
       "stream": "stdout",
       "text": [
        "\n",
        "Written D:/ml/genres/jazz\\jazz.00056.ceps"
       ]
      },
      {
       "output_type": "stream",
       "stream": "stdout",
       "text": [
        "\n",
        "Written D:/ml/genres/jazz\\jazz.00057.ceps"
       ]
      },
      {
       "output_type": "stream",
       "stream": "stdout",
       "text": [
        "\n",
        "Written D:/ml/genres/jazz\\jazz.00058.ceps"
       ]
      },
      {
       "output_type": "stream",
       "stream": "stdout",
       "text": [
        "\n",
        "Written D:/ml/genres/jazz\\jazz.00059.ceps"
       ]
      },
      {
       "output_type": "stream",
       "stream": "stdout",
       "text": [
        "\n",
        "Written D:/ml/genres/jazz\\jazz.00060.ceps"
       ]
      },
      {
       "output_type": "stream",
       "stream": "stdout",
       "text": [
        "\n",
        "Written D:/ml/genres/jazz\\jazz.00061.ceps"
       ]
      },
      {
       "output_type": "stream",
       "stream": "stdout",
       "text": [
        "\n",
        "Written D:/ml/genres/jazz\\jazz.00062.ceps"
       ]
      },
      {
       "output_type": "stream",
       "stream": "stdout",
       "text": [
        "\n",
        "Written D:/ml/genres/jazz\\jazz.00063.ceps"
       ]
      },
      {
       "output_type": "stream",
       "stream": "stdout",
       "text": [
        "\n",
        "Written D:/ml/genres/jazz\\jazz.00064.ceps"
       ]
      },
      {
       "output_type": "stream",
       "stream": "stdout",
       "text": [
        "\n",
        "Written D:/ml/genres/jazz\\jazz.00065.ceps"
       ]
      },
      {
       "output_type": "stream",
       "stream": "stdout",
       "text": [
        "\n",
        "Written D:/ml/genres/jazz\\jazz.00066.ceps"
       ]
      },
      {
       "output_type": "stream",
       "stream": "stdout",
       "text": [
        "\n",
        "Written D:/ml/genres/jazz\\jazz.00067.ceps"
       ]
      },
      {
       "output_type": "stream",
       "stream": "stdout",
       "text": [
        "\n",
        "Written D:/ml/genres/jazz\\jazz.00068.ceps"
       ]
      },
      {
       "output_type": "stream",
       "stream": "stdout",
       "text": [
        "\n",
        "Written D:/ml/genres/jazz\\jazz.00069.ceps"
       ]
      },
      {
       "output_type": "stream",
       "stream": "stdout",
       "text": [
        "\n",
        "Written D:/ml/genres/jazz\\jazz.00070.ceps"
       ]
      },
      {
       "output_type": "stream",
       "stream": "stdout",
       "text": [
        "\n",
        "Written D:/ml/genres/jazz\\jazz.00071.ceps"
       ]
      },
      {
       "output_type": "stream",
       "stream": "stdout",
       "text": [
        "\n",
        "Written D:/ml/genres/jazz\\jazz.00072.ceps"
       ]
      },
      {
       "output_type": "stream",
       "stream": "stdout",
       "text": [
        "\n",
        "Written D:/ml/genres/jazz\\jazz.00073.ceps"
       ]
      },
      {
       "output_type": "stream",
       "stream": "stdout",
       "text": [
        "\n",
        "Written D:/ml/genres/jazz\\jazz.00074.ceps"
       ]
      },
      {
       "output_type": "stream",
       "stream": "stdout",
       "text": [
        "\n",
        "Written D:/ml/genres/jazz\\jazz.00075.ceps"
       ]
      },
      {
       "output_type": "stream",
       "stream": "stdout",
       "text": [
        "\n",
        "Written D:/ml/genres/jazz\\jazz.00076.ceps"
       ]
      },
      {
       "output_type": "stream",
       "stream": "stdout",
       "text": [
        "\n",
        "Written D:/ml/genres/jazz\\jazz.00077.ceps"
       ]
      },
      {
       "output_type": "stream",
       "stream": "stdout",
       "text": [
        "\n",
        "Written D:/ml/genres/jazz\\jazz.00078.ceps"
       ]
      },
      {
       "output_type": "stream",
       "stream": "stdout",
       "text": [
        "\n",
        "Written D:/ml/genres/jazz\\jazz.00079.ceps"
       ]
      },
      {
       "output_type": "stream",
       "stream": "stdout",
       "text": [
        "\n",
        "Written D:/ml/genres/jazz\\jazz.00080.ceps"
       ]
      },
      {
       "output_type": "stream",
       "stream": "stdout",
       "text": [
        "\n",
        "Written D:/ml/genres/jazz\\jazz.00081.ceps"
       ]
      },
      {
       "output_type": "stream",
       "stream": "stdout",
       "text": [
        "\n",
        "Written D:/ml/genres/jazz\\jazz.00082.ceps"
       ]
      },
      {
       "output_type": "stream",
       "stream": "stdout",
       "text": [
        "\n",
        "Written D:/ml/genres/jazz\\jazz.00083.ceps"
       ]
      },
      {
       "output_type": "stream",
       "stream": "stdout",
       "text": [
        "\n",
        "Written D:/ml/genres/jazz\\jazz.00084.ceps"
       ]
      },
      {
       "output_type": "stream",
       "stream": "stdout",
       "text": [
        "\n",
        "Written D:/ml/genres/jazz\\jazz.00085.ceps"
       ]
      },
      {
       "output_type": "stream",
       "stream": "stdout",
       "text": [
        "\n",
        "Written D:/ml/genres/jazz\\jazz.00086.ceps"
       ]
      },
      {
       "output_type": "stream",
       "stream": "stdout",
       "text": [
        "\n",
        "Written D:/ml/genres/jazz\\jazz.00087.ceps"
       ]
      },
      {
       "output_type": "stream",
       "stream": "stdout",
       "text": [
        "\n",
        "Written D:/ml/genres/jazz\\jazz.00088.ceps"
       ]
      },
      {
       "output_type": "stream",
       "stream": "stdout",
       "text": [
        "\n",
        "Written D:/ml/genres/jazz\\jazz.00089.ceps"
       ]
      },
      {
       "output_type": "stream",
       "stream": "stdout",
       "text": [
        "\n",
        "Written D:/ml/genres/jazz\\jazz.00090.ceps"
       ]
      },
      {
       "output_type": "stream",
       "stream": "stdout",
       "text": [
        "\n",
        "Written D:/ml/genres/jazz\\jazz.00091.ceps"
       ]
      },
      {
       "output_type": "stream",
       "stream": "stdout",
       "text": [
        "\n",
        "Written D:/ml/genres/jazz\\jazz.00092.ceps"
       ]
      },
      {
       "output_type": "stream",
       "stream": "stdout",
       "text": [
        "\n",
        "Written D:/ml/genres/jazz\\jazz.00093.ceps"
       ]
      },
      {
       "output_type": "stream",
       "stream": "stdout",
       "text": [
        "\n",
        "Written D:/ml/genres/jazz\\jazz.00094.ceps"
       ]
      },
      {
       "output_type": "stream",
       "stream": "stdout",
       "text": [
        "\n",
        "Written D:/ml/genres/jazz\\jazz.00095.ceps"
       ]
      },
      {
       "output_type": "stream",
       "stream": "stdout",
       "text": [
        "\n",
        "Written D:/ml/genres/jazz\\jazz.00096.ceps"
       ]
      },
      {
       "output_type": "stream",
       "stream": "stdout",
       "text": [
        "\n",
        "Written D:/ml/genres/jazz\\jazz.00097.ceps"
       ]
      },
      {
       "output_type": "stream",
       "stream": "stdout",
       "text": [
        "\n",
        "Written D:/ml/genres/jazz\\jazz.00098.ceps"
       ]
      },
      {
       "output_type": "stream",
       "stream": "stdout",
       "text": [
        "\n",
        "Written D:/ml/genres/jazz\\jazz.00099.ceps"
       ]
      },
      {
       "output_type": "stream",
       "stream": "stdout",
       "text": [
        "\n",
        "Written D:/ml/genres/country\\country.00000.ceps"
       ]
      },
      {
       "output_type": "stream",
       "stream": "stdout",
       "text": [
        "\n",
        "Written D:/ml/genres/country\\country.00001.ceps"
       ]
      },
      {
       "output_type": "stream",
       "stream": "stdout",
       "text": [
        "\n",
        "Written D:/ml/genres/country\\country.00002.ceps"
       ]
      },
      {
       "output_type": "stream",
       "stream": "stdout",
       "text": [
        "\n",
        "Written D:/ml/genres/country\\country.00003.ceps"
       ]
      },
      {
       "output_type": "stream",
       "stream": "stdout",
       "text": [
        "\n",
        "Written D:/ml/genres/country\\country.00004.ceps"
       ]
      },
      {
       "output_type": "stream",
       "stream": "stdout",
       "text": [
        "\n",
        "Written D:/ml/genres/country\\country.00005.ceps"
       ]
      },
      {
       "output_type": "stream",
       "stream": "stdout",
       "text": [
        "\n",
        "Written D:/ml/genres/country\\country.00006.ceps"
       ]
      },
      {
       "output_type": "stream",
       "stream": "stdout",
       "text": [
        "\n",
        "Written D:/ml/genres/country\\country.00007.ceps"
       ]
      },
      {
       "output_type": "stream",
       "stream": "stdout",
       "text": [
        "\n",
        "Written D:/ml/genres/country\\country.00008.ceps"
       ]
      },
      {
       "output_type": "stream",
       "stream": "stdout",
       "text": [
        "\n",
        "Written D:/ml/genres/country\\country.00009.ceps"
       ]
      },
      {
       "output_type": "stream",
       "stream": "stdout",
       "text": [
        "\n",
        "Written D:/ml/genres/country\\country.00010.ceps"
       ]
      },
      {
       "output_type": "stream",
       "stream": "stdout",
       "text": [
        "\n",
        "Written D:/ml/genres/country\\country.00011.ceps"
       ]
      },
      {
       "output_type": "stream",
       "stream": "stdout",
       "text": [
        "\n",
        "Written D:/ml/genres/country\\country.00012.ceps"
       ]
      },
      {
       "output_type": "stream",
       "stream": "stdout",
       "text": [
        "\n",
        "Written D:/ml/genres/country\\country.00013.ceps"
       ]
      },
      {
       "output_type": "stream",
       "stream": "stdout",
       "text": [
        "\n",
        "Written D:/ml/genres/country\\country.00014.ceps"
       ]
      },
      {
       "output_type": "stream",
       "stream": "stdout",
       "text": [
        "\n",
        "Written D:/ml/genres/country\\country.00015.ceps"
       ]
      },
      {
       "output_type": "stream",
       "stream": "stdout",
       "text": [
        "\n",
        "Written D:/ml/genres/country\\country.00016.ceps"
       ]
      },
      {
       "output_type": "stream",
       "stream": "stdout",
       "text": [
        "\n",
        "Written D:/ml/genres/country\\country.00017.ceps"
       ]
      },
      {
       "output_type": "stream",
       "stream": "stdout",
       "text": [
        "\n",
        "Written D:/ml/genres/country\\country.00018.ceps"
       ]
      },
      {
       "output_type": "stream",
       "stream": "stdout",
       "text": [
        "\n",
        "Written D:/ml/genres/country\\country.00019.ceps"
       ]
      },
      {
       "output_type": "stream",
       "stream": "stdout",
       "text": [
        "\n",
        "Written D:/ml/genres/country\\country.00020.ceps"
       ]
      },
      {
       "output_type": "stream",
       "stream": "stdout",
       "text": [
        "\n",
        "Written D:/ml/genres/country\\country.00021.ceps"
       ]
      },
      {
       "output_type": "stream",
       "stream": "stdout",
       "text": [
        "\n",
        "Written D:/ml/genres/country\\country.00022.ceps"
       ]
      },
      {
       "output_type": "stream",
       "stream": "stdout",
       "text": [
        "\n",
        "Written D:/ml/genres/country\\country.00023.ceps"
       ]
      },
      {
       "output_type": "stream",
       "stream": "stdout",
       "text": [
        "\n",
        "Written D:/ml/genres/country\\country.00024.ceps"
       ]
      },
      {
       "output_type": "stream",
       "stream": "stdout",
       "text": [
        "\n",
        "Written D:/ml/genres/country\\country.00025.ceps"
       ]
      },
      {
       "output_type": "stream",
       "stream": "stdout",
       "text": [
        "\n",
        "Written D:/ml/genres/country\\country.00026.ceps"
       ]
      },
      {
       "output_type": "stream",
       "stream": "stdout",
       "text": [
        "\n",
        "Written D:/ml/genres/country\\country.00027.ceps"
       ]
      },
      {
       "output_type": "stream",
       "stream": "stdout",
       "text": [
        "\n",
        "Written D:/ml/genres/country\\country.00028.ceps"
       ]
      },
      {
       "output_type": "stream",
       "stream": "stdout",
       "text": [
        "\n",
        "Written D:/ml/genres/country\\country.00029.ceps"
       ]
      },
      {
       "output_type": "stream",
       "stream": "stdout",
       "text": [
        "\n",
        "Written D:/ml/genres/country\\country.00030.ceps"
       ]
      },
      {
       "output_type": "stream",
       "stream": "stdout",
       "text": [
        "\n",
        "Written D:/ml/genres/country\\country.00031.ceps"
       ]
      },
      {
       "output_type": "stream",
       "stream": "stdout",
       "text": [
        "\n",
        "Written D:/ml/genres/country\\country.00032.ceps"
       ]
      },
      {
       "output_type": "stream",
       "stream": "stdout",
       "text": [
        "\n",
        "Written D:/ml/genres/country\\country.00033.ceps"
       ]
      },
      {
       "output_type": "stream",
       "stream": "stdout",
       "text": [
        "\n",
        "Written D:/ml/genres/country\\country.00034.ceps"
       ]
      },
      {
       "output_type": "stream",
       "stream": "stdout",
       "text": [
        "\n",
        "Written D:/ml/genres/country\\country.00035.ceps"
       ]
      },
      {
       "output_type": "stream",
       "stream": "stdout",
       "text": [
        "\n",
        "Written D:/ml/genres/country\\country.00036.ceps"
       ]
      },
      {
       "output_type": "stream",
       "stream": "stdout",
       "text": [
        "\n",
        "Written D:/ml/genres/country\\country.00037.ceps"
       ]
      },
      {
       "output_type": "stream",
       "stream": "stdout",
       "text": [
        "\n",
        "Written D:/ml/genres/country\\country.00038.ceps"
       ]
      },
      {
       "output_type": "stream",
       "stream": "stdout",
       "text": [
        "\n",
        "Written D:/ml/genres/country\\country.00039.ceps"
       ]
      },
      {
       "output_type": "stream",
       "stream": "stdout",
       "text": [
        "\n",
        "Written D:/ml/genres/country\\country.00040.ceps"
       ]
      },
      {
       "output_type": "stream",
       "stream": "stdout",
       "text": [
        "\n",
        "Written D:/ml/genres/country\\country.00041.ceps"
       ]
      },
      {
       "output_type": "stream",
       "stream": "stdout",
       "text": [
        "\n",
        "Written D:/ml/genres/country\\country.00042.ceps"
       ]
      },
      {
       "output_type": "stream",
       "stream": "stdout",
       "text": [
        "\n",
        "Written D:/ml/genres/country\\country.00043.ceps"
       ]
      },
      {
       "output_type": "stream",
       "stream": "stdout",
       "text": [
        "\n",
        "Written D:/ml/genres/country\\country.00044.ceps"
       ]
      },
      {
       "output_type": "stream",
       "stream": "stdout",
       "text": [
        "\n",
        "Written D:/ml/genres/country\\country.00045.ceps"
       ]
      },
      {
       "output_type": "stream",
       "stream": "stdout",
       "text": [
        "\n",
        "Written D:/ml/genres/country\\country.00046.ceps"
       ]
      },
      {
       "output_type": "stream",
       "stream": "stdout",
       "text": [
        "\n",
        "Written D:/ml/genres/country\\country.00047.ceps"
       ]
      },
      {
       "output_type": "stream",
       "stream": "stdout",
       "text": [
        "\n",
        "Written D:/ml/genres/country\\country.00048.ceps"
       ]
      },
      {
       "output_type": "stream",
       "stream": "stdout",
       "text": [
        "\n",
        "Written D:/ml/genres/country\\country.00049.ceps"
       ]
      },
      {
       "output_type": "stream",
       "stream": "stdout",
       "text": [
        "\n",
        "Written D:/ml/genres/country\\country.00050.ceps"
       ]
      },
      {
       "output_type": "stream",
       "stream": "stdout",
       "text": [
        "\n",
        "Written D:/ml/genres/country\\country.00051.ceps"
       ]
      },
      {
       "output_type": "stream",
       "stream": "stdout",
       "text": [
        "\n",
        "Written D:/ml/genres/country\\country.00052.ceps"
       ]
      },
      {
       "output_type": "stream",
       "stream": "stdout",
       "text": [
        "\n",
        "Written D:/ml/genres/country\\country.00053.ceps"
       ]
      },
      {
       "output_type": "stream",
       "stream": "stdout",
       "text": [
        "\n",
        "Written D:/ml/genres/country\\country.00054.ceps"
       ]
      },
      {
       "output_type": "stream",
       "stream": "stdout",
       "text": [
        "\n",
        "Written D:/ml/genres/country\\country.00055.ceps"
       ]
      },
      {
       "output_type": "stream",
       "stream": "stdout",
       "text": [
        "\n",
        "Written D:/ml/genres/country\\country.00056.ceps"
       ]
      },
      {
       "output_type": "stream",
       "stream": "stdout",
       "text": [
        "\n",
        "Written D:/ml/genres/country\\country.00057.ceps"
       ]
      },
      {
       "output_type": "stream",
       "stream": "stdout",
       "text": [
        "\n",
        "Written D:/ml/genres/country\\country.00058.ceps"
       ]
      },
      {
       "output_type": "stream",
       "stream": "stdout",
       "text": [
        "\n",
        "Written D:/ml/genres/country\\country.00059.ceps"
       ]
      },
      {
       "output_type": "stream",
       "stream": "stdout",
       "text": [
        "\n",
        "Written D:/ml/genres/country\\country.00060.ceps"
       ]
      },
      {
       "output_type": "stream",
       "stream": "stdout",
       "text": [
        "\n",
        "Written D:/ml/genres/country\\country.00061.ceps"
       ]
      },
      {
       "output_type": "stream",
       "stream": "stdout",
       "text": [
        "\n",
        "Written D:/ml/genres/country\\country.00062.ceps"
       ]
      },
      {
       "output_type": "stream",
       "stream": "stdout",
       "text": [
        "\n",
        "Written D:/ml/genres/country\\country.00063.ceps"
       ]
      },
      {
       "output_type": "stream",
       "stream": "stdout",
       "text": [
        "\n",
        "Written D:/ml/genres/country\\country.00064.ceps"
       ]
      },
      {
       "output_type": "stream",
       "stream": "stdout",
       "text": [
        "\n",
        "Written D:/ml/genres/country\\country.00065.ceps"
       ]
      },
      {
       "output_type": "stream",
       "stream": "stdout",
       "text": [
        "\n",
        "Written D:/ml/genres/country\\country.00066.ceps"
       ]
      },
      {
       "output_type": "stream",
       "stream": "stdout",
       "text": [
        "\n",
        "Written D:/ml/genres/country\\country.00067.ceps"
       ]
      },
      {
       "output_type": "stream",
       "stream": "stdout",
       "text": [
        "\n",
        "Written D:/ml/genres/country\\country.00068.ceps"
       ]
      },
      {
       "output_type": "stream",
       "stream": "stdout",
       "text": [
        "\n",
        "Written D:/ml/genres/country\\country.00069.ceps"
       ]
      },
      {
       "output_type": "stream",
       "stream": "stdout",
       "text": [
        "\n",
        "Written D:/ml/genres/country\\country.00070.ceps"
       ]
      },
      {
       "output_type": "stream",
       "stream": "stdout",
       "text": [
        "\n",
        "Written D:/ml/genres/country\\country.00071.ceps"
       ]
      },
      {
       "output_type": "stream",
       "stream": "stdout",
       "text": [
        "\n",
        "Written D:/ml/genres/country\\country.00072.ceps"
       ]
      },
      {
       "output_type": "stream",
       "stream": "stdout",
       "text": [
        "\n",
        "Written D:/ml/genres/country\\country.00073.ceps"
       ]
      },
      {
       "output_type": "stream",
       "stream": "stdout",
       "text": [
        "\n",
        "Written D:/ml/genres/country\\country.00074.ceps"
       ]
      },
      {
       "output_type": "stream",
       "stream": "stdout",
       "text": [
        "\n",
        "Written D:/ml/genres/country\\country.00075.ceps"
       ]
      },
      {
       "output_type": "stream",
       "stream": "stdout",
       "text": [
        "\n",
        "Written D:/ml/genres/country\\country.00076.ceps"
       ]
      },
      {
       "output_type": "stream",
       "stream": "stdout",
       "text": [
        "\n",
        "Written D:/ml/genres/country\\country.00077.ceps"
       ]
      },
      {
       "output_type": "stream",
       "stream": "stdout",
       "text": [
        "\n",
        "Written D:/ml/genres/country\\country.00078.ceps"
       ]
      },
      {
       "output_type": "stream",
       "stream": "stdout",
       "text": [
        "\n",
        "Written D:/ml/genres/country\\country.00079.ceps"
       ]
      },
      {
       "output_type": "stream",
       "stream": "stdout",
       "text": [
        "\n",
        "Written D:/ml/genres/country\\country.00080.ceps"
       ]
      },
      {
       "output_type": "stream",
       "stream": "stdout",
       "text": [
        "\n",
        "Written D:/ml/genres/country\\country.00081.ceps"
       ]
      },
      {
       "output_type": "stream",
       "stream": "stdout",
       "text": [
        "\n",
        "Written D:/ml/genres/country\\country.00082.ceps"
       ]
      },
      {
       "output_type": "stream",
       "stream": "stdout",
       "text": [
        "\n",
        "Written D:/ml/genres/country\\country.00083.ceps"
       ]
      },
      {
       "output_type": "stream",
       "stream": "stdout",
       "text": [
        "\n",
        "Written D:/ml/genres/country\\country.00084.ceps"
       ]
      },
      {
       "output_type": "stream",
       "stream": "stdout",
       "text": [
        "\n",
        "Written D:/ml/genres/country\\country.00085.ceps"
       ]
      },
      {
       "output_type": "stream",
       "stream": "stdout",
       "text": [
        "\n",
        "Written D:/ml/genres/country\\country.00086.ceps"
       ]
      },
      {
       "output_type": "stream",
       "stream": "stdout",
       "text": [
        "\n",
        "Written D:/ml/genres/country\\country.00087.ceps"
       ]
      },
      {
       "output_type": "stream",
       "stream": "stdout",
       "text": [
        "\n",
        "Written D:/ml/genres/country\\country.00088.ceps"
       ]
      },
      {
       "output_type": "stream",
       "stream": "stdout",
       "text": [
        "\n",
        "Written D:/ml/genres/country\\country.00089.ceps"
       ]
      },
      {
       "output_type": "stream",
       "stream": "stdout",
       "text": [
        "\n",
        "Written D:/ml/genres/country\\country.00090.ceps"
       ]
      },
      {
       "output_type": "stream",
       "stream": "stdout",
       "text": [
        "\n",
        "Written D:/ml/genres/country\\country.00091.ceps"
       ]
      },
      {
       "output_type": "stream",
       "stream": "stdout",
       "text": [
        "\n",
        "Written D:/ml/genres/country\\country.00092.ceps"
       ]
      },
      {
       "output_type": "stream",
       "stream": "stdout",
       "text": [
        "\n",
        "Written D:/ml/genres/country\\country.00093.ceps"
       ]
      },
      {
       "output_type": "stream",
       "stream": "stdout",
       "text": [
        "\n",
        "Written D:/ml/genres/country\\country.00094.ceps"
       ]
      },
      {
       "output_type": "stream",
       "stream": "stdout",
       "text": [
        "\n",
        "Written D:/ml/genres/country\\country.00095.ceps"
       ]
      },
      {
       "output_type": "stream",
       "stream": "stdout",
       "text": [
        "\n",
        "Written D:/ml/genres/country\\country.00096.ceps"
       ]
      },
      {
       "output_type": "stream",
       "stream": "stdout",
       "text": [
        "\n",
        "Written D:/ml/genres/country\\country.00097.ceps"
       ]
      },
      {
       "output_type": "stream",
       "stream": "stdout",
       "text": [
        "\n",
        "Written D:/ml/genres/country\\country.00098.ceps"
       ]
      },
      {
       "output_type": "stream",
       "stream": "stdout",
       "text": [
        "\n",
        "Written D:/ml/genres/country\\country.00099.ceps"
       ]
      },
      {
       "output_type": "stream",
       "stream": "stdout",
       "text": [
        "\n",
        "Written D:/ml/genres/pop\\pop.00000.ceps"
       ]
      },
      {
       "output_type": "stream",
       "stream": "stdout",
       "text": [
        "\n",
        "Written D:/ml/genres/pop\\pop.00001.ceps"
       ]
      },
      {
       "output_type": "stream",
       "stream": "stdout",
       "text": [
        "\n",
        "Written D:/ml/genres/pop\\pop.00002.ceps"
       ]
      },
      {
       "output_type": "stream",
       "stream": "stdout",
       "text": [
        "\n",
        "Written D:/ml/genres/pop\\pop.00003.ceps"
       ]
      },
      {
       "output_type": "stream",
       "stream": "stdout",
       "text": [
        "\n",
        "Written D:/ml/genres/pop\\pop.00004.ceps"
       ]
      },
      {
       "output_type": "stream",
       "stream": "stdout",
       "text": [
        "\n",
        "Written D:/ml/genres/pop\\pop.00005.ceps"
       ]
      },
      {
       "output_type": "stream",
       "stream": "stdout",
       "text": [
        "\n",
        "Written D:/ml/genres/pop\\pop.00006.ceps"
       ]
      },
      {
       "output_type": "stream",
       "stream": "stdout",
       "text": [
        "\n",
        "Written D:/ml/genres/pop\\pop.00007.ceps"
       ]
      },
      {
       "output_type": "stream",
       "stream": "stdout",
       "text": [
        "\n",
        "Written D:/ml/genres/pop\\pop.00008.ceps"
       ]
      },
      {
       "output_type": "stream",
       "stream": "stdout",
       "text": [
        "\n",
        "Written D:/ml/genres/pop\\pop.00009.ceps"
       ]
      },
      {
       "output_type": "stream",
       "stream": "stdout",
       "text": [
        "\n",
        "Written D:/ml/genres/pop\\pop.00010.ceps"
       ]
      },
      {
       "output_type": "stream",
       "stream": "stdout",
       "text": [
        "\n",
        "Written D:/ml/genres/pop\\pop.00011.ceps"
       ]
      },
      {
       "output_type": "stream",
       "stream": "stdout",
       "text": [
        "\n",
        "Written D:/ml/genres/pop\\pop.00012.ceps"
       ]
      },
      {
       "output_type": "stream",
       "stream": "stdout",
       "text": [
        "\n",
        "Written D:/ml/genres/pop\\pop.00013.ceps"
       ]
      },
      {
       "output_type": "stream",
       "stream": "stdout",
       "text": [
        "\n",
        "Written D:/ml/genres/pop\\pop.00014.ceps"
       ]
      },
      {
       "output_type": "stream",
       "stream": "stdout",
       "text": [
        "\n",
        "Written D:/ml/genres/pop\\pop.00015.ceps"
       ]
      },
      {
       "output_type": "stream",
       "stream": "stdout",
       "text": [
        "\n",
        "Written D:/ml/genres/pop\\pop.00016.ceps"
       ]
      },
      {
       "output_type": "stream",
       "stream": "stdout",
       "text": [
        "\n",
        "Written D:/ml/genres/pop\\pop.00017.ceps"
       ]
      },
      {
       "output_type": "stream",
       "stream": "stdout",
       "text": [
        "\n",
        "Written D:/ml/genres/pop\\pop.00018.ceps"
       ]
      },
      {
       "output_type": "stream",
       "stream": "stdout",
       "text": [
        "\n",
        "Written D:/ml/genres/pop\\pop.00019.ceps"
       ]
      },
      {
       "output_type": "stream",
       "stream": "stdout",
       "text": [
        "\n",
        "Written D:/ml/genres/pop\\pop.00020.ceps"
       ]
      },
      {
       "output_type": "stream",
       "stream": "stdout",
       "text": [
        "\n",
        "Written D:/ml/genres/pop\\pop.00021.ceps"
       ]
      },
      {
       "output_type": "stream",
       "stream": "stdout",
       "text": [
        "\n",
        "Written D:/ml/genres/pop\\pop.00022.ceps"
       ]
      },
      {
       "output_type": "stream",
       "stream": "stdout",
       "text": [
        "\n",
        "Written D:/ml/genres/pop\\pop.00023.ceps"
       ]
      },
      {
       "output_type": "stream",
       "stream": "stdout",
       "text": [
        "\n",
        "Written D:/ml/genres/pop\\pop.00024.ceps"
       ]
      },
      {
       "output_type": "stream",
       "stream": "stdout",
       "text": [
        "\n",
        "Written D:/ml/genres/pop\\pop.00025.ceps"
       ]
      },
      {
       "output_type": "stream",
       "stream": "stdout",
       "text": [
        "\n",
        "Written D:/ml/genres/pop\\pop.00026.ceps"
       ]
      },
      {
       "output_type": "stream",
       "stream": "stdout",
       "text": [
        "\n",
        "Written D:/ml/genres/pop\\pop.00027.ceps"
       ]
      },
      {
       "output_type": "stream",
       "stream": "stdout",
       "text": [
        "\n",
        "Written D:/ml/genres/pop\\pop.00028.ceps"
       ]
      },
      {
       "output_type": "stream",
       "stream": "stdout",
       "text": [
        "\n",
        "Written D:/ml/genres/pop\\pop.00029.ceps"
       ]
      },
      {
       "output_type": "stream",
       "stream": "stdout",
       "text": [
        "\n",
        "Written D:/ml/genres/pop\\pop.00030.ceps"
       ]
      },
      {
       "output_type": "stream",
       "stream": "stdout",
       "text": [
        "\n",
        "Written D:/ml/genres/pop\\pop.00031.ceps"
       ]
      },
      {
       "output_type": "stream",
       "stream": "stdout",
       "text": [
        "\n",
        "Written D:/ml/genres/pop\\pop.00032.ceps"
       ]
      },
      {
       "output_type": "stream",
       "stream": "stdout",
       "text": [
        "\n",
        "Written D:/ml/genres/pop\\pop.00033.ceps"
       ]
      },
      {
       "output_type": "stream",
       "stream": "stdout",
       "text": [
        "\n",
        "Written D:/ml/genres/pop\\pop.00034.ceps"
       ]
      },
      {
       "output_type": "stream",
       "stream": "stdout",
       "text": [
        "\n",
        "Written D:/ml/genres/pop\\pop.00035.ceps"
       ]
      },
      {
       "output_type": "stream",
       "stream": "stdout",
       "text": [
        "\n",
        "Written D:/ml/genres/pop\\pop.00036.ceps"
       ]
      },
      {
       "output_type": "stream",
       "stream": "stdout",
       "text": [
        "\n",
        "Written D:/ml/genres/pop\\pop.00037.ceps"
       ]
      },
      {
       "output_type": "stream",
       "stream": "stdout",
       "text": [
        "\n",
        "Written D:/ml/genres/pop\\pop.00038.ceps"
       ]
      },
      {
       "output_type": "stream",
       "stream": "stdout",
       "text": [
        "\n",
        "Written D:/ml/genres/pop\\pop.00039.ceps"
       ]
      },
      {
       "output_type": "stream",
       "stream": "stdout",
       "text": [
        "\n",
        "Written D:/ml/genres/pop\\pop.00040.ceps"
       ]
      },
      {
       "output_type": "stream",
       "stream": "stdout",
       "text": [
        "\n",
        "Written D:/ml/genres/pop\\pop.00041.ceps"
       ]
      },
      {
       "output_type": "stream",
       "stream": "stdout",
       "text": [
        "\n",
        "Written D:/ml/genres/pop\\pop.00042.ceps"
       ]
      },
      {
       "output_type": "stream",
       "stream": "stdout",
       "text": [
        "\n",
        "Written D:/ml/genres/pop\\pop.00043.ceps"
       ]
      },
      {
       "output_type": "stream",
       "stream": "stdout",
       "text": [
        "\n",
        "Written D:/ml/genres/pop\\pop.00044.ceps"
       ]
      },
      {
       "output_type": "stream",
       "stream": "stdout",
       "text": [
        "\n",
        "Written D:/ml/genres/pop\\pop.00045.ceps"
       ]
      },
      {
       "output_type": "stream",
       "stream": "stdout",
       "text": [
        "\n",
        "Written D:/ml/genres/pop\\pop.00046.ceps"
       ]
      },
      {
       "output_type": "stream",
       "stream": "stdout",
       "text": [
        "\n",
        "Written D:/ml/genres/pop\\pop.00047.ceps"
       ]
      },
      {
       "output_type": "stream",
       "stream": "stdout",
       "text": [
        "\n",
        "Written D:/ml/genres/pop\\pop.00048.ceps"
       ]
      },
      {
       "output_type": "stream",
       "stream": "stdout",
       "text": [
        "\n",
        "Written D:/ml/genres/pop\\pop.00049.ceps"
       ]
      },
      {
       "output_type": "stream",
       "stream": "stdout",
       "text": [
        "\n",
        "Written D:/ml/genres/pop\\pop.00050.ceps"
       ]
      },
      {
       "output_type": "stream",
       "stream": "stdout",
       "text": [
        "\n",
        "Written D:/ml/genres/pop\\pop.00051.ceps"
       ]
      },
      {
       "output_type": "stream",
       "stream": "stdout",
       "text": [
        "\n",
        "Written D:/ml/genres/pop\\pop.00052.ceps"
       ]
      },
      {
       "output_type": "stream",
       "stream": "stdout",
       "text": [
        "\n",
        "Written D:/ml/genres/pop\\pop.00053.ceps"
       ]
      },
      {
       "output_type": "stream",
       "stream": "stdout",
       "text": [
        "\n",
        "Written D:/ml/genres/pop\\pop.00054.ceps"
       ]
      },
      {
       "output_type": "stream",
       "stream": "stdout",
       "text": [
        "\n",
        "Written D:/ml/genres/pop\\pop.00055.ceps"
       ]
      },
      {
       "output_type": "stream",
       "stream": "stdout",
       "text": [
        "\n",
        "Written D:/ml/genres/pop\\pop.00056.ceps"
       ]
      },
      {
       "output_type": "stream",
       "stream": "stdout",
       "text": [
        "\n",
        "Written D:/ml/genres/pop\\pop.00057.ceps"
       ]
      },
      {
       "output_type": "stream",
       "stream": "stdout",
       "text": [
        "\n",
        "Written D:/ml/genres/pop\\pop.00058.ceps"
       ]
      },
      {
       "output_type": "stream",
       "stream": "stdout",
       "text": [
        "\n",
        "Written D:/ml/genres/pop\\pop.00059.ceps"
       ]
      },
      {
       "output_type": "stream",
       "stream": "stdout",
       "text": [
        "\n",
        "Written D:/ml/genres/pop\\pop.00060.ceps"
       ]
      },
      {
       "output_type": "stream",
       "stream": "stdout",
       "text": [
        "\n",
        "Written D:/ml/genres/pop\\pop.00061.ceps"
       ]
      },
      {
       "output_type": "stream",
       "stream": "stdout",
       "text": [
        "\n",
        "Written D:/ml/genres/pop\\pop.00062.ceps"
       ]
      },
      {
       "output_type": "stream",
       "stream": "stdout",
       "text": [
        "\n",
        "Written D:/ml/genres/pop\\pop.00063.ceps"
       ]
      },
      {
       "output_type": "stream",
       "stream": "stdout",
       "text": [
        "\n",
        "Written D:/ml/genres/pop\\pop.00064.ceps"
       ]
      },
      {
       "output_type": "stream",
       "stream": "stdout",
       "text": [
        "\n",
        "Written D:/ml/genres/pop\\pop.00065.ceps"
       ]
      },
      {
       "output_type": "stream",
       "stream": "stdout",
       "text": [
        "\n",
        "Written D:/ml/genres/pop\\pop.00066.ceps"
       ]
      },
      {
       "output_type": "stream",
       "stream": "stdout",
       "text": [
        "\n",
        "Written D:/ml/genres/pop\\pop.00067.ceps"
       ]
      },
      {
       "output_type": "stream",
       "stream": "stdout",
       "text": [
        "\n",
        "Written D:/ml/genres/pop\\pop.00068.ceps"
       ]
      },
      {
       "output_type": "stream",
       "stream": "stdout",
       "text": [
        "\n",
        "Written D:/ml/genres/pop\\pop.00069.ceps"
       ]
      },
      {
       "output_type": "stream",
       "stream": "stdout",
       "text": [
        "\n",
        "Written D:/ml/genres/pop\\pop.00070.ceps"
       ]
      },
      {
       "output_type": "stream",
       "stream": "stdout",
       "text": [
        "\n",
        "Written D:/ml/genres/pop\\pop.00071.ceps"
       ]
      },
      {
       "output_type": "stream",
       "stream": "stdout",
       "text": [
        "\n",
        "Written D:/ml/genres/pop\\pop.00072.ceps"
       ]
      },
      {
       "output_type": "stream",
       "stream": "stdout",
       "text": [
        "\n",
        "Written D:/ml/genres/pop\\pop.00073.ceps"
       ]
      },
      {
       "output_type": "stream",
       "stream": "stdout",
       "text": [
        "\n",
        "Written D:/ml/genres/pop\\pop.00074.ceps"
       ]
      },
      {
       "output_type": "stream",
       "stream": "stdout",
       "text": [
        "\n",
        "Written D:/ml/genres/pop\\pop.00075.ceps"
       ]
      },
      {
       "output_type": "stream",
       "stream": "stdout",
       "text": [
        "\n",
        "Written D:/ml/genres/pop\\pop.00076.ceps"
       ]
      },
      {
       "output_type": "stream",
       "stream": "stdout",
       "text": [
        "\n",
        "Written D:/ml/genres/pop\\pop.00077.ceps"
       ]
      },
      {
       "output_type": "stream",
       "stream": "stdout",
       "text": [
        "\n",
        "Written D:/ml/genres/pop\\pop.00078.ceps"
       ]
      },
      {
       "output_type": "stream",
       "stream": "stdout",
       "text": [
        "\n",
        "Written D:/ml/genres/pop\\pop.00079.ceps"
       ]
      },
      {
       "output_type": "stream",
       "stream": "stdout",
       "text": [
        "\n",
        "Written D:/ml/genres/pop\\pop.00080.ceps"
       ]
      },
      {
       "output_type": "stream",
       "stream": "stdout",
       "text": [
        "\n",
        "Written D:/ml/genres/pop\\pop.00081.ceps"
       ]
      },
      {
       "output_type": "stream",
       "stream": "stdout",
       "text": [
        "\n",
        "Written D:/ml/genres/pop\\pop.00082.ceps"
       ]
      },
      {
       "output_type": "stream",
       "stream": "stdout",
       "text": [
        "\n",
        "Written D:/ml/genres/pop\\pop.00083.ceps"
       ]
      },
      {
       "output_type": "stream",
       "stream": "stdout",
       "text": [
        "\n",
        "Written D:/ml/genres/pop\\pop.00084.ceps"
       ]
      },
      {
       "output_type": "stream",
       "stream": "stdout",
       "text": [
        "\n",
        "Written D:/ml/genres/pop\\pop.00085.ceps"
       ]
      },
      {
       "output_type": "stream",
       "stream": "stdout",
       "text": [
        "\n",
        "Written D:/ml/genres/pop\\pop.00086.ceps"
       ]
      },
      {
       "output_type": "stream",
       "stream": "stdout",
       "text": [
        "\n",
        "Written D:/ml/genres/pop\\pop.00087.ceps"
       ]
      },
      {
       "output_type": "stream",
       "stream": "stdout",
       "text": [
        "\n",
        "Written D:/ml/genres/pop\\pop.00088.ceps"
       ]
      },
      {
       "output_type": "stream",
       "stream": "stdout",
       "text": [
        "\n",
        "Written D:/ml/genres/pop\\pop.00089.ceps"
       ]
      },
      {
       "output_type": "stream",
       "stream": "stdout",
       "text": [
        "\n",
        "Written D:/ml/genres/pop\\pop.00090.ceps"
       ]
      },
      {
       "output_type": "stream",
       "stream": "stdout",
       "text": [
        "\n",
        "Written D:/ml/genres/pop\\pop.00091.ceps"
       ]
      },
      {
       "output_type": "stream",
       "stream": "stdout",
       "text": [
        "\n",
        "Written D:/ml/genres/pop\\pop.00092.ceps"
       ]
      },
      {
       "output_type": "stream",
       "stream": "stdout",
       "text": [
        "\n",
        "Written D:/ml/genres/pop\\pop.00093.ceps"
       ]
      },
      {
       "output_type": "stream",
       "stream": "stdout",
       "text": [
        "\n",
        "Written D:/ml/genres/pop\\pop.00094.ceps"
       ]
      },
      {
       "output_type": "stream",
       "stream": "stdout",
       "text": [
        "\n",
        "Written D:/ml/genres/pop\\pop.00095.ceps"
       ]
      },
      {
       "output_type": "stream",
       "stream": "stdout",
       "text": [
        "\n",
        "Written D:/ml/genres/pop\\pop.00096.ceps"
       ]
      },
      {
       "output_type": "stream",
       "stream": "stdout",
       "text": [
        "\n",
        "Written D:/ml/genres/pop\\pop.00097.ceps"
       ]
      },
      {
       "output_type": "stream",
       "stream": "stdout",
       "text": [
        "\n",
        "Written D:/ml/genres/pop\\pop.00098.ceps"
       ]
      },
      {
       "output_type": "stream",
       "stream": "stdout",
       "text": [
        "\n",
        "Written D:/ml/genres/pop\\pop.00099.ceps"
       ]
      },
      {
       "output_type": "stream",
       "stream": "stdout",
       "text": [
        "\n",
        "Written D:/ml/genres/rock\\rock.00000.ceps"
       ]
      },
      {
       "output_type": "stream",
       "stream": "stdout",
       "text": [
        "\n",
        "Written D:/ml/genres/rock\\rock.00001.ceps"
       ]
      },
      {
       "output_type": "stream",
       "stream": "stdout",
       "text": [
        "\n",
        "Written D:/ml/genres/rock\\rock.00002.ceps"
       ]
      },
      {
       "output_type": "stream",
       "stream": "stdout",
       "text": [
        "\n",
        "Written D:/ml/genres/rock\\rock.00003.ceps"
       ]
      },
      {
       "output_type": "stream",
       "stream": "stdout",
       "text": [
        "\n",
        "Written D:/ml/genres/rock\\rock.00004.ceps"
       ]
      },
      {
       "output_type": "stream",
       "stream": "stdout",
       "text": [
        "\n",
        "Written D:/ml/genres/rock\\rock.00005.ceps"
       ]
      },
      {
       "output_type": "stream",
       "stream": "stdout",
       "text": [
        "\n",
        "Written D:/ml/genres/rock\\rock.00006.ceps"
       ]
      },
      {
       "output_type": "stream",
       "stream": "stdout",
       "text": [
        "\n",
        "Written D:/ml/genres/rock\\rock.00007.ceps"
       ]
      },
      {
       "output_type": "stream",
       "stream": "stdout",
       "text": [
        "\n",
        "Written D:/ml/genres/rock\\rock.00008.ceps"
       ]
      },
      {
       "output_type": "stream",
       "stream": "stdout",
       "text": [
        "\n",
        "Written D:/ml/genres/rock\\rock.00009.ceps"
       ]
      },
      {
       "output_type": "stream",
       "stream": "stdout",
       "text": [
        "\n",
        "Written D:/ml/genres/rock\\rock.00010.ceps"
       ]
      },
      {
       "output_type": "stream",
       "stream": "stdout",
       "text": [
        "\n",
        "Written D:/ml/genres/rock\\rock.00011.ceps"
       ]
      },
      {
       "output_type": "stream",
       "stream": "stdout",
       "text": [
        "\n",
        "Written D:/ml/genres/rock\\rock.00012.ceps"
       ]
      },
      {
       "output_type": "stream",
       "stream": "stdout",
       "text": [
        "\n",
        "Written D:/ml/genres/rock\\rock.00013.ceps"
       ]
      },
      {
       "output_type": "stream",
       "stream": "stdout",
       "text": [
        "\n",
        "Written D:/ml/genres/rock\\rock.00014.ceps"
       ]
      },
      {
       "output_type": "stream",
       "stream": "stdout",
       "text": [
        "\n",
        "Written D:/ml/genres/rock\\rock.00015.ceps"
       ]
      },
      {
       "output_type": "stream",
       "stream": "stdout",
       "text": [
        "\n",
        "Written D:/ml/genres/rock\\rock.00016.ceps"
       ]
      },
      {
       "output_type": "stream",
       "stream": "stdout",
       "text": [
        "\n",
        "Written D:/ml/genres/rock\\rock.00017.ceps"
       ]
      },
      {
       "output_type": "stream",
       "stream": "stdout",
       "text": [
        "\n",
        "Written D:/ml/genres/rock\\rock.00018.ceps"
       ]
      },
      {
       "output_type": "stream",
       "stream": "stdout",
       "text": [
        "\n",
        "Written D:/ml/genres/rock\\rock.00019.ceps"
       ]
      },
      {
       "output_type": "stream",
       "stream": "stdout",
       "text": [
        "\n",
        "Written D:/ml/genres/rock\\rock.00020.ceps"
       ]
      },
      {
       "output_type": "stream",
       "stream": "stdout",
       "text": [
        "\n",
        "Written D:/ml/genres/rock\\rock.00021.ceps"
       ]
      },
      {
       "output_type": "stream",
       "stream": "stdout",
       "text": [
        "\n",
        "Written D:/ml/genres/rock\\rock.00022.ceps"
       ]
      },
      {
       "output_type": "stream",
       "stream": "stdout",
       "text": [
        "\n",
        "Written D:/ml/genres/rock\\rock.00023.ceps"
       ]
      },
      {
       "output_type": "stream",
       "stream": "stdout",
       "text": [
        "\n",
        "Written D:/ml/genres/rock\\rock.00024.ceps"
       ]
      },
      {
       "output_type": "stream",
       "stream": "stdout",
       "text": [
        "\n",
        "Written D:/ml/genres/rock\\rock.00025.ceps"
       ]
      },
      {
       "output_type": "stream",
       "stream": "stdout",
       "text": [
        "\n",
        "Written D:/ml/genres/rock\\rock.00026.ceps"
       ]
      },
      {
       "output_type": "stream",
       "stream": "stdout",
       "text": [
        "\n",
        "Written D:/ml/genres/rock\\rock.00027.ceps"
       ]
      },
      {
       "output_type": "stream",
       "stream": "stdout",
       "text": [
        "\n",
        "Written D:/ml/genres/rock\\rock.00028.ceps"
       ]
      },
      {
       "output_type": "stream",
       "stream": "stdout",
       "text": [
        "\n",
        "Written D:/ml/genres/rock\\rock.00029.ceps"
       ]
      },
      {
       "output_type": "stream",
       "stream": "stdout",
       "text": [
        "\n",
        "Written D:/ml/genres/rock\\rock.00030.ceps"
       ]
      },
      {
       "output_type": "stream",
       "stream": "stdout",
       "text": [
        "\n",
        "Written D:/ml/genres/rock\\rock.00031.ceps"
       ]
      },
      {
       "output_type": "stream",
       "stream": "stdout",
       "text": [
        "\n",
        "Written D:/ml/genres/rock\\rock.00032.ceps"
       ]
      },
      {
       "output_type": "stream",
       "stream": "stdout",
       "text": [
        "\n",
        "Written D:/ml/genres/rock\\rock.00033.ceps"
       ]
      },
      {
       "output_type": "stream",
       "stream": "stdout",
       "text": [
        "\n",
        "Written D:/ml/genres/rock\\rock.00034.ceps"
       ]
      },
      {
       "output_type": "stream",
       "stream": "stdout",
       "text": [
        "\n",
        "Written D:/ml/genres/rock\\rock.00035.ceps"
       ]
      },
      {
       "output_type": "stream",
       "stream": "stdout",
       "text": [
        "\n",
        "Written D:/ml/genres/rock\\rock.00036.ceps"
       ]
      },
      {
       "output_type": "stream",
       "stream": "stdout",
       "text": [
        "\n",
        "Written D:/ml/genres/rock\\rock.00037.ceps"
       ]
      },
      {
       "output_type": "stream",
       "stream": "stdout",
       "text": [
        "\n",
        "Written D:/ml/genres/rock\\rock.00038.ceps"
       ]
      },
      {
       "output_type": "stream",
       "stream": "stdout",
       "text": [
        "\n",
        "Written D:/ml/genres/rock\\rock.00039.ceps"
       ]
      },
      {
       "output_type": "stream",
       "stream": "stdout",
       "text": [
        "\n",
        "Written D:/ml/genres/rock\\rock.00040.ceps"
       ]
      },
      {
       "output_type": "stream",
       "stream": "stdout",
       "text": [
        "\n",
        "Written D:/ml/genres/rock\\rock.00041.ceps"
       ]
      },
      {
       "output_type": "stream",
       "stream": "stdout",
       "text": [
        "\n",
        "Written D:/ml/genres/rock\\rock.00042.ceps"
       ]
      },
      {
       "output_type": "stream",
       "stream": "stdout",
       "text": [
        "\n",
        "Written D:/ml/genres/rock\\rock.00043.ceps"
       ]
      },
      {
       "output_type": "stream",
       "stream": "stdout",
       "text": [
        "\n",
        "Written D:/ml/genres/rock\\rock.00044.ceps"
       ]
      },
      {
       "output_type": "stream",
       "stream": "stdout",
       "text": [
        "\n",
        "Written D:/ml/genres/rock\\rock.00045.ceps"
       ]
      },
      {
       "output_type": "stream",
       "stream": "stdout",
       "text": [
        "\n",
        "Written D:/ml/genres/rock\\rock.00046.ceps"
       ]
      },
      {
       "output_type": "stream",
       "stream": "stdout",
       "text": [
        "\n",
        "Written D:/ml/genres/rock\\rock.00047.ceps"
       ]
      },
      {
       "output_type": "stream",
       "stream": "stdout",
       "text": [
        "\n",
        "Written D:/ml/genres/rock\\rock.00048.ceps"
       ]
      },
      {
       "output_type": "stream",
       "stream": "stdout",
       "text": [
        "\n",
        "Written D:/ml/genres/rock\\rock.00049.ceps"
       ]
      },
      {
       "output_type": "stream",
       "stream": "stdout",
       "text": [
        "\n",
        "Written D:/ml/genres/rock\\rock.00050.ceps"
       ]
      },
      {
       "output_type": "stream",
       "stream": "stdout",
       "text": [
        "\n",
        "Written D:/ml/genres/rock\\rock.00051.ceps"
       ]
      },
      {
       "output_type": "stream",
       "stream": "stdout",
       "text": [
        "\n",
        "Written D:/ml/genres/rock\\rock.00052.ceps"
       ]
      },
      {
       "output_type": "stream",
       "stream": "stdout",
       "text": [
        "\n",
        "Written D:/ml/genres/rock\\rock.00053.ceps"
       ]
      },
      {
       "output_type": "stream",
       "stream": "stdout",
       "text": [
        "\n",
        "Written D:/ml/genres/rock\\rock.00054.ceps"
       ]
      },
      {
       "output_type": "stream",
       "stream": "stdout",
       "text": [
        "\n",
        "Written D:/ml/genres/rock\\rock.00055.ceps"
       ]
      },
      {
       "output_type": "stream",
       "stream": "stdout",
       "text": [
        "\n",
        "Written D:/ml/genres/rock\\rock.00056.ceps"
       ]
      },
      {
       "output_type": "stream",
       "stream": "stdout",
       "text": [
        "\n",
        "Written D:/ml/genres/rock\\rock.00057.ceps"
       ]
      },
      {
       "output_type": "stream",
       "stream": "stdout",
       "text": [
        "\n",
        "Written D:/ml/genres/rock\\rock.00058.ceps"
       ]
      },
      {
       "output_type": "stream",
       "stream": "stdout",
       "text": [
        "\n",
        "Written D:/ml/genres/rock\\rock.00059.ceps"
       ]
      },
      {
       "output_type": "stream",
       "stream": "stdout",
       "text": [
        "\n",
        "Written D:/ml/genres/rock\\rock.00060.ceps"
       ]
      },
      {
       "output_type": "stream",
       "stream": "stdout",
       "text": [
        "\n",
        "Written D:/ml/genres/rock\\rock.00061.ceps"
       ]
      },
      {
       "output_type": "stream",
       "stream": "stdout",
       "text": [
        "\n",
        "Written D:/ml/genres/rock\\rock.00062.ceps"
       ]
      },
      {
       "output_type": "stream",
       "stream": "stdout",
       "text": [
        "\n",
        "Written D:/ml/genres/rock\\rock.00063.ceps"
       ]
      },
      {
       "output_type": "stream",
       "stream": "stdout",
       "text": [
        "\n",
        "Written D:/ml/genres/rock\\rock.00064.ceps"
       ]
      },
      {
       "output_type": "stream",
       "stream": "stdout",
       "text": [
        "\n",
        "Written D:/ml/genres/rock\\rock.00065.ceps"
       ]
      },
      {
       "output_type": "stream",
       "stream": "stdout",
       "text": [
        "\n",
        "Written D:/ml/genres/rock\\rock.00066.ceps"
       ]
      },
      {
       "output_type": "stream",
       "stream": "stdout",
       "text": [
        "\n",
        "Written D:/ml/genres/rock\\rock.00067.ceps"
       ]
      },
      {
       "output_type": "stream",
       "stream": "stdout",
       "text": [
        "\n",
        "Written D:/ml/genres/rock\\rock.00068.ceps"
       ]
      },
      {
       "output_type": "stream",
       "stream": "stdout",
       "text": [
        "\n",
        "Written D:/ml/genres/rock\\rock.00069.ceps"
       ]
      },
      {
       "output_type": "stream",
       "stream": "stdout",
       "text": [
        "\n",
        "Written D:/ml/genres/rock\\rock.00070.ceps"
       ]
      },
      {
       "output_type": "stream",
       "stream": "stdout",
       "text": [
        "\n",
        "Written D:/ml/genres/rock\\rock.00071.ceps"
       ]
      },
      {
       "output_type": "stream",
       "stream": "stdout",
       "text": [
        "\n",
        "Written D:/ml/genres/rock\\rock.00072.ceps"
       ]
      },
      {
       "output_type": "stream",
       "stream": "stdout",
       "text": [
        "\n",
        "Written D:/ml/genres/rock\\rock.00073.ceps"
       ]
      },
      {
       "output_type": "stream",
       "stream": "stdout",
       "text": [
        "\n",
        "Written D:/ml/genres/rock\\rock.00074.ceps"
       ]
      },
      {
       "output_type": "stream",
       "stream": "stdout",
       "text": [
        "\n",
        "Written D:/ml/genres/rock\\rock.00075.ceps"
       ]
      },
      {
       "output_type": "stream",
       "stream": "stdout",
       "text": [
        "\n",
        "Written D:/ml/genres/rock\\rock.00076.ceps"
       ]
      },
      {
       "output_type": "stream",
       "stream": "stdout",
       "text": [
        "\n",
        "Written D:/ml/genres/rock\\rock.00077.ceps"
       ]
      },
      {
       "output_type": "stream",
       "stream": "stdout",
       "text": [
        "\n",
        "Written D:/ml/genres/rock\\rock.00078.ceps"
       ]
      },
      {
       "output_type": "stream",
       "stream": "stdout",
       "text": [
        "\n",
        "Written D:/ml/genres/rock\\rock.00079.ceps"
       ]
      },
      {
       "output_type": "stream",
       "stream": "stdout",
       "text": [
        "\n",
        "Written D:/ml/genres/rock\\rock.00080.ceps"
       ]
      },
      {
       "output_type": "stream",
       "stream": "stdout",
       "text": [
        "\n",
        "Written D:/ml/genres/rock\\rock.00081.ceps"
       ]
      },
      {
       "output_type": "stream",
       "stream": "stdout",
       "text": [
        "\n",
        "Written D:/ml/genres/rock\\rock.00082.ceps"
       ]
      },
      {
       "output_type": "stream",
       "stream": "stdout",
       "text": [
        "\n",
        "Written D:/ml/genres/rock\\rock.00083.ceps"
       ]
      },
      {
       "output_type": "stream",
       "stream": "stdout",
       "text": [
        "\n",
        "Written D:/ml/genres/rock\\rock.00084.ceps"
       ]
      },
      {
       "output_type": "stream",
       "stream": "stdout",
       "text": [
        "\n",
        "Written D:/ml/genres/rock\\rock.00085.ceps"
       ]
      },
      {
       "output_type": "stream",
       "stream": "stdout",
       "text": [
        "\n",
        "Written D:/ml/genres/rock\\rock.00086.ceps"
       ]
      },
      {
       "output_type": "stream",
       "stream": "stdout",
       "text": [
        "\n",
        "Written D:/ml/genres/rock\\rock.00087.ceps"
       ]
      },
      {
       "output_type": "stream",
       "stream": "stdout",
       "text": [
        "\n",
        "Written D:/ml/genres/rock\\rock.00088.ceps"
       ]
      },
      {
       "output_type": "stream",
       "stream": "stdout",
       "text": [
        "\n",
        "Written D:/ml/genres/rock\\rock.00089.ceps"
       ]
      },
      {
       "output_type": "stream",
       "stream": "stdout",
       "text": [
        "\n",
        "Written D:/ml/genres/rock\\rock.00090.ceps"
       ]
      },
      {
       "output_type": "stream",
       "stream": "stdout",
       "text": [
        "\n",
        "Written D:/ml/genres/rock\\rock.00091.ceps"
       ]
      },
      {
       "output_type": "stream",
       "stream": "stdout",
       "text": [
        "\n",
        "Written D:/ml/genres/rock\\rock.00092.ceps"
       ]
      },
      {
       "output_type": "stream",
       "stream": "stdout",
       "text": [
        "\n",
        "Written D:/ml/genres/rock\\rock.00093.ceps"
       ]
      },
      {
       "output_type": "stream",
       "stream": "stdout",
       "text": [
        "\n",
        "Written D:/ml/genres/rock\\rock.00094.ceps"
       ]
      },
      {
       "output_type": "stream",
       "stream": "stdout",
       "text": [
        "\n",
        "Written D:/ml/genres/rock\\rock.00095.ceps"
       ]
      },
      {
       "output_type": "stream",
       "stream": "stdout",
       "text": [
        "\n",
        "Written D:/ml/genres/rock\\rock.00096.ceps"
       ]
      },
      {
       "output_type": "stream",
       "stream": "stdout",
       "text": [
        "\n",
        "Written D:/ml/genres/rock\\rock.00097.ceps"
       ]
      },
      {
       "output_type": "stream",
       "stream": "stdout",
       "text": [
        "\n",
        "Written D:/ml/genres/rock\\rock.00098.ceps"
       ]
      },
      {
       "output_type": "stream",
       "stream": "stdout",
       "text": [
        "\n",
        "Written D:/ml/genres/rock\\rock.00099.ceps"
       ]
      },
      {
       "output_type": "stream",
       "stream": "stdout",
       "text": [
        "\n",
        "Written D:/ml/genres/metal\\metal.00000.ceps"
       ]
      },
      {
       "output_type": "stream",
       "stream": "stdout",
       "text": [
        "\n",
        "Written D:/ml/genres/metal\\metal.00001.ceps"
       ]
      },
      {
       "output_type": "stream",
       "stream": "stdout",
       "text": [
        "\n",
        "Written D:/ml/genres/metal\\metal.00002.ceps"
       ]
      },
      {
       "output_type": "stream",
       "stream": "stdout",
       "text": [
        "\n",
        "Written D:/ml/genres/metal\\metal.00003.ceps"
       ]
      },
      {
       "output_type": "stream",
       "stream": "stdout",
       "text": [
        "\n",
        "Written D:/ml/genres/metal\\metal.00004.ceps"
       ]
      },
      {
       "output_type": "stream",
       "stream": "stdout",
       "text": [
        "\n",
        "Written D:/ml/genres/metal\\metal.00005.ceps"
       ]
      },
      {
       "output_type": "stream",
       "stream": "stdout",
       "text": [
        "\n",
        "Written D:/ml/genres/metal\\metal.00006.ceps"
       ]
      },
      {
       "output_type": "stream",
       "stream": "stdout",
       "text": [
        "\n",
        "Written D:/ml/genres/metal\\metal.00007.ceps"
       ]
      },
      {
       "output_type": "stream",
       "stream": "stdout",
       "text": [
        "\n",
        "Written D:/ml/genres/metal\\metal.00008.ceps"
       ]
      },
      {
       "output_type": "stream",
       "stream": "stdout",
       "text": [
        "\n",
        "Written D:/ml/genres/metal\\metal.00009.ceps"
       ]
      },
      {
       "output_type": "stream",
       "stream": "stdout",
       "text": [
        "\n",
        "Written D:/ml/genres/metal\\metal.00010.ceps"
       ]
      },
      {
       "output_type": "stream",
       "stream": "stdout",
       "text": [
        "\n",
        "Written D:/ml/genres/metal\\metal.00011.ceps"
       ]
      },
      {
       "output_type": "stream",
       "stream": "stdout",
       "text": [
        "\n",
        "Written D:/ml/genres/metal\\metal.00012.ceps"
       ]
      },
      {
       "output_type": "stream",
       "stream": "stdout",
       "text": [
        "\n",
        "Written D:/ml/genres/metal\\metal.00013.ceps"
       ]
      },
      {
       "output_type": "stream",
       "stream": "stdout",
       "text": [
        "\n",
        "Written D:/ml/genres/metal\\metal.00014.ceps"
       ]
      },
      {
       "output_type": "stream",
       "stream": "stdout",
       "text": [
        "\n",
        "Written D:/ml/genres/metal\\metal.00015.ceps"
       ]
      },
      {
       "output_type": "stream",
       "stream": "stdout",
       "text": [
        "\n",
        "Written D:/ml/genres/metal\\metal.00016.ceps"
       ]
      },
      {
       "output_type": "stream",
       "stream": "stdout",
       "text": [
        "\n",
        "Written D:/ml/genres/metal\\metal.00017.ceps"
       ]
      },
      {
       "output_type": "stream",
       "stream": "stdout",
       "text": [
        "\n",
        "Written D:/ml/genres/metal\\metal.00018.ceps"
       ]
      },
      {
       "output_type": "stream",
       "stream": "stdout",
       "text": [
        "\n",
        "Written D:/ml/genres/metal\\metal.00019.ceps"
       ]
      },
      {
       "output_type": "stream",
       "stream": "stdout",
       "text": [
        "\n",
        "Written D:/ml/genres/metal\\metal.00020.ceps"
       ]
      },
      {
       "output_type": "stream",
       "stream": "stdout",
       "text": [
        "\n",
        "Written D:/ml/genres/metal\\metal.00021.ceps"
       ]
      },
      {
       "output_type": "stream",
       "stream": "stdout",
       "text": [
        "\n",
        "Written D:/ml/genres/metal\\metal.00022.ceps"
       ]
      },
      {
       "output_type": "stream",
       "stream": "stdout",
       "text": [
        "\n",
        "Written D:/ml/genres/metal\\metal.00023.ceps"
       ]
      },
      {
       "output_type": "stream",
       "stream": "stdout",
       "text": [
        "\n",
        "Written D:/ml/genres/metal\\metal.00024.ceps"
       ]
      },
      {
       "output_type": "stream",
       "stream": "stdout",
       "text": [
        "\n",
        "Written D:/ml/genres/metal\\metal.00025.ceps"
       ]
      },
      {
       "output_type": "stream",
       "stream": "stdout",
       "text": [
        "\n",
        "Written D:/ml/genres/metal\\metal.00026.ceps"
       ]
      },
      {
       "output_type": "stream",
       "stream": "stdout",
       "text": [
        "\n",
        "Written D:/ml/genres/metal\\metal.00027.ceps"
       ]
      },
      {
       "output_type": "stream",
       "stream": "stdout",
       "text": [
        "\n",
        "Written D:/ml/genres/metal\\metal.00028.ceps"
       ]
      },
      {
       "output_type": "stream",
       "stream": "stdout",
       "text": [
        "\n",
        "Written D:/ml/genres/metal\\metal.00029.ceps"
       ]
      },
      {
       "output_type": "stream",
       "stream": "stdout",
       "text": [
        "\n",
        "Written D:/ml/genres/metal\\metal.00030.ceps"
       ]
      },
      {
       "output_type": "stream",
       "stream": "stdout",
       "text": [
        "\n",
        "Written D:/ml/genres/metal\\metal.00031.ceps"
       ]
      },
      {
       "output_type": "stream",
       "stream": "stdout",
       "text": [
        "\n",
        "Written D:/ml/genres/metal\\metal.00032.ceps"
       ]
      },
      {
       "output_type": "stream",
       "stream": "stdout",
       "text": [
        "\n",
        "Written D:/ml/genres/metal\\metal.00033.ceps"
       ]
      },
      {
       "output_type": "stream",
       "stream": "stdout",
       "text": [
        "\n",
        "Written D:/ml/genres/metal\\metal.00034.ceps"
       ]
      },
      {
       "output_type": "stream",
       "stream": "stdout",
       "text": [
        "\n",
        "Written D:/ml/genres/metal\\metal.00035.ceps"
       ]
      },
      {
       "output_type": "stream",
       "stream": "stdout",
       "text": [
        "\n",
        "Written D:/ml/genres/metal\\metal.00036.ceps"
       ]
      },
      {
       "output_type": "stream",
       "stream": "stdout",
       "text": [
        "\n",
        "Written D:/ml/genres/metal\\metal.00037.ceps"
       ]
      },
      {
       "output_type": "stream",
       "stream": "stdout",
       "text": [
        "\n",
        "Written D:/ml/genres/metal\\metal.00038.ceps"
       ]
      },
      {
       "output_type": "stream",
       "stream": "stdout",
       "text": [
        "\n",
        "Written D:/ml/genres/metal\\metal.00039.ceps"
       ]
      },
      {
       "output_type": "stream",
       "stream": "stdout",
       "text": [
        "\n",
        "Written D:/ml/genres/metal\\metal.00040.ceps"
       ]
      },
      {
       "output_type": "stream",
       "stream": "stdout",
       "text": [
        "\n",
        "Written D:/ml/genres/metal\\metal.00041.ceps"
       ]
      },
      {
       "output_type": "stream",
       "stream": "stdout",
       "text": [
        "\n",
        "Written D:/ml/genres/metal\\metal.00042.ceps"
       ]
      },
      {
       "output_type": "stream",
       "stream": "stdout",
       "text": [
        "\n",
        "Written D:/ml/genres/metal\\metal.00043.ceps"
       ]
      },
      {
       "output_type": "stream",
       "stream": "stdout",
       "text": [
        "\n",
        "Written D:/ml/genres/metal\\metal.00044.ceps"
       ]
      },
      {
       "output_type": "stream",
       "stream": "stdout",
       "text": [
        "\n",
        "Written D:/ml/genres/metal\\metal.00045.ceps"
       ]
      },
      {
       "output_type": "stream",
       "stream": "stdout",
       "text": [
        "\n",
        "Written D:/ml/genres/metal\\metal.00046.ceps"
       ]
      },
      {
       "output_type": "stream",
       "stream": "stdout",
       "text": [
        "\n",
        "Written D:/ml/genres/metal\\metal.00047.ceps"
       ]
      },
      {
       "output_type": "stream",
       "stream": "stdout",
       "text": [
        "\n",
        "Written D:/ml/genres/metal\\metal.00048.ceps"
       ]
      },
      {
       "output_type": "stream",
       "stream": "stdout",
       "text": [
        "\n",
        "Written D:/ml/genres/metal\\metal.00049.ceps"
       ]
      },
      {
       "output_type": "stream",
       "stream": "stdout",
       "text": [
        "\n",
        "Written D:/ml/genres/metal\\metal.00050.ceps"
       ]
      },
      {
       "output_type": "stream",
       "stream": "stdout",
       "text": [
        "\n",
        "Written D:/ml/genres/metal\\metal.00051.ceps"
       ]
      },
      {
       "output_type": "stream",
       "stream": "stdout",
       "text": [
        "\n",
        "Written D:/ml/genres/metal\\metal.00052.ceps"
       ]
      },
      {
       "output_type": "stream",
       "stream": "stdout",
       "text": [
        "\n",
        "Written D:/ml/genres/metal\\metal.00053.ceps"
       ]
      },
      {
       "output_type": "stream",
       "stream": "stdout",
       "text": [
        "\n",
        "Written D:/ml/genres/metal\\metal.00054.ceps"
       ]
      },
      {
       "output_type": "stream",
       "stream": "stdout",
       "text": [
        "\n",
        "Written D:/ml/genres/metal\\metal.00055.ceps"
       ]
      },
      {
       "output_type": "stream",
       "stream": "stdout",
       "text": [
        "\n",
        "Written D:/ml/genres/metal\\metal.00056.ceps"
       ]
      },
      {
       "output_type": "stream",
       "stream": "stdout",
       "text": [
        "\n",
        "Written D:/ml/genres/metal\\metal.00057.ceps"
       ]
      },
      {
       "output_type": "stream",
       "stream": "stdout",
       "text": [
        "\n",
        "Written D:/ml/genres/metal\\metal.00058.ceps"
       ]
      },
      {
       "output_type": "stream",
       "stream": "stdout",
       "text": [
        "\n",
        "Written D:/ml/genres/metal\\metal.00059.ceps"
       ]
      },
      {
       "output_type": "stream",
       "stream": "stdout",
       "text": [
        "\n",
        "Written D:/ml/genres/metal\\metal.00060.ceps"
       ]
      },
      {
       "output_type": "stream",
       "stream": "stdout",
       "text": [
        "\n",
        "Written D:/ml/genres/metal\\metal.00061.ceps"
       ]
      },
      {
       "output_type": "stream",
       "stream": "stdout",
       "text": [
        "\n",
        "Written D:/ml/genres/metal\\metal.00062.ceps"
       ]
      },
      {
       "output_type": "stream",
       "stream": "stdout",
       "text": [
        "\n",
        "Written D:/ml/genres/metal\\metal.00063.ceps"
       ]
      },
      {
       "output_type": "stream",
       "stream": "stdout",
       "text": [
        "\n",
        "Written D:/ml/genres/metal\\metal.00064.ceps"
       ]
      },
      {
       "output_type": "stream",
       "stream": "stdout",
       "text": [
        "\n",
        "Written D:/ml/genres/metal\\metal.00065.ceps"
       ]
      },
      {
       "output_type": "stream",
       "stream": "stdout",
       "text": [
        "\n",
        "Written D:/ml/genres/metal\\metal.00066.ceps"
       ]
      },
      {
       "output_type": "stream",
       "stream": "stdout",
       "text": [
        "\n",
        "Written D:/ml/genres/metal\\metal.00067.ceps"
       ]
      },
      {
       "output_type": "stream",
       "stream": "stdout",
       "text": [
        "\n",
        "Written D:/ml/genres/metal\\metal.00068.ceps"
       ]
      },
      {
       "output_type": "stream",
       "stream": "stdout",
       "text": [
        "\n",
        "Written D:/ml/genres/metal\\metal.00069.ceps"
       ]
      },
      {
       "output_type": "stream",
       "stream": "stdout",
       "text": [
        "\n",
        "Written D:/ml/genres/metal\\metal.00070.ceps"
       ]
      },
      {
       "output_type": "stream",
       "stream": "stdout",
       "text": [
        "\n",
        "Written D:/ml/genres/metal\\metal.00071.ceps"
       ]
      },
      {
       "output_type": "stream",
       "stream": "stdout",
       "text": [
        "\n",
        "Written D:/ml/genres/metal\\metal.00072.ceps"
       ]
      },
      {
       "output_type": "stream",
       "stream": "stdout",
       "text": [
        "\n",
        "Written D:/ml/genres/metal\\metal.00073.ceps"
       ]
      },
      {
       "output_type": "stream",
       "stream": "stdout",
       "text": [
        "\n",
        "Written D:/ml/genres/metal\\metal.00074.ceps"
       ]
      },
      {
       "output_type": "stream",
       "stream": "stdout",
       "text": [
        "\n",
        "Written D:/ml/genres/metal\\metal.00075.ceps"
       ]
      },
      {
       "output_type": "stream",
       "stream": "stdout",
       "text": [
        "\n",
        "Written D:/ml/genres/metal\\metal.00076.ceps"
       ]
      },
      {
       "output_type": "stream",
       "stream": "stdout",
       "text": [
        "\n",
        "Written D:/ml/genres/metal\\metal.00077.ceps"
       ]
      },
      {
       "output_type": "stream",
       "stream": "stdout",
       "text": [
        "\n",
        "Written D:/ml/genres/metal\\metal.00078.ceps"
       ]
      },
      {
       "output_type": "stream",
       "stream": "stdout",
       "text": [
        "\n",
        "Written D:/ml/genres/metal\\metal.00079.ceps"
       ]
      },
      {
       "output_type": "stream",
       "stream": "stdout",
       "text": [
        "\n",
        "Written D:/ml/genres/metal\\metal.00080.ceps"
       ]
      },
      {
       "output_type": "stream",
       "stream": "stdout",
       "text": [
        "\n",
        "Written D:/ml/genres/metal\\metal.00081.ceps"
       ]
      },
      {
       "output_type": "stream",
       "stream": "stdout",
       "text": [
        "\n",
        "Written D:/ml/genres/metal\\metal.00082.ceps"
       ]
      },
      {
       "output_type": "stream",
       "stream": "stdout",
       "text": [
        "\n",
        "Written D:/ml/genres/metal\\metal.00083.ceps"
       ]
      },
      {
       "output_type": "stream",
       "stream": "stdout",
       "text": [
        "\n",
        "Written D:/ml/genres/metal\\metal.00084.ceps"
       ]
      },
      {
       "output_type": "stream",
       "stream": "stdout",
       "text": [
        "\n",
        "Written D:/ml/genres/metal\\metal.00085.ceps"
       ]
      },
      {
       "output_type": "stream",
       "stream": "stdout",
       "text": [
        "\n",
        "Written D:/ml/genres/metal\\metal.00086.ceps"
       ]
      },
      {
       "output_type": "stream",
       "stream": "stdout",
       "text": [
        "\n",
        "Written D:/ml/genres/metal\\metal.00087.ceps"
       ]
      },
      {
       "output_type": "stream",
       "stream": "stdout",
       "text": [
        "\n",
        "Written D:/ml/genres/metal\\metal.00088.ceps"
       ]
      },
      {
       "output_type": "stream",
       "stream": "stdout",
       "text": [
        "\n",
        "Written D:/ml/genres/metal\\metal.00089.ceps"
       ]
      },
      {
       "output_type": "stream",
       "stream": "stdout",
       "text": [
        "\n",
        "Written D:/ml/genres/metal\\metal.00090.ceps"
       ]
      },
      {
       "output_type": "stream",
       "stream": "stdout",
       "text": [
        "\n",
        "Written D:/ml/genres/metal\\metal.00091.ceps"
       ]
      },
      {
       "output_type": "stream",
       "stream": "stdout",
       "text": [
        "\n",
        "Written D:/ml/genres/metal\\metal.00092.ceps"
       ]
      },
      {
       "output_type": "stream",
       "stream": "stdout",
       "text": [
        "\n",
        "Written D:/ml/genres/metal\\metal.00093.ceps"
       ]
      },
      {
       "output_type": "stream",
       "stream": "stdout",
       "text": [
        "\n",
        "Written D:/ml/genres/metal\\metal.00094.ceps"
       ]
      },
      {
       "output_type": "stream",
       "stream": "stdout",
       "text": [
        "\n",
        "Written D:/ml/genres/metal\\metal.00095.ceps"
       ]
      },
      {
       "output_type": "stream",
       "stream": "stdout",
       "text": [
        "\n",
        "Written D:/ml/genres/metal\\metal.00096.ceps"
       ]
      },
      {
       "output_type": "stream",
       "stream": "stdout",
       "text": [
        "\n",
        "Written D:/ml/genres/metal\\metal.00097.ceps"
       ]
      },
      {
       "output_type": "stream",
       "stream": "stdout",
       "text": [
        "\n",
        "Written D:/ml/genres/metal\\metal.00098.ceps"
       ]
      },
      {
       "output_type": "stream",
       "stream": "stdout",
       "text": [
        "\n",
        "Written D:/ml/genres/metal\\metal.00099.ceps"
       ]
      },
      {
       "output_type": "stream",
       "stream": "stdout",
       "text": [
        "\n"
       ]
      }
     ],
     "prompt_number": 93
    },
    {
     "cell_type": "code",
     "collapsed": false,
     "input": [
      "import os\n",
      "os.chdir(ML09_DIR)\n",
      "% load 02_ceps_based_classifier.py"
     ],
     "language": "python",
     "metadata": {},
     "outputs": [],
     "prompt_number": 95
    },
    {
     "cell_type": "code",
     "collapsed": false,
     "input": [
      "# This code is supporting material for the book\n",
      "# Building Machine Learning Systems with Python\n",
      "# by Willi Richert and Luis Pedro Coelho\n",
      "# published by PACKT Publishing\n",
      "#\n",
      "# It is made available under the MIT License\n",
      "\n",
      "import numpy as np\n",
      "from collections import defaultdict\n",
      "\n",
      "from sklearn.metrics import precision_recall_curve, roc_curve\n",
      "from sklearn.metrics import auc\n",
      "from sklearn.cross_validation import ShuffleSplit\n",
      "\n",
      "from sklearn.metrics import confusion_matrix\n",
      "\n",
      "from utils import plot_roc, plot_pr, plot_confusion_matrix, GENRE_LIST\n",
      "\n",
      "from ceps import read_ceps\n",
      "\n",
      "\n",
      "genre_list = GENRE_LIST\n",
      "\n",
      "\n",
      "def train_model(clf_factory, X, Y, name, plot=False):\n",
      "    labels = np.unique(Y)\n",
      "\n",
      "    cv = ShuffleSplit(\n",
      "        n=len(X), n_iter=1, test_size=0.3, indices=True, random_state=0)\n",
      "\n",
      "    train_errors = []\n",
      "    test_errors = []\n",
      "\n",
      "    scores = []\n",
      "    pr_scores = defaultdict(list)\n",
      "    precisions, recalls, thresholds = defaultdict(\n",
      "        list), defaultdict(list), defaultdict(list)\n",
      "\n",
      "    roc_scores = defaultdict(list)\n",
      "    tprs = defaultdict(list)\n",
      "    fprs = defaultdict(list)\n",
      "\n",
      "    clfs = []  # just to later get the median\n",
      "\n",
      "    cms = []\n",
      "\n",
      "    for train, test in cv:\n",
      "        X_train, y_train = X[train], Y[train]\n",
      "        X_test, y_test = X[test], Y[test]\n",
      "\n",
      "        clf = clf_factory()\n",
      "        clf.fit(X_train, y_train)\n",
      "        clfs.append(clf)\n",
      "\n",
      "        train_score = clf.score(X_train, y_train)\n",
      "        test_score = clf.score(X_test, y_test)\n",
      "        scores.append(test_score)\n",
      "\n",
      "        train_errors.append(1 - train_score)\n",
      "        test_errors.append(1 - test_score)\n",
      "\n",
      "        y_pred = clf.predict(X_test)\n",
      "        cm = confusion_matrix(y_test, y_pred)\n",
      "        print cm\n",
      "        cms.append(cm)\n",
      "\n",
      "        for label in labels:\n",
      "            y_label_test = np.asarray(y_test == label, dtype=int)\n",
      "            proba = clf.predict_proba(X_test)\n",
      "            proba_label = proba[:, label]\n",
      "\n",
      "            precision, recall, pr_thresholds = precision_recall_curve(\n",
      "                y_label_test, proba_label)\n",
      "            pr_scores[label].append(auc(recall, precision))\n",
      "            precisions[label].append(precision)\n",
      "            recalls[label].append(recall)\n",
      "            thresholds[label].append(pr_thresholds)\n",
      "\n",
      "            fpr, tpr, roc_thresholds = roc_curve(y_label_test, proba_label)\n",
      "            roc_scores[label].append(auc(fpr, tpr))\n",
      "            tprs[label].append(tpr)\n",
      "            fprs[label].append(fpr)\n",
      "\n",
      "    if plot:\n",
      "        for label in labels:\n",
      "            print(\"Plotting %s\" % genre_list[label])\n",
      "            scores_to_sort = roc_scores[label]\n",
      "            median = np.argsort(scores_to_sort)[len(scores_to_sort) / 2]\n",
      "\n",
      "            desc = \"%s %s\" % (name, genre_list[label])\n",
      "            plot_pr(pr_scores[label][median], desc, precisions[label][median],\n",
      "                    recalls[label][median], label='%s vs rest' % genre_list[label])\n",
      "            plot_roc(roc_scores[label][median], desc, tprs[label][median],\n",
      "                     fprs[label][median], label='%s vs rest' % genre_list[label])\n",
      "\n",
      "    all_pr_scores = np.asarray(pr_scores.values()).flatten()\n",
      "    summary = (np.mean(scores), np.std(scores),\n",
      "               np.mean(all_pr_scores), np.std(all_pr_scores))\n",
      "    print(\"%.3f\\t%.3f\\t%.3f\\t%.3f\\t\" % summary)\n",
      "\n",
      "    return np.mean(train_errors), np.mean(test_errors), np.asarray(cms)\n",
      "\n",
      "\n",
      "def create_model():\n",
      "    from sklearn.linear_model.logistic import LogisticRegression\n",
      "    clf = LogisticRegression()\n",
      "\n",
      "    return clf\n",
      "\n",
      "\n",
      "if __name__ == \"__main__\":\n",
      "    X, y = read_ceps(genre_list)\n",
      "\n",
      "    train_avg, test_avg, cms = train_model(\n",
      "        create_model, X, y, \"Log Reg CEPS\", plot=True)\n",
      "\n",
      "    cm_avg = np.mean(cms, axis=0)\n",
      "    cm_norm = cm_avg / np.sum(cm_avg, axis=0)\n",
      "\n",
      "    plot_confusion_matrix(cm_norm, genre_list, \"ceps\",\n",
      "                          \"Confusion matrix of a CEPS based classifier\")\n"
     ],
     "language": "python",
     "metadata": {},
     "outputs": [
      {
       "output_type": "stream",
       "stream": "stdout",
       "text": [
        "[[28  0  0  0  2  1]\n",
        " [ 4 12  1  3  3  1]\n",
        " [ 2  8  9  7  3  1]\n",
        " [ 0  0  1 29  1  0]\n",
        " [ 1  1  4  7 13  8]\n",
        " [ 0  0  1  0  1 28]]\n",
        "Plotting classical\n",
        "Plotting jazz"
       ]
      },
      {
       "output_type": "stream",
       "stream": "stdout",
       "text": [
        "\n",
        "Plotting country"
       ]
      },
      {
       "output_type": "stream",
       "stream": "stdout",
       "text": [
        "\n",
        "Plotting pop"
       ]
      },
      {
       "output_type": "stream",
       "stream": "stdout",
       "text": [
        "\n",
        "Plotting rock"
       ]
      },
      {
       "output_type": "stream",
       "stream": "stdout",
       "text": [
        "\n",
        "Plotting metal"
       ]
      },
      {
       "output_type": "stream",
       "stream": "stdout",
       "text": [
        "\n",
        "0.661\t0.000\t0.737\t0.144\t"
       ]
      },
      {
       "output_type": "stream",
       "stream": "stdout",
       "text": [
        "\n"
       ]
      },
      {
       "output_type": "stream",
       "stream": "stderr",
       "text": [
        "C:\\Python27\\lib\\site-packages\\sklearn\\cross_validation.py:758: DeprecationWarning: The indices parameter is deprecated and will be removed (assumed True) in 0.17\n",
        "  \"removed (assumed True) in 0.17\", DeprecationWarning)\n"
       ]
      },
      {
       "metadata": {},
       "output_type": "display_data",
       "text": [
        "<matplotlib.figure.Figure at 0x1e971390>"
       ]
      },
      {
       "metadata": {},
       "output_type": "display_data",
       "text": [
        "<matplotlib.figure.Figure at 0x1e611230>"
       ]
      },
      {
       "metadata": {},
       "output_type": "display_data",
       "text": [
        "<matplotlib.figure.Figure at 0x1e758c50>"
       ]
      },
      {
       "metadata": {},
       "output_type": "display_data",
       "text": [
        "<matplotlib.figure.Figure at 0x8a2dcf0>"
       ]
      },
      {
       "metadata": {},
       "output_type": "display_data",
       "text": [
        "<matplotlib.figure.Figure at 0x6938a70>"
       ]
      },
      {
       "metadata": {},
       "output_type": "display_data",
       "text": [
        "<matplotlib.figure.Figure at 0x7f9ff30>"
       ]
      },
      {
       "metadata": {},
       "output_type": "display_data",
       "text": [
        "<matplotlib.figure.Figure at 0x1e5d9970>"
       ]
      },
      {
       "metadata": {},
       "output_type": "display_data",
       "text": [
        "<matplotlib.figure.Figure at 0x1e8361f0>"
       ]
      },
      {
       "metadata": {},
       "output_type": "display_data",
       "text": [
        "<matplotlib.figure.Figure at 0x1e496b90>"
       ]
      },
      {
       "metadata": {},
       "output_type": "display_data",
       "text": [
        "<matplotlib.figure.Figure at 0x1e6e9d10>"
       ]
      },
      {
       "metadata": {},
       "output_type": "display_data",
       "text": [
        "<matplotlib.figure.Figure at 0x1e8e0ff0>"
       ]
      },
      {
       "metadata": {},
       "output_type": "display_data",
       "text": [
        "<matplotlib.figure.Figure at 0x1e492ed0>"
       ]
      },
      {
       "metadata": {},
       "output_type": "display_data",
       "png": "[encoded data removed]",
       "text": [
        "<matplotlib.figure.Figure at 0x727a270>"
       ]
      },
      {
       "ename": "AssertionError",
       "evalue": "",
       "output_type": "pyerr",
       "traceback": [
        "\u001b[1;31m---------------------------------------------------------------------------\u001b[0m\n\u001b[1;31mAssertionError\u001b[0m                            Traceback (most recent call last)",
        "\u001b[1;32m<ipython-input-97-1908770ef20b>\u001b[0m in \u001b[0;36m<module>\u001b[1;34m()\u001b[0m\n\u001b[0;32m    119\u001b[0m \u001b[1;33m\u001b[0m\u001b[0m\n\u001b[0;32m    120\u001b[0m     plot_confusion_matrix(cm_norm, genre_list, \"ceps\",\n\u001b[1;32m--> 121\u001b[1;33m                           \"Confusion matrix of a CEPS based classifier\")\n\u001b[0m",
        "\u001b[1;32mD:\\ml\\utils.pyc\u001b[0m in \u001b[0;36mplot_confusion_matrix\u001b[1;34m(cm, genre_list, name, title)\u001b[0m\n\u001b[0;32m     52\u001b[0m \u001b[1;33m\u001b[0m\u001b[0m\n\u001b[0;32m     53\u001b[0m \u001b[1;32mdef\u001b[0m \u001b[0mplot_pr\u001b[0m\u001b[1;33m(\u001b[0m\u001b[0mauc_score\u001b[0m\u001b[1;33m,\u001b[0m \u001b[0mname\u001b[0m\u001b[1;33m,\u001b[0m \u001b[0mprecision\u001b[0m\u001b[1;33m,\u001b[0m \u001b[0mrecall\u001b[0m\u001b[1;33m,\u001b[0m \u001b[0mlabel\u001b[0m\u001b[1;33m=\u001b[0m\u001b[0mNone\u001b[0m\u001b[1;33m)\u001b[0m\u001b[1;33m:\u001b[0m\u001b[1;33m\u001b[0m\u001b[0m\n\u001b[1;32m---> 54\u001b[1;33m     \u001b[0mpylab\u001b[0m\u001b[1;33m.\u001b[0m\u001b[0mclf\u001b[0m\u001b[1;33m(\u001b[0m\u001b[1;33m)\u001b[0m\u001b[1;33m\u001b[0m\u001b[0m\n\u001b[0m\u001b[0;32m     55\u001b[0m     \u001b[0mpylab\u001b[0m\u001b[1;33m.\u001b[0m\u001b[0mfigure\u001b[0m\u001b[1;33m(\u001b[0m\u001b[0mnum\u001b[0m\u001b[1;33m=\u001b[0m\u001b[0mNone\u001b[0m\u001b[1;33m,\u001b[0m \u001b[0mfigsize\u001b[0m\u001b[1;33m=\u001b[0m\u001b[1;33m(\u001b[0m\u001b[1;36m5\u001b[0m\u001b[1;33m,\u001b[0m \u001b[1;36m4\u001b[0m\u001b[1;33m)\u001b[0m\u001b[1;33m)\u001b[0m\u001b[1;33m\u001b[0m\u001b[0m\n\u001b[0;32m     56\u001b[0m     \u001b[0mpylab\u001b[0m\u001b[1;33m.\u001b[0m\u001b[0mgrid\u001b[0m\u001b[1;33m(\u001b[0m\u001b[0mTrue\u001b[0m\u001b[1;33m)\u001b[0m\u001b[1;33m\u001b[0m\u001b[0m\n",
        "\u001b[1;32mC:\\Python27\\lib\\site-packages\\matplotlib\\pyplot.pyc\u001b[0m in \u001b[0;36msavefig\u001b[1;34m(*args, **kwargs)\u001b[0m\n\u001b[0;32m    575\u001b[0m \u001b[1;32mdef\u001b[0m \u001b[0msavefig\u001b[0m\u001b[1;33m(\u001b[0m\u001b[1;33m*\u001b[0m\u001b[0margs\u001b[0m\u001b[1;33m,\u001b[0m \u001b[1;33m**\u001b[0m\u001b[0mkwargs\u001b[0m\u001b[1;33m)\u001b[0m\u001b[1;33m:\u001b[0m\u001b[1;33m\u001b[0m\u001b[0m\n\u001b[0;32m    576\u001b[0m     \u001b[0mfig\u001b[0m \u001b[1;33m=\u001b[0m \u001b[0mgcf\u001b[0m\u001b[1;33m(\u001b[0m\u001b[1;33m)\u001b[0m\u001b[1;33m\u001b[0m\u001b[0m\n\u001b[1;32m--> 577\u001b[1;33m     \u001b[0mres\u001b[0m \u001b[1;33m=\u001b[0m \u001b[0mfig\u001b[0m\u001b[1;33m.\u001b[0m\u001b[0msavefig\u001b[0m\u001b[1;33m(\u001b[0m\u001b[1;33m*\u001b[0m\u001b[0margs\u001b[0m\u001b[1;33m,\u001b[0m \u001b[1;33m**\u001b[0m\u001b[0mkwargs\u001b[0m\u001b[1;33m)\u001b[0m\u001b[1;33m\u001b[0m\u001b[0m\n\u001b[0m\u001b[0;32m    578\u001b[0m     \u001b[0mdraw\u001b[0m\u001b[1;33m(\u001b[0m\u001b[1;33m)\u001b[0m   \u001b[1;31m# need this if 'transparent=True' to reset colors\u001b[0m\u001b[1;33m\u001b[0m\u001b[0m\n\u001b[0;32m    579\u001b[0m     \u001b[1;32mreturn\u001b[0m \u001b[0mres\u001b[0m\u001b[1;33m\u001b[0m\u001b[0m\n",
        "\u001b[1;32mC:\\Python27\\lib\\site-packages\\matplotlib\\figure.pyc\u001b[0m in \u001b[0;36msavefig\u001b[1;34m(self, *args, **kwargs)\u001b[0m\n\u001b[0;32m   1468\u001b[0m             \u001b[0mself\u001b[0m\u001b[1;33m.\u001b[0m\u001b[0mset_frameon\u001b[0m\u001b[1;33m(\u001b[0m\u001b[0mframeon\u001b[0m\u001b[1;33m)\u001b[0m\u001b[1;33m\u001b[0m\u001b[0m\n\u001b[0;32m   1469\u001b[0m \u001b[1;33m\u001b[0m\u001b[0m\n\u001b[1;32m-> 1470\u001b[1;33m         \u001b[0mself\u001b[0m\u001b[1;33m.\u001b[0m\u001b[0mcanvas\u001b[0m\u001b[1;33m.\u001b[0m\u001b[0mprint_figure\u001b[0m\u001b[1;33m(\u001b[0m\u001b[1;33m*\u001b[0m\u001b[0margs\u001b[0m\u001b[1;33m,\u001b[0m \u001b[1;33m**\u001b[0m\u001b[0mkwargs\u001b[0m\u001b[1;33m)\u001b[0m\u001b[1;33m\u001b[0m\u001b[0m\n\u001b[0m\u001b[0;32m   1471\u001b[0m \u001b[1;33m\u001b[0m\u001b[0m\n\u001b[0;32m   1472\u001b[0m         \u001b[1;32mif\u001b[0m \u001b[0mframeon\u001b[0m\u001b[1;33m:\u001b[0m\u001b[1;33m\u001b[0m\u001b[0m\n",
        "\u001b[1;32mC:\\Python27\\lib\\site-packages\\matplotlib\\backend_bases.pyc\u001b[0m in \u001b[0;36mprint_figure\u001b[1;34m(self, filename, dpi, facecolor, edgecolor, orientation, format, **kwargs)\u001b[0m\n\u001b[0;32m   2141\u001b[0m                     **kwargs)\n\u001b[0;32m   2142\u001b[0m                 \u001b[0mrenderer\u001b[0m \u001b[1;33m=\u001b[0m \u001b[0mself\u001b[0m\u001b[1;33m.\u001b[0m\u001b[0mfigure\u001b[0m\u001b[1;33m.\u001b[0m\u001b[0m_cachedRenderer\u001b[0m\u001b[1;33m\u001b[0m\u001b[0m\n\u001b[1;32m-> 2143\u001b[1;33m                 \u001b[0mbbox_inches\u001b[0m \u001b[1;33m=\u001b[0m \u001b[0mself\u001b[0m\u001b[1;33m.\u001b[0m\u001b[0mfigure\u001b[0m\u001b[1;33m.\u001b[0m\u001b[0mget_tightbbox\u001b[0m\u001b[1;33m(\u001b[0m\u001b[0mrenderer\u001b[0m\u001b[1;33m)\u001b[0m\u001b[1;33m\u001b[0m\u001b[0m\n\u001b[0m\u001b[0;32m   2144\u001b[0m \u001b[1;33m\u001b[0m\u001b[0m\n\u001b[0;32m   2145\u001b[0m                 \u001b[0mbbox_artists\u001b[0m \u001b[1;33m=\u001b[0m \u001b[0mkwargs\u001b[0m\u001b[1;33m.\u001b[0m\u001b[0mpop\u001b[0m\u001b[1;33m(\u001b[0m\u001b[1;34m\"bbox_extra_artists\"\u001b[0m\u001b[1;33m,\u001b[0m \u001b[0mNone\u001b[0m\u001b[1;33m)\u001b[0m\u001b[1;33m\u001b[0m\u001b[0m\n",
        "\u001b[1;32mC:\\Python27\\lib\\site-packages\\matplotlib\\figure.pyc\u001b[0m in \u001b[0;36mget_tightbbox\u001b[1;34m(self, renderer)\u001b[0m\n\u001b[0;32m   1611\u001b[0m                 \u001b[0mbb\u001b[0m\u001b[1;33m.\u001b[0m\u001b[0mappend\u001b[0m\u001b[1;33m(\u001b[0m\u001b[0max\u001b[0m\u001b[1;33m.\u001b[0m\u001b[0mget_tightbbox\u001b[0m\u001b[1;33m(\u001b[0m\u001b[0mrenderer\u001b[0m\u001b[1;33m)\u001b[0m\u001b[1;33m)\u001b[0m\u001b[1;33m\u001b[0m\u001b[0m\n\u001b[0;32m   1612\u001b[0m \u001b[1;33m\u001b[0m\u001b[0m\n\u001b[1;32m-> 1613\u001b[1;33m         \u001b[0m_bbox\u001b[0m \u001b[1;33m=\u001b[0m \u001b[0mBbox\u001b[0m\u001b[1;33m.\u001b[0m\u001b[0munion\u001b[0m\u001b[1;33m(\u001b[0m\u001b[1;33m[\u001b[0m\u001b[0mb\u001b[0m \u001b[1;32mfor\u001b[0m \u001b[0mb\u001b[0m \u001b[1;32min\u001b[0m \u001b[0mbb\u001b[0m \u001b[1;32mif\u001b[0m \u001b[0mb\u001b[0m\u001b[1;33m.\u001b[0m\u001b[0mwidth\u001b[0m \u001b[1;33m!=\u001b[0m \u001b[1;36m0\u001b[0m \u001b[1;32mor\u001b[0m \u001b[0mb\u001b[0m\u001b[1;33m.\u001b[0m\u001b[0mheight\u001b[0m \u001b[1;33m!=\u001b[0m \u001b[1;36m0\u001b[0m\u001b[1;33m]\u001b[0m\u001b[1;33m)\u001b[0m\u001b[1;33m\u001b[0m\u001b[0m\n\u001b[0m\u001b[0;32m   1614\u001b[0m \u001b[1;33m\u001b[0m\u001b[0m\n\u001b[0;32m   1615\u001b[0m         bbox_inches = TransformedBbox(_bbox,\n",
        "\u001b[1;32mC:\\Python27\\lib\\site-packages\\matplotlib\\transforms.pyc\u001b[0m in \u001b[0;36munion\u001b[1;34m(bboxes)\u001b[0m\n\u001b[0;32m    720\u001b[0m         \u001b[0mReturn\u001b[0m \u001b[0ma\u001b[0m \u001b[1;33m:\u001b[0m\u001b[1;32mclass\u001b[0m\u001b[1;33m:\u001b[0m\u001b[1;33m`\u001b[0m\u001b[0mBbox\u001b[0m\u001b[1;33m`\u001b[0m \u001b[0mthat\u001b[0m \u001b[0mcontains\u001b[0m \u001b[0mall\u001b[0m \u001b[0mof\u001b[0m \u001b[0mthe\u001b[0m \u001b[0mgiven\u001b[0m \u001b[0mbboxes\u001b[0m\u001b[1;33m.\u001b[0m\u001b[1;33m\u001b[0m\u001b[0m\n\u001b[0;32m    721\u001b[0m         \"\"\"\n\u001b[1;32m--> 722\u001b[1;33m         \u001b[1;32massert\u001b[0m\u001b[1;33m(\u001b[0m\u001b[0mlen\u001b[0m\u001b[1;33m(\u001b[0m\u001b[0mbboxes\u001b[0m\u001b[1;33m)\u001b[0m\u001b[1;33m)\u001b[0m\u001b[1;33m\u001b[0m\u001b[0m\n\u001b[0m\u001b[0;32m    723\u001b[0m \u001b[1;33m\u001b[0m\u001b[0m\n\u001b[0;32m    724\u001b[0m         \u001b[1;32mif\u001b[0m \u001b[0mlen\u001b[0m\u001b[1;33m(\u001b[0m\u001b[0mbboxes\u001b[0m\u001b[1;33m)\u001b[0m \u001b[1;33m==\u001b[0m \u001b[1;36m1\u001b[0m\u001b[1;33m:\u001b[0m\u001b[1;33m\u001b[0m\u001b[0m\n",
        "\u001b[1;31mAssertionError\u001b[0m: "
       ]
      },
      {
       "metadata": {},
       "output_type": "display_data",
       "text": [
        "<matplotlib.figure.Figure at 0x1e4dc1d0>"
       ]
      }
     ],
     "prompt_number": 97
    },
    {
     "cell_type": "heading",
     "level": 3,
     "metadata": {},
     "source": [
      "\ubaa8\ub4e0 \uc7a5\ub974\uc758 \ubd84\ub958 \uc131\ub2a5\uc758 \ud5a5\uc0c1.\n",
      "\ud074\ub798\uc2dd/ \ud31d / \uba54\ud0c8 \uc740 AUC\uac00 \uac70\uc758 1\uc5d0 \uac00\uae5d\ub2e4."
     ]
    },
    {
     "cell_type": "heading",
     "level": 3,
     "metadata": {},
     "source": [
      "\ud63c\ub3c8 \uba54\ud2b8\ub9ad\uc2a4\uc5d0\uc11c \ub300\uac01\uc120\uc774 \uc544\ub2c8\uc9c0\ub9cc \ud558\uc597\uc9c0 \uc54a\uc740 \ubd80\ubd84\uc740 \ud5a5\ud6c4 \uac1c\uc120 \uacfc\uc81c\uac00 \ub420 \uc218 \uc788\ub2e4."
     ]
    },
    {
     "cell_type": "heading",
     "level": 3,
     "metadata": {},
     "source": [
      "\ucd94\uac00\ub85c \ud2b9\uc815 \uc0c1\ud669\uc5d0\uc11c MFCC \uc18d\uc131\ubcf4\ub2e4 \ub098\uc740 \uacb0\uacfc\uac00 \ub098\uc624\ub294 AFTE(Auditory Filterbank Temporal Envelope) \uc18d\uc131\ub3c4 \ud655\uc778\ud574\ubcf4\uc790."
     ]
    },
    {
     "cell_type": "code",
     "collapsed": false,
     "input": [],
     "language": "python",
     "metadata": {},
     "outputs": []
    }
   ],
   "metadata": {}
  }
 ]
}