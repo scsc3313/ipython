{
 "metadata": {
  "name": "",
  "signature": "sha256:83add829557c6b0d2a98f6cfd421c45dbef15415f8a2be41d6bd496461840a52"
 },
 "nbformat": 3,
 "nbformat_minor": 0,
 "worksheets": [
  {
   "cells": [
    {
     "cell_type": "markdown",
     "metadata": {},
     "source": [
      "#\uae30\uacc4\ud559\uc2b5#\n",
      "\uae30\uacc4\ud559\uc2b5\uc774\ub780 \uae30\uacc4\uc5d0\uac8c \uc2a4\uc2a4\ub85c \uc791\uc5c5\uc744 \uc218\ud589\ud560 \uc218 \uc788\ub3c4\ub85d \uac00\ub974\uce58\ub294 \uc77c.\n",
      "\uae30\uacc4\ud559\uc2b5\uc758 \ubaa9\ud45c : \n",
      "  \uae30\uacc4\uc5d0\uac8c \uba87\uac00\uc9c0 \uc608\ub97c \uc8fc\uace0 \uc791\uc5c5\uc744 \uc218\ud589 \ud558\ub3c4\ub85d \uac00\ub974\uce58\ub294 \uac83. \n",
      "  \n",
      "#\ud30c\uc774\uc120# \n",
      "\ub300\ud654\ud615 \uace0\ucc28\uc6d0 \ud504\ub85c\uadf8\ub7a8 \uc5b8\uc5b4 \n",
      "C\uc5b8\uc5b4\ub85c\ub41c \ub77c\uc774\ube0c\ub7ec\ub9ac\ub97c \ud1b5\ud574 \ud50c\ub7ab\ud3fc \ub3c5\ub9bd\uc801, \ube60\ub984\n",
      "\n",
      "\uae30\uacc4\ud559\uc2b5\uacfc \ud30c\uc774\uc120\n",
      "\uae30\uacc4\uc5d0\uac8c \uc190\uc27d\uac8c \uc791\uc5c5\uc744 \uc2a4\uc2a4\ub85c \uc791\uc5c5\uc744 \uc218\ud589 \ud560 \uc218 \uc788\ub3c4\ub85d \uac00\ub974\ud0a4\uae30\uc5d0 \uc801\ud569.\n",
      "\n",
      "#\uc774\ucc45\uc5d0\uc11c \uc54c\ub824\uc8fc\ub294 \ub0b4\uc6a9#\n",
      "\uacfc \uc54c\ub824\uc8fc\uc9c0 \uc54a\ub294 \ub0b4\uc6a9\n",
      "\n",
      "\uae30\uacc4\ud559\uc2b5 \uc18c\ud504\ud2b8\uc6e8\uc5b4\ub97c \uc791\uc131\ud558\ub294 \uacfc\uc815 \n",
      "1. \ub370\uc774\ud0c0 \uc77d\uae30\uc640 \uc815\ub9ac \n",
      "2. \uc785\ub825 \ub370\uc774\ud130\uc758 \ud0d0\uad6c\uc640 \uc774\ud574 \n",
      "3. \uae30\uacc4\ud559\uc2b5 \uc54c\uace0\ub9ac\uc998\uc744 \uc704\ud574 \uc5b4\ub5bb\uac8c \ucd5c\uc801\uc73c\ub85c \ub370\uc774\ud130\ub97c \ub098\ud0c0\ub0b8\uc9c0\uc5d0 \ub300\ud55c \ubd84\uc11d\n",
      "4. \uc801\uc808\ud55c \ubaa8\ub378\uacfc \ud559\uc2b5 \uc54c\uace0\ub9ac\uc998 \uc120\ud0dd\n",
      "5. \uc218\ud589 \uc815\ud655\ub3c4 \uce21\uc815 \n",
      "\n",
      "\ud504\ub85c\uadf8\ub798\ubc0d \uacfc\uc815\uc740 4\ub2e8\uacc4\uc5d0 \ubd88\uacfc\ud558\ub2e4. \n",
      "\n",
      "\ud504\ub85c\uadf8\ub798\ubc0d\uc744 \uc704\ud55c \uac00\uc774\ub4dc \n",
      "  Numpy, SciPy\ub97c \uc124\uce58, scikit-learn\uc744 \uc774\uc6a9\ud574 \uccab\ubc88\uc9f8 \uae30\uacc4\ud559\uc2b5\uc744 \ud6c8\ub828. \n",
      "  \ub098\uba38\uc9c0 \uc7a5\uc5d0\uc11c\ub294 \ub2e4\uc591\ud55c \uc560\ud50c\ub9ac\ucf00\uc774\uc158 \uc2dc\ub098\ub9ac\uc624\ub97c \uc0ac\uc6a9\ud574 \ud30c\uc774\uc120\uc73c\ub85c \ub41c \uae30\uacc4\ud559\uc2b5\uc758 \ub2e4\uc591\ud55c \uce21\uba74\uc5d0 \uc9d1\uc911, \n",
      "  \uc774\uc804\uc5d0 \uc18c\uac1c\ud55c \uc7a5\ub2e4\uc12f\ub2e8\uacc4\ub97c \ud1b5\ud574 \uc138\ubc00\ud558\uac8c \uc0b4\ud3b4\ubcf8\ub2e4. \n",
      "  \n",
      "\ucd94\ucc9c \ube14\ub85c\uadf8 \n",
      "  http://blog.kaggle.com\n",
      "  \uae30\uacc4\ud559\uc2b5 \uacbd\uc5f0\ub300\ud68c\ub97c \uc8fc\ucd5c\ud558\ub294 \ud68c\uc0ac \ube14\ub85c\uadf8 \n",
      "  \n",
      "  \n",
      "  \n",
      "#\uccab\ubc88\uc9f8#\n",
      "python \uc124\uce58 \n",
      "  windows : \ubcc4\ub3c4\uc758 \ud328\ud0a4\uc9c0 \uc124\uce58 \n",
      "  linux : \uae30\ubcf8\uc801\uc73c\ub85c \uc124\uce58 \n",
      "  mac : \uae30\ubcf8\uc801\uc73c\ub85c \uc124\uce58 \n",
      "  \n",
      "python \ub77c\uc774\ube0c\ub7ec\ub9ac \uc124\uce58 : \n",
      "  pip\ub97c \uc774\uc6a9 \uc124\uce58 \n",
      "  linux\uc5d0\uc11c pip\uac00 \uc5c6\uc744 \uacbd\uc6b0 easy_install\uc744 \ud1b5\ud574 \uc124\uce58 \n",
      "  mac\uc5d0\uc11c pip\uac00 \uc5c6\uc744 \uacbd\uc6b0 easy_install\uc774\ub098 brew\ub97c \ud1b5\ud574 \uc124\uce58 \n",
      "  \n",
      "\uba85\ub839\uc5b4 : >pip install <library> \n",
      "\n",
      "\uc124\uce58 \ud574\uc57c\ud560 \ub77c\uc774\ube0c\ub7ec\ub9ac : \n",
      "SciPy,\n",
      "NumPy\n",
      "scikit-learn \n",
      "Matplotlib \n",
      "\n",
      "\uc704\uc758 \uac01\uac01 \ub77c\uc774\ube0c\ub7ec\ub9ac \uc124\uce58\uac00 \ubc84\uac70\uc6b0\uba74 \n",
      "\ud1b5\ud569 \ud328\ud0a4\uc9c0 \uc124\uce58 \uac00\ub2a5 \n",
      "  Enought Python Distribution,\n",
      "  Python(x,y)\n",
      "  \uc640 \uac19\uc740 \ud1b5\ud569 \ud328\ud0a4\uc9c0\ub85c \uc124\uce58 \uac00\ub2a5. \n",
      "  \n",
      "\ucd94\uac00 \uc124\uce58 \ub77c\uc774\ube0c\ub7ec\ub9ac \n",
      "ipython : interactive Python \n",
      "pip install ipython \n",
      "\n",
      "ipython notebook \n",
      "web\uc744 \ud1b5\ud574 interactive Python \uac1c\ubc1c\ud658\uacbd\uc744 \uc81c\uacf5 \n",
      "pip install ipython\"notebook\"\n",
      "\uc774 \ubb38\uc11c\ub85c ipython notebook\uc73c\ub85c \uc791\uc131\n",
      "\n",
      "\uae30\ubcf8 \uc124\uce58 \ud574\uc57c\ud560 \ub77c\uc774\ube0c\ub7ec\ub9ac \n",
      "Numpy, SciPy, MatplotLib, ipython ipython notebook\n",
      "\n",
      "pip install NumPy\n",
      "pip install SciPy\n",
      "pip install Matplotlib\n",
      "pip install ipython\"notebook\"\n",
      "\n",
      "\n",
      "ps. notebook\uc744 \uc11c\ubc84\uc5d0\uc11c \uc124\uce58\ud558\uace0 \uc678\ubd80\uc5d0\uc11c \uc811\uc18d\ud558\uae30\n",
      "facebook \ubb38\uc11c \ucc38\uace0(\uc815\ub9ac\ud55c \ubb38\uc11c \uc788\uc74c) \n"
     ]
    },
    {
     "cell_type": "markdown",
     "metadata": {},
     "source": [
      "#NumPy#\n",
      "NumPy \uc608\uc81c \n"
     ]
    },
    {
     "cell_type": "markdown",
     "metadata": {},
     "source": [
      "\ub77c\uc774\ube0c\ub7ec\ub9ac\ub97c \uc0ac\uc6a9\ud558\uae30 \uc704\ud574\uc11c\ub294 \uc784\ud3ec\ud2b8\ub97c \ud574\uc57c\ud568."
     ]
    },
    {
     "cell_type": "code",
     "collapsed": false,
     "input": [
      "import numpy\n",
      "numpy.version.full_version"
     ],
     "language": "python",
     "metadata": {},
     "outputs": [
      {
       "metadata": {},
       "output_type": "pyout",
       "prompt_number": 1,
       "text": [
        "'1.9.1'"
       ]
      }
     ],
     "prompt_number": 1
    },
    {
     "cell_type": "markdown",
     "metadata": {},
     "source": [
      "\uc704\uc640 \uac19\uc774 \ud558\uba74 \ub77c\uc774\ube0c\ub7ec\ub9ac\ub97c \uc4f0\uae30 \uc704\ud574 \ub77c\uc774\ube0c\ub7ec\ub9ac \uba85\uc744 \ub2e4 \uc785\ub825 \ud574\uc57c\ud568. \n",
      "\uc904\uc5ec\uc11c \ub2e4\uc74c\uacfc \uac19\uc774 \ud558\uba74 \ubcc4\uce6d(alias)\uc73c\ub85c \ucc98\ub9ac \uac00\ub2a5 "
     ]
    },
    {
     "cell_type": "code",
     "collapsed": false,
     "input": [
      "import numpy as np \n",
      "np.version.full_version"
     ],
     "language": "python",
     "metadata": {},
     "outputs": [
      {
       "metadata": {},
       "output_type": "pyout",
       "prompt_number": 4,
       "text": [
        "'1.9.1'"
       ]
      }
     ],
     "prompt_number": 4
    },
    {
     "cell_type": "markdown",
     "metadata": {},
     "source": [
      "NumPy array \uc608\uc81c \n",
      "1\ucc28\uc6d0 \ubc30\uc5f4"
     ]
    },
    {
     "cell_type": "code",
     "collapsed": false,
     "input": [
      "a = np.array([0,1,2,3,4,5])\n",
      "a"
     ],
     "language": "python",
     "metadata": {},
     "outputs": [
      {
       "metadata": {},
       "output_type": "pyout",
       "prompt_number": 46,
       "text": [
        "array([0, 1, 2, 3, 4, 5])"
       ]
      }
     ],
     "prompt_number": 46
    },
    {
     "cell_type": "markdown",
     "metadata": {},
     "source": [
      "a \ubc30\uc5f4\uc758 \ucc28\uc6d0 \ubc0f \uc6d0\uc18c \uac2f\uc218 \ucd9c\ub825\n",
      "\ucc28\uc6d0 : ndim\n",
      "\uc6d0\uc18c \uac2f\uc218 : shape"
     ]
    },
    {
     "cell_type": "code",
     "collapsed": false,
     "input": [
      "a.ndim"
     ],
     "language": "python",
     "metadata": {},
     "outputs": [
      {
       "metadata": {},
       "output_type": "pyout",
       "prompt_number": 47,
       "text": [
        "1"
       ]
      }
     ],
     "prompt_number": 47
    },
    {
     "cell_type": "code",
     "collapsed": false,
     "input": [
      "a.shape"
     ],
     "language": "python",
     "metadata": {},
     "outputs": [
      {
       "metadata": {},
       "output_type": "pyout",
       "prompt_number": 48,
       "text": [
        "(6,)"
       ]
      }
     ],
     "prompt_number": 48
    },
    {
     "cell_type": "markdown",
     "metadata": {},
     "source": [
      "2\ucc28\uc6d0 \ubc30\uc5f4\ub85c \ubcc0\ud615(reshape)"
     ]
    },
    {
     "cell_type": "code",
     "collapsed": false,
     "input": [
      "b = a.reshape((3,2))\n",
      "b"
     ],
     "language": "python",
     "metadata": {},
     "outputs": [
      {
       "metadata": {},
       "output_type": "pyout",
       "prompt_number": 10,
       "text": [
        "array([[0, 1],\n",
        "       [2, 3],\n",
        "       [4, 5]])"
       ]
      }
     ],
     "prompt_number": 10
    },
    {
     "cell_type": "code",
     "collapsed": false,
     "input": [
      "b.ndim"
     ],
     "language": "python",
     "metadata": {},
     "outputs": [
      {
       "metadata": {},
       "output_type": "pyout",
       "prompt_number": 49,
       "text": [
        "2"
       ]
      }
     ],
     "prompt_number": 49
    },
    {
     "cell_type": "code",
     "collapsed": false,
     "input": [
      "b.shape"
     ],
     "language": "python",
     "metadata": {},
     "outputs": [
      {
       "metadata": {},
       "output_type": "pyout",
       "prompt_number": 13,
       "text": [
        "(3, 2)"
       ]
      }
     ],
     "prompt_number": 13
    },
    {
     "cell_type": "markdown",
     "metadata": {},
     "source": [
      "NumPy\ud328\ud0a4\uc9c0 \ucd5c\uc801\ud654 \n",
      "\uac00\ub2a5\ud558\uba74 \uac12\uc744 \ubcf5\uc0ac\ud558\uc9c0 \uc54a\uc74c"
     ]
    },
    {
     "cell_type": "code",
     "collapsed": false,
     "input": [
      "b[1][0] = 77\n",
      "b[0][0] = 1\n",
      "b"
     ],
     "language": "python",
     "metadata": {},
     "outputs": [
      {
       "metadata": {},
       "output_type": "pyout",
       "prompt_number": 58,
       "text": [
        "array([[ 1,  1],\n",
        "       [77,  3],\n",
        "       [ 4,  4]])"
       ]
      }
     ],
     "prompt_number": 58
    },
    {
     "cell_type": "code",
     "collapsed": false,
     "input": [
      "a"
     ],
     "language": "python",
     "metadata": {},
     "outputs": [
      {
       "metadata": {},
       "output_type": "pyout",
       "prompt_number": 61,
       "text": [
        "array([0, 1, 2, 3, 4, 5])"
       ]
      }
     ],
     "prompt_number": 61
    },
    {
     "cell_type": "markdown",
     "metadata": {},
     "source": [
      "b[1][0]= 77 <- b 2\ucc28\uc6d0 \ubc30\uc5f4\uc758 \uac12\uc744 \uc218\uc815 \n",
      "a\uac00 \ubcc0\uacbd \ub428.\n",
      "\uc989 a\uc640 b\uac00 \uac19\uc740 \uac12\uc744 \uacf5\uc720 \ud558\uace0 \uc788\uc74c. "
     ]
    },
    {
     "cell_type": "markdown",
     "metadata": {},
     "source": [
      "\ub3c5\ub9bd\uc801\uc73c\ub85c \ubcc0\uacbd\ub41c \uac12\uc744 \uac00\uc9c0\ub294 \ubcc0\uc218\uac00 \ud544\uc694\ud560\ub54c \ub2e4\uc74c\uacfc \uac19\uc774 \ucc98\ub9ac"
     ]
    },
    {
     "cell_type": "code",
     "collapsed": false,
     "input": [
      "c = a.reshape((3,2)).copy()\n",
      "c"
     ],
     "language": "python",
     "metadata": {},
     "outputs": [
      {
       "metadata": {},
       "output_type": "pyout",
       "prompt_number": 16,
       "text": [
        "array([[ 0,  1],\n",
        "       [77,  3],\n",
        "       [ 4,  5]])"
       ]
      }
     ],
     "prompt_number": 16
    },
    {
     "cell_type": "markdown",
     "metadata": {},
     "source": [
      "c[0][0] = -99\n",
      "c"
     ]
    },
    {
     "cell_type": "code",
     "collapsed": false,
     "input": [
      "a"
     ],
     "language": "python",
     "metadata": {},
     "outputs": [
      {
       "metadata": {},
       "output_type": "pyout",
       "prompt_number": 19,
       "text": [
        "array([ 0,  1, 77,  3,  4,  5])"
       ]
      }
     ],
     "prompt_number": 19
    },
    {
     "cell_type": "markdown",
     "metadata": {},
     "source": [
      "NumPy \uc7a5\uc810 \n",
      "\uc5f0\uc0b0\uc790\uac00 \uac1c\ubcc4 \uc6d0\uc18c\uc5d0 \uc801\uc6a9"
     ]
    },
    {
     "cell_type": "code",
     "collapsed": false,
     "input": [
      "a * 2"
     ],
     "language": "python",
     "metadata": {},
     "outputs": [
      {
       "metadata": {},
       "output_type": "pyout",
       "prompt_number": 20,
       "text": [
        "array([  0,   2, 154,   6,   8,  10])"
       ]
      }
     ],
     "prompt_number": 20
    },
    {
     "cell_type": "code",
     "collapsed": false,
     "input": [
      "a**2"
     ],
     "language": "python",
     "metadata": {},
     "outputs": [
      {
       "metadata": {},
       "output_type": "pyout",
       "prompt_number": 21,
       "text": [
        "array([   0,    1, 5929,    9,   16,   25])"
       ]
      }
     ],
     "prompt_number": 21
    },
    {
     "cell_type": "code",
     "collapsed": false,
     "input": [
      "[1,2,3,4,5] *2"
     ],
     "language": "python",
     "metadata": {},
     "outputs": [
      {
       "metadata": {},
       "output_type": "pyout",
       "prompt_number": 22,
       "text": [
        "[1, 2, 3, 4, 5, 1, 2, 3, 4, 5]"
       ]
      }
     ],
     "prompt_number": 22
    },
    {
     "cell_type": "code",
     "collapsed": false,
     "input": [
      "[1,2,3,4,5]**2"
     ],
     "language": "python",
     "metadata": {},
     "outputs": [
      {
       "ename": "TypeError",
       "evalue": "unsupported operand type(s) for ** or pow(): 'list' and 'int'",
       "output_type": "pyerr",
       "traceback": [
        "\u001b[1;31m---------------------------------------------------------------------------\u001b[0m\n\u001b[1;31mTypeError\u001b[0m                                 Traceback (most recent call last)",
        "\u001b[1;32m<ipython-input-23-c54f0681399f>\u001b[0m in \u001b[0;36m<module>\u001b[1;34m()\u001b[0m\n\u001b[1;32m----> 1\u001b[1;33m \u001b[1;33m[\u001b[0m\u001b[1;36m1\u001b[0m\u001b[1;33m,\u001b[0m\u001b[1;36m2\u001b[0m\u001b[1;33m,\u001b[0m\u001b[1;36m3\u001b[0m\u001b[1;33m,\u001b[0m\u001b[1;36m4\u001b[0m\u001b[1;33m,\u001b[0m\u001b[1;36m5\u001b[0m\u001b[1;33m]\u001b[0m\u001b[1;33m**\u001b[0m\u001b[1;36m2\u001b[0m\u001b[1;33m\u001b[0m\u001b[0m\n\u001b[0m",
        "\u001b[1;31mTypeError\u001b[0m: unsupported operand type(s) for ** or pow(): 'list' and 'int'"
       ]
      }
     ],
     "prompt_number": 23
    },
    {
     "cell_type": "markdown",
     "metadata": {},
     "source": [
      "##\uc778\ub371\uc2f1##\n",
      "\ubc30\uc5f4\uc5d0 \uc811\uadfc\ud558\ub294 \ub2e4\uc591\ud55c \ubc29\ubc95\uc744 \uc81c\uacf5"
     ]
    },
    {
     "cell_type": "code",
     "collapsed": false,
     "input": [
      "a[np.array([2,3,4])]"
     ],
     "language": "python",
     "metadata": {},
     "outputs": [
      {
       "metadata": {},
       "output_type": "pyout",
       "prompt_number": 25,
       "text": [
        "array([77,  3,  4])"
       ]
      }
     ],
     "prompt_number": 25
    },
    {
     "cell_type": "markdown",
     "metadata": {},
     "source": [
      "\uc870\uac74\ubd80 \uc811\uadfc"
     ]
    },
    {
     "cell_type": "code",
     "collapsed": false,
     "input": [
      "a>4"
     ],
     "language": "python",
     "metadata": {},
     "outputs": [
      {
       "metadata": {},
       "output_type": "pyout",
       "prompt_number": 26,
       "text": [
        "array([False, False,  True, False, False,  True], dtype=bool)"
       ]
      }
     ],
     "prompt_number": 26
    },
    {
     "cell_type": "code",
     "collapsed": false,
     "input": [
      "a[a>4]"
     ],
     "language": "python",
     "metadata": {},
     "outputs": [
      {
       "metadata": {},
       "output_type": "pyout",
       "prompt_number": 27,
       "text": [
        "array([77,  5])"
       ]
      }
     ],
     "prompt_number": 27
    },
    {
     "cell_type": "markdown",
     "metadata": {},
     "source": [
      "\uc870\uac74\uc5d0 \ub9de\uc9c0 \uc54a\ub294 \uac12\uc744 \uc798\ub77c \ub0bc\uc218 \uc788\ub2e4. \n"
     ]
    },
    {
     "cell_type": "code",
     "collapsed": false,
     "input": [
      "a[a>4]=4\n",
      "a"
     ],
     "language": "python",
     "metadata": {},
     "outputs": [
      {
       "metadata": {},
       "output_type": "pyout",
       "prompt_number": 29,
       "text": [
        "array([0, 1, 4, 3, 4, 4])"
       ]
      }
     ],
     "prompt_number": 29
    },
    {
     "cell_type": "markdown",
     "metadata": {},
     "source": [
      "\uc704\uc640 \uac19\uc740 \uc0ac\uc6a9\uc740 \ube48\ubc88\ud558\uae30 \ub54c\ubb38\uc5d0 clip()\ud568\uc218\ub97c \ud1b5\ud574 \uc9c0\uc6d0"
     ]
    },
    {
     "cell_type": "code",
     "collapsed": false,
     "input": [
      "a.clip(0,4)"
     ],
     "language": "python",
     "metadata": {},
     "outputs": [
      {
       "metadata": {},
       "output_type": "pyout",
       "prompt_number": 30,
       "text": [
        "array([0, 1, 4, 3, 4, 4])"
       ]
      }
     ],
     "prompt_number": 30
    },
    {
     "cell_type": "markdown",
     "metadata": {},
     "source": [
      "###\uc874\uc7ac\ud558\uc9c0 \uc54a\ub294 \uac12 \ucc98\ub9ac###\n",
      "\uc874\uc7ac\ud558\uc9c0 \uc54a\ub294 \uac12 : np.NAN "
     ]
    },
    {
     "cell_type": "code",
     "collapsed": false,
     "input": [
      "c = np.array([1,2,np.NAN,3,4])\n",
      "c"
     ],
     "language": "python",
     "metadata": {},
     "outputs": [
      {
       "metadata": {},
       "output_type": "pyout",
       "prompt_number": 32,
       "text": [
        "array([  1.,   2.,  nan,   3.,   4.])"
       ]
      }
     ],
     "prompt_number": 32
    },
    {
     "cell_type": "markdown",
     "metadata": {},
     "source": [
      "NAN \uccb4\ud06c \ud568\uc218 : isnan"
     ]
    },
    {
     "cell_type": "code",
     "collapsed": false,
     "input": [
      "np.isnan(c)"
     ],
     "language": "python",
     "metadata": {},
     "outputs": [
      {
       "metadata": {},
       "output_type": "pyout",
       "prompt_number": 33,
       "text": [
        "array([False, False,  True, False, False], dtype=bool)"
       ]
      }
     ],
     "prompt_number": 33
    },
    {
     "cell_type": "markdown",
     "metadata": {},
     "source": [
      "NAN \uc81c\uac70 "
     ]
    },
    {
     "cell_type": "code",
     "collapsed": false,
     "input": [
      "c[~np.isnan(c)]"
     ],
     "language": "python",
     "metadata": {},
     "outputs": [
      {
       "metadata": {},
       "output_type": "pyout",
       "prompt_number": 34,
       "text": [
        "array([ 1.,  2.,  3.,  4.])"
       ]
      }
     ],
     "prompt_number": 34
    },
    {
     "cell_type": "code",
     "collapsed": false,
     "input": [
      "np.mean(c[~np.isnan(c)])"
     ],
     "language": "python",
     "metadata": {},
     "outputs": [
      {
       "metadata": {},
       "output_type": "pyout",
       "prompt_number": 36,
       "text": [
        "2.5"
       ]
      }
     ],
     "prompt_number": 36
    },
    {
     "cell_type": "markdown",
     "metadata": {},
     "source": [
      "\uc2e4\ud589\uc2dc\uac04 \ube44\uad50 "
     ]
    },
    {
     "cell_type": "code",
     "collapsed": false,
     "input": [
      "import timeit\n",
      "normal_py_sec = timeit.timeit('sum(x*x for x in xrange(1000))',number=10000)\n",
      "navie_py_sec = timeit.timeit('sum(na*na)',setup = \"import numpy as np; na=np.arange(1000)\", number = 10000)\n",
      "good_np_sec = timeit.timeit('na.dot(na)',setup=\"import numpy as np;na=np.arange(1000)\", number=10000)\n",
      "print(\"Normal Python: %f sec\"%normal_py_sec)\n",
      "print(\"Navie Numpy: %f sec\"%navie_py_sec)\n",
      "print(\"Good Numpy: %f sec\"%good_np_sec)"
     ],
     "language": "python",
     "metadata": {},
     "outputs": [
      {
       "output_type": "stream",
       "stream": "stdout",
       "text": [
        "Normal Python: 0.543564 sec\n",
        "Navie Numpy: 0.769407 sec\n",
        "Good Numpy: 0.014517 sec\n"
       ]
      }
     ],
     "prompt_number": 39
    },
    {
     "cell_type": "markdown",
     "metadata": {},
     "source": [
      "NumPy\uc758 dot()\ud568\uc218\ub294 \uac19\uc740 \uc5ed\ud560\uc744 \ud558\ub294 \ub8e8\ud504 \ubb38\ubcf4\ub2e4 \ud6e8\uc52c \ube60\ub974\ub2e4. \n",
      "\ub300\uc2e0, NumPy\uc758 \ubc30\uc5f4(array)\ub294 \uc720\uc5f0\uc131\uc774 \uc5c6\ub2e4. "
     ]
    },
    {
     "cell_type": "code",
     "collapsed": false,
     "input": [
      "a = np.array([1,2,3])\n",
      "a.dtype"
     ],
     "language": "python",
     "metadata": {},
     "outputs": [
      {
       "metadata": {},
       "output_type": "pyout",
       "prompt_number": 40,
       "text": [
        "dtype('int64')"
       ]
      }
     ],
     "prompt_number": 40
    },
    {
     "cell_type": "code",
     "collapsed": false,
     "input": [
      "np.array([1,\"string\"])"
     ],
     "language": "python",
     "metadata": {},
     "outputs": [
      {
       "metadata": {},
       "output_type": "pyout",
       "prompt_number": 42,
       "text": [
        "array(['1', 'string'], \n",
        "      dtype='|S21')"
       ]
      }
     ],
     "prompt_number": 42
    },
    {
     "cell_type": "markdown",
     "metadata": {},
     "source": [
      "##SciPy##"
     ]
    },
    {
     "cell_type": "markdown",
     "metadata": {},
     "source": [
      "SciPy\ub294 NumPy\uc758 \uc790\ub8cc\uad6c\uc870(array\ub4f1)\uc744 \uae30\ubc18\uc73c\ub85c \uc5ec\ub7ec\uac00\uc9c0 \uacfc\ud559 \uc54c\uace0\ub9ac\uc998\uc744 \uc81c\uacf5"
     ]
    },
    {
     "cell_type": "markdown",
     "metadata": {},
     "source": [
      "\ub9e4\ud2b8\ub9ad\uc2a4 \uc5f0\uc0b0, \uc120\ud615\ub300\uc218, \ucd5c\uc801\ud654, \uad70\uc9d1, \uacf5\uac04\uc5f0\uc0b0, \uace0\uc18d \ud478\ub9ac\uc5d0 \ubcc0\ud658\uae4c\uc9c0 \uac16\ucd94\uc5b4\uc838 \uc788\ub2e4. \n"
     ]
    },
    {
     "cell_type": "markdown",
     "metadata": {},
     "source": [
      "SciPy\ub294 NumPy\uc640 \uac19\uc774 \uc0ac\uc6a9\ud55c\ub2e4. \n",
      "\uadf8\ub7ec\ubbc0\ub85c \uc784\ud3ec\ud2b8\uc2dc \uac19\uc774 \ud558\ub294\uac83\uc774 \uc88b\ub2e4."
     ]
    },
    {
     "cell_type": "code",
     "collapsed": false,
     "input": [
      "import scipy, numpy\n",
      "scipy.version.full_version"
     ],
     "language": "python",
     "metadata": {},
     "outputs": [
      {
       "metadata": {},
       "output_type": "pyout",
       "prompt_number": 43,
       "text": [
        "'0.14.0'"
       ]
      }
     ],
     "prompt_number": 43
    },
    {
     "cell_type": "code",
     "collapsed": false,
     "input": [
      "scipy.dot is numpy.dot "
     ],
     "language": "python",
     "metadata": {},
     "outputs": [
      {
       "metadata": {},
       "output_type": "pyout",
       "prompt_number": 44,
       "text": [
        "True"
       ]
      }
     ],
     "prompt_number": 44
    },
    {
     "cell_type": "code",
     "collapsed": false,
     "input": [],
     "language": "python",
     "metadata": {},
     "outputs": []
    }
   ],
   "metadata": {}
  }
 ]
}