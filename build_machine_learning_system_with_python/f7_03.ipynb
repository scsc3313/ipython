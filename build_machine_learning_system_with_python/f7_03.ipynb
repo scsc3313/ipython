{
 "metadata": {
  "name": "",
  "signature": "sha256:0a0420afa47135b2f4bf7505d5e93e852b39016cf0d6348c6fc82fca22e3b2c9"
 },
 "nbformat": 3,
 "nbformat_minor": 0,
 "worksheets": [
  {
   "cells": [
    {
     "cell_type": "code",
     "collapsed": false,
     "input": [
      "#!/usr/bin/python\n",
      "# -*- coding: UTF-8 -*-\n",
      "# page 198\n",
      "import numpy as np\n",
      "from sklearn.linear_model import LassoCV\n",
      "from scipy import sparse\n",
      "from sklearn.cross_validation import KFold\n",
      "\n",
      "# \ub0b4\ubd80 \uad50\ucc28 \uac80\uc99d\uc5d0\uc11c \uc0ac\uc6a9\ud560 \uac12\uc744 \uc81c\uc57d : 0.125\uc5d0\uc11c 2\ubc30\uc529 \uc99d\uac00\uc2dc\ucf1c 4\uae4c\uc9c0\n",
      "reg = LassoCV(fit_intercept=True, alphas=[.125, .25, .5, 1. ,2. ,4.])\n",
      "\n",
      "data = np.array([[int(tok) for tok in line.split('\\t')[:3]] for line in open('u.data')])\n",
      "#print(data)\n",
      "\n",
      "values = data[:, 2]\n",
      "#print(values)\n",
      "\n",
      "ij = data[:, :2]\n",
      "ij -=1  # original data is in 1-based system\n",
      "\n",
      "reviews = sparse.csc_matrix((values, ij.T)).astype(float)\n",
      "#print(reviews)\n",
      "\n",
      "#\uc601\ud654\ub9c8\ub2e4 \uc815\uaddc\ud654\ub97c \uc218\ud589\n",
      "def movie_norm(x):\n",
      "    xc = x.copy().toarray() #\ubcf5\uc0ac\ud574\uc11c \ud76c\uc18c \ub9e4\ud2b8\ub9ad\uc2a4\ub97c \uc77c\ubc18\uc801\uc778 \ubc30\uc5f4\ud654 \n",
      "    #print(xc) # long time\n",
      "    \n",
      "    x1 = np.array([xi[xi > 0].mean() for xi in xc])  #mean()\ud3c9\uade0\n",
      "    #print(x1)  # long time\n",
      "    \n",
      "    x1 = np.nan_to_num(x1)  #\ud3c9\uc810\uc774 \uc5c6\uac70\ub098 NAN\uc774\uba74 0\uc73c\ub85c \ub300\uccb4 \n",
      "    \n",
      "    # 0\uc774 \uc544\ub2cc \uc5d4\ud2f0\ud2f0\uc5d0\uac8c \ud3c9\uade0\uac12\uc744 \ube7c \uc785\ub825\uc744 \uc815\uaddc\ud654\ud55c\ub2e4\n",
      "    # xrange \uba54\ubaa8\ub9ac \ubb38\uc81c \ub9ac\uc2a4\ud2b8 \ub300\uc2e0 \uac1d\uccb4\uc804\ub2ec  http://haerakai.tistory.com/32\n",
      "    for i in xrange(xc.shape[0]):  \n",
      "        xc[i] -= (xc[i] > 0) * x1[i]  # \uc0ac\uc6a9\uc790\uac00 \ud3c9\uc810\uc744 \uc8fc\uc9c0 \uc54a\uc740 \uc601\ud654\ub97c \ud3c9\uade0 0\uc73c\ub85c \ub9cc\ub4ec\n",
      "        \n",
      "    return xc, x1  #\uc815\uaddc\ud654\ub41c \ubc30\uc5f4\uacfc \ud3c9\uade0\uac12 \ubc18\ud658, \uc815\uaddc(\ubc00\ub3c4)\ubc30\uc5f4\uc774 \uc880 \uc18d\ub3c4 \ud5a5\uc0c1(Scikit-learn)\n",
      "\n",
      "#\uc0ac\uc6a9\uc790 i\ub97c \uc704\ud55c \ubaa8\ub378\uc744 \ud559\uc2b5\uc2dc\ud0a4\ub294 \ud568\uc218 \n",
      "def learn_for(i):\n",
      "    u = reviews[i]  #\uc0ac\uc6a9\uc790 1\uba85\uc744 \uace0\ub978\ub2e4 \n",
      "    #print(u)\n",
      "    \n",
      "    #\ud76c\uc18c \ub9e4\ud2b8\ub9ad\uc2a4\ub97c \uc77c\ubc18\uc801\uc778 \ubc30\uc5f4\ub85c \ubcc0\ud658\n",
      "    u = u.toarray().ravel() #\ucc45\uc5d0\uc11c array-> toarry  \n",
      "    #print(u)\n",
      "    \n",
      "    #\ubc30\uc5f4\uc6d0\uc18c\uac00 0\ubcf4\ub2e4 \ud070\uc9c0 \ube44\uad50\ud574 \ucc38\uc778 \uac12\uc744 \ucc3e\ub294\ub2e4\n",
      "    ps, = np.where( u > 0) \n",
      "    \n",
      "    # i\ub97c \uc81c\uc678\ud558\uace0 \uc778\ub371\uc2a4 [0....N]\uc73c\ub85c \ubc30\uc5f4\uc744 \ub9cc\ub4e0\ub2e4\n",
      "    us = np.delete(np.arange(reviews.shape[0]),i)\n",
      "    #print(us)\n",
      "    \n",
      "    x = reviews[us][:,ps].T\n",
      "    #print(x)\n",
      "\n",
      "    #\uc0ac\uc6a9\uc790\uac00 \ud3c9\uc810\uc744 \uc900 \uc601\ud654\ub9cc \uad6c\ud560 \uc218 \uc788\ub2e4 \n",
      "    y = u[ps]\n",
      "    #print(y)\n",
      "    \n",
      "    err =0 \n",
      "    \n",
      "    kf = KFold(len(y) , n_folds=4) #\uc0ac\uc6a9\uc790\uac00 \ub9ce\uc73c\ubbc0\ub85c 4\uc911\ucca9 \uc0ac\uc6a9\n",
      "    #print(kf)\n",
      "    \n",
      "    for train, test in kf:\n",
      "        #\uac1c\ubcc4 \uc601\ud654\uc758 \uc815\uaddc\ud654\ub97c \uc218\ud589\ud55c\ub2e4\n",
      "        xc, x1 = movie_norm(x[train])\n",
      "        \n",
      "        reg.fit(xc, y[train]-x1)\n",
      "        \n",
      "        #\ud14c\uc2a4\ud2b8\ud560 \ub3d9\uc548 \ub3d9\uc77c\ud55c \uc815\uaddc\ud654\ub97c \uc218\ud589\ud560 \ud544\uc694\uac00 \uc788\ub2e4 \n",
      "        xc, x1 = movie_norm(x[test])\n",
      "        \n",
      "        p = np.array(map(reg.predict, xc)).ravel() \n",
      "        e = (p+x1)-y[test]\n",
      "        err += np.sum(e*e)\n",
      "        \n",
      "        print(err)\n",
      "        \n",
      "    return\n",
      "\n",
      "#print(reviews.shape[0]) #943\n",
      "for i in range(reviews.shape[0]):\n",
      "    s= learn_for(i)          "
     ],
     "language": "python",
     "metadata": {},
     "outputs": [
      {
       "output_type": "stream",
       "stream": "stdout",
       "text": [
        "63.7775636919\n",
        "139.139219105"
       ]
      },
      {
       "output_type": "stream",
       "stream": "stdout",
       "text": [
        "\n",
        "197.514953909"
       ]
      },
      {
       "output_type": "stream",
       "stream": "stdout",
       "text": [
        "\n",
        "277.824546571"
       ]
      },
      {
       "output_type": "stream",
       "stream": "stdout",
       "text": [
        "\n",
        "9.12476000785\n",
        "14.9105758682"
       ]
      },
      {
       "output_type": "stream",
       "stream": "stdout",
       "text": [
        "\n",
        "24.6922136939\n",
        "43.7710928341"
       ]
      },
      {
       "output_type": "stream",
       "stream": "stdout",
       "text": [
        "\n",
        "20.0582186831\n",
        "41.1496232427"
       ]
      },
      {
       "output_type": "stream",
       "stream": "stdout",
       "text": [
        "\n",
        "64.2848676927\n",
        "81.9033388599"
       ]
      },
      {
       "output_type": "stream",
       "stream": "stdout",
       "text": [
        "\n",
        "6.53598135146\n",
        "9.29568727625"
       ]
      },
      {
       "output_type": "stream",
       "stream": "stdout",
       "text": [
        "\n",
        "15.2363652032\n",
        "23.0777541"
       ]
      },
      {
       "output_type": "stream",
       "stream": "stdout",
       "text": [
        "\n",
        "61.2514182651"
       ]
      },
      {
       "output_type": "stream",
       "stream": "stdout",
       "text": [
        "\n",
        "115.757803484"
       ]
      },
      {
       "output_type": "stream",
       "stream": "stdout",
       "text": [
        "\n",
        "190.269021462\n",
        "243.596275223"
       ]
      },
      {
       "output_type": "stream",
       "stream": "stdout",
       "text": [
        "\n",
        "40.6012634231"
       ]
      },
      {
       "output_type": "stream",
       "stream": "stdout",
       "text": [
        "\n",
        "76.0518786814"
       ]
      },
      {
       "output_type": "stream",
       "stream": "stdout",
       "text": [
        "\n",
        "137.527425364"
       ]
      },
      {
       "output_type": "stream",
       "stream": "stdout",
       "text": [
        "\n",
        "170.282477243"
       ]
      },
      {
       "output_type": "stream",
       "stream": "stdout",
       "text": [
        "\n",
        "80.6437887073"
       ]
      },
      {
       "output_type": "stream",
       "stream": "stdout",
       "text": [
        "\n",
        "170.117533226"
       ]
      },
      {
       "output_type": "stream",
       "stream": "stdout",
       "text": [
        "\n",
        "277.893954063"
       ]
      },
      {
       "output_type": "stream",
       "stream": "stdout",
       "text": [
        "\n",
        "382.025503611"
       ]
      },
      {
       "output_type": "stream",
       "stream": "stdout",
       "text": [
        "\n",
        "10.0617044371\n",
        "22.622480059"
       ]
      },
      {
       "output_type": "stream",
       "stream": "stdout",
       "text": [
        "\n",
        "47.0936006625\n",
        "55.2013115943\n",
        "2.46140157181"
       ]
      },
      {
       "output_type": "stream",
       "stream": "stdout",
       "text": [
        "\n",
        "8.85488453517\n",
        "9.87772182937"
       ]
      },
      {
       "output_type": "stream",
       "stream": "stdout",
       "text": [
        "\n",
        "26.7045667527\n",
        "11.1630581629"
       ]
      },
      {
       "output_type": "stream",
       "stream": "stdout",
       "text": [
        "\n",
        "23.4434444115\n",
        "35.0653427498"
       ]
      },
      {
       "output_type": "stream",
       "stream": "stdout",
       "text": [
        "\n",
        "66.6239193907"
       ]
      },
      {
       "output_type": "stream",
       "stream": "stdout",
       "text": [
        "\n",
        "38.2936802364"
       ]
      },
      {
       "output_type": "stream",
       "stream": "stdout",
       "text": [
        "\n",
        "70.1714953411"
       ]
      },
      {
       "output_type": "stream",
       "stream": "stdout",
       "text": [
        "\n",
        "98.9388792451"
       ]
      },
      {
       "output_type": "stream",
       "stream": "stdout",
       "text": [
        "\n",
        "142.553921981\n",
        "4.90900971099"
       ]
      },
      {
       "output_type": "stream",
       "stream": "stdout",
       "text": [
        "\n",
        "21.4511793982\n",
        "25.6191472078"
       ]
      },
      {
       "output_type": "stream",
       "stream": "stdout",
       "text": [
        "\n",
        "31.2176237089\n",
        "216.166153871"
       ]
      },
      {
       "output_type": "stream",
       "stream": "stdout",
       "text": [
        "\n",
        "451.99326442"
       ]
      },
      {
       "output_type": "stream",
       "stream": "stdout",
       "text": [
        "\n",
        "669.97858539"
       ]
      },
      {
       "output_type": "stream",
       "stream": "stdout",
       "text": [
        "\n",
        "986.592829578"
       ]
      },
      {
       "output_type": "stream",
       "stream": "stdout",
       "text": [
        "\n",
        "26.8353267299\n",
        "57.9623348627"
       ]
      },
      {
       "output_type": "stream",
       "stream": "stdout",
       "text": [
        "\n",
        "87.1630766386\n",
        "109.636043424"
       ]
      },
      {
       "output_type": "stream",
       "stream": "stdout",
       "text": [
        "\n",
        "44.032686436\n",
        "87.499173643"
       ]
      },
      {
       "output_type": "stream",
       "stream": "stdout",
       "text": [
        "\n",
        "126.029087734\n",
        "161.401289909"
       ]
      },
      {
       "output_type": "stream",
       "stream": "stdout",
       "text": [
        "\n",
        "14.1920047342\n",
        "15.8516144173"
       ]
      },
      {
       "output_type": "stream",
       "stream": "stdout",
       "text": [
        "\n",
        "10.6080481244\n",
        "27.724617893"
       ]
      },
      {
       "output_type": "stream",
       "stream": "stdout",
       "text": [
        "\n",
        "32.1425554007\n",
        "39.2952282658"
       ]
      },
      {
       "output_type": "stream",
       "stream": "stdout",
       "text": [
        "\n",
        "39.182601323"
       ]
      },
      {
       "output_type": "stream",
       "stream": "stdout",
       "text": [
        "\n",
        "91.5113244568\n",
        "159.541927164"
       ]
      },
      {
       "output_type": "stream",
       "stream": "stdout",
       "text": [
        "\n",
        "223.589291516\n"
       ]
      }
     ],
     "prompt_number": 14
    },
    {
     "cell_type": "code",
     "collapsed": false,
     "input": [
      "#!/usr/bin/python\n",
      "# -*- coding: UTF-8 -*-\n",
      "# page 198\n",
      "import numpy as np\n",
      "from sklearn.linear_model import LassoCV\n",
      "from scipy import sparse\n",
      "from sklearn.cross_validation import KFold\n",
      "\n",
      "# \ub0b4\ubd80 \uad50\ucc28 \uac80\uc99d\uc5d0\uc11c \uc0ac\uc6a9\ud560 \uac12\uc744 \uc81c\uc57d : 0.125\uc5d0\uc11c 2\ubc30\uc529 \uc99d\uac00\uc2dc\ucf1c 4\uae4c\uc9c0\n",
      "reg = LassoCV(fit_intercept=True, alphas=[.125, .25, .5, 1. ,2. ,4.])\n",
      "\n",
      "data = np.array([[int(tok) for tok in line.split('\\t')[:3]] for line in open('u.data')])\n",
      "#print(data)\n",
      "\n",
      "values = data[:, 2]\n",
      "#print(values)\n",
      "\n",
      "ij = data[:, :2]\n",
      "ij -=1  # original data is in 1-based system\n",
      "\n",
      "reviews = sparse.csc_matrix((values, ij.T)).astype(float)\n",
      "#print(reviews)\n",
      "\n",
      "#\uc601\ud654\ub9c8\ub2e4 \uc815\uaddc\ud654\ub97c \uc218\ud589\n",
      "def movie_norm(x):\n",
      "    xc = x.copy().toarray() #\ubcf5\uc0ac\ud574\uc11c \ud76c\uc18c \ub9e4\ud2b8\ub9ad\uc2a4\ub97c \uc77c\ubc18\uc801\uc778 \ubc30\uc5f4\ud654 \n",
      "    #print(xc) # long time\n",
      "    \n",
      "    x1 = np.array([xi[xi > 0].mean() for xi in xc])  #mean()\ud3c9\uade0\n",
      "    #print(x1)  # long time\n",
      "    \n",
      "    x1 = np.nan_to_num(x1)  #\ud3c9\uc810\uc774 \uc5c6\uac70\ub098 NAN\uc774\uba74 0\uc73c\ub85c \ub300\uccb4 \n",
      "    \n",
      "    # 0\uc774 \uc544\ub2cc \uc5d4\ud2f0\ud2f0\uc5d0\uac8c \ud3c9\uade0\uac12\uc744 \ube7c \uc785\ub825\uc744 \uc815\uaddc\ud654\ud55c\ub2e4\n",
      "    # xrange \uba54\ubaa8\ub9ac \ubb38\uc81c \ub9ac\uc2a4\ud2b8 \ub300\uc2e0 \uac1d\uccb4\uc804\ub2ec  http://haerakai.tistory.com/32\n",
      "    for i in xrange(xc.shape[0]):  \n",
      "        xc[i] -= (xc[i] > 0) * x1[i]  # \uc0ac\uc6a9\uc790\uac00 \ud3c9\uc810\uc744 \uc8fc\uc9c0 \uc54a\uc740 \uc601\ud654\ub97c \ud3c9\uade0 0\uc73c\ub85c \ub9cc\ub4ec\n",
      "        \n",
      "    return xc, x1  #\uc815\uaddc\ud654\ub41c \ubc30\uc5f4\uacfc \ud3c9\uade0\uac12 \ubc18\ud658, \uc815\uaddc(\ubc00\ub3c4)\ubc30\uc5f4\uc774 \uc880 \uc18d\ub3c4 \ud5a5\uc0c1(Scikit-learn) \n",
      "\n",
      "#\uc0ac\uc6a9\uc790 i\ub97c \uc704\ud55c \ubaa8\ub378\uc744 \ud559\uc2b5\uc2dc\ud0a4\ub294 \ud568\uc218 \n",
      "def learn_for(i):\n",
      "    u = reviews[i]  #\uc0ac\uc6a9\uc790 1\uba85\uc744 \uace0\ub978\ub2e4 \n",
      "    #print(u)\n",
      "    \n",
      "    #\ud76c\uc18c \ub9e4\ud2b8\ub9ad\uc2a4\ub97c \uc77c\ubc18\uc801\uc778 \ubc30\uc5f4\ub85c \ubcc0\ud658\n",
      "    u = u.toarray().ravel() #\ucc45\uc5d0\uc11c array-> toarry  \n",
      "    #print(u)\n",
      "    \n",
      "    #\ubc30\uc5f4\uc6d0\uc18c\uac00 0\ubcf4\ub2e4 \ud070\uc9c0 \ube44\uad50\ud574 \ucc38\uc778 \uac12\uc744 \ucc3e\ub294\ub2e4\n",
      "    ps, = np.where( u > 0) \n",
      "    \n",
      "    # i\ub97c \uc81c\uc678\ud558\uace0 \uc778\ub371\uc2a4 [0....N]\uc73c\ub85c \ubc30\uc5f4\uc744 \ub9cc\ub4e0\ub2e4\n",
      "    us = np.delete(np.arange(reviews.shape[0]),i)\n",
      "    #print(us)\n",
      "    \n",
      "    x = reviews[us][:,ps].T\n",
      "    #print(x)\n",
      "\n",
      "    #\uc0ac\uc6a9\uc790\uac00 \ud3c9\uc810\uc744 \uc900 \uc601\ud654\ub9cc \uad6c\ud560 \uc218 \uc788\ub2e4 \n",
      "    y = u[ps]\n",
      "    #print(y)\n",
      "    \n",
      "    err =0 \n",
      "    eb =0 \n",
      "    kf = KFold(len(y) , n_folds=4)  #\uc0ac\uc6a9\uc790\uac00 \ub9ce\uc73c\ubbc0\ub85c 4\uc911\ucca9 \uc0ac\uc6a9 \n",
      "    #print(kf)\n",
      "    \n",
      "    for train, test in kf:\n",
      "        #\uac1c\ubcc4 \uc601\ud654\uc758 \uc815\uaddc\ud654\ub97c \uc218\ud589\ud55c\ub2e4\n",
      "        xc, x1 = movie_norm(x[train])\n",
      "        reg.fit(xc, y[train]-x1)\n",
      "        \n",
      "        #\ud14c\uc2a4\ud2b8\ud560 \ub3d9\uc548 \ub3d9\uc77c\ud55c \uc815\uaddc\ud654\ub97c \uc218\ud589\ud560 \ud544\uc694\uac00 \uc788\ub2e4 \n",
      "        xc, x1 = movie_norm(x[test])\n",
      "        \n",
      "        p = np.array(map(reg.predict, xc)).ravel()\n",
      "        e = (p+x1)-y[test]\n",
      "        \n",
      "        err += np.sum(e*e)\n",
      "        #print(err)\n",
      "        eb += np.sum( (y[train].mean() - y [test])**2)\n",
      "        \n",
      "    return np.sqrt(err/float(len(y))), np.sqrt(eb/float(len(y)))  # sqrt()\uc81c\uacf1\uadfc \n",
      "\n",
      "#print(reviews.shape[0]) #943\n",
      "for i in range(reviews.shape[0]):\n",
      "    s= learn_for(i)  \n",
      "    print(s)"
     ],
     "language": "python",
     "metadata": {},
     "outputs": [
      {
       "output_type": "stream",
       "stream": "stdout",
       "text": [
        "(1.0106501739760383, 1.2745427974613304)\n",
        "(0.84022935457628944, 1.0636153778794128)"
       ]
      },
      {
       "output_type": "stream",
       "stream": "stdout",
       "text": [
        "\n",
        "(1.2315553164214008, 1.2563629171742379)"
       ]
      },
      {
       "output_type": "stream",
       "stream": "stdout",
       "text": [
        "\n",
        "(0.98059833137775132, 0.921284663987611)"
       ]
      },
      {
       "output_type": "stream",
       "stream": "stdout",
       "text": [
        "\n",
        "(1.1798214761399981, 1.3929782601193734)"
       ]
      },
      {
       "output_type": "stream",
       "stream": "stdout",
       "text": [
        "\n",
        "(0.89834623531178304, 1.0612448056230726)"
       ]
      },
      {
       "output_type": "stream",
       "stream": "stdout",
       "text": [
        "\n",
        "(0.97362934592910355, 1.0717574700032142)"
       ]
      },
      {
       "output_type": "stream",
       "stream": "stdout",
       "text": [
        "\n",
        "(0.96727216994550091, 1.376908479158343)"
       ]
      },
      {
       "output_type": "stream",
       "stream": "stdout",
       "text": [
        "\n",
        "(1.1017458614868272, 1.0021155420066585)"
       ]
      },
      {
       "output_type": "stream",
       "stream": "stdout",
       "text": [
        "\n",
        "(0.60173625321022306, 0.58284929057703239)"
       ]
      },
      {
       "output_type": "stream",
       "stream": "stdout",
       "text": [
        "\n",
        "(0.88746308609199387, 0.93778183656045444)"
       ]
      },
      {
       "output_type": "stream",
       "stream": "stdout",
       "text": [
        "\n",
        "(0.78237476237487413, 0.77935726122954507)"
       ]
      },
      {
       "output_type": "stream",
       "stream": "stdout",
       "text": [
        "\n",
        "(1.2454905007212587, 1.444851351314753)"
       ]
      },
      {
       "output_type": "stream",
       "stream": "stdout",
       "text": [
        "\n",
        "(1.0577027640043564, 1.0337066589587227)"
       ]
      },
      {
       "output_type": "stream",
       "stream": "stdout",
       "text": [
        "\n",
        "(1.2457670247254011, 1.3575978757019525)"
       ]
      },
      {
       "output_type": "stream",
       "stream": "stdout",
       "text": [
        "\n",
        "(0.92261465047928759, 1.0907152992167928)"
       ]
      },
      {
       "output_type": "stream",
       "stream": "stdout",
       "text": [
        "\n",
        "(1.0133268173249568, 1.1571526552593205)"
       ]
      },
      {
       "output_type": "stream",
       "stream": "stdout",
       "text": [
        "\n",
        "(0.78701546035103365, 0.8621849830073921)"
       ]
      },
      {
       "output_type": "stream",
       "stream": "stdout",
       "text": [
        "\n",
        "(0.9411488150191909, 0.84590516936330151)"
       ]
      },
      {
       "output_type": "stream",
       "stream": "stdout",
       "text": [
        "\n",
        "(1.2437279357527562, 1.1460647914375695)"
       ]
      },
      {
       "output_type": "stream",
       "stream": "stdout",
       "text": [
        "\n",
        "(0.99861347191000016, 1.3819520035040647)"
       ]
      },
      {
       "output_type": "stream",
       "stream": "stdout",
       "text": [
        "\n",
        "(1.1943102083721584, 1.6318382427027571)"
       ]
      },
      {
       "output_type": "stream",
       "stream": "stdout",
       "text": [
        "\n",
        "(0.80835321178079844, 0.95675757433128683)"
       ]
      },
      {
       "output_type": "stream",
       "stream": "stdout",
       "text": [
        "\n",
        "(0.76547807410617474, 0.83084981716620787)"
       ]
      },
      {
       "output_type": "stream",
       "stream": "stdout",
       "text": [
        "\n",
        "(0.58073387004670085, 0.62366833545304956)"
       ]
      },
      {
       "output_type": "stream",
       "stream": "stdout",
       "text": [
        "\n",
        "(0.61952523508696122, 0.90299735283595794)"
       ]
      },
      {
       "output_type": "stream",
       "stream": "stdout",
       "text": [
        "\n",
        "(0.83025012033269874, 0.94923792148172603)"
       ]
      },
      {
       "output_type": "stream",
       "stream": "stdout",
       "text": [
        "\n",
        "(0.82600730648741727, 0.98623239857327449)"
       ]
      },
      {
       "output_type": "stream",
       "stream": "stdout",
       "text": [
        "\n",
        "(0.69532275099419982, 0.93662605163356272)"
       ]
      },
      {
       "output_type": "stream",
       "stream": "stdout",
       "text": [
        "\n",
        "(0.81913112376684627, 1.0350403570774867)"
       ]
      },
      {
       "output_type": "stream",
       "stream": "stdout",
       "text": [
        "\n",
        "(0.7053755173704308, 1.008536948458526)"
       ]
      },
      {
       "output_type": "stream",
       "stream": "stdout",
       "text": [
        "\n",
        "(0.80542568291029792, 0.90334867034922284)"
       ]
      },
      {
       "output_type": "stream",
       "stream": "stdout",
       "text": [
        "\n",
        "(0.55724298140570883, 0.5713045500334204)"
       ]
      },
      {
       "output_type": "stream",
       "stream": "stdout",
       "text": [
        "\n",
        "(1.2243562708171012, 1.4817407180595246)"
       ]
      },
      {
       "output_type": "stream",
       "stream": "stdout",
       "text": [
        "\n",
        "(0.95756928244946837, 0.98572607458729022)"
       ]
      },
      {
       "output_type": "stream",
       "stream": "stdout",
       "text": [
        "\n",
        "(1.7280184214502943, 1.4071247279470289)"
       ]
      },
      {
       "output_type": "stream",
       "stream": "stdout",
       "text": [
        "\n",
        "(0.92884066465632431, 1.0273680859485097)"
       ]
      },
      {
       "output_type": "stream",
       "stream": "stdout",
       "text": [
        "\n",
        "(1.6761886016386058, 1.6199611862675924)"
       ]
      },
      {
       "output_type": "stream",
       "stream": "stdout",
       "text": [
        "\n"
       ]
      }
     ],
     "prompt_number": 15
    },
    {
     "cell_type": "heading",
     "level": 1,
     "metadata": {},
     "source": [
      "\uc608\uce21\uacfc \ucd94\ucc9c \ud3c9\uc810 \uacb0\uacfc"
     ]
    },
    {
     "cell_type": "markdown",
     "metadata": {},
     "source": [
      "- \ub2e8\uc21c \ud3c9\uade0\uac12 \ucd94\uce21\ubcf4\ub2e4, 80% \ub354 \ub0ab\ub2e4 \n",
      "- \uc0ac\uc6a9\uc790\uac00 \ub354 \ub9ce\uc740 \ub9ac\ubdf0\ub97c \uc904 \ub54c \ub354 \ub098\uc740 \uc218\ud589 \uac00\ub2a5"
     ]
    },
    {
     "cell_type": "heading",
     "level": 1,
     "metadata": {},
     "source": [
      "\uc815\ub9ac"
     ]
    },
    {
     "cell_type": "markdown",
     "metadata": {},
     "source": [
      "- \uc2dc\uc791 : \uc77c\ubc18 \ucd5c\uc18c \uc81c\uacf1 OLS\n",
      "- \uacfc\uc801\ud569 \ud68c\ud53c, \ud68c\uadc0 \uae30\ubc95 : \ub9ac\uc9c0, \ub77c\uc18c, \uc77c\ub798\uc2a4\ud2f1 \n",
      "- \uc77c\ubc18\ud654 \uce21\uc815\uc2dc \ud6c8\ub828 \uc624\ucc28\uc5d0 \uc758\uc874\ud558\ub294 \uc704\ud5d8\uc131\n",
      "- \ubc8c\uc810\ud654 \ud68c\uadc0 \n",
      "- \uc0ac\uc6a9\uc790 \ucd94\ucc9c \ud55c\uacc4 : \uc0ac\uc6a9\uc790\uac00 \uc22b\uc790\ub85c \uc544\uc774\ud15c\uc5d0 \ud3c9\uc810\uc744 \ub9e4\uaca8\uc57c \ud55c\ub2e4 -> \uc77c\ubd80 \uc0ac\uc6a9\uc790\ub9cc \ud3c9\uc810 \ub9e4\uae40 \n",
      "- 8\uc7a5 : \uc7a5\ubc14\uad6c\ub2c8 \ubd84\uc11d "
     ]
    },
    {
     "cell_type": "code",
     "collapsed": false,
     "input": [],
     "language": "python",
     "metadata": {},
     "outputs": []
    }
   ],
   "metadata": {}
  }
 ]
}