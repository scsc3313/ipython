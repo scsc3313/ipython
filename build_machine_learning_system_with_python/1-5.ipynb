{
 "metadata": {
  "name": "",
  "signature": "sha256:3641e036750daf401410a9ebeaacd090c1933f310c23687116ab6151ac929118"
 },
 "nbformat": 3,
 "nbformat_minor": 0,
 "worksheets": [
  {
   "cells": [
    {
     "cell_type": "code",
     "collapsed": false,
     "input": [
      "import os \n",
      "!pwd\n",
      "os.chdir(\"/backup/dev/ipython/build_machine_learning_system_with_python/data/ch01\") \n",
      "%load performance_test.py"
     ],
     "language": "python",
     "metadata": {},
     "outputs": [
      {
       "output_type": "stream",
       "stream": "stdout",
       "text": [
        "/home/dev\r\n"
       ]
      }
     ],
     "prompt_number": 3
    },
    {
     "cell_type": "code",
     "collapsed": false,
     "input": [
      "# This code is supporting material for the book\n",
      "# Building Machine Learning Systems with Python\n",
      "# by Willi Richert and Luis Pedro Coelho\n",
      "# published by PACKT Publishing\n",
      "#\n",
      "# It is made available under the MIT License\n",
      "\n",
      "\n",
      "import timeit\n",
      "\n",
      "normal_py_sec = timeit.timeit('sum(x*x for x in range(1000))',\n",
      "                              number=10000)\n",
      "naive_np_sec = timeit.timeit('sum(na*na)',\n",
      "                             setup=\"import numpy as np; na=np.arange(1000)\",\n",
      "                             number=10000)\n",
      "good_np_sec = timeit.timeit('na.dot(na)',\n",
      "                            setup=\"import numpy as np; na=np.arange(1000)\",\n",
      "                            number=10000)\n",
      "\n",
      "print(\"Normal Python: %f sec\" % normal_py_sec)\n",
      "print(\"Naive NumPy: %f sec\" % naive_np_sec)\n",
      "print(\"Good NumPy: %f sec\" % good_np_sec)\n"
     ],
     "language": "python",
     "metadata": {},
     "outputs": []
    },
    {
     "cell_type": "code",
     "collapsed": false,
     "input": [
      "# This code is supporting material for the book\n",
      "# Building Machine Learning Systems with Python\n",
      "# by Willi Richert and Luis Pedro Coelho\n",
      "# published by PACKT Publishing\n",
      "#\n",
      "# It is made available under the MIT License\n",
      "\n",
      "\n",
      "import timeit\n",
      "\n",
      "normal_py_sec = timeit.timeit('sum(x*x for x in range(1000))',\n",
      "                              number=10000)\n",
      "naive_np_sec = timeit.timeit('sum(na*na)',\n",
      "                             setup=\"import numpy as np; na=np.arange(1000)\",\n",
      "                             number=10000)\n",
      "good_np_sec = timeit.timeit('na.dot(na)',\n",
      "                            setup=\"import numpy as np; na=np.arange(1000)\",\n",
      "                            number=10000)\n",
      "\n",
      "print(\"Normal Python: %f sec\" % normal_py_sec)\n",
      "print(\"Naive NumPy: %f sec\" % naive_np_sec)\n",
      "print(\"Good NumPy: %f sec\" % good_np_sec)\n"
     ],
     "language": "python",
     "metadata": {},
     "outputs": []
    },
    {
     "cell_type": "code",
     "collapsed": false,
     "input": [],
     "language": "python",
     "metadata": {},
     "outputs": []
    }
   ],
   "metadata": {}
  }
 ]
}