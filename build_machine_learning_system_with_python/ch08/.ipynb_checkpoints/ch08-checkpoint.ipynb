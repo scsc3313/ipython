{
 "metadata": {
  "name": "",
  "signature": "sha256:cf6f5d03c3127e8330b3136168d38024f6feb6ab8f4bdf73021eea398dd720a5"
 },
 "nbformat": 3,
 "nbformat_minor": 0,
 "worksheets": [
  {
   "cells": [
    {
     "cell_type": "code",
     "collapsed": false,
     "input": [
      "import os \n",
      "os.chdir(\"/backup/dev/ipython/build_machine_learning_system_with_python/data/ch08/\") \n",
      "\n",
      "!ls -al "
     ],
     "language": "python",
     "metadata": {},
     "outputs": [
      {
       "output_type": "stream",
       "stream": "stdout",
       "text": [
        "total 64\r\n",
        "drwxr-xr-x  3 root root 4096 Feb  3 23:10 .\r\n",
        "drwxr-xr-x 15 root root 4096 Feb  3 22:08 ..\r\n",
        "-rw-r--r--  1 root root 1362 Dec  1 20:47 all_correlations.py\r\n",
        "-rw-r--r--  1 root root 1376 Feb  3 22:25 all_correlations.pyc\r\n",
        "drwxr-xr-x  2 root root 4096 Feb  8 22:11 apriori\r\n",
        "-rw-r--r--  1 root root 2277 Dec  1 20:47 corrneighbours.py\r\n",
        "-rw-r--r--  1 root root 2414 Feb  3 23:10 corrneighbours.pyc\r\n",
        "lrwxrwxrwx  1 root root   12 Dec  1 20:47 data -> ../ch07/data\r\n",
        "-rw-r--r--  1 root root  440 Dec  1 20:47 figure3.py\r\n",
        "-rw-r--r--  1 root root  761 Dec  1 20:47 load_ml100k.py\r\n",
        "-rw-r--r--  1 root root  629 Feb  3 21:53 load_ml100k.pyc\r\n",
        "-rw-r--r--  1 root root 1828 Dec  1 20:47 similar_movie.py\r\n",
        "-rw-r--r--  1 root root 1951 Feb  3 23:10 similar_movie.pyc\r\n",
        "-rw-r--r--  1 root root 1204 Dec  1 20:47 stacked5.py\r\n",
        "-rw-r--r--  1 root root 1025 Dec  1 20:47 stacked.py\r\n",
        "-rw-r--r--  1 root root 1523 Dec  1 20:47 usermodel.py\r\n",
        "-rw-r--r--  1 root root 1773 Feb  3 23:10 usermodel.pyc\r\n"
       ]
      }
     ],
     "prompt_number": 2
    },
    {
     "cell_type": "markdown",
     "metadata": {},
     "source": [
      "##\ub370\uc774\ud0c0 \ub2e4\uc6b4\ub85c\ub4dc##\n",
      "###ch07/data/download.sh \uc2e4\ud589.###  \n",
      "7\uc7a5\uc758 \ub370\uc774\ud0c0 \uacf5\uc720. "
     ]
    },
    {
     "cell_type": "heading",
     "level": 1,
     "metadata": {},
     "source": [
      "\ucd94\ucc9c \uc774\uc9c4 \ub9e4\ud2b8\ub9ad\uc2a4 "
     ]
    },
    {
     "cell_type": "markdown",
     "metadata": {},
     "source": [
      "\uba87\uc810\uc744 \uc8fc\uc5c8\ub294\uc9c0 \ubcf4\uc9c0 \uc54a\ub354\ub77c\ub3c4 \uc0ac\uc6a9\uc790\uac00 \ud3c9\uc810\uc744 \uc900 \uc601\ud654\ub9cc \uc54c\uc544\ub3c4 \uc0ac\uc6a9\uc790\uc5d0 \ub300\ud574 \ub9ce\uc774 \uc54c \uc218 \uc788\ub2e4. \n"
     ]
    },
    {
     "cell_type": "markdown",
     "metadata": {},
     "source": [
      "\ud3c9\uc810\uc744 \uc900 \uc601\ud654\ub294 1, \ud3c9\uc810\uc744 \uc8fc\uc9c0 \uc54a\uc740 \uc601\ud654\ub294 0\uc73c\ub85c \uc774\ub904\uc9c4 \uc774\uc9c4 \ub9e4\ud2b8\ub9ad\uc2a4\ub85c \uc720\uc6a9\ud55c \uc608\uce21\uc744 \ud560 \uc218 \uc788\ub2e4. "
     ]
    },
    {
     "cell_type": "code",
     "collapsed": false,
     "input": [
      "%load figure3.py"
     ],
     "language": "python",
     "metadata": {},
     "outputs": [],
     "prompt_number": 3
    },
    {
     "cell_type": "code",
     "collapsed": false,
     "input": [
      "# This code is supporting material for the book\n",
      "# Building Machine Learning Systems with Python\n",
      "# by Willi Richert and Luis Pedro Coelho\n",
      "# published by PACKT Publishing\n",
      "#\n",
      "# It is made available under the MIT License\n",
      "\n",
      "from load_ml100k import load\n",
      "from matplotlib import pyplot as plt\n",
      "data = load()\n",
      "plt.gray()\n",
      "plt.imshow(data[:200, :200], interpolation='nearest')\n",
      "plt.xlabel('User ID')\n",
      "plt.ylabel('Film ID')\n",
      "plt.savefig('../1400_08_03+.png')\n"
     ],
     "language": "python",
     "metadata": {},
     "outputs": [
      {
       "metadata": {},
       "output_type": "display_data",
       "png": "[encoded data removed]",
       "text": [
        "<matplotlib.figure.Figure at 0x304fb10>"
       ]
      }
     ],
     "prompt_number": 4
    },
    {
     "cell_type": "markdown",
     "metadata": {},
     "source": [
      "\uc601\ud654\ud3c4\uc815\uc744 \uc608\uce20\ud558\uae30 \uc704\ud574 \uc774 \uc774\uc9c4 \ub9e4\ud2b8\ub9ad\uc2a4\ub97c \uc0ac\uc6a9\ud55c\ub2e4. \n",
      "\ub2e4\uc74c\uc740 \uc77c\ubc18\uc801\uc778 \uc54c\uace0\ub9ac\uc998"
     ]
    },
    {
     "cell_type": "heading",
     "level": 4,
     "metadata": {},
     "source": [
      "1. \uac01 \uc0ac\uc6a9\uc790\uc5d0 \ub300\ud55c \uac00\uae4c\uc6c0\uc758 \uad00\uc810\uc73c\ub85c \ub2e4\ub978 \uc0ac\uc6a9\uc790\uc758 \uc21c\uc704\ub97c \uc815\ud55c\ub2e4. \uc774 \ub2e8\uacc4\uc5d0\uc11c \uc774\uc9c4 \ub9e4\ud2b8\ub9ad\uc2a4\ub97c \uc0ac\uc6a9\ud558\uace0 \uac00\uae4c\uc6c0\uc758 \ucc99\ub3c4\ub85c\uc11c \uc0c1\uad00 \uad00\uacc4\ub97c \uc0ac\uc6a9\ud55c\ub2e4. "
     ]
    },
    {
     "cell_type": "heading",
     "level": 5,
     "metadata": {},
     "source": [
      "2. \uc0ac\uc6a9\uc790-\uc601\ud654\uc758 \uc9dd\uc5d0 \ub300\ud574 \ud3c9\u3148\ub364\uc744 \ucd94\uc815\ud560 \ud544\uc694\uac00 \uc788\uc744 \ub54c, \uc0ac\uc6a9\uc790\uc758 \uc774\uc6c3\uc744 \uc5f0\uc18d\uc801\uc73c\ub85c \ubcf8\ub2e4(1\ub2e8\uacc4\uc5d0\uc11c \uc815\uc758\ud55c \uac83 \ucc98\ub7fc). \uad00\ub828\ub41c \uc601\ud654\uc5d0 \ub300\ud55c \ud3c9\uc810\uc744 \ucc3e\uc744 \ub54c, \ud3c9\uc810\uc744 \ubcf4\uace0 \ud55c\ub2e4. "
     ]
    },
    {
     "cell_type": "markdown",
     "metadata": {},
     "source": [
      "\ub450 \uc0ac\uc6a9\uc790\uc758 \uc0c1\uad00\uad00\uacc4\ub97c \ubd84\uc11d"
     ]
    },
    {
     "cell_type": "markdown",
     "metadata": {},
     "source": [
      "corr_between_user1_and_user2 = np.corrcoef(user1, user2)[0,1]"
     ]
    },
    {
     "cell_type": "markdown",
     "metadata": {},
     "source": [
      "\uc704\uc758 \uc5f0\uc0b0\uc740 \uacc4\uc18d \uc0ac\uc6a9\ud558\uae30 \ub54c\ubb38\uc5d0 all_correlations\ub77c\ub294 \uc774\ub984\uc758 \ud568\uc218\ub97c \ub9cc\ub4e0\ub2e4.   \n",
      "import numpy as np   \n",
      "def all_correlations(bait, target) :    \n",
      "    '''  \n",
      "    'rest'\ub97c \uae30\ubc18\uc73c\ub85c 'user'\ub97c \uc704\ud55c \uc601\ud654 \ud3c9\uc810\uc744 \ucd94\uc815\ud55c\ub2e4.  \n",
      "    '''  \n",
      "    # \uc0ac\uc6a9\uc790 \ud3c9\uc810\uc758 \uc774\uc9c4 \ubc84\uc804  \n",
      "    bu = user > 0   \n",
      "    # \ub098\uba38\uc9c0 \ud3c9\uc810\uc758 \uc774\uc9c4 \ubc84\uc804  \n",
      "    br = rest > 0  \n",
      "    ws = all_correlations(bu,br)   \n",
      "    #\uc0c1\uc704 100\uc704 \uac12 \uae4c\uc9c0 \uc120\ud0dd  \n",
      "    selected = ws.argsort()[-100:]  \n",
      "    #\ud3c9\uade0\uc744 \uae30\ubc18\uc73c\ub85c \ucd94\uc815  \n",
      "    estimates = rest[selected].mean(0)  \n",
      "    #\uc77c\ubd80 \uc601\ud654\ub294 \uc5ec\ud0c0 \uc601\ud654\ubcf4\ub2e4   \n",
      "    #\ud3c9\uc810\uc744 \uc880 \ub354 \uac16\ub294\ub2e4\ub294 \uc0ac\uc2e4\uc744 \uae30\ubc18\uc73c\ub85c \uc815\ud655\ud55c \ucd94\uc815 \ud544\uc694  \n",
      "    estimates /= (.1 + br[selected].means(0))  "
     ]
    },
    {
     "cell_type": "heading",
     "level": 1,
     "metadata": {},
     "source": [
      "\uc774\uc6c3\ubcf4\uae30"
     ]
    },
    {
     "cell_type": "markdown",
     "metadata": {},
     "source": [
      "corrneighbor.py <- all_correlations.py \ud638\ucd9c"
     ]
    },
    {
     "cell_type": "code",
     "collapsed": false,
     "input": [
      "%load corrneighbours.py"
     ],
     "language": "python",
     "metadata": {},
     "outputs": [],
     "prompt_number": 5
    },
    {
     "cell_type": "code",
     "collapsed": false,
     "input": [
      "# This code is supporting material for the book\n",
      "# Building Machine Learning Systems with Python\n",
      "# by Willi Richert and Luis Pedro Coelho\n",
      "# published by PACKT Publishing\n",
      "#\n",
      "# It is made available under the MIT License\n",
      "\n",
      "from __future__ import print_function\n",
      "from all_correlations import all_correlations\n",
      "import numpy as np\n",
      "from load_ml100k import load\n",
      "\n",
      "def estimate_user(user, rest, num_neighbors=100):\n",
      "    '''Estimate ratings for user based on the binary rating matrix\n",
      "\n",
      "    Returns\n",
      "    -------\n",
      "    estimates: ndarray\n",
      "        Returns a rating estimate for each movie\n",
      "    '''\n",
      "\n",
      "    # Compute binary matrix correlations:\n",
      "    bu = user > 0\n",
      "    br = rest > 0\n",
      "    ws = all_correlations(bu, br)\n",
      "\n",
      "    # Select top `num_neighbors`:\n",
      "    selected = ws.argsort()[-num_neighbors:]\n",
      "\n",
      "    # Use these to compute estimates:\n",
      "    estimates = rest[selected].mean(0)\n",
      "    estimates /= (.1 + br[selected].mean(0))\n",
      "    return estimates\n",
      "\n",
      "\n",
      "def train_test(user, rest):\n",
      "    '''Train & test on a single user\n",
      "\n",
      "    Returns both the prediction error and the null error\n",
      "    '''\n",
      "    estimates = estimate_user(user, rest)\n",
      "    bu = user > 0\n",
      "    br = rest > 0\n",
      "    err = estimates[bu] - user[bu]\n",
      "    null = rest.mean(0)\n",
      "    null /= (.1 + br.mean(0))\n",
      "    nerr = null[bu] - user[bu]\n",
      "    return np.dot(err, err), np.dot(nerr, nerr)\n",
      "\n",
      "\n",
      "def all_estimates(reviews):\n",
      "    estimates = np.zeros_like(reviews)\n",
      "    for i in range(reviews.shape[0]):\n",
      "        estimates[i] = estimate_user(reviews[i], np.delete(reviews, i, 0))\n",
      "    return estimates\n",
      "\n",
      "def main():\n",
      "    reviews = load()\n",
      "\n",
      "    err = []\n",
      "    for i in range(reviews.shape[0]):\n",
      "        err.append(\n",
      "            train_test(reviews[i], np.delete(reviews, i, 0))\n",
      "        )\n",
      "    revs = (reviews > 0).sum(1)\n",
      "    err = np.array(err)\n",
      "    rmse = np.sqrt(err / revs[:, None])\n",
      "\n",
      "    rmse_model, rmse_null = np.mean(rmse, 0)\n",
      "\n",
      "    print(\"Average of RMSE / Null-model RMSE\")\n",
      "    print(\"{:.2}\\t{:.2} (improvement: {:.1%}\".format(rmse_model, rmse_null, (rmse_null-rmse_model)/rmse_null))\n",
      "    print()\n",
      "\n",
      "    rmse_model, rmse_null = np.mean(rmse[revs > 60], 0)\n",
      "    print(\"Average of RMSE / Null-model RMSE (users with more than 60 reviewed movies)\")\n",
      "    print(\"{:.2}\\t{:.2} (improvement: {:.1%}\".format(rmse_model, rmse_null, (rmse_null-rmse_model)/rmse_null))\n",
      "\n",
      "if __name__ == '__main__':\n",
      "    main()\n"
     ],
     "language": "python",
     "metadata": {},
     "outputs": [
      {
       "output_type": "stream",
       "stream": "stdout",
       "text": [
        "Average of RMSE / Null-model RMSE\n",
        "1.4\t1.8 (improvement: 21.9%\n",
        "\n",
        "Average of RMSE / Null-model RMSE (users with more than 60 reviewed movies)\n",
        "1.4\t1.9 (improvement: 24.8%\n"
       ]
      }
     ],
     "prompt_number": 6
    },
    {
     "cell_type": "markdown",
     "metadata": {},
     "source": [
      "\ub370\uc774\ud130\uc14b\uc5d0 \uc788\ub294 \ubaa8\ub4e0 \uc0ac\uc6a9\uc790\uc5d0 \uac78\uccd0 \uad6c\ud55c \ucd94\uc815\uce58\ub97c \ube44\uad50\ud558\uba74,  \n",
      "RMSE\uac00 20%\uc904\uc5b4\ub4e0\ub2e4.  \n",
      "\uc77c\ubc18\uc801\uc73c\ub85c \ub354 \ub9ce\uc740 \ud3c9\uc810\uc744 \uac00\uc9c4 \uc0ac\uc6a9\uc790\ub97c \uc0ac\uc6a9\ud558\uba74 \uacb0\uacfc\ub294 \uc880 \ub354 \ub098\uc544\uc9c4\ub2e4(\uc0ac\uc6a9\uc790\uac00 \ud3c9\uc810 \ud65c\ub3d9\uc758 \uc0c1\uc704 \uc808\ubc18 \uc548\uc5d0 \uc788\ub2e4\uba74 \uc624\ucc28 \uac10\uc18c\ub294 25%)\uc774\ub2e4. "
     ]
    },
    {
     "cell_type": "heading",
     "level": 1,
     "metadata": {},
     "source": [
      "\uc601\ud654\uc774\uc6c3\ubcf4\uae30"
     ]
    },
    {
     "cell_type": "markdown",
     "metadata": {},
     "source": [
      "\uc601\ud654\uc5d0 \ub300\ud55c \ucd5c\uadfc\uc811 \uc774\uc6c3\uc744 \uae30\ubc18\uc73c\ub85c \ucd94\ucc9c\uc744 \ub9cc\ub4e4\uace0\uc790 \ud55c\ub2e4.   \uc0ac\uc6a9\uc790 U\uc5d0 \ub300\ud55c \uc601\ud654 M\uc758 \ud3c9\uc810\uc744 \uc608\uce21\ud560 \ub54c, \uc2dc\uc2a4\ud15c\uc740 U\uac00 M\uacfc \uac00\uc7a5 \uc720\uc0ac\ud55c \uc601\ud654\uc5d0\uac8c \uc900 \ud3c9\uc810\uc744 \uc608\uce21\ud55c\ub2e4. "
     ]
    },
    {
     "cell_type": "markdown",
     "metadata": {},
     "source": [
      "\ub2e4\uc74c\uacfc \uac19\uc740 \ub450 \ub2e8\uacc4\ub97c \uc9c4\ud589\ud55c\ub2e4.   \n",
      "1. \uc720\uc0ac \ub9e4\ud2b8\ub9ad\uc2a4\ub97c \uacc4\uc0b0\ud55c\ub2e4.   \n",
      "2. \uac01 \uc0ac\uc6a9\uc790-\uc601\ud654 \uc9dd\uc5d0 \ub300\ud55c \ucd94\uc815\uce58\ub97c \uacc4\uc0b0\ud55c\ub2e4.   \n"
     ]
    },
    {
     "cell_type": "markdown",
     "metadata": {},
     "source": [
      "Numpy\uc758 zeros\uacfc ones\ud568\uc218\ub294 \uc0c8\ub85c\uc6b4 \ubc30\uc5f4\uc744 \ub9cc\ub4e0\ub2e4(\uac01\uac01 0\uacfc 1\ub85c \ucd08\uae30\ud654 \ud55c\ub2e4.)   \n",
      "```\n",
      "movie_likeness = np.zeros((nmovies, nmovies))  \n",
      "allms = np.ones(nmovies, bool)  \n",
      "cs = np.zeros(nmovies)  \n",
      "```  \n",
      "    \n",
      "\ubaa8\ub4e0 \uc601\ud654\uc5d0 \ub300\ud574 \ubc18\ubcf5\ud55c\ub2e4.\n",
      "\n",
      "```\n",
      "for i in range(nmovies):  \n",
      "  movie_likeness[i] = all_correlations(review[:i], revies.T)  \n",
      "  movie_likeness[i,i] = -1  \n",
      "```  \n",
      "  \n",
      "\ub300\uac01\uc120\uc5d0\ub294 -1\ub85c \uc124\uc815.  \n",
      "\ub300\uac01\uc120\uc744 -1\ub85c \uc124\uc815\ud558\ub294 \uc774\uc720\ub294 \uc790\uae30 \uc790\uc2e0\uc774\uae30 \ub54c\ubb38\uc774\ub2e4. \n",
      "  \n",
      "```  \n",
      "def nn_movie(movie_likeness, reviews, uid, mid):  \n",
      "  likes = movie_likeness[mid].argsort()  \n",
      "  #\uac00\uc7a5 \uc720\uc0ac\ud55c \uc601\ud654\ub97c \uc2dc\uc791\uc73c\ub85c \ud558\uae30 \uc704\ud574 \uc5ed\uc21c\uc73c\ub85c \ub9cc\ub4e0\ub2e4.   \n",
      "  likes = likes[::-1]  \n",
      "  #\uac00\ub2a5\ud55c \uac00\uc7a5 \uc720\uc0ac\ud55c \uc601\ud654\uc758 \ud3c9\uc810\uc744 \ubc18\ud658\ud55c\ub2e4.  \n",
      "  for ell in likes :  \n",
      "    if reviews[u, ell] > 0 :   \n",
      "      return reviews[u,ell]\n",
      "```"
     ]
    },
    {
     "cell_type": "code",
     "collapsed": false,
     "input": [
      "%load similar_movie.py"
     ],
     "language": "python",
     "metadata": {},
     "outputs": [],
     "prompt_number": 7
    },
    {
     "cell_type": "code",
     "collapsed": false,
     "input": [
      "# This code is supporting material for the book\n",
      "# Building Machine Learning Systems with Python\n",
      "# by Willi Richert and Luis Pedro Coelho\n",
      "# published by PACKT Publishing\n",
      "#\n",
      "# It is made available under the MIT License\n",
      "\n",
      "from __future__ import print_function\n",
      "import numpy as np\n",
      "\n",
      "\n",
      "def nn_movie(ureviews, reviews, uid, mid, k=1):\n",
      "    '''Movie neighbor based classifier\n",
      "\n",
      "    Parameters\n",
      "    ----------\n",
      "    ureviews : ndarray\n",
      "    reviews : ndarray\n",
      "    uid : int\n",
      "        index of user\n",
      "    mid : int\n",
      "        index of movie\n",
      "    k : int\n",
      "        index of neighbor to return\n",
      "\n",
      "    Returns\n",
      "    -------\n",
      "    pred : float\n",
      "    '''\n",
      "    X = ureviews\n",
      "    y = ureviews[mid].copy()\n",
      "    y -= y.mean()\n",
      "    y /= (y.std() + 1e-5)\n",
      "    corrs = np.dot(X, y)\n",
      "    likes = corrs.argsort()\n",
      "    likes = likes[::-1]\n",
      "    c = 0\n",
      "    pred = 3.\n",
      "    for ell in likes:\n",
      "        if ell == mid:\n",
      "            continue\n",
      "        if reviews[uid, ell] > 0:\n",
      "            pred = reviews[uid, ell]\n",
      "            if c == k:\n",
      "                return pred\n",
      "            c += 1\n",
      "    return pred\n",
      "\n",
      "\n",
      "def all_estimates(reviews, k=1):\n",
      "    '''Estimate all review ratings\n",
      "    '''\n",
      "    reviews = reviews.astype(float)\n",
      "    k -= 1\n",
      "    nusers, nmovies = reviews.shape\n",
      "    estimates = np.zeros_like(reviews)\n",
      "    for u in range(nusers):\n",
      "        ureviews = np.delete(reviews, u, axis=0)\n",
      "        ureviews -= ureviews.mean(0)\n",
      "        ureviews /= (ureviews.std(0) + 1e-5)\n",
      "        ureviews = ureviews.T.copy()\n",
      "        for m in np.where(reviews[u] > 0)[0]:\n",
      "            estimates[u, m] = nn_movie(ureviews, reviews, u, m, k)\n",
      "    return estimates\n",
      "\n",
      "if __name__ == '__main__':\n",
      "    from load_ml100k import load\n",
      "    reviews = load()\n",
      "    estimates = all_estimates(reviews)\n",
      "    error = (estimates - reviews)\n",
      "    error **= 2\n",
      "    error = error[reviews > 0]\n",
      "    rmse = np.sqrt(error.mean())\n",
      "    print(\"RMSE is {0}.\".format(rmse))\n"
     ],
     "language": "python",
     "metadata": {},
     "outputs": [
      {
       "output_type": "stream",
       "stream": "stdout",
       "text": [
        "RMSE is 1.20205657105.\n"
       ]
      }
     ],
     "prompt_number": 8
    },
    {
     "cell_type": "heading",
     "level": 1,
     "metadata": {},
     "source": [
      "\uc5ec\ub7ec\uae30\ubc95\uc758 \uc870\ud569"
     ]
    },
    {
     "cell_type": "heading",
     "level": 2,
     "metadata": {},
     "source": [
      "\uc559\uc0c1\ube14 \ud559\uc2b5"
     ]
    },
    {
     "cell_type": "markdown",
     "metadata": {},
     "source": [
      "<left><img src=\"img/ensemble.png\" width=\"500px\"></left>"
     ]
    },
    {
     "cell_type": "markdown",
     "metadata": {},
     "source": [
      "<left><img src=\"img/ensemble1.png\" width=\"500px\"></left>"
     ]
    },
    {
     "cell_type": "markdown",
     "metadata": {},
     "source": [
      "\uc5ec\ub7ec \uae30\ubc95\uc744 \uacb0\ud569\ud558\ub294 \uc720\uc5f0\ud55c \ubc29\ubc95\uc744 \ud1b5\ud574, \ub2e4\uc218\uc758 \ud559\uc2b5\uae30\uc5d0 \ud558\ub098\uc758 \ud559\uc2b5\uae30\ub97c \ucd94\uac00\ud574 \ubc14\ub77c\ub358 \uc544\uc774\ub514\uc5b4\ub97c \uc2dc\ub3c4\ud574 \ubcfc \uc218 \uc788\uace0 \uc2dc\uc2a4\ud15c\uc740 \ud559\uc2b5\uae30\uc5d0 \uac00\uc911\uce58\ub97c \ubd80\uc5ec\ud55c\ub2e4.   \n",
      "\uc5b4\ub5a4 \uc544\uc774\ub514\uc5b4\uac00 \uc88b\uc744\uc9c0 \ucc3e\uae30 \uc704\ud574 \uac00\uc911\uce58\ub97c \uc0ac\uc6a9\ud560 \uc218 \uc788\ub2e4.  "
     ]
    },
    {
     "cell_type": "markdown",
     "metadata": {},
     "source": [
      "\uc608\uce21\uae30\uc758 \uc559\uc0c1\ube14\uc744 \ud559\uc2b5\ud55c \ud6c4 \uc774\ub4e4\uc744 \uacb0\ud569."
     ]
    },
    {
     "cell_type": "code",
     "collapsed": false,
     "input": [
      "%load stacked.py"
     ],
     "language": "python",
     "metadata": {},
     "outputs": [],
     "prompt_number": 17
    },
    {
     "cell_type": "code",
     "collapsed": false,
     "input": [
      "# This code is supporting material for the book\n",
      "# Building Machine Learning Systems with Python\n",
      "# by Willi Richert and Luis Pedro Coelho\n",
      "# published by PACKT Publishing\n",
      "#\n",
      "# It is made available under the MIT License\n",
      "\n",
      "from __future__ import print_function\n",
      "from sklearn.linear_model import LinearRegression\n",
      "from load_ml100k import load\n",
      "import numpy as np\n",
      "import similar_movie\n",
      "import usermodel\n",
      "import corrneighbours\n",
      "\n",
      "reviews = load()\n",
      "reg = LinearRegression()\n",
      "es = np.array([\n",
      "    usermodel.all_estimates(reviews),\n",
      "    corrneighbours.all_estimates(reviews),\n",
      "    similar_movie.all_estimates(reviews),\n",
      "])\n",
      "\n",
      "total_error = 0.0\n",
      "coefficients = []\n",
      "for u in range(reviews.shape[0]):\n",
      "    es0 = np.delete(es, u, 1)\n",
      "    r0 = np.delete(reviews, u, 0)\n",
      "    X, Y = np.where(r0 > 0)\n",
      "    X = es[:, X, Y]\n",
      "    y = r0[r0 > 0]\n",
      "    reg.fit(X.T, y)\n",
      "    coefficients.append(reg.coef_)\n",
      "\n",
      "    r0 = reviews[u]\n",
      "    X = np.where(r0 > 0)\n",
      "    p0 = reg.predict(es[:, u, X].squeeze().T)\n",
      "    err0 = r0[r0 > 0] - p0\n",
      "    total_error += np.dot(err0, err0)\n",
      "    \n",
      "print(coefficients)\n",
      "print (coefficients.mean(0)) # the mean value across all users"
     ],
     "language": "python",
     "metadata": {},
     "outputs": [
      {
       "output_type": "stream",
       "stream": "stdout",
       "text": [
        "[array([ 0.04329867,  0.19099011,  0.01510333]), array([ 0.04386359,  0.19143359,  0.01542744]), array([ 0.0426666 ,  0.19154282,  0.01473387]), array([ 0.04579076,  0.19187834,  0.01597387]), array([ 0.04497989,  0.19081059,  0.01598646]), array([ 0.05111217,  0.19175848,  0.01854871]), array([ 0.05209397,  0.19095085,  0.01864058]), array([ 0.05871433,  0.19108095,  0.0243336 ]), array([ 0.05982267,  0.19128514,  0.02520302]), array([ 0.0585477 ,  0.19066627,  0.02508546]), array([ 0.05975674,  0.19053048,  0.02738765]), array([ 0.06146952,  0.19035623,  0.02805668]), array([ 0.06051039,  0.18840112,  0.0280088 ]), array([ 0.05977719,  0.19096269,  0.02466868]), array([ 0.0591191 ,  0.19097659,  0.02484529]), array([ 0.06524555,  0.19188493,  0.02801133]), array([ 0.06701216,  0.19217357,  0.03035614]), array([ 0.0689874 ,  0.19326377,  0.03133761]), array([ 0.07049419,  0.19347508,  0.03272309]), array([ 0.07029839,  0.19348915,  0.03255341]), array([ 0.07175525,  0.19251584,  0.03333422]), array([ 0.08125999,  0.19347603,  0.03817178]), array([ 0.08531516,  0.19436638,  0.04044669]), array([ 0.08712989,  0.1940492 ,  0.04163875]), array([ 0.08629022,  0.19383806,  0.0417612 ]), array([ 0.08524388,  0.19384146,  0.04144985]), array([ 0.08939922,  0.19418021,  0.04339614]), array([ 0.08976113,  0.19426469,  0.04351796]), array([ 0.09024746,  0.19441795,  0.04382739]), array([ 0.08997292,  0.19427947,  0.04386856]), array([ 0.08985188,  0.19438745,  0.04393751]), array([ 0.08939824,  0.19423069,  0.04390246]), array([ 0.09002128,  0.19429543,  0.04413938]), array([ 0.0898627 ,  0.19430419,  0.04411766]), array([ 0.08966417,  0.1942387 ,  0.04413455]), array([ 0.09081454,  0.1944573 ,  0.04461753]), array([ 0.09084571,  0.19442454,  0.04481989]), array([ 0.08987778,  0.19425575,  0.04442286]), array([ 0.09160755,  0.19418331,  0.0459136 ]), array([ 0.09100678,  0.19430493,  0.04557458]), array([ 0.09315644,  0.19460937,  0.04674357]), array([ 0.09392504,  0.19421098,  0.04728707]), array([ 0.09463883,  0.1943421 ,  0.0475142 ]), array([ 0.09660642,  0.19450469,  0.0489963 ]), array([ 0.09725945,  0.19465676,  0.04923917]), array([ 0.09753238,  0.1947561 ,  0.04944636]), array([ 0.0970556 ,  0.19458864,  0.04940147]), array([ 0.0970351 ,  0.19493992,  0.0494872 ]), array([ 0.09644536,  0.19492608,  0.04888429]), array([ 0.10680075,  0.19524755,  0.05431622]), array([ 0.10699132,  0.19508491,  0.0545282 ]), array([ 0.10749453,  0.19479991,  0.05512659]), array([ 0.10660007,  0.19448492,  0.05523751]), array([ 0.10645597,  0.19434245,  0.05522276]), array([ 0.10637344,  0.19437264,  0.05539398]), array([ 0.10803779,  0.19412661,  0.05640041]), array([ 0.10848039,  0.19437804,  0.056423  ]), array([ 0.10929877,  0.19466905,  0.05683363]), array([ 0.1099308 ,  0.19381631,  0.05746309]), array([ 0.11358434,  0.19384618,  0.06042773]), array([ 0.11460864,  0.19370357,  0.06201179]), array([ 0.11517881,  0.19396769,  0.06224814]), array([ 0.11652631,  0.19452517,  0.0623185 ]), array([ 0.11845505,  0.19517498,  0.06311087]), array([ 0.1184201 ,  0.19545374,  0.06265144]), array([ 0.11812834,  0.19546459,  0.06268116]), array([ 0.11856226,  0.19554291,  0.06282974]), array([ 0.11869008,  0.19562989,  0.06299175]), array([ 0.12020465,  0.19577718,  0.06382669]), array([ 0.12032015,  0.19544216,  0.06424351]), array([ 0.121224  ,  0.19568957,  0.06458059]), array([ 0.1205252 ,  0.19559218,  0.06425357]), array([ 0.12109075,  0.19546619,  0.06478055]), array([ 0.12187222,  0.19558833,  0.06540857]), array([ 0.12207106,  0.19558616,  0.06550363]), array([ 0.12413331,  0.19569472,  0.06677049]), array([ 0.12454513,  0.19588629,  0.06695666]), array([ 0.12519284,  0.19596666,  0.06738443]), array([ 0.12511798,  0.19591522,  0.06737905]), array([ 0.12453118,  0.19585492,  0.06736585]), array([ 0.12399917,  0.19585639,  0.06700007]), array([ 0.12367041,  0.1958453 ,  0.06681036]), array([ 0.12756825,  0.19631158,  0.06858455]), array([ 0.12904953,  0.19659185,  0.0692983 ]), array([ 0.12841994,  0.19668924,  0.06926879]), array([ 0.12960185,  0.19704024,  0.0695796 ]), array([ 0.12953231,  0.19839962,  0.06945669]), array([ 0.13106511,  0.19888419,  0.07052377]), array([ 0.13079134,  0.19919968,  0.07047838]), array([ 0.13023279,  0.19864799,  0.07115432]), array([ 0.13370322,  0.19843274,  0.07512771]), array([ 0.13305988,  0.19767429,  0.07497435]), array([ 0.13101515,  0.19851419,  0.07224124]), array([ 0.13015862,  0.19932538,  0.07179857]), array([ 0.13328407,  0.19953263,  0.07387919]), array([ 0.13179975,  0.20013685,  0.0719362 ]), array([ 0.1313774 ,  0.19979694,  0.07218975]), array([ 0.13033925,  0.19975806,  0.07191812]), array([ 0.13076474,  0.19947574,  0.07235993]), array([ 0.13171701,  0.19955276,  0.07300287]), array([ 0.13345904,  0.19941092,  0.07394712]), array([ 0.13505276,  0.1992356 ,  0.07435721]), array([ 0.1413646 ,  0.19946599,  0.07697056]), array([ 0.14112766,  0.19971347,  0.0765168 ]), array([ 0.14600349,  0.20013122,  0.07881488]), array([ 0.14617883,  0.20057679,  0.07883517]), array([ 0.1460973 ,  0.20064218,  0.07884242]), array([ 0.14687767,  0.2007348 ,  0.07926601]), array([ 0.14716365,  0.20087863,  0.07941934]), array([ 0.14754724,  0.20125908,  0.07911986]), array([ 0.14923818,  0.20153472,  0.07961488]), array([ 0.14961478,  0.20154323,  0.07980134]), array([ 0.14939426,  0.20171324,  0.07969754]), array([ 0.14867495,  0.20171369,  0.07936019]), array([ 0.14865216,  0.20141555,  0.07950674]), array([ 0.1491804 ,  0.20140591,  0.07987557]), array([ 0.15260989,  0.20167449,  0.08166008]), array([ 0.15309481,  0.20147624,  0.08240779]), array([ 0.15234702,  0.20100303,  0.0830859 ]), array([ 0.1523895 ,  0.20062958,  0.08388474]), array([ 0.15239334,  0.20074427,  0.08391535]), array([ 0.15251589,  0.20080494,  0.08411194]), array([ 0.151474  ,  0.20069566,  0.08367873]), array([ 0.15125815,  0.2009092 ,  0.08362304]), array([ 0.15198468,  0.20019969,  0.08409955]), array([ 0.15437788,  0.20102007,  0.08522465]), array([ 0.15485555,  0.20095002,  0.08569589]), array([ 0.15491069,  0.2013151 ,  0.08611867]), array([ 0.15498538,  0.20149235,  0.0860985 ]), array([ 0.15704489,  0.20434949,  0.08700447]), array([ 0.15983172,  0.20472071,  0.08915104]), array([ 0.15959861,  0.20470258,  0.08919644]), array([ 0.15926241,  0.20461545,  0.08906846]), array([ 0.15958068,  0.20473044,  0.08912891]), array([ 0.15953032,  0.20472754,  0.08914422]), array([ 0.15989819,  0.20464832,  0.08938773]), array([ 0.15941618,  0.20446543,  0.08948098]), array([ 0.15909611,  0.20432861,  0.08986298]), array([ 0.15818281,  0.20437239,  0.08960851]), array([ 0.15796488,  0.2043077 ,  0.08956898]), array([ 0.15801045,  0.20454375,  0.08957321]), array([ 0.159346  ,  0.20489803,  0.09039512]), array([ 0.15927192,  0.20485656,  0.09041625]), array([ 0.15900373,  0.20582125,  0.09033568]), array([ 0.15979682,  0.20498864,  0.09076621]), array([ 0.1608543 ,  0.20642347,  0.09052248]), array([ 0.16111453,  0.20633275,  0.09075052]), array([ 0.16067954,  0.20688831,  0.09059605]), array([ 0.16024164,  0.20683009,  0.09056091]), array([ 0.16116042,  0.20707927,  0.09098205]), array([ 0.16070931,  0.20837709,  0.09085175]), array([ 0.16193182,  0.20856671,  0.09206128]), array([ 0.16222515,  0.20870411,  0.09286751]), array([ 0.16363081,  0.20856667,  0.09377515]), array([ 0.16297622,  0.20863686,  0.09351768]), array([ 0.16405014,  0.20882183,  0.0941123 ]), array([ 0.16415751,  0.20870806,  0.0942732 ]), array([ 0.16324129,  0.20895131,  0.09397628]), array([ 0.16375322,  0.20888189,  0.09443645]), array([ 0.16411017,  0.20944573,  0.09468625]), array([ 0.16474084,  0.21009026,  0.09526351]), array([ 0.16859958,  0.20993835,  0.0974548 ]), array([ 0.1685533 ,  0.20999807,  0.09738003]), array([ 0.1688919 ,  0.21008767,  0.09768203]), array([ 0.16846541,  0.21010229,  0.09775767]), array([ 0.16779048,  0.21008645,  0.09745234]), array([ 0.16774249,  0.2102578 ,  0.09741811]), array([ 0.16822338,  0.21044418,  0.09763257]), array([ 0.16899333,  0.21055416,  0.09807632]), array([ 0.16821001,  0.21060796,  0.09772804]), array([ 0.16794177,  0.21060167,  0.09762728]), array([ 0.1678724 ,  0.21063279,  0.097553  ]), array([ 0.16823918,  0.21053751,  0.09787951]), array([ 0.16763493,  0.21068655,  0.09787888]), array([ 0.17189058,  0.21066447,  0.10110272]), array([ 0.17153549,  0.21091341,  0.10079941]), array([ 0.17114695,  0.21107801,  0.10068099]), array([ 0.17191338,  0.21077323,  0.10131653]), array([ 0.17220582,  0.21106926,  0.10122332]), array([ 0.17343449,  0.21166405,  0.10189352]), array([ 0.17456954,  0.20718858,  0.10157473]), array([ 0.20670954,  0.21351926,  0.11816251]), array([ 0.20642148,  0.21349803,  0.11811492]), array([ 0.20705909,  0.21379365,  0.11841297]), array([ 0.20773025,  0.21381515,  0.11878505]), array([ 0.20674398,  0.2137733 ,  0.11849227]), array([ 0.20681577,  0.21372479,  0.11860098]), array([ 0.20584645,  0.21349695,  0.11831817]), array([ 0.20563384,  0.21334714,  0.11833602]), array([ 0.20628518,  0.21335174,  0.11914122]), array([ 0.20651024,  0.21355661,  0.11914423]), array([ 0.20634145,  0.21351011,  0.11910505]), array([ 0.20619857,  0.21368647,  0.11886221]), array([ 0.20790401,  0.21445917,  0.11912441]), array([ 0.21120791,  0.21428672,  0.12031771]), array([ 0.2119975 ,  0.21445247,  0.12076936]), array([ 0.21146291,  0.21417925,  0.12050422]), array([ 0.21258192,  0.21477715,  0.1207417 ]), array([ 0.21412695,  0.2146293 ,  0.12140803]), array([ 0.21518872,  0.21600316,  0.12206444]), array([ 0.22063201,  0.21673532,  0.12593212]), array([ 0.22115361,  0.21750859,  0.12488366]), array([ 0.2216378 ,  0.21748968,  0.12505887]), array([ 0.22121384,  0.21756025,  0.12487576]), array([ 0.22119179,  0.21738936,  0.12498761]), array([ 0.22161503,  0.21711007,  0.12500613]), array([ 0.22545548,  0.2179497 ,  0.12696369]), array([ 0.22571131,  0.21797023,  0.12661106]), array([ 0.22544282,  0.21797147,  0.12649599]), array([ 0.22583065,  0.21846818,  0.12684954]), array([ 0.22564096,  0.21861443,  0.12716807]), array([ 0.22570016,  0.21869455,  0.12709982]), array([ 0.22562769,  0.21786025,  0.12765218]), array([ 0.22523491,  0.2179003 ,  0.12785464]), array([ 0.22506132,  0.2178924 ,  0.12799944]), array([ 0.22508436,  0.21776289,  0.12804813]), array([ 0.22569247,  0.21826657,  0.12830907]), array([ 0.22701062,  0.21842868,  0.12886727]), array([ 0.22701792,  0.21843618,  0.12887172]), array([ 0.2272979 ,  0.21825123,  0.12925278]), array([ 0.22708324,  0.21883446,  0.12919142]), array([ 0.2282145 ,  0.21886643,  0.12917949]), array([ 0.2277363 ,  0.21995197,  0.12755915]), array([ 0.22890539,  0.21994129,  0.12785346]), array([ 0.23099354,  0.2202049 ,  0.12890015]), array([ 0.23022764,  0.22023755,  0.1286296 ]), array([ 0.2300911 ,  0.22021449,  0.12864432]), array([ 0.2302821 ,  0.22026971,  0.12874521]), array([ 0.23037305,  0.22050541,  0.12866632]), array([ 0.23117713,  0.22133138,  0.12917571]), array([ 0.23134791,  0.22143883,  0.1294871 ]), array([ 0.23126853,  0.22192367,  0.12946492]), array([ 0.23095888,  0.22140593,  0.12958781]), array([ 0.23101013,  0.22242389,  0.12924239]), array([ 0.23244383,  0.22252094,  0.12901046]), array([ 0.23176752,  0.22249729,  0.12898274]), array([ 0.23223651,  0.22228302,  0.12931139]), array([ 0.23124185,  0.22239142,  0.12884036]), array([ 0.23087661,  0.22401078,  0.12860406]), array([ 0.2307044 ,  0.22367496,  0.12935891]), array([ 0.23069872,  0.22378592,  0.12935862]), array([ 0.2306753,  0.2239687,  0.1293552]), array([ 0.23043048,  0.22390592,  0.12947622]), array([ 0.23053614,  0.22382118,  0.1295461 ]), array([ 0.23065635,  0.22393371,  0.12950103]), array([ 0.23105422,  0.2241526 ,  0.1292175 ]), array([ 0.23401838,  0.22432512,  0.13063925]), array([ 0.23361833,  0.22432474,  0.13050305]), array([ 0.23411313,  0.22361909,  0.13115094]), array([ 0.23481766,  0.223603  ,  0.1320747 ]), array([ 0.23499843,  0.22329988,  0.13250127]), array([ 0.23494691,  0.22305728,  0.13273143]), array([ 0.23480085,  0.22341951,  0.13283727]), array([ 0.23471496,  0.22362638,  0.13271512]), array([ 0.23632145,  0.22417157,  0.13298492]), array([ 0.23838018,  0.22403344,  0.13421177]), array([ 0.23876661,  0.22415975,  0.13483117]), array([ 0.23812795,  0.22386569,  0.1348995 ]), array([ 0.23792945,  0.22430029,  0.1347376 ]), array([ 0.23760322,  0.22446214,  0.13465302]), array([ 0.23725297,  0.22428484,  0.13461626]), array([ 0.23696913,  0.22421012,  0.13455805]), array([ 0.23826826,  0.22363104,  0.13530067]), array([ 0.23798023,  0.2231816 ,  0.13577755]), array([ 0.23782532,  0.22327321,  0.1362233 ]), array([ 0.23785794,  0.22334754,  0.13623893]), array([ 0.23773898,  0.22421353,  0.1362619 ]), array([ 0.24005411,  0.22462596,  0.13772575]), array([ 0.24177676,  0.22629792,  0.13763402]), array([ 0.2478534 ,  0.22598008,  0.1415039 ]), array([ 0.24808937,  0.22515856,  0.1426219 ]), array([ 0.24739352,  0.22546204,  0.14180441]), array([ 0.2471893 ,  0.22564357,  0.14188178]), array([ 0.2469868 ,  0.22603051,  0.14185915]), array([ 0.24679299,  0.22575341,  0.14207395]), array([ 0.24868397,  0.22438246,  0.14310267]), array([ 0.24595786,  0.22601425,  0.14037619]), array([ 0.24579317,  0.22603156,  0.14036113]), array([ 0.24525573,  0.22645373,  0.14024085]), array([ 0.24528194,  0.22762979,  0.13939972]), array([ 0.24502549,  0.22724489,  0.13911978]), array([ 0.2451202 ,  0.22734133,  0.13908269]), array([ 0.24501322,  0.22798248,  0.13903251]), array([ 0.24456649,  0.22800107,  0.13896653]), array([ 0.24440265,  0.22812116,  0.13894673]), array([ 0.24366178,  0.22859439,  0.13882909]), array([ 0.24397035,  0.22774323,  0.13943501]), array([ 0.24362001,  0.22751924,  0.13959563]), array([ 0.24324621,  0.22752123,  0.13949622]), array([ 0.24341634,  0.22746033,  0.13963212]), array([ 0.24363285,  0.22679554,  0.13979332]), array([ 0.24293   ,  0.22712194,  0.13923511]), array([ 0.24325967,  0.22749512,  0.13897121]), array([ 0.24448237,  0.22734844,  0.13893278]), array([ 0.24446357,  0.22870875,  0.13903864]), array([ 0.24501491,  0.22799132,  0.14015671]), array([ 0.24589671,  0.22796232,  0.14110162]), array([ 0.24623217,  0.22768569,  0.1411736 ]), array([ 0.24581659,  0.22786054,  0.14115807]), array([ 0.24607509,  0.22826374,  0.14098808]), array([ 0.2458918 ,  0.22873885,  0.14101748]), array([ 0.24407021,  0.22897989,  0.13926908]), array([ 0.24435807,  0.23005117,  0.13943272]), array([ 0.24236616,  0.23169805,  0.1371746 ]), array([ 0.2421506 ,  0.23258557,  0.13691022]), array([ 0.24235026,  0.23240453,  0.13687069]), array([ 0.24221971,  0.23264743,  0.13697539]), array([ 0.2423703 ,  0.23262894,  0.13721378]), array([ 0.24224391,  0.2326755 ,  0.13704017]), array([ 0.24214633,  0.23276961,  0.13699642]), array([ 0.24183381,  0.23372236,  0.13719444]), array([ 0.24127916,  0.23304272,  0.13720808]), array([ 0.2421479 ,  0.23271063,  0.13845641]), array([ 0.24262543,  0.23314126,  0.13834124]), array([ 0.24287664,  0.23329024,  0.13861542]), array([ 0.24236917,  0.23382036,  0.13832245]), array([ 0.24298578,  0.23369228,  0.13887586]), array([ 0.24285698,  0.23469341,  0.13885893]), array([ 0.24300335,  0.23482449,  0.13903133]), array([ 0.24266804,  0.2359882 ,  0.13879973]), array([ 0.24259696,  0.23626611,  0.13875063]), array([ 0.24237836,  0.23611594,  0.13872404]), array([ 0.24209312,  0.23611535,  0.13865025]), array([ 0.24259739,  0.23578347,  0.13921334]), array([ 0.24212914,  0.23604457,  0.13933614]), array([ 0.24324091,  0.23673008,  0.13958291]), array([ 0.24478451,  0.23777115,  0.13978917]), array([ 0.24563299,  0.23738672,  0.13988132]), array([ 0.24588926,  0.23792537,  0.1396405 ]), array([ 0.24596573,  0.23760156,  0.14028952]), array([ 0.24734296,  0.23778725,  0.14179486]), array([ 0.24680644,  0.23700346,  0.1422381 ]), array([ 0.24775145,  0.23714411,  0.14321746]), array([ 0.24762342,  0.23702509,  0.14320889]), array([ 0.2468931 ,  0.23733712,  0.14229465]), array([ 0.24687595,  0.23693817,  0.14233164]), array([ 0.24791043,  0.23730779,  0.14258813]), array([ 0.24760278,  0.23752327,  0.1425749 ]), array([ 0.2475702 ,  0.23635764,  0.14315587]), array([ 0.24881419,  0.23645328,  0.1442749 ]), array([ 0.24860204,  0.23660556,  0.14437788]), array([ 0.24851916,  0.23725389,  0.14431817]), array([ 0.24868375,  0.23670439,  0.14433214]), array([ 0.24996739,  0.23679566,  0.14527905]), array([ 0.25054946,  0.23674509,  0.14555054]), array([ 0.25126351,  0.23724959,  0.14559164]), array([ 0.25194158,  0.23757455,  0.14532364]), array([ 0.25261956,  0.23780252,  0.1455781 ]), array([ 0.25230304,  0.23773089,  0.14560928]), array([ 0.25230553,  0.23779303,  0.14578433]), array([ 0.2514628 ,  0.23802624,  0.1456297 ]), array([ 0.25095707,  0.23807696,  0.1456385 ]), array([ 0.25077915,  0.23814327,  0.1455113 ]), array([ 0.25073901,  0.23966754,  0.14560219]), array([ 0.25090101,  0.23944952,  0.1459628 ]), array([ 0.25065868,  0.23921582,  0.14598613]), array([ 0.25057433,  0.23992161,  0.14601427]), array([ 0.25013262,  0.24012414,  0.14606743]), array([ 0.2494869 ,  0.23989741,  0.14586982]), array([ 0.24914085,  0.24033379,  0.14583724]), array([ 0.24867608,  0.24000483,  0.1458829 ]), array([ 0.24879489,  0.24024624,  0.1460172 ]), array([ 0.24865259,  0.24012078,  0.14589699]), array([ 0.2484104 ,  0.24059953,  0.14493447]), array([ 0.24858807,  0.24038507,  0.14514566]), array([ 0.24860721,  0.24101195,  0.14514547]), array([ 0.24825085,  0.24066915,  0.14516565]), array([ 0.24818723,  0.24067456,  0.14536691]), array([ 0.24841049,  0.24055652,  0.14553701]), array([ 0.24817701,  0.24067131,  0.14550392]), array([ 0.24795369,  0.24051819,  0.14553487]), array([ 0.24752304,  0.24066935,  0.14554706]), array([ 0.24696993,  0.24011851,  0.14591514]), array([ 0.24785035,  0.2402655 ,  0.14615186]), array([ 0.24729168,  0.24067526,  0.14532566]), array([ 0.24720393,  0.24068202,  0.14531587]), array([ 0.24696941,  0.24054883,  0.14529284]), array([ 0.24659211,  0.24071198,  0.14532247]), array([ 0.245334  ,  0.24036452,  0.14428265]), array([ 0.24638114,  0.24156703,  0.14469665]), array([ 0.24781442,  0.24111995,  0.14548953]), array([ 0.24792992,  0.24150468,  0.1456926 ]), array([ 0.24794748,  0.24064273,  0.14610954]), array([ 0.24695675,  0.24070977,  0.14591627]), array([ 0.24659538,  0.24155746,  0.14578482]), array([ 0.24839804,  0.24085095,  0.14710043]), array([ 0.2483965 ,  0.24120661,  0.14695527]), array([ 0.24823292,  0.24128052,  0.14655836]), array([ 0.24778863,  0.24260243,  0.14672174]), array([ 0.24848522,  0.24306176,  0.14714636]), array([ 0.24793453,  0.24383581,  0.14687933]), array([ 0.24765388,  0.24340536,  0.14703244]), array([ 0.2470285 ,  0.24324234,  0.1473242 ]), array([ 0.24480314,  0.24305111,  0.14541325]), array([ 0.24490312,  0.24324924,  0.14545944]), array([ 0.24493921,  0.24311387,  0.14568021]), array([ 0.24474213,  0.24336238,  0.14561576]), array([ 0.24522885,  0.24342667,  0.14612197]), array([ 0.24599631,  0.24486914,  0.14558082]), array([ 0.24634208,  0.24462272,  0.14531323]), array([ 0.2461659 ,  0.24505982,  0.14510198]), array([ 0.2479832 ,  0.24468552,  0.14606554]), array([ 0.24809759,  0.24466226,  0.14619498]), array([ 0.24821377,  0.2447942 ,  0.1462456 ]), array([ 0.25009217,  0.23091394,  0.14721934]), array([ 0.26778169,  0.23748385,  0.15603795]), array([ 0.2684957 ,  0.23759447,  0.15616896]), array([ 0.26756712,  0.2377998 ,  0.15534143]), array([ 0.26712459,  0.23961559,  0.1550375 ]), array([ 0.26750061,  0.23984781,  0.155221  ]), array([ 0.26759806,  0.24035591,  0.15525869]), array([ 0.2674266 ,  0.24029695,  0.15519805]), array([ 0.26696534,  0.24028961,  0.15504094]), array([ 0.26713811,  0.24029003,  0.15520498]), array([ 0.26692413,  0.24044708,  0.15520404]), array([ 0.26578538,  0.23941847,  0.15599064]), array([ 0.26887808,  0.2408196 ,  0.15737903]), array([ 0.26782488,  0.24162042,  0.15592898]), array([ 0.26786372,  0.24191043,  0.15596297]), array([ 0.26731765,  0.24175347,  0.15589989]), array([ 0.26668883,  0.24158071,  0.15588991]), array([ 0.2662937 ,  0.24148184,  0.15573877]), array([ 0.26622957,  0.24149374,  0.15573887]), array([ 0.26594224,  0.24145545,  0.1556482 ]), array([ 0.26539334,  0.24144093,  0.15509743]), array([ 0.26664779,  0.2415232 ,  0.15575794]), array([ 0.26561692,  0.24201339,  0.15539155]), array([ 0.2653377 ,  0.24142813,  0.15568984]), array([ 0.2645739 ,  0.24311361,  0.15555332]), array([ 0.26402906,  0.24382136,  0.15470504]), array([ 0.26379815,  0.24373994,  0.15460107]), array([ 0.26370371,  0.24383993,  0.15464771]), array([ 0.26344472,  0.24395838,  0.15453182]), array([ 0.26336472,  0.24395242,  0.15472844]), array([ 0.26314106,  0.24386686,  0.15469851]), array([ 0.26121742,  0.24456252,  0.15290712]), array([ 0.26126011,  0.2447112 ,  0.15302093]), array([ 0.26116813,  0.24459376,  0.15296022]), array([ 0.26090461,  0.24464348,  0.15290539]), array([ 0.26057796,  0.24495715,  0.15285956]), array([ 0.25963523,  0.24395754,  0.15296588]), array([ 0.25960356,  0.24408304,  0.15286215]), array([ 0.26047376,  0.24417663,  0.15317302]), array([ 0.2601051 ,  0.24427874,  0.1529835 ]), array([ 0.26040735,  0.2434582 ,  0.1527245 ]), array([ 0.26493549,  0.2435359 ,  0.15508184]), array([ 0.26509809,  0.24442192,  0.1551913 ]), array([ 0.26504361,  0.24467567,  0.15509492]), array([ 0.26477363,  0.24511273,  0.15504795]), array([ 0.26380084,  0.24644971,  0.15589547]), array([ 0.26329595,  0.24643692,  0.15521777]), array([ 0.26442324,  0.24774893,  0.15584551]), array([ 0.26502799,  0.24781797,  0.15577782]), array([ 0.26651634,  0.24943808,  0.15541971]), array([ 0.26885893,  0.24915408,  0.15641032]), array([ 0.26910412,  0.24972411,  0.15624412]), array([ 0.26883969,  0.24766693,  0.1567095 ]), array([ 0.27105014,  0.248468  ,  0.1582112 ]), array([ 0.27122876,  0.2486684 ,  0.15828836]), array([ 0.27106519,  0.24885522,  0.15812164]), array([ 0.27103017,  0.24891898,  0.1580261 ]), array([ 0.27114857,  0.24890026,  0.15813994]), array([ 0.27117977,  0.24810708,  0.15830017]), array([ 0.27221178,  0.24860665,  0.15869875]), array([ 0.2717603 ,  0.24831607,  0.15877885]), array([ 0.27192212,  0.24874171,  0.15867358]), array([ 0.27206467,  0.24852867,  0.15883771]), array([ 0.27162694,  0.24860563,  0.15900758]), array([ 0.2716496 ,  0.24859107,  0.15934239]), array([ 0.27067904,  0.24857166,  0.15908176]), array([ 0.27054726,  0.24869293,  0.15905656]), array([ 0.26965709,  0.24657645,  0.16015015]), array([ 0.27069718,  0.24657143,  0.16115164]), array([ 0.2696977 ,  0.24732331,  0.16162903]), array([ 0.27114122,  0.24780926,  0.16274283]), array([ 0.27092528,  0.24800875,  0.16269111]), array([ 0.2709397 ,  0.24808033,  0.16274194]), array([ 0.2708866 ,  0.24783832,  0.16284195]), array([ 0.27115496,  0.24794909,  0.1627942 ]), array([ 0.27168757,  0.24838671,  0.1629743 ]), array([ 0.27119067,  0.2481298 ,  0.16291256]), array([ 0.2708173 ,  0.24819799,  0.16281269]), array([ 0.27071344,  0.24821516,  0.16271548]), array([ 0.27114761,  0.24748081,  0.16327326]), array([ 0.27135498,  0.24793581,  0.16338957]), array([ 0.27147402,  0.24847931,  0.16334538]), array([ 0.27147265,  0.24919665,  0.16354397]), array([ 0.27143562,  0.25029237,  0.16290329]), array([ 0.27212849,  0.25057267,  0.16333251]), array([ 0.27177777,  0.24994508,  0.16353861]), array([ 0.27272317,  0.24993742,  0.16413702]), array([ 0.27236792,  0.2498106 ,  0.16400796]), array([ 0.27214836,  0.24939827,  0.16417037]), array([ 0.27191077,  0.24969182,  0.16388297]), array([ 0.27108146,  0.24964732,  0.16417505]), array([ 0.27200501,  0.25019459,  0.16466455]), array([ 0.27406352,  0.25043362,  0.16509787]), array([ 0.27401665,  0.25135002,  0.16448672]), array([ 0.2744742 ,  0.25097422,  0.1649418 ]), array([ 0.27384666,  0.2509662 ,  0.16460857]), array([ 0.27401715,  0.25079475,  0.16471682]), array([ 0.27376592,  0.25056029,  0.16468776]), array([ 0.27337154,  0.25246663,  0.1647312 ]), array([ 0.27347353,  0.25263569,  0.1651305 ]), array([ 0.27393074,  0.25293262,  0.16530401]), array([ 0.27495611,  0.25204011,  0.16593018]), array([ 0.2748665 ,  0.25245099,  0.16599954]), array([ 0.27406097,  0.25260138,  0.16629682]), array([ 0.273844  ,  0.25262816,  0.16607487]), array([ 0.27464115,  0.25265071,  0.16639809]), array([ 0.27496475,  0.25268029,  0.16661488]), array([ 0.27478162,  0.2528509 ,  0.1666366 ]), array([ 0.27452769,  0.25271393,  0.16670924]), array([ 0.27384927,  0.2526093 ,  0.16697078]), array([ 0.27421454,  0.25286652,  0.16717052]), array([ 0.27445353,  0.25299608,  0.16736252]), array([ 0.27418866,  0.25303279,  0.16721951]), array([ 0.27420783,  0.25273493,  0.16729755]), array([ 0.27387842,  0.2534837 ,  0.16722644]), array([ 0.27392847,  0.2523871 ,  0.16792451]), array([ 0.27390815,  0.25274747,  0.16784865]), array([ 0.27458717,  0.25247679,  0.16822034]), array([ 0.27378552,  0.2520518 ,  0.1685454 ]), array([ 0.27351873,  0.25187202,  0.16875652]), array([ 0.27355551,  0.25169314,  0.16865659]), array([ 0.27382886,  0.25190423,  0.16855319]), array([ 0.27405658,  0.25274976,  0.16894935]), array([ 0.27370757,  0.25274388,  0.16884097]), array([ 0.27352567,  0.25286065,  0.16881918]), array([ 0.27319656,  0.25331928,  0.16874545]), array([ 0.27262977,  0.2531458 ,  0.16857892]), array([ 0.27196938,  0.25686302,  0.16885997]), array([ 0.27444075,  0.25758131,  0.17035878]), array([ 0.27403255,  0.25771351,  0.16998919]), array([ 0.27319378,  0.25917134,  0.1702516 ]), array([ 0.27302354,  0.25871524,  0.17048661]), array([ 0.2746983 ,  0.26021597,  0.16980936]), array([ 0.27630529,  0.26078954,  0.17032427]), array([ 0.2763221 ,  0.26084042,  0.17046881]), array([ 0.27581594,  0.2607609 ,  0.17041737]), array([ 0.27539983,  0.26131702,  0.17044522]), array([ 0.27538993,  0.2618399 ,  0.17029493]), array([ 0.27561394,  0.26208898,  0.17028548]), array([ 0.2756589 ,  0.26205748,  0.17005751]), array([ 0.27573857,  0.26335383,  0.17019128]), array([ 0.27573577,  0.26338951,  0.17017422]), array([ 0.27571581,  0.26306102,  0.17042728]), array([ 0.27534742,  0.26431666,  0.17038327]), array([ 0.2755433 ,  0.26368614,  0.17095695]), array([ 0.27557584,  0.26360801,  0.17101014]), array([ 0.27458087,  0.26539134,  0.17125126]), array([ 0.27508097,  0.2663066 ,  0.17116904]), array([ 0.27501243,  0.2673824 ,  0.17140453]), array([ 0.27418196,  0.26753024,  0.17106767]), array([ 0.27418461,  0.26758886,  0.17109465]), array([ 0.27370091,  0.26733111,  0.17124036]), array([ 0.27305442,  0.26736698,  0.17118974]), array([ 0.27264073,  0.26689669,  0.17130987]), array([ 0.27248428,  0.26710546,  0.17133391]), array([ 0.27212258,  0.26694796,  0.17110433]), array([ 0.27241163,  0.26695914,  0.17070294]), array([ 0.27418803,  0.26639022,  0.17199157]), array([ 0.2739533 ,  0.26630674,  0.17190094]), array([ 0.27391517,  0.26645292,  0.17183733]), array([ 0.27368184,  0.26729164,  0.17183779]), array([ 0.2734381 ,  0.26705697,  0.17171329]), array([ 0.27345473,  0.26678075,  0.17221246]), array([ 0.27319655,  0.26678184,  0.1723278 ]), array([ 0.27305471,  0.26672009,  0.17224175]), array([ 0.2731222 ,  0.26691544,  0.17214737]), array([ 0.27345701,  0.26707768,  0.17232749]), array([ 0.27343878,  0.2671023 ,  0.17226278]), array([ 0.27332402,  0.26728622,  0.17228954]), array([ 0.27304832,  0.26730496,  0.17223749]), array([ 0.27250193,  0.26758839,  0.17180568]), array([ 0.27280326,  0.26763924,  0.17195913]), array([ 0.27218224,  0.26784796,  0.17224475]), array([ 0.27236155,  0.26809805,  0.17211711]), array([ 0.27263511,  0.26849693,  0.17227368]), array([ 0.27272327,  0.26870532,  0.17225403]), array([ 0.27271928,  0.26869398,  0.1724194 ]), array([ 0.27259305,  0.26848048,  0.17228594]), array([ 0.27284147,  0.26882072,  0.17255287]), array([ 0.27259626,  0.26886281,  0.17253022]), array([ 0.27234002,  0.26921339,  0.17257764]), array([ 0.27203797,  0.2693293 ,  0.17242446]), array([ 0.27223907,  0.26915754,  0.17218472]), array([ 0.27213477,  0.2715242 ,  0.17248402]), array([ 0.27198589,  0.27154861,  0.17241139]), array([ 0.27196234,  0.27189173,  0.17245332]), array([ 0.27182719,  0.2721041 ,  0.17258058]), array([ 0.27095497,  0.26929709,  0.1736247 ]), array([ 0.27274649,  0.27016006,  0.17491788]), array([ 0.27277727,  0.27044715,  0.17481018]), array([ 0.27291664,  0.27027775,  0.17480771]), array([ 0.27326618,  0.27030946,  0.17504815]), array([ 0.27311853,  0.27028364,  0.17501509]), array([ 0.27289884,  0.27040428,  0.17486249]), array([ 0.27249697,  0.27091668,  0.1747686 ]), array([ 0.27207727,  0.27061786,  0.17497727]), array([ 0.27292992,  0.27151404,  0.17469859]), array([ 0.27422809,  0.27138938,  0.17552454]), array([ 0.27404357,  0.27149365,  0.17555132]), array([ 0.27376723,  0.27166236,  0.17534932]), array([ 0.27380369,  0.27135244,  0.17549651]), array([ 0.27307364,  0.27038788,  0.17607644]), array([ 0.27309346,  0.27057359,  0.17611587]), array([ 0.2728608 ,  0.27064775,  0.17605008]), array([ 0.27276622,  0.2703415 ,  0.17599758]), array([ 0.2728486 ,  0.27111558,  0.17614057]), array([ 0.27254938,  0.27128572,  0.1760889 ]), array([ 0.27205827,  0.27140503,  0.17588317]), array([ 0.27184777,  0.27131412,  0.17600044]), array([ 0.2717049 ,  0.27148488,  0.17587988]), array([ 0.27132792,  0.27212502,  0.17594942]), array([ 0.27130123,  0.27254664,  0.17604526]), array([ 0.27118752,  0.27226144,  0.17591973]), array([ 0.27332064,  0.27242708,  0.17648617]), array([ 0.27369997,  0.27256439,  0.17630334]), array([ 0.27356373,  0.27275525,  0.17636269]), array([ 0.27333677,  0.27201127,  0.17664302]), array([ 0.27369324,  0.27213989,  0.17659766]), array([ 0.27354759,  0.27254692,  0.17632209]), array([ 0.27328617,  0.27265824,  0.17631057]), array([ 0.27295459,  0.27293892,  0.17635452]), array([ 0.27314511,  0.27284087,  0.17627536]), array([ 0.2736919 ,  0.27344412,  0.17693282]), array([ 0.27405169,  0.27360594,  0.17729383]), array([ 0.27312629,  0.27488492,  0.17754855]), array([ 0.27305616,  0.27531711,  0.17759547]), array([ 0.27321819,  0.27548582,  0.17757021]), array([ 0.27287587,  0.27682447,  0.17762566]), array([ 0.27316852,  0.27722099,  0.17761316]), array([ 0.27331144,  0.2769817 ,  0.17763884]), array([ 0.27341718,  0.27726765,  0.17758808]), array([ 0.27337992,  0.27726274,  0.17772439]), array([ 0.27388571,  0.27786292,  0.17717987]), array([ 0.27526115,  0.27804324,  0.17805088]), array([ 0.27563003,  0.27882744,  0.17755707]), array([ 0.27674984,  0.27803231,  0.17883623]), array([ 0.27665647,  0.27778063,  0.17936479]), array([ 0.27556409,  0.27843767,  0.17965292]), array([ 0.27521859,  0.27870843,  0.17948144]), array([ 0.27506891,  0.27883706,  0.17950862]), array([ 0.27418254,  0.28041878,  0.17962813]), array([ 0.27420166,  0.28062042,  0.17969338]), array([ 0.27411241,  0.28134148,  0.1797841 ]), array([ 0.27422573,  0.28100775,  0.17946432]), array([ 0.27338006,  0.28172013,  0.17860034]), array([ 0.27325684,  0.28235109,  0.17839124]), array([ 0.27319033,  0.28204891,  0.17828055]), array([ 0.27323329,  0.28221103,  0.17826978]), array([ 0.27380882,  0.28073883,  0.17826687]), array([ 0.27504276,  0.28044495,  0.17896474]), array([ 0.27720749,  0.28289796,  0.17789555]), array([ 0.27586844,  0.28267006,  0.17699666]), array([ 0.27621862,  0.28259888,  0.17723314]), array([ 0.27600784,  0.28297642,  0.17729016]), array([ 0.27561291,  0.28270733,  0.17754881]), array([ 0.2769488 ,  0.28403307,  0.17657966]), array([ 0.27831314,  0.2830417 ,  0.1777909 ]), array([ 0.27792716,  0.28335724,  0.17779534]), array([ 0.27754071,  0.28325414,  0.17795262]), array([ 0.27726277,  0.2835156 ,  0.17820816]), array([ 0.27736853,  0.28412346,  0.1781354 ]), array([ 0.27699416,  0.28423089,  0.1784118 ]), array([ 0.27689463,  0.28375442,  0.17863646]), array([ 0.2763942 ,  0.2839532 ,  0.17836722]), array([ 0.27586733,  0.28437086,  0.17831762]), array([ 0.27604851,  0.28452711,  0.17845098]), array([ 0.27571669,  0.2842978 ,  0.17854075]), array([ 0.27571789,  0.28454777,  0.17842136]), array([ 0.27551793,  0.28466953,  0.1783895 ]), array([ 0.27507373,  0.28481033,  0.1783838 ]), array([ 0.27486104,  0.28512857,  0.17836574]), array([ 0.27432554,  0.28489088,  0.17837752]), array([ 0.2745202 ,  0.28470182,  0.17878081]), array([ 0.27454521,  0.28450184,  0.17889665]), array([ 0.27448106,  0.28474267,  0.17904721]), array([ 0.27407933,  0.2846001 ,  0.17900765]), array([ 0.27405377,  0.28476447,  0.17896567]), array([ 0.2736256 ,  0.28607715,  0.17906174]), array([ 0.27173875,  0.286677  ,  0.17766396]), array([ 0.27137943,  0.28667959,  0.17806332]), array([ 0.27158804,  0.28681273,  0.17787157]), array([ 0.27136299,  0.28791131,  0.17842511]), array([ 0.27102723,  0.28807986,  0.17860413]), array([ 0.27080849,  0.28798004,  0.17879527]), array([ 0.27050089,  0.28756866,  0.17921221]), array([ 0.27048473,  0.28773433,  0.1792715 ]), array([ 0.27050266,  0.28754764,  0.17934211]), array([ 0.27019722,  0.28759379,  0.17927857]), array([ 0.27059973,  0.28819029,  0.1788534 ]), array([ 0.27151728,  0.28672309,  0.18003422]), array([ 0.27117322,  0.2870424 ,  0.18013903]), array([ 0.27108586,  0.28707998,  0.18022624]), array([ 0.27046074,  0.28662899,  0.1805184 ]), array([ 0.27036661,  0.28647328,  0.18046267]), array([ 0.27155854,  0.28662161,  0.18077302]), array([ 0.27152723,  0.28637789,  0.18084546]), array([ 0.27118025,  0.28629634,  0.18095081]), array([ 0.27111152,  0.28651219,  0.18074328]), array([ 0.27149641,  0.28660077,  0.18114644]), array([ 0.27090719,  0.28734676,  0.18130053]), array([ 0.27014791,  0.28760244,  0.18129623]), array([ 0.27013243,  0.2876287 ,  0.18117569]), array([ 0.26940017,  0.28914754,  0.18136682]), array([ 0.2695081 ,  0.28841955,  0.18171177]), array([ 0.26926001,  0.28880738,  0.1820188 ]), array([ 0.26924417,  0.28887022,  0.18209839]), array([ 0.26854074,  0.28857036,  0.18271552]), array([ 0.26873067,  0.28847983,  0.18330913]), array([ 0.26874956,  0.28819385,  0.18345351]), array([ 0.26879678,  0.28833752,  0.18357152]), array([ 0.2683937 ,  0.2886149 ,  0.18376115]), array([ 0.26765568,  0.2880341 ,  0.18437175]), array([ 0.26776265,  0.28839881,  0.18475568]), array([ 0.26764019,  0.2881998 ,  0.18486513]), array([ 0.26752514,  0.28855651,  0.18473024]), array([ 0.26775106,  0.28867512,  0.1850546 ]), array([ 0.26687086,  0.28991684,  0.18506982]), array([ 0.26609541,  0.28969161,  0.18500386]), array([ 0.26600411,  0.28975471,  0.18493846]), array([ 0.26635949,  0.28912105,  0.18453783]), array([ 0.26812105,  0.28983132,  0.18542709]), array([ 0.26818276,  0.28986121,  0.1854152 ]), array([ 0.26865543,  0.28975012,  0.18520685]), array([ 0.26734109,  0.29029002,  0.18438499]), array([ 0.26742398,  0.29035499,  0.18428039]), array([ 0.26746651,  0.29050803,  0.18425676]), array([ 0.26726491,  0.29131852,  0.18424938]), array([ 0.26746899,  0.29126301,  0.18459025]), array([ 0.26708287,  0.29152223,  0.18437889]), array([ 0.26719133,  0.29171427,  0.18458115]), array([ 0.26705476,  0.29184667,  0.18436822]), array([ 0.26713638,  0.29202459,  0.18426639]), array([ 0.26706787,  0.29200377,  0.18457822]), array([ 0.26696838,  0.29157974,  0.18480824]), array([ 0.26703626,  0.29218803,  0.18472215]), array([ 0.26687546,  0.2918851 ,  0.18474128]), array([ 0.26641368,  0.29288158,  0.18488376]), array([ 0.26668392,  0.29301821,  0.18497159]), array([ 0.26662275,  0.2929125 ,  0.18509387]), array([ 0.26628143,  0.2929688 ,  0.18519033]), array([ 0.26620785,  0.29339693,  0.18486388]), array([ 0.26648218,  0.2932543 ,  0.185027  ]), array([ 0.26466288,  0.2920971 ,  0.18637078]), array([ 0.2659196 ,  0.29302351,  0.18710799]), array([ 0.26574145,  0.29224036,  0.18757957]), array([ 0.26544069,  0.2924706 ,  0.18733815]), array([ 0.26463466,  0.29442327,  0.1875557 ]), array([ 0.26478704,  0.29491393,  0.18746599]), array([ 0.26424307,  0.29532615,  0.18742124]), array([ 0.26399875,  0.29531758,  0.18747874]), array([ 0.26407958,  0.29531612,  0.18739396]), array([ 0.26386337,  0.29598073,  0.18750746]), array([ 0.26431286,  0.29620664,  0.18724238]), array([ 0.26271145,  0.29562625,  0.1882798 ]), array([ 0.26289043,  0.295402  ,  0.18866993]), array([ 0.2627263 ,  0.29562964,  0.18867626]), array([ 0.26329602,  0.29547548,  0.18845567]), array([ 0.26387156,  0.29587335,  0.18860322]), array([ 0.26311954,  0.29597312,  0.18915838]), array([ 0.26301339,  0.29558893,  0.18939562]), array([ 0.26274322,  0.29585315,  0.18936491]), array([ 0.26210215,  0.29571465,  0.18977049]), array([ 0.26223363,  0.29543056,  0.19008126]), array([ 0.26185833,  0.29512722,  0.19004034]), array([ 0.26204647,  0.29529873,  0.18989483]), array([ 0.26165375,  0.29497765,  0.19032649]), array([ 0.26102975,  0.29513114,  0.19051745]), array([ 0.26066597,  0.29478177,  0.19075838]), array([ 0.25982581,  0.29620803,  0.19092742]), array([ 0.26279751,  0.29899483,  0.18870328]), array([ 0.26545614,  0.2977383 ,  0.19142373]), array([ 0.26459792,  0.29857437,  0.19158818]), array([ 0.26438963,  0.29885756,  0.19164637]), array([ 0.26461566,  0.29910214,  0.19134623]), array([ 0.26499023,  0.29878184,  0.19183722]), array([ 0.26441547,  0.29882012,  0.19205166]), array([ 0.26403251,  0.29863117,  0.19205902]), array([ 0.26433766,  0.298118  ,  0.19201234]), array([ 0.26462709,  0.29864097,  0.1919122 ]), array([ 0.26437461,  0.29842343,  0.19197616]), array([ 0.26399291,  0.29864795,  0.19199249]), array([ 0.26340033,  0.29787244,  0.19249744]), array([ 0.26317721,  0.29816975,  0.19237846]), array([ 0.26213592,  0.30046045,  0.19279642]), array([ 0.2619127 ,  0.30054447,  0.19279043]), array([ 0.26199643,  0.30070883,  0.19279067]), array([ 0.26172452,  0.30055521,  0.19289059]), array([ 0.26146272,  0.3006986 ,  0.19287467]), array([ 0.26147198,  0.30048871,  0.19298612]), array([ 0.26101131,  0.30044979,  0.19320385]), array([ 0.26070806,  0.30042155,  0.1934461 ]), array([ 0.26046298,  0.29910639,  0.19448647]), array([ 0.25998026,  0.29958775,  0.19387989]), array([ 0.2592988 ,  0.30099498,  0.1945427 ]), array([ 0.25891563,  0.3009932 ,  0.19434482]), array([ 0.25846146,  0.30085153,  0.19436771]), array([ 0.258109  ,  0.30066586,  0.19452813]), array([ 0.25770104,  0.30124345,  0.19473011]), array([ 0.25744114,  0.30112823,  0.19465497]), array([ 0.25460451,  0.30597325,  0.1960362 ]), array([ 0.2550543 ,  0.30665332,  0.1961645 ]), array([ 0.25466713,  0.30595256,  0.19627226]), array([ 0.25370748,  0.30568763,  0.19703608]), array([ 0.25329458,  0.30563684,  0.19726291]), array([ 0.25313541,  0.30555764,  0.19722692]), array([ 0.25300442,  0.30542299,  0.19742928]), array([ 0.25273696,  0.30520086,  0.19758463]), array([ 0.2525568 ,  0.30509921,  0.19758577]), array([ 0.25271453,  0.30507898,  0.19753488]), array([ 0.25277794,  0.30519554,  0.19763771]), array([ 0.25199671,  0.30426494,  0.19837085]), array([ 0.25171519,  0.30463722,  0.19836154]), array([ 0.25146335,  0.30475006,  0.19837427]), array([ 0.2514383 ,  0.30467526,  0.19840412]), array([ 0.25115997,  0.30485279,  0.19851039]), array([ 0.25085181,  0.30448566,  0.19843371]), array([ 0.24975139,  0.30609006,  0.19877657]), array([ 0.24935403,  0.30597406,  0.19887304]), array([ 0.24764717,  0.30434408,  0.20028779]), array([ 0.24816732,  0.304683  ,  0.20042712]), array([ 0.2471299 ,  0.305995  ,  0.20111526]), array([ 0.24577837,  0.30603164,  0.20179266]), array([ 0.24577602,  0.30608855,  0.20187095]), array([ 0.24544413,  0.30671115,  0.20194048]), array([ 0.24539462,  0.3067066 ,  0.20205312]), array([ 0.24439281,  0.30642483,  0.20263445]), array([ 0.24421814,  0.30658207,  0.20246539]), array([ 0.24446327,  0.30646013,  0.2026429 ]), array([ 0.24342653,  0.30797964,  0.20299573]), array([ 0.24327272,  0.30751281,  0.20351724]), array([ 0.24146482,  0.30910384,  0.20425822]), array([ 0.2404819 ,  0.30851704,  0.20444269]), array([ 0.24031815,  0.30845465,  0.20451898]), array([ 0.23956575,  0.3084552 ,  0.20544157]), array([ 0.23931773,  0.30847149,  0.20546055]), array([ 0.23589234,  0.31118655,  0.20720878]), array([ 0.23527534,  0.31120062,  0.20749893]), array([ 0.23486786,  0.31104837,  0.20764833]), array([ 0.23460191,  0.31112985,  0.20782822]), array([ 0.2355355 ,  0.30993364,  0.20907622]), array([ 0.23546812,  0.3100534 ,  0.20909608]), array([ 0.22914618,  0.3175693 ,  0.21159677]), array([ 0.23050981,  0.31914913,  0.21168356]), array([ 0.22938877,  0.31723551,  0.21342813]), array([ 0.22846501,  0.31725111,  0.21360758]), array([ 0.22740456,  0.31613328,  0.2144135 ]), array([ 0.22578832,  0.31563731,  0.21563941]), array([ 0.22562536,  0.31609631,  0.21582831]), array([ 0.22560719,  0.3160904 ,  0.21577115]), array([ 0.2236024 ,  0.31838205,  0.21645768]), array([ 0.22384667,  0.31844314,  0.21678902]), array([ 0.22369073,  0.31828737,  0.21690288]), array([ 0.22360373,  0.31851356,  0.21691392]), array([ 0.22346407,  0.31869355,  0.21681415]), array([ 0.22286791,  0.318961  ,  0.21712375]), array([ 0.22233473,  0.31882   ,  0.21735271]), array([ 0.22149175,  0.31897386,  0.21780957]), array([ 0.21753975,  0.31782843,  0.22020248]), array([ 0.21698054,  0.31751448,  0.22106365]), array([ 0.21096057,  0.32518061,  0.2233907 ]), array([ 0.21207349,  0.32632553,  0.22327896]), array([ 0.21333985,  0.32616317,  0.22433149]), array([ 0.21078611,  0.32859877,  0.22559671]), array([ 0.21108105,  0.32847012,  0.2251466 ]), array([ 0.21123523,  0.32810734,  0.22566582]), array([ 0.20793603,  0.33012583,  0.22760018]), array([ 0.20723471,  0.33072073,  0.2277144 ]), array([ 0.20621423,  0.33067206,  0.22799539]), array([ 0.20634813,  0.33068238,  0.22792692]), array([ 0.20593461,  0.33113975,  0.22833987]), array([ 0.20374745,  0.33109405,  0.22961922]), array([ 0.20293921,  0.33092431,  0.2297839 ]), array([ 0.20142428,  0.33070745,  0.23057743]), array([ 0.2008897 ,  0.33037344,  0.23051056]), array([ 0.20100518,  0.33044457,  0.23062244]), array([ 0.19559553,  0.33356471,  0.23333626]), array([ 0.19482688,  0.33337853,  0.23378847]), array([ 0.1933302 ,  0.33272785,  0.23399781]), array([ 0.18805062,  0.33360501,  0.23716128]), array([ 0.18815468,  0.33251478,  0.23772339]), array([ 0.18696083,  0.33240991,  0.23817171]), array([ 0.18577728,  0.33168533,  0.23907952]), array([ 0.18203278,  0.3315482 ,  0.24028294]), array([ 0.18155994,  0.33078774,  0.24070069]), array([ 0.1770101 ,  0.32956963,  0.24346279]), array([ 0.17565379,  0.3289186 ,  0.24371759]), array([ 0.17426055,  0.32915557,  0.24464604]), array([ 0.16662075,  0.33159808,  0.24862325]), array([ 0.1666818 ,  0.33157098,  0.24912266]), array([ 0.16083484,  0.33406077,  0.25225075]), array([ 0.16035904,  0.33266741,  0.25279444]), array([ 0.15554298,  0.33524714,  0.25517897]), array([ 0.15242664,  0.33465529,  0.25674195]), array([ 0.15166844,  0.33474858,  0.25704702]), array([ 0.14712542,  0.33835926,  0.25915921]), array([ 0.14744441,  0.33852767,  0.25893697]), array([ 0.14417569,  0.33902448,  0.26132003]), array([ 0.14372329,  0.33848441,  0.2617573 ]), array([ 0.13978534,  0.33795666,  0.26440275]), array([ 0.1386238 ,  0.33813446,  0.26515953]), array([ 0.13800896,  0.33796556,  0.26546272]), array([ 0.13721831,  0.33770498,  0.26602395]), array([ 0.1297542 ,  0.33881053,  0.27032246]), array([ 0.12840941,  0.33765915,  0.27214741]), array([ 0.12713779,  0.33737383,  0.27291058]), array([ 0.1256649 ,  0.33715476,  0.27363519]), array([ 0.12165348,  0.33849933,  0.27576961]), array([ 0.12087866,  0.33822034,  0.27593102]), array([ 0.11876831,  0.33688346,  0.27732559]), array([ 0.11843105,  0.33726752,  0.27713573]), array([ 0.11806483,  0.33716308,  0.27734121]), array([ 0.10489181,  0.34674618,  0.28373265]), array([ 0.10341548,  0.34637427,  0.28434323]), array([ 0.09938035,  0.34823984,  0.2864507 ]), array([ 0.09339522,  0.34692826,  0.29053119]), array([ 0.09310157,  0.34681281,  0.29044157]), array([ 0.08839635,  0.34954038,  0.29278484]), array([ 0.08649673,  0.34892017,  0.29409956]), array([ 0.08314415,  0.34826948,  0.29626981]), array([ 0.07892663,  0.34879757,  0.29849997]), array([ 0.07775288,  0.34891153,  0.29896738]), array([ 0.07726118,  0.34868361,  0.29930622]), array([ 0.06971327,  0.35348107,  0.30320388]), array([ 0.06721819,  0.3532025 ,  0.3044375 ]), array([ 0.06513116,  0.35216831,  0.30571419]), array([ 0.06386192,  0.35225594,  0.30640339]), array([ 0.06203763,  0.35173572,  0.30783109]), array([ 0.04199523,  0.36085659,  0.31810052]), array([ 0.04204525,  0.36018487,  0.31886748]), array([ 0.03495138,  0.35901879,  0.32449294]), array([ 0.03268463,  0.35874225,  0.32571379]), array([ 0.02372555,  0.35987075,  0.33088225]), array([ 0.02255654,  0.35855032,  0.33183376]), array([ 0.01808609,  0.35827953,  0.33452901]), array([ 0.01667176,  0.35825169,  0.33559466]), array([ 0.00950786,  0.35853779,  0.33987849]), array([ 0.00844692,  0.35824073,  0.34056444]), array([ -7.31571008e-05,   3.59798151e-01,   3.45302935e-01]), array([-0.01085324,  0.3589878 ,  0.35153235])]\n"
       ]
      },
      {
       "output_type": "stream",
       "stream": "stderr",
       "text": [
        "/usr/lib64/python2.7/site-packages/numpy/core/_methods.py:59: RuntimeWarning: Mean of empty slice.\n",
        "  warnings.warn(\"Mean of empty slice.\", RuntimeWarning)\n",
        "/usr/lib64/python2.7/site-packages/numpy/core/_methods.py:71: RuntimeWarning: invalid value encountered in double_scalars\n",
        "  ret = ret.dtype.type(ret / rcount)\n"
       ]
      },
      {
       "ename": "AttributeError",
       "evalue": "'list' object has no attribute 'mean'",
       "output_type": "pyerr",
       "traceback": [
        "\u001b[1;31m---------------------------------------------------------------------------\u001b[0m\n\u001b[1;31mAttributeError\u001b[0m                            Traceback (most recent call last)",
        "\u001b[1;32m<ipython-input-9-80daaa0feb8d>\u001b[0m in \u001b[0;36m<module>\u001b[1;34m()\u001b[0m\n\u001b[0;32m     40\u001b[0m \u001b[1;33m\u001b[0m\u001b[0m\n\u001b[0;32m     41\u001b[0m \u001b[1;32mprint\u001b[0m\u001b[1;33m(\u001b[0m\u001b[0mcoefficients\u001b[0m\u001b[1;33m)\u001b[0m\u001b[1;33m\u001b[0m\u001b[0m\n\u001b[1;32m---> 42\u001b[1;33m \u001b[1;32mprint\u001b[0m \u001b[1;33m(\u001b[0m\u001b[0mcoefficients\u001b[0m\u001b[1;33m.\u001b[0m\u001b[0mmean\u001b[0m\u001b[1;33m(\u001b[0m\u001b[1;36m0\u001b[0m\u001b[1;33m)\u001b[0m\u001b[1;33m)\u001b[0m \u001b[1;31m# the mean value across all users\u001b[0m\u001b[1;33m\u001b[0m\u001b[0m\n\u001b[0m",
        "\u001b[1;31mAttributeError\u001b[0m: 'list' object has no attribute 'mean'"
       ]
      }
     ],
     "prompt_number": 9
    },
    {
     "cell_type": "code",
     "collapsed": false,
     "input": [
      "%load stacked5.py"
     ],
     "language": "python",
     "metadata": {},
     "outputs": [],
     "prompt_number": 19
    },
    {
     "cell_type": "markdown",
     "metadata": {},
     "source": [
      "\ud558\ub098\uc758 \ucd5c\ub300 \uc720\uc0ac \uc601\ud654\uac00 \uc88b\uc740 \uc608\uce21\uae30\ub77c\uba74 5\uac1c\uc758 \ucd5c\ub300 \uc720\uc0ac \uc601\ud654\ub97c \ud559\uc2b5\uacfc\uc815\uc5d0\uc11c \uc0ac\uc6a9\ud558\uba74 \uc5b4\ub5a8\uae4c. "
     ]
    },
    {
     "cell_type": "code",
     "collapsed": false,
     "input": [
      "# This code is supporting material for the book\n",
      "# Building Machine Learning Systems with Python\n",
      "# by Willi Richert and Luis Pedro Coelho\n",
      "# published by PACKT Publishing\n",
      "#\n",
      "# It is made available under the MIT License\n",
      "\n",
      "from sklearn.linear_model import LinearRegression\n",
      "from load_ml100k import load\n",
      "import numpy as np\n",
      "import similar_movie\n",
      "import usermodel\n",
      "\n",
      "reviews = load()\n",
      "# Collect several estimates\n",
      "es = np.array([\n",
      "    usermodel.all_estimates(reviews),\n",
      "    similar_movie.all_estimates(reviews, k=1),\n",
      "    similar_movie.all_estimates(reviews, k=2),\n",
      "    similar_movie.all_estimates(reviews, k=3),\n",
      "    similar_movie.all_estimates(reviews, k=4),\n",
      "    similar_movie.all_estimates(reviews, k=5),\n",
      "])\n",
      "\n",
      "total_error = 0.0\n",
      "coefficients = []\n",
      "\n",
      "reg = LinearRegression()\n",
      "# Iterate over all users\n",
      "for u in range(reviews.shape[0]):\n",
      "    es0 = np.delete(es, u, axis=1)\n",
      "    r0 = np.delete(reviews, u, axis=0)\n",
      "    X, Y = np.where(r0 > 0)\n",
      "    X = es[:, X, Y]\n",
      "    y = r0[r0 > 0]\n",
      "    reg.fit(X.T, y)\n",
      "    coefficients.append(reg.coef_)\n",
      "\n",
      "    r0 = reviews[u]\n",
      "    X = np.where(r0 > 0)\n",
      "    p0 = reg.predict(es[:, u, X].squeeze().T)\n",
      "    err0 = r0[r0 > 0] - p0\n",
      "    total_error += np.dot(err0, err0)\n",
      "coefficients = np.array(coefficients)\n",
      "print coefficients.mean(0) # the mean value across all users\n"
     ],
     "language": "python",
     "metadata": {},
     "outputs": []
    },
    {
     "cell_type": "markdown",
     "metadata": {},
     "source": [
      "\ub370\uc774\ud130\uc758 \uacfc\uc801\ud569\ud654 \uacbd\ud5a5\uc744 \uacbd\uacc4\ud574\uc57c \ud55c\ub2e4. \uc0ac\uc2e4, \ub108\ubb34 \ub9ce\uc740 \ub370\uc774\ud130\ub97c \ubb34\uc791\uc704\ub85c \uc2dc\ub3c4\ud558\uba74 \uc77c\ubd80 \ub370\uc774\ud130\ub294 \uc798 \uc791\ub3d9\ud558\ub098 \uc77c\ubc18\ud654\ub418\uc9c0 \uc54a\ub294\ub2e4.   \n",
      "\uad50\ucc28 \uac80\uc99d\uc744 \uc0ac\uc6a9\ud55c\ub2e4\uace0 \ud558\ub354\ub77c\ub3c4 \ub514\uc790\uc778 \uacb0\uc815\uc5d0 \uad00\ud55c \uad50\ucc28 \uac80\uc99d\uc774 \uc544\ub2c8\ub2e4.   \n",
      "\uc88b\uc740 \ucd94\uc815\uae30\ub97c \ub9cc\ub4e4\uae30 \uc704\ud574\uc11c\ub294 \uc81c\ud488\uc774 \ub4e4\uc5b4\uac00\ub294 \ucd5c\uc885 \ubaa8\ub378\uc774 \ub420 \ub54c\uae4c\uc9c0 \uc190\ub300\uc9c0 \uc54a\ub294 \uc77c\ubd80 \ub370\uc774\ud130\ub97c \uadf8\ub0e5 \ub450\uc5b4\uc57c \ud55c\ub2e4.  \n",
      "\uadf8\ub798\uc57c \ubaa8\ub378\uc744 \ud14c\uc2a4\ud2b8\ud568\uc73c\ub85c\uc368 \uc2e4\uc81c \ud658\uacbd\uc5d0\uc11c \uc5b4\ub5bb\uac8c \uc798 \uc791\ub3d9\ud558\uc9c0 \ube44\ud3b8\ud5a5 \uc608\uce21\uc774 \uac00\ub2a5\ud574\uc9c4\ub2e4.  \n"
     ]
    }
   ],
   "metadata": {}
  }
 ]
}