{
 "metadata": {
  "name": "",
  "signature": "sha256:d3794715b9a9ba4b94186251c3f231343c24ec6f8c53916764ac508daa5cf99d"
 },
 "nbformat": 3,
 "nbformat_minor": 0,
 "worksheets": [
  {
   "cells": [
    {
     "cell_type": "heading",
     "level": 1,
     "metadata": {},
     "source": [
      "\ub0b4\uc7a5 \ud568\uc218"
     ]
    },
    {
     "cell_type": "code",
     "collapsed": false,
     "input": [
      "import sys\n",
      "help(sys)"
     ],
     "language": "python",
     "metadata": {},
     "outputs": [
      {
       "output_type": "stream",
       "stream": "stdout",
       "text": [
        "Help on built-in module sys:\n",
        "\n",
        "NAME\n",
        "    sys\n",
        "\n",
        "FILE\n",
        "    (built-in)\n",
        "\n",
        "MODULE DOCS\n",
        "    http://docs.python.org/library/sys\n",
        "\n",
        "DESCRIPTION\n",
        "    This module provides access to some objects used or maintained by the\n",
        "    interpreter and to functions that interact strongly with the interpreter.\n",
        "    \n",
        "    Dynamic objects:\n",
        "    \n",
        "    argv -- command line arguments; argv[0] is the script pathname if known\n",
        "    path -- module search path; path[0] is the script directory, else ''\n",
        "    modules -- dictionary of loaded modules\n",
        "    \n",
        "    displayhook -- called to show results in an interactive session\n",
        "    excepthook -- called to handle any uncaught exception other than SystemExit\n",
        "      To customize printing in an interactive session or to install a custom\n",
        "      top-level exception handler, assign other functions to replace these.\n",
        "    \n",
        "    exitfunc -- if sys.exitfunc exists, this routine is called when Python exits\n",
        "      Assigning to sys.exitfunc is deprecated; use the atexit module instead.\n",
        "    \n",
        "    stdin -- standard input file object; used by raw_input() and input()\n",
        "    stdout -- standard output file object; used by the print statement\n",
        "    stderr -- standard error object; used for error messages\n",
        "      By assigning other file objects (or objects that behave like files)\n",
        "      to these, it is possible to redirect all of the interpreter's I/O.\n",
        "    \n",
        "    last_type -- type of last uncaught exception\n",
        "    last_value -- value of last uncaught exception\n",
        "    last_traceback -- traceback of last uncaught exception\n",
        "      These three are only available in an interactive session after a\n",
        "      traceback has been printed.\n",
        "    \n",
        "    exc_type -- type of exception currently being handled\n",
        "    exc_value -- value of exception currently being handled\n",
        "    exc_traceback -- traceback of exception currently being handled\n",
        "      The function exc_info() should be used instead of these three,\n",
        "      because it is thread-safe.\n",
        "    \n",
        "    Static objects:\n",
        "    \n",
        "    float_info -- a dict with information about the float inplementation.\n",
        "    long_info -- a struct sequence with information about the long implementation.\n",
        "    maxint -- the largest supported integer (the smallest is -maxint-1)\n",
        "    maxsize -- the largest supported length of containers.\n",
        "    maxunicode -- the largest supported character\n",
        "    builtin_module_names -- tuple of module names built into this interpreter\n",
        "    version -- the version of this interpreter as a string\n",
        "    version_info -- version information as a named tuple\n",
        "    hexversion -- version information encoded as a single integer\n",
        "    copyright -- copyright notice pertaining to this interpreter\n",
        "    platform -- platform identifier\n",
        "    executable -- absolute path of the executable binary of the Python interpreter\n",
        "    prefix -- prefix used to find the Python library\n",
        "    exec_prefix -- prefix used to find the machine-specific Python library\n",
        "    float_repr_style -- string indicating the style of repr() output for floats\n",
        "    __stdin__ -- the original stdin; don't touch!\n",
        "    __stdout__ -- the original stdout; don't touch!\n",
        "    __stderr__ -- the original stderr; don't touch!\n",
        "    __displayhook__ -- the original displayhook; don't touch!\n",
        "    __excepthook__ -- the original excepthook; don't touch!\n",
        "    \n",
        "    Functions:\n",
        "    \n",
        "    displayhook() -- print an object to the screen, and save it in __builtin__._\n",
        "    excepthook() -- print an exception and its traceback to sys.stderr\n",
        "    exc_info() -- return thread-safe information about the current exception\n",
        "    exc_clear() -- clear the exception state for the current thread\n",
        "    exit() -- exit the interpreter by raising SystemExit\n",
        "    getdlopenflags() -- returns flags to be used for dlopen() calls\n",
        "    getprofile() -- get the global profiling function\n",
        "    getrefcount() -- return the reference count for an object (plus one :-)\n",
        "    getrecursionlimit() -- return the max recursion depth for the interpreter\n",
        "    getsizeof() -- return the size of an object in bytes\n",
        "    gettrace() -- get the global debug tracing function\n",
        "    setcheckinterval() -- control how often the interpreter checks for events\n",
        "    setdlopenflags() -- set the flags to be used for dlopen() calls\n",
        "    setprofile() -- set the global profiling function\n",
        "    setrecursionlimit() -- set the max recursion depth for the interpreter\n",
        "    settrace() -- set the global debug tracing function\n",
        "\n",
        "FUNCTIONS\n",
        "    __displayhook__ = displayhook(...)\n",
        "        displayhook(object) -> None\n",
        "        \n",
        "        Print an object to sys.stdout and also save it in __builtin__._\n",
        "    \n",
        "    __excepthook__ = excepthook(...)\n",
        "        excepthook(exctype, value, traceback) -> None\n",
        "        \n",
        "        Handle an exception by displaying it with a traceback on sys.stderr.\n",
        "    \n",
        "    call_tracing(...)\n",
        "        call_tracing(func, args) -> object\n",
        "        \n",
        "        Call func(*args), while tracing is enabled.  The tracing state is\n",
        "        saved, and restored afterwards.  This is intended to be called from\n",
        "        a debugger from a checkpoint, to recursively debug some other code.\n",
        "    \n",
        "    callstats(...)\n",
        "        callstats() -> tuple of integers\n",
        "        \n",
        "        Return a tuple of function call statistics, if CALL_PROFILE was defined\n",
        "        when Python was built.  Otherwise, return None.\n",
        "        \n",
        "        When enabled, this function returns detailed, implementation-specific\n",
        "        details about the number of function calls executed. The return value is\n",
        "        a 11-tuple where the entries in the tuple are counts of:\n",
        "        0. all function calls\n",
        "        1. calls to PyFunction_Type objects\n",
        "        2. PyFunction calls that do not create an argument tuple\n",
        "        3. PyFunction calls that do not create an argument tuple\n",
        "           and bypass PyEval_EvalCodeEx()\n",
        "        4. PyMethod calls\n",
        "        5. PyMethod calls on bound methods\n",
        "        6. PyType calls\n",
        "        7. PyCFunction calls\n",
        "        8. generator calls\n",
        "        9. All other calls\n",
        "        10. Number of stack pops performed by call_function()\n",
        "    \n",
        "    exc_clear(...)\n",
        "        exc_clear() -> None\n",
        "        \n",
        "        Clear global information on the current exception.  Subsequent calls to\n",
        "        exc_info() will return (None,None,None) until another exception is raised\n",
        "        in the current thread or the execution stack returns to a frame where\n",
        "        another exception is being handled.\n",
        "    \n",
        "    exc_info(...)\n",
        "        exc_info() -> (type, value, traceback)\n",
        "        \n",
        "        Return information about the most recent exception caught by an except\n",
        "        clause in the current stack frame or in an older stack frame.\n",
        "    \n",
        "    exit(...)\n",
        "        exit([status])\n",
        "        \n",
        "        Exit the interpreter by raising SystemExit(status).\n",
        "        If the status is omitted or None, it defaults to zero (i.e., success).\n",
        "        If the status is an integer, it will be used as the system exit status.\n",
        "        If it is another kind of object, it will be printed and the system\n",
        "        exit status will be one (i.e., failure).\n",
        "    \n",
        "    getcheckinterval(...)\n",
        "        getcheckinterval() -> current check interval; see setcheckinterval().\n",
        "    \n",
        "    getdefaultencoding(...)\n",
        "        getdefaultencoding() -> string\n",
        "        \n",
        "        Return the current default string encoding used by the Unicode \n",
        "        implementation.\n",
        "    \n",
        "    getdlopenflags(...)\n",
        "        getdlopenflags() -> int\n",
        "        \n",
        "        Return the current value of the flags that are used for dlopen calls.\n",
        "        The flag constants are defined in the ctypes and DLFCN modules.\n",
        "    \n",
        "    getfilesystemencoding(...)\n",
        "        getfilesystemencoding() -> string\n",
        "        \n",
        "        Return the encoding used to convert Unicode filenames in\n",
        "        operating system filenames.\n",
        "    \n",
        "    getprofile(...)\n",
        "        getprofile()\n",
        "        \n",
        "        Return the profiling function set with sys.setprofile.\n",
        "        See the profiler chapter in the library manual.\n",
        "    \n",
        "    getrecursionlimit(...)\n",
        "        getrecursionlimit()\n",
        "        \n",
        "        Return the current value of the recursion limit, the maximum depth\n",
        "        of the Python interpreter stack.  This limit prevents infinite\n",
        "        recursion from causing an overflow of the C stack and crashing Python.\n",
        "    \n",
        "    getrefcount(...)\n",
        "        getrefcount(object) -> integer\n",
        "        \n",
        "        Return the reference count of object.  The count returned is generally\n",
        "        one higher than you might expect, because it includes the (temporary)\n",
        "        reference as an argument to getrefcount().\n",
        "    \n",
        "    getsizeof(...)\n",
        "        getsizeof(object, default) -> int\n",
        "        \n",
        "        Return the size of object in bytes.\n",
        "    \n",
        "    gettrace(...)\n",
        "        gettrace()\n",
        "        \n",
        "        Return the global debug tracing function set with sys.settrace.\n",
        "        See the debugger chapter in the library manual.\n",
        "    \n",
        "    setcheckinterval(...)\n",
        "        setcheckinterval(n)\n",
        "        \n",
        "        Tell the Python interpreter to check for asynchronous events every\n",
        "        n instructions.  This also affects how often thread switches occur.\n",
        "    \n",
        "    setdlopenflags(...)\n",
        "        setdlopenflags(n) -> None\n",
        "        \n",
        "        Set the flags used by the interpreter for dlopen calls, such as when the\n",
        "        interpreter loads extension modules.  Among other things, this will enable\n",
        "        a lazy resolving of symbols when importing a module, if called as\n",
        "        sys.setdlopenflags(0).  To share symbols across extension modules, call as\n",
        "        sys.setdlopenflags(ctypes.RTLD_GLOBAL).  Symbolic names for the flag modules\n",
        "        can be either found in the ctypes module, or in the DLFCN module. If DLFCN\n",
        "        is not available, it can be generated from /usr/include/dlfcn.h using the\n",
        "        h2py script.\n",
        "    \n",
        "    setprofile(...)\n",
        "        setprofile(function)\n",
        "        \n",
        "        Set the profiling function.  It will be called on each function call\n",
        "        and return.  See the profiler chapter in the library manual.\n",
        "    \n",
        "    setrecursionlimit(...)\n",
        "        setrecursionlimit(n)\n",
        "        \n",
        "        Set the maximum depth of the Python interpreter stack to n.  This\n",
        "        limit prevents infinite recursion from causing an overflow of the C\n",
        "        stack and crashing Python.  The highest possible limit is platform-\n",
        "        dependent.\n",
        "    \n",
        "    settrace(...)\n",
        "        settrace(function)\n",
        "        \n",
        "        Set the global debug tracing function.  It will be called on each\n",
        "        function call.  See the debugger chapter in the library manual.\n",
        "\n",
        "DATA\n",
        "    __stderr__ = <open file '<stderr>', mode 'w'>\n",
        "    __stdin__ = <open file '<stdin>', mode 'r'>\n",
        "    __stdout__ = <open file '<stdout>', mode 'w'>\n",
        "    api_version = 1013\n",
        "    argv = ['-c', '-f', '/Users/bage/.ipython/profile_default/security/ker...\n",
        "    builtin_module_names = ('__builtin__', '__main__', '_ast', '_codecs', ...\n",
        "    byteorder = 'little'\n",
        "    copyright = 'Copyright (c) 2001-2014 Python Software Foundati...ematis...\n",
        "    displayhook = <IPython.kernel.zmq.displayhook.ZMQShellDisplayHook obje...\n",
        "    dont_write_bytecode = False\n",
        "    exc_value = TypeError(\"<module 'sys' (built-in)> is a built-in module\"...\n",
        "    exec_prefix = '/Users/bage/anaconda'\n",
        "    executable = '/Users/bage/anaconda/bin/python'\n",
        "    flags = sys.flags(debug=0, py3k_warning=0, division_warn...unicode=0, ...\n",
        "    float_info = sys.float_info(max=1.7976931348623157e+308, max_...epsilo...\n",
        "    float_repr_style = 'short'\n",
        "    hexversion = 34015472\n",
        "    last_value = SyntaxError('invalid syntax', ('<ipython-input-3-a4328ea8...\n",
        "    long_info = sys.long_info(bits_per_digit=30, sizeof_digit=4)\n",
        "    maxint = 9223372036854775807\n",
        "    maxsize = 9223372036854775807\n",
        "    maxunicode = 65535\n",
        "    meta_path = []\n",
        "    modules = {'ConfigParser': <module 'ConfigParser' from '/Users/bage/an...\n",
        "    path = ['', '/Users/bage/workspace/BagePyUtil', '/usr/local/lib/python...\n",
        "    path_hooks = [<type 'zipimport.zipimporter'>]\n",
        "    path_importer_cache = {'': None, '/Users/bage/.ipython/extensions': No...\n",
        "    platform = 'darwin'\n",
        "    prefix = '/Users/bage/anaconda'\n",
        "    ps1 = 'In : '\n",
        "    ps2 = '...: '\n",
        "    ps3 = 'Out: '\n",
        "    py3kwarning = False\n",
        "    stderr = <IPython.kernel.zmq.iostream.OutStream object>\n",
        "    stdin = <open file '<stdin>', mode 'r'>\n",
        "    stdout = <IPython.kernel.zmq.iostream.OutStream object>\n",
        "    subversion = ('CPython', '', '')\n",
        "    version = '2.7.8 |Anaconda 2.1.0 (x86_64)| (default, Aug 21...4, 15:21...\n",
        "    version_info = sys.version_info(major=2, minor=7, micro=8, releaseleve...\n",
        "    warnoptions = []\n",
        "\n",
        "\n",
        "Help on built-in function exit in module sys:\n",
        "\n",
        "exit(...)\n",
        "    exit([status])\n",
        "    \n",
        "    Exit the interpreter by raising SystemExit(status).\n",
        "    If the status is omitted or None, it defaults to zero (i.e., success).\n",
        "    If the status is an integer, it will be used as the system exit status.\n",
        "    If it is another kind of object, it will be printed and the system\n",
        "    exit status will be one (i.e., failure).\n",
        "\n"
       ]
      }
     ],
     "prompt_number": 7
    },
    {
     "cell_type": "code",
     "collapsed": false,
     "input": [
      "import sys\n",
      "help(sys.exit)"
     ],
     "language": "python",
     "metadata": {},
     "outputs": [
      {
       "output_type": "stream",
       "stream": "stdout",
       "text": [
        "Help on built-in function exit in module sys:\n",
        "\n",
        "exit(...)\n",
        "    exit([status])\n",
        "    \n",
        "    Exit the interpreter by raising SystemExit(status).\n",
        "    If the status is omitted or None, it defaults to zero (i.e., success).\n",
        "    If the status is an integer, it will be used as the system exit status.\n",
        "    If it is another kind of object, it will be printed and the system\n",
        "    exit status will be one (i.e., failure).\n",
        "\n"
       ]
      }
     ],
     "prompt_number": 13
    },
    {
     "cell_type": "code",
     "collapsed": false,
     "input": [
      "import sys\n",
      "dir(sys)"
     ],
     "language": "python",
     "metadata": {},
     "outputs": [
      {
       "metadata": {},
       "output_type": "pyout",
       "prompt_number": 12,
       "text": [
        "['__displayhook__',\n",
        " '__doc__',\n",
        " '__excepthook__',\n",
        " '__name__',\n",
        " '__package__',\n",
        " '__stderr__',\n",
        " '__stdin__',\n",
        " '__stdout__',\n",
        " '_clear_type_cache',\n",
        " '_current_frames',\n",
        " '_getframe',\n",
        " '_mercurial',\n",
        " 'api_version',\n",
        " 'argv',\n",
        " 'builtin_module_names',\n",
        " 'byteorder',\n",
        " 'call_tracing',\n",
        " 'callstats',\n",
        " 'copyright',\n",
        " 'displayhook',\n",
        " 'dont_write_bytecode',\n",
        " 'exc_clear',\n",
        " 'exc_info',\n",
        " 'exc_type',\n",
        " 'excepthook',\n",
        " 'exec_prefix',\n",
        " 'executable',\n",
        " 'exit',\n",
        " 'exitfunc',\n",
        " 'flags',\n",
        " 'float_info',\n",
        " 'float_repr_style',\n",
        " 'getcheckinterval',\n",
        " 'getdefaultencoding',\n",
        " 'getdlopenflags',\n",
        " 'getfilesystemencoding',\n",
        " 'getprofile',\n",
        " 'getrecursionlimit',\n",
        " 'getrefcount',\n",
        " 'getsizeof',\n",
        " 'gettrace',\n",
        " 'hexversion',\n",
        " 'last_traceback',\n",
        " 'last_type',\n",
        " 'last_value',\n",
        " 'long_info',\n",
        " 'maxint',\n",
        " 'maxsize',\n",
        " 'maxunicode',\n",
        " 'meta_path',\n",
        " 'modules',\n",
        " 'path',\n",
        " 'path_hooks',\n",
        " 'path_importer_cache',\n",
        " 'platform',\n",
        " 'prefix',\n",
        " 'ps1',\n",
        " 'ps2',\n",
        " 'ps3',\n",
        " 'py3kwarning',\n",
        " 'setcheckinterval',\n",
        " 'setdlopenflags',\n",
        " 'setprofile',\n",
        " 'setrecursionlimit',\n",
        " 'settrace',\n",
        " 'stderr',\n",
        " 'stdin',\n",
        " 'stdout',\n",
        " 'subversion',\n",
        " 'version',\n",
        " 'version_info',\n",
        " 'warnoptions']"
       ]
      }
     ],
     "prompt_number": 12
    },
    {
     "cell_type": "code",
     "collapsed": false,
     "input": [
      "import sys\n",
      "print '1'\n",
      "sys.exit()\n",
      "print '2'"
     ],
     "language": "python",
     "metadata": {},
     "outputs": [
      {
       "output_type": "stream",
       "stream": "stdout",
       "text": [
        "1\n"
       ]
      },
      {
       "ename": "SystemExit",
       "evalue": "",
       "output_type": "pyerr",
       "traceback": [
        "An exception has occurred, use %tb to see the full traceback.\n",
        "\u001b[0;31mSystemExit\u001b[0m\n"
       ]
      },
      {
       "output_type": "stream",
       "stream": "stderr",
       "text": [
        "To exit: use 'exit', 'quit', or Ctrl-D.\n"
       ]
      }
     ],
     "prompt_number": 3
    },
    {
     "cell_type": "heading",
     "level": 1,
     "metadata": {},
     "source": [
      "\uc0ac\uce59 \uc5f0\uc0b0"
     ]
    },
    {
     "cell_type": "code",
     "collapsed": false,
     "input": [
      "print 1+2\n",
      "print 1-2"
     ],
     "language": "python",
     "metadata": {},
     "outputs": [
      {
       "output_type": "stream",
       "stream": "stdout",
       "text": [
        "3\n",
        "-1\n"
       ]
      }
     ],
     "prompt_number": 15
    },
    {
     "cell_type": "code",
     "collapsed": false,
     "input": [
      "print 3*9\n",
      "print 2**4"
     ],
     "language": "python",
     "metadata": {},
     "outputs": [
      {
       "output_type": "stream",
       "stream": "stdout",
       "text": [
        "27\n",
        "16\n"
       ]
      }
     ],
     "prompt_number": 16
    },
    {
     "cell_type": "code",
     "collapsed": false,
     "input": [
      "print 3/2.4\n",
      "print 3/2"
     ],
     "language": "python",
     "metadata": {},
     "outputs": [
      {
       "output_type": "stream",
       "stream": "stdout",
       "text": [
        "1.25\n",
        "1\n"
       ]
      }
     ],
     "prompt_number": 14
    },
    {
     "cell_type": "code",
     "collapsed": false,
     "input": [
      "print 5%3"
     ],
     "language": "python",
     "metadata": {},
     "outputs": [
      {
       "output_type": "stream",
       "stream": "stdout",
       "text": [
        "2\n"
       ]
      }
     ],
     "prompt_number": 6
    },
    {
     "cell_type": "heading",
     "level": 1,
     "metadata": {},
     "source": [
      "\ubb38\uc7a5 \ubc0f print"
     ]
    },
    {
     "cell_type": "code",
     "collapsed": false,
     "input": [
      "a=1; b=2; c=a+b; print c"
     ],
     "language": "python",
     "metadata": {},
     "outputs": [
      {
       "output_type": "stream",
       "stream": "stdout",
       "text": [
        "3\n"
       ]
      }
     ],
     "prompt_number": 9
    },
    {
     "cell_type": "code",
     "collapsed": false,
     "input": [
      "print 'a' \\\n",
      "'b'"
     ],
     "language": "python",
     "metadata": {},
     "outputs": [
      {
       "output_type": "stream",
       "stream": "stdout",
       "text": [
        "ab\n"
       ]
      }
     ],
     "prompt_number": 10
    },
    {
     "cell_type": "code",
     "collapsed": false,
     "input": [
      "a='python'\n",
      "b='study'\n",
      "print a\n",
      "print(a)\n",
      "print a,b"
     ],
     "language": "python",
     "metadata": {},
     "outputs": [
      {
       "output_type": "stream",
       "stream": "stdout",
       "text": [
        "python\n",
        "python\n",
        "python study\n"
       ]
      }
     ],
     "prompt_number": 11
    },
    {
     "cell_type": "heading",
     "level": 1,
     "metadata": {},
     "source": [
      "4. \uc790\ub8cc\ud615"
     ]
    },
    {
     "cell_type": "code",
     "collapsed": false,
     "input": [
      "a=123\n",
      "print type(a), a\n",
      "a=12345678901234567890123456789012345678901234567890012345678900123456789001234567890012345678900123456789001234567890\n",
      "print type(a), a\n",
      "import sys\n",
      "print sys.maxint, type(sys.maxint)\n",
      "print sys.maxint*(-1), type(sys.maxint*(-1))\n",
      "print sys.maxint+1, type(sys.maxint+1)\n",
      "print sys.maxint*(-1)-2, type(sys.maxint*(-1)-2)"
     ],
     "language": "python",
     "metadata": {},
     "outputs": [
      {
       "output_type": "stream",
       "stream": "stdout",
       "text": [
        "<type 'int'> 123\n",
        "<type 'long'> 12345678901234567890123456789012345678901234567890012345678900123456789001234567890012345678900123456789001234567890\n",
        "9223372036854775807 <type 'int'>\n",
        "-9223372036854775807 <type 'int'>\n",
        "9223372036854775808 <type 'long'>\n",
        "-9223372036854775809 <type 'long'>\n"
       ]
      }
     ],
     "prompt_number": 12
    },
    {
     "cell_type": "code",
     "collapsed": false,
     "input": [
      "a=1.2\n",
      "print type(a), a\n",
      "a=1e10\n",
      "print type(a), a\n",
      "a=1e100\n",
      "print type(a), a\n",
      "a=1e1000\n",
      "print type(a), a"
     ],
     "language": "python",
     "metadata": {},
     "outputs": [
      {
       "output_type": "stream",
       "stream": "stdout",
       "text": [
        "<type 'float'> 1.2\n",
        "<type 'float'> 10000000000.0\n",
        "<type 'float'> 1e+100\n",
        "<type 'float'> inf\n"
       ]
      }
     ],
     "prompt_number": 13
    },
    {
     "cell_type": "code",
     "collapsed": false,
     "input": [
      "a='123'\n",
      "print type(a), a"
     ],
     "language": "python",
     "metadata": {},
     "outputs": [
      {
       "output_type": "stream",
       "stream": "stdout",
       "text": [
        "<type 'str'> 123\n"
       ]
      }
     ],
     "prompt_number": 14
    },
    {
     "cell_type": "code",
     "collapsed": false,
     "input": [
      "a=u'123'\n",
      "print type(a), a"
     ],
     "language": "python",
     "metadata": {},
     "outputs": [
      {
       "output_type": "stream",
       "stream": "stdout",
       "text": [
        "<type 'unicode'> 123\n"
       ]
      }
     ],
     "prompt_number": 15
    },
    {
     "cell_type": "heading",
     "level": 1,
     "metadata": {},
     "source": [
      "4. \uc790\ub8cc\ud615-\ubb38\uc790\uc5f4"
     ]
    },
    {
     "cell_type": "code",
     "collapsed": false,
     "input": [
      "print \"a\"\n",
      "print 'a'\n",
      "print \"\"\"My girl's name is happy.\"\"\"\n",
      "print '''He said that \"I am happy.\"'''"
     ],
     "language": "python",
     "metadata": {},
     "outputs": [
      {
       "output_type": "stream",
       "stream": "stdout",
       "text": [
        "a\n",
        "a\n",
        "My girl's name is happy.\n",
        "He said that \"I am happy.\"\n"
       ]
      }
     ],
     "prompt_number": 17
    },
    {
     "cell_type": "code",
     "collapsed": false,
     "input": [
      "print '1\\t2_\\'\\\"\\n_next line'\n",
      "print '-----------------------'\n",
      "print r'1\\t2_\\'\\\"\\n_next line'"
     ],
     "language": "python",
     "metadata": {},
     "outputs": [
      {
       "output_type": "stream",
       "stream": "stdout",
       "text": [
        "1\t2_'\"\n",
        "_next line\n",
        "-----------------------\n",
        "1\\t2_\\'\\\"\\n_next line\n"
       ]
      }
     ],
     "prompt_number": 18
    },
    {
     "cell_type": "code",
     "collapsed": false,
     "input": [
      "print 'a' 'b'\n",
      "print 'a'+'b'\n",
      "print 'a%s' % 'b'\n",
      "s='a'\n",
      "s+='b'\n",
      "print s"
     ],
     "language": "python",
     "metadata": {},
     "outputs": [
      {
       "output_type": "stream",
       "stream": "stdout",
       "text": [
        "ab\n",
        "ab\n",
        "ab\n",
        "ab\n"
       ]
      }
     ],
     "prompt_number": 18
    },
    {
     "cell_type": "heading",
     "level": 1,
     "metadata": {},
     "source": [
      "4. \uc790\ub8cc\ud615-\ubb38\uc790\uc5f4-Indexing & Slicing"
     ]
    },
    {
     "cell_type": "code",
     "collapsed": false,
     "input": [
      "s='0123456789'\n",
      "print s[:]\n",
      "print s[0:]"
     ],
     "language": "python",
     "metadata": {},
     "outputs": [
      {
       "output_type": "stream",
       "stream": "stdout",
       "text": [
        "0123456789\n",
        "0123456789\n"
       ]
      }
     ],
     "prompt_number": 19
    },
    {
     "cell_type": "code",
     "collapsed": false,
     "input": [
      "s='0123456789'\n",
      "print s[0:1]\n",
      "print s[0:2]\n",
      "print s[0:3]"
     ],
     "language": "python",
     "metadata": {},
     "outputs": [
      {
       "output_type": "stream",
       "stream": "stdout",
       "text": [
        "0\n",
        "01\n",
        "012\n"
       ]
      }
     ],
     "prompt_number": 20
    },
    {
     "cell_type": "code",
     "collapsed": false,
     "input": [
      "s='0123456789'\n",
      "print s[:-1]\n",
      "print s[:-2]\n",
      "print s[:-3]"
     ],
     "language": "python",
     "metadata": {},
     "outputs": [
      {
       "output_type": "stream",
       "stream": "stdout",
       "text": [
        "012345678\n",
        "01234567\n",
        "0123456\n"
       ]
      }
     ],
     "prompt_number": 21
    },
    {
     "cell_type": "code",
     "collapsed": false,
     "input": [
      "s='0123456789'\n",
      "print s[0], s[0:1]\n",
      "print s[1], s[1:2]\n",
      "print s[2], s[2:3]\n",
      "print s[-0]\n",
      "print s[-1], s[-1:]\n",
      "print s[-2], s[-2:-1]\n",
      "print s[-3], s[-3:-2]"
     ],
     "language": "python",
     "metadata": {},
     "outputs": [
      {
       "output_type": "stream",
       "stream": "stdout",
       "text": [
        "0 0\n",
        "1 1\n",
        "2 2\n",
        "0\n",
        "9 9\n",
        "8 8\n",
        "7 7\n"
       ]
      }
     ],
     "prompt_number": 22
    },
    {
     "cell_type": "code",
     "collapsed": false,
     "input": [
      "s='0123456789'\n",
      "# s[9]='z'\n",
      "print s"
     ],
     "language": "python",
     "metadata": {},
     "outputs": [
      {
       "output_type": "stream",
       "stream": "stdout",
       "text": [
        "0123456789\n"
       ]
      }
     ],
     "prompt_number": 23
    },
    {
     "cell_type": "code",
     "collapsed": false,
     "input": [
      "s='0123456789'\n",
      "s2=s\n",
      "print id(s), id(s2)\n",
      "# s2[9]='z'\n",
      "print s2"
     ],
     "language": "python",
     "metadata": {},
     "outputs": [
      {
       "output_type": "stream",
       "stream": "stdout",
       "text": [
        "4333439712 4333439712\n",
        "0123456789\n"
       ]
      }
     ],
     "prompt_number": 24
    },
    {
     "cell_type": "code",
     "collapsed": false,
     "input": [
      "s='0123456789'\n",
      "s2=list(s2)\n",
      "print id(s), id(s2)\n",
      "print type(s), type(s2)\n",
      "s2[9]='z'\n",
      "s3=''.join(s2)\n",
      "print s3"
     ],
     "language": "python",
     "metadata": {},
     "outputs": [
      {
       "output_type": "stream",
       "stream": "stdout",
       "text": [
        "4333439712 4404721064\n",
        "<type 'str'> <type 'list'>\n",
        "012345678z\n"
       ]
      }
     ],
     "prompt_number": 25
    },
    {
     "cell_type": "heading",
     "level": 1,
     "metadata": {},
     "source": [
      "4. \uc790\ub8cc\ud615-\ubb38\uc790\uc5f4-formatting"
     ]
    },
    {
     "cell_type": "code",
     "collapsed": false,
     "input": [
      "print 'This is %s %s.' % ('Python', 'Study')\n",
      "s='0123456789'\n",
      "print '%s len=%d' % (s, len(s))"
     ],
     "language": "python",
     "metadata": {},
     "outputs": [
      {
       "output_type": "stream",
       "stream": "stdout",
       "text": [
        "This is Python Study.\n",
        "0123456789 len=10\n"
       ]
      }
     ],
     "prompt_number": 26
    },
    {
     "cell_type": "code",
     "collapsed": false,
     "input": [
      "print '%s' % 5.1234\n",
      "print '%f' % 5.1234\n",
      "print '%.1f' % 5.1234\n",
      "print '%d' % 5.1234"
     ],
     "language": "python",
     "metadata": {},
     "outputs": [
      {
       "output_type": "stream",
       "stream": "stdout",
       "text": [
        "5.1234\n",
        "5.123400\n",
        "5.1\n",
        "5\n"
       ]
      }
     ],
     "prompt_number": 27
    },
    {
     "cell_type": "heading",
     "level": 1,
     "metadata": {},
     "source": [
      "4. \uc790\ub8cc\ud615-\ubb38\uc790\uc5f4-functions"
     ]
    },
    {
     "cell_type": "code",
     "collapsed": false,
     "input": [
      "s='python'\n",
      "print s.upper()\n",
      "s='PYTHON'\n",
      "print s.lower()\n",
      "print s.replace('YTHON', 'ython')"
     ],
     "language": "python",
     "metadata": {},
     "outputs": [
      {
       "output_type": "stream",
       "stream": "stdout",
       "text": [
        "PYTHON\n",
        "python\n",
        "Python\n"
       ]
      }
     ],
     "prompt_number": 28
    },
    {
     "cell_type": "code",
     "collapsed": false,
     "input": [
      "s='I am a student          '\n",
      "print s, '.'\n",
      "print s.strip(), '.'\n",
      "print s.rstrip(), '.'"
     ],
     "language": "python",
     "metadata": {},
     "outputs": [
      {
       "output_type": "stream",
       "stream": "stdout",
       "text": [
        "I am a student           .\n",
        "I am a student .\n",
        "I am a student .\n"
       ]
      }
     ],
     "prompt_number": 29
    },
    {
     "cell_type": "heading",
     "level": 1,
     "metadata": {},
     "source": [
      "4. \uc790\ub8cc\ud615-list & tuple"
     ]
    },
    {
     "cell_type": "code",
     "collapsed": false,
     "input": [
      "a=list()\n",
      "a.append(1)\n",
      "print a\n",
      "a.append(2)\n",
      "print a\n",
      "a[0]=9\n",
      "print a"
     ],
     "language": "python",
     "metadata": {},
     "outputs": [
      {
       "output_type": "stream",
       "stream": "stdout",
       "text": [
        "[1]\n",
        "[1, 2]\n",
        "[9, 2]\n"
       ]
      }
     ],
     "prompt_number": 30
    },
    {
     "cell_type": "code",
     "collapsed": false,
     "input": [
      "a=tuple()\n",
      "# a.append(1)\n",
      "print a"
     ],
     "language": "python",
     "metadata": {},
     "outputs": [
      {
       "output_type": "stream",
       "stream": "stdout",
       "text": [
        "()\n"
       ]
      }
     ],
     "prompt_number": 31
    },
    {
     "cell_type": "code",
     "collapsed": false,
     "input": [
      "a=list()\n",
      "print type(a), a\n",
      "a=[]\n",
      "print type(a), a\n",
      "a=[1,2,3]\n",
      "print type(a), a\n",
      "a=tuple([])\n",
      "print type(a), a"
     ],
     "language": "python",
     "metadata": {},
     "outputs": [
      {
       "output_type": "stream",
       "stream": "stdout",
       "text": [
        "<type 'list'> []\n",
        "<type 'list'> []\n",
        "<type 'list'> [1, 2, 3]\n",
        "<type 'tuple'> ()\n"
       ]
      }
     ],
     "prompt_number": 32
    },
    {
     "cell_type": "code",
     "collapsed": false,
     "input": [
      "a=list()\n",
      "a=tuple(a)\n",
      "print type(a), a\n",
      "b=tuple()\n",
      "b=list(b)\n",
      "print type(b), b\n",
      "print id(a), id(b)"
     ],
     "language": "python",
     "metadata": {},
     "outputs": [
      {
       "output_type": "stream",
       "stream": "stdout",
       "text": [
        "<type 'tuple'> ()\n",
        "<type 'list'> []\n",
        "4297662544 4405298456\n"
       ]
      }
     ],
     "prompt_number": 33
    },
    {
     "cell_type": "code",
     "collapsed": false,
     "input": [
      "a=[1,2,3]\n",
      "b=[4,5,]\n",
      "c=a+b\n",
      "print type(c), c"
     ],
     "language": "python",
     "metadata": {},
     "outputs": [
      {
       "output_type": "stream",
       "stream": "stdout",
       "text": [
        "<type 'list'> [1, 2, 3, 4, 5]\n"
       ]
      }
     ],
     "prompt_number": 34
    },
    {
     "cell_type": "code",
     "collapsed": false,
     "input": [
      "a=[0]\n",
      "b=a*10\n",
      "print type(b), b"
     ],
     "language": "python",
     "metadata": {},
     "outputs": [
      {
       "output_type": "stream",
       "stream": "stdout",
       "text": [
        "<type 'list'> [0, 0, 0, 0, 0, 0, 0, 0, 0, 0]\n"
       ]
      }
     ],
     "prompt_number": 35
    },
    {
     "cell_type": "code",
     "collapsed": false,
     "input": [
      "a=[0,1,2,3,4,5,7,1,1]\n",
      "print len(a)\n",
      "print a.count(1)\n",
      "print a.index(7)"
     ],
     "language": "python",
     "metadata": {},
     "outputs": [
      {
       "output_type": "stream",
       "stream": "stdout",
       "text": [
        "9\n",
        "3\n",
        "6\n"
       ]
      }
     ],
     "prompt_number": 36
    },
    {
     "cell_type": "code",
     "collapsed": false,
     "input": [
      "a=[0,1,2,3,4,5,7,1,1]\n",
      "a.sort()\n",
      "print a\n",
      "a.reverse()\n",
      "print a"
     ],
     "language": "python",
     "metadata": {},
     "outputs": [
      {
       "output_type": "stream",
       "stream": "stdout",
       "text": [
        "[0, 1, 1, 1, 2, 3, 4, 5, 7]\n",
        "[7, 5, 4, 3, 2, 1, 1, 1, 0]\n"
       ]
      }
     ],
     "prompt_number": 37
    },
    {
     "cell_type": "code",
     "collapsed": false,
     "input": [
      "a=[2,3,4,5]\n",
      "print a\n",
      "a.insert(0,1)\n",
      "print a\n",
      "a.remove(1)\n",
      "print a\n",
      "print a.pop(), a\n",
      "print a.pop(1), a"
     ],
     "language": "python",
     "metadata": {},
     "outputs": [
      {
       "output_type": "stream",
       "stream": "stdout",
       "text": [
        "[2, 3, 4, 5]\n",
        "[1, 2, 3, 4, 5]\n",
        "[2, 3, 4, 5]\n",
        "5 [2, 3, 4]\n",
        "3 [2, 4]\n"
       ]
      }
     ],
     "prompt_number": 38
    },
    {
     "cell_type": "code",
     "collapsed": false,
     "input": [
      "a=[1,2]\n",
      "a.append([3,4,5])\n",
      "print a\n",
      "b=[1,2]\n",
      "b.extend([3,4,5])\n",
      "print b"
     ],
     "language": "python",
     "metadata": {},
     "outputs": [
      {
       "output_type": "stream",
       "stream": "stdout",
       "text": [
        "[1, 2, [3, 4, 5]]\n",
        "[1, 2, 3, 4, 5]\n"
       ]
      }
     ],
     "prompt_number": 39
    },
    {
     "cell_type": "heading",
     "level": 1,
     "metadata": {},
     "source": [
      "4.\uc790\ub8cc\ud615-Set"
     ]
    },
    {
     "cell_type": "code",
     "collapsed": false,
     "input": [
      "a=[1,1,2,3]\n",
      "print type(a), a\n",
      "b=set(a)\n",
      "print type(b), b\n",
      "c=set([])\n",
      "print type(c), c"
     ],
     "language": "python",
     "metadata": {},
     "outputs": [
      {
       "output_type": "stream",
       "stream": "stdout",
       "text": [
        "<type 'list'> [1, 1, 2, 3]\n",
        "<type 'set'> set([1, 2, 3])\n",
        "<type 'set'> set([])\n"
       ]
      }
     ],
     "prompt_number": 40
    },
    {
     "cell_type": "code",
     "collapsed": false,
     "input": [
      "a=set([1,2,3])\n",
      "b=set([3,4,5])\n",
      "# print a+b"
     ],
     "language": "python",
     "metadata": {},
     "outputs": [],
     "prompt_number": 41
    },
    {
     "cell_type": "code",
     "collapsed": false,
     "input": [
      "a=set([1,2,3])\n",
      "b=set([3,4,5])\n",
      "print a|b\n",
      "print a&b\n",
      "print a-b"
     ],
     "language": "python",
     "metadata": {},
     "outputs": [
      {
       "output_type": "stream",
       "stream": "stdout",
       "text": [
        "set([1, 2, 3, 4, 5])\n",
        "set([3])\n",
        "set([1, 2])\n"
       ]
      }
     ],
     "prompt_number": 42
    },
    {
     "cell_type": "code",
     "collapsed": false,
     "input": [
      "a=set([1,2,3])\n",
      "a.add(4)\n",
      "print a\n",
      "b=set([5,6])\n",
      "a.update(b)\n",
      "print a\n",
      "a.remove(4)\n",
      "print a"
     ],
     "language": "python",
     "metadata": {},
     "outputs": [
      {
       "output_type": "stream",
       "stream": "stdout",
       "text": [
        "set([1, 2, 3, 4])\n",
        "set([1, 2, 3, 4, 5, 6])\n",
        "set([1, 2, 3, 5, 6])\n"
       ]
      }
     ],
     "prompt_number": 43
    },
    {
     "cell_type": "heading",
     "level": 1,
     "metadata": {},
     "source": [
      "4.\uc790\ub8cc\ud615-Dictionary"
     ]
    },
    {
     "cell_type": "code",
     "collapsed": false,
     "input": [
      "a=dict()\n",
      "a['one']=1\n",
      "print type(a), a\n",
      "print a['one']"
     ],
     "language": "python",
     "metadata": {},
     "outputs": [
      {
       "output_type": "stream",
       "stream": "stdout",
       "text": [
        "<type 'dict'> {'one': 1}\n",
        "1\n"
       ]
      }
     ],
     "prompt_number": 44
    },
    {
     "cell_type": "code",
     "collapsed": false,
     "input": [
      "a={'one':1, 'two':2, 'python':'study'}\n",
      "print type(a), a\n",
      "print a.keys()\n",
      "print a.values()"
     ],
     "language": "python",
     "metadata": {},
     "outputs": [
      {
       "output_type": "stream",
       "stream": "stdout",
       "text": [
        "<type 'dict'> {'python': 'study', 'two': 2, 'one': 1}\n",
        "['python', 'two', 'one']\n",
        "['study', 2, 1]\n"
       ]
      }
     ],
     "prompt_number": 45
    },
    {
     "cell_type": "code",
     "collapsed": false,
     "input": [
      "a={'one':1, 'two':2, 'python':'study'}\n",
      "print a.get('one')\n",
      "print a.get('ten')\n",
      "print a.get('ten', 10)\n",
      "#print a['ten']"
     ],
     "language": "python",
     "metadata": {},
     "outputs": [
      {
       "output_type": "stream",
       "stream": "stdout",
       "text": [
        "1\n",
        "None\n",
        "10\n"
       ]
      }
     ],
     "prompt_number": 46
    },
    {
     "cell_type": "code",
     "collapsed": false,
     "input": [
      "a={'one':1, 'two':2, 'python':'study'}\n",
      "print 'one' in a\n",
      "print 'ten' in a"
     ],
     "language": "python",
     "metadata": {},
     "outputs": [
      {
       "output_type": "stream",
       "stream": "stdout",
       "text": [
        "True\n",
        "False\n"
       ]
      }
     ],
     "prompt_number": 47
    },
    {
     "cell_type": "heading",
     "level": 1,
     "metadata": {},
     "source": [
      "\n",
      "4.\uc790\ub8cc\ud615-Variable"
     ]
    },
    {
     "cell_type": "code",
     "collapsed": false,
     "input": [
      "a='3'\n",
      "print type(a), id(a), a\n",
      "b='3'\n",
      "print type(b), id(b), b\n",
      "print a is b\n",
      "a=3\n",
      "b=3\n",
      "print a is b\n",
      "a=(3)\n",
      "b=(3)\n",
      "print a is b"
     ],
     "language": "python",
     "metadata": {},
     "outputs": [
      {
       "output_type": "stream",
       "stream": "stdout",
       "text": [
        "<type 'str'> 4331865032 3\n",
        "<type 'str'> 4331865032 3\n",
        "True\n",
        "True\n",
        "True\n"
       ]
      }
     ],
     "prompt_number": 48
    },
    {
     "cell_type": "code",
     "collapsed": false,
     "input": [
      "a=list([3])\n",
      "b=list([3])\n",
      "print type(a), id(a), a\n",
      "print type(b), id(b), b\n",
      "print a is b\n",
      "a=set([3])\n",
      "b=set([3])\n",
      "print a is b\n",
      "a={'key':'value'}\n",
      "b={'key':'value'}\n",
      "print a is b"
     ],
     "language": "python",
     "metadata": {},
     "outputs": [
      {
       "output_type": "stream",
       "stream": "stdout",
       "text": [
        "<type 'list'> 4405326336 [3]\n",
        "<type 'list'> 4405326264 [3]\n",
        "False\n",
        "False\n",
        "False\n"
       ]
      }
     ],
     "prompt_number": 49
    },
    {
     "cell_type": "code",
     "collapsed": false,
     "input": [
      "a,b='python', 'study'\n",
      "(a,b)=('python','study')\n",
      "t,l=type(a), len(a)\n",
      "print t,l"
     ],
     "language": "python",
     "metadata": {},
     "outputs": [
      {
       "output_type": "stream",
       "stream": "stdout",
       "text": [
        "<type 'str'> 6\n"
       ]
      }
     ],
     "prompt_number": 50
    },
    {
     "cell_type": "code",
     "collapsed": false,
     "input": [
      "a,b='a','b'\n",
      "a,b=b,a\n",
      "print a,b"
     ],
     "language": "python",
     "metadata": {},
     "outputs": [
      {
       "output_type": "stream",
       "stream": "stdout",
       "text": [
        "b a\n"
       ]
      }
     ],
     "prompt_number": 51
    },
    {
     "cell_type": "code",
     "collapsed": false,
     "input": [
      "a=[1,2,3]\n",
      "b=a[:]\n",
      "print id(a), a\n",
      "print id(b), b"
     ],
     "language": "python",
     "metadata": {},
     "outputs": [
      {
       "output_type": "stream",
       "stream": "stdout",
       "text": [
        "4392868680 [1, 2, 3]\n",
        "4404539760 [1, 2, 3]\n"
       ]
      }
     ],
     "prompt_number": 52
    },
    {
     "cell_type": "heading",
     "level": 1,
     "metadata": {},
     "source": [
      "5.\uc81c\uc5b4\ubb38-if"
     ]
    },
    {
     "cell_type": "code",
     "collapsed": false,
     "input": [
      "a=10\n",
      "if a==10:\n",
      "    print 'a is ten.'\n",
      "else:\n",
      "    print 'a is not ten.'"
     ],
     "language": "python",
     "metadata": {},
     "outputs": [
      {
       "output_type": "stream",
       "stream": "stdout",
       "text": [
        "a is ten.\n"
       ]
      }
     ],
     "prompt_number": 53
    },
    {
     "cell_type": "code",
     "collapsed": false,
     "input": [
      "if type('a') is str:\n",
      "    print 'a is str type.'\n",
      "if type(1) is int:\n",
      "    print '1 is int type.'\n",
      "if type(12345678901234567890) is long:\n",
      "    print '1234567890 is long type.'\n",
      "if type(1.0) is float:\n",
      "    print '1.0 is float type.'"
     ],
     "language": "python",
     "metadata": {},
     "outputs": [
      {
       "output_type": "stream",
       "stream": "stdout",
       "text": [
        "a is str type.\n",
        "1 is int type.\n",
        "1234567890 is long type.\n",
        "1.0 is float type.\n"
       ]
      }
     ],
     "prompt_number": 54
    },
    {
     "cell_type": "code",
     "collapsed": false,
     "input": [
      "a=False\n",
      "if not a:\n",
      "    print 'a is False'\n",
      "if a is False:\n",
      "    print 'a is False'"
     ],
     "language": "python",
     "metadata": {},
     "outputs": [
      {
       "output_type": "stream",
       "stream": "stdout",
       "text": [
        "a is False\n",
        "a is False\n"
       ]
      }
     ],
     "prompt_number": 55
    },
    {
     "cell_type": "code",
     "collapsed": false,
     "input": [
      "a=10\n",
      "b='b'\n",
      "if a==10 and b=='b':\n",
      "    print 'a==10 and b==\"b\"'\n",
      "if a==1 or b=='b':\n",
      "    print 'a==1 or b==\"b\"'"
     ],
     "language": "python",
     "metadata": {},
     "outputs": [
      {
       "output_type": "stream",
       "stream": "stdout",
       "text": [
        "a==10 and b==\"b\"\n",
        "a==1 or b==\"b\"\n"
       ]
      }
     ],
     "prompt_number": 56
    },
    {
     "cell_type": "code",
     "collapsed": false,
     "input": [
      "a=[1,2,3]\n",
      "if 1 in a:\n",
      "    print '1 in [1,2,3]'\n",
      "if 4 not in a:\n",
      "    print '4 not in[1,2,3]'"
     ],
     "language": "python",
     "metadata": {},
     "outputs": [
      {
       "output_type": "stream",
       "stream": "stdout",
       "text": [
        "1 in [1,2,3]\n",
        "4 not in[1,2,3]\n"
       ]
      }
     ],
     "prompt_number": 57
    },
    {
     "cell_type": "code",
     "collapsed": false,
     "input": [
      "a=10\n",
      "if a==1:\n",
      "    print 'a is 1'\n",
      "elif a==10:\n",
      "    pass\n",
      "elif a==9:\n",
      "    print 'a is 9.'"
     ],
     "language": "python",
     "metadata": {},
     "outputs": [],
     "prompt_number": 58
    },
    {
     "cell_type": "heading",
     "level": 1,
     "metadata": {},
     "source": [
      "5.\uc81c\uc5b4\ubb38-while"
     ]
    },
    {
     "cell_type": "code",
     "collapsed": false,
     "input": [
      "a=0\n",
      "while True:\n",
      "    a+=1\n",
      "    if a<=4:\n",
      "        continue\n",
      "    print a\n",
      "    if a>=10:\n",
      "        break"
     ],
     "language": "python",
     "metadata": {},
     "outputs": [
      {
       "output_type": "stream",
       "stream": "stdout",
       "text": [
        "5\n",
        "6\n",
        "7\n",
        "8\n",
        "9\n",
        "10\n"
       ]
      }
     ],
     "prompt_number": 59
    },
    {
     "cell_type": "code",
     "collapsed": false,
     "input": [
      "for i in [1,2,3,4,5]:\n",
      "    print i"
     ],
     "language": "python",
     "metadata": {},
     "outputs": [
      {
       "output_type": "stream",
       "stream": "stdout",
       "text": [
        "1\n",
        "2\n",
        "3\n",
        "4\n",
        "5\n"
       ]
      }
     ],
     "prompt_number": 60
    },
    {
     "cell_type": "code",
     "collapsed": false,
     "input": [
      "for i in range(1,6):\n",
      "    print i"
     ],
     "language": "python",
     "metadata": {},
     "outputs": [
      {
       "output_type": "stream",
       "stream": "stdout",
       "text": [
        "1\n",
        "2\n",
        "3\n",
        "4\n",
        "5\n"
       ]
      }
     ],
     "prompt_number": 61
    },
    {
     "cell_type": "code",
     "collapsed": false,
     "input": [
      "print [(a,b,a*b) for a in range(2,10) for b in range(2,10)]"
     ],
     "language": "python",
     "metadata": {},
     "outputs": [
      {
       "output_type": "stream",
       "stream": "stdout",
       "text": [
        "[(2, 2, 4), (2, 3, 6), (2, 4, 8), (2, 5, 10), (2, 6, 12), (2, 7, 14), (2, 8, 16), (2, 9, 18), (3, 2, 6), (3, 3, 9), (3, 4, 12), (3, 5, 15), (3, 6, 18), (3, 7, 21), (3, 8, 24), (3, 9, 27), (4, 2, 8), (4, 3, 12), (4, 4, 16), (4, 5, 20), (4, 6, 24), (4, 7, 28), (4, 8, 32), (4, 9, 36), (5, 2, 10), (5, 3, 15), (5, 4, 20), (5, 5, 25), (5, 6, 30), (5, 7, 35), (5, 8, 40), (5, 9, 45), (6, 2, 12), (6, 3, 18), (6, 4, 24), (6, 5, 30), (6, 6, 36), (6, 7, 42), (6, 8, 48), (6, 9, 54), (7, 2, 14), (7, 3, 21), (7, 4, 28), (7, 5, 35), (7, 6, 42), (7, 7, 49), (7, 8, 56), (7, 9, 63), (8, 2, 16), (8, 3, 24), (8, 4, 32), (8, 5, 40), (8, 6, 48), (8, 7, 56), (8, 8, 64), (8, 9, 72), (9, 2, 18), (9, 3, 27), (9, 4, 36), (9, 5, 45), (9, 6, 54), (9, 7, 63), (9, 8, 72), (9, 9, 81)]\n"
       ]
      }
     ],
     "prompt_number": 62
    },
    {
     "cell_type": "code",
     "collapsed": false,
     "input": [
      "sum=0\n",
      "for i in range(1,100+1):\n",
      "    sum+=i\n",
      "print sum"
     ],
     "language": "python",
     "metadata": {},
     "outputs": [
      {
       "output_type": "stream",
       "stream": "stdout",
       "text": [
        "5050\n"
       ]
      }
     ],
     "prompt_number": 63
    },
    {
     "cell_type": "heading",
     "level": 1,
     "metadata": {},
     "source": [
      "6.\uc785\ucd9c\ub825-\ud568\uc218"
     ]
    },
    {
     "cell_type": "code",
     "collapsed": false,
     "input": [
      "def sum(a,b):\n",
      "    return a+b\n",
      "print sum(1,2)\n",
      "print sum(a=1, b=2)"
     ],
     "language": "python",
     "metadata": {},
     "outputs": [
      {
       "output_type": "stream",
       "stream": "stdout",
       "text": [
        "3\n",
        "3\n"
       ]
      }
     ],
     "prompt_number": 64
    },
    {
     "cell_type": "code",
     "collapsed": false,
     "input": [
      "def sum(a,b=0,c=0,d=0):\n",
      "    return a+b+c+d\n",
      "    print sum(b=2)\n",
      "print sum(1)\n",
      "print sum(1,1,1,1)\n",
      "print sum(1,c=1)\n",
      "print sum(d=1,a=1,b=1,c=1)\n",
      "# print sum()\n",
      "# print sum(c=2)"
     ],
     "language": "python",
     "metadata": {},
     "outputs": [
      {
       "output_type": "stream",
       "stream": "stdout",
       "text": [
        "1\n",
        "4\n",
        "2\n",
        "4\n"
       ]
      }
     ],
     "prompt_number": 65
    },
    {
     "cell_type": "code",
     "collapsed": false,
     "input": [
      "def sum_and_mul(a,b):\n",
      "    return a+b, a*b\n",
      "print sum_and_mul(1,2)"
     ],
     "language": "python",
     "metadata": {},
     "outputs": [
      {
       "output_type": "stream",
       "stream": "stdout",
       "text": [
        "(3, 2)\n"
       ]
      }
     ],
     "prompt_number": 66
    },
    {
     "cell_type": "code",
     "collapsed": false,
     "input": [
      "def user(name, sex='\ub0a8'):\n",
      "    return '%s, %s' % (name, sex)\n",
      "print user('\uac15\uc7ac\ud638','\ub0a8')\n",
      "print user('\ubc15\ud61c\uc6c5')"
     ],
     "language": "python",
     "metadata": {},
     "outputs": [
      {
       "output_type": "stream",
       "stream": "stdout",
       "text": [
        "\uac15\uc7ac\ud638, \ub0a8\n",
        "\ubc15\ud61c\uc6c5, \ub0a8\n"
       ]
      }
     ],
     "prompt_number": 67
    },
    {
     "cell_type": "code",
     "collapsed": false,
     "input": [
      "a=3\n",
      "def global_func():\n",
      "    print a\n",
      "global_func()"
     ],
     "language": "python",
     "metadata": {},
     "outputs": [
      {
       "output_type": "stream",
       "stream": "stdout",
       "text": [
        "3\n"
       ]
      }
     ],
     "prompt_number": 68
    },
    {
     "cell_type": "code",
     "collapsed": false,
     "input": [
      "def multi_args(li):\n",
      "    print type(li), li\n",
      "    for i in li:\n",
      "        print i\n",
      "def multi_args2(*li):\n",
      "    print type(li), li\n",
      "    for i in li:\n",
      "        print i\n",
      "a=[1,2,3]\n",
      "multi_args(a)\n",
      "multi_args2(a)\n",
      "multi_args2(*a)"
     ],
     "language": "python",
     "metadata": {},
     "outputs": [
      {
       "output_type": "stream",
       "stream": "stdout",
       "text": [
        "<type 'list'> [1, 2, 3]\n",
        "1\n",
        "2\n",
        "3\n",
        "<type 'tuple'> ([1, 2, 3],)\n",
        "[1, 2, 3]\n",
        "<type 'tuple'> (1, 2, 3)\n",
        "1\n",
        "2\n",
        "3\n"
       ]
      }
     ],
     "prompt_number": 69
    },
    {
     "cell_type": "code",
     "collapsed": false,
     "input": [
      "\n",
      "def multi_args3(**d):\n",
      "    print type(d), d\n",
      "multi_args3(a=1, b=2)"
     ],
     "language": "python",
     "metadata": {},
     "outputs": [
      {
       "output_type": "stream",
       "stream": "stdout",
       "text": [
        "<type 'dict'> {'a': 1, 'b': 2}\n"
       ]
      }
     ],
     "prompt_number": 70
    },
    {
     "cell_type": "heading",
     "level": 1,
     "metadata": {},
     "source": [
      "6.\uc785\ucd9c\ub825-file"
     ]
    },
    {
     "cell_type": "code",
     "collapsed": false,
     "input": [
      "!cat a.txt"
     ],
     "language": "python",
     "metadata": {},
     "outputs": [
      {
       "output_type": "stream",
       "stream": "stdout",
       "text": [
        "a\r\n",
        "b\r\n",
        "c\r\n"
       ]
      }
     ],
     "prompt_number": 71
    },
    {
     "cell_type": "code",
     "collapsed": false,
     "input": [
      "f=open('a.txt','r')\n",
      "for line in f.readlines():\n",
      "    print line\n",
      "f.close()"
     ],
     "language": "python",
     "metadata": {},
     "outputs": [
      {
       "output_type": "stream",
       "stream": "stdout",
       "text": [
        "a\n",
        "\n",
        "b\n",
        "\n",
        "c\n",
        "\n"
       ]
      }
     ],
     "prompt_number": 72
    },
    {
     "cell_type": "code",
     "collapsed": false,
     "input": [
      "f=open('a.txt','r')\n",
      "for line in f.readlines():\n",
      "    print line.rstrip()\n",
      "f.close()"
     ],
     "language": "python",
     "metadata": {},
     "outputs": [
      {
       "output_type": "stream",
       "stream": "stdout",
       "text": [
        "a\n",
        "b\n",
        "c\n"
       ]
      }
     ],
     "prompt_number": 73
    },
    {
     "cell_type": "code",
     "collapsed": false,
     "input": [
      "with open('a.txt','r') as f:\n",
      "    for line in f.readlines():\n",
      "        print line.rstrip()"
     ],
     "language": "python",
     "metadata": {},
     "outputs": [
      {
       "output_type": "stream",
       "stream": "stdout",
       "text": [
        "a\n",
        "b\n",
        "c\n"
       ]
      }
     ],
     "prompt_number": 74
    },
    {
     "cell_type": "code",
     "collapsed": false,
     "input": [
      "a=[4,5,6]\n",
      "with open('b.txt','w') as f:\n",
      "    for i in a:\n",
      "        f.write(str(i))\n",
      "        f.write('\\n')"
     ],
     "language": "python",
     "metadata": {},
     "outputs": [],
     "prompt_number": 75
    },
    {
     "cell_type": "code",
     "collapsed": false,
     "input": [
      "!cat b.txt"
     ],
     "language": "python",
     "metadata": {},
     "outputs": [
      {
       "output_type": "stream",
       "stream": "stdout",
       "text": [
        "4\r\n",
        "5\r\n",
        "6\r\n"
       ]
      }
     ],
     "prompt_number": 76
    },
    {
     "cell_type": "code",
     "collapsed": false,
     "input": [],
     "language": "python",
     "metadata": {},
     "outputs": [],
     "prompt_number": 76
    }
   ],
   "metadata": {}
  }
 ]
}